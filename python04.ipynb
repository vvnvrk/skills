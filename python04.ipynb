{
 "cells": [
  {
   "cell_type": "markdown",
   "metadata": {},
   "source": [
    "## Циклы"
   ]
  },
  {
   "cell_type": "markdown",
   "metadata": {},
   "source": [
    "### Цикл for"
   ]
  },
  {
   "cell_type": "markdown",
   "metadata": {},
   "source": [
    "Для работы с циклом for используется следующая конструкция:"
   ]
  },
  {
   "cell_type": "code",
   "execution_count": null,
   "metadata": {},
   "outputs": [],
   "source": [
    "iterator = list()        # любой итерируемый тип данных\n",
    "for value in iterator:\n",
    "    # Начало блока кода с телом цикла\n",
    "    ...\n",
    "    ...\n",
    "    ...\n",
    "    # Конец блока кода с телом цикла\n",
    "# Код, который будет выполняться после цикла"
   ]
  },
  {
   "cell_type": "markdown",
   "metadata": {},
   "source": [
    "Условие задачи. Дан список доходов членов семьи Быковых (в тысячах рублей).   \n",
    "incomes = [120, 38.5, 40.5, 80]   \n",
    "Необходимо найти общий доход семьи."
   ]
  },
  {
   "cell_type": "code",
   "execution_count": 1,
   "metadata": {},
   "outputs": [
    {
     "name": "stdout",
     "output_type": "stream",
     "text": [
      "Current income 120\n",
      "Current S 0\n",
      "New S 120\n",
      "\n",
      "Current income 38.5\n",
      "Current S 120\n",
      "New S 158.5\n",
      "\n",
      "Current income 40.5\n",
      "Current S 158.5\n",
      "New S 199.0\n",
      "\n",
      "Current income 80\n",
      "Current S 199.0\n",
      "New S 279.0\n",
      "\n",
      "Answer: s= 279.0\n"
     ]
    }
   ],
   "source": [
    "# Задаём список доходов семьи Быковых\n",
    "incomes = [120, 38.5, 40.5, 80]\n",
    "\n",
    "\n",
    "# Задаём начальное значение суммы доходов \n",
    "S = 0 \n",
    "# Создаём цикл for, в котором будем проходиться по элементам списка incomes.\n",
    "# income — текущее значение элемента списка\n",
    "for income in incomes: \n",
    "    # Выводим текущее значение переменной income\n",
    "    print('Current income', income)   \n",
    "    # Выводим текущее значение переменной S  \n",
    "    print('Current S', S) \n",
    "    # Увеличиваем сумму доходов на значение income\n",
    "    # Равносильно S = S + income\n",
    "    S += income \n",
    "    # Выводим обновлённое значение переменной S\n",
    "    print('New S', S)\n",
    "    # Выводим пустую строку для красивого отображения \n",
    "    print() \n",
    "# Выводим результат \n",
    "print('Answer: s=', S) "
   ]
  },
  {
   "cell_type": "markdown",
   "metadata": {},
   "source": [
    "Напишите программу, которая находит произведение элементов списка num_list. В качестве начального значения произведения задайте 1. Далее в цикле перебирайте элементы списка num_list и умножайте значение произведения на элемент списка. Результирующее произведение занесите в переменную p."
   ]
  },
  {
   "cell_type": "code",
   "execution_count": 3,
   "metadata": {},
   "outputs": [
    {
     "name": "stdout",
     "output_type": "stream",
     "text": [
      "13.65\n"
     ]
    }
   ],
   "source": [
    "num_list = [1, 10, 0.5, 21, 0.13]\n",
    "p = 1\n",
    "for s in num_list:\n",
    "    p *= s\n",
    "print(p)"
   ]
  },
  {
   "cell_type": "markdown",
   "metadata": {},
   "source": [
    "В математике факториал числа n — это произведение чисел от 1 до n включительно. Это записывается как:   \n",
    "n! = 1 · 2 · 3 · ... · (n-1) · n  \n",
    "Например:  \n",
    "3! = 1 · 2 · 3 = 6  \n",
    "5! = 1 · 2 · 3 · 4 · 5 = 120  \n",
    "Факториал часто применяется в высшей математике, например в комбинаторике, теории вероятностей и дифференциальном исчислении. В переменной n хранится натуральное число. Напишите программу для вычисления факториала числа n. Результат запишите в переменную p."
   ]
  },
  {
   "cell_type": "code",
   "execution_count": 4,
   "metadata": {},
   "outputs": [
    {
     "name": "stdout",
     "output_type": "stream",
     "text": [
      "3628800\n"
     ]
    }
   ],
   "source": [
    "n = 10\n",
    "p = 1\n",
    "for i in range(1, n+1):\n",
    "    p *= i\n",
    "print(p)"
   ]
  },
  {
   "cell_type": "markdown",
   "metadata": {},
   "source": [
    "Напишите программу, которая будет печатать «лесенку» из символов '*' в зависимости от значения переменной n. Число n может быть любым натуральным числом (1, 2, 3…) и задаётся внешней программой при тестировании."
   ]
  },
  {
   "cell_type": "code",
   "execution_count": 5,
   "metadata": {},
   "outputs": [
    {
     "name": "stdout",
     "output_type": "stream",
     "text": [
      "*\n",
      "**\n",
      "***\n",
      "****\n"
     ]
    }
   ],
   "source": [
    "n = 4\n",
    "s = ''\n",
    "for i in range(1, n+1):\n",
    "    s+='*'\n",
    "    print(s)"
   ]
  },
  {
   "cell_type": "markdown",
   "metadata": {},
   "source": [
    "#### Цикл по элементам списка"
   ]
  },
  {
   "cell_type": "markdown",
   "metadata": {},
   "source": [
    "**Условие задачи.** Представим, что мы пишем программу для компании, занимающейся грузоперевозками. В нашем распоряжении есть список масс товаров,      предназначенных для перевозки (в килограммах). Согласно нашим данным, товары, которые весят больше 100 килограммов, необходимо перевозить на грузовой           машине, а товары меньшей массы можно перевезти на легковой. Необходимо написать алгоритм, который распределял бы товары по типам машин."
   ]
  },
  {
   "cell_type": "code",
   "execution_count": 6,
   "metadata": {},
   "outputs": [
    {
     "name": "stdout",
     "output_type": "stream",
     "text": [
      "Product 1, weight: 10 -passenger car\n",
      "Product 2, weight: 42.4 -passenger car\n",
      "Product 3, weight: 240.1 -truck\n",
      "Product 4, weight: 101.5 -truck\n",
      "Product 5, weight: 98 -passenger car\n",
      "Product 6, weight: 0.4 -passenger car\n",
      "Product 7, weight: 0.3 -passenger car\n",
      "Product 8, weight: 15 -passenger car\n"
     ]
    }
   ],
   "source": [
    "# Задаём список значений массы товаров\n",
    "weight_of_products = [10, 42.4, 240.1, 101.5, 98, 0.4, 0.3, 15] \n",
    "# Задаём максимальное значение веса груза\n",
    "max_weight = 100 \n",
    "# Задаём начальный номер груза\n",
    "num = 1 \n",
    "# Создаём цикл по элементам списка со значениями массы товаров\n",
    "# weight — текущее значение веса\n",
    "for weight in weight_of_products: \n",
    "    # Если текущий вес меньше максимального,\n",
    "    if weight < max_weight: \n",
    "        # выводим номер груза, его вес и отправляем его в легковую машину.\n",
    "        print('Product {}, weight: {} -passenger car'.format(num, weight)) \n",
    "    else:\n",
    "        # В противном случае\n",
    "        # выводим номер груза, его вес и отправляем его в грузовую машину.\n",
    "        print('Product {}, weight: {} -truck'.format(num, weight))\n",
    "    # Увеличиваем значение номера груза на 1\n",
    "    num += 1"
   ]
  },
  {
   "cell_type": "markdown",
   "metadata": {},
   "source": [
    "#### Цикл по индексам цикла"
   ]
  },
  {
   "cell_type": "code",
   "execution_count": null,
   "metadata": {},
   "outputs": [],
   "source": [
    "# Задаём список значений массы товаров\n",
    "weight_of_products = [10, 42.4, 240.1, 101.5, 98, 0.4, 0.3, 15] \n",
    "# Задаём максимальное значение веса груза\n",
    "max_weight = 100 \n",
    "# Вычисляем длину списка\n",
    "N = len(weight_of_products) \n",
    "# Создаём цикл по последовательности чисел от 0 до N (не включая N)\n",
    "# i — текущее значение последовательности\n",
    "for i in range(N): \n",
    "    # Обращаемся к элементу по индексу и сравниваем его с максимумом\n",
    "    if weight_of_products[i] < max_weight:\n",
    "        # Если текущий вес меньше максимального,\n",
    "        # выводим номер груза, его массу и отправляем его в легковую машину.\n",
    "        print('Product {}, weight: {} -passenger car'.format(i+1, weight_of_products[i])) \n",
    "    else:\n",
    "        # В противном случае\n",
    "        # выводим номер груза, его массу и отправляем его в грузовую машину\n",
    "        print('Product {}, weight: {} -truck'.format(i+1, weight_of_products[i]))"
   ]
  },
  {
   "cell_type": "markdown",
   "metadata": {},
   "source": [
    "Вам задан список num_list, состоящий из чисел (int и float) например:   \n",
    "    num_list = [1, 10, 3, -5].   \n",
    "Отсортируйте его с помощью метода sort() для списков, а затем последовательно выведите на экран элементы этого списка с помощью цикла for в следующем формате: \"element {i}: {elem}\", где i - индекс элемента в списке, elem - элемент."
   ]
  },
  {
   "cell_type": "code",
   "execution_count": 7,
   "metadata": {},
   "outputs": [
    {
     "name": "stdout",
     "output_type": "stream",
     "text": [
      "element 0: -5\n",
      "element 1: 1\n",
      "element 2: 3\n",
      "element 3: 10\n"
     ]
    }
   ],
   "source": [
    "num_list = [1, 10, 3, -5]\n",
    "num_list.sort()\n",
    "for i in range(len(num_list)):\n",
    "    print(f'element {i}: {num_list[i]}')"
   ]
  },
  {
   "cell_type": "markdown",
   "metadata": {},
   "source": [
    "Дан список num_list, состоящий из целых чисел (int). Например:  \n",
    "num_list = list(range(0, 100, 3))     \n",
    "С помощью цикла for посчитайте количество чётных элементов в списке. Результат запишите в переменную count_even."
   ]
  },
  {
   "cell_type": "code",
   "execution_count": 8,
   "metadata": {},
   "outputs": [
    {
     "name": "stdout",
     "output_type": "stream",
     "text": [
      "17\n"
     ]
    }
   ],
   "source": [
    "num_list = list(range(0, 100, 3))\n",
    "count_even = 0\n",
    "for num in num_list:\n",
    "    if num % 2 == 0:\n",
    "        count_even += 1\n",
    "print(count_even)"
   ]
  },
  {
   "cell_type": "markdown",
   "metadata": {},
   "source": [
    "Дан список mixture_list, элементами которого могут являться любые типы данных Python. Например:  \n",
    "mixture_list = [True, 1, -10, 'hello', False, 'string_1', 123, 2.5, [1, 2], 'another']   \n",
    "С помощью цикла for посчитайте количество элементов типа str в списке. Результат запишите в переменную count_str."
   ]
  },
  {
   "cell_type": "code",
   "execution_count": 9,
   "metadata": {},
   "outputs": [
    {
     "name": "stdout",
     "output_type": "stream",
     "text": [
      "3\n"
     ]
    }
   ],
   "source": [
    "mixture_list = [True, 1, -10, 'hello', False, 'string_1', 123, 2.5, [1, 2], 'another'] \n",
    "count_str = 0\n",
    "for item_list in mixture_list:\n",
    "    if type(item_list) == type('str'):\n",
    "        count_str += 1\n",
    "print(count_str)"
   ]
  },
  {
   "cell_type": "markdown",
   "metadata": {},
   "source": [
    "Мы генерируем текст с помощью нейронной сети. В списке word_list в виде строк задана сгенерированная нейронной сетью последовательность слов. Например: word_list = [\"My\", \"name\", \"is\", \"Sergei\", \"EOS\", \"I'm\", \"from\", \"Moscow\", \"EOS\"]   \n",
    "Напишите программу для объединения строк из списка word_list в предложения. Гарантируется, что конец каждого предложения обозначается специальной последовательностью символов — \"EOS\" (End Of Sentence). Вместо этого символа в предложении ставится точка — \".\". Для простоты условимся, что другие знаки препинания (запятые, восклицательные знаки и т. д.) нейронная сеть генерировать не умеет. Для решения задачи воспользуйтесь циклом for. Результирующий текст запишите в переменную text.  \n",
    "**Примечание:** При составлении строки обратите внимание на то, как добавляется символ точки в конец предложения: пробел ставится только после точки, перед точкой пробела нет. Например, из строк \"My name is Sergei. I'm from Moscow.\" и \"My name is Sergei . I'm from Moscow .\" правильным будет первый вариант. Подумайте, как реализовать это в коде. В решении задачи вам помочь метод strip(), который удаляет лишние пробелы с левой и правой стороны от строки. Например:  \n",
    "string = \"     I'm from Moscow.   \"\n",
    "string = string.strip()  ##### string = \"I'm from Moscow.\""
   ]
  },
  {
   "cell_type": "code",
   "execution_count": 10,
   "metadata": {},
   "outputs": [
    {
     "name": "stdout",
     "output_type": "stream",
     "text": [
      "Человек он умный. Но чтоб умно поступать одного ума мало. \n"
     ]
    }
   ],
   "source": [
    "word_list = [\"Человек\", \"он\", \"умный\", \"EOS\", \"Но\", \"чтоб\", \"умно\", \"поступать\", \"одного\", \"ума\", \"мало\", \"EOS\"]\n",
    "text = ''\n",
    "for s in word_list:\n",
    "    if s == 'EOS':\n",
    "        text = text[:len(text)-1]\n",
    "        text = text + '. '\n",
    "    else:\n",
    "        text = text + s +' '\n",
    "print(text)"
   ]
  },
  {
   "cell_type": "markdown",
   "metadata": {},
   "source": [
    "### Цикл while"
   ]
  },
  {
   "cell_type": "markdown",
   "metadata": {},
   "source": [
    "#### **Цикл выполняется до тех пор, пока истинно его условие. Как только оно становится ложным, цикл прерывается.**"
   ]
  },
  {
   "cell_type": "markdown",
   "metadata": {},
   "source": [
    "**Условие задачи.** Пассажирский лифт имеет ограничение на перевозку — не более 400 кг единовременно. Пусть входящие в лифт люди имеют одинаковый вес (weight). Необходимо написать программу, которая должна следить за изменением нагрузки на лифт, сравнивать её с грузоподъёмностью и в случае перевеса выдавать предупреждение 'Overweight N kg'). Например, при перевесе в 15 кг должно быть выведено сообщение 'Overweight 15 kg'). Для данного примера вес заходящих людей зададим как weight = 67)."
   ]
  },
  {
   "cell_type": "code",
   "execution_count": 11,
   "metadata": {},
   "outputs": [
    {
     "name": "stdout",
     "output_type": "stream",
     "text": [
      "Current sum weight 67\n",
      "Current sum weight 134\n",
      "Current sum weight 201\n",
      "Current sum weight 268\n",
      "Current sum weight 335\n",
      "Current sum weight 402\n",
      "\n",
      "Overweight 2 kg\n"
     ]
    }
   ],
   "source": [
    "# Задаём вес входящего в лифт человека\n",
    "weight = 67 \n",
    "# Задаём грузоподъёмность\n",
    "max_weight = 400 \n",
    "# Задаём суммарный вес людей в лифте\n",
    "S = 0 \n",
    "# Создаём цикл, который будет работать, пока S не превысит max_weight. \n",
    "while S < max_weight: # делай, пока…\n",
    "    # Увеличиваем суммарный вес\n",
    "    # Равносильно S = S + weight \n",
    "    S += weight \n",
    "    # Выводим значение суммарного веса после обновления\n",
    "    print('Current sum weight', S) \n",
    "# Отделяем промежуточный вывод от результата пустой строкой\n",
    "print() \n",
    "# Выводим итоговое значение перевеса\n",
    "print('Overweight {} kg'.format(S - max_weight))"
   ]
  },
  {
   "cell_type": "markdown",
   "metadata": {},
   "source": [
    "Сосуд вмещает в себя ровно volume литров жидкости. Каждый раз в него вливается 0.0033 кубических метра жидкости. Понятно, что в какой-то момент сосуд наполнится до краёв, и жидкость начнёт выливаться из него. В тот момент, когда жидкость начинает выливаться (заполненный объём становится больше, чем вместимость сосуда), наполнение сосуда прекращается. С помощью цикла while опишите данный процесс и найдите, сколько литров жидкости выльется из сосуда. Результат запишите в переменную cost. Учтите, что 1 кубический метр равен 1 000 литрам (0.0033 * 1000 = 3.3)."
   ]
  },
  {
   "cell_type": "code",
   "execution_count": 12,
   "metadata": {},
   "outputs": [
    {
     "name": "stdout",
     "output_type": "stream",
     "text": [
      "3.1999999999999993\n"
     ]
    }
   ],
   "source": [
    "volume = 10\n",
    "cost = 0\n",
    "while cost <= volume:\n",
    "    cost = cost + 0.0033 * 1000\n",
    "cost = cost - volume\n",
    "print(cost)"
   ]
  },
  {
   "cell_type": "markdown",
   "metadata": {},
   "source": [
    "Условие задачи. Написать цикл, который будет складывать натуральные числа, пока их сумма не превысит 500. Натуральные числа — это числа 1, 2, 3, 4 и т. д."
   ]
  },
  {
   "cell_type": "code",
   "execution_count": 13,
   "metadata": {},
   "outputs": [
    {
     "name": "stdout",
     "output_type": "stream",
     "text": [
      "Still counting...\n",
      "Still counting...\n",
      "Still counting...\n",
      "Still counting...\n",
      "Still counting...\n",
      "Still counting...\n",
      "Still counting...\n",
      "Still counting...\n",
      "Still counting...\n",
      "Still counting...\n",
      "Still counting...\n",
      "Still counting...\n",
      "Still counting...\n",
      "Still counting...\n",
      "Still counting...\n",
      "Still counting...\n",
      "Still counting...\n",
      "Still counting...\n",
      "Still counting...\n",
      "Still counting...\n",
      "Still counting...\n",
      "Still counting...\n",
      "Still counting...\n",
      "Still counting...\n",
      "Still counting...\n",
      "Still counting...\n",
      "Still counting...\n",
      "Still counting...\n",
      "Still counting...\n",
      "Still counting...\n",
      "Still counting...\n",
      "Still counting...\n",
      "\n",
      "Sum is:  528\n",
      "Numbers total:  32\n"
     ]
    }
   ],
   "source": [
    "# Создаём накопительную переменную, в которой будем считать сумму.\n",
    "S = 0  \n",
    "# Задаём текущее натуральное число\n",
    "n = 1  \n",
    "# Создаём цикл, который будет работать, пока сумма не превысит 500.\n",
    "while S < 500:  # делай, пока …\n",
    "    # Увеличиваем сумму, равносильно S = S + n\n",
    "    S += n\n",
    "    # Увеличиваем значение натурального числа  \n",
    "    n += 1  \n",
    "    # Выводим строку ожидания\n",
    "    print(\"Still counting...\") \n",
    "# Отделяем промежуточный вывод от результата пустой строкой\n",
    "print() \n",
    "# Выводим результирующую сумму\n",
    "print(\"Sum is: \", S) \n",
    "# Выводим результирующее количество чисел\n",
    "print(\"Numbers total: \", n-1)"
   ]
  },
  {
   "cell_type": "markdown",
   "metadata": {},
   "source": [
    "Напишите цикл while, который находит минимальное натуральное число number, квадрат которого больше некоторого заданного value. Результирующий ответ запишите в переменную number."
   ]
  },
  {
   "cell_type": "code",
   "execution_count": 14,
   "metadata": {},
   "outputs": [
    {
     "name": "stdout",
     "output_type": "stream",
     "text": [
      "13\n"
     ]
    }
   ],
   "source": [
    "value = 159\n",
    "number = 1\n",
    "while number ** 2 < value:\n",
    "    number += 1\n",
    "print(number)"
   ]
  },
  {
   "cell_type": "markdown",
   "metadata": {},
   "source": [
    "Рассмотрим небольшой пример. Пусть у нас есть система контроля количества посетителей в магазине, максимальное количество покупателей — десять. Мы хотим увеличивать значение переменной n в бесконечном цикле, но если n превысит значение 10, то цикл необходимо прервать. Условие бесконечного цикла проще всего задать как булево значение True — в таком случае цикл будет выполняться всегда."
   ]
  },
  {
   "cell_type": "code",
   "execution_count": 15,
   "metadata": {},
   "outputs": [
    {
     "name": "stdout",
     "output_type": "stream",
     "text": [
      "New client !\n",
      "New client !\n",
      "New client !\n",
      "New client !\n",
      "New client !\n",
      "New client !\n",
      "New client !\n",
      "New client !\n",
      "New client !\n",
      "New client !\n"
     ]
    }
   ],
   "source": [
    "n = 1\n",
    "# В этой программе условие всегда True, цикл будет бесконечным.\n",
    "while True:  \n",
    "    print(\"New client !\")\n",
    "    n += 1\n",
    "    # Условие, при достижении которого цикл while будет принудительно завершён.\n",
    "    if n > 10:  \n",
    "        break"
   ]
  },
  {
   "cell_type": "markdown",
   "metadata": {},
   "source": [
    "Напишите бесконечный цикл while с условием выхода внутри цикла, который находит минимальное натуральное число, квадрат которого больше value. Запишите результат в переменную number."
   ]
  },
  {
   "cell_type": "code",
   "execution_count": 16,
   "metadata": {},
   "outputs": [
    {
     "name": "stdout",
     "output_type": "stream",
     "text": [
      "13\n"
     ]
    }
   ],
   "source": [
    "value = 159\n",
    "number = 1\n",
    "while True:\n",
    "    if number ** 2 > value:\n",
    "        break\n",
    "    number += 1\n",
    "print(number)"
   ]
  },
  {
   "cell_type": "markdown",
   "metadata": {},
   "source": [
    "Перед вами программа, которая должна вывести слово 'Hello' n раз. Переменная n задаётся извне и может быть любым числом:   \n",
    "i = 0  \n",
    "while i < n:  \n",
    "    print('Hello')  \n",
    "Однако сейчас эта программа работает некорректно: она бесконечно выводит слово 'Hello' на экран. Исправьте программу, добавив в неё недостающую строку"
   ]
  },
  {
   "cell_type": "code",
   "execution_count": 17,
   "metadata": {},
   "outputs": [
    {
     "name": "stdout",
     "output_type": "stream",
     "text": [
      "Hello\n",
      "Hello\n",
      "Hello\n"
     ]
    }
   ],
   "source": [
    "n = 3\n",
    "i = 0\n",
    "while i < n:\n",
    "    print('Hello')\n",
    "    i += 1"
   ]
  },
  {
   "cell_type": "markdown",
   "metadata": {},
   "source": [
    "Начинающий программист написал программу, которая находит наименьшее натуральное число x, квадрат которого нацело делится на число n, и выводит его на экран. Значение переменной n задаётся внешней программой, поэтому может быть любым. Однако код содержит ряд ошибок. Найдите и исправьте их:"
   ]
  },
  {
   "cell_type": "code",
   "execution_count": 18,
   "metadata": {},
   "outputs": [
    {
     "name": "stdout",
     "output_type": "stream",
     "text": [
      "78\n"
     ]
    }
   ],
   "source": [
    "n = 156\n",
    "x = 1\n",
    "while x ** 2 % n != 0:\n",
    "    x += 1\n",
    "print(x)"
   ]
  },
  {
   "cell_type": "markdown",
   "metadata": {},
   "source": [
    "Напишите цикл while, который вычисляет произведение натуральных чисел (1 * 2 * 3 * 4 * ...). Цикл должен выполняться до тех пор, пока значение произведения не превысит число value. Результирующее произведение запишите в переменную p."
   ]
  },
  {
   "cell_type": "code",
   "execution_count": 19,
   "metadata": {},
   "outputs": [
    {
     "name": "stdout",
     "output_type": "stream",
     "text": [
      "5040 8\n"
     ]
    }
   ],
   "source": [
    "value = 1000\n",
    "p = 1\n",
    "n = 1\n",
    "while p <= value:\n",
    "    p *= n\n",
    "    n += 1\n",
    "print(p, n)"
   ]
  },
  {
   "cell_type": "markdown",
   "metadata": {},
   "source": [
    "Олег положил money рублей в банк под 8 % годовых с ежегодной капитализацией процентов. Через сколько лет у него на счету будет не менее target_money рублей? Запишите ответ в переменную year_count. Для моделирования процесса увеличения денежной суммы на счёте воспользуйтесь циклом while. В случае, когда значение target_money < money, в переменной year_count должен содержаться 0."
   ]
  },
  {
   "cell_type": "code",
   "execution_count": 20,
   "metadata": {},
   "outputs": [
    {
     "name": "stdout",
     "output_type": "stream",
     "text": [
      "15\n"
     ]
    }
   ],
   "source": [
    "money = 1000\n",
    "target_money = 3000\n",
    "year_count = 0\n",
    "while money <= target_money:\n",
    "    money = money * 1.08\n",
    "    year_count += 1\n",
    "print(year_count)"
   ]
  },
  {
   "cell_type": "markdown",
   "metadata": {},
   "source": [
    "Вы играете в компьютерную игру, дошли до схватки с финальным боссом, но вот незадача: ваш компьютер «заглючил», и вы не можете управлять вашим персонажем. Босс атакует и каждую секунду наносит один удар, который отнимает у персонажа damage единиц здоровья. На схватку с боссом ваш персонаж вышел с health единиц здоровья. Создайте цикл, позволяющий понять, через сколько секунд босс убьёт вашего персонажа. В результате работы вашей программы в переменной seconds_num должно быть сохранено количество секунд, в течение которых будет длиться схватка."
   ]
  },
  {
   "cell_type": "code",
   "execution_count": 21,
   "metadata": {},
   "outputs": [
    {
     "name": "stdout",
     "output_type": "stream",
     "text": [
      "7\n"
     ]
    }
   ],
   "source": [
    "health = 500\n",
    "damage = 80\n",
    "seconds_num = 0\n",
    "while health > 0:\n",
    "    health -= damage\n",
    "    seconds_num += 1\n",
    "print(seconds_num)    "
   ]
  },
  {
   "cell_type": "markdown",
   "metadata": {},
   "source": [
    "Числа Фибоначчи — это бесконечная последовательность чисел, которую можно получить рекурсивно. Каждое число из последовательности является суммой двух предыдущих.  \n",
    "![](images/fibonacchy.png)  \n",
    "Последовательность Фибоначчи активно применяется в комбинаторике и аналитике. О значении и вариантах применения чисел Фибоначчи вы можете прочитать в блоге Skillfactory. Напишите программу, которая выводит первые n чисел Фибоначчи. Значение n может быть любым.  \n",
    "Для решения воспользуйтесь следующим алгоритмом:  \n",
    "* Инициализируем начальные значения последовательности: a = 1, b = 1 , i = 2.  \n",
    "* Пока i ≤ n:  \n",
    "    * Вычислить новое значение b по формуле: b = a + b.  \n",
    "    * Заменить значение a = b.  \n",
    "    * Увеличить i на 1.  \n",
    "    * Добавить элемент b в последовательность.  \n",
    "\n",
    "Результирующую последовательность чисел сохраните в списке fibonacci_list."
   ]
  },
  {
   "cell_type": "code",
   "execution_count": 22,
   "metadata": {},
   "outputs": [
    {
     "name": "stdout",
     "output_type": "stream",
     "text": [
      "[1, 1, 2, 3, 5, 8, 13, 21, 34]\n"
     ]
    }
   ],
   "source": [
    "n = 9\n",
    "fibonacci_list = [1, 1]\n",
    "a = 1\n",
    "b = 1\n",
    "i = 2\n",
    "while i < n:\n",
    "    k = a + b\n",
    "    a = b\n",
    "    b = k\n",
    "    i += 1\n",
    "    fibonacci_list.append(b)\n",
    "print(fibonacci_list)"
   ]
  },
  {
   "cell_type": "markdown",
   "metadata": {},
   "source": [
    "### Работа с вложенными циклами"
   ]
  },
  {
   "cell_type": "markdown",
   "metadata": {},
   "source": [
    "**Условие задачи.** Пользователь даёт нашей умной колонке «Алевтина» задание: поставить будильники особым образом. Будильники должны звонить каждые пять часов, начиная с 10 часов утра. Причём будильник должен прозвенеть дважды в час с перерывом в полчаса. Например, в 15:00 и 15:30. Необходимо вывести на экран время в которое прозвенят будильники"
   ]
  },
  {
   "cell_type": "code",
   "execution_count": 23,
   "metadata": {},
   "outputs": [
    {
     "name": "stdout",
     "output_type": "stream",
     "text": [
      "Alarm is set 10:00\n",
      "Alarm is set 10:30\n",
      "Alarm is set 15:00\n",
      "Alarm is set 15:30\n",
      "Alarm is set 20:00\n",
      "Alarm is set 20:30\n"
     ]
    }
   ],
   "source": [
    "# Создаём список часов\n",
    "hours = list(range(10, 24, 5))\n",
    "# Создаём список минут\n",
    "minutes = list(range(0, 60, 30))\n",
    "# Создаём цикл по элементам списка часов\n",
    "for hour in hours: #hour — текущее значение часа (10, 15, 20)\n",
    "    # Создаём цикл по элементам списка минут\n",
    "    for minute in minutes: #minute — текущее значение минуты\n",
    "        # Выводим время\n",
    "        if minute == 0:\n",
    "            # Добавляем еще один 0 к минутам\n",
    "            print('Alarm is set {}:{}0'.format(hour, minute))\n",
    "        else:\n",
    "            print('Alarm is set {}:{}'.format(hour, minute))"
   ]
  },
  {
   "cell_type": "markdown",
   "metadata": {},
   "source": [
    "**Условие задачи.** Дан список строк str_list = ['text', 'morning', 'notepad', 'television', 'ornament']. Необходимо подсчитать, сколько всего раз во всех строках списка встречается буква 'e'."
   ]
  },
  {
   "cell_type": "code",
   "execution_count": 24,
   "metadata": {},
   "outputs": [
    {
     "name": "stdout",
     "output_type": "stream",
     "text": [
      "Count symbol 'e': 5\n"
     ]
    }
   ],
   "source": [
    "# Заданный список строк\n",
    "str_list = ['text', 'morning', 'notepad', 'television', 'ornament']\n",
    "# Задаём начальное количество символов 'e' \n",
    "count = 0 \n",
    "# Создаём цикл по элементам списка str_list\n",
    "for text in str_list: \n",
    "    # Создаём цикл по символам в строке text\n",
    "    for symbol in text:\n",
    "        # Проверяем условие, что текущий символ == 'e'\n",
    "        if symbol == 'e': \n",
    "            # Если условие истинно, увеличиваем количество символов 'e'.\n",
    "            count += 1 \n",
    "# Выводим результат\n",
    "print(\"Count symbol 'e':\", count)"
   ]
  },
  {
   "cell_type": "markdown",
   "metadata": {},
   "source": [
    "**Условие задачи.** В теории оптимизации, которую мы с вами будем изучать дальше в курсе, работа с матрицами — привычное явление. Так, в симплекс-методе для решения оптимизационных задач необходимо находить минимальные и максимальные элементы в каждой строке матрицы. Давайте попробуем реализовать такой алгоритм для поиска минимумов. Дана двумерная матрица 3x3 (список списков). Необходимо определить минимумы в каждой её строке."
   ]
  },
  {
   "cell_type": "code",
   "execution_count": 25,
   "metadata": {},
   "outputs": [
    {
     "name": "stdout",
     "output_type": "stream",
     "text": [
      "Minimal elements: [1, 2, 4]\n"
     ]
    }
   ],
   "source": [
    "# Заданная матрица\n",
    "random_matrix = [\n",
    "    [9, 2, 1],\n",
    "    [2, 5, 3],\n",
    "    [4, 8, 5]] \n",
    "# Задаём пустой список с минимальными значениями строк\n",
    "min_value_rows = [] \n",
    "# Создаём цикл по строкам матрицы random_matrix \n",
    "for row in random_matrix: # row — текущая строка таблицы\n",
    "    # Задаём начальное значение кандидата на минимум\n",
    "    min_value = row[0] \n",
    "    # Создаём цикл по элементам списка row\n",
    "    # elem — текущий элемент из списка row\n",
    "    for elem in row: \n",
    "        # Проверяем условие, что текущий элемент меньше кандидата на минимум.\n",
    "        if elem < min_value:\n",
    "            # Если условие выполняется, заменяем кандидата на минимум.\n",
    "            min_value = elem\n",
    "    # Добавляем полученный минимум строки в список\n",
    "    min_value_rows.append(min_value) \n",
    "# Выводим минимальные элементы\n",
    "print(\"Minimal elements:\", min_value_rows)"
   ]
  },
  {
   "cell_type": "markdown",
   "metadata": {},
   "source": [
    "Дана двумерная матрица random_matrix размера n x n (список списков). Напишите программу, которая определяет максимумы в каждой строке исходной матрицы.Максимумы должны быть представлены в виде списка. Запишите результат в переменную max_value_rows"
   ]
  },
  {
   "cell_type": "code",
   "execution_count": 26,
   "metadata": {},
   "outputs": [
    {
     "name": "stdout",
     "output_type": "stream",
     "text": [
      "[9, 5, 8]\n"
     ]
    }
   ],
   "source": [
    "random_matrix = [\n",
    "    [9, 2, 1],\n",
    "    [2, 5, 3],\n",
    "    [4, 8, 5]]\n",
    "max_value_rows = []\n",
    "for row in random_matrix:\n",
    "    max_val = row[0]\n",
    "    for item in row:\n",
    "        if item > max_val:\n",
    "            max_val = item\n",
    "    max_value_rows.append(max_val)\n",
    "print(max_value_rows)"
   ]
  },
  {
   "cell_type": "markdown",
   "metadata": {},
   "source": [
    "Напишите код, который определяет, является ли вложенный список test_matrix квадратной матрицей (то есть матрицей, у которой количество строк равно количеству столбцов). Примеры квадратной и неквадратной (прямоугольной) матрицы: слева — квадратная, справа — неквадратная.\n",
    "![](images/matrix.png)  \n",
    "В результате работы программы в переменной is_square должно лежать булево значение — True или False — в зависимости от заданного вложенного списка."
   ]
  },
  {
   "cell_type": "code",
   "execution_count": 27,
   "metadata": {},
   "outputs": [
    {
     "name": "stdout",
     "output_type": "stream",
     "text": [
      "True\n"
     ]
    }
   ],
   "source": [
    "test_matrix = [\n",
    "    [1, 2, 3],\n",
    "    [7, -1, 2],\n",
    "    [123, 2, -1]]\n",
    "is_square = True\n",
    "rows = len(test_matrix)\n",
    "for line in test_matrix:\n",
    "    if len(line) != rows:\n",
    "        is_square = False\n",
    "        break\n",
    "print(is_square)"
   ]
  },
  {
   "cell_type": "markdown",
   "metadata": {},
   "source": [
    "При формировании данных о температуре за три летних месяца допустили ошибку: некоторые значения оказались отрицательными. Вам необходимо заменить все отрицательные значения на положительные. Список со значениями температуры задан в переменной temp. Необходимо перезаписать значения этого списка."
   ]
  },
  {
   "cell_type": "code",
   "execution_count": 28,
   "metadata": {},
   "outputs": [
    {
     "name": "stdout",
     "output_type": "stream",
     "text": [
      "[[25, 27, 28, 26, 27, 26, 25, 2, 26], [21, 22, 28, 27, 28, 26, 25, 19, 26], [19, 21, 25, 27, 28, 25, 21, 20, 26]]\n"
     ]
    }
   ],
   "source": [
    "temp = [[25, 27, 28, 26, 27, -26, -25, -2, 26], [21, 22, 28, 27, 28, 26, 25, 19, 26], [-19, 21, 25, -27, 28, 25, 21, 20, 26]]\n",
    "for i in range(len(temp)):\n",
    "    for j in range(len(temp[i])):\n",
    "        if temp[i][j] < 0:\n",
    "            temp[i][j] =  -temp[i][j]\n",
    "print(temp)"
   ]
  },
  {
   "cell_type": "markdown",
   "metadata": {},
   "source": [
    "Дан список customer_satisfaction, состоящий из вложенных списков с показателями удовлетворённости клиентов компании по месяцам. Удовлетворённость измеряется от 0 до 1. Напишите программу, которая вычисляет средние значения удовлетворённости клиентов за каждый месяц (среднее значение в каждом из вложенных списков), округлённые до двух знаков после точки-разделителя, а также максимальное из этих средних значений. Средняя удовлетворённость по месяцам должна быть представлена в виде списка month_satisfaction. Максимальная удовлетворённость должна быть представлена в виде float-числа и записана в переменную max_satisfaction."
   ]
  },
  {
   "cell_type": "code",
   "execution_count": 29,
   "metadata": {},
   "outputs": [
    {
     "name": "stdout",
     "output_type": "stream",
     "text": [
      "0.73 [0.73]\n",
      "0.73 [0.73, 0.62]\n",
      "0.73 [0.73, 0.62, 0.52]\n",
      "0.76 [0.73, 0.62, 0.52, 0.76]\n"
     ]
    }
   ],
   "source": [
    "customer_satisfaction = [\n",
    "    [0.87, 0.56, 0.77],\n",
    "    [0.22, 0.46, 0.56, 0.89, 0.95],\n",
    "    [0.45, 0.44, 0.68],\n",
    "    [0.73, 0.88, 0.95, 0.49]]\n",
    "max_satisfaction = 0.0\n",
    "month_satisfaction = []\n",
    "for row in customer_satisfaction:\n",
    "    sum_cust = 0\n",
    "    len_row = 0\n",
    "    #aver = 0\n",
    "    for item in row:\n",
    "        len_row +=1\n",
    "        sum_cust += item\n",
    "    aver = round(sum_cust / len_row, 2)\n",
    "    if max_satisfaction < aver:\n",
    "        max_satisfaction = aver\n",
    "    month_satisfaction.append(aver)\n",
    "    print(max_satisfaction, month_satisfaction)"
   ]
  },
  {
   "cell_type": "markdown",
   "metadata": {},
   "source": [
    "### Функция enumerate()"
   ]
  },
  {
   "cell_type": "markdown",
   "metadata": {},
   "source": [
    "#### Цикл по индексам и элементам одновременно"
   ]
  },
  {
   "cell_type": "code",
   "execution_count": 30,
   "metadata": {},
   "outputs": [
    {
     "name": "stdout",
     "output_type": "stream",
     "text": [
      "Day 1 : -5\n",
      "Day 2 : 2\n",
      "Day 3 : 4\n",
      "Day 4 : 8\n",
      "Day 5 : 12\n",
      "Day 6 : -7\n",
      "Day 7 : 5\n"
     ]
    }
   ],
   "source": [
    "# Заданный список динамики числа пользователей\n",
    "user_dynamics = [-5, 2, 4, 8, 12, -7, 5] \n",
    "# Создаём цикл по индексам и элементам списка \n",
    "# i — индекс текущего элемента, dynamic — текущее значение из списка\n",
    "for i, dynamic in enumerate(user_dynamics):\n",
    "    # Выводим номер дня и динамику на этот день \n",
    "    print(\"Day {} : {}\".format(i+1, dynamic)) "
   ]
  },
  {
   "cell_type": "markdown",
   "metadata": {},
   "source": [
    "Дан список, состоящий из строк. Список хранится в переменной str_list. Создайте новый список cut_str_list. В цикле добавляйте в список cut_str_list списки, состоящие из порядкового номера строки из списка str_list (номер в рамках данной задачи начинается с 0) и трёх первых символов из каждой строки. Если длина строки меньше трёх символов, то добавляется вся строка целиком."
   ]
  },
  {
   "cell_type": "code",
   "execution_count": 31,
   "metadata": {},
   "outputs": [
    {
     "name": "stdout",
     "output_type": "stream",
     "text": [
      "[[0, 'Hel'], [1, 'my'], [2, 'nam'], [3, 'is'], [4, 'Eze'], [5, 'I'], [6, 'lik'], [7, 'kni']]\n"
     ]
    }
   ],
   "source": [
    "str_list = ['Hello', 'my', 'name', 'is', 'Ezeikel', 'I', 'like', 'knitting']\n",
    "cut_str_list = []\n",
    "for index, value in enumerate(str_list):\n",
    "    temp = []\n",
    "    if len(value) < 3:\n",
    "        s = value  \n",
    "    else:\n",
    "        s = value[:3]\n",
    "    temp.append(index)\n",
    "    temp.append(s)\n",
    "    cut_str_list.append(temp)\n",
    "print(cut_str_list)"
   ]
  },
  {
   "cell_type": "markdown",
   "metadata": {},
   "source": [
    "Допишите программу, которая проверяет гипотезу Сиракуз. Гипотеза Сиракуз заключается в том, что любое натуральное число n можно свести к 1, если повторять над ним следующие действия:\n",
    "\n",
    "* если число чётное, разделить его нацело пополам, т. е. n = n // 2;\n",
    "* если нечётное — умножить на 3, прибавить 1 и результат нацело разделить на 2, т. е. n = (n * 3 + 1) // 2."
   ]
  },
  {
   "cell_type": "code",
   "execution_count": 32,
   "metadata": {},
   "outputs": [
    {
     "name": "stdout",
     "output_type": "stream",
     "text": [
      "Syracuse hypothesis holds for number 25921\n"
     ]
    }
   ],
   "source": [
    "n = 25921\n",
    "origin = n\n",
    "# Создаём бесконечный цикл\n",
    "while True:\n",
    "    if n % 2 == 0:\n",
    "        n = n // 2\n",
    "    else:\n",
    "        n = (n * 3 + 1) // 2    \n",
    "    # Проверяем, что результат равен 1\n",
    "    if n == 1: \n",
    "        # Если условие выполняется, выводим утвердительное сообщение.\n",
    "        print(f'Syracuse hypothesis holds for number {origin}') \n",
    "        break"
   ]
  },
  {
   "cell_type": "markdown",
   "metadata": {},
   "source": [
    "### Оператор continue"
   ]
  },
  {
   "cell_type": "markdown",
   "metadata": {},
   "source": [
    "Дан словарь mixture_dict. Значения в нём могут быть трёх типов: строки (str) или числа (int и float). Посчитайте, сколько значений в словаре mixture_dict являются числами. Результат занесите в переменную count_numbers. Используйте в своём коде оператор continue"
   ]
  },
  {
   "cell_type": "code",
   "execution_count": 33,
   "metadata": {},
   "outputs": [
    {
     "name": "stdout",
     "output_type": "stream",
     "text": [
      "4\n"
     ]
    }
   ],
   "source": [
    "mixture_dict = {'a': 15, 'b': 10.5, 'c': '15', 'd': 50, 'e': 15, 'f': '15'}\n",
    "count_numbers = 0\n",
    "for item in mixture_dict:\n",
    "    if type(mixture_dict[item]) == type('str'):\n",
    "        continue\n",
    "    else:\n",
    "        count_numbers +=1\n",
    "print(count_numbers)"
   ]
  },
  {
   "cell_type": "markdown",
   "metadata": {},
   "source": [
    "Дана переменная text, в которой содержится некоторый текст. В этом тексте могут присутствовать знаки препинания: точки ('.'), запятые(','), точки с запятой (';'), вопросительные ('?') и восклицательные знаки ('!'), а также тире ('—'). Напишите программу, формирующую словарь count_punctuation, ключами которого являются знаки препинания, а значениями — их количество в тексте. Обратите внимание, что если какого-то из шести указанных знаков препинания нет в тексте, то в итоговом словаре значение, соответствующее этому знаку препинания, должно быть равно 0. Также имейте в виду, что тире и дефис являются разными символами."
   ]
  },
  {
   "cell_type": "code",
   "execution_count": 34,
   "metadata": {},
   "outputs": [
    {
     "name": "stdout",
     "output_type": "stream",
     "text": [
      "{'.': 2, ',': 1, ';': 1, '?': 0, '!': 0, '—': 0}\n"
     ]
    }
   ],
   "source": [
    "text = \"\"\"\n",
    "She sells sea shells on the sea shore;\n",
    "The shells that she sells are sea shells I am sure.\n",
    "So if she sells sea shells on the sea shore,\n",
    "I am sure that the shells are sea shore shells.\"\"\"\n",
    "lst_char = ['.', ',', ';', '?', '!', '—']\n",
    "count_punctuation = {}\n",
    "for char in lst_char:\n",
    "    count_punctuation[char] = 0\n",
    "for char in text:\n",
    "    if char in lst_char: \n",
    "        count_punctuation[char] +=1\n",
    "print(count_punctuation)\n"
   ]
  },
  {
   "cell_type": "markdown",
   "metadata": {},
   "source": [
    "Дано предложение, хранящееся в переменной sentence. Выполните следующие действия:\n",
    "* Приведите все символы в предложении к нижнему регистру.\n",
    "* Исключите знаки препинания (запятые и точки).\n",
    "* Разделите строку по пробелам и создайте список слов, которые входят в предложение.\n",
    "* Подсчитайте количество повторений каждого слова.  \n",
    "\n",
    "Для подсчёта слов используйте словарь. Ключами словаря будут слова, а значениями — число вхождений этих слов в предложение. В результате работы вашей программы в переменной word_dict должен храниться результирующий словарь."
   ]
  },
  {
   "cell_type": "code",
   "execution_count": 35,
   "metadata": {},
   "outputs": [
    {
     "name": "stdout",
     "output_type": "stream",
     "text": [
      "{'She': 1, 'sells': 3, 'sea': 6, 'shells': 5, 'on': 2, 'the': 3, 'shore;': 1, 'The': 1, 'that': 2, 'she': 2, 'are': 2, 'I': 2, 'am': 2, 'sure.': 1, 'So': 1, 'if': 1, 'shore,': 1, 'sure': 1, 'shore': 1, 'shells.': 1}\n"
     ]
    }
   ],
   "source": [
    "sentence = 'A roboT MAY Not injure a humAn BEING or, tHROugh INACtion, allow a human BEING to come to harm.'\n",
    "word_dict = {}\n",
    "sentence.lower()\n",
    "sentence.replace(',', '')\n",
    "sentence.replace('.', '')\n",
    "word_list = text.split()\n",
    "for word in word_list:\n",
    "    if word in word_dict:\n",
    "        word_dict[word] += 1\n",
    "    else:\n",
    "        word_dict[word] = 1\n",
    "print(word_dict)"
   ]
  },
  {
   "cell_type": "markdown",
   "metadata": {},
   "source": [
    "Дан список из строк str_list. Напишите программу для подсчёта количества вхождений заданного символа в каждую из строк этого списка. Искомый символ хранится в переменной symbol_to_check. Для подсчёта используйте словарь: в качестве ключа запишите в него строку, в качестве значения — число вхождений искомого символа в эту строку. Для хранения словаря используйте переменную с именем word_dict."
   ]
  },
  {
   "cell_type": "code",
   "execution_count": 36,
   "metadata": {},
   "outputs": [
    {
     "name": "stdout",
     "output_type": "stream",
     "text": [
      "{'text': 2, 'morning': 0, 'notepad': 1, 'television': 1, 'ornament': 1}\n"
     ]
    }
   ],
   "source": [
    "str_list = [\"text\", \"morning\", \"notepad\", \"television\", \"ornament\"]\n",
    "symbol_to_check = 't'\n",
    "word_dict = {}\n",
    "for item in str_list:\n",
    "    word_dict[item] = 0\n",
    "    for char in item:\n",
    "        if char == symbol_to_check:\n",
    "            word_dict[item] += 1\n",
    "print(word_dict)"
   ]
  }
 ],
 "metadata": {
  "kernelspec": {
   "display_name": "Python 3.7.6 64-bit",
   "language": "python",
   "name": "python3"
  },
  "language_info": {
   "codemirror_mode": {
    "name": "ipython",
    "version": 3
   },
   "file_extension": ".py",
   "mimetype": "text/x-python",
   "name": "python",
   "nbconvert_exporter": "python",
   "pygments_lexer": "ipython3",
   "version": "3.7.6"
  },
  "orig_nbformat": 4,
  "vscode": {
   "interpreter": {
    "hash": "7677f7648bdcb6014014cc63ee9b4fd0e16ad8079654355b0568baf0e7ced8ff"
   }
  }
 },
 "nbformat": 4,
 "nbformat_minor": 2
}
