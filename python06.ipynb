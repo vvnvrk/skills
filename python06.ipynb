{
 "cells": [
  {
   "cell_type": "markdown",
   "metadata": {},
   "source": [
    "## <center>Практика<center>\n",
    "\n",
    "### <center>Основы Python<center>"
   ]
  },
  {
   "cell_type": "markdown",
   "metadata": {},
   "source": [
    "#### **Задание 2.5**"
   ]
  },
  {
   "cell_type": "markdown",
   "metadata": {},
   "source": [
    "Дана строка python_string. Посчитайте количество символов в этой строке и возведите получившееся число в третью степень. Результат запишите в переменную result."
   ]
  },
  {
   "cell_type": "code",
   "execution_count": 1,
   "metadata": {},
   "outputs": [
    {
     "name": "stdout",
     "output_type": "stream",
     "text": [
      "389017\n"
     ]
    }
   ],
   "source": [
    "python_string = 'Привет! Меня зовут Питон. Я помогу вам проанализировать некоторые данные.'\n",
    "result = len(python_string) ** 3\n",
    "print(result)"
   ]
  },
  {
   "cell_type": "markdown",
   "metadata": {},
   "source": [
    "#### **Задание 2.6**"
   ]
  },
  {
   "cell_type": "markdown",
   "metadata": {},
   "source": [
    "Представим, что мы разрабатываем алгоритм прогнозирования времени доставки еды. Наш алгоритм принимает на вход информацию о географических координатах клиента, расположении ресторана, загруженности на дорогах и так далее. Выходом алгоритма является примерное время в минутах, которое необходимо курьеру на доставку. Мы хотим проверить адекватность работы алгоритма — для этого будем измерять разницу (ошибку) между спрогнозированным и реальным временем доставки. Условимся, что знак ошибки (в меньшую или большую сторону мы ошибаемся) нас не интересует — нужно только абсолютное значение. Прогнозируемое время доставки хранится в переменной predicted_time, реальное время — в переменной real_time. Найдите модуль разницы между предсказанным и истинным значениями времени, результат округлите до целого и сохраните в переменную absolute_error"
   ]
  },
  {
   "cell_type": "code",
   "execution_count": 2,
   "metadata": {},
   "outputs": [
    {
     "name": "stdout",
     "output_type": "stream",
     "text": [
      "13\n"
     ]
    }
   ],
   "source": [
    "predicted_time = 38.873\n",
    "real_time = 26.124\n",
    "absolute_error = int(round(abs(predicted_time - real_time),0))\n",
    "print(absolute_error)"
   ]
  },
  {
   "cell_type": "markdown",
   "metadata": {},
   "source": [
    "#### **Задание 2.7**"
   ]
  },
  {
   "cell_type": "markdown",
   "metadata": {},
   "source": [
    "Дана строка input_string. Избавьтесь от знаков препинания в ней и напишите программу для подсчёта количества слов в этой строке. Программа должна записывать результат в переменную count_words. Гарантируется, что из знаков препинания в строке input_string могут содержаться только точки ('.'), запятые (','), восклицательные ('!') и вопросительные ('?') знаки."
   ]
  },
  {
   "cell_type": "code",
   "execution_count": 3,
   "metadata": {},
   "outputs": [
    {
     "name": "stdout",
     "output_type": "stream",
     "text": [
      "27\n"
     ]
    }
   ],
   "source": [
    "input_string = 'There are many great articles about Artificial Intelligence and its benefits for business and society. However, many of these articles are too technical for the average reader.'\n",
    "spec_set = (',', '.', '!', '?')\n",
    "for char in spec_set:\n",
    "    input_string.replace(char,'')\n",
    "count_words = len(input_string.split())\n",
    "print(count_words)  ## count_words = 27"
   ]
  },
  {
   "cell_type": "markdown",
   "metadata": {},
   "source": [
    "#### **Задание 2.8**"
   ]
  },
  {
   "cell_type": "markdown",
   "metadata": {},
   "source": [
    "Мы обучаем нейронную сеть классифицировать изображения. Для обучения необходимо узнать формат файла с изображением: JPG/PNG/GIF и т. д. Это связано с тем, что от формата входных данных зависит процесс предобработки изображений (например, GIF-изображение необходимо предварительно разложить на кадры). В переменной file_path задан полный путь до файла с изображением. Найдите его расширение, результат занесите в переменную file_extension. Также найдите имя файла (без учёта расширения), результат занесите в переменную file_name. Гарантируется, что разделителем между папками при указании пути является символ '/'."
   ]
  },
  {
   "cell_type": "code",
   "execution_count": 4,
   "metadata": {},
   "outputs": [
    {
     "name": "stdout",
     "output_type": "stream",
     "text": [
      "384300\n"
     ]
    }
   ],
   "source": [
    "file_path = 'data/images/384300.png'   # исходный путь к файлу\n",
    "file_path = file_path[::-1]            # разворачиваем строку\n",
    "pos = file_path.find('.')              # находим первую позицию точки\n",
    "file_extension = file_path[:pos]       # выделяем развернутое расширение\n",
    "file_extension = file_extension[::-1]  # приводим расширение к нормальному виду\n",
    "pos1 = file_path.find('/')             # ищем первую позицию слеша\n",
    "file_name = file_path[pos+1:pos1]      # поучаем развернутое имя файла\n",
    "file_name = file_name[::-1]            # получаем нормальное имя файла\n",
    "print(file_name)                       # выводим имя файла"
   ]
  },
  {
   "cell_type": "markdown",
   "metadata": {},
   "source": [
    "#### **Задание 2.9**"
   ]
  },
  {
   "cell_type": "markdown",
   "metadata": {},
   "source": [
    "Предположим, мы обучили нейронную сеть генерировать текст (предложения), однако на этапе тестирования выяснилось, что мы допустили ошибку при обучении и слова генерируются в неправильной последовательности — справа налево, а не слева направо. Ошибку мы нашли, однако оказалось, что переобучать модель очень долго и дорого. Поэтому мы решили вручную разворачивать сгенерированный текст на этапе постобработки. Он хранится в переменной generated_text в виде строки. Создайте новую строку updated_text, в которой слова будут храниться в обратном порядке. Для простоты гарантируется, что в предложениях, сгенерированных моделью, нет знаков препинания и весь текст представлен в нижнем регистре."
   ]
  },
  {
   "cell_type": "code",
   "execution_count": 5,
   "metadata": {},
   "outputs": [
    {
     "name": "stdout",
     "output_type": "stream",
     "text": [
      "когда человек вводит запрос в поисковик он ищет информацию или способ решения своей задачи\n"
     ]
    }
   ],
   "source": [
    "generated_text = \"задачи своей решения способ или информацию ищет он поисковик в запрос вводит человек когда\"\n",
    "temp = generated_text.split()                    # преобразуем исходный текст на список слов\n",
    "temp = temp[::-1]                                # разворачиваем полученный список\n",
    "updated_text = ''                                # инициируем пустую строку результата\n",
    "len_tmp = len(temp)                              # вычисляем дину списка слов\n",
    "for index, word in enumerate(temp):              # организуем цикл по списку слов\n",
    "    if index == len_tmp - 1:                     # если это последнее слово в списке\n",
    "        char = ''                                # тогда сепаратор пустой\n",
    "    else:                                        # иначе\n",
    "        char = ' '                               # сепаратор - пробел  \n",
    "    updated_text = updated_text + word + char    # добавляем в итог слово и сепаратор\n",
    "print(updated_text)                              # выводим развернутый текст\n",
    "## updated_text = когда человек вводит запрос в поисковик он ищет информацию или способ решения своей задачи"
   ]
  },
  {
   "cell_type": "markdown",
   "metadata": {},
   "source": [
    "#### **Задание 2.10**"
   ]
  },
  {
   "cell_type": "markdown",
   "metadata": {},
   "source": [
    "В приложении, которое мы разрабатываем, предусмотрена функция смены пароля. Нам необходимо записывать в базу данных событий информацию о том, что пользователь сменил пароль. Напишите функцию change_password(), которая должна возвращать отформатированную строку в следующем виде: \"Пользователь {user_name} сменил пароль на {new_password}\".  \n",
    "Здесь:\n",
    "\n",
    "* user_name — имя пользователя,\n",
    "* new_password — новый пароль.  \n",
    "\n",
    "Мы уже сделали заготовку функции — вам осталось только задать строку. Переменные user_name и new_password являются аргументами функции change_password().Запишите форматированную строку вместо знаков вопроса."
   ]
  },
  {
   "cell_type": "code",
   "execution_count": 6,
   "metadata": {},
   "outputs": [
    {
     "name": "stdout",
     "output_type": "stream",
     "text": [
      "Пользователь Andrey сменил пароль на 31andrey12QK\n",
      "Пользователь Vasilisk сменил пароль на uaf12laK\n"
     ]
    }
   ],
   "source": [
    "def change_password(user_name, new_password): \n",
    "    return 'Пользователь ' + user_name + ' сменил пароль на ' + new_password\n",
    "\n",
    "print(change_password('Andrey', '31andrey12QK')) ## Пользователь Andrey сменил пароль на 31andrey12QK\n",
    "print(change_password('Vasilisk', 'uaf12laK'))   ## Пользователь Vasilisk сменил пароль на uaf12laK"
   ]
  },
  {
   "cell_type": "markdown",
   "metadata": {},
   "source": [
    "### <center>Погружение в типы данных<center>"
   ]
  },
  {
   "cell_type": "markdown",
   "metadata": {},
   "source": [
    "#### **Задание 3.5**"
   ]
  },
  {
   "cell_type": "markdown",
   "metadata": {},
   "source": [
    "Мы анализируем данные об автомобилях. Данные являются табличными и представлены в виде словаря car_dict, ключами которого являются параметры:\n",
    "\n",
    "* ‘car_ID’ — идентификатор автомобиля;\n",
    "* ‘fueltype’ — тип двигателя (бензиновый — 'gas' или дизельный — 'diesel');\n",
    "* ‘horsepower’ — мощность двигателя (в лошадиных силах);\n",
    "* ‘price’ — стоимость автомобиля.\n",
    "\n",
    "Значениями словаря являются списки, в которых хранятся значения указанных параметров для каждого из автомобилей. Например, следующий словарь car_dict:  \n",
    "car_dict = {  \n",
    "    'car_ID': [123, 117, 111, 82, 101, 96, 156, 2, 58, 49],   \n",
    "    'fueltype': ['gas', 'diesel', 'diesel', 'gas', 'gas', 'gas', 'gas', 'gas', 'gas', 'gas'],  \n",
    "    'horsepower': [68, 95, 95, 88, 97, 69, 62, 111, 101, 176],  \n",
    "    'price': [7609.0, 17950.0, 13860.0, 8499.0, 9549.0, 7799.0, 8778.0, 16500.0, 13645.0, 35550.0]}\n",
    "будет эквивалентен следующей таблице с данными:\n",
    "\n",
    "![](images/table.jpg)\n",
    "\n",
    "Найдите:\n",
    "\n",
    "* среднюю стоимость автомобилей, представленных в данных (результат округлите до десятых и запишите в переменную mean_price);\n",
    "* количество автомобилей с дизельным двигателем (результат запишите в переменную count_diesel);\n",
    "* минимальную мощность двигателя в лошадиных силах (результат запишите в переменную min_horsepower)."
   ]
  },
  {
   "cell_type": "code",
   "execution_count": 7,
   "metadata": {},
   "outputs": [
    {
     "name": "stdout",
     "output_type": "stream",
     "text": [
      "Средняя цена 13973.9\n",
      "Кол-во авто с дизелем: 2\n",
      "Минимальная мощность двигателя: 62\n"
     ]
    }
   ],
   "source": [
    "car_dict = {\n",
    "    'car_ID': [123, 117, 111, 82, 101, 96, 156, 2, 58, 49],\n",
    "    'fueltype': ['gas', 'diesel', 'diesel', 'gas', 'gas', 'gas', 'gas', 'gas', 'gas', 'gas'],\n",
    "    'horsepower': [68, 95, 95, 88, 97, 69, 62, 111, 101, 176],\n",
    "    'price': [7609.0, 17950.0, 13860.0, 8499.0, 9549.0, 7799.0, 8778.0, 16500.0, 13645.0, 35550.0]}\n",
    "prices = car_dict['price']\n",
    "mean_price = round(sum(prices) / len(prices),1)\n",
    "fuels = car_dict['fueltype']\n",
    "count_diesel = fuels.count('diesel')\n",
    "horses = car_dict['horsepower']\n",
    "min_horsepower = min(horses)\n",
    "print('Средняя цена', mean_price)\n",
    "print('Кол-во авто с дизелем:', count_diesel)\n",
    "print('Минимальная мощность двигателя:', min_horsepower)"
   ]
  },
  {
   "cell_type": "markdown",
   "metadata": {},
   "source": [
    "#### **Задание 3.6**"
   ]
  },
  {
   "cell_type": "markdown",
   "metadata": {},
   "source": [
    "Напишите функцию check_duplicates(), которая проверит, есть ли дубликаты в списке lst, переданном ей в качестве аргумента. Результатом работы функции должно стать булево число (True или False)."
   ]
  },
  {
   "cell_type": "code",
   "execution_count": 8,
   "metadata": {},
   "outputs": [
    {
     "name": "stdout",
     "output_type": "stream",
     "text": [
      "True\n",
      "False\n"
     ]
    }
   ],
   "source": [
    "def check_duplicates(lst):\n",
    "    for item in lst:             # организуем цикл по элементам списка lst\n",
    "        if lst.count(item) > 1:  # если элемент имеет дубликат\n",
    "            return True          # возвращаем True\n",
    "        else:                    # иначе\n",
    "            return False         # возвращаем False\n",
    "        \n",
    "lst = [0, 0, 1, 2, 3, 4, 5, 5, 6, 7]\n",
    "print(check_duplicates(lst))  # True\n",
    "lst = list(range(0, 15))\n",
    "print(check_duplicates(lst))  # False"
   ]
  },
  {
   "cell_type": "markdown",
   "metadata": {},
   "source": [
    "#### **Задание 3.7**"
   ]
  },
  {
   "cell_type": "markdown",
   "metadata": {},
   "source": [
    "Напишите функцию swap_places(), которая принимает в качестве аргумента список lst и меняет местами его первый и последний элементы. Функция должна возвращать обновлённый список. Гарантируется, что в исходном списке есть минимум два элемента."
   ]
  },
  {
   "cell_type": "code",
   "execution_count": 9,
   "metadata": {},
   "outputs": [
    {
     "name": "stdout",
     "output_type": "stream",
     "text": [
      "[3, 2, 1]\n",
      "[5, 2, 3, 4, 1]\n",
      "['с', 'л', 'о', 'н']\n"
     ]
    }
   ],
   "source": [
    "def swap_places(lst):\n",
    "    temp = lst[0]      # сохраняем в переменную temp 0-й элемент списка\n",
    "    lst[0] = lst[-1]   # в голову списука переносим последний элемент\n",
    "    lst[-1] = temp     # в конец списка сохраняем начальный элемент\n",
    "    return lst         # возвращаем модернизированный список\n",
    "\n",
    "print(swap_places([1, 2, 3]))             ## [3, 2, 1]\n",
    "print(swap_places([1, 2, 3, 4, 5]))       ## [5, 2, 3, 4, 1]\n",
    "print(swap_places(['н', 'л', 'о', 'с']))  ## ['с', 'л', 'о', 'н']"
   ]
  },
  {
   "cell_type": "markdown",
   "metadata": {},
   "source": [
    "#### **Задание 3.8**"
   ]
  },
  {
   "cell_type": "markdown",
   "metadata": {},
   "source": [
    "В нашем распоряжении есть список строк разной длины. Напишите функцию equalize_lengths(), которая принимает на вход список и возвращает новый список из строк одинаковой длины. Длина итоговой строки должна быть равна длине самой длинной из строк. Если конкретная строка короче самой длинной, её необходимо дополнить до требуемого количества символов нижними подчёркиваниями с правого края.  \n",
    "**Важно!** Результирующий список должен быть отсортирован от меньшего к большему по количеству добавленных символов нижнего подчёркивания. То есть первым должен идти элемент с максимальной длиной строки."
   ]
  },
  {
   "cell_type": "code",
   "execution_count": 17,
   "metadata": {},
   "outputs": [
    {
     "name": "stdout",
     "output_type": "stream",
     "text": [
      "['выхухоль', 'белка___', 'крот____']\n",
      "['aaaaa', 'aaaa_', 'aaa__', 'aa___', 'a____']\n",
      "['qweasdqweas', 'ewqqqqq____', 'rteww______', 'q__________']\n"
     ]
    }
   ],
   "source": [
    "def equalize_lengths(lst):\n",
    "    temp = sorted(lst, key = lambda x: len(x), reverse = True)  # сортируем входящий ссписок по убыванию длины строк\n",
    "    max_len = len(temp[0])                                      # запоминаем  максимальную длину строки\n",
    "    for i in range(1,len(temp)):                          # организуем цикл по отсортированному списку со 2-го эл-та\n",
    "        item = temp[i]                                          # получаем элемент по индексу\n",
    "        count_char = max_len - len(item)                        # получаем разницу мах-длины и длины тек. строки\n",
    "        if count_char > 0:                                      # если разница положительна\n",
    "            for j in range(count_char):                         # тогда в цикле\n",
    "                item +='_'                                      # добавляем к элементу подчеркивание\n",
    "            temp[i] = item                                      # заменяем i-й элемент на элемент с подчеркиваниями  \n",
    "    return temp                                                 # возвраащем результат\n",
    "\n",
    "print(equalize_lengths(['крот', 'белка', 'выхухоль']))            # ['выхухоль', 'белка___', 'крот____']\n",
    "print(equalize_lengths(['a', 'aa', 'aaa', 'aaaa', 'aaaaa']))      # ['aaaaa', 'aaaa_', 'aaa__', 'aa___', 'a____']\n",
    "print(equalize_lengths(['qweasdqweas', 'q', 'rteww', 'ewqqqqq'])) # ['qweasdqweas', 'ewqqqqq____', 'rteww______', 'q__________']"
   ]
  },
  {
   "cell_type": "markdown",
   "metadata": {},
   "source": [
    "### <center>Условные операторы<center>"
   ]
  },
  {
   "cell_type": "markdown",
   "metadata": {},
   "source": [
    "#### **Задание 4.5**"
   ]
  },
  {
   "cell_type": "markdown",
   "metadata": {},
   "source": [
    "Напишите функцию check_number_sign(), которая возвращает 1, если число положительное, -1 — если число отрицательное, и 0 — если число равно 0. Функция принимает на вход одно число number. Используйте в коде конструкцию if-elif-else."
   ]
  },
  {
   "cell_type": "code",
   "execution_count": 18,
   "metadata": {},
   "outputs": [
    {
     "name": "stdout",
     "output_type": "stream",
     "text": [
      "1\n",
      "-1\n",
      "0\n"
     ]
    }
   ],
   "source": [
    "def check_number_sign(number):\n",
    "    if number > 0:     # если число положительное\n",
    "        return 1       # то возвращаем 1\n",
    "    elif number < 0:   # иначе если число отрицательное\n",
    "        return -1      # то возвращаем -1\n",
    "    else:              # иначе (число 0)\n",
    "        return 0       # возвращаем 0\n",
    "    \n",
    "print(check_number_sign(5290))  # 1\n",
    "print(check_number_sign(-983))  # - 1\n",
    "print(check_number_sign(0))     # 0"
   ]
  },
  {
   "cell_type": "markdown",
   "metadata": {},
   "source": [
    "#### **Задание 4.6**"
   ]
  },
  {
   "cell_type": "markdown",
   "metadata": {},
   "source": [
    "Напишите функцию find_min_number(), которая принимает на вход три числа (a, b, c) и возвращает наименьшее из них. Для решения задачи не используйте встроенную функцию min() — реализуйте алгоритм самостоятельно, воспользовавшись условными операторами."
   ]
  },
  {
   "cell_type": "code",
   "execution_count": 19,
   "metadata": {},
   "outputs": [
    {
     "name": "stdout",
     "output_type": "stream",
     "text": [
      "19\n",
      "10.9\n"
     ]
    }
   ],
   "source": [
    "def find_min_number(a, b, c):\n",
    "    if a < b and a < c:    # если a меньше b и a меньше c\n",
    "        return a           # то возвраащем a\n",
    "    elif b < a and b < c:  # если b меньше c и b меньше a\n",
    "        return b           # то возвращаем b\n",
    "    else:                  # иначе (наименьшее c)\n",
    "        return c           # возвращаем c\n",
    "    \n",
    "print(find_min_number(130, 122, 19))      # 19\n",
    "print(find_min_number(10.9, 12.2, 18.4))  # 10.9"
   ]
  },
  {
   "cell_type": "markdown",
   "metadata": {},
   "source": [
    "#### **Задание 4.7**"
   ]
  },
  {
   "cell_type": "markdown",
   "metadata": {},
   "source": [
    "Усложним предыдущую задачу. Напишите функцию sum_min_numbers(), которая также принимает на вход три числа (a, b, c) и возвращает сумму двух наименьших.Можно использовать функцию find_min_number() из предыдущего задания для поиска минимального числа."
   ]
  },
  {
   "cell_type": "code",
   "execution_count": 20,
   "metadata": {},
   "outputs": [
    {
     "name": "stdout",
     "output_type": "stream",
     "text": [
      "3\n",
      "-9\n"
     ]
    }
   ],
   "source": [
    "def sum_min_numbers(a, b, c):\n",
    "    if a < b and b < c:           # если максимальное с\n",
    "        return a + b              # то возвращаем сумму a и b\n",
    "    elif b < a and c < a:         # если максимальное а\n",
    "        return b + c              # то возвращаем сумму b и c\n",
    "    else:                         # иначе (максимальное b)\n",
    "        return a + c              # возвращаем сумму а и с\n",
    "    \n",
    "print(sum_min_numbers(1, 2, 3))    # 3\n",
    "print(sum_min_numbers(1, 2, -10))  # -9"
   ]
  },
  {
   "cell_type": "markdown",
   "metadata": {},
   "source": [
    "#### **Задание 4.8**"
   ]
  },
  {
   "cell_type": "markdown",
   "metadata": {},
   "source": [
    "Напишите функцию division(a, b), которая принимает на вход два числа, делимое (a) и делитель (b), и возвращает частное. Необходимо реализовать внутри функции отлов исключения ZeroDivisionError на случай, если пользователь при вызове функции попытается поделить на ноль. Если в процессе выполнения функции было поймано исключение ZeroDivisionError, то функция должна вывести на экран сообщение \"Zero division error!\" с помощью функции print(), а затем вернуть значение None из функции."
   ]
  },
  {
   "cell_type": "code",
   "execution_count": 21,
   "metadata": {},
   "outputs": [
    {
     "name": "stdout",
     "output_type": "stream",
     "text": [
      "5.25\n",
      "Zero division error!\n",
      "None\n"
     ]
    }
   ],
   "source": [
    "def division(a, b):\n",
    "    try:                                # инициируем блок перехвата исключений  \n",
    "        return a / b                    # делим а на b\n",
    "    except:                             # если возникло исключение (b=0)\n",
    "        print('Zero division error!')   # выводим сообщение об ошибке\n",
    "        return None                     # возвращаем None\n",
    "    \n",
    "print(division(189, 36))  # 5.25\n",
    "print(division(1, 0))     # Zero division error!  None"
   ]
  },
  {
   "cell_type": "markdown",
   "metadata": {},
   "source": [
    "#### **Задание 4.9**"
   ]
  },
  {
   "cell_type": "markdown",
   "metadata": {},
   "source": [
    "Представим, что мы решаем задачу регрессии. В машинном обучении регрессия — это предсказание числового параметра, например стоимости автомобиля, цены акций, количества клиентов, пришедших после проведения рекламной интеграции и т. д. В наших данных есть два признака, описывающих объекты: x₁ и x₂. Оба этих признака также являются числами. Мы хотим предсказать некоторый другой числовой признак y на основе имеющихся. Для решения задачи мы построили модель дерева решений и представили её графически:\n",
    "\n",
    "![](images/tree.jpg)\n",
    "\n",
    "Напишите функцию get_prediction(), которая принимает на вход два аргумента (x1 и x2) и возвращает число, предсказанное моделью, приведённой на схеме выше. **Примечание.** Предсказания модели записаны в зелёных прямоугольниках."
   ]
  },
  {
   "cell_type": "code",
   "execution_count": 22,
   "metadata": {},
   "outputs": [
    {
     "name": "stdout",
     "output_type": "stream",
     "text": [
      "300.5\n",
      "65.7\n",
      "-64.1\n",
      "0.7\n",
      "1023\n"
     ]
    }
   ],
   "source": [
    "def get_prediction(x1, x2):\n",
    "    if x1 < 20:               # если х1 < 20\n",
    "        if x2 < 200:          # и если х2 < 200 \n",
    "            return 300.5      # возвращаем 300.5\n",
    "        else:                 # иначе\n",
    "            return 65.7       # возвращаем 67.5\n",
    "    elif x2 < 170:            # иначе если х2 < 170\n",
    "        if x1 < 40:           # и если x1 < 40\n",
    "            return -64.1      # возвраащем -64.1\n",
    "        else:                 # иначе\n",
    "            return 0.7        # возвращаеь 0.7\n",
    "    else:                     # иначе \n",
    "        return 1023           # возвращаем 1023\n",
    "    \n",
    "print(get_prediction(x1=15, x2=150))   # 300.5\n",
    "print(get_prediction(x1=15, x2=350))   # 65.7\n",
    "print(get_prediction(x1=35, x2=100))   # -64.1\n",
    "print(get_prediction(x1=175, x2=100))  # 0.7\n",
    "print(get_prediction(x1=175, x2=200))  # 1023"
   ]
  },
  {
   "cell_type": "markdown",
   "metadata": {},
   "source": [
    "### <center>Циклы<center>"
   ]
  },
  {
   "cell_type": "markdown",
   "metadata": {},
   "source": [
    "#### **Задание 5.4**"
   ]
  },
  {
   "cell_type": "markdown",
   "metadata": {},
   "source": [
    "Напишите функцию more_than_n(), которая принимает на вход два аргумента: список чисел lst и число n. Функция должна возвращать новый список, в котором содержатся только те числа, которые больше n по модулю. Если в функцию был передан пустой список, то функция также должна вернуть пустой список."
   ]
  },
  {
   "cell_type": "code",
   "execution_count": 23,
   "metadata": {},
   "outputs": [
    {
     "name": "stdout",
     "output_type": "stream",
     "text": [
      "[4, 4.2, 42.2, -3.4, -5.2]\n",
      "[42.2]\n",
      "[]\n"
     ]
    }
   ],
   "source": [
    "def more_than_n(lst, n):\n",
    "    temp = []                  # создаем пустой итоговый спмсок\n",
    "    for item in lst:           # организуем цикл по элементам списка lst\n",
    "        if abs(item) > n:      # если модуль элемента больше числа n\n",
    "            temp.append(item)  # то добавляем его в итоговый список\n",
    "    return temp                # возвращаем итоговый список\n",
    "\n",
    "print(more_than_n([-1, 4, 4.2, 42.2, -3.4, -5.2], 3))   # [4, 4.2, 42.2, -3.4, -5.2]\n",
    "print(more_than_n([-1, 4, 4.2, 42.2, -3.4, -5.2], 10))  # [42.2]\n",
    "print(more_than_n([], 10))                              # []"
   ]
  },
  {
   "cell_type": "markdown",
   "metadata": {},
   "source": [
    "#### **Задание 5.5**"
   ]
  },
  {
   "cell_type": "markdown",
   "metadata": {},
   "source": [
    "Напишите функцию lucky_ticket(), которая проверяет, является ли билет счастливым. **Примечание.** Билет счастливый, если сумма первых трёх цифр в его номере равна сумме последних трёх цифр. На вход функция принимает шестизначное число ticket_number и должна возвращать одно из булевых значений (True или False) в зависимости от того, является ли билет счастливым. При решении постарайтесь не использовать встроенную функцию sum() — примените циклы."
   ]
  },
  {
   "cell_type": "code",
   "execution_count": 24,
   "metadata": {},
   "outputs": [
    {
     "name": "stdout",
     "output_type": "stream",
     "text": [
      "True\n",
      "False\n"
     ]
    }
   ],
   "source": [
    "def lucky_ticket(ticket_number):\n",
    "    s = str(ticket_number)                                                # номер билета переводим в строку\n",
    "    if int(s[0])+int(s[1])+int(s[2]) == int(s[-1])+int(s[-2])+int(s[-3]): # если сумма первых и последних трех цифр равны\n",
    "        return True                                                       # то возвращаем True\n",
    "    else:                                                                 # иначе\n",
    "        return False                                                      # возвращаем Fasle\n",
    "    \n",
    "print(lucky_ticket(111111))  # True\n",
    "print(lucky_ticket(123456))  # False"
   ]
  },
  {
   "cell_type": "markdown",
   "metadata": {},
   "source": [
    "#### **Задание 5.6**"
   ]
  },
  {
   "cell_type": "markdown",
   "metadata": {},
   "source": [
    "Напишите функцию holes_count(), которая принимает на вход число number, подсчитывает общее количество отверстий в заданном числе и возвращает результат.Условимся, что цифрами с отверстиями будем считать 0, 4, 6, 8 и 9. Причём в цифре 8 отверстий два, а в остальных — по одному.\n",
    "Обратите внимание, что функция должна возвращать суммарное количество отверстий по всем цифрам в числе"
   ]
  },
  {
   "cell_type": "code",
   "execution_count": 25,
   "metadata": {},
   "outputs": [
    {
     "name": "stdout",
     "output_type": "stream",
     "text": [
      "2\n",
      "2\n",
      "6\n"
     ]
    }
   ],
   "source": [
    "def holes_count(number):\n",
    "    count_holes = 0                       # инициируем нулевое количество дырок\n",
    "    s = str(number)                       # преобразуем число в строку\n",
    "    for char in s:                        # бежим по символам строки\n",
    "        if char in ('0', '4', '6', '9'):  # для символов 0,4,6,9 \n",
    "            count_holes +=1               # добавляем по 1-й дырке\n",
    "        if char == '8':                   # для символа 8\n",
    "            count_holes += 2              # добавляем 2-е дырки\n",
    "    return count_holes                    # возвращаем кол-во дырок\n",
    "\n",
    "print(holes_count(8))      # 2\n",
    "print(holes_count(146))    # 2\n",
    "print(holes_count(84628))  # 6"
   ]
  },
  {
   "cell_type": "markdown",
   "metadata": {},
   "source": [
    "#### **Задание 5.7**"
   ]
  },
  {
   "cell_type": "markdown",
   "metadata": {},
   "source": [
    "Напишите функцию even_numbers_in_matrix(), которая получает на вход матрицу (список из списков) matrix и возвращает количество чётных чисел в ней.Гарантируется, что все элементы в матрице matrix являются числами."
   ]
  },
  {
   "cell_type": "code",
   "execution_count": 26,
   "metadata": {},
   "outputs": [
    {
     "name": "stdout",
     "output_type": "stream",
     "text": [
      "5\n"
     ]
    }
   ],
   "source": [
    "def even_numbers_in_matrix(matrix):\n",
    "    count_num = 0              # инициируем 0-е кол-во четных чисел\n",
    "    for row in matrix:         # организуем цикл по строкам матрицы\n",
    "        for item in row:       # внутри рганизуем цикл по элементам строки\n",
    "            if item % 2 == 0:  # если число четное\n",
    "                count_num +=1  # то увеличиваем кол-во четных чисел на 1\n",
    "    return count_num           # возвыращаем кол-во четных чисел\n",
    "\n",
    "matrix_example = [\n",
    "    [1, 5, 4],\n",
    "    [4, 2, -2],\n",
    "    [7, 65, 88]]\n",
    "\n",
    "print(even_numbers_in_matrix(matrix=matrix_example))# 5"
   ]
  },
  {
   "cell_type": "markdown",
   "metadata": {},
   "source": [
    "#### **Задание 5.8**"
   ]
  },
  {
   "cell_type": "markdown",
   "metadata": {},
   "source": [
    "Двумерные таблицы (матрицы) — основной формат данных, с которым мы будем работать. Давайте рассмотрим операцию сложения двух матриц. Напишите функцию matrix_sum(), которая получает на вход две матрицы (matrix1, matrix2) и возвращает их сумму. **Примечание.** Чтобы сложить две матрицы, нужно просуммировать их соответствующие элементы.\n",
    "\n",
    "![](images/sum_matrix.jpg)\n",
    "\n",
    "Важно отметить, что суммировать можно только матрицы одинаковой размерности. Поэтому сначала необходимо проверить, что размеры матриц совпадают, то есть матрицы должны иметь равное количество строк, а в каждой строке должно быть равное количество элементов (столбцов). Если размеры матриц не совпадают, необходимо вывести на экран сообщение \"Error! Matrices dimensions are different!\" с помощью функции print(), а затем вернуть значение None из функции matrix_sum(). Гарантируется, что на вход подаются только прямоугольные матрицы (матрицы, в которых количество элементов в каждой из строк одинаково)."
   ]
  },
  {
   "cell_type": "code",
   "execution_count": 27,
   "metadata": {},
   "outputs": [
    {
     "name": "stdout",
     "output_type": "stream",
     "text": [
      "[[2, 10, 8], [8, 4, -4], [14, 130, 176]]\n",
      "Error! Matrices dimensions are different!\n",
      "None\n",
      "Error! Matrices dimensions are different!\n",
      "None\n"
     ]
    }
   ],
   "source": [
    "def matrix_sum(matrix1, matrix2):\n",
    "    \n",
    "    # функция возвраащет результат проверки двух ьматриц на совпадение размерности\n",
    "    def is_correct_len(matrix1, matrix2):                              \n",
    "        len1 = len(matrix1)                                            # вычисляем к-во строк в матрице 1\n",
    "        len2 = len(matrix2)                                            # вычисляем к-во строк в матрице 2\n",
    "        if len1 == len2:                                               # если к-во строк совпадает\n",
    "            for i in range(len1):                                      # орган7изуем цикл по строкам  матрицы 1\n",
    "                if len(matrix1[i]) != len(matrix2[i]):                 # если длина строк сне совпадает\n",
    "                    print('Error! Matrices dimensions are different!') # то выводим сообщение обошибке\n",
    "                    return False                                       # и возвращаем False\n",
    "            return True                                                # иначе возвращаем True (размерность совпадает)\n",
    "        else:                                                          # иначе\n",
    "            print('Error! Matrices dimensions are different!')         # выводим сообщение обошибке\n",
    "            return False                                               # и возвращаем False\n",
    "            \n",
    "    if is_correct_len(matrix1, matrix2):                               # если матрицы слрозмерны\n",
    "        sum_m = []                                                     # инициируем пустую итоговую матрицу\n",
    "        for i in range(len(matrix1)):                                  # организуем цикл по строкам матрицы 1\n",
    "            new_l = []                                                 # создаем пустую строку\n",
    "            for j in range(len(matrix1[i])):                           # организуем цикл по элементам строки\n",
    "                new_l.append(matrix1[i][j] + matrix2[i][j])            # добавляем в строку сумму двух элементов матриц\n",
    "            sum_m.append(new_l)                                        # добавляем сформированную строку в итоговую матрицу\n",
    "        return sum_m                                                   # возвращаем итоговую матрицу\n",
    "    else:                                                              # иначе (матрицы не соразмерны)\n",
    "        return None                                                    # возвращаем None\n",
    "    \n",
    "matrix_example = [\n",
    "          [1, 5, 4],\n",
    "          [4, 2, -2],\n",
    "          [7, 65, 88]]\n",
    "print(matrix_sum(matrix1=matrix_example, matrix2=matrix_example)) # [[2, 10, 8], [8, 4, -4], [14, 130, 176]]\n",
    "\n",
    "matrix1_example = [\n",
    "          [1, 5, 4],\n",
    "          [4, 2, -2]]\n",
    "matrix2_example = [\n",
    "          [10, 15, 43],\n",
    "          [41, 2, -2],\n",
    "          [7, 5, 7]]\n",
    "print(matrix_sum(matrix1=matrix1_example, matrix2=matrix2_example)) # Error! Matrices dimensions are different! None\n",
    "\n",
    "matrix1_example = [\n",
    "          [1, 5, 4, 5],\n",
    "          [4, 2, -2, -5],\n",
    "          [4, 2, -2, -5]]\n",
    "matrix2_example = [\n",
    "          [10, 15, 43],\n",
    "          [41, 2, -2],\n",
    "          [7, 5, 7]]\n",
    "print(matrix_sum(matrix1=matrix1_example, matrix2=matrix2_example)) # Error! Matrices dimensions are different!  None"
   ]
  },
  {
   "cell_type": "markdown",
   "metadata": {},
   "source": [
    "### <center>Функции<center>"
   ]
  },
  {
   "cell_type": "markdown",
   "metadata": {},
   "source": [
    "#### **Задание 6.5**"
   ]
  },
  {
   "cell_type": "markdown",
   "metadata": {},
   "source": [
    "Напишите функцию print_personal_data(), которая должна принимать на вход неизвестное количество именованных аргументов (персональных данных) в любом порядке и выводить их в виде аргумент: значение в отсортированном по алфавиту порядке имён аргументов."
   ]
  },
  {
   "cell_type": "code",
   "execution_count": null,
   "metadata": {},
   "outputs": [],
   "source": [
    "def print_personal_data(**kwargs):\n",
    "    new_dict = dict(sorted(kwargs.items(), key=lambda x: x[0]))   # сортируем словарь по алфавиту аргументов\n",
    "    for item in new_dict:                                         # организуем цикл по ключам словаря\n",
    "        print(item+':', new_dict[item])                           # выводим ключ и его значение\n",
    "        \n",
    "print_personal_data(first_name='John', last_name='Doe', age=28, position='Python developer')\n",
    "print_personal_data(first_name='Jack', last_name='Smith', age=32, work_experience = '5 years', position='Project manager')"
   ]
  },
  {
   "cell_type": "markdown",
   "metadata": {},
   "source": [
    "#### **Задание 6.6**"
   ]
  },
  {
   "cell_type": "markdown",
   "metadata": {},
   "source": [
    "Напишите функцию get_words_list(), которая:\n",
    "\n",
    "* избавляется от знаков препинания в тексте,\n",
    "* приводит текст к нижнему регистру,\n",
    "* возвращает список из слов в тексте.  \n",
    "\n",
    "Текст, к которому необходимо применить предобработку, передаётся в функцию в виде аргумента text. Для решения задачи вы можете использовать готовый список со знаками препинания. Сделайте этот список локальной переменной функции get_words_list()."
   ]
  },
  {
   "cell_type": "code",
   "execution_count": 28,
   "metadata": {},
   "outputs": [
    {
     "name": "stdout",
     "output_type": "stream",
     "text": [
      "['arrakis', 'the', 'planet', 'known', 'as', 'dune', 'is', 'forever', 'his', 'place']\n"
     ]
    }
   ],
   "source": [
    "def get_words_list(text):\n",
    "    punctuation_list = ['.', ',', ';', ':', '...', '!', '?', '-', '\"', '(', ')']  # список знаков препинания\n",
    "    for char in punctuation_list:                                                 # организуем цикл по списку знаков пунктуации\n",
    "        text = text.replace(char,'')                                              # заменяем их в тексте на пустой символ\n",
    "    text = text.lower()                                                           # приводим текст к нижнему регистру\n",
    "    return text.split()                                                           # возвращаем список слов\n",
    "\n",
    "text_example = \"Arrakis, the planet known as Dune, is forever his place.\"  # пример текста\n",
    "print(get_words_list(text=text_example))   # ['arrakis', 'the', 'planet', 'known', 'as', 'dune', 'is', 'forever', 'his', 'place']"
   ]
  },
  {
   "cell_type": "markdown",
   "metadata": {},
   "source": [
    "#### **Задание 6.7**"
   ]
  },
  {
   "cell_type": "markdown",
   "metadata": {},
   "source": [
    "Напишите функцию get_unique_words(), которая принимает на вход аргумент words_list (список из слов) и возвращает упорядоченный по алфавиту список уникальных слов. Гарантируется, что на вход функции подаётся список из слов, приведённых к единому регистру."
   ]
  },
  {
   "cell_type": "code",
   "execution_count": 29,
   "metadata": {},
   "outputs": [
    {
     "name": "stdout",
     "output_type": "stream",
     "text": [
      "['and', 'arrakis', 'as', 'be', 'born', 'by', 'caladan', 'care', 'deceived', 'do', 'dune', 'fact', 'fifteen', 'first', 'forever', 'he', 'his', 'in', 'is', 'known', 'lived', 'locate', 'most', \"muad'dib\", 'not', 'on', 'place', 'planet', 'special', 'take', 'that', 'the', 'there', 'was', 'years', 'you']\n"
     ]
    }
   ],
   "source": [
    "def get_unique_words(words_list):\n",
    "    new_list = list(set(words_list)) # получаем список уникальных слов\n",
    "    new_list.sort()                  # сортируем список \n",
    "    return new_list                  # возвращаем отсортированный список уникальных слов\n",
    "\n",
    "words_list_example = ['and', 'take', 'the', 'most', 'special', 'care', 'that', 'you', 'locate', \"muad'dib\", 'in', 'his', \n",
    "                      'place', 'the', 'planet', 'arrakis', 'do', 'not', 'be', 'deceived', 'by', 'the', 'fact', 'that', \n",
    "                      'he', 'was', 'born', 'on', 'caladan', 'and', 'lived', 'his', 'first', 'fifteen', 'years', 'there', \n",
    "                      'arrakis', 'the', 'planet', 'known', 'as', 'dune', 'is', 'forever', 'his', 'place']\n",
    "\n",
    "print(get_unique_words(words_list=words_list_example))"
   ]
  },
  {
   "cell_type": "markdown",
   "metadata": {},
   "source": [
    "#### **Задание 6.8**"
   ]
  },
  {
   "cell_type": "markdown",
   "metadata": {},
   "source": [
    "Напишите функцию get_most_frequent_word(), которая возвращает наиболее часто встречающееся слово в тексте, переданном в функцию в качестве аргумента text. Предварительно очистите текст от знаков препинания и приведите его к единому регистру (слова в верхнем и нижнем регистре считаются одним и тем же словом). В этом вам может помочь функция get_words_list(), которую мы реализовали ранее. Сделайте её внутренней функцией функции get_most_frequent_word(). Для решения задачи вам также пригодится список уникальных слов в тексте. Чтобы создать его, воспользуйтесь функцией get_unique_words() из предыдущего задания. Также сделайте её внутренней по отношению к функции get_most_frequent_word().  \n",
    "**Примечание.** Если в тексте встречаются два слова с одинаковой частотностью, функция должна возвращать то, которое начинается с буквы, стоящей ближе к началу алфавита. Например, если слова «я» и «меня» встречаются одинаковое количество раз, то функция должна вернуть слово «меня». В случае, если в функцию была передана пустая строка, она также должна возвращать пустую строку."
   ]
  },
  {
   "cell_type": "code",
   "execution_count": 30,
   "metadata": {},
   "outputs": [
    {
     "name": "stdout",
     "output_type": "stream",
     "text": [
      "the\n",
      "и\n"
     ]
    }
   ],
   "source": [
    "def get_most_frequent_word(text):\n",
    "\n",
    "    # функция возвраащет список слов текста\n",
    "    def get_words_list(text):\n",
    "        punctuation_list = ['.', ',', ';', ':', '...', '!', '?', '-', '\"', '(', ')']  # список знаков пунктуации и препинания\n",
    "        for char in punctuation_list:                                                 # организуем цикл по списку пунктуации\n",
    "            text = text.replace(char,'')                                              # заменяем знаки пункиуации пустым символом\n",
    "        text = text.lower()                                                           # приводим текст к нижнему регистру\n",
    "        return text.split()                                                           # возвращаем список слов в тексте\n",
    "    \n",
    "    temp = get_words_list(text)                                                       # получае список слов текста в нижнем регистре\n",
    "    len_temp = len(temp)                                                              # вычисляем количество слов\n",
    "    unique_words = set(temp)                                                          # получаем множество уникальных слов текста\n",
    "    words = {}                                                                        # инициируем пустой итоговый словарь\n",
    "    for item in unique_words:                                                         # организуем цикл по множеству уникальных слов\n",
    "        words[item] = temp.count(item) / len_temp                                     # вычисляем частоту слова и добавляем в итоговый словарь\n",
    "    temp = sorted(words.items(), key=lambda x: (x[1],x[0]), reverse = True)           # сортируем словарь по убыванию частоты и алфавиту\n",
    "    return temp[0][0]                                                                 # возвращаем наиболее часто встречающееся слово\n",
    "\n",
    "text_example = \"A beginning is the time for taking the most delicate care that the balances are correct. \\\n",
    "                This every sister of the Bene Gesserit knows. To begin your study of the life of Muad'Dib, \\\n",
    "                then take care that you first place him in his time: born in the 57th year of the Padishah \\\n",
    "                Emperor, Shaddam IV. And take the most special care that you locate Muad'Dib in his place: \\\n",
    "                the planet Arrakis. Do not be deceived by the fact that he was born on Caladan and lived his \\\n",
    "                first fifteen years there. Arrakis, the planet known as Dune, is forever his place.\"\n",
    "print(get_most_frequent_word(text_example))  # the\n",
    "text_example = \"Есть урок, который идет не сорок пять минут, а всю жизнь. Этот урок проходит и в классе, и в \\\n",
    "                поле, и дома, и в лесу. Я назвал этот урок седьмым потому, что в школе обычно бывает не больше \\\n",
    "                шести уроков. Не удивляйтесь, если я скажу, что учителем на этом уроке может быть и береза возле \\\n",
    "                вашего дома, и бабушка, и вы сами (В. Песков)\"\n",
    "print(get_most_frequent_word(text_example)) # и"
   ]
  },
  {
   "cell_type": "markdown",
   "metadata": {},
   "source": [
    "#### **Задание 6.9**"
   ]
  },
  {
   "cell_type": "markdown",
   "metadata": {},
   "source": [
    "Представьте, что вы работаете аналитиком в Рособрнадзоре и анализируете данные о сдаче ЕГЭ школьниками. В вашем распоряжении есть список кортежей data. Каждый кортеж в нём состоит из четырёх элементов:\n",
    "\n",
    "* имя человека,\n",
    "* балл за экзамен по русскому языку,\n",
    "* балл за экзамен по математике,\n",
    "* балл за экзамен по информатике.  \n",
    "\n",
    "Напишите функцию get_total_score(), которая принимает на вход список data, добавляет в каждый кортеж новый элемент — общий балл по всем трём экзаменам, сортирует данные по общему баллу и возвращает полученный результат."
   ]
  },
  {
   "cell_type": "code",
   "execution_count": 31,
   "metadata": {},
   "outputs": [
    {
     "name": "stdout",
     "output_type": "stream",
     "text": [
      "[('Amanda', 37, 78, 67, 182), ('Marcos', 79, 67, 89, 235), ('Dmitry', 67, 68, 100, 235), ('Patricia', 78, 93, 68, 239), ('Andrey', 100, 78, 76, 254), ('Victoria', 93, 69, 96, 258)]\n"
     ]
    }
   ],
   "source": [
    "def get_total_score(data):\n",
    "    temp=list(map(lambda x: (*x, x[1]+x[2]+x[3]), data))  # формируем новый список со средним баллом\n",
    "    return sorted(temp, key=lambda x: x[4])               # фозвращаем новый список, отсортированный по возрастанию среднего балла\n",
    "\n",
    "data = [\n",
    "    ('Amanda', 37, 78, 67),\n",
    "    ('Patricia', 78, 93, 68),\n",
    "    ('Marcos', 79, 67, 89),\n",
    "    ('Dmitry', 67, 68, 100),\n",
    "    ('Andrey', 100, 78, 76),\n",
    "    ('Victoria', 93, 69, 96)]\n",
    "\n",
    "print(get_total_score(data))"
   ]
  },
  {
   "cell_type": "markdown",
   "metadata": {},
   "source": [
    "#### **Задание 6.10**"
   ]
  },
  {
   "cell_type": "markdown",
   "metadata": {},
   "source": [
    "Дан словарь data, содержащий в себе несколько вложенных структур данных. Некоторые из них (независимо от вложенности) содержат ключ \"videoID\". Значениями для таких ключей являются идентификаторы видео. Напишите рекурсивную функцию find_video(), которая извлекает все значения с ключом \"videoID\". Функция должна принимать на вход словарь data и возвращать список из найденных идентификаторов видео."
   ]
  },
  {
   "cell_type": "code",
   "execution_count": 32,
   "metadata": {},
   "outputs": [
    {
     "name": "stdout",
     "output_type": "stream",
     "text": [
      "['vid001', 'vid002', 'vid003', 'vid004', 'vid005', 'vid006', 'vid007', 'vid008', 'vid009', 'vid010']\n"
     ]
    }
   ],
   "source": [
    "def find_video(data):\n",
    "    temp = []                                   # итнициируем пустой итоговый список\n",
    "    for item in data:                           # организуем цикл по ключам словаря\n",
    "        if type(data[item]) is list:            # если значение по ключу есть список\n",
    "            for dict in data[item]:             # то для каждого словаря из списка\n",
    "                temp = temp + find_video(dict)  # к итоговому списку добавляем список найденных из словаря dict\n",
    "        else:                                   # иначе\n",
    "            if item == 'videoID':               # если ключ равен VideoID\n",
    "                temp.append(data[item])         # то значение по ключу добавляем в итоговый срисок\n",
    "    return temp                                 # возвращаем итоговый список\n",
    "\n",
    "data = {\n",
    "    \"type\": \"video\",\n",
    "    \"videoID\": \"vid001\",\n",
    "    \"links\": [\n",
    "        {\"type\":\"video\", \"videoID\":\"vid002\", \"links\":[]},\n",
    "        {   \"type\":\"video\",\n",
    "            \"videoID\":\"vid003\",\n",
    "            \"links\": [\n",
    "            {\"type\": \"video\", \"videoID\":\"vid004\"},\n",
    "            {\"type\": \"video\", \"videoID\":\"vid005\"},\n",
    "            ]\n",
    "        },\n",
    "        {\"type\":\"video\", \"videoID\":\"vid006\"},\n",
    "        {   \"type\":\"video\",\n",
    "            \"videoID\":\"vid007\",\n",
    "            \"links\": [\n",
    "            {\"type\":\"video\", \"videoID\":\"vid008\", \"links\": [\n",
    "                {   \"type\":\"video\",\n",
    "                    \"videoID\":\"vid009\",\n",
    "                    \"links\": [{\"type\":\"video\", \"videoID\":\"vid010\"}]\n",
    "                }\n",
    "            ]}\n",
    "        ]},\n",
    "    ]}\n",
    "\n",
    "print(find_video(data))"
   ]
  },
  {
   "cell_type": "markdown",
   "metadata": {},
   "source": [
    "### <center>Итоговый проект<center>"
   ]
  },
  {
   "cell_type": "markdown",
   "metadata": {},
   "source": [
    "#### **Задание 7.1**"
   ]
  },
  {
   "cell_type": "code",
   "execution_count": 1,
   "metadata": {},
   "outputs": [],
   "source": [
    "cheese_data = {\n",
    "    'чеддер': [370, 5000, 33, 'твердый'],\n",
    "    'пармезан': [510, 4000, 29, 'твердый'],\n",
    "    'гауда': [250, 3700, 27, 'полутвердый'],\n",
    "    'эдам': [220, 10000, 30, 'полутвердый'],\n",
    "    'горгонзола': [320, 3000, 32, 'полумягкий'],\n",
    "    'рокфор': [340, 15000, 31, 'полумягкий'],\n",
    "    'стилтон': [360, 7000, 35, 'полумягкий'],\n",
    "    'камамбер': [250, 8000, 24, 'мягкий'],\n",
    "    'бри': [310, 6500, 28, 'мягкий'],\n",
    "}"
   ]
  },
  {
   "cell_type": "markdown",
   "metadata": {},
   "source": [
    "Один из клиентов сыроварни — магазин здорового питания. Им важно, чтобы сыры, которые им поставляет сыроварня, имели жирность менее n %. Информация о жирности каждого из сыров хранится в словаре cheese_data. Напишите функцию filter_by_fat(), которая принимает на вход словарь cheese_data и число n и возвращает словарь, ключами которого являются названия сыров, подходящих под заданные критерии, а значениями — их жирность."
   ]
  },
  {
   "cell_type": "code",
   "execution_count": 2,
   "metadata": {},
   "outputs": [
    {
     "name": "stdout",
     "output_type": "stream",
     "text": [
      "{'пармезан': 29, 'гауда': 27, 'камамбер': 24, 'бри': 28}\n",
      "{'камамбер': 24}\n"
     ]
    }
   ],
   "source": [
    "def filter_by_fat(data, n=0):\n",
    "    temp = dict(filter(lambda x: list(x[1])[2] < n, data.items())) # получаем словарь, отфильтрованый по жирности\n",
    "    result = {}                                                    # инициируем пустой итоговый словарь\n",
    "    for item in temp:                                              # организуем цикл по элементам отфитрованого словаря\n",
    "        result[item] = temp[item][2]                               # добавляем в итоговый словарь наименование и жирность сыра\n",
    "    return result                                                  # возвращаем итоговый словарь\n",
    "\n",
    "print(filter_by_fat(cheese_data, n=30))  # {'пармезан': 29, 'гауда': 27, 'камамбер': 24, 'бри': 28}\n",
    "print(filter_by_fat(cheese_data, n=25))  # {'камамбер': 24}"
   ]
  },
  {
   "cell_type": "markdown",
   "metadata": {},
   "source": [
    "#### **Задание 7.2**"
   ]
  },
  {
   "cell_type": "markdown",
   "metadata": {},
   "source": [
    "Владелец сыроварни хочет расширить производство сыра до максимально возможных объёмов. В словаре cheese_data есть данные о закупочной цене и максимальных объёмах производства каждого из выпускаемых сыров. Реализуйте функцию count_money(), которая принимает на вход словарь cheese_data и рассчитывает, сколько денег (в рублях) сможет в месяц зарабатывать сыроварня, если будет производить максимально возможное количество сыра. Не забудьте учесть, что в словаре закупочная цена указана за 100 грамм, а максимальный объём производства — в килограммах в месяц."
   ]
  },
  {
   "cell_type": "code",
   "execution_count": 3,
   "metadata": {},
   "outputs": [
    {
     "name": "stdout",
     "output_type": "stream",
     "text": [
      "196100000\n"
     ]
    }
   ],
   "source": [
    "def count_money(data):\n",
    "    result = 0                                        # инициируем нулевой итог\n",
    "    for item in data:                                 # организуем цикл по элементам словаря\n",
    "        result += data[item][0] * 10 * data[item][1]  # добавляем стоимость произведенной продукции в итог\n",
    "    return result                                     # возвращаем итог\n",
    "\n",
    "print(count_money(cheese_data))  ## 196100000"
   ]
  },
  {
   "cell_type": "markdown",
   "metadata": {},
   "source": [
    "#### **Задание 7.3**"
   ]
  },
  {
   "cell_type": "markdown",
   "metadata": {},
   "source": [
    "Сыроварне необходимо узнать, какие типы сыров пользуются наибольшим спросом у клиентов, чтобы организовать производство этих сыров согласно срокам их созревания. Напишите функцию find_cheese_type(), которая по запросу типа сыра формирует список из названий сыров данного типа и возвращает его. В качестве параметров в функцию передаются словарь cheese_data и строка cheese_type с искомым типом сыра. При этом порядок необходимо соблюдать, согласно условию: сначала — словарь, затем — искомый тип сыра."
   ]
  },
  {
   "cell_type": "code",
   "execution_count": 5,
   "metadata": {},
   "outputs": [
    {
     "name": "stdout",
     "output_type": "stream",
     "text": [
      "['камамбер', 'бри']\n",
      "['горгонзола', 'рокфор', 'стилтон']\n"
     ]
    }
   ],
   "source": [
    "def find_cheese_type(data, cheese_type=''):\n",
    "    result = []                             # инициируем пустой итоговый список\n",
    "    for item in data:                       # выполняем цикл по словарю продукции\n",
    "        if data[item][3] == cheese_type:    # если тип сыра соответствует исходному\n",
    "            result.append(item)             # то добавляем в итог его наименование\n",
    "    return result                           # возвраащем итоговый список\n",
    "\n",
    "print(find_cheese_type(cheese_data, cheese_type='мягкий'))      # ['камамбер', 'бри']\n",
    "print(find_cheese_type(cheese_data, cheese_type='полумягкий'))  # ['горгонзола', 'рокфор', 'стилтон']"
   ]
  },
  {
   "cell_type": "markdown",
   "metadata": {},
   "source": [
    "#### **Задание 7.4**"
   ]
  },
  {
   "cell_type": "markdown",
   "metadata": {},
   "source": [
    "Владельцу сыроварни необходимо понимать, какие сыры приносят ему наибольшую выручку. Напишите функцию sort_cheese(), которая позволит отсортировать все сыры по возрастанию их стоимости (от самых дешёвых к самым дорогим) за 100 грамм продукта. На вход функции подаётся словарь cheese_data. Функция должна возвращать список названий сыров в порядке возрастания цены."
   ]
  },
  {
   "cell_type": "code",
   "execution_count": null,
   "metadata": {},
   "outputs": [],
   "source": [
    "def sort_cheese(cheese_data):\n",
    "    temp = dict(sorted(cheese_data.items(), key=lambda x: x[1][0])) # сортируем словарь по цене\n",
    "    result =[]                                                      # инициируемый пцустой итоговый список\n",
    "    for item in temp:                                               # выполняем цикл по элементам сортированного словаря\n",
    "        result.append(item)                                         # добавляем в итоговый список наименование сыра\n",
    "    return result                                                   # возвращаем итог\n",
    "\n",
    "print(sort_cheese(cheese_data)) # ['эдам', 'гауда', 'камамбер', 'бри', 'горгонзола', 'рокфор', 'стилтон', 'чеддер', 'пармезан']"
   ]
  },
  {
   "cell_type": "markdown",
   "metadata": {},
   "source": [
    "#### **Задание 7.5**"
   ]
  },
  {
   "cell_type": "markdown",
   "metadata": {},
   "source": [
    "При планировании закупок ингредиентов для производства сыра необходимо убедиться, что один и тот же ингредиент не указан несколько раз. Все данные для закупки хранятся в списке ingredients. Вам необходимо проверить, нет ли в нём повторяющихся ингредиентов. Для проверки уникальности ингредиентов напишите функцию purchase(). На вход функции подаётся список с ингредиентами. В результате работы функции на экран выводится фраза в зависимости от данных, хранящихся в списке:\n",
    "\n",
    "* Если все ингредиенты разные, выводится строка \"Ваш заказ оформлен верно\".\n",
    "* Если ингредиент дублируется, выводится строка \"Вы продублировали ингредиент {название ингредиента} в заказе {количество дублей} раз(а)\".\n",
    "\n",
    "**Обратите внимание**, что функция purchase() ничего не возвращает, а только выводит результат на экран. Функция purchase() должна выводить элементы в том порядке, в котором они первоначально встречаются в списке ingredients."
   ]
  },
  {
   "cell_type": "code",
   "execution_count": 6,
   "metadata": {},
   "outputs": [
    {
     "name": "stdout",
     "output_type": "stream",
     "text": [
      "Ваш заказ оформлен верно\n",
      "Вы продублировали ингредиент молоко коровье в заказе 3 раз(а)\n",
      "Вы продублировали ингредиент молоко овечье в заказе 2 раз(а)\n",
      "Вы продублировали ингредиент бактерии в заказе 2 раз(а)\n",
      "Вы продублировали ингредиент молоко коровье в заказе 3 раз(а)\n",
      "Вы продублировали ингредиент соль в заказе 3 раз(а)\n",
      "Вы продублировали ингредиент молоко коровье в заказе 3 раз(а)\n",
      "Вы продублировали ингредиент бактерии в заказе 2 раз(а)\n",
      "Вы продублировали ингредиент молоко овечье в заказе 2 раз(а)\n",
      "Вы продублировали ингредиент соль в заказе 3 раз(а)\n",
      "Вы продублировали ингредиент соль в заказе 3 раз(а)\n"
     ]
    }
   ],
   "source": [
    "def purchase(lst):\n",
    "    check = True                                                              # выставляем  признак верности заказа в истину\n",
    "    for item in lst:                                                          # выполняем цикл по элементавм списка\n",
    "        n = lst.count(item)                                                   # получаем к-во повторений элемента\n",
    "        if n > 1:                                                             # если повторений больше 1\n",
    "            check = False                                                     # выставляем признак верности заказа в ложь\n",
    "            print(f'Вы продублировали ингредиент {item} в заказе {n} раз(а)') # выводим сообщение о дублировании элементов\n",
    "    if check:                                                                 # если заказ верен\n",
    "        print('Ваш заказ оформлен верно')                                     # то выводим сообщение о его верности\n",
    "        \n",
    "ingredients = ['кислота уксусная', 'кислота лимонная', 'закваска', 'кислота молочная', 'пряность', 'бактерии', 'аннато', 'кальций', 'калий', 'специя', 'молоко коровье', 'молоко овечье', 'фермент', 'соль', 'сливки', 'грибки', 'ароматизатор', 'молоко козье', 'дрожжи', 'каротин']\n",
    "purchase(ingredients)\n",
    "ingredients = ['молоко коровье', 'молоко овечье', 'бактерии', 'молоко козье', 'сливки', 'фермент', 'закваска', 'молоко коровье', 'соль', 'молоко коровье', 'бактерии', 'молоко овечье', 'кислота лимонная', 'грибки', 'соль', 'дрожжи', 'кислота уксусная', 'кальций', 'калий', 'каротин', 'аннато', 'специя', 'пряность', 'ароматизатор', 'соль', 'кислота молочная']\n",
    "purchase(ingredients)"
   ]
  }
 ],
 "metadata": {
  "kernelspec": {
   "display_name": "Python 3.7.6 64-bit",
   "language": "python",
   "name": "python3"
  },
  "language_info": {
   "codemirror_mode": {
    "name": "ipython",
    "version": 3
   },
   "file_extension": ".py",
   "mimetype": "text/x-python",
   "name": "python",
   "nbconvert_exporter": "python",
   "pygments_lexer": "ipython3",
   "version": "3.7.6"
  },
  "orig_nbformat": 4,
  "vscode": {
   "interpreter": {
    "hash": "7677f7648bdcb6014014cc63ee9b4fd0e16ad8079654355b0568baf0e7ced8ff"
   }
  }
 },
 "nbformat": 4,
 "nbformat_minor": 2
}
