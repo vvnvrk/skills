{
 "cells": [
  {
   "cell_type": "markdown",
   "metadata": {},
   "source": [
    "## Условные опреаторы"
   ]
  },
  {
   "cell_type": "markdown",
   "metadata": {},
   "source": [
    "### Операторы сравнения"
   ]
  },
  {
   "cell_type": "markdown",
   "metadata": {},
   "source": [
    "#### Сравнение чисел"
   ]
  },
  {
   "cell_type": "code",
   "execution_count": 2,
   "metadata": {},
   "outputs": [
    {
     "name": "stdout",
     "output_type": "stream",
     "text": [
      "False\n",
      "True\n",
      "14\n",
      "False\n",
      "False\n",
      "True\n"
     ]
    }
   ],
   "source": [
    "# Создаём 3 переменные, в которых содержится прибыль за 3 года\n",
    "income_2019 = 15\n",
    "income_2020 = 16.5\n",
    "income_2021 = 16.5\n",
    "# Проверяем равенство прибылей за 2019 и 2020 год\n",
    "print(income_2019 == income_2020)\n",
    "# Проверяем равенство прибылей за 2020 и 2021 год\n",
    "print(income_2020 == income_2021)\n",
    "# Создаём переменную a \n",
    "a = 14\n",
    "print(a)\n",
    "# Проверяем, что значение переменной a равно 150\n",
    "print(a == 150)\n",
    "# Проверяем, что прибыль за 2019 год больше либо равна прибыли за 2020\n",
    "print(income_2019 >= income_2020)\n",
    "# Проверяем, что прибыль за 2020 год больше либо равна прибыли за 2021\n",
    "print(income_2020 >= income_2021) "
   ]
  },
  {
   "cell_type": "markdown",
   "metadata": {},
   "source": [
    "#### Сравнение строк"
   ]
  },
  {
   "cell_type": "markdown",
   "metadata": {},
   "source": [
    "**Примечание.** Посмотреть, какое число скрывается за символом можно с помощью функции ord(). Например, символу 'F' в кодировке Unicode соответствует число 70"
   ]
  },
  {
   "cell_type": "code",
   "execution_count": 3,
   "metadata": {},
   "outputs": [
    {
     "name": "stdout",
     "output_type": "stream",
     "text": [
      "False\n",
      "True\n",
      "False\n",
      "False\n"
     ]
    }
   ],
   "source": [
    "# Создаём 3 переменных с именами пользователей\n",
    "name_user_1029 = 'Andrey'\n",
    "name_user_1040 = 'Vladimir'\n",
    "name_user_1042 = 'Andrey'\n",
    "# Сравниваем имена пользователей друг с другом\n",
    "print(name_user_1029 == name_user_1040)\n",
    "print(name_user_1029 == name_user_1042)\n",
    "# Создаём строку в нижнем регистре\n",
    "string_lower = 'test string'\n",
    "# Создаём строку в верхнем регистре\n",
    "string_upper = 'TEST STRING' \n",
    "# Проверяем их равенство\n",
    "print(string_lower == string_upper) # False\n",
    "# Создаём строку\n",
    "string_without_space = 'test string'\n",
    "# Создаём ту же строку, но пробелом в конце\n",
    "string_with_space = 'test string '\n",
    "# Проверяем их равенство\n",
    "print(string_with_space == string_without_space)  # False"
   ]
  },
  {
   "cell_type": "markdown",
   "metadata": {},
   "source": [
    "#### Сравнение коллекций"
   ]
  },
  {
   "cell_type": "code",
   "execution_count": 4,
   "metadata": {},
   "outputs": [
    {
     "name": "stdout",
     "output_type": "stream",
     "text": [
      "True\n",
      "True\n"
     ]
    }
   ],
   "source": [
    "# Создаём 2 идентичных списка\n",
    "languages_list_1 = ['Python', 'C++', 'C#', 'Java']\n",
    "languages_list_2 = ['Python', 'C++', 'C#', 'Java']\n",
    "# Проверяем их равенство\n",
    "print(languages_list_1 == languages_list_2) ## True\n",
    "# Создаём 2 идентичных словаря, различающихся порядком записи ключей\n",
    "store_dict_1 = {'Яблоки': 158, 'Мандарины': 178, 'Хлеб': 56}\n",
    "store_dict_2 = {'Хлеб': 56, 'Яблоки': 158, 'Мандарины': 178}\n",
    "# Проверяем их равенство\n",
    "print(store_dict_1 == store_dict_2)         ## True"
   ]
  },
  {
   "cell_type": "markdown",
   "metadata": {},
   "source": [
    "Напишите условие, которое проверяет, является ли строка палиндромом.\n",
    "Палиндром читается одинаково слева направо и справа налево. Например: \"шалаш\", \"казак\", \"мадам\", \"коту тащат уток\".\n",
    "Строка, которую мы хотим проверить, находится в переменной target_string.\n",
    "Важно: Обратите внимание, что результат работы программы не должен зависеть от пробелов, а также регистра символов, поэтому алгоритм решения задачи будет следующим:\n",
    "\n",
    "* привести строку к нижнему (или верхнему) регистру (это можно сделать с помощью методов lower() и upper())\n",
    "\n",
    "* убрать из нее все пробелы (это можно сделать с помощью метода replace(), передав в него первым аргументом символ пробела ' ', а вторым аргументом символ пустой строки — '')\n",
    "\n",
    "* проверить равенство полученной строки с её развернутым аналогом (развернуть строку можно с помощью срезов с отрицательным шагом — target_string[::-1])\n",
    "\n",
    "Результатом работы условия должно стать булево значение — True или False, в зависимости от того, является ли строка палиндромом. Занесите этот результат в переменную result."
   ]
  },
  {
   "cell_type": "code",
   "execution_count": 6,
   "metadata": {},
   "outputs": [
    {
     "name": "stdout",
     "output_type": "stream",
     "text": [
      "True\n"
     ]
    }
   ],
   "source": [
    "target_string = 'коту тащат уток'\n",
    "test_str = target_string.lower()\n",
    "test_str.replace(' ','')\n",
    "result = test_str == target_string[::-1].lower()\n",
    "print(result)"
   ]
  },
  {
   "cell_type": "markdown",
   "metadata": {},
   "source": [
    "### Логические операторы"
   ]
  },
  {
   "cell_type": "markdown",
   "metadata": {},
   "source": [
    "#### Логическое \"не\""
   ]
  },
  {
   "cell_type": "code",
   "execution_count": 7,
   "metadata": {},
   "outputs": [
    {
     "name": "stdout",
     "output_type": "stream",
     "text": [
      "False\n",
      "True\n",
      "True\n",
      "False\n"
     ]
    }
   ],
   "source": [
    "print(not True)                  ## False\n",
    "print(not False)                 ## True\n",
    "print(not (5 == 10))             ## True\n",
    "print(not ('abc' != 'bca'))      ## False"
   ]
  },
  {
   "cell_type": "markdown",
   "metadata": {},
   "source": [
    "#### Логическое \"и\""
   ]
  },
  {
   "cell_type": "code",
   "execution_count": 8,
   "metadata": {},
   "outputs": [
    {
     "name": "stdout",
     "output_type": "stream",
     "text": [
      "True\n",
      "False\n"
     ]
    }
   ],
   "source": [
    "a = 1                    # Создаём первое условие\n",
    "cond1 = 0 < a            # Создаём второе условие\n",
    "cond2 = 4 > a            # Проверяем, будут ли выполняться два условия одновременно\n",
    "print(cond1 and cond2)   ## True\n",
    "sym = 't'                # Проверяем, содержится ли символ в строке \"python\"\n",
    "cond3 = sym in \"python\"  # Проверяем, содержится ли символ в строке \"django\"\n",
    "cond4 = sym in \"django\"  # Проверяем, содержится ли символ в обеих строках\n",
    "print(cond3 and cond4)   ## False"
   ]
  },
  {
   "cell_type": "markdown",
   "metadata": {},
   "source": [
    "#### Логическое \"или\""
   ]
  },
  {
   "cell_type": "code",
   "execution_count": 9,
   "metadata": {},
   "outputs": [
    {
     "name": "stdout",
     "output_type": "stream",
     "text": [
      "True\n",
      "True\n"
     ]
    }
   ],
   "source": [
    "word1 = 'Institute'\n",
    "word2 = 'University'\n",
    "target_string = \"I graduated from the Moscow Aviation Institute in 2015, after which I got a job at…\"\n",
    "# Проверяем, содержится хотя бы одна из строк word1 или word2 в строке target_string\n",
    "# Для проверки принадлежности используем оператор in\n",
    "print((word1 in target_string) or (word2 in target_string))  ## True\n",
    "# Проверяем, что символ 't' есть хотя бы в одной из строк\n",
    "print(('t' in \"python\") or ('t' in \"django\"))                ## True"
   ]
  },
  {
   "cell_type": "markdown",
   "metadata": {},
   "source": [
    "Напишите условие, которое проверяет, что значение переменной a, возведенное в квадрат строго больше, чем значение переменных b и c одновременно.\n",
    "Результатом работы условия должно стать булево значение — True или False, в зависимости от выполнения заданного условия.\n",
    "Занесите этот результат в переменную result."
   ]
  },
  {
   "cell_type": "code",
   "execution_count": 11,
   "metadata": {},
   "outputs": [
    {
     "name": "stdout",
     "output_type": "stream",
     "text": [
      "False\n"
     ]
    }
   ],
   "source": [
    "a, b, c = 2, 5, 10\n",
    "result = a**2 > b and a**2 > c\n",
    "print(result)"
   ]
  },
  {
   "cell_type": "markdown",
   "metadata": {},
   "source": [
    "Представьте, что вы работаете аналитиком данных в больнице. Пусть переменные diagnosis_1, diagnosis_2 и diagnosis_3 хранят информацию о наличии у пациента различных хронических заболеваний (yes — да, no — нет). Реализуйте условие, которое проверяет, страдает ли пациент хотя бы от одного из них?\n",
    "Результатом должно стать булево значение — True или False. Занесите этот результат в переменную result"
   ]
  },
  {
   "cell_type": "code",
   "execution_count": 12,
   "metadata": {},
   "outputs": [
    {
     "name": "stdout",
     "output_type": "stream",
     "text": [
      "True\n"
     ]
    }
   ],
   "source": [
    "diagnosis_1, diagnosis_2, diagnosis_3 = 'yes', 'yes', 'no'\n",
    "result = (diagnosis_1 == 'yes') or (diagnosis_2 == 'yes') or (diagnosis_3 == 'yes')\n",
    "print(result)"
   ]
  },
  {
   "cell_type": "markdown",
   "metadata": {},
   "source": [
    "#### Оператор тождественности \"is\""
   ]
  },
  {
   "cell_type": "markdown",
   "metadata": {},
   "source": [
    "**Примечание:** чтобы узнать адрес объекта, используется функция id()."
   ]
  },
  {
   "cell_type": "code",
   "execution_count": null,
   "metadata": {},
   "outputs": [],
   "source": [
    "a = 'Hello world!'\n",
    "print(id(a))          ## 1887879822657\n",
    "a = 'simple string'\n",
    "b = a                 # Смотрим на идентификаторы переменных a и b\n",
    "print(id(a), id(b))   ## 140227942415216 140227942415216\n",
    "# Проверяем равенство идентификаторов\n",
    "print(id(a) == id(b)) ## True\n",
    "# Проверяем эквивалентность двух объектов\n",
    "print(a is b)         ## True\n",
    "c = 3\n",
    "d = 9\n",
    "# Смотрим на идентификатор переменной c\n",
    "print(id(c))          ## 1889303357808\n",
    "# Смотрим на идентификатор переменной d\n",
    "print(id(d))          ## 1889303358000\n",
    "# Проверяем эквивалентность двух объектов\n",
    "print(c is d)         ## False\n",
    "x = 15.35\n",
    "y = 15.35\n",
    "# Смотрим на идентификатор переменной x\n",
    "print(id(x))          ## 1887879819984\n",
    "# Смотрим на идентификатор переменной y\n",
    "print(id(y))          ## 1887879822608\n",
    "# Проверяем равенство двух объектов\n",
    "print(x == y)         ## True\n",
    "# Проверяем эквивалентность двух объектов\n",
    "print(x is y)         ## False\n",
    "x = 256               # константа в кеше\n",
    "y = 256               # константа в кеше\n",
    "# Проверяем равенство и эквивалентность двух объектов\n",
    "print(x == y, x is y) ## True True только для констант в кеше (-5...256), имеющих одинаковые адреса\n",
    "w = 257               # константа вне кеша\n",
    "v = 257               # константа вне кеша\n",
    "# Проверяем равенство и эквивалентность двух объектов\n",
    "print(w == v, w is v) ## True False константы вне пределов кеша и имеют разные адреса"
   ]
  }
 ],
 "metadata": {
  "kernelspec": {
   "display_name": "Python 3.7.6 64-bit",
   "language": "python",
   "name": "python3"
  },
  "language_info": {
   "codemirror_mode": {
    "name": "ipython",
    "version": 3
   },
   "file_extension": ".py",
   "mimetype": "text/x-python",
   "name": "python",
   "nbconvert_exporter": "python",
   "pygments_lexer": "ipython3",
   "version": "3.7.6"
  },
  "orig_nbformat": 4,
  "vscode": {
   "interpreter": {
    "hash": "094479cf5e9d091b9dd22e3ee71edd94f1b69fd44b150db46cc29ddd6768aa2e"
   }
  }
 },
 "nbformat": 4,
 "nbformat_minor": 2
}
