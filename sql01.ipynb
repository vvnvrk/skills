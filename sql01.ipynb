{
 "cells": [
  {
   "cell_type": "markdown",
   "metadata": {},
   "source": [
    "## Реляционные базы данных и язык SQL (Simple Query Language)"
   ]
  },
  {
   "cell_type": "markdown",
   "metadata": {},
   "source": [
    "**База данных** — это организованная структура для хранения, изменения и обработки взаимосвязанной информации."
   ]
  },
  {
   "cell_type": "markdown",
   "metadata": {},
   "source": [
    "Базы данных можно разделить на два вида:\n",
    "\n",
    "* **Реляционные.** В таких БД данные хранятся в виде связанных таблиц. В этом курсе мы сфокусируемся именно на реляционных БД.\n",
    "* **Нереляционные.** Такие БД имеют специфическую структуру: например, данные хранятся в формате ключ-значение или в виде дерева."
   ]
  },
  {
   "cell_type": "markdown",
   "metadata": {},
   "source": [
    "**Система управления базами данных**, или **СУБД** (от англ. DataBase Management System, DBMS) — это комплекс программных средств, необходимых для создания структуры новой базы, её наполнения, редактирования содержимого и отображения информации."
   ]
  },
  {
   "cell_type": "markdown",
   "metadata": {},
   "source": [
    "**SQL-запрос** представляет собой совокупность операторов, инструкций, вычисляемых функций."
   ]
  },
  {
   "cell_type": "markdown",
   "metadata": {},
   "source": [
    "Операторы SQL делятся на:\n",
    "\n",
    "* **операторы определения данных (Data Definition Language, DDL)** — с их помощью создаются и изменяются объекты в БД (сама БД, таблицы, функции, процедуры, пользователи и т. д.);\n",
    "* **операторы манипуляции данными (Data Manipulation Language, DML)** — с их помощью проводятся манипуляции с данными в таблицах;\n",
    "* **операторы определения доступа к данным (Data Control Language, DCL)** — с их помощью, как следует из названия, создаются и изменяются разрешения на определённые операции с объектами в БД;\n",
    "* **операторы управления транзакциями (Transaction Control Language, TCL)** — с их помощью осуществляется комплекс определённых действий, причём так, что либо все эти действия выполняются успешно, либо ни одно из них не выполняется вообще."
   ]
  },
  {
   "cell_type": "markdown",
   "metadata": {},
   "source": [
    "Напишите запрос, который выведет из таблицы kinopoisk столбцы с названием фильма, годом его выпуска и рейтингом.  \n",
    "\n",
    "*Запрос:* \n",
    "  \n",
    "**SELECT** movie_title, year, rating  \n",
    "**FROM** sql.kinopoisk***"
   ]
  },
  {
   "cell_type": "markdown",
   "metadata": {},
   "source": [
    "Напишите запрос, который выведет из таблицы kinopoisk следующие столбцы:\n",
    "\n",
    "* имя режиссёра (director),\n",
    "* название фильма (movie_title),\n",
    "* разница между максимально возможным рейтингом (10) и рейтингом этого фильма.  \n",
    "\n",
    "*Запрос:*  \n",
    "\n",
    "**SELECT** Director, movie_title, 10-rating   \n",
    "**FROM** sql.kinopoisk  \n",
    "\n",
    "Запрос с созданием алиаса (наименования) для нового столбца разницы в рейтингах:  \n",
    "\n",
    "*Запрос:*  \n",
    "\n",
    "**SELECT** director, movie_title, 10 - rating **AS** difference  \n",
    "**FROM** sql.kinopoisk  \n",
    "\n",
    "**Обратите внимание!** Если в алиасе используются пробелы, необходимо заключать весь псевдоним в двойные кавычки, например, movie_title AS \"Movie Title\""
   ]
  },
  {
   "cell_type": "markdown",
   "metadata": {},
   "source": [
    "Напишите запрос, который выведет столбцы с именем режиссёра, названием фильма, рейтингом по 100-балльной шкале (столбец rating_100). Рейтинг по 100-балльной шкале определите как оценку по 10-балльной, умноженную на 10.  \n",
    "\n",
    "*Запрос:*   \n",
    "\n",
    "**SELECT** Director, movie_title, rating * 10 **AS** rating_100   \n",
    "**FROM** sql.kinopoisk"
   ]
  },
  {
   "cell_type": "markdown",
   "metadata": {},
   "source": [
    "### <center>Фильтрация строк<center>"
   ]
  },
  {
   "cell_type": "markdown",
   "metadata": {},
   "source": [
    "Выбора строк, удовлетворяющем условию фильтрации используется ключевое слово **WHERE**."
   ]
  },
  {
   "cell_type": "markdown",
   "metadata": {},
   "source": [
    "Выберем первую строку из набора данных используя следующий запрос:  \n",
    "\n",
    "*Запрос:*  \n",
    "\n",
    "**SELECT** *  /*выбор всех столбцов*/  \n",
    "**FROM** sql.kinopoisk /*из таблицы sql.kinopoisk*/  \n",
    "**WHERE** position = 1 /*с позицией 1*/"
   ]
  },
  {
   "cell_type": "markdown",
   "metadata": {},
   "source": [
    "Напишите запрос, чтобы вывести все столбцы для фильмов, которые вышли в прокат в 1999 году.\n",
    "\n",
    "*Запрос:*  \n",
    "\n",
    "**SELECT** *  \n",
    "**FROM** sql.kinopoisk  \n",
    "**WHERE** year = 1999  \n"
   ]
  },
  {
   "cell_type": "markdown",
   "metadata": {},
   "source": [
    "#### <center>Логические операторы AND, OR, NOT, BETWEEN, LIKE, IN, IS и NULL<center>"
   ]
  },
  {
   "cell_type": "markdown",
   "metadata": {},
   "source": [
    "Выберем все столбцы таблицы для фильмов с годом производства 2000 и позднее или рейтингом более 8:  \n",
    "\n",
    "*Запрос:*  \n",
    "\n",
    "**SELECT** *  \n",
    "**FROM** sql.kinopoisk   \n",
    "**WHERE** year >= 2000 **OR** rating >= 8"
   ]
  },
  {
   "cell_type": "markdown",
   "metadata": {},
   "source": [
    "Выберем все столбцы таблицы для фильмов с годом производства с 1975 по 1985 включительно:\n",
    "\n",
    "*Запрос:*  \n",
    "\n",
    "**SELECT** *  \n",
    "**FROM** sql.kinopoisk  \n",
    "**WHERE** year >= 1975 **AND** year <= 1985  "
   ]
  },
  {
   "cell_type": "markdown",
   "metadata": {},
   "source": [
    "Тот же запрос с помощью оператора BETWEEN:  \n",
    "\n",
    "*Запрос:*  \n",
    "\n",
    "**SELECT** *  \n",
    "**FROM** sql.kinopoisk  \n",
    "**WHERE** year **BETWEEN** 1975 **AND** 1985"
   ]
  },
  {
   "cell_type": "markdown",
   "metadata": {},
   "source": [
    "Напишите запрос, который выведет столбцы с именем режиссёра и названием фильмов, у которых рейтинг больше или равен 8.5. Не забудьте, что в качестве десятичного разделителя используется точка.\n",
    "\n",
    "*Запрос:*  \n",
    "\n",
    "**SELECT** Director, movie_title  \n",
    "**FROM** sql.kinopoisk  \n",
    "**WHERE** rating >= 8.5"
   ]
  },
  {
   "cell_type": "markdown",
   "metadata": {},
   "source": [
    "Напишите запрос, который выведет все фильмы, кроме тех, что вышли с 1965 по 1980 годы.  \n",
    "\n",
    "*Запрос:*  \n",
    "\n",
    "**SELECT** *  \n",
    "**FROM** sql.kinopoisk  \n",
    "**WHERE** year **NOT BETWEEN** 1965 **AND** 1980"
   ]
  },
  {
   "cell_type": "markdown",
   "metadata": {},
   "source": [
    "Напишите запрос, который выводит названия фильмов, вышедших в прокат в 2000, 1985 и 1939 годах.  \n",
    "\n",
    "*Запрос:*\n",
    "\n",
    "**SELECT** movie_title  \n",
    "**FROM** sql.kinopoisk  \n",
    "**WHERE** year **IN** (1939, 1985, 2000)"
   ]
  },
  {
   "cell_type": "markdown",
   "metadata": {},
   "source": [
    "Напишите запрос, чтобы вывести название и год выпуска в прокат тех фильмов, которые были сняты режиссёром по имени Дэвид (то есть значение в поле director начинается с 'Дэвид') и имеют рейтинг больше 8.  \n",
    "\n",
    "*Запрос:*  \n",
    "\n",
    "**SELECT** movie_title, year  \n",
    "**FROM** sql.kinopoisk  \n",
    "**WHERE** Director **LIKE** 'Дэвид%' **AND** rating > 8"
   ]
  },
  {
   "cell_type": "markdown",
   "metadata": {},
   "source": [
    "Напишите запрос, который выводит все фильмы с отсутствующим описанием.  \n",
    "\n",
    "*Запрос:*\n",
    "\n",
    "**SELECT** *  \n",
    "**FROM** sql.kinopoisk  \n",
    "**WHERE** overview **IS NULL**"
   ]
  },
  {
   "cell_type": "markdown",
   "metadata": {},
   "source": [
    "### <center>Сортировка<center>"
   ]
  },
  {
   "cell_type": "markdown",
   "metadata": {},
   "source": [
    "Напишите запрос, который выведет из таблицы kinopoisk все столбцы и отсортирует строки по возрастанию рейтинга фильма.  \n",
    "\n",
    "*Запрос:*  \n",
    "\n",
    "**SELECT** *  \n",
    "**FROM** sql.kinopoisk  \n",
    "**ORDER BY** rating  \n",
    "\n",
    "*Аналогичный запрос с явным указанием способа сортировки по возрастанию:*  \n",
    "\n",
    "**SELECT** *  \n",
    "**FROM** sql.kinopoisk  \n",
    "**ORDER BY** rating **ASC**"
   ]
  },
  {
   "cell_type": "markdown",
   "metadata": {},
   "source": [
    "Напишите запрос, который выводит названия, имена режиссёров и сценаристов, а также год выхода в прокат фильмов, выпущенных в СССР, и отсортируем результат по убыванию рейтинга.  \n",
    "\n",
    "*Запрос:*\n",
    "\n",
    "**SELECT** movie_title, director, screenwriter, year   \n",
    "**FROM** sql.kinopoisk  \n",
    "**WHERE** country = 'СССР'  \n",
    "**ORDER BY** rating **DESC**"
   ]
  },
  {
   "cell_type": "markdown",
   "metadata": {},
   "source": [
    "Напишите запрос, который выведет столбцы с названием фильма, его описанием и годом выхода в прокат. Оставьте только те фильмы, у которых рейтинг не ниже 8.2 и страна производства — не США. Отсортируйте вывод по году выхода фильма в порядке убывания.  \n",
    "\n",
    "*Запрос:*\n",
    "\n",
    "**SELECT** movie_title, overview, year  \n",
    "**FROM** sql.kinopoisk  \n",
    "**WHERE** rating >= 8.2 **AND** country <> 'США'  \n",
    "**ORDER BY** year **DESC**"
   ]
  },
  {
   "cell_type": "markdown",
   "metadata": {},
   "source": [
    "Также в **ORDER BY** можно указывать, где должны идти пустые значения — в начале или в конце. Такая настройка порядка вывода задаётся с помощью ключевых слов **NULLS FIRST / NULLS LAST**."
   ]
  },
  {
   "cell_type": "markdown",
   "metadata": {},
   "source": [
    "Напишите запрос, который выводит столюцы названия фильма, рейтинг, описаниеи год выпуска. Отсортируйте резельтат так, чтобы первыми шли фильмы с пустым описанием.  \n",
    "\n",
    "*Запрос:*\n",
    "\n",
    "**SELECT** movie_title, rating, overview, year   \n",
    "**FROM** sql.kinopoisk  \n",
    "**ORDER BY** overview **NULLS FIRST**"
   ]
  },
  {
   "cell_type": "markdown",
   "metadata": {},
   "source": [
    "Напишите запрос, который выводит режиссера, название фильма, год выпуска и рейтинг . Строки отсортируйте по году выпуска и внутри него по рейтингу по убыванию.  \n",
    "\n",
    "*Запрос:*\n",
    "\n",
    "**SELECT** director, movie_title, year, rating    \n",
    "**FROM** sql.kinopoisk  \n",
    "**ORDER BY** year, rating **DESC**  \n",
    "\n",
    "*Аналогичный запрос с сортировкой по номеру столбца:*\n",
    "\n",
    "**SELECT** director, movie_title, year, rating    \n",
    "**FROM** sql.kinopoisk  \n",
    "**ORDER BY** 3, 4 **DESC**  \n",
    "\n",
    "Сортировку по номеру столбца стоит использовать с осторожностью, поскольку при изменении вывода в SELECT всё может сбиться!!!"
   ]
  },
  {
   "cell_type": "markdown",
   "metadata": {},
   "source": [
    "Напишите запрос, чтобы вывести названия всех фильмов (столбец Название фильма), у которых рейтинг выше 8.3 и страна производства — Франция. Отсортируйте по рейтингу в порядке убывания, далее — по году выхода в прокат (также в порядке убывания).  \n",
    "\n",
    "*Запрос:*  \n",
    "\n",
    "**SELECT** movie_title  \n",
    "**FROM** sql.kinopoisk  \n",
    "**WHERE** rating > 8.3 **AND** country = 'Франция'  \n",
    "**ORDER BY** rating **DESC**, year **DESC**"
   ]
  },
  {
   "cell_type": "markdown",
   "metadata": {},
   "source": [
    "### <center>Ограничение вывода<center>"
   ]
  },
  {
   "cell_type": "markdown",
   "metadata": {},
   "source": [
    "Напишите запрос, который выводит ТОП-5 фильмов по рейтингу, сначала отсортировав их по убыванию, а потом оставив только верхние пять строк с помощью LIMIT.   \n",
    "\n",
    "*Запрос:*\n",
    "\n",
    "**SELECT** movie_title, rating  \n",
    "**FROM** sql.kinopoisk   \n",
    "**ORDER BY** rating **DESC**  \n",
    "**LIMIT** 5"
   ]
  },
  {
   "cell_type": "markdown",
   "metadata": {},
   "source": [
    "Напишите запрос, который выводит информацию (Режиссёр, Название фильма и Актёры) по ТОП-20 самых старых (определяем по году выхода в прокат) фильмов из таблицы kinopoisk.  \n",
    "\n",
    "*Запрос:*\n",
    "\n",
    "**SELECT** Director, movie_title, actors  \n",
    "**FROM** sql.kinopoisk  \n",
    "**ORDER BY** year  \n",
    "**LIMIT** 20"
   ]
  },
  {
   "cell_type": "markdown",
   "metadata": {},
   "source": [
    "Напишите запрос, который выводит название и рейтинг фильмов с четвёртого по восьмое место.\n",
    "\n",
    "*Запрос:*\n",
    "\n",
    "**SELECT** movie_title, rating   \n",
    "**FROM** sql.kinopoisk  \n",
    "**ORDER BY** rating **DESC**  \n",
    "**OFFSET** 3 **LIMIT** 5"
   ]
  },
  {
   "cell_type": "markdown",
   "metadata": {},
   "source": [
    "Напишите запрос, чтобы вывести названия фильмов, которые вышли в прокат после 1990 года и были сняты не в России. Из этого списка оставьте только те фильмы, которые занимают с 20 по 47 места в рейтинге. Отсортируйте результат по убыванию рейтинга фильмов.  \n",
    "\n",
    "*Запрос*\n",
    "\n",
    "**SELECT** movie_title  \n",
    "**FROM** sql.kinopoisk  \n",
    "**WHERE** year > 1990 **AND** country <> 'Россия'  \n",
    "**ORDER BY** rating DESC  \n",
    "**OFFSET** 19 **LIMIT** 28"
   ]
  },
  {
   "cell_type": "markdown",
   "metadata": {},
   "source": [
    "Какой режиссёр снял самый старый фильм в списке?  \n",
    "\n",
    "*Запрос:*\n",
    "\n",
    "**SELECT** Director    \n",
    "**FROM** sql.kinopoisk  \n",
    "**ORDER BY** year  \n",
    "**LIMIT** 1"
   ]
  },
  {
   "cell_type": "markdown",
   "metadata": {},
   "source": [
    "В каком году был выпущен фильм, который занимает 111 строку в списке, отсортированном по рейтингу в порядке убывания?  \n",
    "\n",
    "*Запрос*\n",
    "\n",
    "**SELECT** Director, movie_title,year    \n",
    "**FROM** sql.kinopoisk  \n",
    "**ORDER BY** rating **DESC**\n",
    "**OFFSET**  110 **LIMIT** 1"
   ]
  },
  {
   "cell_type": "markdown",
   "metadata": {},
   "source": [
    "Напишите запрос, который выводит столбцы «Название фильма» (movie_title), «Режиссёр» (director), «Сценарист» (screenwriter), «Актёры» (actors). Оставьте только те фильмы, у которых:\n",
    "\n",
    "* рейтинг между 8 и 8.5 (включительно) ИЛИ год выхода в прокат до 1990;\n",
    "* есть описание;\n",
    "* название начинается не с буквы 'Т';\n",
    "* название состоит ровно из 12 символов.  \n",
    "\n",
    "Оставьте только топ-7 фильмов, отсортированных по рейтингу.\n",
    "\n",
    "*Запрос:*\n",
    "\n",
    "**SELECT**  \n",
    "    movie_title **AS** Название_фильма,   \n",
    "    Director **AS** Режиссер,   \n",
    "    screenwriter **AS** Сценарист,   \n",
    "    actors **AS** Актёры  \n",
    "**FROM** sql.kinopoisk    \n",
    "**WHERE**   \n",
    "    (rating **BETWEEN** 8 **AND** 8.5 **OR** year < 1990)  \n",
    "    **AND** overview **IS NOT NULL**  \n",
    "    **AND NOT** (movie_title **LIKE** 'T%')  \n",
    "    **AND LENGTH**(movie_title) = 12  \n",
    "**ORDER BY** rating **DESC**  \n",
    "**LIMIT** 7"
   ]
  }
 ],
 "metadata": {
  "kernelspec": {
   "display_name": "Python 3.7.6 64-bit",
   "language": "python",
   "name": "python3"
  },
  "language_info": {
   "name": "python",
   "version": "3.7.6"
  },
  "orig_nbformat": 4,
  "vscode": {
   "interpreter": {
    "hash": "094479cf5e9d091b9dd22e3ee71edd94f1b69fd44b150db46cc29ddd6768aa2e"
   }
  }
 },
 "nbformat": 4,
 "nbformat_minor": 2
}
