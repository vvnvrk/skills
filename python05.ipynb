{
 "cells": [
  {
   "cell_type": "markdown",
   "metadata": {},
   "source": [
    "## Функции"
   ]
  },
  {
   "cell_type": "markdown",
   "metadata": {},
   "source": [
    "**Функция** — это фрагмент программного кода, к которому можно обратиться из другого места программы."
   ]
  },
  {
   "cell_type": "markdown",
   "metadata": {},
   "source": [
    "**Аргумент (параметр)** — это независимая переменная, значение которой используется функцией для выполнения своего исходного кода."
   ]
  },
  {
   "cell_type": "markdown",
   "metadata": {},
   "source": [
    "Итак, **функции позволяют**:\n",
    "\n",
    "    * выполнять один и тот же набор инструкций (фрагмент исходного кода) несколько раз;\n",
    "    * выполнять одни и те же действия с различными входными данными;\n",
    "    * структурировать исходный код."
   ]
  },
  {
   "cell_type": "code",
   "execution_count": 123,
   "metadata": {},
   "outputs": [
    {
     "name": "stdout",
     "output_type": "stream",
     "text": [
      "Hello world!\n"
     ]
    }
   ],
   "source": [
    "def first_function():\n",
    "    print(\"Hello world!\")\n",
    "first_function()"
   ]
  },
  {
   "cell_type": "markdown",
   "metadata": {},
   "source": [
    "Давайте напишем функцию, которая принимает на вход расстояние и среднюю скорость и возвращает время в пути:"
   ]
  },
  {
   "cell_type": "code",
   "execution_count": 125,
   "metadata": {},
   "outputs": [
    {
     "name": "stdout",
     "output_type": "stream",
     "text": [
      "20.0\n"
     ]
    }
   ],
   "source": [
    "def get_time(distance, speed):\n",
    "    # В переменную result сохраним результат деления расстояния на скорость.\n",
    "    result = distance / speed\n",
    "    # Чтобы вернуть результат вычислений, пишем оператор return и название переменной, значение которой будет передано.\n",
    "    return result\n",
    "\n",
    "print(get_time(100, 5))"
   ]
  },
  {
   "cell_type": "markdown",
   "metadata": {},
   "source": [
    "Возврат нескольких переменных"
   ]
  },
  {
   "cell_type": "code",
   "execution_count": 127,
   "metadata": {},
   "outputs": [
    {
     "name": "stdout",
     "output_type": "stream",
     "text": [
      "Hours to travel: 1\n",
      "Minutes to travel: 12\n",
      "Hours to travel: 1\n",
      "Minutes to travel: 12\n"
     ]
    }
   ],
   "source": [
    "def get_time_tuple(distance, speed):\n",
    "    # Получаем целое число часов в пути\n",
    "    hours = distance // speed\n",
    "    # Получаем остаток км в пути\n",
    "    distance_left = distance % speed\n",
    "    # Переводим скорость из км/ч в км/мин: за одну минуту можно проехать расстояние в 60 раз меньше, чем за 1 час\n",
    "    kms_per_minute = speed / 60\n",
    "    # Делим оставшееся расстояние на скорость в км/мин и округляем до целого\n",
    "    minutes = round(distance_left / kms_per_minute)\n",
    "    # Перечисляем аргументы через запятую. Они будут возвращены функцией в виде кортежа.\n",
    "    return hours, minutes\n",
    "\n",
    "result = get_time_tuple(120, 100)      \n",
    "print(\"Hours to travel:\", result[0])\n",
    "print(\"Minutes to travel:\", result[1])\n",
    "# Через запятую перечисляем переменные, в которые сохранится результат\n",
    "hours, minutes = get_time_tuple(120, 100)\n",
    "# Красиво напечатаем результат\n",
    "print(\"Hours to travel:\", hours)\n",
    "print(\"Minutes to travel:\", minutes)"
   ]
  },
  {
   "cell_type": "markdown",
   "metadata": {},
   "source": [
    "Попробуйте добавить в функцию get_time проверку скорости на равенство нулю. Если скорость равна нулю, верните ValueError с сообщением \"Speed cannot be equal to 0!\""
   ]
  },
  {
   "cell_type": "code",
   "execution_count": 130,
   "metadata": {},
   "outputs": [
    {
     "name": "stdout",
     "output_type": "stream",
     "text": [
      "2.857142857142857\n",
      "2.5\n"
     ]
    }
   ],
   "source": [
    "def get_time(distance, speed):\n",
    "    if distance < 0 or speed < 0:\n",
    "        raise ValueError(\"Distance or speed cannot be below 0!\")\n",
    "    if speed == 0:    \n",
    "        raise ValueError(\"Speed cannot be equal to 0!\")\n",
    "    result = distance / speed\n",
    "    return result\n",
    "\n",
    "print(get_time(100,35))\n",
    "print(get_time(50,20))"
   ]
  },
  {
   "cell_type": "markdown",
   "metadata": {},
   "source": [
    "#### Аргументы по умолчанию"
   ]
  },
  {
   "cell_type": "code",
   "execution_count": 131,
   "metadata": {},
   "outputs": [
    {
     "name": "stdout",
     "output_type": "stream",
     "text": [
      "Cola with ice is ready!\n",
      "None\n",
      "Cola without ice is ready!\n",
      "None\n"
     ]
    }
   ],
   "source": [
    "# С помощью оператора '=' присвоим переменной ice значение True по умолчанию\n",
    "def get_cola(ice=True):\n",
    "    if ice == True:\n",
    "        print(\"Cola with ice is ready!\")\n",
    "    else:\n",
    "        print(\"Cola without ice is ready!\")\n",
    "        \n",
    "print(get_cola(True))\n",
    "print(get_cola(False))"
   ]
  },
  {
   "cell_type": "code",
   "execution_count": 134,
   "metadata": {},
   "outputs": [
    {
     "ename": "TypeError",
     "evalue": "get_cola() missing 1 required positional argument: 'ice'",
     "output_type": "error",
     "traceback": [
      "\u001b[1;31m---------------------------------------------------------------------------\u001b[0m",
      "\u001b[1;31mTypeError\u001b[0m                                 Traceback (most recent call last)",
      "\u001b[1;32mc:\\temp\\ipykernel_8420\\933063719.py\u001b[0m in \u001b[0;36m<module>\u001b[1;34m\u001b[0m\n\u001b[0;32m      6\u001b[0m         \u001b[0mprint\u001b[0m\u001b[1;33m(\u001b[0m\u001b[1;34m\"Cola without ice is ready!\"\u001b[0m\u001b[1;33m)\u001b[0m\u001b[1;33m\u001b[0m\u001b[1;33m\u001b[0m\u001b[0m\n\u001b[0;32m      7\u001b[0m \u001b[1;33m\u001b[0m\u001b[0m\n\u001b[1;32m----> 8\u001b[1;33m \u001b[0mget_cola\u001b[0m\u001b[1;33m(\u001b[0m\u001b[1;33m)\u001b[0m \u001b[1;31m# Будет напечатано: TypeError: get_cola() missing 1 required positional argument: 'ice'\u001b[0m\u001b[1;33m\u001b[0m\u001b[1;33m\u001b[0m\u001b[0m\n\u001b[0m",
      "\u001b[1;31mTypeError\u001b[0m: get_cola() missing 1 required positional argument: 'ice'"
     ]
    }
   ],
   "source": [
    "# Аргументу ice не присваиваем значение по умолчанию:\n",
    "def get_cola(ice):\n",
    "    if ice == True:\n",
    "        print(\"Cola with ice is ready!\")\n",
    "    else:\n",
    "        print(\"Cola without ice is ready!\")\n",
    " \n",
    "get_cola() # Будет напечатано: TypeError: get_cola() missing 1 required positional argument: 'ice'"
   ]
  },
  {
   "cell_type": "markdown",
   "metadata": {},
   "source": [
    "**В качестве аргументов по умолчанию точно можно использовать «простые» типы данных, которые не содержат в себе дополнительные значения**, такие как int, float, str, bool, None"
   ]
  },
  {
   "cell_type": "markdown",
   "metadata": {},
   "source": [
    "Дана функция add_mark(). Дополните её код таким образом, чтобы возникала ошибка ValueError с текстом \"Invalid Mark!\" при попытке поставить оценку не из списка: 2, 3, 4 или 5."
   ]
  },
  {
   "cell_type": "code",
   "execution_count": 135,
   "metadata": {},
   "outputs": [
    {
     "ename": "ValueError",
     "evalue": "Invalid Mark!",
     "output_type": "error",
     "traceback": [
      "\u001b[1;31m---------------------------------------------------------------------------\u001b[0m",
      "\u001b[1;31mValueError\u001b[0m                                Traceback (most recent call last)",
      "\u001b[1;32mc:\\temp\\ipykernel_8420\\3722412224.py\u001b[0m in \u001b[0;36m<module>\u001b[1;34m\u001b[0m\n\u001b[0;32m      8\u001b[0m     \u001b[1;32mreturn\u001b[0m \u001b[0mjournal\u001b[0m\u001b[1;33m\u001b[0m\u001b[1;33m\u001b[0m\u001b[0m\n\u001b[0;32m      9\u001b[0m \u001b[1;33m\u001b[0m\u001b[0m\n\u001b[1;32m---> 10\u001b[1;33m \u001b[0madd_mark\u001b[0m\u001b[1;33m(\u001b[0m\u001b[1;34m'Ivanov'\u001b[0m\u001b[1;33m,\u001b[0m \u001b[1;36m6\u001b[0m\u001b[1;33m)\u001b[0m\u001b[1;33m\u001b[0m\u001b[1;33m\u001b[0m\u001b[0m\n\u001b[0m",
      "\u001b[1;32mc:\\temp\\ipykernel_8420\\3722412224.py\u001b[0m in \u001b[0;36madd_mark\u001b[1;34m(name, mark, journal)\u001b[0m\n\u001b[0;32m      4\u001b[0m         \u001b[0mjournal\u001b[0m \u001b[1;33m=\u001b[0m \u001b[1;33m{\u001b[0m\u001b[1;33m}\u001b[0m\u001b[1;33m\u001b[0m\u001b[1;33m\u001b[0m\u001b[0m\n\u001b[0;32m      5\u001b[0m     \u001b[1;32mif\u001b[0m \u001b[0mmark\u001b[0m \u001b[1;32mnot\u001b[0m \u001b[1;32min\u001b[0m \u001b[1;33m{\u001b[0m\u001b[1;36m2\u001b[0m\u001b[1;33m,\u001b[0m \u001b[1;36m3\u001b[0m\u001b[1;33m,\u001b[0m \u001b[1;36m4\u001b[0m\u001b[1;33m,\u001b[0m \u001b[1;36m5\u001b[0m\u001b[1;33m}\u001b[0m\u001b[1;33m:\u001b[0m\u001b[1;33m\u001b[0m\u001b[1;33m\u001b[0m\u001b[0m\n\u001b[1;32m----> 6\u001b[1;33m         \u001b[1;32mraise\u001b[0m \u001b[0mValueError\u001b[0m\u001b[1;33m(\u001b[0m\u001b[1;34m'Invalid Mark!'\u001b[0m\u001b[1;33m)\u001b[0m\u001b[1;33m\u001b[0m\u001b[1;33m\u001b[0m\u001b[0m\n\u001b[0m\u001b[0;32m      7\u001b[0m     \u001b[0mjournal\u001b[0m\u001b[1;33m[\u001b[0m\u001b[0mname\u001b[0m\u001b[1;33m]\u001b[0m \u001b[1;33m=\u001b[0m \u001b[0mmark\u001b[0m\u001b[1;33m\u001b[0m\u001b[1;33m\u001b[0m\u001b[0m\n\u001b[0;32m      8\u001b[0m     \u001b[1;32mreturn\u001b[0m \u001b[0mjournal\u001b[0m\u001b[1;33m\u001b[0m\u001b[1;33m\u001b[0m\u001b[0m\n",
      "\u001b[1;31mValueError\u001b[0m: Invalid Mark!"
     ]
    }
   ],
   "source": [
    "def add_mark(name, mark, journal=None):\n",
    "   # Добавьте здесь проверку аргумента mark\n",
    "    if journal is None:\n",
    "        journal = {}\n",
    "    if mark not in {2, 3, 4, 5}:\n",
    "        raise ValueError('Invalid Mark!')\n",
    "    journal[name] = mark\n",
    "    return journal\n",
    "\n",
    "add_mark('Ivanov', 6)"
   ]
  },
  {
   "cell_type": "markdown",
   "metadata": {},
   "source": [
    "**Аргументы аргументы называются именованными**, поскольку мы можем написать имя аргумента и присвоить ему значение."
   ]
  },
  {
   "cell_type": "markdown",
   "metadata": {},
   "source": [
    "####  Обработка заранее неизвестного числа аргументов"
   ]
  },
  {
   "cell_type": "code",
   "execution_count": 136,
   "metadata": {},
   "outputs": [
    {
     "name": "stdout",
     "output_type": "stream",
     "text": [
      "4.0\n"
     ]
    }
   ],
   "source": [
    "# В массив args будут записаны все переданные порядковые аргументы\n",
    "def mean(*args):\n",
    "    # Среднее значение — это сумма всех значений, делённая на число этих значений\n",
    "    # Функция sum — встроенная, она возвращает сумму чисел\n",
    "    result = sum(args) / len(args)\n",
    "    return result\n",
    " \n",
    "# Передадим аргументы в функцию через запятую, чтобы посчитать их среднее\n",
    "print(mean(5,4,4,3)) # Будет напечатано 4.0"
   ]
  },
  {
   "cell_type": "code",
   "execution_count": 137,
   "metadata": {},
   "outputs": [
    {
     "name": "stdout",
     "output_type": "stream",
     "text": [
      "4.0\n"
     ]
    }
   ],
   "source": [
    "def mean(*numbers):\n",
    "    result = sum(numbers) / len(numbers)\n",
    "    return result\n",
    " \n",
    "print(mean(5,4,4,3)) # Будет напечатано 4.0"
   ]
  },
  {
   "cell_type": "markdown",
   "metadata": {},
   "source": [
    "**После аргументов, записанных через** ***args, не могут идти другие порядковые аргументы**"
   ]
  },
  {
   "cell_type": "markdown",
   "metadata": {},
   "source": [
    "Напишите функцию mult, которая считает произведение переданных в неё чисел через запятую. Примечание. Посчитайте результат с использованием цикла for."
   ]
  },
  {
   "cell_type": "code",
   "execution_count": 138,
   "metadata": {},
   "outputs": [
    {
     "name": "stdout",
     "output_type": "stream",
     "text": [
      "150\n"
     ]
    }
   ],
   "source": [
    "def mult(*args):\n",
    "    result = 1\n",
    "    for i in range(len(args)):\n",
    "        result *= args[i]        \n",
    "    return result\n",
    "\n",
    "print(mult(3,5,10))"
   ]
  },
  {
   "cell_type": "markdown",
   "metadata": {},
   "source": [
    "#### Передача разного числа именованных аргументов с помощью ещё одного оператора распаковки — двух звёздочек подряд (**)."
   ]
  },
  {
   "cell_type": "code",
   "execution_count": 139,
   "metadata": {},
   "outputs": [
    {
     "name": "stdout",
     "output_type": "stream",
     "text": [
      "Week schedule:\n",
      "monday - Python\n",
      "tuesday - SQL\n",
      "friday - ML\n"
     ]
    }
   ],
   "source": [
    "def schedule(**kwargs):\n",
    "    print(\"Week schedule:\")                  # выводим заголовок расписания\n",
    "    for key in kwargs:                       # организуем цикл по ключам словаря с расписанием\n",
    "        print(key, kwargs[key], sep=' - ')   # выводим ключ и значение через сепаратор '-'\n",
    " \n",
    "schedule(monday='Python', tuesday='SQL', friday='ML')"
   ]
  },
  {
   "cell_type": "code",
   "execution_count": 140,
   "metadata": {},
   "outputs": [
    {
     "name": "stdout",
     "output_type": "stream",
     "text": [
      "Week schedule:\n",
      "Wednesday - Maths\n",
      "Thursday - SQL\n",
      "Friday - Statistics\n"
     ]
    }
   ],
   "source": [
    "lessons = {\n",
    "    'Wednesday': 'Maths',\n",
    "    'Thursday': 'SQL',\n",
    "    'Friday': 'Statistics'}\n",
    "# Использовали оператор ** для распаковки словаря в набор значений именованных аргументов\n",
    "schedule(**lessons)"
   ]
  },
  {
   "cell_type": "markdown",
   "metadata": {},
   "source": [
    "#### Lambda-функции"
   ]
  },
  {
   "cell_type": "markdown",
   "metadata": {},
   "source": [
    " В Python есть особый класс временных или анонимных функций —  **lambda-функции.** Он позволяет быстро создавать короткие однострочные функции, для которых нет необходимости прописывать целиком сигнатуру и оператор return."
   ]
  },
  {
   "cell_type": "code",
   "execution_count": null,
   "metadata": {},
   "outputs": [],
   "source": [
    "def root(num):\n",
    "    # Напоминание: в Python используется оператор **\n",
    "    # для возведения числа в степень.\n",
    "    # В математике возведение в степень ½ соответствует\n",
    "    # вычислению квадратного корня.\n",
    "    return num ** (1/2)\n",
    "\n",
    "root = lambda num: num**(1/2)"
   ]
  },
  {
   "cell_type": "markdown",
   "metadata": {},
   "source": [
    "В переменной **root** теперь хранится функция, которая выполняет то же самое действие, которое мы описали с помощью «классической» функции через def.  \n",
    "Обобщим нашу функцию на корень произвольной степени:"
   ]
  },
  {
   "cell_type": "code",
   "execution_count": 1,
   "metadata": {},
   "outputs": [
    {
     "name": "stdout",
     "output_type": "stream",
     "text": [
      "2.154434690031884\n"
     ]
    }
   ],
   "source": [
    "nth_root = lambda num, n: num**(1/n)\n",
    "print(nth_root(10,3))"
   ]
  },
  {
   "cell_type": "markdown",
   "metadata": {},
   "source": [
    "В lambda-функции можно использовать и условия."
   ]
  },
  {
   "cell_type": "code",
   "execution_count": 2,
   "metadata": {},
   "outputs": [
    {
     "name": "stdout",
     "output_type": "stream",
     "text": [
      "even\n",
      "odd\n"
     ]
    }
   ],
   "source": [
    "is_even = lambda num: \"even\" if num % 2 == 0 else \"odd\"\n",
    "print(is_even(4))\n",
    "print(is_even(5))"
   ]
  },
  {
   "cell_type": "markdown",
   "metadata": {},
   "source": [
    "**Lambda-функции** не лишены возможности применения **операторов распаковки** в своём коде."
   ]
  },
  {
   "cell_type": "code",
   "execution_count": 3,
   "metadata": {},
   "outputs": [
    {
     "name": "stdout",
     "output_type": "stream",
     "text": [
      "(1, 4, 6, 7)\n"
     ]
    }
   ],
   "source": [
    "func_args = lambda *args: args\n",
    "print(func_args(1,4,6,7))"
   ]
  },
  {
   "cell_type": "markdown",
   "metadata": {},
   "source": [
    "Наконец, можно принимать и **args**, и **kwargs** одновременно, как и в обычной функции."
   ]
  },
  {
   "cell_type": "code",
   "execution_count": 4,
   "metadata": {},
   "outputs": [
    {
     "name": "stdout",
     "output_type": "stream",
     "text": [
      "((1, 5, 6, 7), {'name': 'Ivan', 'age': 25})\n"
     ]
    }
   ],
   "source": [
    "full_func = lambda *args, **kwargs: (args, kwargs)\n",
    "print(full_func(1,5,6,7,name='Ivan', age=25))"
   ]
  },
  {
   "cell_type": "markdown",
   "metadata": {},
   "source": [
    "На самом деле использовать lambda-функцию удобно, если требуется передать простую функцию в качестве аргумента другой функции."
   ]
  },
  {
   "cell_type": "code",
   "execution_count": 7,
   "metadata": {},
   "outputs": [
    {
     "name": "stdout",
     "output_type": "stream",
     "text": [
      "Исходный список:          ['Ivan', 'Kim', 'German', 'Margarita', 'Simon']\n",
      "Сортировка по алфавиту:   ['German', 'Ivan', 'Kim', 'Margarita', 'Simon']\n",
      "Cортировка по длине имени ['Kim', 'Ivan', 'Simon', 'German', 'Margarita']\n"
     ]
    }
   ],
   "source": [
    "names = ['Ivan', 'Kim', 'German', 'Margarita', 'Simon']\n",
    "print('Исходный список:         ', names)\n",
    "names.sort()                            # сортировка списка по алфавиту\n",
    "print('Сортировка по алфавиту:  ', names)\n",
    "names.sort(key=lambda name: len(name))  # сортировка списка по длине имени\n",
    "print('Cортировка по длине имени', names)"
   ]
  },
  {
   "cell_type": "markdown",
   "metadata": {},
   "source": [
    "#### Практика"
   ]
  },
  {
   "cell_type": "markdown",
   "metadata": {},
   "source": [
    "Напишите lambda-функцию для расчёта гипотенузы прямоугольного треугольника: она принимает на вход длины двух катетов и возвращает длину гипотенузы (третьей, самой длинной стороны прямоугольного треугольника). Формула: c = (a ** 2 + b ** 2) ** (1/2), где a и b — длины катетов, — длина гипотенузы. Сохраните эту функцию в переменную hyp."
   ]
  },
  {
   "cell_type": "code",
   "execution_count": 8,
   "metadata": {},
   "outputs": [
    {
     "name": "stdout",
     "output_type": "stream",
     "text": [
      "5.0\n",
      "9.055385138137417\n"
     ]
    }
   ],
   "source": [
    "hyp = lambda a, b: (a**2 + b**2) ** (1/2)\n",
    "\n",
    "print(hyp(3,4))\n",
    "print(hyp(1,9))"
   ]
  },
  {
   "cell_type": "markdown",
   "metadata": {},
   "source": [
    "Напишите функцию sort_sides(l_in), которая сортирует переданный в неё список l_in. Входной список состоит из кортежей с парами чисел — длинами катетов прямоугольных треугольников. Функция должна возвращать список, отсортированный по возрастанию длин гипотенуз треугольников.  \n",
    "**Примечание.** Вам пригодится lambda-функция из предыдущего задания. При этом вам потребуется заменить lambda от двух аргументов на lambda от одного аргумента и обращаться к элементам кортежа уже при вычислении гипотенузы."
   ]
  },
  {
   "cell_type": "code",
   "execution_count": 9,
   "metadata": {},
   "outputs": [
    {
     "name": "stdout",
     "output_type": "stream",
     "text": [
      "[(1, 2), (3, 4), (10, 10)]\n"
     ]
    }
   ],
   "source": [
    "def sort_sides(l_in): \n",
    "    l_in.sort(key = lambda x: (x[0]**2 + x[1]**2) ** (1/2)) # выполняем сортировку с использованием lambda-функции\n",
    "    return l_in\n",
    "\n",
    "print(sort_sides([(3,4), (1,2), (10,10)]))"
   ]
  },
  {
   "cell_type": "markdown",
   "metadata": {},
   "source": [
    "Напишите функцию get_less(list_in, num), которая принимает на вход список list_in, состоящий из чисел, и ещё одно число num. Функция должна вернуть первое найденное число из списка, которое меньше переданного во втором аргументе. Если такого числа нет, необходимо вернуть None."
   ]
  },
  {
   "cell_type": "code",
   "execution_count": 10,
   "metadata": {},
   "outputs": [
    {
     "name": "stdout",
     "output_type": "stream",
     "text": [
      "1\n",
      "None\n"
     ]
    }
   ],
   "source": [
    "def get_less(list_in, num):\n",
    "    for item in list_in:           # организуем цикл по элементам списка\n",
    "        if item < num:             # если элемент меньше заданного\n",
    "            return item            # то возвращаем найденный элемент\n",
    "# иначе по умолчанию возвращаем None\n",
    "\n",
    "print(get_less([1, 5, 8,  10], 8))\n",
    "print(get_less([1, 5, 8,  10], 0))"
   ]
  },
  {
   "cell_type": "markdown",
   "metadata": {},
   "source": [
    "Напишите функцию split_date(date), которая принимает на вход строку, задающую дату, в формате ддммгггг без разделителей. Функция должна вернуть кортеж из чисел (int): день, месяц, год.  \n",
    "**Примечание.** Здесь вам пригодятся срезы строк."
   ]
  },
  {
   "cell_type": "code",
   "execution_count": 11,
   "metadata": {},
   "outputs": [
    {
     "name": "stdout",
     "output_type": "stream",
     "text": [
      "(31, 10, 2019)\n"
     ]
    }
   ],
   "source": [
    "def split_date(date):\n",
    "    return (int(date[:2]), int(date[2:4]), int(date[4:]))\n",
    "\n",
    "print(split_date(\"31102019\"))"
   ]
  },
  {
   "cell_type": "markdown",
   "metadata": {},
   "source": [
    "Напишите функцию is_prime(num), которая проверяет, является ли число простым. Функция должна вернуть True, если число простое, иначе — False.  \n",
    "**Примечание.** Простым называют число, которое делится только на 1 или на само себя. Число 1 простым не является."
   ]
  },
  {
   "cell_type": "code",
   "execution_count": 20,
   "metadata": {},
   "outputs": [
    {
     "name": "stdout",
     "output_type": "stream",
     "text": [
      "False\n",
      "False\n",
      "True\n",
      "True\n"
     ]
    }
   ],
   "source": [
    "def is_prime(num):\n",
    "    if num == 1:                     # если число равно 1\n",
    "        return False                 # то возвращаем False (число не является простым)\n",
    "    b = (num - 1) // 2               # делим нацело на 2 предыдущее число\n",
    "    for i in range(2, b+1):          # организуем цикл для проверки простоты числа\n",
    "        if num % i == 0:             # если число делится нацело\n",
    "            return False             # то возвращаем Fasle (число не простое)\n",
    "    return True                      # иначе возвращаем True (число простое)\n",
    "\n",
    "print(is_prime(1))\n",
    "print(is_prime(10))\n",
    "print(is_prime(13))\n",
    "print(is_prime(167))"
   ]
  },
  {
   "cell_type": "markdown",
   "metadata": {},
   "source": [
    "Напишите функцию, которая выводит список всех простых иp n натуральных чисел. Для определения простого числа используйте функцию из предыдущего задания."
   ]
  },
  {
   "cell_type": "code",
   "execution_count": 21,
   "metadata": {},
   "outputs": [
    {
     "name": "stdout",
     "output_type": "stream",
     "text": [
      "[2, 3, 4, 5, 7, 11, 13, 17, 19, 23, 29, 31, 37, 41, 43, 47, 53, 59, 61, 67, 71, 73, 79, 83, 89, 97, 101, 103, 107, 109, 113, 127, 131, 137, 139, 149, 151, 157, 163, 167, 173, 179, 181, 191, 193, 197, 199, 211, 223, 227, 229, 233, 239, 241, 251, 257, 263, 269, 271, 277, 281, 283, 293, 307, 311, 313, 317, 331, 337, 347, 349, 353, 359, 367, 373, 379, 383, 389, 397, 401, 409, 419, 421, 431, 433, 439, 443, 449, 457, 461, 463, 467, 479, 487, 491, 499, 503, 509, 521, 523, 541, 547, 557, 563, 569, 571, 577, 587, 593, 599, 601, 607, 613, 617, 619, 631, 641, 643, 647, 653, 659, 661, 673, 677, 683, 691, 701, 709, 719, 727, 733, 739, 743, 751, 757, 761, 769, 773, 787, 797, 809, 811, 821, 823, 827, 829, 839, 853, 857, 859, 863, 877, 881, 883, 887, 907, 911, 919, 929, 937, 941, 947, 953, 967, 971, 977, 983, 991, 997]\n"
     ]
    }
   ],
   "source": [
    "def get_prine_list(numbers):\n",
    "    result = list()              # инициируем пустой список простых чисел\n",
    "    for i in range(2,numbers+1): # организуем цикл в интервале от 2 до numbers+1 чисел\n",
    "        if is_prime(i):          # если число простое\n",
    "            result.append(i)     # то добавляем его в список простых чисел\n",
    "    return result                # возвращаем список простых чисел\n",
    "\n",
    "print(get_prine_list(1000))"
   ]
  },
  {
   "cell_type": "markdown",
   "metadata": {},
   "source": [
    "Напишите функцию between_min_max(...), которая принимает на вход числа через запятую. Функция возвращает среднее арифметическое между максимальным и минимальным значением этих чисел, то есть (max + min)/2."
   ]
  },
  {
   "cell_type": "code",
   "execution_count": 22,
   "metadata": {},
   "outputs": [
    {
     "name": "stdout",
     "output_type": "stream",
     "text": [
      "10.0\n",
      "3.0\n"
     ]
    }
   ],
   "source": [
    "def between_min_max(*args):\n",
    "    min = args[0]             # инициируем минимум\n",
    "    max = args[0]             # инициируем максимум\n",
    "    for i in args:            # организуем цикл по списку чисел\n",
    "        if i < min:           # если число меньше минимума\n",
    "            min = i           # то обновляем минимум\n",
    "        if i > max:           # если число больше максимума\n",
    "            max = i           # то обновляем максимум\n",
    "    return (max + min) / 2    # возвращаем среднее между максимумо и минимумом\n",
    "\n",
    "print(between_min_max(10))\n",
    "print(between_min_max(1,2,3,4,5))"
   ]
  },
  {
   "cell_type": "markdown",
   "metadata": {},
   "source": [
    "Напишите функцию best_student(...), которая принимает на вход в виде именованных аргументов имена студентов и их номера в рейтинге (нагляднее в примере). Необходимо вернуть имя студента с минимальным номером по рейтингу."
   ]
  },
  {
   "cell_type": "code",
   "execution_count": 23,
   "metadata": {},
   "outputs": [
    {
     "name": "stdout",
     "output_type": "stream",
     "text": [
      "Mike\n",
      "Tom\n",
      "Jerry\n"
     ]
    }
   ],
   "source": [
    "def best_student(**students):\n",
    "    student_name = None                                    # инициируем неопределенное имя студента\n",
    "    student_rait = None                                    # инициируем неопределеннй рейтинг\n",
    "    for name, raiting in students.items():                 # организуем цикл по именам и рейтингу\n",
    "        if student_rait == None or raiting < student_rait: # если текущий рейтинг не определен или рейтинг меньше текущего\n",
    "            student_name = name                            # то текущему имени присваивается имя студента \n",
    "            student_rait = students[name]                  # обновляется текущий рейтинг по имени студента\n",
    "    return student_name                                    # возвращается найденное имя студента\n",
    "\n",
    "print(best_student(Tom=12, Mike=3))\n",
    "print(best_student(Tom=12))\n",
    "print(best_student(Tom=12, Jerry=1, Jane=2))"
   ]
  },
  {
   "cell_type": "markdown",
   "metadata": {},
   "source": [
    "Напишите lambda-функцию is_palindrom(str), которая принимает на вход одну строку str (имя параметра - x) и проверяет, является ли она палиндромом, то есть читается ли она слева-направо и справа-налево одинаково.\n",
    "\n",
    "Функция возвращает yes, если строка является палиндромом, иначе — no."
   ]
  },
  {
   "cell_type": "code",
   "execution_count": 24,
   "metadata": {},
   "outputs": [
    {
     "name": "stdout",
     "output_type": "stream",
     "text": [
      "no\n",
      "yes\n"
     ]
    }
   ],
   "source": [
    "is_palindrom = lambda x: 'yes' if str(x) == str(x)[::-1] else 'no'\n",
    "\n",
    "print(is_palindrom('1234'))\n",
    "print(is_palindrom('12321'))"
   ]
  },
  {
   "cell_type": "markdown",
   "metadata": {},
   "source": [
    "Напишите lambda-функцию area(a,b), которая принимает на вход два числа — стороны прямоугольника — через запятую и возвращает площадь прямоугольника."
   ]
  },
  {
   "cell_type": "code",
   "execution_count": 25,
   "metadata": {},
   "outputs": [
    {
     "name": "stdout",
     "output_type": "stream",
     "text": [
      "60\n"
     ]
    }
   ],
   "source": [
    "area = lambda a, b: a * b\n",
    "\n",
    "print(area(12,5))"
   ]
  },
  {
   "cell_type": "markdown",
   "metadata": {},
   "source": [
    "Перепишите функцию between_min_max из предыдущего задания в lambda-функцию. Функция принимает на вход числа через запятую и возвращает одно число — среднее между максимумом и минимумом этих чисел."
   ]
  },
  {
   "cell_type": "code",
   "execution_count": 26,
   "metadata": {},
   "outputs": [
    {
     "name": "stdout",
     "output_type": "stream",
     "text": [
      "3.0\n"
     ]
    }
   ],
   "source": [
    "between_min_max = lambda *args: (min(list(args)) + max(list(args))) / 2\n",
    "\n",
    "print(between_min_max(1,2,3,4,5))"
   ]
  },
  {
   "cell_type": "markdown",
   "metadata": {},
   "source": [
    "Напишите функцию sort_ignore_case(ls), которая принимает на вход список ls и сортирует его без учёта регистра по алфавиту. Функция возвращает отсортированный список."
   ]
  },
  {
   "cell_type": "code",
   "execution_count": 27,
   "metadata": {},
   "outputs": [
    {
     "name": "stdout",
     "output_type": "stream",
     "text": [
      "['abc', 'Acc']\n"
     ]
    }
   ],
   "source": [
    "def sort_ignore_case(ls):\n",
    "    ls.sort(key=lambda x: str(x).lower()) # сортирует список по алфавиту без учета регистра\n",
    "    return ls\n",
    "\n",
    "print(sort_ignore_case(['Acc', 'abc']))"
   ]
  },
  {
   "cell_type": "markdown",
   "metadata": {},
   "source": [
    "Напишите функцию exchange(usd, rub, rate), которая может принимать на вход сумму в долларах (usd), сумму в рублях (rub) и обменный курс (rate). Обменный курс показывает, сколько стоит один доллар. Например, курс 85.46 означает, что один доллар стоит 85 рублей и 46 копеек. В функцию должно одновременно передавать два аргумента. Если передано менее двух аргументов, должна возникнуть ошибка ValueError('Not enough arguments'). Если же передано три аргумента, должна возникнуть ошибка: ValueError('Too many arguments'). Функция должна находить третий аргумент по двум переданным. Например, если переданы суммы в разных валютах, должен возвращаться обменный курс. Если известны сумма в рублях и курс, должна быть получена эквивалентная сумма в долларах, аналогично — если передана сумма в долларах и обменный курс."
   ]
  },
  {
   "cell_type": "code",
   "execution_count": 28,
   "metadata": {},
   "outputs": [
    {
     "name": "stdout",
     "output_type": "stream",
     "text": [
      "85.0\n",
      "8500\n",
      "11.764705882352942\n"
     ]
    }
   ],
   "source": [
    "def exchange(usd=None, rub=None, rate=None):\n",
    "    if (usd is not None) and (rub is not None) and (rate is not None): # если определены все три параметра\n",
    "        raise ValueError('Too many arguments')                         # то инициируем прерывание (слишком много параметров)\n",
    "    if (rub is not None) and (rate is not None):                       # если получили рубли и курс\n",
    "        result = rub / rate                                            # то получаем кол-во долларов\n",
    "    elif (usd is not None) and (rate is not None):                     # иначе если получили доллары и курс\n",
    "        result = usd * rate                                            # то получаем кол-во рублей\n",
    "    elif (usd is not None) and (rub is not None):                      # иначе если получили рубли и доллары\n",
    "        result = rub / usd                                             # то вычисляем курс\n",
    "    else:                                                              # иначе\n",
    "        raise ValueError('Not enough arguments')                       # инициируем прерывание (мало параметров)\n",
    "    return result                                                      # возвращаем результат\n",
    "\n",
    "print(exchange(usd=100, rub=8500))\n",
    "print(exchange(usd=100, rate=85))\n",
    "print(exchange(rub=1000, rate=85))"
   ]
  },
  {
   "cell_type": "markdown",
   "metadata": {},
   "source": [
    "### Вложенные функции"
   ]
  },
  {
   "cell_type": "markdown",
   "metadata": {},
   "source": [
    "Функции, которые объявлены в теле других функций, называются **вложенными**."
   ]
  },
  {
   "cell_type": "code",
   "execution_count": 29,
   "metadata": {},
   "outputs": [
    {
     "name": "stdout",
     "output_type": "stream",
     "text": [
      "Called outer function\n",
      "Called inner function\n"
     ]
    }
   ],
   "source": [
    "# Объявляем внешнюю функцию outer()\n",
    "def outer():\n",
    "    # Печатаем информацию о вызове внешней функции\n",
    "    print('Called outer function')\n",
    "    # Объявляем внутреннюю функцию inner()\n",
    "    def inner():\n",
    "        # Печатаем информацию о вызове внутренней функции\n",
    "        print('Called inner function')\n",
    "    # Вызываем внутреннюю функцию inner()\n",
    "    inner()\n",
    "    \n",
    "outer()    "
   ]
  },
  {
   "cell_type": "markdown",
   "metadata": {},
   "source": [
    "На первом этапе напишите функцию get_count_unique_symbols(), которая:\n",
    "\n",
    "* принимает на вход строку s,\n",
    "* приводит её к нижнему регистру,\n",
    "* убирает из неё все пробелы,\n",
    "* возвращает количество уникальных символов в строке."
   ]
  },
  {
   "cell_type": "code",
   "execution_count": 36,
   "metadata": {},
   "outputs": [
    {
     "name": "stdout",
     "output_type": "stream",
     "text": [
      "9\n",
      "12\n"
     ]
    }
   ],
   "source": [
    "def get_count_unique_symbols(s):\n",
    "    temp_s = s.lower().replace(' ','')  # приводим строку к нижнему регистру и удаляем пробелы\n",
    "    return len(set(temp_s))             # возвращаем количество уникальных символов\n",
    "\n",
    "print(get_count_unique_symbols('Это простая строка'))\n",
    "print(get_count_unique_symbols('This is a simple string'))"
   ]
  },
  {
   "cell_type": "markdown",
   "metadata": {},
   "source": [
    "На втором этапе напишите функцию get_min_string(), которая:\n",
    "\n",
    "* принимает на вход две строки s1 и s2,\n",
    "* возвращает ту, в которой количество уникальных символов меньше.\n",
    "\n",
    "Чтобы определить количество уникальных символов, воспользуйтесь функцией get_count_unique_symbols(), которую вы написали в предыдущем задании. Поместите ее определение и вызов внутрь функции get_min_string(). Функция get_min_string() должна возвращать:\n",
    "\n",
    "* строку s1, если количество уникальных символов в ней меньше, чем в s2;\n",
    "* строку s2, если количество уникальных символов в ней меньше, чем в s1;\n",
    "* кортеж из строк s1 и s2 при равенстве количества уникальных символов."
   ]
  },
  {
   "cell_type": "code",
   "execution_count": null,
   "metadata": {},
   "outputs": [],
   "source": [
    "def get_min_string(s1, s2):\n",
    "    # функция возвращает количество уникальных символов\n",
    "    def get_count_unique_symbols(s):\n",
    "        temp_s = s.lower().replace(' ','')\n",
    "        return len(set(temp_s))\n",
    "    \n",
    "    len_s1 = get_count_unique_symbols(s1)  # получаем кол-во уникальных символов в строке 1\n",
    "    len_s2 = get_count_unique_symbols(s2)  # получаем кол-во уникальных символов в строке 2\n",
    "    if len_s1 < len_s2:                    # если уникальных символов меньше в строке 1\n",
    "        return s1                          # то возврашщаем строку 1\n",
    "    elif len_s1 > len_s2 :                 # иначе если уникальных символов больше в строке 1\n",
    "        return s2                          # то возврашщаем строку 2\n",
    "    else:                                  # иначе\n",
    "        return (s1, s2)                    # возвращаем кортеж из обеих строк\n",
    "    \n",
    "print(get_min_string(s1='Это простая строка', s2='This is a simple string')) ## Это простая строка\n",
    "print(get_min_string(s1='Отличная фраза', s2='Great phrase'))                ## Great phrase\n",
    "print(get_min_string(s1='школа', s2='school'))                               ## ('школа', 'school')\n"
   ]
  },
  {
   "cell_type": "markdown",
   "metadata": {},
   "source": [
    "### Разрешение переменных и области видимости."
   ]
  },
  {
   "cell_type": "markdown",
   "metadata": {},
   "source": [
    "**Разрешение** — процесс поиска интерпретатором объекта, который скрывается за названием переменной."
   ]
  },
  {
   "cell_type": "markdown",
   "metadata": {},
   "source": [
    "**Области видимости** переменных."
   ]
  },
  {
   "cell_type": "markdown",
   "metadata": {},
   "source": [
    "![](images/area.png)"
   ]
  },
  {
   "cell_type": "markdown",
   "metadata": {},
   "source": [
    "**Локальные переменные (local)** — это имена объектов, которые были объявлены в функции и используются непосредственно в ней.  \n",
    "В разряд локальных переменных также входят аргументы функции.  \n",
    "**Важно!** Эти объекты существуют только во время выполнения функции, в которой они были объявлены. После завершения работы функции они удаляются из оперативной памяти."
   ]
  },
  {
   "cell_type": "markdown",
   "metadata": {},
   "source": [
    "**Нелокальные переменные (nonlocal)** — это имена объектов, которые были объявлены во внешней функции относительно рассматриваемой функции."
   ]
  },
  {
   "cell_type": "markdown",
   "metadata": {},
   "source": [
    "**Глобальные переменные (global)** — это имена объектов , которые были объявлены непосредственно в основном блоке программы (вне функций)."
   ]
  },
  {
   "cell_type": "markdown",
   "metadata": {},
   "source": [
    "**Встроенные переменные (built-in)** — это имена объектов, которые встроены в функционал Python изначально."
   ]
  },
  {
   "cell_type": "markdown",
   "metadata": {},
   "source": [
    "**Примечание.** Вывести полный список встроенных имён вы можете, выполнив следующий код: **print(dir(__ builtins __))**"
   ]
  },
  {
   "cell_type": "markdown",
   "metadata": {},
   "source": [
    "**Примечание.** Часто нелокальную область видимости называют объемлющей (enclosed). Поэтому правило, по которому происходит поиск имени объекта среди областей видимости (разрешение), часто именуют правилом LEGB (Local Enclosed Global Built-in)."
   ]
  },
  {
   "cell_type": "markdown",
   "metadata": {},
   "source": [
    "![](images/LEBS.png)"
   ]
  },
  {
   "cell_type": "markdown",
   "metadata": {},
   "source": [
    "Мы пишем приложение для рисования графических фигур. Пока мы можем рисовать только окружности и эллипсы. Чтобы закрашивать фигуры, которые мы рисуем, необходимо рассчитывать площадь этих фигур. Для расчета площади воспользуемся простейшими формулами. Площадь окружности вычисляется по формуле:  \n",
    "S = πr², где r — радиус окружности.\n",
    "\n",
    "![](images/circle.png)\n",
    "\n",
    "Площадь эллипса вычисляется по формуле:  \n",
    "S = πab, где a и b — длины полуосей эллипса.  \n",
    "При разработке приложения мы принимаем, что π = 3,1416.  \n",
    "**Обратите внимание!* Это число является константой — его значение не меняется на всём протяжении выполнения программы. Напишите функции calculate_area_circle() и calculate_area_ellipse(). Первая функция должна принимать один аргумент r — радиус окружности, вторая функция должна принимать два аргумента a и b — длины полуосей эллипса. Каждая из функций должна возвращать площадь соответствующей фигуры, округленную до третьего знака после запятой. Обе функции должны использовать внутри себя локальные переменные с одним и тем же именем area (площади фигур) и глобальную переменную pi, объявленную вне этих функций."
   ]
  },
  {
   "cell_type": "code",
   "execution_count": 38,
   "metadata": {},
   "outputs": [
    {
     "name": "stdout",
     "output_type": "stream",
     "text": [
      "78.54\n",
      "23.562\n"
     ]
    }
   ],
   "source": [
    "pi = 3.1416\n",
    "# функция возвращает площадь окружности с радиусом r\n",
    "def calculate_area_circle(r):\n",
    "    area = round(pi * r ** 2, 3)  # получили площадь окружности\n",
    "    return area                   # вернули площадь окружности\n",
    "\n",
    "# Функция возвращает площадь эллипса с полуосями а и b\n",
    "def calculate_area_ellipse(a, b):\n",
    "    area = round(pi * a * b, 3)   # получили площадь эллипса\n",
    "    return area                   # вернули площадь эллипса\n",
    "\n",
    "print(calculate_area_circle(r=5))         ## 78.54\n",
    "print(calculate_area_ellipse(a=3, b=2.5)) ## 23.562"
   ]
  },
  {
   "cell_type": "markdown",
   "metadata": {},
   "source": [
    "### Изменение переменныых вне области видимости"
   ]
  },
  {
   "cell_type": "markdown",
   "metadata": {},
   "source": [
    "#### Изменение значений глобальных переменных. Объявление global."
   ]
  },
  {
   "cell_type": "markdown",
   "metadata": {},
   "source": [
    "Объявление глобальной переменной: **global** <имя переменной>"
   ]
  },
  {
   "cell_type": "code",
   "execution_count": 39,
   "metadata": {},
   "outputs": [
    {
     "name": "stdout",
     "output_type": "stream",
     "text": [
      "1\n"
     ]
    }
   ],
   "source": [
    "# Создадим глобальную переменную, изначально она равна 0\n",
    "global_count = 0\n",
    " \n",
    "# Создадим функцию, которая прибавляет 1 к переменной global_count\n",
    "def add_item():\n",
    "    # Здесь мог бы быть код для добавления товара в базу данных\n",
    "    \n",
    "    # Укажем, что global_count является глобальной переменной\n",
    "    global global_count \n",
    "    # Увеличим общее количество товаров на 1\n",
    "    global_count = global_count + 1\n",
    " \n",
    "# Вызовем функцию add_item()\n",
    "add_item()\n",
    "# Напечатаем значение переменной global_count\n",
    "print(global_count)  ## Будет выведено: 1"
   ]
  },
  {
   "cell_type": "markdown",
   "metadata": {},
   "source": [
    "Вам необходимо написать программу, которая будет вычислять сумму, оставшуюся на счёте у пользователя банковской карты. Посмотрите на код ниже и внесите в него исправление так, чтобы он работал верно. Не добавляйте аргументы в функцию cash, помимо less_money."
   ]
  },
  {
   "cell_type": "code",
   "execution_count": null,
   "metadata": {},
   "outputs": [],
   "source": [
    "# Функция вычисляет остаток на карте пользователя\n",
    "def cash(less_money):\n",
    "    global money           # объявлем переменную остатка доступной к изменению в функции\n",
    "    money -= less_money    # уменьшаем остаток на карте\n",
    "    return money           # возвращаем остаток\n",
    "\n",
    "money = 30240\n",
    "print(cash(240))"
   ]
  },
  {
   "cell_type": "markdown",
   "metadata": {},
   "source": [
    "Вы написали программу, которая позволяет конвертировать рубли в выбранную валюту. При написании программы вы использовали global, но позже узнали, что не стоит так часто его использовать. Перепишите следующий код, не используя global. Перепишите функцию convert() так, чтобы словарь с курсами валют и количество денег на счету были её первым и вторым аргументом, а валюта, в которую необходимо произвести конвертацию, — третьим."
   ]
  },
  {
   "cell_type": "code",
   "execution_count": null,
   "metadata": {},
   "outputs": [],
   "source": [
    "currencies = {'USD': 74, 'EUR': 88, 'GBP': 98 , 'CHF': 82} # словарь курсов валют\n",
    "money = 100000                                             # остаток на карте\n",
    "\n",
    "# Функция конвертирования остатка по курсу money в валюту currency\n",
    "def convert(currencies, money, currency):\n",
    "    return money / currencies[currency]                     # возвраащет конвертированную сумму\n",
    "\n",
    "convert_money = convert(currencies, money, 'USD')  \n",
    "print(convert_money)"
   ]
  },
  {
   "cell_type": "markdown",
   "metadata": {},
   "source": [
    "#### Изменение нелокальных переменных. Объявление nonlocal."
   ]
  },
  {
   "cell_type": "markdown",
   "metadata": {},
   "source": [
    "Объявление нелокальной переменной: **nonlocal** <имя переменной>"
   ]
  },
  {
   "cell_type": "code",
   "execution_count": 40,
   "metadata": {},
   "outputs": [
    {
     "name": "stdout",
     "output_type": "stream",
     "text": [
      "1130.5\n",
      "1130.5\n",
      "1130.5\n"
     ]
    }
   ],
   "source": [
    "# Внешняя функция для вычисления итоговой стоимости\n",
    "def calculate_cost(cost, sale):\n",
    "    # Внутренняя функция для предобработки аргумента sale\n",
    "    def preprocessing_sale():\n",
    "        # Объявляем, что используем нелокальную переменную sale\n",
    "        nonlocal sale\n",
    "        # Если sale — строка\n",
    "        if type(sale) is str:\n",
    "            # Удаляем из строки '%', приводим к float и делим на 100\n",
    "            sale = float(sale.replace('%', '')) / 100\n",
    "        # Если sale — целое число\n",
    "        elif type(sale) is int:\n",
    "            # Делим его на 100 \n",
    "            sale = sale / 100\n",
    "    # Запускаем предобработку, прежде чем вычислить стоимость\n",
    "    preprocessing_sale()\n",
    "    # Считаем итоговую стоимость и возвращаем её\n",
    "    # (стоимость — стоимость * скидка)     \n",
    "    return cost - cost * sale\n",
    "\n",
    "print(calculate_cost(1330, '15%'))\n",
    "print(calculate_cost(1330, 15))\n",
    "print(calculate_cost(1330, 0.15))"
   ]
  },
  {
   "cell_type": "markdown",
   "metadata": {},
   "source": [
    "Мы реализуем функцию count_occurrences(), у которой есть два параметра s — строка и symbols — список из символов. Функция вычисляет, сколько раз символ symbol встречается в строке s. Перед подсчётом количества символов строка s проходит предобработку: из неё удаляются пробелы, а символы приводятся к нижнему регистру. Сейчас при попытке вызвать функцию: count_occurrences('This is simple string', symbol='t') вызывается исключение UnboundLocalError.\n",
    "Исправьте код таким образом, чтобы он отрабатывал без ошибки."
   ]
  },
  {
   "cell_type": "code",
   "execution_count": 41,
   "metadata": {},
   "outputs": [
    {
     "name": "stdout",
     "output_type": "stream",
     "text": [
      "2\n"
     ]
    }
   ],
   "source": [
    "def count_occurrences(s, symbol):\n",
    "    # Внутренняя функция для предобработки строки s\n",
    "    def preprocessing_s():\n",
    "        nonlocal s\n",
    "        # Удаляем пробелы из строки\n",
    "        s = s.replace(' ', '')\n",
    "        # Приводим строку к нижнему регистру\n",
    "        s = s.lower()\n",
    "    # Вызываем функцию для предобработки аргумента s\n",
    "    preprocessing_s()\n",
    "    # Считаем количество символов symbol в строке s и возвращаем результат\n",
    "    return s.count(symbol)\n",
    "\n",
    "print(count_occurrences('This is simple string', symbol='t'))"
   ]
  },
  {
   "cell_type": "markdown",
   "metadata": {},
   "source": [
    "### **Изменение значений встроенных переменных не допускается!!!**"
   ]
  },
  {
   "cell_type": "markdown",
   "metadata": {},
   "source": [
    "Нам необходимо проанализировать, какая из рекламных кампаний оказалась наиболее успешной. Данные хранятся в словаре advertising_campaigns, где ключ — это рекламный канал, а значение — список, в котором задано суммарное количество вновь нажавших на кнопку рекламного баннера в 2021 и 2022 годах. Для каждого рекламного канала нужно получить максимальное количество откликнувшихся за 2021 и 2022 годы. Для этого мы создали пустой словарь advertising_campaigns_max и написали цикл for, в котором:\n",
    "\n",
    "* проходимся по ключам исходного словаря;\n",
    "* вычисляем максимумы в списках, соответствующих этим ключам;\n",
    "* добавляем эти значения в новый словарь.  \n",
    "\n",
    "Но что-то пошло не так, и код падает с ошибкой: TypeError: 'int' object is not callable Выясните, в чём дело, и исправьте код. В результате выполнения кода у вас должен получиться словарь advertising_campaigns_max следующего вида: {'ютуб': 248, 'вк': 514, 'радио': 339}"
   ]
  },
  {
   "cell_type": "code",
   "execution_count": 42,
   "metadata": {},
   "outputs": [
    {
     "name": "stdout",
     "output_type": "stream",
     "text": [
      "{'ютуб': 248, 'вк': 514, 'радио': 339}\n"
     ]
    }
   ],
   "source": [
    "advertising_campaigns = {'ютуб': [212, 248], 'вк': [514, 342], 'радио': [339, 125]}\n",
    "advertising_campaigns_max = {}  \n",
    "# Создаём цикл по ключам исходного словаря  \n",
    "for key in advertising_campaigns:  \n",
    "    # Вычисляем максимум в списке, лежащем по ключу key  \n",
    "    max_value = max(advertising_campaigns[key])  \n",
    "    # Добавляем максимум в новый словарь  \n",
    "    advertising_campaigns_max[key] = max_value   \n",
    "print(advertising_campaigns_max)"
   ]
  },
  {
   "cell_type": "markdown",
   "metadata": {},
   "source": [
    "#### Практика"
   ]
  },
  {
   "cell_type": "markdown",
   "metadata": {},
   "source": [
    "Напишите функцию is_leap(year), которая принимает на вход год и возвращает True, если год високосный, иначе — False.   \n",
    "**Как определить, является ли год високосным:**\n",
    "* годы, номера которых кратны 400 - високосные;\n",
    "* остальные годы, кратные 100 - невисокосные (то есть 1700, 1800, 1900, 2100, 2200, 2300 годы — невисокосные);\n",
    "* остальные годы, которых кратны 4 - високосные (например, 1964, 2004, 2008);\n",
    "* оставшиеся годы - не високосные (например, 1789, 2013, 2014)."
   ]
  },
  {
   "cell_type": "code",
   "execution_count": 43,
   "metadata": {},
   "outputs": [
    {
     "name": "stdout",
     "output_type": "stream",
     "text": [
      "True\n",
      "False\n",
      "True\n",
      "False\n"
     ]
    }
   ],
   "source": [
    "def is_leap(year):\n",
    "    return year % 400 == 0 or (year % 4 == 0 and year % 100 != 0) # возвращаем признак високосного года\n",
    "\n",
    "print(is_leap(2000)) # True\n",
    "print(is_leap(1900)) # False\n",
    "print(is_leap(2020)) # True\n",
    "print(is_leap(1700)) # False"
   ]
  },
  {
   "cell_type": "markdown",
   "metadata": {},
   "source": [
    "Сделайте функцию is_leap() из предыдущего задания внутренней функцией функции check_date(). Модифицируйте код функции check_date() так, чтобы она корректно обрабатывала високосные года."
   ]
  },
  {
   "cell_type": "code",
   "execution_count": null,
   "metadata": {},
   "outputs": [],
   "source": [
    "def check_date(day, month, year):\n",
    "    \n",
    "    # Функция возвращает True для високосного года и False для не високосного года\n",
    "    def is_leap(year):\n",
    "        return year % 400 == 0 or (year % 4 == 0 and year % 100 != 0) # возвращаем признак високосного года\n",
    "    \n",
    "    # Проверяем день, месяц и год на целочисленность\n",
    "    if (type(day) is not int) or (type(month) is not int) or (type(year) is not int): # если хоть один из аргументов не целое число\n",
    "        return False                                                                  # то возвращаем False\n",
    "    # Проверяем год на заданный диапазон\n",
    "    if (year <= 1900) or (year >= 2022): # если год вне диапазона\n",
    "        return False                     # то возвращаем False \n",
    "    # Проверяем месяц на заданный диапазон     \n",
    "    if (month < 1) or (month > 12):  # если месяц вне диапазона\n",
    "        return False                 # то возвращаем False\n",
    "    # Проверяем день на заданный диапазон  \n",
    "    if (day < 1) or (day > 31):      # если дней болше 31\n",
    "        return False                 # то возвращаем False\n",
    "    # Проверяем апрель, июнь, сентябрь и ноябрь на количество дней\n",
    "    if (month in [4,6,9,11]) and (day > 30): # если дней больше 30\n",
    "        return False                         #\n",
    "    # Проверяем количество дней в феврале\n",
    "    if month == 2:                 # если это февраль\n",
    "        if is_leap(year):          # и високосный год\n",
    "            if day > 29:           # и дней больше 29\n",
    "                return False       # то возвращаем False\n",
    "        else:                      # иначе для невисокосного года\n",
    "            if day > 28:           # если дней болше 28\n",
    "                return False       # то возвращаем False\n",
    "    return True                    # инче возвращаем True\n",
    "\n",
    "print(check_date(18, 9, 1999))     # True\n",
    "print(check_date(29, 2, 2000))     # True\n",
    "print(check_date(29, 2, 2021))     # False\n",
    "print(check_date(13, 13, 2021))    # False\n",
    "print(check_date(13.5, 12, 2021))  # False"
   ]
  },
  {
   "cell_type": "markdown",
   "metadata": {},
   "source": [
    "Нам остался финальный штрих — добавить проверку даты на корректность в функцию для регистрации! Модифицируйте функцию register() так, чтобы она выбрасывала исключение ValueError(\"Invalid Date!\"), если введённая пользователем дата является некорректной. Для этого вам пригодится функция check_date() из предыдущего задания — вы можете добавить её в функцию register() или сделать независимой, на ваш вкус."
   ]
  }
 ],
 "metadata": {
  "kernelspec": {
   "display_name": "Python 3.7.6 64-bit",
   "language": "python",
   "name": "python3"
  },
  "language_info": {
   "codemirror_mode": {
    "name": "ipython",
    "version": 3
   },
   "file_extension": ".py",
   "mimetype": "text/x-python",
   "name": "python",
   "nbconvert_exporter": "python",
   "pygments_lexer": "ipython3",
   "version": "3.7.6"
  },
  "orig_nbformat": 4,
  "vscode": {
   "interpreter": {
    "hash": "7677f7648bdcb6014014cc63ee9b4fd0e16ad8079654355b0568baf0e7ced8ff"
   }
  }
 },
 "nbformat": 4,
 "nbformat_minor": 2
}
