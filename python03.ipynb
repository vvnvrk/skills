{
 "cells": [
  {
   "cell_type": "markdown",
   "metadata": {},
   "source": [
    "## Условные опреаторы"
   ]
  },
  {
   "cell_type": "markdown",
   "metadata": {},
   "source": [
    "### Операторы сравнения"
   ]
  },
  {
   "cell_type": "markdown",
   "metadata": {},
   "source": [
    "#### Сравнение чисел"
   ]
  },
  {
   "cell_type": "code",
   "execution_count": 2,
   "metadata": {},
   "outputs": [
    {
     "name": "stdout",
     "output_type": "stream",
     "text": [
      "False\n",
      "True\n",
      "14\n",
      "False\n",
      "False\n",
      "True\n"
     ]
    }
   ],
   "source": [
    "# Создаём 3 переменные, в которых содержится прибыль за 3 года\n",
    "income_2019 = 15\n",
    "income_2020 = 16.5\n",
    "income_2021 = 16.5\n",
    "# Проверяем равенство прибылей за 2019 и 2020 год\n",
    "print(income_2019 == income_2020)\n",
    "# Проверяем равенство прибылей за 2020 и 2021 год\n",
    "print(income_2020 == income_2021)\n",
    "# Создаём переменную a \n",
    "a = 14\n",
    "print(a)\n",
    "# Проверяем, что значение переменной a равно 150\n",
    "print(a == 150)\n",
    "# Проверяем, что прибыль за 2019 год больше либо равна прибыли за 2020\n",
    "print(income_2019 >= income_2020)\n",
    "# Проверяем, что прибыль за 2020 год больше либо равна прибыли за 2021\n",
    "print(income_2020 >= income_2021) "
   ]
  },
  {
   "cell_type": "markdown",
   "metadata": {},
   "source": [
    "#### Сравнение строк"
   ]
  },
  {
   "cell_type": "markdown",
   "metadata": {},
   "source": [
    "**Примечание.** Посмотреть, какое число скрывается за символом можно с помощью функции ord(). Например, символу 'F' в кодировке Unicode соответствует число 70"
   ]
  },
  {
   "cell_type": "code",
   "execution_count": 3,
   "metadata": {},
   "outputs": [
    {
     "name": "stdout",
     "output_type": "stream",
     "text": [
      "False\n",
      "True\n",
      "False\n",
      "False\n"
     ]
    }
   ],
   "source": [
    "# Создаём 3 переменных с именами пользователей\n",
    "name_user_1029 = 'Andrey'\n",
    "name_user_1040 = 'Vladimir'\n",
    "name_user_1042 = 'Andrey'\n",
    "# Сравниваем имена пользователей друг с другом\n",
    "print(name_user_1029 == name_user_1040)\n",
    "print(name_user_1029 == name_user_1042)\n",
    "# Создаём строку в нижнем регистре\n",
    "string_lower = 'test string'\n",
    "# Создаём строку в верхнем регистре\n",
    "string_upper = 'TEST STRING' \n",
    "# Проверяем их равенство\n",
    "print(string_lower == string_upper) # False\n",
    "# Создаём строку\n",
    "string_without_space = 'test string'\n",
    "# Создаём ту же строку, но пробелом в конце\n",
    "string_with_space = 'test string '\n",
    "# Проверяем их равенство\n",
    "print(string_with_space == string_without_space)  # False"
   ]
  },
  {
   "cell_type": "markdown",
   "metadata": {},
   "source": [
    "#### Сравнение коллекций"
   ]
  },
  {
   "cell_type": "code",
   "execution_count": 4,
   "metadata": {},
   "outputs": [
    {
     "name": "stdout",
     "output_type": "stream",
     "text": [
      "True\n",
      "True\n"
     ]
    }
   ],
   "source": [
    "# Создаём 2 идентичных списка\n",
    "languages_list_1 = ['Python', 'C++', 'C#', 'Java']\n",
    "languages_list_2 = ['Python', 'C++', 'C#', 'Java']\n",
    "# Проверяем их равенство\n",
    "print(languages_list_1 == languages_list_2) ## True\n",
    "# Создаём 2 идентичных словаря, различающихся порядком записи ключей\n",
    "store_dict_1 = {'Яблоки': 158, 'Мандарины': 178, 'Хлеб': 56}\n",
    "store_dict_2 = {'Хлеб': 56, 'Яблоки': 158, 'Мандарины': 178}\n",
    "# Проверяем их равенство\n",
    "print(store_dict_1 == store_dict_2)         ## True"
   ]
  },
  {
   "cell_type": "markdown",
   "metadata": {},
   "source": [
    "Напишите условие, которое проверяет, является ли строка палиндромом.\n",
    "Палиндром читается одинаково слева направо и справа налево. Например: \"шалаш\", \"казак\", \"мадам\", \"коту тащат уток\".\n",
    "Строка, которую мы хотим проверить, находится в переменной target_string.\n",
    "Важно: Обратите внимание, что результат работы программы не должен зависеть от пробелов, а также регистра символов, поэтому алгоритм решения задачи будет следующим:\n",
    "\n",
    "* привести строку к нижнему (или верхнему) регистру (это можно сделать с помощью методов lower() и upper())\n",
    "\n",
    "* убрать из нее все пробелы (это можно сделать с помощью метода replace(), передав в него первым аргументом символ пробела ' ', а вторым аргументом символ пустой строки — '')\n",
    "\n",
    "* проверить равенство полученной строки с её развернутым аналогом (развернуть строку можно с помощью срезов с отрицательным шагом — target_string[::-1])\n",
    "\n",
    "Результатом работы условия должно стать булево значение — True или False, в зависимости от того, является ли строка палиндромом. Занесите этот результат в переменную result."
   ]
  },
  {
   "cell_type": "code",
   "execution_count": 6,
   "metadata": {},
   "outputs": [
    {
     "name": "stdout",
     "output_type": "stream",
     "text": [
      "True\n"
     ]
    }
   ],
   "source": [
    "target_string = 'коту тащат уток'\n",
    "test_str = target_string.lower()\n",
    "test_str.replace(' ','')\n",
    "result = test_str == target_string[::-1].lower()\n",
    "print(result)"
   ]
  },
  {
   "cell_type": "markdown",
   "metadata": {},
   "source": [
    "### Логические операторы"
   ]
  },
  {
   "cell_type": "markdown",
   "metadata": {},
   "source": [
    "#### Логическое \"не\""
   ]
  },
  {
   "cell_type": "code",
   "execution_count": 7,
   "metadata": {},
   "outputs": [
    {
     "name": "stdout",
     "output_type": "stream",
     "text": [
      "False\n",
      "True\n",
      "True\n",
      "False\n"
     ]
    }
   ],
   "source": [
    "print(not True)                  ## False\n",
    "print(not False)                 ## True\n",
    "print(not (5 == 10))             ## True\n",
    "print(not ('abc' != 'bca'))      ## False"
   ]
  },
  {
   "cell_type": "markdown",
   "metadata": {},
   "source": [
    "#### Логическое \"и\""
   ]
  },
  {
   "cell_type": "code",
   "execution_count": 8,
   "metadata": {},
   "outputs": [
    {
     "name": "stdout",
     "output_type": "stream",
     "text": [
      "True\n",
      "False\n"
     ]
    }
   ],
   "source": [
    "a = 1                    # Создаём первое условие\n",
    "cond1 = 0 < a            # Создаём второе условие\n",
    "cond2 = 4 > a            # Проверяем, будут ли выполняться два условия одновременно\n",
    "print(cond1 and cond2)   ## True\n",
    "sym = 't'                # Проверяем, содержится ли символ в строке \"python\"\n",
    "cond3 = sym in \"python\"  # Проверяем, содержится ли символ в строке \"django\"\n",
    "cond4 = sym in \"django\"  # Проверяем, содержится ли символ в обеих строках\n",
    "print(cond3 and cond4)   ## False"
   ]
  },
  {
   "cell_type": "markdown",
   "metadata": {},
   "source": [
    "#### Логическое \"или\""
   ]
  },
  {
   "cell_type": "code",
   "execution_count": 9,
   "metadata": {},
   "outputs": [
    {
     "name": "stdout",
     "output_type": "stream",
     "text": [
      "True\n",
      "True\n"
     ]
    }
   ],
   "source": [
    "word1 = 'Institute'\n",
    "word2 = 'University'\n",
    "target_string = \"I graduated from the Moscow Aviation Institute in 2015, after which I got a job at…\"\n",
    "# Проверяем, содержится хотя бы одна из строк word1 или word2 в строке target_string\n",
    "# Для проверки принадлежности используем оператор in\n",
    "print((word1 in target_string) or (word2 in target_string))  ## True\n",
    "# Проверяем, что символ 't' есть хотя бы в одной из строк\n",
    "print(('t' in \"python\") or ('t' in \"django\"))                ## True"
   ]
  },
  {
   "cell_type": "markdown",
   "metadata": {},
   "source": [
    "Напишите условие, которое проверяет, что значение переменной a, возведенное в квадрат строго больше, чем значение переменных b и c одновременно.\n",
    "Результатом работы условия должно стать булево значение — True или False, в зависимости от выполнения заданного условия.\n",
    "Занесите этот результат в переменную result."
   ]
  },
  {
   "cell_type": "code",
   "execution_count": 11,
   "metadata": {},
   "outputs": [
    {
     "name": "stdout",
     "output_type": "stream",
     "text": [
      "False\n"
     ]
    }
   ],
   "source": [
    "a, b, c = 2, 5, 10\n",
    "result = a**2 > b and a**2 > c\n",
    "print(result)"
   ]
  },
  {
   "cell_type": "markdown",
   "metadata": {},
   "source": [
    "Представьте, что вы работаете аналитиком данных в больнице. Пусть переменные diagnosis_1, diagnosis_2 и diagnosis_3 хранят информацию о наличии у пациента различных хронических заболеваний (yes — да, no — нет). Реализуйте условие, которое проверяет, страдает ли пациент хотя бы от одного из них?\n",
    "Результатом должно стать булево значение — True или False. Занесите этот результат в переменную result"
   ]
  },
  {
   "cell_type": "code",
   "execution_count": 12,
   "metadata": {},
   "outputs": [
    {
     "name": "stdout",
     "output_type": "stream",
     "text": [
      "True\n"
     ]
    }
   ],
   "source": [
    "diagnosis_1, diagnosis_2, diagnosis_3 = 'yes', 'yes', 'no'\n",
    "result = (diagnosis_1 == 'yes') or (diagnosis_2 == 'yes') or (diagnosis_3 == 'yes')\n",
    "print(result)"
   ]
  },
  {
   "cell_type": "markdown",
   "metadata": {},
   "source": [
    "#### Оператор тождественности \"is\""
   ]
  },
  {
   "cell_type": "markdown",
   "metadata": {},
   "source": [
    "**Примечание:** чтобы узнать адрес объекта, используется функция id()."
   ]
  },
  {
   "cell_type": "code",
   "execution_count": null,
   "metadata": {},
   "outputs": [],
   "source": [
    "a = 'Hello world!'\n",
    "print(id(a))          ## 1887879822657\n",
    "a = 'simple string'\n",
    "b = a                 # Смотрим на идентификаторы переменных a и b\n",
    "print(id(a), id(b))   ## 140227942415216 140227942415216\n",
    "# Проверяем равенство идентификаторов\n",
    "print(id(a) == id(b)) ## True\n",
    "# Проверяем эквивалентность двух объектов\n",
    "print(a is b)         ## True\n",
    "c = 3\n",
    "d = 9\n",
    "# Смотрим на идентификатор переменной c\n",
    "print(id(c))          ## 1889303357808\n",
    "# Смотрим на идентификатор переменной d\n",
    "print(id(d))          ## 1889303358000\n",
    "# Проверяем эквивалентность двух объектов\n",
    "print(c is d)         ## False\n",
    "x = 15.35\n",
    "y = 15.35\n",
    "# Смотрим на идентификатор переменной x\n",
    "print(id(x))          ## 1887879819984\n",
    "# Смотрим на идентификатор переменной y\n",
    "print(id(y))          ## 1887879822608\n",
    "# Проверяем равенство двух объектов\n",
    "print(x == y)         ## True\n",
    "# Проверяем эквивалентность двух объектов\n",
    "print(x is y)         ## False\n",
    "x = 256               # константа в кеше\n",
    "y = 256               # константа в кеше\n",
    "# Проверяем равенство и эквивалентность двух объектов\n",
    "print(x == y, x is y) ## True True только для констант в кеше (-5...256), имеющих одинаковые адреса\n",
    "w = 257               # константа вне кеша\n",
    "v = 257               # константа вне кеша\n",
    "# Проверяем равенство и эквивалентность двух объектов\n",
    "print(w == v, w is v) ## True False константы вне пределов кеша и имеют разные адреса"
   ]
  },
  {
   "cell_type": "markdown",
   "metadata": {},
   "source": [
    "#### Проверка элемента на вхождение в последовательность"
   ]
  },
  {
   "cell_type": "markdown",
   "metadata": {},
   "source": [
    "Пусть задан словарь покупок за период с 10 по 12 октября 2022 года. Ключами этого словаря являются даты, а значениями — списки с идентификаторами заказов, поступивших в этот день. Необходимо узнать, поступал ли за указанный период заказ с идентификатором 'BE14'."
   ]
  },
  {
   "cell_type": "code",
   "execution_count": 2,
   "metadata": {},
   "outputs": [
    {
     "name": "stdout",
     "output_type": "stream",
     "text": [
      "True\n"
     ]
    }
   ],
   "source": [
    "orders = {\n",
    "    '2022-10-10': ['F124', 'D89D', '142L'],\n",
    "    '2022-10-11': ['H241', 'OR24', 'BE14', '348F'],\n",
    "    '2022-10-12': ['H429', 'JAS2']}\n",
    "\n",
    "target_order = 'BE14'\n",
    "\n",
    "result = (target_order in orders['2022-10-10']) or \\\n",
    "         (target_order in orders['2022-10-11']) or \\\n",
    "         (target_order in orders['2022-10-12'])  \n",
    "print(result)"
   ]
  },
  {
   "cell_type": "markdown",
   "metadata": {},
   "source": [
    "В результате шифрования сообщения получается одно большое число, которое мы и передаём через специальные средства связи. На этапе приёма сообщения число попадает в переменную message. Пример сообщения: message = 14093530013530593. Чтобы усилить систему шифрования, мы, помимо сообщений, которые несут полезную информацию, обмениваемся и случайно сгенерированными сообщениями. Известно, что «шумовое» сообщение отличается от обычного тем, что в нём в первых шести цифрах обязательно должна содержаться цифра 5."
   ]
  },
  {
   "cell_type": "code",
   "execution_count": 4,
   "metadata": {},
   "outputs": [
    {
     "name": "stdout",
     "output_type": "stream",
     "text": [
      "False\n"
     ]
    }
   ],
   "source": [
    "message = 14093530013530593\n",
    "# Проверяем вхождение символа '5' в первые 6 символов строки message\n",
    "message_is_useful = '5' not in str(message)[:6]\n",
    "print(message_is_useful) ## False"
   ]
  },
  {
   "cell_type": "markdown",
   "metadata": {},
   "source": [
    "Дано n-значное целое число N. Напишите условие для проверки того, входят ли в заданное число цифры 3 и 7. Результатом выполнения условия должно стать значение True или False. Занесите этот результат в переменную contains.  \n",
    "Подсказки:\n",
    "\n",
    "* Переведите число N в тип данных str.\n",
    "* С помощью оператор in проверьте, является ли символ 3 и символ 7 элементом строки, полученной в результате преобразования числа N.\n",
    "* Так как оба эти условия должны выполняться одновременно, объедините условия с помощью оператора and."
   ]
  },
  {
   "cell_type": "code",
   "execution_count": 6,
   "metadata": {},
   "outputs": [
    {
     "name": "stdout",
     "output_type": "stream",
     "text": [
      "True\n"
     ]
    }
   ],
   "source": [
    "N = 12043879584\n",
    "str_n = str(N)\n",
    "contains = '3' in str_n and '7' in str_n\n",
    "print(contains)"
   ]
  },
  {
   "cell_type": "markdown",
   "metadata": {},
   "source": [
    "Напишите условие проверки корректности хода. Ход считается корректным, если новые координаты фигуры не выходят за пределы шахматной доски.\n",
    "Результат работы условия присвойте переменной move_is_correct, в которой должно содержаться значение True или False в зависимости от того, является ли ход корректным."
   ]
  },
  {
   "cell_type": "code",
   "execution_count": 7,
   "metadata": {},
   "outputs": [
    {
     "name": "stdout",
     "output_type": "stream",
     "text": [
      "True\n"
     ]
    }
   ],
   "source": [
    "x, y = 'F', 7\n",
    "row = {1,2,3,4,5,6,7,8}\n",
    "line = {'A','B','C','D','E','F','G','H'}\n",
    "move_is_correct = x in line and y in row\n",
    "print(move_is_correct)"
   ]
  },
  {
   "cell_type": "markdown",
   "metadata": {},
   "source": [
    "#### Проверка делимости чисел"
   ]
  },
  {
   "cell_type": "markdown",
   "metadata": {},
   "source": [
    "В одной упаковке карандашей содержится 13 карандашей. Количество упаковок в наличии на складе хранится в переменной available_packages. Количество произведённых карандашей хранится в переменной total_count. Необходимо реализовать условие, которое проверяет, удастся ли распределить все карандаши по упаковкам без остатка и хватит ли упаковок вообще."
   ]
  },
  {
   "cell_type": "code",
   "execution_count": 8,
   "metadata": {},
   "outputs": [
    {
     "name": "stdout",
     "output_type": "stream",
     "text": [
      "False\n"
     ]
    }
   ],
   "source": [
    "available_packages = 105\n",
    "total_count = 1677\n",
    "# Создаём переменные под каждое условие\n",
    "condition_1 = total_count % 13 == 0\n",
    "condition_2 = total_count // 13 <= available_packages\n",
    "# Проверяем, что условия выполняются одновременно\n",
    "result = condition_1 and condition_2\n",
    "print(result) ## False"
   ]
  },
  {
   "cell_type": "markdown",
   "metadata": {},
   "source": [
    "Дано n-значное целое число N. Реализуйте условие для проверки того, начинается ли число N с четной цифры. Результатом работы условия должно стать булево значение True или False. Занесите этот результат в переменную first_is_even.  \n",
    "**Подсказка:** Преобразуйте число N в тип данных str, извлеките первый символ, а затем преобразуйте его в целое число int. Проверьте, что полученное число делится на 2 без остатка."
   ]
  },
  {
   "cell_type": "code",
   "execution_count": 9,
   "metadata": {},
   "outputs": [
    {
     "name": "stdout",
     "output_type": "stream",
     "text": [
      "True\n"
     ]
    }
   ],
   "source": [
    "N = 45901\n",
    "first_is_even = int(str(N)[0])%2 == 0 \n",
    "print(first_is_even)"
   ]
  },
  {
   "cell_type": "markdown",
   "metadata": {},
   "source": [
    "Напишите условие, которое проверяет, что год является високосным. Известно, что год является високосным при выполнении хотя бы одного из следующих условий:\n",
    "\n",
    "* Номер года делится (без остатка) на 400.\n",
    "* Номер года делится (без остатка) на 4 и не делится на 100 одновременно.\n",
    "* Номер года находится в переменной year.\n",
    "\n",
    "Результат выполнения условия занесите в переменную year_is_leap. Её значение должно быть равно True или False, в зависимости от того, является ли заданный год високосным."
   ]
  },
  {
   "cell_type": "code",
   "execution_count": 10,
   "metadata": {},
   "outputs": [
    {
     "name": "stdout",
     "output_type": "stream",
     "text": [
      "True\n"
     ]
    }
   ],
   "source": [
    "year = 2000\n",
    "year_is_leap = year % 400 == 0 or (year % 4 ==0 and year % 100 !=0)\n",
    "print(year_is_leap)"
   ]
  },
  {
   "cell_type": "markdown",
   "metadata": {},
   "source": [
    "Шоколадка имеет вид прямоугольника размером n*m долек. Шоколадку можно один раз разломить по прямой на две части.\n",
    "Необходимо реализовать условие, проверяющее, можно ли таким образом отломить от шоколадки часть, состоящую ровно из k долек. Два примера таких разделений — по горизонтали и вертикали — приведены на рисунке.\n",
    "\n",
    "![](images/chocolate.jpg)\n",
    "\n",
    "Информация о количестве долек в ширину и длину шоколадки, а также количество долек, которое должно получиться после разделения, содержится в переменных n, m и k соответственно. Не забудьте также учесть, что количество долек, получаемое в остатке, должно быть строго меньше, чем общее количество долек, из которых состоит шоколадка. Результат работы условия занесите в переменную result, значение которой равно True или False в зависимости от выполнения условия."
   ]
  },
  {
   "cell_type": "code",
   "execution_count": 11,
   "metadata": {},
   "outputs": [
    {
     "name": "stdout",
     "output_type": "stream",
     "text": [
      "True\n"
     ]
    }
   ],
   "source": [
    "n, m, k = 5, 4, 8\n",
    "result = k <= (m*n) and (k % n == 0 or k % m == 0)\n",
    "print(result)"
   ]
  },
  {
   "cell_type": "markdown",
   "metadata": {},
   "source": [
    "#### Проверка эквивалентности"
   ]
  },
  {
   "cell_type": "markdown",
   "metadata": {},
   "source": [
    "**Как же объявить начальные значения переменных?**"
   ]
  },
  {
   "cell_type": "code",
   "execution_count": 12,
   "metadata": {},
   "outputs": [
    {
     "name": "stdout",
     "output_type": "stream",
     "text": [
      "None\n",
      "<class 'NoneType'>\n"
     ]
    }
   ],
   "source": [
    "name = None\n",
    "surname = None\n",
    "second_name = None\n",
    "print(name)         ## None\n",
    "print(type(name))   ## <class 'NoneType'"
   ]
  },
  {
   "cell_type": "code",
   "execution_count": 13,
   "metadata": {},
   "outputs": [
    {
     "name": "stdout",
     "output_type": "stream",
     "text": [
      "True\n"
     ]
    }
   ],
   "source": [
    "# Проверяем тождественность имени начальному значеннию\n",
    "print(second_name is None)  ## True"
   ]
  },
  {
   "cell_type": "markdown",
   "metadata": {},
   "source": [
    "Представьте, что вы обрабатываете заполненные пользователями онлайн-заявки. Переменная phone в виде строки хранит указанный пользователем номер телефона и None, если соответствующее поле в анкете заполнено не было. Реализуйте условие, которое проверит, оставил ли пользователь номер телефона. Результатом работы условия должно стать булево значение True или False в зависимости от того, заполнено ли поле с номером телефона. Результат занесите в переменную phone_is_defined."
   ]
  },
  {
   "cell_type": "code",
   "execution_count": 14,
   "metadata": {},
   "outputs": [
    {
     "name": "stdout",
     "output_type": "stream",
     "text": [
      "True\n"
     ]
    }
   ],
   "source": [
    "phone = '+7 927 124 42 12'\n",
    "phone_is_defined = not phone is None\n",
    "print(phone_is_defined)"
   ]
  },
  {
   "cell_type": "markdown",
   "metadata": {},
   "source": [
    "В словаре arrival_of_goods хранится информация о приходах товара на склад интернет-магазина. Ключами этого словаря являются номера накладных, а значениями — словари, в которых содержится информация о товаре и его количестве в каждой из накладной. Мы проводим аналитику прихода товара на склад. В переменной invoice_number содержится номер накладной, который мы хотим найти. С помощью метода словарей get() и проверки на None реализуйте условие, которое проверяет, есть ли в истории прихода накладная с указанным в переменной invoice_number номером. Результатом работы условия должна стать булева переменная со значением True или False в зависимости от того, существует ли в системе указанная накладная. Результат занесите в переменную invoice_exists."
   ]
  },
  {
   "cell_type": "code",
   "execution_count": 15,
   "metadata": {},
   "outputs": [
    {
     "name": "stdout",
     "output_type": "stream",
     "text": [
      "True\n"
     ]
    }
   ],
   "source": [
    "arrival_of_goods = {\n",
    "    '148902': {\n",
    "        'Футболка с принтом': 180,\n",
    "        'Свитшот черный': 245,\n",
    "        'Джинсы серые': 252},\n",
    "    '893516': {\n",
    "        'Футболка с принтом': 43,\n",
    "        'Свитшот черный': 64,\n",
    "        'Джинсы черные': 102},\n",
    "    '893481': {\n",
    "        'Кружка керамическая': 35,\n",
    "        'Свитшот черный': 10,\n",
    "        'Джинсы сервые': 14}}\n",
    "invoice_number = '148902'\n",
    "invoice_exists = not arrival_of_goods.get(invoice_number) is None\n",
    "print(invoice_exists)"
   ]
  },
  {
   "cell_type": "markdown",
   "metadata": {},
   "source": [
    "### Простой условный оператор"
   ]
  },
  {
   "cell_type": "markdown",
   "metadata": {},
   "source": [
    "На языке Python условный оператор записывается следующим образом:"
   ]
  },
  {
   "cell_type": "code",
   "execution_count": null,
   "metadata": {},
   "outputs": [],
   "source": [
    "if Условие:  \n",
    "    Блок инструкций 1  \n",
    "else:  \n",
    "    Блок инструкций 2"
   ]
  },
  {
   "cell_type": "code",
   "execution_count": 16,
   "metadata": {},
   "outputs": [
    {
     "name": "stdout",
     "output_type": "stream",
     "text": [
      "Take an umbrella\n"
     ]
    }
   ],
   "source": [
    "is_rainy = True  # дождь будет\n",
    "# Реализуем условный оператор\n",
    "# В блок if помещаем условие \n",
    "if is_rainy:\n",
    "    print(\"Take an umbrella\")        # брать зонт\n",
    "else:\n",
    "    print(\"Don't take an umbrella\")  # не брать зонт"
   ]
  },
  {
   "cell_type": "markdown",
   "metadata": {},
   "source": [
    "Начинающий программист торопился и допустил в своей программе несколько синтаксических ошибок. Ваша задача — исправить код так, чтобы он отработал без синтаксических ошибок"
   ]
  },
  {
   "cell_type": "code",
   "execution_count": 17,
   "metadata": {},
   "outputs": [
    {
     "name": "stdout",
     "output_type": "stream",
     "text": [
      "-5\n",
      "0\n"
     ]
    }
   ],
   "source": [
    "mx = 0\n",
    "s = 0\n",
    "\n",
    "x = -5\n",
    "if x < 0:\n",
    "    s = x\n",
    "\n",
    "if x > mx:\n",
    "    mx = x\n",
    "\n",
    "print(s)\n",
    "print(mx)"
   ]
  },
  {
   "cell_type": "markdown",
   "metadata": {},
   "source": [
    "Вам необходимо запрограммировать сенсор в общественном помещении, который определяет количество человек. Если людей в помещении меньше 10, то на табло должно гореть сообщение «Добро пожаловать!», а в противном случае — «Всё занято. Подождите!». Количество человек в помещении хранится в переменной people_count. Организуйте вывод на табло с помощью функции print()."
   ]
  },
  {
   "cell_type": "code",
   "execution_count": 18,
   "metadata": {},
   "outputs": [
    {
     "name": "stdout",
     "output_type": "stream",
     "text": [
      "Добро пожаловать!\n"
     ]
    }
   ],
   "source": [
    "people_count = 5\n",
    "if people_count < 10:\n",
    "    print('Добро пожаловать!')\n",
    "else:\n",
    "    print('Всё занято. Подождите!')"
   ]
  },
  {
   "cell_type": "markdown",
   "metadata": {},
   "source": [
    "Представьте, что вам нужно написать программу, которая запрашивает у пользователя пароль для входа и проверяет, верен ли он. Верный пароль хранится в переменной password. Пароль, который вводит пользователь, хранится в переменной answer. Напишите часть кода, которая отвечает за проверку ввода пароля: если верный, то выводится информация «Добро пожаловать!», если неверный, то «Вы ввели неверный пароль!»."
   ]
  },
  {
   "cell_type": "code",
   "execution_count": 19,
   "metadata": {},
   "outputs": [
    {
     "name": "stdout",
     "output_type": "stream",
     "text": [
      "Добро пожаловать!\n"
     ]
    }
   ],
   "source": [
    "password = '879f2aabS'\n",
    "answer = '879f2aabS'\n",
    "if password == answer:\n",
    "    print('Добро пожаловать!')\n",
    "else:\n",
    "    print('Вы ввели неверный пароль!')"
   ]
  },
  {
   "cell_type": "markdown",
   "metadata": {},
   "source": [
    "Пользователь вводит своё имя и возраст, их значения хранятся в переменных name и age соответственно. Если возраст пользователя больше либо равен 18, то программа должна вывести строку \"Добрый вечер, <name>!\", меньше — \"Привет, <name>! Приносим свои извинения, но вы не можете гулять после 22:00\"."
   ]
  },
  {
   "cell_type": "code",
   "execution_count": 20,
   "metadata": {},
   "outputs": [
    {
     "name": "stdout",
     "output_type": "stream",
     "text": [
      "Привет, Павел! Приносим свои извинения, но вы не можете гулять после 22:00\n"
     ]
    }
   ],
   "source": [
    "name = 'Павел'\n",
    "age = 17\n",
    "if age >=18:\n",
    "    print('Добрый вечер, {}!'.format(name))\n",
    "else:\n",
    "    print('Привет, {}! Приносим свои извинения, но вы не можете гулять после 22:00'.format(name))"
   ]
  },
  {
   "cell_type": "markdown",
   "metadata": {},
   "source": [
    "#### Вложенные условные операторы"
   ]
  },
  {
   "cell_type": "code",
   "execution_count": 21,
   "metadata": {},
   "outputs": [
    {
     "name": "stdout",
     "output_type": "stream",
     "text": [
      "Put on a raincoat\n"
     ]
    }
   ],
   "source": [
    "is_rainy = True  # дождь будет\n",
    "heavy_rain = False  # не сильный дождь\n",
    "\n",
    "if is_rainy:\n",
    "    # в данный блок дописали ещё один условный оператор\n",
    "    if heavy_rain:\n",
    "        print(\"Take an umbrella\")  #брать зонт\n",
    "    else:                          \n",
    "        print(\"Put on a raincoat\")  #надеть дождевик\n",
    "else:                               #не брать зонт\n",
    "    print(\"Don't take an umbrella\") ## Put on a raincoat"
   ]
  },
  {
   "cell_type": "markdown",
   "metadata": {},
   "source": [
    "Используя вложенный условный оператор, напишите программу, которая проверяет, что число number делится на 2 и на 5 без остатка.\n",
    "\n",
    "* Если число делится на 2 и на 5, программа должна выводить на экран фразу \"<число> делится на 2 и на 5\".\n",
    "* Если число делится на 2, но не делится на 5 — программа должна выводить на экран фразу \"<число> делится на 2, но не делится на 5\".\n",
    "* Если число не делится на 2, но делится на 5 — программа должна выводить на экран фразу \"<число> не делится на 2, но делится на 5\".\n",
    "* Если число не делится ни на 2, ни на 5 — программа должна выводить на экран фразу \"<число> не делится ни на 2, ни на 5\"."
   ]
  },
  {
   "cell_type": "code",
   "execution_count": 22,
   "metadata": {},
   "outputs": [
    {
     "name": "stdout",
     "output_type": "stream",
     "text": [
      "200 делится на 2 и на 5\n"
     ]
    }
   ],
   "source": [
    "number = 200\n",
    "if number % 2 == 0:\n",
    "    if number % 5 == 0:\n",
    "        print(f'{number} делится на 2 и на 5')\n",
    "    else:\n",
    "        print(f'{number} делится на 2, но не делится на 5')\n",
    "else:\n",
    "    if number % 5 == 0:\n",
    "        print(f'{number} не делится на 2, но делится на 5')\n",
    "    else:\n",
    "        print(f'{number} не делится ни на 2, ни на 5')"
   ]
  },
  {
   "cell_type": "markdown",
   "metadata": {},
   "source": [
    "#### Неявное преобразование к булеву типу"
   ]
  },
  {
   "cell_type": "markdown",
   "metadata": {},
   "source": [
    "![](images/notbool.jpg)"
   ]
  },
  {
   "cell_type": "code",
   "execution_count": 23,
   "metadata": {},
   "outputs": [
    {
     "name": "stdout",
     "output_type": "stream",
     "text": [
      "1.0\n"
     ]
    }
   ],
   "source": [
    "number = 10\n",
    "if number:\n",
    "   print(10 / number )\n",
    "else:\n",
    "   print(\"You can't divide by zero\")"
   ]
  },
  {
   "cell_type": "code",
   "execution_count": 26,
   "metadata": {},
   "outputs": [
    {
     "name": "stdout",
     "output_type": "stream",
     "text": [
      "11\n"
     ]
    }
   ],
   "source": [
    "result = 10\n",
    "my_dict = {'key_1': 10}\n",
    "item = my_dict.pop('key_1')\n",
    "if my_dict:\n",
    "    result = result + item\n",
    "else:\n",
    "    result = result + 1\n",
    "print(result)"
   ]
  },
  {
   "cell_type": "markdown",
   "metadata": {},
   "source": [
    "#### Тернарный условный оператор"
   ]
  },
  {
   "cell_type": "code",
   "execution_count": 27,
   "metadata": {},
   "outputs": [
    {
     "name": "stdout",
     "output_type": "stream",
     "text": [
      "42\n"
     ]
    }
   ],
   "source": [
    "a = 42\n",
    "b = 41\n",
    "result = a if a > b else b\n",
    "print(result)  ## 42"
   ]
  },
  {
   "cell_type": "markdown",
   "metadata": {},
   "source": [
    "Нам нужно установить конкретную ставку скидки в зависимости от того, соответствует ли клиент критериям. По умолчанию наше приложение для бронирования мероприятий предоставляет всем клиентам скидку 10%; однако клиенты в возрасте 60 лет и старше имеют право на скидку 20%. С помощью тернарного оператора напишите программу, которая определяет скидку клиента. Возраст клиента хранится в переменной cust_age. Значение скидки занесите в переменную cust_discount."
   ]
  },
  {
   "cell_type": "code",
   "execution_count": 28,
   "metadata": {},
   "outputs": [
    {
     "name": "stdout",
     "output_type": "stream",
     "text": [
      "10\n"
     ]
    }
   ],
   "source": [
    "cust_age = 40\n",
    "cust_discount = 20 if cust_age >= 60 else 10\n",
    "print(cust_discount)"
   ]
  },
  {
   "cell_type": "markdown",
   "metadata": {},
   "source": [
    "Пользователь вводит целое число — текущее время в часах, значение которого хранится в переменной time. Если количество часов находится между 7 и 10 (включая обе границы), то программа должна вывести строку «Пора вставать!», иначе выведется строка «Ты проспал!».  \n",
    "**Примечание:** В рамках данной задачи условимся, что пользователь считается проспавшим в любое время, отличное от указанного интервала."
   ]
  },
  {
   "cell_type": "code",
   "execution_count": 29,
   "metadata": {},
   "outputs": [
    {
     "name": "stdout",
     "output_type": "stream",
     "text": [
      "Пора вставать!\n"
     ]
    }
   ],
   "source": [
    "time = 8\n",
    "print('Пора вставать!') if time in range(7,11) else print('Ты проспал!')"
   ]
  },
  {
   "cell_type": "markdown",
   "metadata": {},
   "source": [
    "Считается, что буквы q и z встречается в английском языке реже остальных букв. Вы решили написать программу, которая позволяет пользователям вводить слова и проверяет, можно считать это слово редким или нет. Интересующее вас слово содержится в переменной target_word. Пусть эта программа выводит на экран одну из двух фраз: «Ух ты! Вы ввели редкое слово!», если в слове есть буква q или букву z, или «Это не очень редкое слово...», если в нём этих букв нет"
   ]
  },
  {
   "cell_type": "code",
   "execution_count": 30,
   "metadata": {},
   "outputs": [
    {
     "name": "stdout",
     "output_type": "stream",
     "text": [
      "Ух ты! Вы ввели редкое слово!\n"
     ]
    }
   ],
   "source": [
    "target_word = \"quantity\"\n",
    "if 'q' in target_word or 'z' in target_word:\n",
    "    print('Ух ты! Вы ввели редкое слово!')\n",
    "else:\n",
    "    print('Это не очень редкое слово...')"
   ]
  },
  {
   "cell_type": "markdown",
   "metadata": {},
   "source": [
    "Вы работаете в агентстве знакомств. К вам обратилась некая Алла, которая ищет мужчину ростом строго выше 180 см, весом строго менее 80 кг. Также Алла верит в гороскопы и согласно гороскопу ей подходят только весы, дева, овен и козерог. Напишите условие, которое позволит определить, подходит ли Алле тот или иной кандидат. В результате работы программы на экран должно быть введено:\n",
    "\n",
    "* «Ваша половинка нашлась!» — если кандидат подходит Алле по параметрам.\n",
    "* «Попробуем поискать еще!» — если кандидат не подходит Алле по параметрам."
   ]
  },
  {
   "cell_type": "code",
   "execution_count": 31,
   "metadata": {},
   "outputs": [
    {
     "name": "stdout",
     "output_type": "stream",
     "text": [
      "Ваша половинка нашлась!\n"
     ]
    }
   ],
   "source": [
    "height = 183\n",
    "weight = 78\n",
    "zodiac_sign = 'козерог'\n",
    "zodiac_list = ['весы','дева','овен','козерог']\n",
    "if height >180 and weight < 80 and zodiac_sign in zodiac_list:\n",
    "    print('Ваша половинка нашлась!')\n",
    "else:\n",
    "    print('Попробуем поискать еще!')"
   ]
  },
  {
   "cell_type": "markdown",
   "metadata": {},
   "source": [
    "#### Конструкция if...elif...else"
   ]
  },
  {
   "cell_type": "code",
   "execution_count": 32,
   "metadata": {},
   "outputs": [
    {
     "name": "stdout",
     "output_type": "stream",
     "text": [
      "a is more than 10\n"
     ]
    }
   ],
   "source": [
    "a = 17\n",
    "if a == 10:   # a равно 10  \n",
    "    print('a equals 10') \n",
    "elif a < 10:  # a меньше 10\n",
    "    print('a is less than 10') \n",
    "else:         # a больше 10\n",
    "    print('a is more than 10')"
   ]
  },
  {
   "cell_type": "markdown",
   "metadata": {},
   "source": [
    "Необходимо реализовать условный оператор, который печатает на экран характеристику ветра и его класс (от 1 до 4) в зависимости от его характера:\n",
    "\n",
    "* \"weak [1]\" — от 1 до 4 м/с\n",
    "* \"moderate [2]\" — от 5 до 10 м/c\n",
    "* \"strong [3]\" — от 11 до 18 м/c\n",
    "* \"hurricane [4]\" — от 19 м/c\n",
    "\n",
    "Скорость ветра хранится в переменной speed."
   ]
  },
  {
   "cell_type": "code",
   "execution_count": 33,
   "metadata": {},
   "outputs": [
    {
     "name": "stdout",
     "output_type": "stream",
     "text": [
      "moderate [2]\n"
     ]
    }
   ],
   "source": [
    "speed = 8\n",
    "if speed in range(1,5):\n",
    "    print('weak [1]')\n",
    "elif speed in range(5,11):\n",
    "    print('moderate [2]')\n",
    "elif speed in range(11,19):\n",
    "    print('strong [3]')\n",
    "else:\n",
    "    print('hurricane [4]')"
   ]
  },
  {
   "cell_type": "markdown",
   "metadata": {},
   "source": [
    "Друг, зная, что вы отличный программист, попросил вас запрограммировать игру «Камень, ножницы, бумага» для своего младшего брата. Правила игры всем известны: камень побеждает ножницы; ножницы — бумагу; бумага — камень. Жесты, выполняемые первым и вторым игроками находятся в переменных player_1 и player_2 соответственно. Обратите внимание, что названия жестов должны быть написаны строчными буквами. Напишите программу, которая определяет победителя. Если побеждает первый игрок, то выводится сообщение «Первый игрок — победитель!». Если второй — «Второй игрок — победитель!». Если ничья — выводится «Ничья!»."
   ]
  },
  {
   "cell_type": "code",
   "execution_count": 34,
   "metadata": {},
   "outputs": [
    {
     "name": "stdout",
     "output_type": "stream",
     "text": [
      "Первый игрок — победитель!\n"
     ]
    }
   ],
   "source": [
    "player_1 = 'ножницы'\n",
    "player_2 = 'бумага'\n",
    "if player_1.lower() == 'камень':\n",
    "    if player_2.lower() == 'камень':\n",
    "        print('Ничья!') \n",
    "    elif player_2.lower() == 'бумага':\n",
    "        print('Второй игрок — победитель!')\n",
    "    else:\n",
    "        print('Первый игрок — победитель!')        \n",
    "elif player_1.lower() == 'ножницы':\n",
    "    if player_2.lower() == 'камень':\n",
    "        print('Второй игрок — победитель!')\n",
    "    elif player_2.lower() == 'бумага':\n",
    "        print('Первый игрок — победитель!')\n",
    "    else:\n",
    "         print('Ничья!')\n",
    "else:\n",
    "    if player_2.lower() == 'камень':\n",
    "        print('Первый игрок — победитель!')\n",
    "    elif player_2.lower() == 'ножницы':\n",
    "        print('Второй игрок — победитель!')\n",
    "    else: \n",
    "        print('Ничья!')"
   ]
  },
  {
   "cell_type": "markdown",
   "metadata": {},
   "source": [
    "Обдумывая акцию для распродажи, владелец компании пришёл к выводу, что продавать все кроссовки по акции на сайте компании невыгодно. Поэтому была придумана новая схема: если клиент покупает одновременно кроссовки двух разных брендов, то его общая скидка составит 5 %, если две пары от одного бренда — то 10 %. Для упрощения задачи будем считать, что покупатель в любом случае купит не более двух пар кроссовок. Список товаров в корзине хранится в переменной purchases и может быть пустым. Также будем считать, что для всех товаров бренда действует одна и та же цена. Расценки товаров хранятся в словаре prices. Напишите программу, которая:\n",
    "\n",
    "* Выводит на экран информацию об ошибке, если список покупок пуст в виде строки: Ваша корзина пуста\n",
    "\n",
    "* Выводит на экран информацию об общей стоимости товара, если куплен только один товар Стоимость заказа составила: <стоимость заказа>\n",
    "\n",
    "* Выводит на экран информацию о полученной скидке, сумме оплаты без скидки и сумму со скидкой в следующем формате:  \n",
    "\"Стоимость заказа составила: <стоимость заказа без скидки>. С учетом скидки в <размер скидки>% — <стоимость заказа со скидкой>\""
   ]
  },
  {
   "cell_type": "code",
   "execution_count": 35,
   "metadata": {},
   "outputs": [
    {
     "name": "stdout",
     "output_type": "stream",
     "text": [
      "Стоимость заказа составила: 10848. С учетом скидки в 5% — 10305.6\n"
     ]
    }
   ],
   "source": [
    "prices = {'Adidas': 4298, 'Nike': 6550, 'Puma': 4490, 'Asics': 3879}\n",
    "purchases = [\"Adidas\", \"Nike\"]\n",
    "if not purchases: # корзина пуста\n",
    "    print('Ваша корзина пуста')\n",
    "elif len(purchases) == 1:\n",
    "    print(f'Стоимость заказа составила: {prices[purchases[0]]}')\n",
    "else:\n",
    "    if len(set(purchases)) == 1:\n",
    "        discount = 10\n",
    "    else:\n",
    "        discount = 5\n",
    "    cost = prices[purchases[0]] + prices[purchases[1]]\n",
    "    discount_cost = cost * (1 - discount / 100)\n",
    "    print(f'Стоимость заказа составила: {cost}. С учетом скидки в {discount}% — {discount_cost}')"
   ]
  },
  {
   "cell_type": "markdown",
   "metadata": {},
   "source": [
    "При составлении резюме на платформе поиска работы автоматически указывается дата обновления этого резюме. Дата содержится в поле date. Мы распределяем резюме по категориям:\n",
    "\n",
    "* Категория 1 — резюме, обновленные в мае 2019\n",
    "* Категория 2 — резюме, обновленные в период с января по май (не включая май) 2019 года\n",
    "* Категория 3 — резюме, составленные раньше, чем 1 января 2019 года\n",
    "\n",
    "Напишите программу, которая определяет категорию резюме. Категорию занесите целым числом в переменную category. Известно, что в базе нет резюме, обновлённых после 1 июня 2019 года. Формат строки date одинаков для всех записей из базы данных, вы можете воспользоваться им."
   ]
  },
  {
   "cell_type": "code",
   "execution_count": 36,
   "metadata": {},
   "outputs": [],
   "source": [
    "date = '16.04.2019 15:59'\n",
    "category = None\n",
    "day = int(date[0:2])\n",
    "month = int(date[3:5])\n",
    "year = int(date[6:11])\n",
    "if year < 2019:\n",
    "    category = 3\n",
    "elif month ==5:\n",
    "    category = 1\n",
    "else:\n",
    "    category = 2"
   ]
  },
  {
   "cell_type": "markdown",
   "metadata": {},
   "source": [
    "Мы занимаемся обработкой и анализом базы данных, содержащей резюме соискателей. Напишем скрипт для автоматического извлечение информации о городе, в котором проживает соискатель. В поле city_info содержится информация о городе, а также о готовности соискателя к переезду и командировкам. Нас интересует только город. Причём мы не хотим учитывать все города. Разделим их на 4 категории:\n",
    "\n",
    "* \"Москва\"\n",
    "* \"Санкт-Петербург\"\n",
    "* \"Город миллионник\"\n",
    "* \"Другое\"\n",
    "\n",
    "Напишите программу, которая в переменную city записывает одну из четырёх категорий городов, приведённых выше (в точности как указано в задании) на основе информации, содержащейся в переменной city_info. Чтобы отделить город от ненужной информации обратите внимание на структуру строки: город, готовность к командировкам и переезду разделены последовательностью символов ' , '."
   ]
  },
  {
   "cell_type": "code",
   "execution_count": 37,
   "metadata": {},
   "outputs": [
    {
     "name": "stdout",
     "output_type": "stream",
     "text": [
      "Москва\n"
     ]
    }
   ],
   "source": [
    "city_info = \"Москва , не готов к переезду , готов к командировкам\"\n",
    "million_cities = ['Новосибирск', 'Екатеринбург', 'Нижний Новгород', 'Казань', 'Челябинск', 'Омск', 'Самара', 'Ростов-на-Дону', 'Уфа', 'Красноярск', 'Пермь', 'Воронеж', 'Волгоград']\n",
    "city = None\n",
    "pos = city_info.find(' , ')\n",
    "town = city_info[:pos]\n",
    "if town.lower() == 'москва':\n",
    "    city = 'Москва'\n",
    "elif town.lower() == 'санкт-петербург':\n",
    "    city = 'Санкт-Петербург'\n",
    "elif town in million_cities:\n",
    "    city = 'Город миллионник'\n",
    "else:\n",
    "    city = 'Другое'\n",
    "print(city)"
   ]
  },
  {
   "cell_type": "markdown",
   "metadata": {},
   "source": [
    "### Исключения"
   ]
  },
  {
   "cell_type": "markdown",
   "metadata": {},
   "source": [
    "#### Обработка исключений"
   ]
  },
  {
   "cell_type": "code",
   "execution_count": 1,
   "metadata": {},
   "outputs": [
    {
     "name": "stdout",
     "output_type": "stream",
     "text": [
      "Before exception\n",
      "After exception\n",
      "Finally finished!\n",
      "After After exception\n"
     ]
    }
   ],
   "source": [
    "a, b = 10, 0\n",
    "# Добавляем конструкцию try-except для отлова нашей ошибки\n",
    "try:\n",
    "    print(\"Before exception\") # Перед исключением\n",
    "    # Теперь пользователь сам вводит числа для деления\n",
    "    c = a / b\n",
    "    # Печатаем c = a / b, если всё хорошо\n",
    "    print(c) \n",
    "# Добавляем тип именно той ошибки которую хотим отловить. \n",
    "except ZeroDivisionError as e:\n",
    "    print(\"After exception\") # После исключения\n",
    "# код в блоке else выполняется только в том случае, если код в блоке try выполнился успешно (т. е. не произошло никакого исключения)\n",
    "else: \n",
    "    print(\"Everything's fine!\")# Всё отлично!\n",
    "# код в блоке finally выполнится в любом случае при выходе из try-except \n",
    "finally: \n",
    "    print(\"Finally finished!\") # Наконец-то завершено!\n",
    " \n",
    "print(\"After After exception\") # После после исключения"
   ]
  },
  {
   "cell_type": "markdown",
   "metadata": {},
   "source": [
    "Задан словарь medicines с ценами на лекарства в онлайн-аптеке и строка name. С помощью конструкции try-except реализуйте программу, которая печатает на экран значение, хранящееся по ключу из переменной name. Если строка name не является ключом словаря, то на экран через print выводится сообщение «Такого ключа в словаре нет»."
   ]
  },
  {
   "cell_type": "code",
   "execution_count": 2,
   "metadata": {},
   "outputs": [
    {
     "name": "stdout",
     "output_type": "stream",
     "text": [
      "Такого ключа в словаре нет\n"
     ]
    }
   ],
   "source": [
    "medicines = {'Ибупрофен': 99, 'Эспумизан': 279, 'Пенталгин': 119}\n",
    "name = 'Визин'\n",
    "try:\n",
    "    print(medicines[name])\n",
    "except:\n",
    "    print('Такого ключа в словаре нет')"
   ]
  },
  {
   "cell_type": "markdown",
   "metadata": {},
   "source": [
    "#### Генрация исключений"
   ]
  },
  {
   "cell_type": "code",
   "execution_count": 3,
   "metadata": {},
   "outputs": [
    {
     "ename": "ValueError",
     "evalue": "You are too old or don't exist",
     "output_type": "error",
     "traceback": [
      "\u001b[1;31m---------------------------------------------------------------------------\u001b[0m",
      "\u001b[1;31mValueError\u001b[0m                                Traceback (most recent call last)",
      "\u001b[1;32mc:\\temp\\ipykernel_8376\\2421973432.py\u001b[0m in \u001b[0;36m<module>\u001b[1;34m\u001b[0m\n\u001b[0;32m      4\u001b[0m \u001b[1;32mif\u001b[0m \u001b[0mage\u001b[0m \u001b[1;33m>\u001b[0m \u001b[1;36m100\u001b[0m \u001b[1;32mor\u001b[0m \u001b[0mage\u001b[0m \u001b[1;33m<=\u001b[0m \u001b[1;36m0\u001b[0m\u001b[1;33m:\u001b[0m\u001b[1;33m\u001b[0m\u001b[1;33m\u001b[0m\u001b[0m\n\u001b[0;32m      5\u001b[0m     \u001b[1;31m# Намеренно вызываем ошибку, в скобках указываем текст ошибки\u001b[0m\u001b[1;33m\u001b[0m\u001b[1;33m\u001b[0m\u001b[1;33m\u001b[0m\u001b[0m\n\u001b[1;32m----> 6\u001b[1;33m     \u001b[1;32mraise\u001b[0m \u001b[0mValueError\u001b[0m\u001b[1;33m(\u001b[0m\u001b[1;34m\"You are too old or don't exist\"\u001b[0m\u001b[1;33m)\u001b[0m\u001b[1;33m\u001b[0m\u001b[1;33m\u001b[0m\u001b[0m\n\u001b[0m\u001b[0;32m      7\u001b[0m \u001b[1;31m# Возраст выводится только в том случае, если пользователь ввёл правильный возраст.\u001b[0m\u001b[1;33m\u001b[0m\u001b[1;33m\u001b[0m\u001b[1;33m\u001b[0m\u001b[0m\n\u001b[0;32m      8\u001b[0m \u001b[0mprint\u001b[0m\u001b[1;33m(\u001b[0m\u001b[1;34m\"You are {} years old!\"\u001b[0m\u001b[1;33m.\u001b[0m\u001b[0mformat\u001b[0m\u001b[1;33m(\u001b[0m\u001b[0mage\u001b[0m\u001b[1;33m)\u001b[0m\u001b[1;33m)\u001b[0m\u001b[1;33m\u001b[0m\u001b[1;33m\u001b[0m\u001b[0m\n",
      "\u001b[1;31mValueError\u001b[0m: You are too old or don't exist"
     ]
    }
   ],
   "source": [
    "age = 110\n",
    "\n",
    "# Проверяем, что возраст пользователя корректный\n",
    "if age > 100 or age <= 0:\n",
    "    # Намеренно вызываем ошибку, в скобках указываем текст ошибки\n",
    "    raise ValueError(\"You are too old or don't exist\") \n",
    "# Возраст выводится только в том случае, если пользователь ввёл правильный возраст. \n",
    "print(\"You are {} years old!\".format(age)) "
   ]
  },
  {
   "cell_type": "code",
   "execution_count": 2,
   "metadata": {},
   "outputs": [
    {
     "name": "stdout",
     "output_type": "stream",
     "text": [
      "Wrong age\n"
     ]
    }
   ],
   "source": [
    "age = 110\n",
    "# Добавляем конструкцию try-except для отлова нашей ошибки\n",
    "try:\n",
    "    # Проверяем, что возраст пользователя корректный\n",
    "    if age > 100 or age <= 0:\n",
    "        # Намеренно вызываем ошибку, в скобках указываем текст ошибки\n",
    "        raise ValueError(\"You are too old or don't exist\") \n",
    "# Ловим исключение ValueError\n",
    "except ValueError:\n",
    "    # В случае возникновения исключения выводим сообщение\n",
    "    print(\"Wrong age\")\n",
    "# В блоке else прописываем часть, которая выполняется, если блок try отработал без ошибок\n",
    "else:\n",
    "    # Возраст выводится только в том случае, если пользователь ввёл правильный возраст. \n",
    "    print(\"You are {} years old!\".format(age))"
   ]
  },
  {
   "cell_type": "markdown",
   "metadata": {},
   "source": [
    "В переменной number хранится некоторое число. Напишите программу со следующим условием: если число number не ноль, то программа делит 10 на введённое число и записывает результат, округлённый до трёх знаков после запятой, в переменную result. Если же в переменной number хранится ноль, то программа должна выбросить исключение ZeroDivisionError с фразой \"Вы собираетесь делить на 0\" с помощью ключевого слова raise."
   ]
  },
  {
   "cell_type": "code",
   "execution_count": 4,
   "metadata": {},
   "outputs": [
    {
     "name": "stdout",
     "output_type": "stream",
     "text": [
      "0.5\n"
     ]
    }
   ],
   "source": [
    "number = 20\n",
    "if number == 0:\n",
    "    raise ZeroDivisionError('Вы собираетесь делить на 0')\n",
    "else:\n",
    "    result = round(10/number, 3)\n",
    "    print(result)"
   ]
  }
 ],
 "metadata": {
  "kernelspec": {
   "display_name": "Python 3.7.6 64-bit",
   "language": "python",
   "name": "python3"
  },
  "language_info": {
   "codemirror_mode": {
    "name": "ipython",
    "version": 3
   },
   "file_extension": ".py",
   "mimetype": "text/x-python",
   "name": "python",
   "nbconvert_exporter": "python",
   "pygments_lexer": "ipython3",
   "version": "3.7.6"
  },
  "orig_nbformat": 4,
  "vscode": {
   "interpreter": {
    "hash": "7677f7648bdcb6014014cc63ee9b4fd0e16ad8079654355b0568baf0e7ced8ff"
   }
  }
 },
 "nbformat": 4,
 "nbformat_minor": 2
}
