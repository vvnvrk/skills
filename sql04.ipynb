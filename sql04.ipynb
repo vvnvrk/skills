{
 "cells": [
  {
   "cell_type": "markdown",
   "metadata": {},
   "source": [
    "## <center>Сложные соединения<center>"
   ]
  },
  {
   "cell_type": "markdown",
   "metadata": {},
   "source": [
    "Интересующие нас данные хранятся в таблицах city, customer, driver, shipment, truck. Давайте внимательно их изучим. Ниже представлена ER-диаграмма (от англ. entity-relation, дословно — «сущность-связь»), которая отображает существующие связи между отдельными таблицами.\n",
    "\n",
    "![](images/relations.jpg)"
   ]
  },
  {
   "cell_type": "markdown",
   "metadata": {},
   "source": [
    "#### **Задание 1.1**"
   ]
  },
  {
   "cell_type": "markdown",
   "metadata": {},
   "source": [
    "Укажите название города с максимальным весом единичной доставки.\n",
    "\n",
    "*Запрос:*\n",
    "\n",
    "**SELECT**  \n",
    "&ensp;&ensp;&ensp;&ensp;c.city_name  \n",
    "**FROM**  \n",
    "&ensp;&ensp;&ensp;&ensp;sql.shipment s  \n",
    "&ensp;&ensp;&ensp;&ensp;**NATURAL JOIN** sql.city c  \n",
    "**GROUP BY**  \n",
    "&ensp;&ensp;&ensp;&ensp;c.city_id,  \n",
    "&ensp;&ensp;&ensp;&ensp;s.weight  \n",
    "**HAVING** s.weight = **MAX**(s.weight)  \n",
    "**ORDER BY** s.weight **DESC**  \n",
    "**LIMIT** 1\n",
    "\n",
    " Сколько различных производителей грузовиков перечислено в таблице truck?\n",
    "\n",
    "*Запрос:*\n",
    "\n",
    "**SELECT**  \n",
    "&ensp;&ensp;&ensp;&ensp;**COUNT**(**DISTINCT** t.make)  \n",
    "**FROM**  \n",
    "&ensp;&ensp;&ensp;&ensp;sql.truck t"
   ]
  }
 ],
 "metadata": {
  "language_info": {
   "name": "python"
  },
  "orig_nbformat": 4
 },
 "nbformat": 4,
 "nbformat_minor": 2
}
