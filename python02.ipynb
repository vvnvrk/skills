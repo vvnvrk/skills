{
 "cells": [
  {
   "cell_type": "markdown",
   "metadata": {},
   "source": [
    "# <center>Погружение в типы данных<center>"
   ]
  },
  {
   "cell_type": "markdown",
   "metadata": {},
   "source": [
    "## <center>Списки и кортежи<center>"
   ]
  },
  {
   "cell_type": "markdown",
   "metadata": {},
   "source": [
    "### <center>**Создание пустых списков:**<center>\n",
    "my_list = list()  \n",
    "my_list = [ ]"
   ]
  },
  {
   "cell_type": "markdown",
   "metadata": {},
   "source": [
    "#### **Задание 2.4**"
   ]
  },
  {
   "cell_type": "markdown",
   "metadata": {},
   "source": [
    "Создайте пустой список с именем empty_list с помощью конструктора типа и выведите через функцию print() содержимое полученной переменной. В качестве ответа введите результат вывода. Введите ответ без пробелов."
   ]
  },
  {
   "cell_type": "code",
   "execution_count": 4,
   "metadata": {},
   "outputs": [
    {
     "name": "stdout",
     "output_type": "stream",
     "text": [
      "[]\n"
     ]
    }
   ],
   "source": [
    "empty_list = list()  # создаем пустой список \n",
    "print(empty_list)    # выводим пустой список"
   ]
  },
  {
   "cell_type": "markdown",
   "metadata": {},
   "source": [
    "#### **Задание 2.5**"
   ]
  },
  {
   "cell_type": "markdown",
   "metadata": {},
   "source": [
    "Теперь создайте переменную another_empty_list, но уже используя квадратные скобки. Также выведите через функцию print() содержимое переменной. В качестве ответа введите результат вывода."
   ]
  },
  {
   "cell_type": "code",
   "execution_count": 5,
   "metadata": {},
   "outputs": [
    {
     "name": "stdout",
     "output_type": "stream",
     "text": [
      "[]\n"
     ]
    }
   ],
   "source": [
    "another_empty_list = []     # создаем пустой список \n",
    "print(another_empty_list)   # выводим пустой список"
   ]
  },
  {
   "cell_type": "markdown",
   "metadata": {},
   "source": [
    "### <center>**Создание непустых списков вручную:**<center>\n",
    "numbers = [1, 2, 3, 4, 5, 6, 7, 8, 9, 10]  \n",
    "vowels = ['a', 'e', 'i', 'o', 'u', 'y']  \n",
    "languages = ['Java', 'C', 'Python', 'C++', 'Visual Basic.NET"
   ]
  },
  {
   "cell_type": "markdown",
   "metadata": {},
   "source": [
    "#### <center>**Генератор целочисленных списков**<center>"
   ]
  },
  {
   "cell_type": "code",
   "execution_count": 6,
   "metadata": {},
   "outputs": [
    {
     "name": "stdout",
     "output_type": "stream",
     "text": [
      "[0, 1, 2, 3, 4, 5, 6, 7, 8, 9]\n",
      "[0, 2, 4, 6, 8]\n"
     ]
    }
   ],
   "source": [
    "a = list(range(10))      # генерируем целочисленный список с шагом 1\n",
    "print(a)                 # выводим список \n",
    "b = list(range(0,10,2))  # генерируем список четных чисел\n",
    "print(b)                 # выводим список"
   ]
  },
  {
   "cell_type": "markdown",
   "metadata": {},
   "source": [
    "#### **Задание 2.6**"
   ]
  },
  {
   "cell_type": "markdown",
   "metadata": {},
   "source": [
    "С помощью функции range() создайте список и занесите его в переменную a. В качестве левой границы укажите -10, а в качестве правой — 100. Шаг не задавайте.\n",
    "Не забывайте о преобразовании типа переменной в список - list()"
   ]
  },
  {
   "cell_type": "code",
   "execution_count": 7,
   "metadata": {},
   "outputs": [
    {
     "name": "stdout",
     "output_type": "stream",
     "text": [
      "[-10, -9, -8, -7, -6, -5, -4, -3, -2, -1, 0, 1, 2, 3, 4, 5, 6, 7, 8, 9, 10, 11, 12, 13, 14, 15, 16, 17, 18, 19, 20, 21, 22, 23, 24, 25, 26, 27, 28, 29, 30, 31, 32, 33, 34, 35, 36, 37, 38, 39, 40, 41, 42, 43, 44, 45, 46, 47, 48, 49, 50, 51, 52, 53, 54, 55, 56, 57, 58, 59, 60, 61, 62, 63, 64, 65, 66, 67, 68, 69, 70, 71, 72, 73, 74, 75, 76, 77, 78, 79, 80, 81, 82, 83, 84, 85, 86, 87, 88, 89, 90, 91, 92, 93, 94, 95, 96, 97, 98, 99]\n"
     ]
    }
   ],
   "source": [
    "a = list(range(-10, 100))  # создаем список\n",
    "print(a)                   # выводим список "
   ]
  },
  {
   "cell_type": "markdown",
   "metadata": {},
   "source": [
    "#### **Задание 2.7**"
   ]
  },
  {
   "cell_type": "markdown",
   "metadata": {},
   "source": [
    "Создайте с помощью функции range() список b. В качестве левой границы укажите 50, а в качестве правой — 20 (двадцать). Шаг сделайте равным -2 (минус два). В поле ниже введите код, который у вас получился."
   ]
  },
  {
   "cell_type": "code",
   "execution_count": 6,
   "metadata": {},
   "outputs": [
    {
     "name": "stdout",
     "output_type": "stream",
     "text": [
      "[50, 48, 46, 44, 42, 40, 38, 36, 34, 32, 30, 28, 26, 24, 22]\n"
     ]
    }
   ],
   "source": [
    "b = list(range(50, 20, -2))\n",
    "print(b)"
   ]
  },
  {
   "cell_type": "markdown",
   "metadata": {},
   "source": [
    "### <center>**Методы работы со списками.**<center>"
   ]
  },
  {
   "cell_type": "markdown",
   "metadata": {},
   "source": [
    "#### <center>**Получение элементов по индексу:**<center>"
   ]
  },
  {
   "cell_type": "code",
   "execution_count": 8,
   "metadata": {},
   "outputs": [
    {
     "name": "stdout",
     "output_type": "stream",
     "text": [
      "a\n",
      "c\n",
      "c\n"
     ]
    }
   ],
   "source": [
    "a = [\"a\", \"b\", \"c\"]\n",
    "print(a[0])   # получим первый элемент \"a\"\n",
    "print(a[2])   # получим третий (последний элемент) \"c\"\n",
    "print(a[-1])  # получим последний элемент \"c“"
   ]
  },
  {
   "cell_type": "markdown",
   "metadata": {},
   "source": [
    "#### <center>**Получение срезов (подмножеств списков)**<center>"
   ]
  },
  {
   "cell_type": "code",
   "execution_count": 9,
   "metadata": {},
   "outputs": [
    {
     "name": "stdout",
     "output_type": "stream",
     "text": [
      "['a', 'b']\n",
      "['c', 'd']\n",
      "['a', 'c']\n"
     ]
    }
   ],
   "source": [
    "a = [\"a\", \"b\", \"c\", \"d\", \"e\"]\n",
    "print(a[:2])     # получим элементы [\"a\", \"b\"]\n",
    "print(a[2:4])    # получим элементы [\"c\", \"d\"]\n",
    "print(a[0:4:2])  # возьмём только элементы на чётных индексах (0, 2)"
   ]
  },
  {
   "cell_type": "markdown",
   "metadata": {},
   "source": [
    "#### **Задание 2.8**"
   ]
  },
  {
   "cell_type": "markdown",
   "metadata": {},
   "source": [
    "Создайте список a из чисел от 1 до 10 (включительно). Затем сделайте срез из двух первых элементов.\n",
    "Результат среза занесите в переменную a_slice."
   ]
  },
  {
   "cell_type": "code",
   "execution_count": null,
   "metadata": {},
   "outputs": [],
   "source": [
    "a = list(range(1,11))  # создаем список\n",
    "a_slice = a[:2]        # делаем срез списка\n",
    "print(a_slice)         # выводим список"
   ]
  },
  {
   "cell_type": "markdown",
   "metadata": {},
   "source": [
    "#### <center>**Разворот списка**<center>"
   ]
  },
  {
   "cell_type": "code",
   "execution_count": 12,
   "metadata": {},
   "outputs": [
    {
     "name": "stdout",
     "output_type": "stream",
     "text": [
      "['a', 'b', 'c', 'd', 'e']\n",
      "['e', 'd', 'c', 'b', 'a']\n"
     ]
    }
   ],
   "source": [
    "a = [\"a\", \"b\", \"c\", \"d\", \"e\"] # создаем список\n",
    "print(a)                      # выводим список\n",
    "b = a[::-1]                   # начать срез с первого элемента до последнего с шагом, равным -1 (разворот списка)\n",
    "print(b)                      # выводим список"
   ]
  },
  {
   "cell_type": "markdown",
   "metadata": {},
   "source": [
    "#### **Задание 2.9**"
   ]
  },
  {
   "cell_type": "markdown",
   "metadata": {},
   "source": [
    "Создайте список из чисел от -5 до 5. Затем сделайте срез, чтобы в ответе был следующий список: [-1, 0, 1, 2, 3]. В качестве ответа напишите через запятую два положительных числа, являющихся границами среза."
   ]
  },
  {
   "cell_type": "code",
   "execution_count": 9,
   "metadata": {},
   "outputs": [
    {
     "name": "stdout",
     "output_type": "stream",
     "text": [
      "[-1, 0, 1, 2, 3]\n"
     ]
    }
   ],
   "source": [
    "lst = list(range(-5,6)) # создали список\n",
    "new_lst = lst[4:9]      # получили срез\n",
    "print(new_lst)          # вывели результат"
   ]
  },
  {
   "cell_type": "markdown",
   "metadata": {},
   "source": [
    "#### **Задание 2.10**"
   ]
  },
  {
   "cell_type": "markdown",
   "metadata": {},
   "source": [
    "Создайте список из элементов от -3 до 6 и, используя срез [::-1], инвертируйте список. Выведите полученный результат. В качестве ответа запишите результат вывода."
   ]
  },
  {
   "cell_type": "code",
   "execution_count": 10,
   "metadata": {},
   "outputs": [
    {
     "name": "stdout",
     "output_type": "stream",
     "text": [
      "[6, 5, 4, 3, 2, 1, 0, -1, -2, -3]\n"
     ]
    }
   ],
   "source": [
    "lst = list(range(-3,7))  # создаем список\n",
    "lst = lst[::-1]          # разворачиваем список\n",
    "print(lst)               # выводим список"
   ]
  },
  {
   "cell_type": "markdown",
   "metadata": {},
   "source": [
    "#### **Задание 2.11**"
   ]
  },
  {
   "cell_type": "markdown",
   "metadata": {},
   "source": [
    "С помощью функции .split() получите список из строки 'hello kitty' и возьмите два последних элемента. В качестве ответа введите результат вывода."
   ]
  },
  {
   "cell_type": "code",
   "execution_count": 14,
   "metadata": {},
   "outputs": [
    {
     "name": "stdout",
     "output_type": "stream",
     "text": [
      "['hello', 'kitty']\n"
     ]
    }
   ],
   "source": [
    "lst = 'hello kitty'.split() # разбиваем строку на список слов\n",
    "lst = lst[-2:]              # берем 2 последних слова\n",
    "print(lst)                  # выводим результат"
   ]
  },
  {
   "cell_type": "markdown",
   "metadata": {},
   "source": [
    "#### <center>**Метод append(): добавление элемента в список**<center>"
   ]
  },
  {
   "cell_type": "code",
   "execution_count": 14,
   "metadata": {},
   "outputs": [
    {
     "name": "stdout",
     "output_type": "stream",
     "text": [
      "['order1']\n"
     ]
    }
   ],
   "source": [
    "orders_daily = []              # изначально список с чеками пустой\n",
    "orders_daily.append(\"order1\")  # добавляем чек\n",
    "print(orders_daily)            # выводим список"
   ]
  },
  {
   "cell_type": "markdown",
   "metadata": {},
   "source": [
    "#### **Задание 2.12**"
   ]
  },
  {
   "cell_type": "markdown",
   "metadata": {},
   "source": [
    "1. Создайте три переменные: a, b, c.\n",
    "2. Положите в них следующие строковые значения: 'order1', 'order2', 'order3'.\n",
    "3. Создайте пустой список orders, используя квадратные скобки.\n",
    "4. Последовательно положите все три созданные переменные в список.  \n",
    "\n",
    "Выведите значение получившегося списка на экран с помощью фукнции print(). В качестве ответа запишите результат вывода."
   ]
  },
  {
   "cell_type": "code",
   "execution_count": 12,
   "metadata": {},
   "outputs": [
    {
     "name": "stdout",
     "output_type": "stream",
     "text": [
      "['order1', 'order2', 'order3']\n"
     ]
    }
   ],
   "source": [
    "a, b, c = 'order1', 'order2', 'order3'  # создаем переменныые\n",
    "orders = []                             # создаем пустой список\n",
    "orders.append(a)                        # добавляем переменную a в список\n",
    "orders.append(b)                        # добавляем переменную b в список\n",
    "orders.append(c)                        # добавляем переменную c в список\n",
    "print(orders)                           # выводим список"
   ]
  },
  {
   "cell_type": "markdown",
   "metadata": {},
   "source": [
    "#### **Задание 2.13**"
   ]
  },
  {
   "cell_type": "markdown",
   "metadata": {},
   "source": [
    "1. Создайте две переменные: book1, book2.\n",
    "2. Положите в них следующие строковые значения: 'my book', 'your book'.\n",
    "3. Создайте список books, используя квадратные скобки. В нём уже должно лежать значение 'all_books'.\n",
    "4. Последовательно положите две созданные переменные в список.  \n",
    "\n",
    "Выведите значение получившегося списка на экран. В качестве ответа запишите результат вывода."
   ]
  },
  {
   "cell_type": "code",
   "execution_count": 13,
   "metadata": {},
   "outputs": [
    {
     "name": "stdout",
     "output_type": "stream",
     "text": [
      "['all books', 'my book', 'your book']\n"
     ]
    }
   ],
   "source": [
    "book1, book2 = 'my book', 'your book' # инициируем переменные\n",
    "books = ['all books']                 # инициируем список с одним элементом\n",
    "books.append(book1)                   # добавляем первую переменную в список\n",
    "books.append(book2)                   # добавляем вторую переменную в список\n",
    "print(books)                          # выводим список"
   ]
  },
  {
   "cell_type": "markdown",
   "metadata": {},
   "source": [
    "#### <center>**Метод clear(): очистка списка**<center>"
   ]
  },
  {
   "cell_type": "code",
   "execution_count": 17,
   "metadata": {},
   "outputs": [
    {
     "name": "stdout",
     "output_type": "stream",
     "text": [
      "Список до очистки: ['order1', 'order2', 'order3', 'order4']\n",
      "Список после очистки: []\n"
     ]
    }
   ],
   "source": [
    "a = [\"order1\", \"order2\", \"order3\", \"order4\"]   # создаем список\n",
    "print(f'Список до очистки: {a}')               # выводим список до очистки\n",
    "a.clear()                                      # очищаем список\n",
    "print(f'Список после очистки: {a}')            # выводим список после очистки []"
   ]
  },
  {
   "cell_type": "markdown",
   "metadata": {},
   "source": [
    "#### **Задание 2.14**"
   ]
  },
  {
   "cell_type": "markdown",
   "metadata": {},
   "source": [
    "Создайте список letters из первых пяти букв английского алфавита. Выведите его. Затем примените к списку letters метод .clear(). Снова выведите результат. В качестве ответа запишите результат последнего вывода."
   ]
  },
  {
   "cell_type": "code",
   "execution_count": 11,
   "metadata": {},
   "outputs": [
    {
     "name": "stdout",
     "output_type": "stream",
     "text": [
      "['a', 'b', 'c', 'd', 'e']\n",
      "[]\n"
     ]
    }
   ],
   "source": [
    "lettters = ['a', 'b', 'c', 'd', 'e']  # создаем список букв\n",
    "print(lettters)                       # выводим список \n",
    "lettters.clear()                      # очищаем список\n",
    "print(lettters)                       # выводим список"
   ]
  },
  {
   "cell_type": "markdown",
   "metadata": {},
   "source": [
    "#### <center>**Метод count(): подсчитываем кол-во одинаковых элементов списка**<center>"
   ]
  },
  {
   "cell_type": "code",
   "execution_count": 18,
   "metadata": {},
   "outputs": [
    {
     "name": "stdout",
     "output_type": "stream",
     "text": [
      "4\n"
     ]
    }
   ],
   "source": [
    "a = [\"a\", \"b\", \"c\", \"d\", \"b\", \"b\", \"g\", \"b\", \"r\"]  # создаем список\n",
    "print(a.count(\"b\"))                                # выводим количество символов b в списке"
   ]
  },
  {
   "cell_type": "markdown",
   "metadata": {},
   "source": [
    "#### **Задание 2.15**"
   ]
  },
  {
   "cell_type": "markdown",
   "metadata": {},
   "source": [
    "Создайте список numbers из десяти произвольных элементов, но числа 5 и 1 в нём должны повторяться 3 и 2 раза соответственно. Примените к полученному списку метод .count(). В качестве аргумента возьмите число 5. Выведите полученный результат. В качестве ответа запишите результат вывода.\n",
    "Введите получившееся число."
   ]
  },
  {
   "cell_type": "code",
   "execution_count": 10,
   "metadata": {},
   "outputs": [
    {
     "name": "stdout",
     "output_type": "stream",
     "text": [
      "3\n"
     ]
    }
   ],
   "source": [
    "lst =[5,1,3,2,5,2,1,5,3,8] # cоздаем список\n",
    "print(lst.count(5))        # выводим количество 5-рок в списке"
   ]
  },
  {
   "cell_type": "markdown",
   "metadata": {},
   "source": [
    "#### <center>**Метод copy(): получение полной копии списка**<center>"
   ]
  },
  {
   "cell_type": "code",
   "execution_count": 19,
   "metadata": {},
   "outputs": [
    {
     "name": "stdout",
     "output_type": "stream",
     "text": [
      "[1, 2, 3]\n"
     ]
    }
   ],
   "source": [
    "a = [1,2,3]  # создаем список\n",
    "b = a.copy() # получаем копию списка\n",
    "print(b)     # выводим список"
   ]
  },
  {
   "cell_type": "markdown",
   "metadata": {},
   "source": [
    "##### <center>**Альтернативный вариант копирования: полный срез**<center>"
   ]
  },
  {
   "cell_type": "code",
   "execution_count": 20,
   "metadata": {},
   "outputs": [
    {
     "name": "stdout",
     "output_type": "stream",
     "text": [
      "[1, 2, 3]\n"
     ]
    }
   ],
   "source": [
    "a = [1,2,3]  # создаем список\n",
    "b = a[:]     # делаем копию списка методом полного среза\n",
    "print(b)     # выводим копию списка"
   ]
  },
  {
   "cell_type": "markdown",
   "metadata": {},
   "source": [
    "#### **Задание 2.16**"
   ]
  },
  {
   "cell_type": "markdown",
   "metadata": {},
   "source": [
    "Создайте список my_books из пяти элементов: 'book1', 'book2', 'book3', 'book4', 'book5'. Затем используйте метод .copy() для копирования содержимого вашего списка в список tom_books. Выведите два полученных списка. В качестве ответа запишите результат вывода."
   ]
  },
  {
   "cell_type": "code",
   "execution_count": null,
   "metadata": {},
   "outputs": [],
   "source": [
    "my_books = ['book1', 'book2', 'book3', 'book4', 'book5'] # инициируем список\n",
    "tom_books = my_books.copy()                              # копируем список\n",
    "print(my_books, tom_books)                               # выводим списки"
   ]
  },
  {
   "cell_type": "markdown",
   "metadata": {},
   "source": [
    "#### **Задание 2.17**"
   ]
  },
  {
   "cell_type": "markdown",
   "metadata": {},
   "source": [
    "Создайте список my_orders из пяти элементов: 'order1', 'order2', 'order3', 'order4', 'order5'. Затем используйте квадратные скобки и двоеточие внутри для копирования содержимого вашего списка в список anne_orders. Выведите два полученных списка. В качестве ответа запишите результат вывода."
   ]
  },
  {
   "cell_type": "code",
   "execution_count": 9,
   "metadata": {},
   "outputs": [
    {
     "name": "stdout",
     "output_type": "stream",
     "text": [
      "['order1', 'order2', 'order3', 'order4', 'order5'] ['order1', 'order2', 'order3', 'order4', 'order5']\n"
     ]
    }
   ],
   "source": [
    "my_orders = ['order1', 'order2', 'order3', 'order4', 'order5'] # инициируем список\n",
    "anne_ordes = my_orders[:]                                      # копируем список\n",
    "print(my_orders, anne_ordes)                                   # печатаем списки"
   ]
  },
  {
   "cell_type": "markdown",
   "metadata": {},
   "source": [
    "#### <center>**Метод extend(): расширение списка за счет элементов другого списка (конкатенация списков)**<center>"
   ]
  },
  {
   "cell_type": "code",
   "execution_count": 22,
   "metadata": {},
   "outputs": [
    {
     "name": "stdout",
     "output_type": "stream",
     "text": [
      "['a', 'b', 'c']\n",
      "['d', 'e']\n",
      "['a', 'b', 'c', 'd', 'e']\n"
     ]
    }
   ],
   "source": [
    "a = [\"a\", \"b\", \"c\"]  # создаем список а\n",
    "print(a)             # выводим список а\n",
    "b = [\"d\", \"e\"]       # создаем список b\n",
    "print(b)             # выводим список b \n",
    "a.extend(b)          # расширяем список a, включая в него список  b\n",
    "print(a)             # выводим список a"
   ]
  },
  {
   "cell_type": "markdown",
   "metadata": {},
   "source": [
    "#### **Задание 2.18**"
   ]
  },
  {
   "cell_type": "markdown",
   "metadata": {},
   "source": [
    "1. Создайте список all_things, в котором будет лежать три элемента: 'order1', 'order2', 'order3'.\n",
    "2. Затем создайте список only_books, в котором будет лежать два элемента: 'book1', 'book2'.\n",
    "3. Используя метод .extend(), обогатите переменную all_things.  \n",
    "\n",
    "Выведите результат. В качестве ответа запишите результат вывода."
   ]
  },
  {
   "cell_type": "code",
   "execution_count": 8,
   "metadata": {},
   "outputs": [
    {
     "name": "stdout",
     "output_type": "stream",
     "text": [
      "['order1', 'order2', 'order3', 'book1', 'book2']\n"
     ]
    }
   ],
   "source": [
    "all_things = ['order1', 'order2', 'order3'] # cоздаем список продаж\n",
    "only_books = ['book1', 'book2']             # создаем список книг\n",
    "all_things.extend(only_books)               # расширяем список продаж списком книг\n",
    "print(all_things)                           # выводи список продаж"
   ]
  },
  {
   "cell_type": "markdown",
   "metadata": {},
   "source": [
    "#### <center>**Метод reverse(): разворот списка (альтернативный вариант)**<center>"
   ]
  },
  {
   "cell_type": "code",
   "execution_count": 7,
   "metadata": {},
   "outputs": [
    {
     "name": "stdout",
     "output_type": "stream",
     "text": [
      "[1, 2, 3, 4, 5]\n",
      "[5, 4, 3, 2, 1]\n"
     ]
    }
   ],
   "source": [
    "a = [1,2,3,4,5]  # создаем список\n",
    "print(a)         # выводим список\n",
    "a.reverse()      # разворачиваем список\n",
    "print(a)         # выводим развернутый список"
   ]
  },
  {
   "cell_type": "markdown",
   "metadata": {},
   "source": [
    "#### **Задание 2.19**"
   ]
  },
  {
   "cell_type": "markdown",
   "metadata": {},
   "source": [
    "Создайте список nums с числами от 1 до 10. Примените к нему метод .reverse(). Выведите переменную nums. В качестве ответа введите результат вывода."
   ]
  },
  {
   "cell_type": "code",
   "execution_count": 6,
   "metadata": {},
   "outputs": [
    {
     "name": "stdout",
     "output_type": "stream",
     "text": [
      "[10, 9, 8, 7, 6, 5, 4, 3, 2, 1]\n"
     ]
    }
   ],
   "source": [
    "lst = list(range(1,11))  # создаем список тиз 10 чисел\n",
    "lst.reverse()            # разворачиваем список\n",
    "print(lst)               # выводим список"
   ]
  },
  {
   "cell_type": "markdown",
   "metadata": {},
   "source": [
    "#### <center>**Метод sort(): сортировка списка**<center>"
   ]
  },
  {
   "cell_type": "code",
   "execution_count": 23,
   "metadata": {},
   "outputs": [
    {
     "name": "stdout",
     "output_type": "stream",
     "text": [
      "[3, 4, 1, 5, 10, 0, 2]\n",
      "[0, 1, 2, 3, 4, 5, 10]\n"
     ]
    }
   ],
   "source": [
    "a = [3,4,1,5,10,0, 2]  # создаем список\n",
    "print(a)               # выводим список\n",
    "a.sort()               # сортируем список\n",
    "print(a)               # выводим отсортированный список"
   ]
  },
  {
   "cell_type": "markdown",
   "metadata": {},
   "source": [
    "#### **Задание 2.20**"
   ]
  },
  {
   "cell_type": "markdown",
   "metadata": {},
   "source": [
    "Создайте список random_values = [3, 5, 0, -1, 2, 10, 15, -5]. Вызовите метод .sort() на этом списке. Выведите список random_values. В качестве ответа запишите результат вывода."
   ]
  },
  {
   "cell_type": "code",
   "execution_count": 5,
   "metadata": {},
   "outputs": [
    {
     "name": "stdout",
     "output_type": "stream",
     "text": [
      "[-5, -1, 0, 2, 3, 5, 10, 15]\n"
     ]
    }
   ],
   "source": [
    "random_values = [3, 5, 0, -1, 2, 10, 15, -5] # создаем список\n",
    "random_values.sort()                         # сортируем список\n",
    "print(random_values)                         # выводим список"
   ]
  },
  {
   "cell_type": "markdown",
   "metadata": {},
   "source": [
    "Важно: в списке можно хранить не только простые типы (числа, строки), но также кортежи, словари, списки, списки внутри списков и даже функции.  \n",
    "list1 = [[1,2,3], [4,5,6], [7,8,9]]  \n",
    "list2 = [[3,2,4], (3,4), \"5.6\", 7]"
   ]
  },
  {
   "cell_type": "markdown",
   "metadata": {},
   "source": [
    "#### **Задание 2.21**"
   ]
  },
  {
   "cell_type": "markdown",
   "metadata": {},
   "source": [
    "Создайте список list1. Запишите в него последовательно:  \n",
    "1. число 5;  \n",
    "2. число 0.2;  \n",
    "3. строку 'hello there';  \n",
    "4. список [1,2,3,4];  \n",
    "5. строку 'bye'.  \n",
    "\n",
    "Выведите результат. В качестве ответа запишите результат вывода."
   ]
  },
  {
   "cell_type": "code",
   "execution_count": null,
   "metadata": {},
   "outputs": [],
   "source": [
    "list1 = list()              # создаем список\n",
    "list1.append(5)             # доавляем 5\n",
    "list1.append(0.2)           # добавляем 0.2\n",
    "list1.append('hello there') # добавляем строку\n",
    "list1.append([1, 2, 3, 4])  # добавляем список\n",
    "list1.append('bye')         # добавляем строку\n",
    "print(list1)                # выводим список"
   ]
  },
  {
   "cell_type": "markdown",
   "metadata": {},
   "source": [
    "#### <center>**Создание кортежа**<center>"
   ]
  },
  {
   "cell_type": "code",
   "execution_count": 26,
   "metadata": {},
   "outputs": [
    {
     "name": "stdout",
     "output_type": "stream",
     "text": [
      "()\n",
      "()\n",
      "(3,)\n",
      "(3,)\n",
      "(1, 2, 3)\n"
     ]
    }
   ],
   "source": [
    "tpl1 = tuple()   # пустой кортеж\n",
    "print(tpl1)      # выводим кортеж\n",
    "tpl1 = ()        # пустой кортеж\n",
    "print(tpl1)      # выводим кортеж\n",
    "tpl1 = (3,)      # кортеж с одним элементом\n",
    "print(tpl1)      # выводим кортеж\n",
    "tpl1 = 3,        # кортеж с одним элементом\n",
    "print(tpl1)      # выводим кортеж\n",
    "tpl1 = (1, 2, 3) # кортеж из нескольких элементов\n",
    "print(tpl1)      # выводим кортеж"
   ]
  },
  {
   "cell_type": "markdown",
   "metadata": {},
   "source": [
    "#### **Задание 2.24**"
   ]
  },
  {
   "cell_type": "markdown",
   "metadata": {},
   "source": [
    "Создайте пустой кортеж tpl, используя конструктор типов tuple(). Выведите полученный результат. В качестве ответа напишите результат вывода."
   ]
  },
  {
   "cell_type": "code",
   "execution_count": 15,
   "metadata": {},
   "outputs": [
    {
     "name": "stdout",
     "output_type": "stream",
     "text": [
      "()\n"
     ]
    }
   ],
   "source": [
    "tpl = tuple() # создаем пустой кортеж\n",
    "print(tpl)    # выводим кортеж"
   ]
  },
  {
   "cell_type": "markdown",
   "metadata": {},
   "source": [
    "#### **Задание 2.25**"
   ]
  },
  {
   "cell_type": "markdown",
   "metadata": {},
   "source": [
    "Создайте кортеж tpl2 c одним числом, равным 255. Выведите результат. В качестве ответа запишите результат вывода."
   ]
  },
  {
   "cell_type": "code",
   "execution_count": 18,
   "metadata": {},
   "outputs": [
    {
     "name": "stdout",
     "output_type": "stream",
     "text": [
      "(255,)\n"
     ]
    }
   ],
   "source": [
    "tpl2 = 255,  # создаем кортеж с одним числом\n",
    "print(tpl2)  # выводим кортеж"
   ]
  },
  {
   "cell_type": "markdown",
   "metadata": {},
   "source": [
    "#### **Задание 2.26**"
   ]
  },
  {
   "cell_type": "markdown",
   "metadata": {},
   "source": [
    "Создайте кортеж tpl3 c тремя числами: 15, 22 и 0. Выведите результат. В качестве ответа запишите результат вывода."
   ]
  },
  {
   "cell_type": "code",
   "execution_count": 21,
   "metadata": {},
   "outputs": [
    {
     "name": "stdout",
     "output_type": "stream",
     "text": [
      "(15, 22, 0)\n"
     ]
    }
   ],
   "source": [
    "tpl3 = (15, 22, 0)  # создаем кортеж\n",
    "print(tpl3)         # выводим кортеж"
   ]
  },
  {
   "cell_type": "markdown",
   "metadata": {},
   "source": [
    "### <center>Словари<center>"
   ]
  },
  {
   "cell_type": "markdown",
   "metadata": {},
   "source": [
    "#### <center>**Создание пустого словаря**<center>"
   ]
  },
  {
   "cell_type": "code",
   "execution_count": 27,
   "metadata": {},
   "outputs": [
    {
     "name": "stdout",
     "output_type": "stream",
     "text": [
      "{}\n",
      "{}\n"
     ]
    }
   ],
   "source": [
    "my_dict = dict()  # создаем пустой словарь\n",
    "print(my_dict)    # выводим пустой словарь\n",
    "my_dict = {}      # создаем пустой словарь\n",
    "print(my_dict)    # выводим пустой словарь"
   ]
  },
  {
   "cell_type": "markdown",
   "metadata": {},
   "source": [
    "#### **Задание 3.4**"
   ]
  },
  {
   "cell_type": "markdown",
   "metadata": {},
   "source": [
    "Создайте пустой словарь empty_dict, используя конструктор типов. Выведите результат. В качестве ответа запишите результат вывода"
   ]
  },
  {
   "cell_type": "code",
   "execution_count": 22,
   "metadata": {},
   "outputs": [
    {
     "name": "stdout",
     "output_type": "stream",
     "text": [
      "{}\n"
     ]
    }
   ],
   "source": [
    "empty_dict = dict()  # создаем пустой словарь\n",
    "print(empty_dict)    # выводим словарь"
   ]
  },
  {
   "cell_type": "markdown",
   "metadata": {},
   "source": [
    "#### **Задание 3.5**"
   ]
  },
  {
   "cell_type": "markdown",
   "metadata": {},
   "source": [
    "Создайте пустой словарь empty_dict1, используя конструктор типов, а затем второй словарь empty_dict2 с использованием фигурных скобок. С помощью функции print() выведите значения обеих переменных. Убедитесь, что результаты одинаковые."
   ]
  },
  {
   "cell_type": "code",
   "execution_count": 23,
   "metadata": {},
   "outputs": [
    {
     "name": "stdout",
     "output_type": "stream",
     "text": [
      "{} {}\n"
     ]
    }
   ],
   "source": [
    "empty_dict1 = dict()            # создаем пустой словарь с использованием конструктора\n",
    "empty_dict2 = {}                # создаем пустой словарь без использования конструктора   \n",
    "print(empty_dict1, empty_dict2) # выводим оба словаря"
   ]
  },
  {
   "cell_type": "markdown",
   "metadata": {},
   "source": [
    "#### <center>**Создание заполенного словаря**<center>"
   ]
  },
  {
   "cell_type": "code",
   "execution_count": 29,
   "metadata": {},
   "outputs": [
    {
     "name": "stdout",
     "output_type": "stream",
     "text": [
      "{'+79033923029': 'Ivan Ivanov', '+78125849204': 'Kirill Smirnov', '+79053049385': 'Mark Parkhomenko', '+79265748370': 'Ekaterina Dmitrieva', '+79030598495': 'Ruslan Belyi'}\n"
     ]
    }
   ],
   "source": [
    "phones = {'+79033923029': 'Ivan Ivanov', \n",
    "          '+78125849204': 'Kirill Smirnov', \n",
    "          '+79053049385': 'Mark Parkhomenko', \n",
    "          '+79265748370': 'Ekaterina Dmitrieva', \n",
    "          '+79030598495': 'Ruslan Belyi'}         # создаем заполненный словарь\n",
    "print(phones)                                     # выводим словарь"
   ]
  },
  {
   "cell_type": "markdown",
   "metadata": {},
   "source": [
    "#### **Задание 3.6**"
   ]
  },
  {
   "cell_type": "markdown",
   "metadata": {},
   "source": [
    "Создайте словарь alphabet_dict, в котором в качестве ключей будут пять первых букв английского языка, а в качестве значений для этих ключей будут числа от 1 до 5. Верните значение для буквы d:"
   ]
  },
  {
   "cell_type": "code",
   "execution_count": 24,
   "metadata": {},
   "outputs": [
    {
     "name": "stdout",
     "output_type": "stream",
     "text": [
      "4\n"
     ]
    }
   ],
   "source": [
    "alphabet_dict = {'a':1, 'b':2, 'c':3, 'd':4, 'e':5}   # создаем заполненный словарь\n",
    "print(alphabet_dict['d'])                             # выводим значение элемента с ключом 'd'\n"
   ]
  },
  {
   "cell_type": "markdown",
   "metadata": {},
   "source": [
    "#### **Задание 3.7**"
   ]
  },
  {
   "cell_type": "markdown",
   "metadata": {},
   "source": [
    "Создайте словарь place_and_money, в котором в качестве ключей будут числа от 1 до 3, а в качестве значений — числа 100, 50, 10. Выведите денежный приз для второго места:"
   ]
  },
  {
   "cell_type": "code",
   "execution_count": 25,
   "metadata": {},
   "outputs": [
    {
     "name": "stdout",
     "output_type": "stream",
     "text": [
      "50\n"
     ]
    }
   ],
   "source": [
    "place_and_money = {1:100, 2:50, 3:10}   # создаем заполненный словарь\n",
    "print(place_and_money[2])               # выводим значение элемента с ключом '2'"
   ]
  },
  {
   "cell_type": "markdown",
   "metadata": {},
   "source": [
    "#### <center>**Обращение к значению в словаре по его ключу**<center>"
   ]
  },
  {
   "cell_type": "code",
   "execution_count": 30,
   "metadata": {},
   "outputs": [
    {
     "name": "stdout",
     "output_type": "stream",
     "text": [
      "Ekaterina Dmitrieva\n"
     ]
    }
   ],
   "source": [
    "print(phones[\"+79265748370\"])  # обратились к зачению по его ключу"
   ]
  },
  {
   "cell_type": "markdown",
   "metadata": {},
   "source": [
    "#### **Задание 3.8**"
   ]
  },
  {
   "cell_type": "markdown",
   "metadata": {},
   "source": [
    "В словарь place_and_money = {1: 100, 2: 50, 3: 10} добавьте четвёртое место с призом, равным 5. Выведите получившийся словарь. В качестве ответа запишите результат вывода."
   ]
  },
  {
   "cell_type": "code",
   "execution_count": 27,
   "metadata": {},
   "outputs": [
    {
     "name": "stdout",
     "output_type": "stream",
     "text": [
      "{1: 100, 2: 50, 3: 10, 4: 5}\n"
     ]
    }
   ],
   "source": [
    "place_and_money[4] = 5  # добавляем в словарь приз за 4 место\n",
    "print(place_and_money)  # выводим словарь"
   ]
  },
  {
   "cell_type": "markdown",
   "metadata": {},
   "source": [
    "#### **Задание 3.9**"
   ]
  },
  {
   "cell_type": "markdown",
   "metadata": {},
   "source": [
    "В словаре place_and_money = {1: 100, 2: 50, 3: 10} измените призовое значение для третьего места с 10 на 25. Выведите получившийся словарь. В качестве ответа запишите результат вывода."
   ]
  },
  {
   "cell_type": "code",
   "execution_count": 28,
   "metadata": {},
   "outputs": [
    {
     "name": "stdout",
     "output_type": "stream",
     "text": [
      "{1: 100, 2: 50, 3: 25, 4: 5}\n"
     ]
    }
   ],
   "source": [
    "place_and_money = {1: 100, 2: 50, 3: 10}   # создаем заполненный словарь \n",
    "place_and_money[3] = 25                    # изменили приз за 3 место на 25\n",
    "print(place_and_money)                     # выводим словарь"
   ]
  },
  {
   "cell_type": "markdown",
   "metadata": {},
   "source": [
    "#### <center>**Добавление значения в словарь**<center>"
   ]
  },
  {
   "cell_type": "code",
   "execution_count": 31,
   "metadata": {},
   "outputs": [
    {
     "name": "stdout",
     "output_type": "stream",
     "text": [
      "{'+79033923029': 'Ivan Ivanov', '+78125849204': 'Kirill Smirnov', '+79053049385': 'Mark Parkhomenko', '+79265748370': 'Ekaterina Dmitrieva', '+79030598495': 'Ruslan Belyi', '+79686581788': 'Artem Pliev'}\n"
     ]
    }
   ],
   "source": [
    "phones[\"+79686581788\"]  = 'Artem Pliev'  # добавляем значение в словарь\n",
    "print(phones)                            # выводим словарь"
   ]
  },
  {
   "cell_type": "markdown",
   "metadata": {},
   "source": [
    "#### <center>**Методы работы со словарями**<center>"
   ]
  },
  {
   "cell_type": "markdown",
   "metadata": {},
   "source": [
    "##### <center>**Метод clear(): очистка словаря**<center>"
   ]
  },
  {
   "cell_type": "code",
   "execution_count": 32,
   "metadata": {},
   "outputs": [
    {
     "name": "stdout",
     "output_type": "stream",
     "text": [
      "{'Kolya': 180, 'Marina': 176, 'Misha': 158, 'Dima': 201, 'Yana': 183, 'Nina': 156}\n",
      "{}\n"
     ]
    }
   ],
   "source": [
    "friends = {\"Kolya\": 180, \"Marina\": 176, \"Misha\": 158, \"Dima\": 201, \"Yana\": 183, \"Nina\": 156} # создаем словарь\n",
    "print(friends)                                                                               # выводим словарь\n",
    "friends.clear()                                                                              # очищаем словарь\n",
    "print(friends)                                                                               # выводим словарь"
   ]
  },
  {
   "cell_type": "markdown",
   "metadata": {},
   "source": [
    "#### **Задание 3.10**"
   ]
  },
  {
   "cell_type": "markdown",
   "metadata": {},
   "source": [
    "Создайте словарь place_and_money = {1: 100, 2: 50, 3: 10}. Очистите этот словарь. Выведите результат. В качестве ответа запишите результат вывода."
   ]
  },
  {
   "cell_type": "code",
   "execution_count": 29,
   "metadata": {},
   "outputs": [
    {
     "name": "stdout",
     "output_type": "stream",
     "text": [
      "{}\n"
     ]
    }
   ],
   "source": [
    "place_and_money = {1: 100, 2: 50, 3: 10}  # создаем словарь\n",
    "place_and_money.clear()                   # очищаем словарь\n",
    "print(place_and_money)                    # выводим словарь"
   ]
  },
  {
   "cell_type": "markdown",
   "metadata": {},
   "source": [
    "##### n<center>**Метод keys(): получение списка ключей словаря**<center>"
   ]
  },
  {
   "cell_type": "code",
   "execution_count": 43,
   "metadata": {},
   "outputs": [
    {
     "name": "stdout",
     "output_type": "stream",
     "text": [
      "dict_keys(['Kolya', 'Marina', 'Misha', 'Dima', 'Yana', 'Nina'])\n",
      "['Kolya', 'Marina', 'Misha', 'Dima', 'Yana', 'Nina']\n"
     ]
    }
   ],
   "source": [
    "friends = {\"Kolya\": 180, \"Marina\": 176, \"Misha\": 158, \"Dima\": 201, \"Yana\": 183, \"Nina\": 156} # создаем словарь\n",
    "print(friends.keys())                                                                        # выводим все ключи словаря\n",
    "print(list(friends.keys()))                                                                  # выводим список ключей словаря"
   ]
  },
  {
   "cell_type": "markdown",
   "metadata": {},
   "source": [
    "#### **Задание 3.11**"
   ]
  },
  {
   "cell_type": "markdown",
   "metadata": {},
   "source": [
    "Создайте словарь place_and_money = {1: 100, 2: 50, 3: 10}. Воспользуйтесь методом .keys() и выведите результат. В качестве ответа запишите результат вывода."
   ]
  },
  {
   "cell_type": "code",
   "execution_count": 30,
   "metadata": {},
   "outputs": [
    {
     "name": "stdout",
     "output_type": "stream",
     "text": [
      "dict_keys([1, 2, 3])\n"
     ]
    }
   ],
   "source": [
    "place_and_money = {1: 100, 2: 50, 3: 10} # создаем словарь\n",
    "print(place_and_money.keys())            # выводим список ключей словаря"
   ]
  },
  {
   "cell_type": "markdown",
   "metadata": {},
   "source": [
    "#### **Задание 3.12**"
   ]
  },
  {
   "cell_type": "markdown",
   "metadata": {},
   "source": [
    "Создайте словарь name_to_age = {'Anne': 22, 'Anton': 27, 'Phillip': 30}. Воспользуйтесь методом .keys() и выведите результат. В качестве ответа запишите результат вывода."
   ]
  },
  {
   "cell_type": "code",
   "execution_count": 31,
   "metadata": {},
   "outputs": [
    {
     "name": "stdout",
     "output_type": "stream",
     "text": [
      "dict_keys(['Anne', 'Anton', 'Phillip'])\n"
     ]
    }
   ],
   "source": [
    "name_to_age = {'Anne': 22, 'Anton': 27, 'Phillip': 30}  # создаем словарь\n",
    "print(name_to_age.keys())                               # выводим списко ключей словаря"
   ]
  },
  {
   "cell_type": "markdown",
   "metadata": {},
   "source": [
    "##### <center>**Метод values(): получение списка значений словаря**<center>"
   ]
  },
  {
   "cell_type": "code",
   "execution_count": 38,
   "metadata": {},
   "outputs": [
    {
     "name": "stdout",
     "output_type": "stream",
     "text": [
      "dict_values([180, 176, 158, 201, 183, 156])\n",
      "[180, 176, 158, 201, 183, 156]\n"
     ]
    }
   ],
   "source": [
    "print(friends.values())        # выводим все значения словаря\n",
    "print(list(friends.values()))  # выводим список значений словаря"
   ]
  },
  {
   "cell_type": "markdown",
   "metadata": {},
   "source": [
    "#### **Задание 3.13**"
   ]
  },
  {
   "cell_type": "markdown",
   "metadata": {},
   "source": [
    "Создайте словарь name_to_age = {'Anne': 22, 'Anton': 27, 'Phillip': 30}. Воспользуйтесь методом .values() и выведите результат. В качестве ответа запишите результат вывода."
   ]
  },
  {
   "cell_type": "code",
   "execution_count": 32,
   "metadata": {},
   "outputs": [
    {
     "name": "stdout",
     "output_type": "stream",
     "text": [
      "dict_values([22, 27, 30])\n"
     ]
    }
   ],
   "source": [
    "name_to_age = {'Anne': 22, 'Anton': 27, 'Phillip': 30} # создаем словарь\n",
    "print(name_to_age.values())                            # выводим список заначений словаря"
   ]
  },
  {
   "cell_type": "markdown",
   "metadata": {},
   "source": [
    "#### **Задание 3.14**"
   ]
  },
  {
   "cell_type": "markdown",
   "metadata": {},
   "source": [
    "Создайте словарь place_and_money = {1: 100, 2: 50, 3: 10}. Воспользуйтесь методом .values() и выведите результат. В качестве ответа запишите результат вывода"
   ]
  },
  {
   "cell_type": "code",
   "execution_count": 33,
   "metadata": {},
   "outputs": [
    {
     "name": "stdout",
     "output_type": "stream",
     "text": [
      "dict_values([100, 50, 10])\n"
     ]
    }
   ],
   "source": [
    "place_and_money = {1: 100, 2: 50, 3: 10}  # создаес словарь\n",
    "print(place_and_money.values())           # выводим список значений словаря"
   ]
  },
  {
   "cell_type": "markdown",
   "metadata": {},
   "source": [
    "##### <center>**Метод get(): получение знчения по ключу.**<center>"
   ]
  },
  {
   "cell_type": "markdown",
   "metadata": {},
   "source": [
    "Особенность метода: для несуществующего ключа возвращает значение None, обрабатывая ошибку KeyError."
   ]
  },
  {
   "cell_type": "code",
   "execution_count": 39,
   "metadata": {},
   "outputs": [
    {
     "name": "stdout",
     "output_type": "stream",
     "text": [
      "None\n",
      "100\n"
     ]
    }
   ],
   "source": [
    "print(friends.get(\"Matvey\"))       # вывод значения None для отсутствующего ключа\n",
    "print(friends.get(\"Matvey\", 100))  # вывод значения по умолчанию для отсутсвующего ключа"
   ]
  },
  {
   "cell_type": "markdown",
   "metadata": {},
   "source": [
    "#### **Задание 3.15**"
   ]
  },
  {
   "cell_type": "markdown",
   "metadata": {},
   "source": [
    "Создайте словарь place_and_money = {1: 100, 2: 50, 3: 10}. Попробуйте вывести приз для 20 места через метод .get(). В качестве значения по умолчанию поставьте число 0. В качестве ответа запишите результат вывода."
   ]
  },
  {
   "cell_type": "code",
   "execution_count": 34,
   "metadata": {},
   "outputs": [
    {
     "name": "stdout",
     "output_type": "stream",
     "text": [
      "None\n"
     ]
    }
   ],
   "source": [
    "place_and_money = {1: 100, 2: 50, 3: 10} # создаем словарь\n",
    "print(place_and_money.get(20))           # выводим приз для 20-го места"
   ]
  },
  {
   "cell_type": "markdown",
   "metadata": {},
   "source": [
    "#### **Задание 3.16**"
   ]
  },
  {
   "cell_type": "markdown",
   "metadata": {},
   "source": [
    "Создайте словарь name_to_age = {'Anne': 22, 'Anton': 27, 'Phillip': 30}. Попробуйте вывести возраст для персонажа по имени 'Danny'. Если такого имени не будет в словаре, выведите -1. В качестве ответа запишите результат вывода."
   ]
  },
  {
   "cell_type": "code",
   "execution_count": 36,
   "metadata": {},
   "outputs": [
    {
     "name": "stdout",
     "output_type": "stream",
     "text": [
      "-1\n"
     ]
    }
   ],
   "source": [
    "name_to_age = {'Anne': 22, 'Anton': 27, 'Phillip': 30} # создаем список\n",
    "x = name_to_age.get('Danny')                           # получаем значение по ключу 'Danny'\n",
    "if x is None:                                          # если значение не определено\n",
    "    print(-1)                                          # то выводим -1"
   ]
  },
  {
   "cell_type": "markdown",
   "metadata": {},
   "source": [
    "##### <center>**Метод update(): расширение словаря**<center>"
   ]
  },
  {
   "cell_type": "code",
   "execution_count": 44,
   "metadata": {},
   "outputs": [
    {
     "name": "stdout",
     "output_type": "stream",
     "text": [
      "{'Kolya': 180, 'Marina': 176, 'Misha': 158, 'Dima': 201, 'Yana': 183, 'Nina': 156, 'Stas': 171, 'Nastya': 163}\n",
      "{'Kolya': 180, 'Marina': 176, 'Misha': 158, 'Dima': 201, 'Yana': 183, 'Nina': 156, 'Stas': 171, 'Nastya': 163, 'Fedor': 172, 'Лена': 159}\n"
     ]
    }
   ],
   "source": [
    "friends.update({\"Stas\":171, \"Nastya\": 163}) # прямое расширение словаря\n",
    "print(friends)\n",
    "new_friends = {'Fedor':172, 'Лена':159}     \n",
    "friends.update(new_friends)                 # расширени за счет элементов другого словаря\n",
    "print(friends)"
   ]
  },
  {
   "cell_type": "markdown",
   "metadata": {},
   "source": [
    "#### **Задание 3.17**"
   ]
  },
  {
   "cell_type": "markdown",
   "metadata": {},
   "source": [
    "Создайте словарь place_and_money = {1: 100, 2: 50, 3: 10}. Затем добавьте в него следующие места и значения: четвёртое место с призом 5, пятое место с призом 1. Используйте метод update(). Выведите результат. В качестве ответа запишите результат вывода."
   ]
  },
  {
   "cell_type": "code",
   "execution_count": null,
   "metadata": {},
   "outputs": [],
   "source": [
    "place_and_money = {1: 100, 2: 50, 3: 10} # создаем словарь\n",
    "place_and_money.update({4:5, 5:1})       # расширяем словарь\n",
    "print(place_and_money)                   # выводим словарь"
   ]
  },
  {
   "cell_type": "markdown",
   "metadata": {},
   "source": [
    "#### **Задание 3.18**"
   ]
  },
  {
   "cell_type": "markdown",
   "metadata": {},
   "source": [
    "Создайте словарь name_to_age = {'Anne': 22, 'Anton': 27, 'Phillip': 30}. Измените у Анны возраст на 23, а у Филиппа — на 29. Используйте метод update(). Выведите результат. В качестве ответа запишите результат вывода."
   ]
  },
  {
   "cell_type": "code",
   "execution_count": 37,
   "metadata": {},
   "outputs": [
    {
     "name": "stdout",
     "output_type": "stream",
     "text": [
      "{'Anne': 23, 'Anton': 27, 'Phillip': 29}\n"
     ]
    }
   ],
   "source": [
    "name_to_age = {'Anne': 22, 'Anton': 27, 'Phillip': 30} # создаем словарь\n",
    "name_to_age.update({'Anne':23, 'Phillip':29})          # обновляем словарь\n",
    "print(name_to_age)                                     # выводим словарь"
   ]
  },
  {
   "cell_type": "markdown",
   "metadata": {},
   "source": [
    "##### <center>**Метод pop()**<center>"
   ]
  },
  {
   "cell_type": "markdown",
   "metadata": {},
   "source": [
    "Так же, как и в списке, в словаре метод .pop() удаляет из структуры данных элементы, но дополнительно метод возвращает результат — удалённый элемент. В словаре в этот метод мы передаём ключ. Из словаря удаляются и ключ, и значение, соответствующее этому ключу. Метод изменяет первоначальный словарь, а его результат (удалённый элемент) можно записать в переменную, чтобы в дальнейшем использовать в программе."
   ]
  },
  {
   "cell_type": "markdown",
   "metadata": {},
   "source": [
    "#### **Задание 3.19**"
   ]
  },
  {
   "cell_type": "markdown",
   "metadata": {},
   "source": [
    "Создайте словарь place_and_money = {1: 100, 2: 50, 3: 10}. Используя метод .pop(), удалите элемент словаря со значением приза за третье место. Результат работы метода запишите в переменную result и выведите её на экран. В качестве ответа запишите результат вывода."
   ]
  },
  {
   "cell_type": "code",
   "execution_count": 38,
   "metadata": {},
   "outputs": [
    {
     "name": "stdout",
     "output_type": "stream",
     "text": [
      "10\n"
     ]
    }
   ],
   "source": [
    "place_and_money = {1: 100, 2: 50, 3: 10} # создаем словарь\n",
    "result = place_and_money.pop(3)          # удаляем элемент по ключу 3\n",
    "print(result)                            # выводим результат"
   ]
  },
  {
   "cell_type": "markdown",
   "metadata": {},
   "source": [
    "#### **Задание 3.20**"
   ]
  },
  {
   "cell_type": "markdown",
   "metadata": {},
   "source": [
    "Создайте словарь name_to_age = {'Anne': 22, 'Anton': 27, 'Phillip': 30}. С помощью метода .pop() удалите из словаря данные для Антона. Результат запишите в переменную result и выведите её на экран. В качестве ответа запишите результат вывода."
   ]
  },
  {
   "cell_type": "code",
   "execution_count": null,
   "metadata": {},
   "outputs": [],
   "source": [
    "name_to_age = {'Anne': 22, 'Anton': 27, 'Phillip': 30} # создаем словарь\n",
    "result = name_to_age.pop('Антон')                      # удаляем элемент по ключу с сохранением в результат\n",
    "print(name_to_age)                                     # выводим результат"
   ]
  },
  {
   "cell_type": "markdown",
   "metadata": {},
   "source": [
    "##### <center>**Метод setdefault(): создание ключа со значением по умолчанию**<center>"
   ]
  },
  {
   "cell_type": "code",
   "execution_count": 45,
   "metadata": {},
   "outputs": [
    {
     "name": "stdout",
     "output_type": "stream",
     "text": [
      "170\n"
     ]
    }
   ],
   "source": [
    "friends.setdefault(\"Alena\", 170)  # создаем ключ со значением по умолчанию (истинное значение неизвестно)\n",
    "print(friends[\"Alena\"])           # 170"
   ]
  },
  {
   "cell_type": "markdown",
   "metadata": {},
   "source": [
    "#### **Задание 3.21**"
   ]
  },
  {
   "cell_type": "markdown",
   "metadata": {},
   "source": [
    "Создайте словарь place_and_money = {1: 100, 2: 50, 3: 10}. Через метод .setdefault() установите значение, равное 1, для десятого места. Выведите получившийся объект place_and_money. В качестве ответа запишите результат вывода."
   ]
  },
  {
   "cell_type": "code",
   "execution_count": 39,
   "metadata": {},
   "outputs": [
    {
     "name": "stdout",
     "output_type": "stream",
     "text": [
      "{1: 100, 2: 50, 3: 10, 10: 1}\n"
     ]
    }
   ],
   "source": [
    "place_and_money = {1: 100, 2: 50, 3: 10} # создаем словарь\n",
    "place_and_money.setdefault(10, 1)        # добавляем приз по умолчанию\n",
    "print(place_and_money)                   # выводим словарь"
   ]
  },
  {
   "cell_type": "markdown",
   "metadata": {},
   "source": [
    "#### **Задание 3.22**"
   ]
  },
  {
   "cell_type": "markdown",
   "metadata": {},
   "source": [
    "Создайте словарь name_to_age = {'Anne': 22, 'Anton': 27, 'Phillip': 30}. Через метод .setdefault() обновите возраст у Анны с 22 до 32. Выведите результат — он не должен измениться. В качестве ответа запишите результат вывода."
   ]
  },
  {
   "cell_type": "code",
   "execution_count": 40,
   "metadata": {},
   "outputs": [
    {
     "name": "stdout",
     "output_type": "stream",
     "text": [
      "{'Anne': 22, 'Anton': 27, 'Phillip': 30}\n"
     ]
    }
   ],
   "source": [
    "name_to_age = {'Anne': 22, 'Anton': 27, 'Phillip': 30} # создаем список\n",
    "name_to_age.setdefault('Anne', 32)                     # обновляем возраст по умлочанию\n",
    "print(name_to_age)                                     # выводим словарь"
   ]
  },
  {
   "cell_type": "markdown",
   "metadata": {},
   "source": [
    "**Важно!** В качестве ключа словаря должен выступать неизменяемый тип данных (числа, строки, кортежи), а в качестве значения может выступать любая структура данных."
   ]
  },
  {
   "cell_type": "code",
   "execution_count": 46,
   "metadata": {},
   "outputs": [
    {
     "name": "stdout",
     "output_type": "stream",
     "text": [
      "{(1, 2): 'hello', 'my name is': 'Curt', 5: (7, 7, 7), 'info': {'name': 'stive', 'age': 15, 'cities': ['Moscow', 'New York']}}\n"
     ]
    }
   ],
   "source": [
    "d = {(1,2): \"hello\", \"my name is\": \"Curt\", 5: (7,7,7), \"info\": {\"name\": \"stive\", \"age\": 15, \"cities\": [\"Moscow\", \"New York\"]}} # создаем словарь\n",
    "print(d)                                                                                                                       # выводим словарь"
   ]
  },
  {
   "cell_type": "markdown",
   "metadata": {},
   "source": [
    "#### **Задание 3.23**"
   ]
  },
  {
   "cell_type": "markdown",
   "metadata": {},
   "source": [
    "Создайте пустой словарь test_dict. Затем вставьте в него в качестве ключа число 5, а в качестве значения — список [3,4,5]. Затем в тот же словарь в качестве ключа добавьте кортеж (3,4,5), а его значением укажите строку 'strong man'. Выведите результат. В качестве ответа запишите результат вывода."
   ]
  },
  {
   "cell_type": "code",
   "execution_count": 42,
   "metadata": {},
   "outputs": [
    {
     "name": "stdout",
     "output_type": "stream",
     "text": [
      "{5: [3, 4, 5], (3, 4, 5): 'strong man'}\n"
     ]
    }
   ],
   "source": [
    "test_dict = dict()                  # создаем пустой словарь\n",
    "test_dict[5] = [3, 4, 5]            # добавляем по числовому ключу список\n",
    "test_dict[(3, 4, 5)] = 'strong man' # добаляем по ключу-кортежу строку\n",
    "print(test_dict)                    # выводим словарь"
   ]
  },
  {
   "cell_type": "markdown",
   "metadata": {},
   "source": [
    "#### **Задание 3.24**"
   ]
  },
  {
   "cell_type": "markdown",
   "metadata": {},
   "source": [
    "Создайте пустой словарь test_dict2. По ключу 'name' поставьте строку 'Sancho'. В качестве значения для ключа 'surname' поставьте 'Panso'. А для ключа 'info' добавьте словарь {'age': 35, 'country': 'Mexico'}. Выведите результат. В качестве ответа запишите результат вывода."
   ]
  },
  {
   "cell_type": "code",
   "execution_count": 43,
   "metadata": {},
   "outputs": [
    {
     "name": "stdout",
     "output_type": "stream",
     "text": [
      "{'name': 'Sancho', 'surname': 'Panso', 'info': {'age': 35, 'country': 'Mexico'}}\n"
     ]
    }
   ],
   "source": [
    "test_dict2 = dict()                                  # создаем пустой словарь\n",
    "test_dict2['name'] = 'Sancho'                        # по строковому ключу добавили строку\n",
    "test_dict2['surname'] = 'Panso'                      # по строковому ключу добавили строку\n",
    "test_dict2['info'] = {'age':35, 'country':'Mexico'}  # по строковому ключу добавили словарь\n",
    "print(test_dict2)                                    # выводим словарь "
   ]
  },
  {
   "cell_type": "markdown",
   "metadata": {},
   "source": [
    "#### **Задание 3.25**"
   ]
  },
  {
   "cell_type": "markdown",
   "metadata": {},
   "source": [
    "Создайте пустой словарь test_dict3. По ключу 'info' добавьте список [10, 15, 27]. А ключу 'about' поставьте словарь {'game': 'football', 'period': 5}. Затем измените значение по ключу 'about' на 'dont know'. Выведите результат. В качестве ответа запишите результат вывода."
   ]
  },
  {
   "cell_type": "code",
   "execution_count": 45,
   "metadata": {},
   "outputs": [
    {
     "name": "stdout",
     "output_type": "stream",
     "text": [
      "{'info': [10, 15, 27], 'about': 'dont know'}\n"
     ]
    }
   ],
   "source": [
    "test_dict3 = dict()                                      # создаем пустой словарь\n",
    "test_dict3['info'] = [10, 15, 27]                        # по строковому ключу добавляем список\n",
    "test_dict3['about'] = {'game': 'football', 'period': 5}  # по строковому ключу добавляем словарь\n",
    "test_dict3.update({'about':'dont know'})                 # обновляем значение по ключу 'info'\n",
    "print(test_dict3)                                        # выводим словарь"
   ]
  },
  {
   "cell_type": "markdown",
   "metadata": {},
   "source": [
    "## <center>Множества<center>"
   ]
  },
  {
   "cell_type": "markdown",
   "metadata": {},
   "source": [
    "#### <center>**Задание множетсва**<center>"
   ]
  },
  {
   "cell_type": "code",
   "execution_count": 41,
   "metadata": {},
   "outputs": [
    {
     "name": "stdout",
     "output_type": "stream",
     "text": [
      "set()\n",
      "{'l', 'o', 'h', 'e'}\n",
      "{1, 2, 3}\n"
     ]
    }
   ],
   "source": [
    "set1 = set()        # пустое множество\n",
    "print(set1)         # выводим пустое множество\n",
    "s1 = set(\"hello\")   # при создании множества в него не попадают дубликаты\n",
    "print(s1)           # выводим множество\n",
    "s2 = {1,2,3}        # множество уникальных элементов\n",
    "print(s2)           # выводим множество"
   ]
  },
  {
   "cell_type": "markdown",
   "metadata": {},
   "source": [
    "#### **Задание 4.1**"
   ]
  },
  {
   "cell_type": "markdown",
   "metadata": {},
   "source": [
    "Создайте с помощью конструктора типов пустое множество s1. Выведите результат. В качестве ответа запишите результат вывода."
   ]
  },
  {
   "cell_type": "code",
   "execution_count": 1,
   "metadata": {},
   "outputs": [
    {
     "name": "stdout",
     "output_type": "stream",
     "text": [
      "set()\n"
     ]
    }
   ],
   "source": [
    "s1 = set()  # создаем множество\n",
    "print(s1)   # выводим множество"
   ]
  },
  {
   "cell_type": "markdown",
   "metadata": {},
   "source": [
    "#### **Задание 4.2**"
   ]
  },
  {
   "cell_type": "markdown",
   "metadata": {},
   "source": [
    "Создайте с помощью фигурных скобок множество s2, в котором будет пять элементов: 5, 10, 3, 2, 11. В качестве ответа запишите получившуюся строку кода."
   ]
  },
  {
   "cell_type": "code",
   "execution_count": 3,
   "metadata": {},
   "outputs": [
    {
     "name": "stdout",
     "output_type": "stream",
     "text": [
      "s2 = {2, 3, 5, 10, 11}\n"
     ]
    }
   ],
   "source": [
    "s2 = {5, 10, 3, 2, 11}  # создаем множество\n",
    "print(f's2 = {s2}')     # выводим строку создания множества"
   ]
  },
  {
   "cell_type": "markdown",
   "metadata": {},
   "source": [
    "#### **Задание 4.3**"
   ]
  },
  {
   "cell_type": "markdown",
   "metadata": {},
   "source": [
    "Создайте множество s3 с помощью конструктора типов из строки 'wow thats cool'. Выведите результат. В качестве ответа запишите результат вывода в окне ниже."
   ]
  },
  {
   "cell_type": "code",
   "execution_count": 4,
   "metadata": {},
   "outputs": [
    {
     "name": "stdout",
     "output_type": "stream",
     "text": [
      "{'a', 'w', 'o', 'h', 't', 'c', 'l', ' ', 's'}\n"
     ]
    }
   ],
   "source": [
    "s3 = set('wow thats cool')  # создаем множество из строки\n",
    "print(s3)                   # выводим множество"
   ]
  },
  {
   "cell_type": "markdown",
   "metadata": {},
   "source": [
    "### <center>**Методы множеств**<center>"
   ]
  },
  {
   "cell_type": "markdown",
   "metadata": {},
   "source": [
    "#### <center>**Метод add(): добавление элемента в множество**<center>"
   ]
  },
  {
   "cell_type": "code",
   "execution_count": 48,
   "metadata": {},
   "outputs": [
    {
     "name": "stdout",
     "output_type": "stream",
     "text": [
      "{1, 2, 3, 4, 5}\n"
     ]
    }
   ],
   "source": [
    "s = {1, 2, 3, 4}  # создаем множество\n",
    "s.add(5)          # добавляем к множеству элемент\n",
    "print(s)          # выводим множество"
   ]
  },
  {
   "cell_type": "markdown",
   "metadata": {},
   "source": [
    "#### <center>**Mетод update(): добаление сразу нескольких элементов**<center>"
   ]
  },
  {
   "cell_type": "code",
   "execution_count": 51,
   "metadata": {},
   "outputs": [
    {
     "name": "stdout",
     "output_type": "stream",
     "text": [
      "{1, 2, 3, 4, 5, 6, 7}\n",
      "{1, 2, 3, 4, 5, 6, 7, 8, 9, 10}\n"
     ]
    }
   ],
   "source": [
    "s1 = {5, 6, 7}        # создаем ножество s1\n",
    "s.update(s1)          # к множеству s добавляем множество s1\n",
    "print(s)              # выводим множество s\n",
    "s.update({8, 9, 10})  # добавляес к множеству s еще одно множество\n",
    "print(s)              # выводим множество s"
   ]
  },
  {
   "cell_type": "markdown",
   "metadata": {},
   "source": [
    "#### **Задание 4.4**"
   ]
  },
  {
   "cell_type": "markdown",
   "metadata": {},
   "source": [
    "Создайте множество s1 из первых пяти строчных букв английского языка. Затем с помощью метода .add() добавьте новый элемент со значением 'hello'. Выведите результат.\n",
    "В качестве ответа запишите результат вывода."
   ]
  },
  {
   "cell_type": "code",
   "execution_count": 9,
   "metadata": {},
   "outputs": [
    {
     "name": "stdout",
     "output_type": "stream",
     "text": [
      "{'a', 'b', 'e', 'd', 'c', 'hello'}\n"
     ]
    }
   ],
   "source": [
    "s1 = {'a', 'b', 'c', 'd', 'e'}  # создаем множество\n",
    "s1.add('hello')                 # добавляем элемент в множество\n",
    "print(s1)                       # выводим множество"
   ]
  },
  {
   "cell_type": "markdown",
   "metadata": {},
   "source": [
    "#### <center>**Методы discard() и remove(): удаление элементов**<center>"
   ]
  },
  {
   "cell_type": "markdown",
   "metadata": {},
   "source": [
    "Метод remove() при попытке удалить несуществующий элемент выдаст ошибку, а метод discard() не выполнит никаких операций"
   ]
  },
  {
   "cell_type": "code",
   "execution_count": 60,
   "metadata": {},
   "outputs": [
    {
     "name": "stdout",
     "output_type": "stream",
     "text": [
      "{1, 2, 3, 4, 5}\n"
     ]
    }
   ],
   "source": [
    "try:                     # в защишенном блоке\n",
    "    s1 = {1,2,3,4,5}     # создаем множество\n",
    "    s1.remove(10)        # удаляем несуществующий элемент\n",
    "except:                  # возникает ошибка KeyError: 10\n",
    "    s1.discard(10)       # удаляем элемент с плмлщью метода discard\n",
    "                         # ничего не произошло\n",
    "print(s1)                # выводим множество"
   ]
  },
  {
   "cell_type": "code",
   "execution_count": 61,
   "metadata": {},
   "outputs": [
    {
     "name": "stdout",
     "output_type": "stream",
     "text": [
      "{1, 2, 3, 4, 5}\n",
      "{2, 3, 4, 5}\n",
      "{2, 3, 4}\n"
     ]
    }
   ],
   "source": [
    "print(s1)      # выводим множество\n",
    "s1.remove(1)   # удаляем элемент\n",
    "print(s1)      # выводим множество \n",
    "s1.discard(5)  # удаляем элемент\n",
    "print(s1)      # выводим множество"
   ]
  },
  {
   "cell_type": "markdown",
   "metadata": {},
   "source": [
    "#### **Задание 4.5**"
   ]
  },
  {
   "cell_type": "markdown",
   "metadata": {},
   "source": [
    "Создайте множество s1 из первых пяти строчных букв английского языка. Затем с помощью метода .remove() удалите элемент 'd'. Выведите s1.\n",
    "В качестве ответа запишите результат вывода"
   ]
  },
  {
   "cell_type": "code",
   "execution_count": 10,
   "metadata": {},
   "outputs": [
    {
     "name": "stdout",
     "output_type": "stream",
     "text": [
      "{'a', 'b', 'e', 'c'}\n"
     ]
    }
   ],
   "source": [
    "s1 = {'a', 'b', 'c', 'd', 'e'}  # создаем множество\n",
    "s1.remove('d')                  # удаляем элемент 'd'\n",
    "print(s1)                       # выводим множество"
   ]
  },
  {
   "cell_type": "markdown",
   "metadata": {},
   "source": [
    "#### **Задание 4.6**"
   ]
  },
  {
   "cell_type": "markdown",
   "metadata": {},
   "source": [
    "Создайте множество s1 из первых шести строчных букв английского языка. Вызовите метод .discard() на элементе 'f'. Выведите результат.\n",
    "В качестве ответа запишите результат вывода."
   ]
  },
  {
   "cell_type": "code",
   "execution_count": 11,
   "metadata": {},
   "outputs": [
    {
     "name": "stdout",
     "output_type": "stream",
     "text": [
      "{'a', 'b', 'e', 'd', 'c'}\n"
     ]
    }
   ],
   "source": [
    "s1 = {'a', 'b', 'c', 'd', 'e', 'f'}  # создаем множество\n",
    "s1.discard('f')                      # удаляем элемент 'f'\n",
    "print(s1)                            # выводим множество"
   ]
  },
  {
   "cell_type": "markdown",
   "metadata": {},
   "source": [
    "#### **Задание 4.7**"
   ]
  },
  {
   "cell_type": "markdown",
   "metadata": {},
   "source": [
    "Создайте множество s1 из первых шести строчных букв английского языка. Вызовите метод .remove() на элементе 'f'. Выведите результат.\n",
    "В качестве ответа запишите результат вывода."
   ]
  },
  {
   "cell_type": "code",
   "execution_count": 12,
   "metadata": {},
   "outputs": [
    {
     "name": "stdout",
     "output_type": "stream",
     "text": [
      "{'a', 'b', 'e', 'd', 'c'}\n"
     ]
    }
   ],
   "source": [
    "s1 = {'a', 'b', 'c', 'd', 'e', 'f'}  # создаем множество\n",
    "s1.remove('f')                       # удаляем элемент 'f'\n",
    "print(s1)                            # выводим множество"
   ]
  },
  {
   "cell_type": "markdown",
   "metadata": {},
   "source": [
    "#### <center>**Метод union(): объединение множеств**<center>"
   ]
  },
  {
   "cell_type": "code",
   "execution_count": 62,
   "metadata": {},
   "outputs": [
    {
     "name": "stdout",
     "output_type": "stream",
     "text": [
      "{'item1', 'item3', 'item4', 'item2'}\n",
      "{'item5', 'item7', 'item3', 'item2'}\n",
      "{'item3', 'item4', 'item5', 'item2', 'item7', 'item1'}\n"
     ]
    }
   ],
   "source": [
    "cluster1 = {\"item1\", \"item2\", \"item3\", \"item4\"}  # создаем множество 1\n",
    "print(cluster1)                                  # выводим множество 1\n",
    "cluster2 = {\"item2\", \"item3\", \"item5\", \"item7\"}  # создаем множество 2\n",
    "print(cluster2)                                  # выводим множество 2\n",
    "print(cluster1.union(cluster2))                  # выводим объединение множеств 1 и 2"
   ]
  },
  {
   "cell_type": "markdown",
   "metadata": {},
   "source": [
    "#### **Задание 4.8**"
   ]
  },
  {
   "cell_type": "markdown",
   "metadata": {},
   "source": [
    "Создайте множество alpha_set из первых пяти строчных букв английского алфавита. Затем создайте множество name из строки 'bad boy' (преобразуйте строку в множество с помощью функции set()). Примените метод .union() к созданным множествам. Выведите результат. В качестве ответа запишите результат вывода."
   ]
  },
  {
   "cell_type": "code",
   "execution_count": 13,
   "metadata": {},
   "outputs": [
    {
     "name": "stdout",
     "output_type": "stream",
     "text": [
      "{'a', 'y', 'b', 'e', 'o', 'd', 'c', ' '}\n"
     ]
    }
   ],
   "source": [
    "alpha_set = {'a', 'b', 'c', 'd', 'e'}  # создаем множество 1\n",
    "name = set('bad boy')                  # создаем множество 2\n",
    "print(alpha_set.union(name))           # выводим объединение множеств 1 и 2"
   ]
  },
  {
   "cell_type": "markdown",
   "metadata": {},
   "source": [
    "#### **Задание 4.9**"
   ]
  },
  {
   "cell_type": "markdown",
   "metadata": {},
   "source": [
    "Создайте множество num_set из чисел от 0 до 10 (включительно). Затем создайте множество date_num из списка [1,9,4,8]. Примените метод .union() к созданным множествам. Выведите результат. В качестве ответа запишите результат вывода."
   ]
  },
  {
   "cell_type": "code",
   "execution_count": 14,
   "metadata": {},
   "outputs": [
    {
     "name": "stdout",
     "output_type": "stream",
     "text": [
      "{0, 1, 2, 3, 4, 5, 6, 7, 8, 9, 10}\n"
     ]
    }
   ],
   "source": [
    "num_set = {0, 1, 2, 3, 4, 5, 6, 7, 8, 9, 10} # создаем множество 1\n",
    "date_num = set([1,9,4,8])                    # создаем множество 2\n",
    "print(num_set.union(date_num))               # выводим результат объединения множеств"
   ]
  },
  {
   "cell_type": "markdown",
   "metadata": {},
   "source": [
    "#### <center>**Метод intersection(): пересечение множеств**<center>"
   ]
  },
  {
   "cell_type": "code",
   "execution_count": 63,
   "metadata": {},
   "outputs": [
    {
     "name": "stdout",
     "output_type": "stream",
     "text": [
      "{'item1', 'item3', 'item4', 'item2'}\n",
      "{'item5', 'item7', 'item3', 'item2'}\n",
      "{'item3', 'item2'}\n"
     ]
    }
   ],
   "source": [
    "cluster1 = {\"item1\", \"item2\", \"item3\", \"item4\"}  # создаем множество 1\n",
    "print(cluster1)                                  # выводим множество 1\n",
    "cluster2 = {\"item2\", \"item3\", \"item5\", \"item7\"}  # создаем множество 2\n",
    "print(cluster2)                                  # выводим множество 1\n",
    "print(cluster1.intersection(cluster2))           # выводим пересечение множеств 1 и 2"
   ]
  },
  {
   "cell_type": "markdown",
   "metadata": {},
   "source": [
    "#### **Задание 4.10**"
   ]
  },
  {
   "cell_type": "markdown",
   "metadata": {},
   "source": [
    "Создайте множество alpha_set из первых пяти строчных букв английского алфавита. Затем создайте множество name из строки 'bad boy'. Примените метод .intersection() к созданным множествам. Выведите результат.\n",
    "В качестве ответа запишите результат вывода"
   ]
  },
  {
   "cell_type": "code",
   "execution_count": 2,
   "metadata": {},
   "outputs": [
    {
     "name": "stdout",
     "output_type": "stream",
     "text": [
      "{'d', 'a', 'b'}\n"
     ]
    }
   ],
   "source": [
    "alpha_set = set(['a', 'b', 'c', 'd', 'e'])  # исходное множество\n",
    "name = set('bad boy')                       # множество из строки\n",
    "print(alpha_set.intersection(name))         # выводим результат пересечения множеств"
   ]
  },
  {
   "cell_type": "markdown",
   "metadata": {},
   "source": [
    "#### **Задание 4.11**"
   ]
  },
  {
   "cell_type": "markdown",
   "metadata": {},
   "source": [
    "Создайте множество num_set из чисел от 0 до 10 (включительно). Затем создайте множество date_num из списка [1,9,4,8]. Примените метод .intersection() к созданным множествам. Выведите результат. В качестве ответа запишите результат вывода."
   ]
  },
  {
   "cell_type": "code",
   "execution_count": 15,
   "metadata": {},
   "outputs": [
    {
     "name": "stdout",
     "output_type": "stream",
     "text": [
      "{8, 1, 4, 9}\n"
     ]
    }
   ],
   "source": [
    "num_set = {0, 1, 2, 3, 4, 5, 6, 7, 8, 9, 10} # создаем множество 1\n",
    "date_num = set([1,9,4,8])                    # создаем множество 2\n",
    "print(num_set.intersection(date_num))        # выводим результат объединения множеств"
   ]
  },
  {
   "cell_type": "markdown",
   "metadata": {},
   "source": [
    "#### <center>**Метод difference(): выбор отсутсвующих элементов исходного множества в целевом множестве**<center>"
   ]
  },
  {
   "cell_type": "code",
   "execution_count": 64,
   "metadata": {},
   "outputs": [
    {
     "name": "stdout",
     "output_type": "stream",
     "text": [
      "{'item3', 'item5', 'item4', 'item2', 'item1'}\n",
      "{'item4', 'item6', 'item3', 'item5'}\n",
      "{'item1', 'item2'}\n"
     ]
    }
   ],
   "source": [
    "cluster1 = {\"item1\", \"item2\", \"item3\", \"item4\", \"item5\"}  # создаем множество 1\n",
    "print(cluster1)                                           # выводим множество 1\n",
    "cluster2 = {\"item3\", \"item4\", \"item5\", \"item6\"}           # создаем множество 2\n",
    "print(cluster2)                                           # выводим множество 2\n",
    "print(cluster1.difference(cluster2))                      # выводим элементы множества 1 отсутствующие в множестве 2"
   ]
  },
  {
   "cell_type": "markdown",
   "metadata": {},
   "source": [
    "#### **Задание 4.12**"
   ]
  },
  {
   "cell_type": "markdown",
   "metadata": {},
   "source": [
    "Создайте множество alpha_set из первых пяти строчных букв английского алфавита. Затем создайте множество name из строки 'bad boy'. Примените метод .difference() к созданным множествам. В качестве базового множества используйте alpha_set. Выведите результат.\n",
    "В качестве ответа запишите результат вывода.\n"
   ]
  },
  {
   "cell_type": "code",
   "execution_count": 16,
   "metadata": {},
   "outputs": [
    {
     "name": "stdout",
     "output_type": "stream",
     "text": [
      "{'c', 'e'}\n"
     ]
    }
   ],
   "source": [
    "alpha_set = set(['a', 'b', 'c', 'd', 'e'])  # исходное множество 1\n",
    "name = set('bad boy')                       # множество 2 из строки\n",
    "print(alpha_set.difference(name))           # выводим элементы множества 1 отсутствующие в множестве 2"
   ]
  },
  {
   "cell_type": "markdown",
   "metadata": {},
   "source": [
    "#### **Задание 4.13**"
   ]
  },
  {
   "cell_type": "markdown",
   "metadata": {},
   "source": [
    "Создайте множество num_set из чисел от 0 до 10 (включительно). Затем создайте множество date_num из списка [1,9,4,8]. Примените метод .difference() к созданным множествам. Метод нужно применить к первому множеству. Выведите результат. В качестве ответа запишите результат вывода."
   ]
  },
  {
   "cell_type": "code",
   "execution_count": 17,
   "metadata": {},
   "outputs": [
    {
     "name": "stdout",
     "output_type": "stream",
     "text": [
      "{0, 2, 3, 5, 6, 7, 10}\n"
     ]
    }
   ],
   "source": [
    "num_set = {0, 1, 2, 3, 4, 5, 6, 7, 8, 9, 10} # создаем множество 1\n",
    "date_num = set([1,9,4,8])                    # создаем множество 2\n",
    "print(num_set.difference(date_num))          # выводим элементы множества 1 отсутствующие в множестве 2"
   ]
  },
  {
   "cell_type": "markdown",
   "metadata": {},
   "source": [
    "##### <center>**Метод issubset(): проверка исходного множества на вхождение в целевое множество**<center>"
   ]
  },
  {
   "cell_type": "code",
   "execution_count": 65,
   "metadata": {},
   "outputs": [
    {
     "name": "stdout",
     "output_type": "stream",
     "text": [
      "{'item1', 'item3', 'item2'}\n",
      "{'item3', 'item4', 'item5', 'item2', 'item6'}\n",
      "False\n"
     ]
    }
   ],
   "source": [
    "cluster1 = {\"item1\", \"item2\", \"item3\"}                    # создаем множество 1\n",
    "print(cluster1)                                           # выводим множество 1\n",
    "cluster2 = {\"item2\", \"item3\", \"item4\", \"item5\", \"item6\"}  # создаем множество 2\n",
    "print(cluster2)                                           # выводим множество 2\n",
    "print(cluster1.issubset(cluster2))                        # выводим результат проверки вхождения множества 1 в множество 2"
   ]
  },
  {
   "cell_type": "markdown",
   "metadata": {},
   "source": [
    "### <center>**Преобразование типов**<center>"
   ]
  },
  {
   "cell_type": "markdown",
   "metadata": {},
   "source": [
    "#### <center>**Преобразование чисел между собой**<center>"
   ]
  },
  {
   "cell_type": "markdown",
   "metadata": {},
   "source": [
    "#### **Задание 5.1**"
   ]
  },
  {
   "cell_type": "markdown",
   "metadata": {},
   "source": [
    "Создайте переменную a. Запишите в неё целое число 3. Сделайте преобразование типа в вещественный и сохраните результат в переменную b."
   ]
  },
  {
   "cell_type": "code",
   "execution_count": null,
   "metadata": {},
   "outputs": [],
   "source": [
    "a = 3          # создали целую переменную\n",
    "b = float(a)   # преобразовали в вещественную\n",
    "print(b)       # вывели вещественную переменную"
   ]
  },
  {
   "cell_type": "markdown",
   "metadata": {},
   "source": [
    "#### **Задание 5.2**"
   ]
  },
  {
   "cell_type": "markdown",
   "metadata": {},
   "source": [
    "1. Создайте переменную num1, равную 3.\n",
    "2. Создайте переменную num2, равную 3.5.\n",
    "3. Сложите эти два числа и присвойте результат переменной sum1.\n",
    "4. Преобразуйте тип переменной num1 в вещественный и вновь произведите сложение с переменной num2.\n",
    "5. Сохраните результат в переменную sum2.\n",
    "\n",
    "Выведите результат переменных sum1 и sum2."
   ]
  },
  {
   "cell_type": "code",
   "execution_count": 3,
   "metadata": {},
   "outputs": [
    {
     "name": "stdout",
     "output_type": "stream",
     "text": [
      "6.5 6.5\n"
     ]
    }
   ],
   "source": [
    "num1 = 3                   # создаем целую переменную\n",
    "num2 = 3.5                 # создаем вещественную переменную\n",
    "sum1 = num1 + num2         # суммируем целую и вещественную переменную\n",
    "sum2 = float(num1)+ num2   # суммируем вещественные переменные\n",
    "print(sum1, sum2)          # выводим переменные"
   ]
  },
  {
   "cell_type": "markdown",
   "metadata": {},
   "source": [
    "#### <center>**Преобразование чисел в строки**<center>"
   ]
  },
  {
   "cell_type": "markdown",
   "metadata": {},
   "source": [
    "С помощью функции **str()** можно преобразовать числа в строковое представление."
   ]
  },
  {
   "cell_type": "code",
   "execution_count": 1,
   "metadata": {},
   "outputs": [
    {
     "name": "stdout",
     "output_type": "stream",
     "text": [
      "5\n"
     ]
    }
   ],
   "source": [
    "int_var = 5               # инициируем целое число\n",
    "str_var = str(int_var)    # преобразовали в строку\n",
    "print(str_var) # ‘5’      # вывели строку         "
   ]
  },
  {
   "cell_type": "markdown",
   "metadata": {},
   "source": [
    "#### **Задание 5.3**"
   ]
  },
  {
   "cell_type": "markdown",
   "metadata": {},
   "source": [
    "Создайте переменную int_one, равную 1. Преобразуйте её в строку и сохраните результат в переменную str_one. Выведите переменную str_one. В качестве ответа запишите результат вывода."
   ]
  },
  {
   "cell_type": "code",
   "execution_count": 3,
   "metadata": {},
   "outputs": [
    {
     "name": "stdout",
     "output_type": "stream",
     "text": [
      "1\n"
     ]
    }
   ],
   "source": [
    "int_one = 1               # инициируем целое число\n",
    "str_one = str(int_one)    # преобразовали в строку\n",
    "print(str_one) # ‘1’      # вывели строку       "
   ]
  },
  {
   "cell_type": "markdown",
   "metadata": {},
   "source": [
    "#### **Задание 5.4**"
   ]
  },
  {
   "cell_type": "markdown",
   "metadata": {},
   "source": [
    "* Создайте переменную str_age_begin, равную 'my age is ' (в конце строки есть пробел).\n",
    "* Создайте переменную int_age, равную 18.\n",
    "* Сложите переменную str_age_begin с переменной int_age, преобразованной в строку.\n",
    "* Сохраните результат в переменную result_string.  \n",
    "\n",
    "Выведите полученную переменную."
   ]
  },
  {
   "cell_type": "code",
   "execution_count": 6,
   "metadata": {},
   "outputs": [
    {
     "name": "stdout",
     "output_type": "stream",
     "text": [
      "my age is 18\n"
     ]
    }
   ],
   "source": [
    "str_age_begin = 'my age is'                        # создали начальну строку\n",
    "int_age = 18                                       # создали числовую константу возраста\n",
    "result_string = str_age_begin + ' '+str(int_age)   # получили мтоговую строку\n",
    "print(result_string)                               # вывели итоговую строку"
   ]
  },
  {
   "cell_type": "markdown",
   "metadata": {},
   "source": [
    "#### **Задание 5.5**"
   ]
  },
  {
   "cell_type": "markdown",
   "metadata": {},
   "source": [
    "* Создайте переменную str_brothers_begin, равную 'I have ' (в конце строки есть пробел).\n",
    "* Создайте переменную count, равную 5, и переменную str_brothers_end, равную ' brothers' (в начале строки есть пробел).\n",
    "* Преобразуйте переменную count в строку и сложите с остальными переменными: str_brothers_begin + count + str_brothers_end.\n",
    "* Сохраните результат в переменную result_sentence.  \n",
    "\n",
    "Выведите полученную переменную."
   ]
  },
  {
   "cell_type": "code",
   "execution_count": 8,
   "metadata": {},
   "outputs": [
    {
     "name": "stdout",
     "output_type": "stream",
     "text": [
      "I have 5 brothers\n"
     ]
    }
   ],
   "source": [
    "str_brothers_begin = 'I have'                                                 # создали начальну строку\n",
    "count = 5                                                                     # создали числовую константу\n",
    "str_brothers_end = 'brothers'                                                 # создали замыкающую строку\n",
    "result_string = str_brothers_begin + ' '+str(count) + ' ' +str_brothers_end   # получили мтоговую строку\n",
    "print(result_string)                                                          # вывели итоговую строку   "
   ]
  },
  {
   "cell_type": "markdown",
   "metadata": {},
   "source": [
    "#### <center>**Преобразование строк в числа**<center>"
   ]
  },
  {
   "cell_type": "markdown",
   "metadata": {},
   "source": [
    "#### **Задание 5.6**"
   ]
  },
  {
   "cell_type": "markdown",
   "metadata": {},
   "source": [
    "Создайте переменную s, равную 'hello world'. Попробуйте преобразовать её к целому типу. Возникнет ли ошибка?"
   ]
  },
  {
   "cell_type": "code",
   "execution_count": 1,
   "metadata": {},
   "outputs": [
    {
     "ename": "ValueError",
     "evalue": "invalid literal for int() with base 10: 'hello world'",
     "output_type": "error",
     "traceback": [
      "\u001b[1;31m---------------------------------------------------------------------------\u001b[0m",
      "\u001b[1;31mValueError\u001b[0m                                Traceback (most recent call last)",
      "\u001b[1;32mc:\\temp\\ipykernel_7304\\3901994809.py\u001b[0m in \u001b[0;36m<module>\u001b[1;34m\u001b[0m\n\u001b[0;32m      1\u001b[0m \u001b[0ms\u001b[0m \u001b[1;33m=\u001b[0m \u001b[1;34m'hello world'\u001b[0m  \u001b[1;31m# создали строку\u001b[0m\u001b[1;33m\u001b[0m\u001b[1;33m\u001b[0m\u001b[0m\n\u001b[1;32m----> 2\u001b[1;33m \u001b[0mint\u001b[0m\u001b[1;33m(\u001b[0m\u001b[0ms\u001b[0m\u001b[1;33m)\u001b[0m             \u001b[1;31m# попытались ее преобразовать ее целому числу\u001b[0m\u001b[1;33m\u001b[0m\u001b[1;33m\u001b[0m\u001b[0m\n\u001b[0m",
      "\u001b[1;31mValueError\u001b[0m: invalid literal for int() with base 10: 'hello world'"
     ]
    }
   ],
   "source": [
    "s = 'hello world'  # создали строку\n",
    "int(s)             # попытались ее преобразовать ее целому числу"
   ]
  },
  {
   "cell_type": "markdown",
   "metadata": {},
   "source": [
    "#### **Задание 5.7**"
   ]
  },
  {
   "cell_type": "markdown",
   "metadata": {},
   "source": [
    "Создайте переменную s, равную '10'. Преобразуйте её к целому типу и выведите результат. В качестве ответа запишите результат вывода."
   ]
  },
  {
   "cell_type": "code",
   "execution_count": 2,
   "metadata": {},
   "outputs": [
    {
     "name": "stdout",
     "output_type": "stream",
     "text": [
      "10\n"
     ]
    }
   ],
   "source": [
    "s = '10'        # создали строку\n",
    "print(int(s))   # преобращовали ее в целое число и вывели"
   ]
  },
  {
   "cell_type": "markdown",
   "metadata": {},
   "source": [
    "#### **Задание 5.8**"
   ]
  },
  {
   "cell_type": "markdown",
   "metadata": {},
   "source": [
    "Создайте переменную s, равную '11'. Преобразуйте её к вещественному типу и выведите результат. В качестве ответа запишите результат вывода. Результат вывода должен иметь вид, например 5.0."
   ]
  },
  {
   "cell_type": "code",
   "execution_count": null,
   "metadata": {},
   "outputs": [],
   "source": [
    "s = '11'          # создали строку \n",
    "print(float(s))   # преобращовали ее в действительное число и вывели"
   ]
  },
  {
   "cell_type": "markdown",
   "metadata": {},
   "source": [
    "#### **Задание 5.9**"
   ]
  },
  {
   "cell_type": "markdown",
   "metadata": {},
   "source": [
    "Создайте переменную s, равную '50.4'. Попробуйте преобразовать её к целому типу. Возникнет ли ошибка?"
   ]
  },
  {
   "cell_type": "code",
   "execution_count": 3,
   "metadata": {},
   "outputs": [
    {
     "ename": "ValueError",
     "evalue": "invalid literal for int() with base 10: '50.4'",
     "output_type": "error",
     "traceback": [
      "\u001b[1;31m---------------------------------------------------------------------------\u001b[0m",
      "\u001b[1;31mValueError\u001b[0m                                Traceback (most recent call last)",
      "\u001b[1;32mc:\\temp\\ipykernel_7304\\158546818.py\u001b[0m in \u001b[0;36m<module>\u001b[1;34m\u001b[0m\n\u001b[0;32m      1\u001b[0m \u001b[0ms\u001b[0m \u001b[1;33m=\u001b[0m \u001b[1;34m'50.4'\u001b[0m      \u001b[1;31m# создали строку\u001b[0m\u001b[1;33m\u001b[0m\u001b[1;33m\u001b[0m\u001b[0m\n\u001b[1;32m----> 2\u001b[1;33m \u001b[0mprint\u001b[0m\u001b[1;33m(\u001b[0m\u001b[0mint\u001b[0m\u001b[1;33m(\u001b[0m\u001b[0ms\u001b[0m\u001b[1;33m)\u001b[0m\u001b[1;33m)\u001b[0m   \u001b[1;31m# преобращовали ее в целое число и вывели\u001b[0m\u001b[1;33m\u001b[0m\u001b[1;33m\u001b[0m\u001b[0m\n\u001b[0m",
      "\u001b[1;31mValueError\u001b[0m: invalid literal for int() with base 10: '50.4'"
     ]
    }
   ],
   "source": [
    "s = '50.4'      # создали строку \n",
    "print(int(s))   # преобращовали ее в целое число и вывели"
   ]
  },
  {
   "cell_type": "markdown",
   "metadata": {},
   "source": [
    "#### <center>**Преобразование к спискам и кортежам**<center>"
   ]
  },
  {
   "cell_type": "code",
   "execution_count": 67,
   "metadata": {},
   "outputs": [
    {
     "name": "stdout",
     "output_type": "stream",
     "text": [
      "['Anne', 'Sam', 'Marie', 'Tom', 'Curt']\n"
     ]
    }
   ],
   "source": [
    "dictionary = {\"Anne\": 15, \"Sam\": 30, \"Marie\": 22}  # создали словарь\n",
    "only_keys = dictionary.keys()                      #\n",
    "only_keys = list(only_keys)                        #    \n",
    "only_keys = only_keys + [\"Tom\", \"Curt\"]            #  \n",
    "print(only_keys)                                   # "
   ]
  },
  {
   "cell_type": "code",
   "execution_count": 68,
   "metadata": {},
   "outputs": [
    {
     "name": "stdout",
     "output_type": "stream",
     "text": [
      "{('Amanda', 22, 'NY'): '3rd place', ('Collin', 23, 'LA'): '2nd place'}\n"
     ]
    }
   ],
   "source": [
    "d = {(\"Amanda\", 22, \"NY\"): \"3rd place\"}\n",
    "input_list = [\"Collin\", 23, \"LA\"]       # создаём новый ключ для словаря. Но пока этот ключ в виде списка.\n",
    "input_place = \"2nd place\"\n",
    "input_list_as_tuple = tuple(input_list) # преобразуем список в кортеж через конструктор типов tuple()\n",
    "d[input_list_as_tuple] = input_place    # добавляем новый ключ и значение в словарь и выводим результат\n",
    "print(d)"
   ]
  },
  {
   "cell_type": "markdown",
   "metadata": {},
   "source": [
    "#### **Задание 5.10**"
   ]
  },
  {
   "cell_type": "markdown",
   "metadata": {},
   "source": [
    "Создайте список list1 из цифр от 1 до 5 (включительно). Преобразуйте список в кортеж tpl1 с помощью конструктора типов tuple(). Выведите результат. В качестве ответа запишите результат вывода."
   ]
  },
  {
   "cell_type": "code",
   "execution_count": 2,
   "metadata": {},
   "outputs": [
    {
     "name": "stdout",
     "output_type": "stream",
     "text": [
      "(1, 2, 3, 4, 5)\n"
     ]
    }
   ],
   "source": [
    "list1 = [1, 2, 3, 4, 5]  # создаем список\n",
    "tpl1 = tuple(list1)      # преобразуем в кортеж\n",
    "print(tpl1)              # выводим кортеж"
   ]
  },
  {
   "cell_type": "markdown",
   "metadata": {},
   "source": [
    "#### **Задание 5.11**"
   ]
  },
  {
   "cell_type": "markdown",
   "metadata": {},
   "source": [
    "Создайте кортеж tpl1 из первых пяти букв английского языка. Преобразуйте кортеж в список list2 с помощью конструктора типов list(). Выведите результат. В качестве ответа запишите результат вывода."
   ]
  },
  {
   "cell_type": "code",
   "execution_count": 3,
   "metadata": {},
   "outputs": [
    {
     "name": "stdout",
     "output_type": "stream",
     "text": [
      "[1, 2, 3, 4, 5]\n"
     ]
    }
   ],
   "source": [
    "tpl1 = (1, 2, 3, 4, 5)  # создаем кортеж\n",
    "list2 = list(tpl1)      # преобразуем его в список\n",
    "print(list1)            # выводим список"
   ]
  },
  {
   "cell_type": "markdown",
   "metadata": {},
   "source": [
    "## <center>Практика<center>"
   ]
  },
  {
   "cell_type": "markdown",
   "metadata": {},
   "source": [
    "#### **Задание 6.1**"
   ]
  },
  {
   "cell_type": "markdown",
   "metadata": {},
   "source": [
    "Создайте пустой список list1. Добавьте в него последовательно числа 1, 2, 3 с помощью метода .append(). Выведите результат. В качестве ответа запишите результат вывода."
   ]
  },
  {
   "cell_type": "code",
   "execution_count": 1,
   "metadata": {},
   "outputs": [
    {
     "name": "stdout",
     "output_type": "stream",
     "text": [
      "[1, 2, 3]\n"
     ]
    }
   ],
   "source": [
    "list1 = []        # создали пустой списко\n",
    "list1.append(1)   # добавили 1\n",
    "list1.append(2)   # добавили 2\n",
    "list1.append(3)   # добавили 2\n",
    "print(list1)      # вывели список"
   ]
  },
  {
   "cell_type": "markdown",
   "metadata": {},
   "source": [
    "#### **Здадние 6.2**"
   ]
  },
  {
   "cell_type": "markdown",
   "metadata": {},
   "source": [
    "* Создайте список list2, используя метод range(). \n",
    "* В качестве левой границы списка установите число -5 (минус пять), в качестве правой — число 15.\n",
    "* Задайте шаг, равный 2.\n",
    "* Создайте переменную list3, в которой будут числа 1,2,3,4.\n",
    "* Используя метод .extend() у списка list3, добавьте list2.\n",
    "\n",
    "Выведите список list3. В качестве ответа запишите результат вывода."
   ]
  },
  {
   "cell_type": "code",
   "execution_count": 2,
   "metadata": {},
   "outputs": [
    {
     "name": "stdout",
     "output_type": "stream",
     "text": [
      "[1, 2, 3, 4, -5, -3, -1, 1, 3, 5, 7, 9, 11, 13]\n"
     ]
    }
   ],
   "source": [
    "list2 = list(range(-5, 15, 2))  # создали list2\n",
    "list3 = [1, 2, 3, 4]            # создали list3 \n",
    "list3.extend(list2)             # расширили list3 за счет list2\n",
    "print(list3)                    # ывели list3"
   ]
  },
  {
   "cell_type": "markdown",
   "metadata": {},
   "source": [
    "\n",
    "#### **Задание 6.3**"
   ]
  },
  {
   "cell_type": "markdown",
   "metadata": {},
   "source": [
    "* Создайте список list6. В этом списке должны быть цифры в следующем порядке: 3, 1, -10, 5, 11, 20, 1, -10.\n",
    "* Скопируйте содержимое списка в переменную list7.\n",
    "* Произведите сортировку списка list6, а затем инвертируйте полученный список.\n",
    "* Сохраните результат в переменную list_result.\n",
    "\n",
    "Выведите списки в переменных list7 и list_result. В качестве ответа запишите результат вывода."
   ]
  },
  {
   "cell_type": "code",
   "execution_count": 3,
   "metadata": {},
   "outputs": [
    {
     "name": "stdout",
     "output_type": "stream",
     "text": [
      "[3, 1, -10, 5, 11, 20, 1, -10] [-10, 1, 20, 11, 5, -10, 1, 3]\n"
     ]
    }
   ],
   "source": [
    "list6 =[3, 1, -10, 5, 11, 20, 1, -10]  # создали list6\n",
    "list7 = list6.copy()                   # скопировали его в list7\n",
    "list6.reverse()                        # развернули list6\n",
    "list_result = list6                    # сохранили его в list_result\n",
    "print(list7, list_result)              # вывели list7 и list_result"
   ]
  },
  {
   "cell_type": "markdown",
   "metadata": {},
   "source": [
    "#### **Задание 6.4**"
   ]
  },
  {
   "cell_type": "markdown",
   "metadata": {},
   "source": [
    "* Создайте список list1. Положите в него два значения: 10, 15.\n",
    "* Преобразуйте список в кортеж и сохраните результат в tpl1.\n",
    "* Создайте словарь dict1.\n",
    "* По ключу, который соответствует кортежу tpl1, положите значение 'hello'.\n",
    "\n",
    "Выведите полученный словарь dict1. В качестве ответа запишите результат вывода."
   ]
  },
  {
   "cell_type": "code",
   "execution_count": 4,
   "metadata": {},
   "outputs": [
    {
     "name": "stdout",
     "output_type": "stream",
     "text": [
      "{(10, 15): 'hello'}\n"
     ]
    }
   ],
   "source": [
    "list1 = [10, 15]      # создали список list1\n",
    "tpl1 = tuple(list1)   # на его основе создали кортеж\n",
    "dict1 = dict()        # создали пустой словарь\n",
    "dict1[tpl1] = 'hello' # в словарь по ключу кортежа положили строку\n",
    "print(dict1)          # вывели словарь"
   ]
  },
  {
   "cell_type": "markdown",
   "metadata": {},
   "source": [
    "#### **Задание 6.5**"
   ]
  },
  {
   "cell_type": "markdown",
   "metadata": {},
   "source": [
    "Создайте два словаря: dict1 и dict2. Положите в первый словарь по ключу 'name' значение 'unknown', а во второй по ключу 'name' положите значение 'Tom'.\n",
    "\n",
    "* Выведите dict1 и dict2.\n",
    "* Выведите ключи и значения из dict1. Для этого используйте методы dict.keys() и dict.values().\n",
    "\n",
    "В качестве ответа запишите общий результат двух выводов"
   ]
  },
  {
   "cell_type": "code",
   "execution_count": 5,
   "metadata": {},
   "outputs": [
    {
     "name": "stdout",
     "output_type": "stream",
     "text": [
      "{'name': 'unknown'}\n",
      "{'name': 'Tom'}\n",
      "dict_keys(['name']) dict_values(['unknown'])\n"
     ]
    }
   ],
   "source": [
    "dict1 = {'name' : 'unknown'}         # создали словарь dict1\n",
    "dict2 = {'name' : 'Tom'}             # создали словарь dict2\n",
    "print(dict1)                         # вывели словарь dict1\n",
    "print(dict2)                         # вывели словарь dict2 \n",
    "print(dict1.keys(), dict1.values())  # вывели ключи и значения dict1"
   ]
  },
  {
   "cell_type": "markdown",
   "metadata": {},
   "source": [
    "#### **Задание 6.6**"
   ]
  },
  {
   "cell_type": "markdown",
   "metadata": {},
   "source": [
    "Создайте два множества: s1 и s2, положив в первое множество значения из строки 'hello', а во второе множество - значения из списка ['w', 'o', 'w']. Выведите результаты объединения, пересечения, вычитания этих двух множеств.\n",
    "В качестве ответа запишите результат вывода (обязательно соблюдайте порядок вывода). Результат вывода нужно записать в одну строку через один пробел."
   ]
  },
  {
   "cell_type": "code",
   "execution_count": 8,
   "metadata": {},
   "outputs": [
    {
     "name": "stdout",
     "output_type": "stream",
     "text": [
      "{'l', 'o', 'e', 'w', 'h'}\n",
      "{'o'}\n",
      "{'l', 'h', 'e'}\n"
     ]
    }
   ],
   "source": [
    "s1 = set('hello')            # создали множество s1\n",
    "s2 = set(['w', 'o', 'w'])    # создали множество s2\n",
    "print(s1.union(s2))          # вывели объединение множеств\n",
    "print(s1.intersection(s2))   # вывели пересечение множеств\n",
    "print(s1.difference(s2))     # вывели разницу множеств"
   ]
  },
  {
   "cell_type": "markdown",
   "metadata": {},
   "source": [
    "#### **Задание 6.7**"
   ]
  },
  {
   "cell_type": "markdown",
   "metadata": {},
   "source": [
    "Выведите переменную result, которая является сложением строки 'age is ' (в конце строки есть пробел) и числа 15. Воспользуйтесь преобразованием типов. В качестве ответа запишите результат вывода."
   ]
  },
  {
   "cell_type": "code",
   "execution_count": 10,
   "metadata": {},
   "outputs": [
    {
     "name": "stdout",
     "output_type": "stream",
     "text": [
      "age is 15\n"
     ]
    }
   ],
   "source": [
    "result = 'age is ' + str(15)  # получили результирующую строку\n",
    "print(result)                 # вывели строку"
   ]
  }
 ],
 "metadata": {
  "kernelspec": {
   "display_name": "Python 3.7.6 64-bit",
   "language": "python",
   "name": "python3"
  },
  "language_info": {
   "codemirror_mode": {
    "name": "ipython",
    "version": 3
   },
   "file_extension": ".py",
   "mimetype": "text/x-python",
   "name": "python",
   "nbconvert_exporter": "python",
   "pygments_lexer": "ipython3",
   "version": "3.7.6"
  },
  "orig_nbformat": 4,
  "vscode": {
   "interpreter": {
    "hash": "7677f7648bdcb6014014cc63ee9b4fd0e16ad8079654355b0568baf0e7ced8ff"
   }
  }
 },
 "nbformat": 4,
 "nbformat_minor": 2
}
