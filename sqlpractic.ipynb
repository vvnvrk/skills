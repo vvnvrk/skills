{
 "cells": [
  {
   "cell_type": "markdown",
   "metadata": {},
   "source": [
    "# <center>SQL: практические задания<center>"
   ]
  },
  {
   "cell_type": "markdown",
   "metadata": {},
   "source": [
    "## <center>1. Библиотека<center>"
   ]
  },
  {
   "cell_type": "markdown",
   "metadata": {},
   "source": [
    "![](images/biblio.jpg)"
   ]
  },
  {
   "cell_type": "markdown",
   "metadata": {},
   "source": [
    "#### **Задание 09-1**"
   ]
  },
  {
   "cell_type": "markdown",
   "metadata": {},
   "source": [
    "Составьте список книжных новинок. Новинками считаются все книги за последние пять лет. Необходимые данные:\n",
    "\n",
    "* название книги;\n",
    "* год издания;\n",
    "* автор;\n",
    "* жанр.\n",
    "\n",
    "Вывод отсортируйте по названиям книг. Примечание. При решении задачи текущим следует считать 2021 год."
   ]
  },
  {
   "cell_type": "markdown",
   "metadata": {},
   "source": [
    "**SELECT**  \n",
    "&ensp;&ensp;&ensp;&ensp;b.book_name \"название книги\",  \n",
    "&ensp;&ensp;&ensp;&ensp;b.publishing_year \"год издания\",  \n",
    "&ensp;&ensp;&ensp;&ensp;b.author \"автор\",  \n",
    "&ensp;&ensp;&ensp;&ensp;b.genre \"жанр\"  \n",
    "**FROM** other.books b  \n",
    "**WHERE** b.publishing_year >= 2016"
   ]
  },
  {
   "cell_type": "markdown",
   "metadata": {},
   "source": [
    "#### **Задание 09-2**"
   ]
  },
  {
   "cell_type": "markdown",
   "metadata": {},
   "source": [
    "Отфильтруйте запрос из предыдущего задания так, чтобы остались только те книги, у которых есть название."
   ]
  },
  {
   "cell_type": "markdown",
   "metadata": {},
   "source": [
    "**SELECT**  \n",
    "&ensp;&ensp;&ensp;&ensp;b.book_name \"название книги\",  \n",
    "&ensp;&ensp;&ensp;&ensp;b.publishing_year \"год издания\",  \n",
    "&ensp;&ensp;&ensp;&ensp;b.author \"автор\",  \n",
    "&ensp;&ensp;&ensp;&ensp;b.genre \"жанр\"  \n",
    "**FROM** other.books b  \n",
    "**WHERE**   \n",
    "&ensp;&ensp;&ensp;&ensp;b.publishing_year >= 2016  \n",
    "&ensp;&ensp;&ensp;&ensp;**AND** b.book_name **IS NOT NULL**"
   ]
  },
  {
   "cell_type": "markdown",
   "metadata": {},
   "source": [
    "#### **Задание 09-3**"
   ]
  },
  {
   "cell_type": "markdown",
   "metadata": {},
   "source": [
    "Выберите значения рейтинга авторов, имеющиеся в нашей базе. Отсортируйте вывод по алфавиту."
   ]
  },
  {
   "cell_type": "markdown",
   "metadata": {},
   "source": [
    "**SELECT**  \n",
    "&ensp;&ensp;&ensp;&ensp;**DISTINCT** b.author_rating  \n",
    "**FROM** other.books b  \n",
    "**ORDER BY** 1\n"
   ]
  },
  {
   "cell_type": "markdown",
   "metadata": {},
   "source": [
    "#### **Задание 09-4**"
   ]
  },
  {
   "cell_type": "markdown",
   "metadata": {},
   "source": [
    "Возьмём для рекламного буклета только книги отличных авторов! Оставьте в выборке новых книг только авторов с рейтингом 'Excellent'."
   ]
  },
  {
   "cell_type": "markdown",
   "metadata": {},
   "source": [
    "**SELECT**  \n",
    "&ensp;&ensp;&ensp;&ensp;b.book_name \"название книги\",  \n",
    "&ensp;&ensp;&ensp;&ensp;b.publishing_year \"год издания\",  \n",
    "&ensp;&ensp;&ensp;&ensp;b.author \"автор\",  \n",
    "&ensp;&ensp;&ensp;&ensp;b.genre \"жанр\"  \n",
    "**FROM** other.books b  \n",
    "**WHERE**   \n",
    "&ensp;&ensp;&ensp;&ensp;b.publishing_year >= 2016  \n",
    "&ensp;&ensp;&ensp;&ensp;**AND** b.book_name **IS NOT NULL**  \n",
    "&ensp;&ensp;&ensp;&ensp;**AND** b.author_rating = 'Excellent'"
   ]
  },
  {
   "cell_type": "markdown",
   "metadata": {},
   "source": [
    "#### **Задание 09-5**"
   ]
  },
  {
   "cell_type": "markdown",
   "metadata": {},
   "source": [
    "Добавьте в имеющуюся выборку известных авторов (со значением рейтинга 'Famous')."
   ]
  },
  {
   "cell_type": "markdown",
   "metadata": {},
   "source": [
    "**SELECT**  \n",
    "&ensp;&ensp;&ensp;&ensp;b.book_name \"название книги\",  \n",
    "&ensp;&ensp;&ensp;&ensp;b.publishing_year \"год издания\",  \n",
    "&ensp;&ensp;&ensp;&ensp;b.author \"автор\",  \n",
    "&ensp;&ensp;&ensp;&ensp;b.genre \"жанр\"  \n",
    "**FROM** other.books b  \n",
    "**WHERE**   \n",
    "&ensp;&ensp;&ensp;&ensp;b.publishing_year >= 2016  \n",
    "&ensp;&ensp;&ensp;&ensp;**AND** b.book_name **IS NOT NULL**  \n",
    "&ensp;&ensp;&ensp;&ensp;**AND** (b.author_rating = 'Excellent'  \n",
    "&ensp;&ensp;&ensp;&ensp;OR b.author_rating = 'Famous')"
   ]
  },
  {
   "cell_type": "markdown",
   "metadata": {},
   "source": [
    "#### **Задание 09-6**"
   ]
  },
  {
   "cell_type": "markdown",
   "metadata": {},
   "source": [
    "Определите, сколько книг из выборки для рекламы попадает в каждую категорию рейтинга автора. Нам понадобятся следующие данные:\n",
    "\n",
    "* рейтинг автора (author_rating);\n",
    "* количество книг (cnt).\n",
    "\n",
    "Сортировка, как всегда, по алфавиту. Примечание. Пока можете просто закомментировать с помощью -- лишний фильтр по рейтингам и лишние колонки."
   ]
  },
  {
   "cell_type": "markdown",
   "metadata": {},
   "source": [
    "**SELECT**  \n",
    "&ensp;&ensp;&ensp;&ensp;b.author_rating \"рейтинг автора\",  \n",
    "&ensp;&ensp;&ensp;&ensp;**COUNT**(b.author) \"количество книг\"  \n",
    "**FROM** other.books b  \n",
    "**WHERE**  \n",
    "&ensp;&ensp;&ensp;&ensp;b.publishing_year >= 2016\n",
    "&ensp;&ensp;&ensp;&ensp;**AND** b.book_name **IS NOT NULL**  \n",
    "**GROUP BY** 1  \n",
    "**ORDER BY** 1"
   ]
  },
  {
   "cell_type": "markdown",
   "metadata": {},
   "source": [
    "#### **Задание09-7**"
   ]
  },
  {
   "cell_type": "markdown",
   "metadata": {},
   "source": []
  },
  {
   "cell_type": "markdown",
   "metadata": {},
   "source": []
  }
 ],
 "metadata": {
  "kernelspec": {
   "display_name": "Python 3.7.6 64-bit",
   "language": "python",
   "name": "python3"
  },
  "language_info": {
   "name": "python",
   "version": "3.7.6"
  },
  "orig_nbformat": 4,
  "vscode": {
   "interpreter": {
    "hash": "094479cf5e9d091b9dd22e3ee71edd94f1b69fd44b150db46cc29ddd6768aa2e"
   }
  }
 },
 "nbformat": 4,
 "nbformat_minor": 2
}
