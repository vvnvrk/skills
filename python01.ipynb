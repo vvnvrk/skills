{
 "cells": [
  {
   "cell_type": "markdown",
   "metadata": {},
   "source": [
    "Создайте переменную string и присвойте ей значение вашего имени. Внимание! Это строка — вспомните, как задаётся переменная со строковым значением."
   ]
  },
  {
   "cell_type": "code",
   "execution_count": 32,
   "metadata": {},
   "outputs": [],
   "source": [
    "string = \"Владимир\""
   ]
  },
  {
   "cell_type": "markdown",
   "metadata": {},
   "source": [
    "Арифметические операции с целыми числами"
   ]
  },
  {
   "cell_type": "code",
   "execution_count": 33,
   "metadata": {},
   "outputs": [
    {
     "name": "stdout",
     "output_type": "stream",
     "text": [
      "2.5\n"
     ]
    }
   ],
   "source": [
    "a = 5/2\n",
    "print(a)"
   ]
  },
  {
   "cell_type": "code",
   "execution_count": 34,
   "metadata": {},
   "outputs": [
    {
     "name": "stdout",
     "output_type": "stream",
     "text": [
      "3\n"
     ]
    }
   ],
   "source": [
    "print(10 // 3)"
   ]
  },
  {
   "cell_type": "code",
   "execution_count": 35,
   "metadata": {},
   "outputs": [
    {
     "name": "stdout",
     "output_type": "stream",
     "text": [
      "512\n"
     ]
    }
   ],
   "source": [
    "print(2 ** 3 ** 2)"
   ]
  },
  {
   "cell_type": "markdown",
   "metadata": {},
   "source": [
    "Числа с плавающей запятой"
   ]
  },
  {
   "cell_type": "markdown",
   "metadata": {},
   "source": [
    "Десятичная форма"
   ]
  },
  {
   "cell_type": "code",
   "execution_count": 36,
   "metadata": {},
   "outputs": [
    {
     "name": "stdout",
     "output_type": "stream",
     "text": [
      "5.4321\n"
     ]
    }
   ],
   "source": [
    "a = 5.4321\n",
    "print(a)"
   ]
  },
  {
   "cell_type": "markdown",
   "metadata": {},
   "source": [
    "Экспоненциальная форма"
   ]
  },
  {
   "cell_type": "code",
   "execution_count": 37,
   "metadata": {},
   "outputs": [
    {
     "name": "stdout",
     "output_type": "stream",
     "text": [
      "3.138886636534116e+73\n"
     ]
    }
   ],
   "source": [
    "print(a**100)"
   ]
  },
  {
   "cell_type": "code",
   "execution_count": 38,
   "metadata": {},
   "outputs": [
    {
     "name": "stdout",
     "output_type": "stream",
     "text": [
      "3.138886636534116e+75\n",
      "3.138886636534116e+76\n",
      "3.138886636534116e+71\n",
      "3.138886636534116e+70\n"
     ]
    }
   ],
   "source": [
    "a = 5.4321**100 # 3.138886636534116e+73\n",
    "\n",
    "print(a*100) # мантисса осталась прежней, а степень увеличилась на 2\n",
    "# 3.138886636534116e+75\n",
    "\n",
    "print(a*1000) # аналогично, только степень увеличилась уже на 3\n",
    "# 3.138886636534116e+76\n",
    "\n",
    "print(a/100) # снова мантисса не меняется, а степень уже уменьшилась\n",
    "# 3.138886636534116e+71\n",
    "\n",
    "print(a/1000) # как, наверное, уже ожидаемо, степень снова уменьшилась\n",
    "# 3.138886636534116e+70"
   ]
  },
  {
   "cell_type": "markdown",
   "metadata": {},
   "source": [
    "Округление чисел"
   ]
  },
  {
   "cell_type": "code",
   "execution_count": 39,
   "metadata": {},
   "outputs": [
    {
     "name": "stdout",
     "output_type": "stream",
     "text": [
      "1.57\n",
      "1.6\n"
     ]
    }
   ],
   "source": [
    "print(3.14/2)           # 1.57\n",
    "print(round(3.14/2, 1)) # второй аргумент — желаемое количество знаков"
   ]
  },
  {
   "cell_type": "code",
   "execution_count": 40,
   "metadata": {},
   "outputs": [
    {
     "name": "stdout",
     "output_type": "stream",
     "text": [
      "-15\n"
     ]
    }
   ],
   "source": [
    "print (13 % -3 * 3 - 3**2)"
   ]
  },
  {
   "cell_type": "markdown",
   "metadata": {},
   "source": [
    "Логические переменные"
   ]
  },
  {
   "cell_type": "code",
   "execution_count": 41,
   "metadata": {},
   "outputs": [
    {
     "name": "stdout",
     "output_type": "stream",
     "text": [
      "False\n",
      "True\n",
      "False\n"
     ]
    }
   ],
   "source": [
    "t = True\n",
    "f = False\n",
    "print(3 > 10)  # False\n",
    "print(3 < 10)  # True\n",
    "print(3 == 10) # равны ли объекты?"
   ]
  },
  {
   "cell_type": "markdown",
   "metadata": {},
   "source": [
    "#### Строковые данные\n",
    "Строки — это неизменяемый тип данных, предназначенный для хранения текстовой информации. Строки представляют собой последовательности символов."
   ]
  },
  {
   "cell_type": "code",
   "execution_count": 42,
   "metadata": {},
   "outputs": [
    {
     "name": "stdout",
     "output_type": "stream",
     "text": [
      "llo!\n",
      "Hell\n"
     ]
    }
   ],
   "source": [
    "s1 = 'hello' # используя апострофы\n",
    "s2 = \"hello\" # используя кавычки\n",
    "s3 = '''Hello!\n",
    "        Have a nice day!''' # используя тройные \"апострофы\" или тройные кавычки\n",
    "s = \"Hello!\"\n",
    "print(s[2:])   # llo!\n",
    "print(s[:4])   # Hell"
   ]
  },
  {
   "cell_type": "markdown",
   "metadata": {},
   "source": [
    "Отрицательный шаг позволяет развернуть строку"
   ]
  },
  {
   "cell_type": "code",
   "execution_count": 43,
   "metadata": {},
   "outputs": [
    {
     "name": "stdout",
     "output_type": "stream",
     "text": [
      "!olleH\n"
     ]
    }
   ],
   "source": [
    "print(s[::-1])   # !olleH"
   ]
  },
  {
   "cell_type": "markdown",
   "metadata": {},
   "source": [
    "Сложение строк"
   ]
  },
  {
   "cell_type": "code",
   "execution_count": 44,
   "metadata": {},
   "outputs": [
    {
     "name": "stdout",
     "output_type": "stream",
     "text": [
      "Hello!\n"
     ]
    }
   ],
   "source": [
    "s = \"Hel\" + \"lo!\"\n",
    "print(s)"
   ]
  },
  {
   "cell_type": "markdown",
   "metadata": {},
   "source": [
    "Умножение строк"
   ]
  },
  {
   "cell_type": "code",
   "execution_count": 45,
   "metadata": {},
   "outputs": [
    {
     "name": "stdout",
     "output_type": "stream",
     "text": [
      "Hello!Hello!Hello!\n"
     ]
    }
   ],
   "source": [
    "s = \"Hello!\"\n",
    "print(s*3)"
   ]
  },
  {
   "cell_type": "markdown",
   "metadata": {},
   "source": [
    "Методы работы со строками"
   ]
  },
  {
   "cell_type": "code",
   "execution_count": 46,
   "metadata": {},
   "outputs": [
    {
     "name": "stdout",
     "output_type": "stream",
     "text": [
      "1\n",
      "4\n"
     ]
    }
   ],
   "source": [
    "print(s.find('e')) # возвращает индекс 1\n",
    "print(s.find('o!')) # в случае подстроки возвращает индекс первого символа 4"
   ]
  },
  {
   "cell_type": "markdown",
   "metadata": {},
   "source": [
    "Состав строк (буквы, цифры)"
   ]
  },
  {
   "cell_type": "code",
   "execution_count": 47,
   "metadata": {},
   "outputs": [
    {
     "name": "stdout",
     "output_type": "stream",
     "text": [
      "False\n",
      "False\n",
      "False\n"
     ]
    }
   ],
   "source": [
    "s = \"Hello!\"\n",
    "print(s.isdigit()) # строка состоит только из цифр?\n",
    "print(s.isalpha()) # строка состоит только из букв?\n",
    "print(s.isalnum()) # строка состоит только из цифр и букв?"
   ]
  },
  {
   "cell_type": "markdown",
   "metadata": {},
   "source": [
    "Перевод строк в верхний или нижний регистры"
   ]
  },
  {
   "cell_type": "code",
   "execution_count": 48,
   "metadata": {},
   "outputs": [
    {
     "name": "stdout",
     "output_type": "stream",
     "text": [
      "HELLO!\n",
      "hello!\n",
      "Hello!\n"
     ]
    }
   ],
   "source": [
    "print(s.upper()) # HELLO!\n",
    "print(s.lower()) # hello!\n",
    "print(s)"
   ]
  },
  {
   "cell_type": "markdown",
   "metadata": {},
   "source": [
    "Задана переменная numbers, которая ссылается на некоторую строку, состоящую из чисел и пробелов. Пример такой строки:\n",
    "numbers = '1 2 3 4 5 6 7'\n",
    "Напишите программу, которая каждое число из строки numbers, выводит построчно."
   ]
  },
  {
   "cell_type": "code",
   "execution_count": 49,
   "metadata": {},
   "outputs": [
    {
     "name": "stdout",
     "output_type": "stream",
     "text": [
      "1\n",
      "2\n",
      "3\n",
      "4\n",
      "5\n",
      "6\n",
      "7\n"
     ]
    }
   ],
   "source": [
    "numbers = '1 2 3 4 5 6 7'\n",
    "number_split = numbers.split()          # разбили строку в список на символы\n",
    "number_joned = \"\\n\".join(number_split)  # после каждого символа вставили знак перехода на следующую строку\n",
    "print(number_joned)                     # вывели результат"
   ]
  },
  {
   "cell_type": "markdown",
   "metadata": {},
   "source": [
    "Форматирование строк"
   ]
  },
  {
   "cell_type": "code",
   "execution_count": 50,
   "metadata": {},
   "outputs": [
    {
     "name": "stdout",
     "output_type": "stream",
     "text": [
      "The EUR currency rate on the date 21.01.2024 is 100.05\n",
      "The EUR currency rate on the date 21.01.2024 is 100.05\n",
      "The EUR currency rate on the date 21.01.2024 is 100.050\n"
     ]
    }
   ],
   "source": [
    "currency = 'EUR'\n",
    "cur_date = '21.01.2024'\n",
    "rate = 100.05\n",
    "print('The {} currency rate on the date {} is {}'.format(currency, cur_date, rate))\n",
    "print('The {0} currency rate on the date {2} is {1}'.format(currency, rate, cur_date))\n",
    "print('The {} currency rate on the date {} is {:.3f}'.format(currency, cur_date, rate))"
   ]
  },
  {
   "cell_type": "markdown",
   "metadata": {},
   "source": [
    "F-строки"
   ]
  },
  {
   "cell_type": "code",
   "execution_count": 51,
   "metadata": {},
   "outputs": [
    {
     "name": "stdout",
     "output_type": "stream",
     "text": [
      "The EUR currency rate on the date 21.01.2024 is 100.05\n",
      "The EUR currency rate on the date 21.01.2024 is 120.05999999999999\n",
      "The EUR currency rate on the date 21.01.2024 is 100.050\n"
     ]
    }
   ],
   "source": [
    "print(f'The {currency} currency rate on the date {cur_date} is {rate}')     \n",
    "print(f'The {currency} currency rate on the date {cur_date} is {rate*1.2}') \n",
    "print(f'The {currency} currency rate on the date {cur_date} is {rate:.3f}')"
   ]
  },
  {
   "cell_type": "markdown",
   "metadata": {},
   "source": [
    "Оператор %: внутри строки, на месте для вставок, пишется символ %, и после него проставляются специальные символы, указывающие на тип значения (например, s — строка, d — целое число, f — вещественное число). Также здесь могут быть указаны параметры форматирования каждого значения — количество знаков после запятой, ширина строки и так далее. После окончания строки ставится символ %, и после него, в скобках, прописываются значения, которые мы хотим подставить в строку."
   ]
  },
  {
   "cell_type": "code",
   "execution_count": 52,
   "metadata": {},
   "outputs": [
    {
     "name": "stdout",
     "output_type": "stream",
     "text": [
      "The EUR currency rate on the date 21.01.2024 is 100.05\n"
     ]
    }
   ],
   "source": [
    "print('The %s currency rate on the date %s is %.2f' % (currency, cur_date, rate))"
   ]
  },
  {
   "cell_type": "markdown",
   "metadata": {},
   "source": [
    "Напишите программу, которая выводит на экран фразу в формате:\n",
    "Hello, <name>! Today is <dayofweek>. Have a nice day!,\n",
    "где вместо <name> и <dayofweek> подставляются значения соответствующих переменных."
   ]
  },
  {
   "cell_type": "code",
   "execution_count": 53,
   "metadata": {},
   "outputs": [
    {
     "name": "stdout",
     "output_type": "stream",
     "text": [
      "Hello, John! Today is Friday. Have a nice day!\n"
     ]
    }
   ],
   "source": [
    "# Входные данные:\n",
    "name = 'John'\n",
    "dayofweek = 'Friday'\n",
    "# Решение\n",
    "print(f'Hello, {name}! Today is {dayofweek}. Have a nice day!')"
   ]
  },
  {
   "cell_type": "markdown",
   "metadata": {},
   "source": [
    "Преобразование строк в числа и наоборот"
   ]
  },
  {
   "cell_type": "code",
   "execution_count": 54,
   "metadata": {},
   "outputs": [
    {
     "name": "stdout",
     "output_type": "stream",
     "text": [
      "130\n"
     ]
    }
   ],
   "source": [
    "s = '120'\n",
    "a = int(s)\n",
    "print(a + 10) "
   ]
  },
  {
   "cell_type": "code",
   "execution_count": 55,
   "metadata": {},
   "outputs": [
    {
     "name": "stdout",
     "output_type": "stream",
     "text": [
      "144.03\n"
     ]
    }
   ],
   "source": [
    "b = float('125.13')\n",
    "c = 18.9\n",
    "print(b + c)"
   ]
  },
  {
   "cell_type": "code",
   "execution_count": 56,
   "metadata": {},
   "outputs": [
    {
     "name": "stdout",
     "output_type": "stream",
     "text": [
      "['12942021', '2491']\n"
     ]
    }
   ],
   "source": [
    "d = 12942021.24910\n",
    "d_str = str(d)\n",
    "print(d_str.split('.'))"
   ]
  },
  {
   "cell_type": "markdown",
   "metadata": {},
   "source": [
    "Ваша задача — превратить строку с заработной платой и указанием валюты в численное представление заработной платы. Напишите программу, которая выполняет следующие действия:\n",
    "разделяет строку salary на части (символ по которому стоит производить разбиение выберите самостоятельно);\n",
    "сохраняет в переменную salary_number значение заработной платы, выраженной в тысячах рублей.\n",
    "Например, если переменная salary задана следующим образом: salary = '128500 руб.', то в переменной salary_number должно содержаться число 128.5.\n",
    "При решении обратите внимание на имена переменных и их типы данных: они должны соответствовать условию задачи, чтобы тестирование кода произошло корректным образом. Прежде чем отправить решение на проверку, самостоятельно проверьте работу вашей программы, сравнив результат с ожидаемым для приведённого в задании примера. Протестируйте программу при других значениях переменной salary, приведённых в описании задания."
   ]
  },
  {
   "cell_type": "code",
   "execution_count": 57,
   "metadata": {},
   "outputs": [
    {
     "name": "stdout",
     "output_type": "stream",
     "text": [
      "128.5\n"
     ]
    }
   ],
   "source": [
    "salary = '128500 руб.'\n",
    "salary_list = salary.split()\n",
    "salary_number = float(salary_list[0]) / 1000\n",
    "print(salary_number)"
   ]
  },
  {
   "cell_type": "markdown",
   "metadata": {},
   "source": [
    "Ваша задача — разделить информацию об опыте работы на составляющие: количество полных лет опыта работы и количество месяцев опыта работы.\n",
    "Напишите программу, которая выполняет следующие действия:\n",
    "* разделяет строку experience на части (символ, по которому стоит производить разбиение выберите самостоятельно);\n",
    "* сохраняет в переменную experience_year информацию о количестве полных лет опыта работы;\n",
    "* сохраняет в переменную experience_month информацию о количестве месяцев работы (в неполном году).\n",
    "\n",
    "Например, если переменная experience задана следующим образом: experience = 'Work experience 202 months', то в переменных experience_year и experience_month должны содержаться целые числа 16 и 10 (из расчёта 16 * 12 + 10 = 202).\n",
    "При решении обратите внимание на имена переменных и их типы данных: они должны соответствовать условию задачи, чтобы тестирование кода произошло корректным образом. Прежде чем отправить решение на проверку, самостоятельно проверьте работу вашей программы, сравнив результат с ожидаемым для приведённого в задании примера. Протестируйте программу при других значениях переменной experience, приведённых в описании задания."
   ]
  },
  {
   "cell_type": "code",
   "execution_count": 58,
   "metadata": {},
   "outputs": [
    {
     "name": "stdout",
     "output_type": "stream",
     "text": [
      "experience_year = 25, experience_month = 2\n"
     ]
    }
   ],
   "source": [
    "experience = 'Work experience 302 month'\n",
    "experience_split = experience.split()\n",
    "experience_year = int(experience_split[2])//12\n",
    "experience_month = int(experience_split[2])%12\n",
    "print(f'experience_year = {experience_year}, experience_month = {experience_month}')"
   ]
  },
  {
   "cell_type": "markdown",
   "metadata": {},
   "source": [
    "В каждом резюме обязательно заполняется графа «пол, возраст». Пусть информация о поле и возрасте хранится в переменной description и строится по такому шаблону (обратите внимание на пробелы слева и справа от запятой): '<Пол> , <возраст> year old , born on <дата рождения> , <год рождения>.'\n",
    "Ваша задача — разделить информацию о поле и возрасте соискателя на компоненты. Напишите программу, которая выполняет следующие действия:\n",
    "\n",
    "* разделяет строку description на части (символ, по которому стоит производить разбиение, выберите самостоятельно) и сохраните результат в переменную description_split;\n",
    "* сохраняет в переменную gender информацию о поле соискателя (приведённое к нижнему регистру);\n",
    "* сохраняет в переменную age информацию о том, сколько полных лет соискателю;\n",
    "* сохраняет в переменную year_of_birth информацию о годе рождения соискателя.\n",
    "\n",
    "Например, если переменная example задана следующим образом: example = 'Male , 39 years old , born on November 27 , 1979', то в переменных gender, age и year_of_birth должны содержаться строки 'male', '39' и '1979' соответственно."
   ]
  },
  {
   "cell_type": "code",
   "execution_count": 59,
   "metadata": {},
   "outputs": [
    {
     "name": "stdout",
     "output_type": "stream",
     "text": [
      "['Woman', '51 years old', 'born on August 12', '1971']\n"
     ]
    }
   ],
   "source": [
    "description = 'Woman , 51 years old , born on August 12 , 1971'\n",
    "description_split = description.split(' , ')\n",
    "gender = description_split[0].lower()\n",
    "age = description_split[1].split()[0]\n",
    "year_of_birth = description_split[-1]\n",
    "print(description_split)"
   ]
  }
 ],
 "metadata": {
  "kernelspec": {
   "display_name": "Python 3.7.6 64-bit",
   "language": "python",
   "name": "python3"
  },
  "language_info": {
   "codemirror_mode": {
    "name": "ipython",
    "version": 3
   },
   "file_extension": ".py",
   "mimetype": "text/x-python",
   "name": "python",
   "nbconvert_exporter": "python",
   "pygments_lexer": "ipython3",
   "version": "3.7.6"
  },
  "orig_nbformat": 4,
  "vscode": {
   "interpreter": {
    "hash": "094479cf5e9d091b9dd22e3ee71edd94f1b69fd44b150db46cc29ddd6768aa2e"
   }
  }
 },
 "nbformat": 4,
 "nbformat_minor": 2
}
