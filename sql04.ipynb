{
 "cells": [
  {
   "cell_type": "markdown",
   "metadata": {},
   "source": [
    "## <center>Сложные соединения<center>"
   ]
  },
  {
   "cell_type": "markdown",
   "metadata": {},
   "source": [
    "Интересующие нас данные хранятся в таблицах city, customer, driver, shipment, truck. Давайте внимательно их изучим. Ниже представлена ER-диаграмма (от англ. entity-relation, дословно — «сущность-связь»), которая отображает существующие связи между отдельными таблицами.\n",
    "\n",
    "![](images/relations.jpg)"
   ]
  },
  {
   "cell_type": "markdown",
   "metadata": {},
   "source": [
    "#### **Задание 1.1**"
   ]
  },
  {
   "cell_type": "markdown",
   "metadata": {},
   "source": [
    "Укажите название города с максимальным весом единичной доставки.\n",
    "\n",
    "*Запрос:*\n",
    "\n",
    "**SELECT**  \n",
    "&ensp;&ensp;&ensp;&ensp;c.city_name  \n",
    "**FROM**  \n",
    "&ensp;&ensp;&ensp;&ensp;sql.shipment s  \n",
    "&ensp;&ensp;&ensp;&ensp;**NATURAL JOIN** sql.city c  \n",
    "**GROUP BY**  \n",
    "&ensp;&ensp;&ensp;&ensp;c.city_id,  \n",
    "&ensp;&ensp;&ensp;&ensp;s.weight  \n",
    "**HAVING** s.weight = **MAX**(s.weight)  \n",
    "**ORDER BY** s.weight **DESC**  \n",
    "**LIMIT** 1\n",
    "\n",
    "Green Bay\n",
    "\n",
    "Сколько различных производителей грузовиков перечислено в таблице truck?\n",
    "\n",
    "*Запрос:*\n",
    "\n",
    "**SELECT**  \n",
    "&ensp;&ensp;&ensp;&ensp;**COUNT**(**DISTINCT** t.make)  \n",
    "**FROM**  \n",
    "&ensp;&ensp;&ensp;&ensp;sql.truck t\n",
    "\n",
    "3\n",
    "\n",
    "Как зовут водителя (first_name), который совершил наибольшее количество доставок одному клиенту?\n",
    "\n",
    "*Запрос:*\n",
    "\n",
    "**SELECT**  \n",
    "&ensp;&ensp;&ensp;&ensp;d.first_name  \n",
    "**FROM**  \n",
    "&ensp;&ensp;&ensp;&ensp;sql.shipment s  \n",
    "&ensp;&ensp;&ensp;&ensp;**JOIN** sql.driver d **ON** s.driver_id = d .driver_id  \n",
    "**GROUP BY** d.driver_id, s.cust_id  \n",
    "**ORDER BY COUNT**(s.ship_id) **DESC**  \n",
    "**LIMIT** 1\n",
    "\n",
    "Holger\n",
    "\n",
    "Укажите дату первой по времени доставок в таблице shipment.\n",
    "\n",
    "*Запрос:*\n",
    "\n",
    "**SELECT**  \n",
    "&ensp;&ensp;&ensp;&ensp;s.ship_date  \n",
    "**FROM**  \n",
    "&ensp;&ensp;&ensp;&ensp;sql.shipment s  \n",
    "**ORDER BY** s.ship_date  \n",
    "**LIMIT** 1  \n",
    "\n",
    "08.01.2016\n",
    "\n",
    "Укажите дату последней по времени доставок в таблице shipment.\n",
    "\n",
    "*Запрос:*\n",
    "\n",
    "**SELECT**  \n",
    "&ensp;&ensp;&ensp;&ensp;s.ship_date  \n",
    "**FROM**  \n",
    "&ensp;&ensp;&ensp;&ensp;sql.shipment s  \n",
    "**ORDER BY** s.ship_date **DESC**  \n",
    "**LIMIT** 1\n",
    "\n",
    "27.12.2017\n",
    "\n",
    "Укажите имя клиента, получившего наибольшее количество доставок за 2017 год.\n",
    "\n",
    "*Запрос:*\n",
    "\n",
    "**SELECT**  \n",
    "&ensp;&ensp;&ensp;&ensp;c.cust_name  \n",
    "**FROM**  \n",
    "&ensp;&ensp;&ensp;&ensp;sql.shipment s  \n",
    "&ensp;&ensp;&ensp;&ensp;**JOIN** sql.customer c **ON* s.cust_id = c.cust_id  \n",
    "**GROUP BY** c.cust_id  \n",
    "**ORDER BY COUNT**(s.ship_id) **DESC**\n",
    "**LIMIT** 1\n",
    "\n",
    "Autoware Inc"
   ]
  },
  {
   "cell_type": "markdown",
   "metadata": {},
   "source": [
    "### <center>Принцип и условия работы UNION<center>"
   ]
  },
  {
   "cell_type": "markdown",
   "metadata": {},
   "source": [
    "Мы хотим собрать из справочников по книгам и фильмам один, так чтобы в нём содержались названия произведений, а также их описание — книга или фильм. Для этого напишем простой запрос:\n",
    "\n",
    "**SELECT**  \n",
    "&ensp;&ensp;&ensp;&ensp;book_name object_name,  \n",
    "&ensp;&ensp;&ensp;&ensp;'книга' object_description  \n",
    "**FROM** public.books  \n",
    "**UNION ALL**  \n",
    "**SELECT**  \n",
    "&ensp;&ensp;&ensp;&ensp;movie_title,   \n",
    "&ensp;&ensp;&ensp;&ensp;'фильм'   \n",
    "**FROM** sql.kinopoisk\n",
    "\n",
    "Визуально произведённое нами действие можно представить следующим образом:\n",
    "\n",
    "![](images/union_all.jpg)\n",
    "\n",
    "В запросе мы использовали оператор UNION ALL — он присоединяет любой результат запроса к другому «снизу» при условии, что у них **одинаковая структура**, а именно:\n",
    "\n",
    "* одинаковый тип данных;\n",
    "* одинаковое количество столбцов;\n",
    "* одинаковый порядок столбцов согласно типу данных."
   ]
  },
  {
   "cell_type": "markdown",
   "metadata": {},
   "source": [
    "#### <center>Виды UNION<center>"
   ]
  },
  {
   "cell_type": "markdown",
   "metadata": {},
   "source": [
    "Оператор присоединения существует в двух вариантах:\n",
    "\n",
    "**UNION** выводит только уникальные записи;  \n",
    "**UNION ALL** присоединяет все строки последующих таблиц к предыдущим, без ограничений по уникальности. \n",
    "\n",
    "Важно! **UNION** оставляет только уникальные значения, а потому требует дополнительных вычислительных мощностей и памяти (в данном случае можно провести аналогию с **DISTINCT**). Поэтому если вы уверены в отсутствии дубликатов в данных или они вам не важны, предпочтительнее использовать **UNION ALL**."
   ]
  },
  {
   "cell_type": "markdown",
   "metadata": {},
   "source": [
    "#### <center>Ситнаксис<center>"
   ]
  },
  {
   "cell_type": "markdown",
   "metadata": {},
   "source": [
    "Запрос строится таким образом:\n",
    "\n",
    "**SELECT** n columns  \n",
    "**FROM**   \n",
    "&ensp;&ensp;&ensp;&ensp;table_1  \n",
    "**UNION ALL**  \n",
    "**SELECT**  \n",
    "&ensp;&ensp;&ensp;&ensp;n columns  \n",
    "**FROM**  \n",
    "&ensp;&ensp;&ensp;&ensp;table_2  \n",
    "...  \n",
    "**UNION ALL**  \n",
    "**SELECT**  \n",
    "&ensp;&ensp;&ensp;&ensp;n columns  \n",
    "**FROM**   \n",
    "&ensp;&ensp;&ensp;&ensp;table_n    \n",
    "\n",
    "Результатом выполнения такого запроса будут строки table_1, table_2, ..., table_n, соединённые одни под другими и выведенные в единой выдаче.  \n",
    "**Важно!** Названия итоговых колонок в выводе будут такие же, как в первом блоке SELECT, даже если они отличаются в других блоках подзапросов.\n"
   ]
  },
  {
   "cell_type": "markdown",
   "metadata": {},
   "source": [
    "Сортировку любой части с использованием ORDER BY и LIMIT можно вести любой части запроса, обернув ее в круглые скобки.\n",
    "\n",
    "(**SELECT** book_name object_name, 'книга' object_descritption  \n",
    "**FROM** public.books  \n",
    "**ORDER BY** 1  \n",
    "**LIMIT** 1)  \n",
    "**UNION ALL**  \n",
    "(**SELECT** movie_title, 'фильм'   \n",
    "**FROM** sql.kinopoisk  \n",
    "**ORDER BY** 1  \n",
    "**LIMIT** 1)"
   ]
  },
  {
   "cell_type": "markdown",
   "metadata": {},
   "source": [
    "#### **Задание 2.1**"
   ]
  },
  {
   "cell_type": "markdown",
   "metadata": {},
   "source": [
    "Напишите запрос, который создает уникальный алфавитный справочник всех городов, штатов, имён водителей и производителей грузовиков. Результатом запроса должны быть два столбца: название и тип объекта (city, state, driver, truck). Отсортируйте список по названию объекта, а затем — по типу.\n",
    "\n",
    "*Запрос:*\n",
    "\n",
    "**SELECT**  \n",
    "&ensp;&ensp;&ensp;&ensp;**DISTINCT** city_name object_name, 'city' object_type  \n",
    "**FROM** sql.city  \n",
    "**UNION ALL**  \n",
    "**SELECT**  \n",
    "&ensp;&ensp;&ensp;&ensp;**DISTINCT** state, 'state'  \n",
    "**FROM** sql.city  \n",
    "**UNION ALL**  \n",
    "**SELECT**\n",
    "&ensp;&ensp;&ensp;&ensp;first_name, 'driver'  \n",
    "**FROM** sql.driver  \n",
    "**UNION ALL**  \n",
    "**SELECT**  \n",
    "&ensp;&ensp;&ensp;&ensp;**DISTINCT** make, 'truck'  \n",
    "**FROM** sql.truck  \n",
    "**ORDER BY** object_name, object_type"
   ]
  },
  {
   "cell_type": "markdown",
   "metadata": {},
   "source": [
    "#### **Задание 2.2**"
   ]
  },
  {
   "cell_type": "markdown",
   "metadata": {},
   "source": [
    "Напишите запрос, который соберёт имена всех упомянутых городов и штатов из таблицы city. Результатом запроса должен быть один столбец object_name, отсортированный в алфавитном порядке.\n",
    "\n",
    "*Запрос:*\n",
    "\n",
    "**SELECT** \n",
    "&ensp;&ensp;&ensp;&ensp;city_name object_name  \n",
    "**FROM** sql.city   \n",
    "**UNION ALL**    \n",
    "**SELECT**  \n",
    "    &ensp;&ensp;&ensp;&ensp;state  \n",
    "**FROM** sql.city  \n",
    "**ORDER BY** object_name"
   ]
  },
  {
   "cell_type": "markdown",
   "metadata": {},
   "source": [
    "#### **Задание 2.3**"
   ]
  },
  {
   "cell_type": "markdown",
   "metadata": {},
   "source": [
    "Выполнив предыдущий запрос, мы получили города с одинаковыми названиями, но находящиеся в разных штатах, а также большое количество дублирующихся названий штатов. Перепишите предыдущий запрос так, чтобы остались только уникальные названия городов и штатов. Результатом запроса должен быть один столбец object_name, отсортированный в алфавитном порядке.  \n",
    "\n",
    "*Запрос:*\n",
    "\n",
    "**SELECT**  \n",
    "&ensp;&ensp;&ensp;&ensp;city_name object_name  \n",
    "**FROM** sql.city    \n",
    "**UNION**  \n",
    "**SELECT**  \n",
    "&ensp;&ensp;&ensp;&ensp;state  \n",
    "**FROM** sql.city  \n",
    "**ORDER BY** object_name"
   ]
  },
  {
   "cell_type": "markdown",
   "metadata": {},
   "source": [
    "### <center>Ограничение типов данных<center>"
   ]
  },
  {
   "cell_type": "markdown",
   "metadata": {},
   "source": [
    "**Важно!** Любой тип данных может быть приведён к текстовому формату — эту возможность целесообразно использовать для соединения разнородных сущностей. Главное — помнить, что сортировка текста отличается от сортировки чисел и дат.\n",
    "\n",
    "*Запрос:*\n",
    "\n",
    "**SELECT**  \n",
    "&ensp;&ensp;&ensp;&ensp;c.city_id::text  \n",
    "**FROM** sql.city c  \n",
    "**UNION ALL**    \n",
    "**SELECT**  \n",
    "&ensp;&ensp;&ensp;&ensp;cc.city_name  \n",
    "**FROM** sql.city cc"
   ]
  },
  {
   "cell_type": "markdown",
   "metadata": {},
   "source": [
    "#### **Задание 3.1**"
   ]
  },
  {
   "cell_type": "markdown",
   "metadata": {},
   "source": [
    "Напишите запрос, который объединит в себе все почтовые индексы водителей и их телефоны в единый столбец-справочник contact. Также добавьте столбец с именем водителя first_name и столбец contact_type с типом контакта (phone или zip в зависимости от типа). Отсортируйте список по столбцу с контактными данными в порядке возрастания, а затем — по имени водителя.  \n",
    "\n",
    "*Запрос:*\n",
    "\n",
    "**SELECT**  \n",
    "&ensp;&ensp;&ensp;&ensp;zip_code::text contact,   \n",
    "&ensp;&ensp;&ensp;&ensp;first_name first_name,   \n",
    "&ensp;&ensp;&ensp;&ensp;'zip' contact_type  \n",
    "**FROM** sql.driver  \n",
    "**UNION**  \n",
    "**SELECT**  \n",
    "&ensp;&ensp;&ensp;&ensp;phone::text contact,   \n",
    "&ensp;&ensp;&ensp;&ensp;first_name,  \n",
    "&ensp;&ensp;&ensp;&ensp;'phone'  \n",
    "**FROM** sql.driver  \n",
    "**ORDER BY** contact, first_name  "
   ]
  }
 ],
 "metadata": {
  "kernelspec": {
   "display_name": "Python 3.7.6 64-bit",
   "language": "python",
   "name": "python3"
  },
  "language_info": {
   "name": "python",
   "version": "3.7.6"
  },
  "orig_nbformat": 4,
  "vscode": {
   "interpreter": {
    "hash": "094479cf5e9d091b9dd22e3ee71edd94f1b69fd44b150db46cc29ddd6768aa2e"
   }
  }
 },
 "nbformat": 4,
 "nbformat_minor": 2
}
