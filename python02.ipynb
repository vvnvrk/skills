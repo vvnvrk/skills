{
 "cells": [
  {
   "cell_type": "markdown",
   "metadata": {},
   "source": [
    "## Погружение в типы данных"
   ]
  },
  {
   "cell_type": "markdown",
   "metadata": {},
   "source": [
    "### Списки и кортежи"
   ]
  },
  {
   "cell_type": "markdown",
   "metadata": {},
   "source": [
    "##### Создание пустых списков:  \n",
    "my_list = list()  \n",
    "my_list = [ ]"
   ]
  },
  {
   "cell_type": "markdown",
   "metadata": {},
   "source": [
    "##### Создание непустых списков вручную:  \n",
    "numbers = [1, 2, 3, 4, 5, 6, 7, 8, 9, 10]  \n",
    "vowels = ['a', 'e', 'i', 'o', 'u', 'y']  \n",
    "languages = ['Java', 'C', 'Python', 'C++', 'Visual Basic.NET"
   ]
  },
  {
   "cell_type": "markdown",
   "metadata": {},
   "source": [
    "##### Генератор целочисленных списков"
   ]
  },
  {
   "cell_type": "code",
   "execution_count": 6,
   "metadata": {},
   "outputs": [
    {
     "name": "stdout",
     "output_type": "stream",
     "text": [
      "[0, 1, 2, 3, 4, 5, 6, 7, 8, 9]\n",
      "[0, 2, 4, 6, 8]\n"
     ]
    }
   ],
   "source": [
    "a = list(range(10))      # генерируем целочисленный список с шагом 1\n",
    "print(a)\n",
    "b = list(range(0,10,2))  # генерируем список четных чисел\n",
    "print(b)"
   ]
  },
  {
   "cell_type": "markdown",
   "metadata": {},
   "source": [
    "#### **Задание 2.6**"
   ]
  },
  {
   "cell_type": "markdown",
   "metadata": {},
   "source": [
    "С помощью функции range() создайте список и занесите его в переменную a. В качестве левой границы укажите -10, а в качестве правой — 100. Шаг не задавайте.\n",
    "Не забывайте о преобразовании типа переменной в список - list()"
   ]
  },
  {
   "cell_type": "code",
   "execution_count": 7,
   "metadata": {},
   "outputs": [
    {
     "name": "stdout",
     "output_type": "stream",
     "text": [
      "[-10, -9, -8, -7, -6, -5, -4, -3, -2, -1, 0, 1, 2, 3, 4, 5, 6, 7, 8, 9, 10, 11, 12, 13, 14, 15, 16, 17, 18, 19, 20, 21, 22, 23, 24, 25, 26, 27, 28, 29, 30, 31, 32, 33, 34, 35, 36, 37, 38, 39, 40, 41, 42, 43, 44, 45, 46, 47, 48, 49, 50, 51, 52, 53, 54, 55, 56, 57, 58, 59, 60, 61, 62, 63, 64, 65, 66, 67, 68, 69, 70, 71, 72, 73, 74, 75, 76, 77, 78, 79, 80, 81, 82, 83, 84, 85, 86, 87, 88, 89, 90, 91, 92, 93, 94, 95, 96, 97, 98, 99]\n"
     ]
    }
   ],
   "source": [
    "a = list(range(-10, 100))\n",
    "print(a)"
   ]
  },
  {
   "cell_type": "markdown",
   "metadata": {},
   "source": [
    "#### Методы работы со списками."
   ]
  },
  {
   "cell_type": "markdown",
   "metadata": {},
   "source": [
    "Получение элементов по индексу:"
   ]
  },
  {
   "cell_type": "code",
   "execution_count": 8,
   "metadata": {},
   "outputs": [
    {
     "name": "stdout",
     "output_type": "stream",
     "text": [
      "a\n",
      "c\n",
      "c\n"
     ]
    }
   ],
   "source": [
    "a = [\"a\", \"b\", \"c\"]\n",
    "print(a[0])   # получим первый элемент \"a\"\n",
    "print(a[2])   # получим третий (последний элемент) \"c\"\n",
    "print(a[-1])  # получим последний элемент \"c“"
   ]
  },
  {
   "cell_type": "markdown",
   "metadata": {},
   "source": [
    "Получение срезов (подмножеств списков)"
   ]
  },
  {
   "cell_type": "code",
   "execution_count": 9,
   "metadata": {},
   "outputs": [
    {
     "name": "stdout",
     "output_type": "stream",
     "text": [
      "['a', 'b']\n",
      "['c', 'd']\n",
      "['a', 'c']\n"
     ]
    }
   ],
   "source": [
    "a = [\"a\", \"b\", \"c\", \"d\", \"e\"]\n",
    "print(a[:2])     # получим элементы [\"a\", \"b\"]\n",
    "print(a[2:4])    # получим элементы [\"c\", \"d\"]\n",
    "print(a[0:4:2])  # возьмём только элементы на чётных индексах (0, 2)"
   ]
  },
  {
   "cell_type": "markdown",
   "metadata": {},
   "source": [
    "Разворот списка"
   ]
  },
  {
   "cell_type": "code",
   "execution_count": 12,
   "metadata": {},
   "outputs": [
    {
     "name": "stdout",
     "output_type": "stream",
     "text": [
      "['a', 'b', 'c', 'd', 'e']\n",
      "['e', 'd', 'c', 'b', 'a']\n"
     ]
    }
   ],
   "source": [
    "a = [\"a\", \"b\", \"c\", \"d\", \"e\"]\n",
    "print(a)\n",
    "b = a[::-1]  # начать срез с первого элемента до последнего с шагом, равным -1\n",
    "print(b)   "
   ]
  },
  {
   "cell_type": "markdown",
   "metadata": {},
   "source": [
    "#### **Задание 2.4**"
   ]
  },
  {
   "cell_type": "markdown",
   "metadata": {},
   "source": [
    "Создайте пустой список с именем empty_list с помощью конструктора типа и выведите через функцию print() содержимое полученной переменной. В качестве ответа введите результат вывода. Введите ответ без пробелов."
   ]
  },
  {
   "cell_type": "code",
   "execution_count": 3,
   "metadata": {},
   "outputs": [
    {
     "name": "stdout",
     "output_type": "stream",
     "text": [
      "[]\n"
     ]
    }
   ],
   "source": [
    "empty_list = list()\n",
    "print(empty_list)"
   ]
  },
  {
   "cell_type": "markdown",
   "metadata": {},
   "source": [
    "#### **Задание 2.5**"
   ]
  },
  {
   "cell_type": "markdown",
   "metadata": {},
   "source": [
    "Теперь создайте переменную another_empty_list, но уже используя квадратные скобки. Также выведите через функцию print() содержимое переменной. В качестве ответа введите результат вывода."
   ]
  },
  {
   "cell_type": "code",
   "execution_count": 4,
   "metadata": {},
   "outputs": [
    {
     "name": "stdout",
     "output_type": "stream",
     "text": [
      "[]\n"
     ]
    }
   ],
   "source": [
    "another_empty_list = []\n",
    "print(another_empty_list)"
   ]
  },
  {
   "cell_type": "markdown",
   "metadata": {},
   "source": [
    "#### **Задание 2.6**"
   ]
  },
  {
   "cell_type": "markdown",
   "metadata": {},
   "source": [
    "С помощью функции range() создайте список и занесите его в переменную a. В качестве левой границы укажите -10, а в качестве правой — 100. Шаг не задавайте. Не забывайте о преобразовании типа переменной в список - list()"
   ]
  },
  {
   "cell_type": "code",
   "execution_count": 5,
   "metadata": {},
   "outputs": [
    {
     "name": "stdout",
     "output_type": "stream",
     "text": [
      "[-10, -9, -8, -7, -6, -5, -4, -3, -2, -1, 0, 1, 2, 3, 4, 5, 6, 7, 8, 9, 10, 11, 12, 13, 14, 15, 16, 17, 18, 19, 20, 21, 22, 23, 24, 25, 26, 27, 28, 29, 30, 31, 32, 33, 34, 35, 36, 37, 38, 39, 40, 41, 42, 43, 44, 45, 46, 47, 48, 49, 50, 51, 52, 53, 54, 55, 56, 57, 58, 59, 60, 61, 62, 63, 64, 65, 66, 67, 68, 69, 70, 71, 72, 73, 74, 75, 76, 77, 78, 79, 80, 81, 82, 83, 84, 85, 86, 87, 88, 89, 90, 91, 92, 93, 94, 95, 96, 97, 98, 99]\n"
     ]
    }
   ],
   "source": [
    "a = list(range(-10, 100))\n",
    "\n",
    "print(a)"
   ]
  },
  {
   "cell_type": "markdown",
   "metadata": {},
   "source": [
    "#### **Задание 2.7**"
   ]
  },
  {
   "cell_type": "markdown",
   "metadata": {},
   "source": [
    "Создайте с помощью функции range() список b. В качестве левой границы укажите 50, а в качестве правой — 20 (двадцать). Шаг сделайте равным -2 (минус два). В поле ниже введите код, который у вас получился."
   ]
  },
  {
   "cell_type": "code",
   "execution_count": 6,
   "metadata": {},
   "outputs": [
    {
     "name": "stdout",
     "output_type": "stream",
     "text": [
      "[50, 48, 46, 44, 42, 40, 38, 36, 34, 32, 30, 28, 26, 24, 22]\n"
     ]
    }
   ],
   "source": [
    "b = list(range(50, 20, -2))\n",
    "print(b)"
   ]
  },
  {
   "cell_type": "markdown",
   "metadata": {},
   "source": [
    "#### **Задание 2.8**"
   ]
  },
  {
   "cell_type": "markdown",
   "metadata": {},
   "source": [
    "Создайте список a из чисел от 1 до 10 (включительно). Затем сделайте срез из двух первых элементов.\n",
    "Результат среза занесите в переменную a_slice."
   ]
  },
  {
   "cell_type": "code",
   "execution_count": 13,
   "metadata": {},
   "outputs": [
    {
     "name": "stdout",
     "output_type": "stream",
     "text": [
      "[1, 2]\n"
     ]
    }
   ],
   "source": [
    "a = list(range(1,11))\n",
    "a_slice = a[:2]\n",
    "print(a_slice)"
   ]
  },
  {
   "cell_type": "markdown",
   "metadata": {},
   "source": [
    "#### **Задание 2.9**"
   ]
  },
  {
   "cell_type": "markdown",
   "metadata": {},
   "source": [
    "Создайте список из чисел от -5 до 5. Затем сделайте срез, чтобы в ответе был следующий список: [-1, 0, 1, 2, 3]. В качестве ответа напишите через запятую два положительных числа, являющихся границами среза."
   ]
  },
  {
   "cell_type": "code",
   "execution_count": 9,
   "metadata": {},
   "outputs": [
    {
     "name": "stdout",
     "output_type": "stream",
     "text": [
      "[-1, 0, 1, 2, 3]\n"
     ]
    }
   ],
   "source": [
    "lst = list(range(-5,6)) # создали список\n",
    "new_lst = lst[4:9]      # получили срез\n",
    "print(new_lst)          # вывели результат"
   ]
  },
  {
   "cell_type": "markdown",
   "metadata": {},
   "source": [
    "#### **Задание 2.10**"
   ]
  },
  {
   "cell_type": "markdown",
   "metadata": {},
   "source": [
    "Создайте список из элементов от -3 до 6 и, используя срез [::-1], инвертируйте список. Выведите полученный результат. В качестве ответа запишите результат вывода."
   ]
  },
  {
   "cell_type": "code",
   "execution_count": 10,
   "metadata": {},
   "outputs": [
    {
     "name": "stdout",
     "output_type": "stream",
     "text": [
      "[6, 5, 4, 3, 2, 1, 0, -1, -2, -3]\n"
     ]
    }
   ],
   "source": [
    "lst = list(range(-3,7))\n",
    "lst = lst[::-1]\n",
    "print(lst)"
   ]
  },
  {
   "cell_type": "markdown",
   "metadata": {},
   "source": [
    "#### **Задание 2.11**"
   ]
  },
  {
   "cell_type": "markdown",
   "metadata": {},
   "source": [
    "С помощью функции .split() получите список из строки 'hello kitty' и возьмите два последних элемента. В качестве ответа введите результат вывода."
   ]
  },
  {
   "cell_type": "code",
   "execution_count": 14,
   "metadata": {},
   "outputs": [
    {
     "name": "stdout",
     "output_type": "stream",
     "text": [
      "['hello', 'kitty']\n"
     ]
    }
   ],
   "source": [
    "lst = 'hello kitty'.split() # разбиваем строку на список слов\n",
    "lst = lst[-2:]              # берем 2 последних слова\n",
    "print(lst)                  # выводим результат"
   ]
  },
  {
   "cell_type": "markdown",
   "metadata": {},
   "source": [
    "Метод append(): добавление элемента в список"
   ]
  },
  {
   "cell_type": "code",
   "execution_count": 14,
   "metadata": {},
   "outputs": [
    {
     "name": "stdout",
     "output_type": "stream",
     "text": [
      "['order1']\n"
     ]
    }
   ],
   "source": [
    "orders_daily = []              # изначально список с чеками пустой\n",
    "orders_daily.append(\"order1\")  # добавляем чек\n",
    "print(orders_daily)"
   ]
  },
  {
   "cell_type": "markdown",
   "metadata": {},
   "source": [
    "#### **Задание 2.12**"
   ]
  },
  {
   "cell_type": "markdown",
   "metadata": {},
   "source": [
    "1. Создайте три переменные: a, b, c.\n",
    "2. Положите в них следующие строковые значения: 'order1', 'order2', 'order3'.\n",
    "3. Создайте пустой список orders, используя квадратные скобки.\n",
    "4. Последовательно положите все три созданные переменные в список.  \n",
    "\n",
    "Выведите значение получившегося списка на экран с помощью фукнции print(). В качестве ответа запишите результат вывода."
   ]
  },
  {
   "cell_type": "code",
   "execution_count": 12,
   "metadata": {},
   "outputs": [
    {
     "name": "stdout",
     "output_type": "stream",
     "text": [
      "['order1', 'order2', 'order3']\n"
     ]
    }
   ],
   "source": [
    "a, b, c = 'order1', 'order2', 'order3'  # создаем переменныые\n",
    "orders = []                             # создаем пустой список\n",
    "orders.append(a)                        # добавляем переменную a в список\n",
    "orders.append(b)                        # добавляем переменную b в список\n",
    "orders.append(c)                        # добавляем переменную c в список\n",
    "print(orders)                           # выводим список"
   ]
  },
  {
   "cell_type": "markdown",
   "metadata": {},
   "source": [
    "#### **Задание 2.13**"
   ]
  },
  {
   "cell_type": "markdown",
   "metadata": {},
   "source": [
    "1. Создайте две переменные: book1, book2.\n",
    "2. Положите в них следующие строковые значения: 'my book', 'your book'.\n",
    "3. Создайте список books, используя квадратные скобки. В нём уже должно лежать значение 'all_books'.\n",
    "4. Последовательно положите две созданные переменные в список.  \n",
    "\n",
    "Выведите значение получившегося списка на экран. В качестве ответа запишите результат вывода."
   ]
  },
  {
   "cell_type": "code",
   "execution_count": 13,
   "metadata": {},
   "outputs": [
    {
     "name": "stdout",
     "output_type": "stream",
     "text": [
      "['all books', 'my book', 'your book']\n"
     ]
    }
   ],
   "source": [
    "book1, book2 = 'my book', 'your book' # инициируем переменные\n",
    "books = ['all books']                 # инициируем список с одним элементом\n",
    "books.append(book1)                   # добавляем первую переменную в список\n",
    "books.append(book2)                   # добавляем вторую переменную в список\n",
    "print(books)                          # выводим список"
   ]
  },
  {
   "cell_type": "markdown",
   "metadata": {},
   "source": [
    "Метод clear(): очистка списка"
   ]
  },
  {
   "cell_type": "code",
   "execution_count": 17,
   "metadata": {},
   "outputs": [
    {
     "name": "stdout",
     "output_type": "stream",
     "text": [
      "Список до очистки: ['order1', 'order2', 'order3', 'order4']\n",
      "Список после очистки: []\n"
     ]
    }
   ],
   "source": [
    "a = [\"order1\", \"order2\", \"order3\", \"order4\"]\n",
    "print(f'Список до очистки: {a}')\n",
    "a.clear()\n",
    "print(f'Список после очистки: {a}')  # []"
   ]
  },
  {
   "cell_type": "markdown",
   "metadata": {},
   "source": [
    "#### **Задание 2.14**"
   ]
  },
  {
   "cell_type": "markdown",
   "metadata": {},
   "source": [
    "Создайте список letters из первых пяти букв английского алфавита. Выведите его. Затем примените к списку letters метод .clear(). Снова выведите результат. В качестве ответа запишите результат последнего вывода."
   ]
  },
  {
   "cell_type": "code",
   "execution_count": 11,
   "metadata": {},
   "outputs": [
    {
     "name": "stdout",
     "output_type": "stream",
     "text": [
      "['a', 'b', 'c', 'd', 'e']\n",
      "[]\n"
     ]
    }
   ],
   "source": [
    "lettters = ['a', 'b', 'c', 'd', 'e']  # создаем список букв\n",
    "print(lettters)                       # выводим список \n",
    "lettters.clear()                      # очищаем список\n",
    "print(lettters)                       # выводим список"
   ]
  },
  {
   "cell_type": "markdown",
   "metadata": {},
   "source": [
    "Метод count(): подсчитываем кол-во одинаковых элементов списка"
   ]
  },
  {
   "cell_type": "code",
   "execution_count": 18,
   "metadata": {},
   "outputs": [
    {
     "name": "stdout",
     "output_type": "stream",
     "text": [
      "4\n"
     ]
    }
   ],
   "source": [
    "a = [\"a\", \"b\", \"c\", \"d\", \"b\", \"b\", \"g\", \"b\", \"r\"]\n",
    "print(a.count(\"b\"))"
   ]
  },
  {
   "cell_type": "markdown",
   "metadata": {},
   "source": [
    "#### **Задание 2.15**"
   ]
  },
  {
   "cell_type": "markdown",
   "metadata": {},
   "source": [
    "Создайте список numbers из десяти произвольных элементов, но числа 5 и 1 в нём должны повторяться 3 и 2 раза соответственно. Примените к полученному списку метод .count(). В качестве аргумента возьмите число 5. Выведите полученный результат. В качестве ответа запишите результат вывода.\n",
    "Введите получившееся число."
   ]
  },
  {
   "cell_type": "code",
   "execution_count": 10,
   "metadata": {},
   "outputs": [
    {
     "name": "stdout",
     "output_type": "stream",
     "text": [
      "3\n"
     ]
    }
   ],
   "source": [
    "lst =[5,1,3,2,5,2,1,5,3,8] # cоздаем список\n",
    "print(lst.count(5))        # выводим количество 5-рок в списке"
   ]
  },
  {
   "cell_type": "markdown",
   "metadata": {},
   "source": [
    "Метод copy(): получение полной копии списка"
   ]
  },
  {
   "cell_type": "code",
   "execution_count": 19,
   "metadata": {},
   "outputs": [
    {
     "name": "stdout",
     "output_type": "stream",
     "text": [
      "[1, 2, 3]\n"
     ]
    }
   ],
   "source": [
    "a = [1,2,3]\n",
    "b = a.copy() # метод полного копирования списка\n",
    "print(b) "
   ]
  },
  {
   "cell_type": "markdown",
   "metadata": {},
   "source": [
    "Альтернативный вариант копирования: полный срез"
   ]
  },
  {
   "cell_type": "code",
   "execution_count": 20,
   "metadata": {},
   "outputs": [
    {
     "name": "stdout",
     "output_type": "stream",
     "text": [
      "[1, 2, 3]\n"
     ]
    }
   ],
   "source": [
    "a = [1,2,3]\n",
    "b = a[:]\n",
    "print(b)"
   ]
  },
  {
   "cell_type": "markdown",
   "metadata": {},
   "source": [
    "#### **Задание 2.16**"
   ]
  },
  {
   "cell_type": "markdown",
   "metadata": {},
   "source": [
    "Создайте список my_books из пяти элементов: 'book1', 'book2', 'book3', 'book4', 'book5'. Затем используйте метод .copy() для копирования содержимого вашего списка в список tom_books. Выведите два полученных списка. В качестве ответа запишите результат вывода."
   ]
  },
  {
   "cell_type": "code",
   "execution_count": null,
   "metadata": {},
   "outputs": [],
   "source": [
    "my_books = ['book1', 'book2', 'book3', 'book4', 'book5'] # инициируем список\n",
    "tom_books = my_books.copy()                              # копируем список\n",
    "print(my_books, tom_books)                               # выводим списки"
   ]
  },
  {
   "cell_type": "markdown",
   "metadata": {},
   "source": [
    "#### **Задание 2.17**"
   ]
  },
  {
   "cell_type": "markdown",
   "metadata": {},
   "source": [
    "Создайте список my_orders из пяти элементов: 'order1', 'order2', 'order3', 'order4', 'order5'. Затем используйте квадратные скобки и двоеточие внутри для копирования содержимого вашего списка в список anne_orders. Выведите два полученных списка. В качестве ответа запишите результат вывода."
   ]
  },
  {
   "cell_type": "code",
   "execution_count": 9,
   "metadata": {},
   "outputs": [
    {
     "name": "stdout",
     "output_type": "stream",
     "text": [
      "['order1', 'order2', 'order3', 'order4', 'order5'] ['order1', 'order2', 'order3', 'order4', 'order5']\n"
     ]
    }
   ],
   "source": [
    "my_orders = ['order1', 'order2', 'order3', 'order4', 'order5'] # инициируем список\n",
    "anne_ordes = my_orders[:]                                      # копируем список\n",
    "print(my_orders, anne_ordes)                                   # печатаем списки"
   ]
  },
  {
   "cell_type": "markdown",
   "metadata": {},
   "source": [
    "Метод extend(): расширение списка за счет элементов другого списка (конкатенация списков)"
   ]
  },
  {
   "cell_type": "code",
   "execution_count": 22,
   "metadata": {},
   "outputs": [
    {
     "name": "stdout",
     "output_type": "stream",
     "text": [
      "['a', 'b', 'c']\n",
      "['d', 'e']\n",
      "['a', 'b', 'c', 'd', 'e']\n"
     ]
    }
   ],
   "source": [
    "a = [\"a\", \"b\", \"c\"]\n",
    "print(a)\n",
    "b = [\"d\", \"e\"]\n",
    "print(b)\n",
    "a.extend(b)\n",
    "print(a) "
   ]
  },
  {
   "cell_type": "markdown",
   "metadata": {},
   "source": [
    "#### **Задание 2.18**"
   ]
  },
  {
   "cell_type": "markdown",
   "metadata": {},
   "source": [
    "1. Создайте список all_things, в котором будет лежать три элемента: 'order1', 'order2', 'order3'.\n",
    "2. Затем создайте список only_books, в котором будет лежать два элемента: 'book1', 'book2'.\n",
    "3. Используя метод .extend(), обогатите переменную all_things.  \n",
    "\n",
    "Выведите результат. В качестве ответа запишите результат вывода."
   ]
  },
  {
   "cell_type": "code",
   "execution_count": 8,
   "metadata": {},
   "outputs": [
    {
     "name": "stdout",
     "output_type": "stream",
     "text": [
      "['order1', 'order2', 'order3', 'book1', 'book2']\n"
     ]
    }
   ],
   "source": [
    "all_things = ['order1', 'order2', 'order3'] # cоздаем список продаж\n",
    "only_books = ['book1', 'book2']             # создаем список книг\n",
    "all_things.extend(only_books)               # расширяем список продаж списком книг\n",
    "print(all_things)                           # выводи список продаж"
   ]
  },
  {
   "cell_type": "markdown",
   "metadata": {},
   "source": [
    "Метод reverse(): разворот списка (альтернативный вариант)"
   ]
  },
  {
   "cell_type": "code",
   "execution_count": 7,
   "metadata": {},
   "outputs": [
    {
     "name": "stdout",
     "output_type": "stream",
     "text": [
      "[1, 2, 3, 4, 5]\n",
      "[5, 4, 3, 2, 1]\n"
     ]
    }
   ],
   "source": [
    "a = [1,2,3,4,5]\n",
    "print(a)\n",
    "a.reverse()\n",
    "print(a)"
   ]
  },
  {
   "cell_type": "markdown",
   "metadata": {},
   "source": [
    "#### **Задание 2.19**"
   ]
  },
  {
   "cell_type": "markdown",
   "metadata": {},
   "source": [
    "Создайте список nums с числами от 1 до 10. Примените к нему метод .reverse(). Выведите переменную nums. В качестве ответа введите результат вывода."
   ]
  },
  {
   "cell_type": "code",
   "execution_count": 6,
   "metadata": {},
   "outputs": [
    {
     "name": "stdout",
     "output_type": "stream",
     "text": [
      "[10, 9, 8, 7, 6, 5, 4, 3, 2, 1]\n"
     ]
    }
   ],
   "source": [
    "lst = list(range(1,11))  # создаем список тиз 10 чисел\n",
    "lst.reverse()            # разворачиваем список\n",
    "print(lst)               # выводим список"
   ]
  },
  {
   "cell_type": "markdown",
   "metadata": {},
   "source": [
    "Метод sort(): сортировка списка"
   ]
  },
  {
   "cell_type": "code",
   "execution_count": 23,
   "metadata": {},
   "outputs": [
    {
     "name": "stdout",
     "output_type": "stream",
     "text": [
      "[3, 4, 1, 5, 10, 0, 2]\n",
      "[0, 1, 2, 3, 4, 5, 10]\n"
     ]
    }
   ],
   "source": [
    "a = [3,4,1,5,10,0, 2]\n",
    "print(a)\n",
    "a.sort()\n",
    "print(a) "
   ]
  },
  {
   "cell_type": "markdown",
   "metadata": {},
   "source": [
    "#### **Задание 2.20**"
   ]
  },
  {
   "cell_type": "markdown",
   "metadata": {},
   "source": [
    "Создайте список random_values = [3, 5, 0, -1, 2, 10, 15, -5]. Вызовите метод .sort() на этом списке. Выведите список random_values. В качестве ответа запишите результат вывода."
   ]
  },
  {
   "cell_type": "code",
   "execution_count": 5,
   "metadata": {},
   "outputs": [
    {
     "name": "stdout",
     "output_type": "stream",
     "text": [
      "[-5, -1, 0, 2, 3, 5, 10, 15]\n"
     ]
    }
   ],
   "source": [
    "random_values = [3, 5, 0, -1, 2, 10, 15, -5] # создаем список\n",
    "random_values.sort()                         # сортируем список\n",
    "print(random_values)                         # выводим список"
   ]
  },
  {
   "cell_type": "markdown",
   "metadata": {},
   "source": [
    "Важно: в списке можно хранить не только простые типы (числа, строки), но также кортежи, словари, списки, списки внутри списков и даже функции.  \n",
    "list1 = [[1,2,3], [4,5,6], [7,8,9]]  \n",
    "list2 = [[3,2,4], (3,4), \"5.6\", 7]"
   ]
  },
  {
   "cell_type": "markdown",
   "metadata": {},
   "source": [
    "#### **Задание 2.21**"
   ]
  },
  {
   "cell_type": "markdown",
   "metadata": {},
   "source": [
    "Создайте список list1. Запишите в него последовательно:  \n",
    "1. число 5;  \n",
    "2. число 0.2;  \n",
    "3. строку 'hello there';  \n",
    "4. список [1,2,3,4];  \n",
    "5. строку 'bye'.  \n",
    "\n",
    "Выведите результат. В качестве ответа запишите результат вывода."
   ]
  },
  {
   "cell_type": "code",
   "execution_count": null,
   "metadata": {},
   "outputs": [],
   "source": [
    "list1 = list()              # создаем список\n",
    "list1.append(5)             # доавляем 5\n",
    "list1.append(0.2)           # добавляем 0.2\n",
    "list1.append('hello there') # добавляем строку\n",
    "list1.append([1, 2, 3, 4])  # добавляем список\n",
    "list1.append('bye')         # добавляем строку\n",
    "print(list1)                # выводим список"
   ]
  },
  {
   "cell_type": "markdown",
   "metadata": {},
   "source": [
    "##### Создание кортежа"
   ]
  },
  {
   "cell_type": "code",
   "execution_count": 26,
   "metadata": {},
   "outputs": [
    {
     "name": "stdout",
     "output_type": "stream",
     "text": [
      "()\n",
      "()\n",
      "(3,)\n",
      "(3,)\n",
      "(1, 2, 3)\n"
     ]
    }
   ],
   "source": [
    "tpl1 = tuple()   # пустой кортеж\n",
    "print(tpl1)\n",
    "tpl1 = ()        # пустой кортеж\n",
    "print(tpl1)\n",
    "tpl1 = (3,)      # кортеж с одним элементом\n",
    "print(tpl1)\n",
    "tpl1 = 3,        # кортеж с одним элементом\n",
    "print(tpl1)\n",
    "tpl1 = (1, 2, 3) # кортеж из нескольких элементов\n",
    "print(tpl1)"
   ]
  },
  {
   "cell_type": "markdown",
   "metadata": {},
   "source": [
    "#### **Задание 2.24**"
   ]
  },
  {
   "cell_type": "markdown",
   "metadata": {},
   "source": [
    "Создайте пустой кортеж tpl, используя конструктор типов tuple(). Выведите полученный результат. В качестве ответа напишите результат вывода."
   ]
  },
  {
   "cell_type": "code",
   "execution_count": 15,
   "metadata": {},
   "outputs": [
    {
     "name": "stdout",
     "output_type": "stream",
     "text": [
      "()\n"
     ]
    }
   ],
   "source": [
    "tpl = tuple() # создаем пустой кортеж\n",
    "print(tpl)    # выводим кортеж"
   ]
  },
  {
   "cell_type": "markdown",
   "metadata": {},
   "source": [
    "#### **Задание 2.25**"
   ]
  },
  {
   "cell_type": "markdown",
   "metadata": {},
   "source": [
    "Создайте кортеж tpl2 c одним числом, равным 255. Выведите результат. В качестве ответа запишите результат вывода."
   ]
  },
  {
   "cell_type": "code",
   "execution_count": 18,
   "metadata": {},
   "outputs": [
    {
     "name": "stdout",
     "output_type": "stream",
     "text": [
      "(255,)\n"
     ]
    }
   ],
   "source": [
    "tpl2 = 255,  # создаем кортеж с одним числом\n",
    "print(tpl2)  # выводим кортеж"
   ]
  },
  {
   "cell_type": "markdown",
   "metadata": {},
   "source": [
    "#### **Задание 2.26**"
   ]
  },
  {
   "cell_type": "markdown",
   "metadata": {},
   "source": [
    "Создайте кортеж tpl3 c тремя числами: 15, 22 и 0. Выведите результат. В качестве ответа запишите результат вывода."
   ]
  },
  {
   "cell_type": "code",
   "execution_count": 21,
   "metadata": {},
   "outputs": [
    {
     "name": "stdout",
     "output_type": "stream",
     "text": [
      "(15, 22, 0)\n"
     ]
    }
   ],
   "source": [
    "tpl3 = (15, 22, 0)\n",
    "print(tpl3)"
   ]
  },
  {
   "cell_type": "markdown",
   "metadata": {},
   "source": [
    "### Словари"
   ]
  },
  {
   "cell_type": "markdown",
   "metadata": {},
   "source": [
    "Создание пустого словаря"
   ]
  },
  {
   "cell_type": "code",
   "execution_count": 27,
   "metadata": {},
   "outputs": [
    {
     "name": "stdout",
     "output_type": "stream",
     "text": [
      "{}\n",
      "{}\n"
     ]
    }
   ],
   "source": [
    "my_dict = dict() \n",
    "print(my_dict)\n",
    "my_dict = {} \n",
    "print(my_dict)"
   ]
  },
  {
   "cell_type": "markdown",
   "metadata": {},
   "source": [
    "#### **Задание 3.4**"
   ]
  },
  {
   "cell_type": "markdown",
   "metadata": {},
   "source": [
    "Создайте пустой словарь empty_dict, используя конструктор типов. Выведите результат. В качестве ответа запишите результат вывода"
   ]
  },
  {
   "cell_type": "code",
   "execution_count": 22,
   "metadata": {},
   "outputs": [
    {
     "name": "stdout",
     "output_type": "stream",
     "text": [
      "{}\n"
     ]
    }
   ],
   "source": [
    "empty_dict = dict()  # создаем пустой словарь\n",
    "print(empty_dict)    # выводим словарь"
   ]
  },
  {
   "cell_type": "markdown",
   "metadata": {},
   "source": [
    "#### **Задание 3.5**"
   ]
  },
  {
   "cell_type": "markdown",
   "metadata": {},
   "source": [
    "Создайте пустой словарь empty_dict1, используя конструктор типов, а затем второй словарь empty_dict2 с использованием фигурных скобок. С помощью функции print() выведите значения обеих переменных. Убедитесь, что результаты одинаковые."
   ]
  },
  {
   "cell_type": "code",
   "execution_count": 23,
   "metadata": {},
   "outputs": [
    {
     "name": "stdout",
     "output_type": "stream",
     "text": [
      "{} {}\n"
     ]
    }
   ],
   "source": [
    "empty_dict1 = dict()            # создаем пустой словарь с использованием конструктора\n",
    "empty_dict2 = {}                # создаем пустой словарь без использования конструктора   \n",
    "print(empty_dict1, empty_dict2) # выводим оба словаря"
   ]
  },
  {
   "cell_type": "markdown",
   "metadata": {},
   "source": [
    " Создание заполенного словаря"
   ]
  },
  {
   "cell_type": "code",
   "execution_count": 29,
   "metadata": {},
   "outputs": [
    {
     "name": "stdout",
     "output_type": "stream",
     "text": [
      "{'+79033923029': 'Ivan Ivanov', '+78125849204': 'Kirill Smirnov', '+79053049385': 'Mark Parkhomenko', '+79265748370': 'Ekaterina Dmitrieva', '+79030598495': 'Ruslan Belyi'}\n"
     ]
    }
   ],
   "source": [
    "phones = {'+79033923029': 'Ivan Ivanov', \n",
    "          '+78125849204': 'Kirill Smirnov', \n",
    "          '+79053049385': 'Mark Parkhomenko', \n",
    "          '+79265748370': 'Ekaterina Dmitrieva', \n",
    "          '+79030598495': 'Ruslan Belyi'}\n",
    "print(phones)"
   ]
  },
  {
   "cell_type": "markdown",
   "metadata": {},
   "source": [
    "#### **Задание 3.6**"
   ]
  },
  {
   "cell_type": "markdown",
   "metadata": {},
   "source": [
    "Создайте словарь alphabet_dict, в котором в качестве ключей будут пять первых букв английского языка, а в качестве значений для этих ключей будут числа от 1 до 5. Верните значение для буквы d:"
   ]
  },
  {
   "cell_type": "code",
   "execution_count": 24,
   "metadata": {},
   "outputs": [
    {
     "name": "stdout",
     "output_type": "stream",
     "text": [
      "4\n"
     ]
    }
   ],
   "source": [
    "alphabet_dict = {'a':1, 'b':2, 'c':3, 'd':4, 'e':5}\n",
    "print(alphabet_dict['d'])\n"
   ]
  },
  {
   "cell_type": "markdown",
   "metadata": {},
   "source": [
    "#### **Задание 3.7**"
   ]
  },
  {
   "cell_type": "markdown",
   "metadata": {},
   "source": [
    "Создайте словарь place_and_money, в котором в качестве ключей будут числа от 1 до 3, а в качестве значений — числа 100, 50, 10. Выведите денежный приз для второго места:"
   ]
  },
  {
   "cell_type": "code",
   "execution_count": 25,
   "metadata": {},
   "outputs": [
    {
     "name": "stdout",
     "output_type": "stream",
     "text": [
      "50\n"
     ]
    }
   ],
   "source": [
    "place_and_money = {1:100, 2:50, 3:10}\n",
    "print(place_and_money[2])"
   ]
  },
  {
   "cell_type": "markdown",
   "metadata": {},
   "source": [
    "Обращение к значению в словаре по его ключу"
   ]
  },
  {
   "cell_type": "code",
   "execution_count": 30,
   "metadata": {},
   "outputs": [
    {
     "name": "stdout",
     "output_type": "stream",
     "text": [
      "Ekaterina Dmitrieva\n"
     ]
    }
   ],
   "source": [
    "print(phones[\"+79265748370\"])"
   ]
  },
  {
   "cell_type": "markdown",
   "metadata": {},
   "source": [
    "#### **Задание 3.8**"
   ]
  },
  {
   "cell_type": "markdown",
   "metadata": {},
   "source": [
    "В словарь place_and_money = {1: 100, 2: 50, 3: 10} добавьте четвёртое место с призом, равным 5. Выведите получившийся словарь. В качестве ответа запишите результат вывода."
   ]
  },
  {
   "cell_type": "code",
   "execution_count": 27,
   "metadata": {},
   "outputs": [
    {
     "name": "stdout",
     "output_type": "stream",
     "text": [
      "{1: 100, 2: 50, 3: 10, 4: 5}\n"
     ]
    }
   ],
   "source": [
    "place_and_money[4] = 5  # добавляем в словарь приз за 4 место\n",
    "print(place_and_money) # выводим словарь"
   ]
  },
  {
   "cell_type": "markdown",
   "metadata": {},
   "source": [
    "#### **Задание 3.9**"
   ]
  },
  {
   "cell_type": "markdown",
   "metadata": {},
   "source": [
    "В словаре place_and_money = {1: 100, 2: 50, 3: 10} измените призовое значение для третьего места с 10 на 25. Выведите получившийся словарь. В качестве ответа запишите результат вывода."
   ]
  },
  {
   "cell_type": "code",
   "execution_count": 28,
   "metadata": {},
   "outputs": [
    {
     "name": "stdout",
     "output_type": "stream",
     "text": [
      "{1: 100, 2: 50, 3: 25, 4: 5}\n"
     ]
    }
   ],
   "source": [
    "place_and_money = {1: 100, 2: 50, 3: 10}   # создаем заполненный словарь \n",
    "place_and_money[3] = 25                    # изменили приз за 3 место на 25\n",
    "print(place_and_money)                     # выводим словарь"
   ]
  },
  {
   "cell_type": "markdown",
   "metadata": {},
   "source": [
    "Добавление значения в словарь"
   ]
  },
  {
   "cell_type": "code",
   "execution_count": 31,
   "metadata": {},
   "outputs": [
    {
     "name": "stdout",
     "output_type": "stream",
     "text": [
      "{'+79033923029': 'Ivan Ivanov', '+78125849204': 'Kirill Smirnov', '+79053049385': 'Mark Parkhomenko', '+79265748370': 'Ekaterina Dmitrieva', '+79030598495': 'Ruslan Belyi', '+79686581788': 'Artem Pliev'}\n"
     ]
    }
   ],
   "source": [
    "phones[\"+79686581788\"]  = 'Artem Pliev'\n",
    "print(phones)"
   ]
  },
  {
   "cell_type": "markdown",
   "metadata": {},
   "source": [
    "#### Методы работы со словарями"
   ]
  },
  {
   "cell_type": "markdown",
   "metadata": {},
   "source": [
    "Метод clear(): очистка словаря"
   ]
  },
  {
   "cell_type": "code",
   "execution_count": 32,
   "metadata": {},
   "outputs": [
    {
     "name": "stdout",
     "output_type": "stream",
     "text": [
      "{'Kolya': 180, 'Marina': 176, 'Misha': 158, 'Dima': 201, 'Yana': 183, 'Nina': 156}\n",
      "{}\n"
     ]
    }
   ],
   "source": [
    "friends = {\"Kolya\": 180, \"Marina\": 176, \"Misha\": 158, \"Dima\": 201, \"Yana\": 183, \"Nina\": 156}\n",
    "print(friends)\n",
    "friends.clear()\n",
    "print(friends)"
   ]
  },
  {
   "cell_type": "markdown",
   "metadata": {},
   "source": [
    "#### **Задание 3.10**"
   ]
  },
  {
   "cell_type": "markdown",
   "metadata": {},
   "source": [
    "Создайте словарь place_and_money = {1: 100, 2: 50, 3: 10}. Очистите этот словарь. Выведите результат. В качестве ответа запишите результат вывода."
   ]
  },
  {
   "cell_type": "code",
   "execution_count": 29,
   "metadata": {},
   "outputs": [
    {
     "name": "stdout",
     "output_type": "stream",
     "text": [
      "{}\n"
     ]
    }
   ],
   "source": [
    "place_and_money = {1: 100, 2: 50, 3: 10}  # создаем словарь\n",
    "place_and_money.clear()                   # очищаем словарь\n",
    "print(place_and_money)                    # выводим словарь"
   ]
  },
  {
   "cell_type": "markdown",
   "metadata": {},
   "source": [
    "Метод keys(): получение списка ключей словаря"
   ]
  },
  {
   "cell_type": "code",
   "execution_count": 43,
   "metadata": {},
   "outputs": [
    {
     "name": "stdout",
     "output_type": "stream",
     "text": [
      "dict_keys(['Kolya', 'Marina', 'Misha', 'Dima', 'Yana', 'Nina'])\n",
      "['Kolya', 'Marina', 'Misha', 'Dima', 'Yana', 'Nina']\n"
     ]
    }
   ],
   "source": [
    "friends = {\"Kolya\": 180, \"Marina\": 176, \"Misha\": 158, \"Dima\": 201, \"Yana\": 183, \"Nina\": 156}\n",
    "print(friends.keys())          # выводим все ключи словаря\n",
    "print(list(friends.keys()))    # выводим список ключей словаря"
   ]
  },
  {
   "cell_type": "markdown",
   "metadata": {},
   "source": [
    "#### **Задание 3.11**"
   ]
  },
  {
   "cell_type": "markdown",
   "metadata": {},
   "source": [
    "Создайте словарь place_and_money = {1: 100, 2: 50, 3: 10}. Воспользуйтесь методом .keys() и выведите результат. В качестве ответа запишите результат вывода."
   ]
  },
  {
   "cell_type": "code",
   "execution_count": 30,
   "metadata": {},
   "outputs": [
    {
     "name": "stdout",
     "output_type": "stream",
     "text": [
      "dict_keys([1, 2, 3])\n"
     ]
    }
   ],
   "source": [
    "place_and_money = {1: 100, 2: 50, 3: 10} # создаем словарь\n",
    "print(place_and_money.keys())            # выводим список ключей словаря"
   ]
  },
  {
   "cell_type": "markdown",
   "metadata": {},
   "source": [
    "#### **Задание 3.12**"
   ]
  },
  {
   "cell_type": "markdown",
   "metadata": {},
   "source": [
    "Создайте словарь name_to_age = {'Anne': 22, 'Anton': 27, 'Phillip': 30}. Воспользуйтесь методом .keys() и выведите результат. В качестве ответа запишите результат вывода."
   ]
  },
  {
   "cell_type": "code",
   "execution_count": 31,
   "metadata": {},
   "outputs": [
    {
     "name": "stdout",
     "output_type": "stream",
     "text": [
      "dict_keys(['Anne', 'Anton', 'Phillip'])\n"
     ]
    }
   ],
   "source": [
    "name_to_age = {'Anne': 22, 'Anton': 27, 'Phillip': 30}  # создаем словарь\n",
    "print(name_to_age.keys())                               # выводим списко ключей словаря"
   ]
  },
  {
   "cell_type": "markdown",
   "metadata": {},
   "source": [
    "Метод values(): получение списка значений словаря"
   ]
  },
  {
   "cell_type": "code",
   "execution_count": 38,
   "metadata": {},
   "outputs": [
    {
     "name": "stdout",
     "output_type": "stream",
     "text": [
      "dict_values([180, 176, 158, 201, 183, 156])\n",
      "[180, 176, 158, 201, 183, 156]\n"
     ]
    }
   ],
   "source": [
    "print(friends.values())        # выводим все значения словаря\n",
    "print(list(friends.values()))  # выводим список значений словаря"
   ]
  },
  {
   "cell_type": "markdown",
   "metadata": {},
   "source": [
    "#### **Задание 3.13**"
   ]
  },
  {
   "cell_type": "markdown",
   "metadata": {},
   "source": [
    "Создайте словарь name_to_age = {'Anne': 22, 'Anton': 27, 'Phillip': 30}. Воспользуйтесь методом .values() и выведите результат. В качестве ответа запишите результат вывода."
   ]
  },
  {
   "cell_type": "code",
   "execution_count": 32,
   "metadata": {},
   "outputs": [
    {
     "name": "stdout",
     "output_type": "stream",
     "text": [
      "dict_values([22, 27, 30])\n"
     ]
    }
   ],
   "source": [
    "name_to_age = {'Anne': 22, 'Anton': 27, 'Phillip': 30} # создаем словарь\n",
    "print(name_to_age.values())                            # выводим список заначений словаря"
   ]
  },
  {
   "cell_type": "markdown",
   "metadata": {},
   "source": [
    "#### **Задание 3.14**"
   ]
  },
  {
   "cell_type": "markdown",
   "metadata": {},
   "source": [
    "Создайте словарь place_and_money = {1: 100, 2: 50, 3: 10}. Воспользуйтесь методом .values() и выведите результат. В качестве ответа запишите результат вывода"
   ]
  },
  {
   "cell_type": "code",
   "execution_count": 33,
   "metadata": {},
   "outputs": [
    {
     "name": "stdout",
     "output_type": "stream",
     "text": [
      "dict_values([100, 50, 10])\n"
     ]
    }
   ],
   "source": [
    "place_and_money = {1: 100, 2: 50, 3: 10}  # создаес словарь\n",
    "print(place_and_money.values())           # выводим список значений словаря"
   ]
  },
  {
   "cell_type": "markdown",
   "metadata": {},
   "source": [
    "Метод get(): получение знчения по ключу.  \n",
    "Особенность метода: для несуществующего ключа возвращает значение None, обрабатывая ошибку KeyError."
   ]
  },
  {
   "cell_type": "code",
   "execution_count": 39,
   "metadata": {},
   "outputs": [
    {
     "name": "stdout",
     "output_type": "stream",
     "text": [
      "None\n",
      "100\n"
     ]
    }
   ],
   "source": [
    "print(friends.get(\"Matvey\"))       # вывод значения None для отсутствующего ключа\n",
    "print(friends.get(\"Matvey\", 100))  # вывод значения по умолчанию для отсутсвующего ключа"
   ]
  },
  {
   "cell_type": "markdown",
   "metadata": {},
   "source": [
    "#### **Задание 3.15**"
   ]
  },
  {
   "cell_type": "markdown",
   "metadata": {},
   "source": [
    "Создайте словарь place_and_money = {1: 100, 2: 50, 3: 10}. Попробуйте вывести приз для 20 места через метод .get(). В качестве значения по умолчанию поставьте число 0. В качестве ответа запишите результат вывода."
   ]
  },
  {
   "cell_type": "code",
   "execution_count": 34,
   "metadata": {},
   "outputs": [
    {
     "name": "stdout",
     "output_type": "stream",
     "text": [
      "None\n"
     ]
    }
   ],
   "source": [
    "place_and_money = {1: 100, 2: 50, 3: 10} # создаем словарь\n",
    "print(place_and_money.get(20))           # выводим приз для 20-го места"
   ]
  },
  {
   "cell_type": "markdown",
   "metadata": {},
   "source": [
    "#### **Задание 3.16**"
   ]
  },
  {
   "cell_type": "markdown",
   "metadata": {},
   "source": [
    "Создайте словарь name_to_age = {'Anne': 22, 'Anton': 27, 'Phillip': 30}. Попробуйте вывести возраст для персонажа по имени 'Danny'. Если такого имени не будет в словаре, выведите -1. В качестве ответа запишите результат вывода."
   ]
  },
  {
   "cell_type": "code",
   "execution_count": 36,
   "metadata": {},
   "outputs": [
    {
     "name": "stdout",
     "output_type": "stream",
     "text": [
      "-1\n"
     ]
    }
   ],
   "source": [
    "name_to_age = {'Anne': 22, 'Anton': 27, 'Phillip': 30} # создаем список\n",
    "x = name_to_age.get('Danny')                           # получаем значение по ключу 'Danny'\n",
    "if x is None:                                          # если значение не определено\n",
    "    print(-1)                                          # то выводим -1"
   ]
  },
  {
   "cell_type": "markdown",
   "metadata": {},
   "source": [
    "Метод update(): расширение словаря"
   ]
  },
  {
   "cell_type": "code",
   "execution_count": 44,
   "metadata": {},
   "outputs": [
    {
     "name": "stdout",
     "output_type": "stream",
     "text": [
      "{'Kolya': 180, 'Marina': 176, 'Misha': 158, 'Dima': 201, 'Yana': 183, 'Nina': 156, 'Stas': 171, 'Nastya': 163}\n",
      "{'Kolya': 180, 'Marina': 176, 'Misha': 158, 'Dima': 201, 'Yana': 183, 'Nina': 156, 'Stas': 171, 'Nastya': 163, 'Fedor': 172, 'Лена': 159}\n"
     ]
    }
   ],
   "source": [
    "friends.update({\"Stas\":171, \"Nastya\": 163}) # прямое расширение словаря\n",
    "print(friends)\n",
    "new_friends = {'Fedor':172, 'Лена':159}     \n",
    "friends.update(new_friends)                 # расширени за счет элементов другого словаря\n",
    "print(friends)"
   ]
  },
  {
   "cell_type": "markdown",
   "metadata": {},
   "source": [
    "#### **Задание 3.17**"
   ]
  },
  {
   "cell_type": "markdown",
   "metadata": {},
   "source": [
    "Создайте словарь place_and_money = {1: 100, 2: 50, 3: 10}. Затем добавьте в него следующие места и значения: четвёртое место с призом 5, пятое место с призом 1. Используйте метод update(). Выведите результат. В качестве ответа запишите результат вывода."
   ]
  },
  {
   "cell_type": "code",
   "execution_count": null,
   "metadata": {},
   "outputs": [],
   "source": [
    "place_and_money = {1: 100, 2: 50, 3: 10} # создаем словарь\n",
    "place_and_money.update({4:5, 5:1})       # расширяем словарь\n",
    "print(place_and_money)                   # выводим словарь"
   ]
  },
  {
   "cell_type": "markdown",
   "metadata": {},
   "source": [
    "#### **Задание 3.18**"
   ]
  },
  {
   "cell_type": "markdown",
   "metadata": {},
   "source": [
    "Создайте словарь name_to_age = {'Anne': 22, 'Anton': 27, 'Phillip': 30}. Измените у Анны возраст на 23, а у Филиппа — на 29. Используйте метод update(). Выведите результат. В качестве ответа запишите результат вывода."
   ]
  },
  {
   "cell_type": "code",
   "execution_count": 37,
   "metadata": {},
   "outputs": [
    {
     "name": "stdout",
     "output_type": "stream",
     "text": [
      "{'Anne': 23, 'Anton': 27, 'Phillip': 29}\n"
     ]
    }
   ],
   "source": [
    "name_to_age = {'Anne': 22, 'Anton': 27, 'Phillip': 30} # создаем словарь\n",
    "name_to_age.update({'Anne':23, 'Phillip':29})          # обновляем словарь\n",
    "print(name_to_age)                                     # выводим словарь"
   ]
  },
  {
   "cell_type": "markdown",
   "metadata": {},
   "source": [
    "Метод pop()"
   ]
  },
  {
   "cell_type": "markdown",
   "metadata": {},
   "source": [
    "Так же, как и в списке, в словаре метод .pop() удаляет из структуры данных элементы, но дополнительно метод возвращает результат — удалённый элемент. В словаре в этот метод мы передаём ключ. Из словаря удаляются и ключ, и значение, соответствующее этому ключу. Метод изменяет первоначальный словарь, а его результат (удалённый элемент) можно записать в переменную, чтобы в дальнейшем использовать в программе."
   ]
  },
  {
   "cell_type": "markdown",
   "metadata": {},
   "source": [
    "#### **Задание 3.19**"
   ]
  },
  {
   "cell_type": "markdown",
   "metadata": {},
   "source": [
    "Создайте словарь place_and_money = {1: 100, 2: 50, 3: 10}. Используя метод .pop(), удалите элемент словаря со значением приза за третье место. Результат работы метода запишите в переменную result и выведите её на экран. В качестве ответа запишите результат вывода."
   ]
  },
  {
   "cell_type": "code",
   "execution_count": 38,
   "metadata": {},
   "outputs": [
    {
     "name": "stdout",
     "output_type": "stream",
     "text": [
      "10\n"
     ]
    }
   ],
   "source": [
    "place_and_money = {1: 100, 2: 50, 3: 10} # создаем словарь\n",
    "result = place_and_money.pop(3)          # удаляем элемент по ключу 3\n",
    "print(result)                            # выводим результат"
   ]
  },
  {
   "cell_type": "markdown",
   "metadata": {},
   "source": [
    "#### **Задание 3.20**"
   ]
  },
  {
   "cell_type": "markdown",
   "metadata": {},
   "source": [
    "Создайте словарь name_to_age = {'Anne': 22, 'Anton': 27, 'Phillip': 30}. С помощью метода .pop() удалите из словаря данные для Антона. Результат запишите в переменную result и выведите её на экран. В качестве ответа запишите результат вывода."
   ]
  },
  {
   "cell_type": "code",
   "execution_count": null,
   "metadata": {},
   "outputs": [],
   "source": [
    "name_to_age = {'Anne': 22, 'Anton': 27, 'Phillip': 30} # создаем словарь\n",
    "result = name_to_age.pop('Антон')                      # удаляем элемент по ключу с сохранением в результат\n",
    "print(name_to_age)                                     # выводим результат"
   ]
  },
  {
   "cell_type": "markdown",
   "metadata": {},
   "source": [
    "Метод setdefault(): создание ключа со значением по умолчанию"
   ]
  },
  {
   "cell_type": "code",
   "execution_count": 45,
   "metadata": {},
   "outputs": [
    {
     "name": "stdout",
     "output_type": "stream",
     "text": [
      "170\n"
     ]
    }
   ],
   "source": [
    "friends.setdefault(\"Alena\", 170)  # создаем ключ со значением по умолчанию (истинное значение неизвестно)\n",
    "print(friends[\"Alena\"])           # 170"
   ]
  },
  {
   "cell_type": "markdown",
   "metadata": {},
   "source": [
    "#### **Задание 3.21**"
   ]
  },
  {
   "cell_type": "markdown",
   "metadata": {},
   "source": [
    "Создайте словарь place_and_money = {1: 100, 2: 50, 3: 10}. Через метод .setdefault() установите значение, равное 1, для десятого места. Выведите получившийся объект place_and_money. В качестве ответа запишите результат вывода."
   ]
  },
  {
   "cell_type": "code",
   "execution_count": 39,
   "metadata": {},
   "outputs": [
    {
     "name": "stdout",
     "output_type": "stream",
     "text": [
      "{1: 100, 2: 50, 3: 10, 10: 1}\n"
     ]
    }
   ],
   "source": [
    "place_and_money = {1: 100, 2: 50, 3: 10} # создаем словарь\n",
    "place_and_money.setdefault(10, 1)        # добавляем приз по умолчанию\n",
    "print(place_and_money)                   # выводим словарь"
   ]
  },
  {
   "cell_type": "markdown",
   "metadata": {},
   "source": [
    "#### **Задание 3.22**"
   ]
  },
  {
   "cell_type": "markdown",
   "metadata": {},
   "source": [
    "Создайте словарь name_to_age = {'Anne': 22, 'Anton': 27, 'Phillip': 30}. Через метод .setdefault() обновите возраст у Анны с 22 до 32. Выведите результат — он не должен измениться. В качестве ответа запишите результат вывода."
   ]
  },
  {
   "cell_type": "code",
   "execution_count": 40,
   "metadata": {},
   "outputs": [
    {
     "name": "stdout",
     "output_type": "stream",
     "text": [
      "{'Anne': 22, 'Anton': 27, 'Phillip': 30}\n"
     ]
    }
   ],
   "source": [
    "name_to_age = {'Anne': 22, 'Anton': 27, 'Phillip': 30} # создаем список\n",
    "name_to_age.setdefault('Anne', 32)                     # обновляем возраст по умлочанию\n",
    "print(name_to_age)                                     # выводим словарь"
   ]
  },
  {
   "cell_type": "markdown",
   "metadata": {},
   "source": [
    "**Важно!** В качестве ключа словаря должен выступать неизменяемый тип данных (числа, строки, кортежи), а в качестве значения может выступать любая структура данных."
   ]
  },
  {
   "cell_type": "code",
   "execution_count": 46,
   "metadata": {},
   "outputs": [
    {
     "name": "stdout",
     "output_type": "stream",
     "text": [
      "{(1, 2): 'hello', 'my name is': 'Curt', 5: (7, 7, 7), 'info': {'name': 'stive', 'age': 15, 'cities': ['Moscow', 'New York']}}\n"
     ]
    }
   ],
   "source": [
    "d = {(1,2): \"hello\", \"my name is\": \"Curt\", 5: (7,7,7), \"info\": {\"name\": \"stive\", \"age\": 15, \"cities\": [\"Moscow\", \"New York\"]}}\n",
    "print(d)"
   ]
  },
  {
   "cell_type": "markdown",
   "metadata": {},
   "source": [
    "#### **Задание 3.23**"
   ]
  },
  {
   "cell_type": "markdown",
   "metadata": {},
   "source": [
    "Создайте пустой словарь test_dict. Затем вставьте в него в качестве ключа число 5, а в качестве значения — список [3,4,5]. Затем в тот же словарь в качестве ключа добавьте кортеж (3,4,5), а его значением укажите строку 'strong man'. Выведите результат. В качестве ответа запишите результат вывода."
   ]
  },
  {
   "cell_type": "code",
   "execution_count": 42,
   "metadata": {},
   "outputs": [
    {
     "name": "stdout",
     "output_type": "stream",
     "text": [
      "{5: [3, 4, 5], (3, 4, 5): 'strong man'}\n"
     ]
    }
   ],
   "source": [
    "test_dict = dict()                  # создаем пустой словарь\n",
    "test_dict[5] = [3, 4, 5]            # добавляем по числовому ключу список\n",
    "test_dict[(3, 4, 5)] = 'strong man' # добаляем по ключу-кортежу строку\n",
    "print(test_dict)                    # выводим словарь"
   ]
  },
  {
   "cell_type": "markdown",
   "metadata": {},
   "source": [
    "#### **Задание 3.24**"
   ]
  },
  {
   "cell_type": "markdown",
   "metadata": {},
   "source": [
    "Создайте пустой словарь test_dict2. По ключу 'name' поставьте строку 'Sancho'. В качестве значения для ключа 'surname' поставьте 'Panso'. А для ключа 'info' добавьте словарь {'age': 35, 'country': 'Mexico'}. Выведите результат. В качестве ответа запишите результат вывода."
   ]
  },
  {
   "cell_type": "code",
   "execution_count": 43,
   "metadata": {},
   "outputs": [
    {
     "name": "stdout",
     "output_type": "stream",
     "text": [
      "{'name': 'Sancho', 'surname': 'Panso', 'info': {'age': 35, 'country': 'Mexico'}}\n"
     ]
    }
   ],
   "source": [
    "test_dict2 = dict()                                  # создаем пустой словарь\n",
    "test_dict2['name'] = 'Sancho'                        # по строковому ключу добавили строку\n",
    "test_dict2['surname'] = 'Panso'                      # по строковому ключу добавили строку\n",
    "test_dict2['info'] = {'age':35, 'country':'Mexico'}  # по строковому ключу добавили словарь\n",
    "print(test_dict2)                                    # выводим словарь "
   ]
  },
  {
   "cell_type": "markdown",
   "metadata": {},
   "source": [
    "#### **Задание 3.25**"
   ]
  },
  {
   "cell_type": "markdown",
   "metadata": {},
   "source": [
    "Создайте пустой словарь test_dict3. По ключу 'info' добавьте список [10, 15, 27]. А ключу 'about' поставьте словарь {'game': 'football', 'period': 5}. Затем измените значение по ключу 'about' на 'dont know'. Выведите результат. В качестве ответа запишите результат вывода."
   ]
  },
  {
   "cell_type": "code",
   "execution_count": 45,
   "metadata": {},
   "outputs": [
    {
     "name": "stdout",
     "output_type": "stream",
     "text": [
      "{'info': [10, 15, 27], 'about': 'dont know'}\n"
     ]
    }
   ],
   "source": [
    "test_dict3 = dict()                                      # создаем пустой словарь\n",
    "test_dict3['info'] = [10, 15, 27]                        # по строковому ключу добавляем список\n",
    "test_dict3['about'] = {'game': 'football', 'period': 5}  # по строковому ключу добавляем словарь\n",
    "test_dict3.update({'about':'dont know'})                 # обновляем значение по ключу 'info'\n",
    "print(test_dict3)                                        # выводим словарь"
   ]
  },
  {
   "cell_type": "markdown",
   "metadata": {},
   "source": [
    "### Множества"
   ]
  },
  {
   "cell_type": "markdown",
   "metadata": {},
   "source": [
    "Задание множетсва"
   ]
  },
  {
   "cell_type": "code",
   "execution_count": 41,
   "metadata": {},
   "outputs": [
    {
     "name": "stdout",
     "output_type": "stream",
     "text": [
      "set()\n",
      "{'l', 'o', 'h', 'e'}\n",
      "{1, 2, 3}\n"
     ]
    }
   ],
   "source": [
    "set1 = set()        # пустое множество\n",
    "print(set1)\n",
    "s1 = set(\"hello\")   # в множество не попадают дубликаты\n",
    "print(s1)\n",
    "s2 = {1,2,3}        # множество уникальных элементов\n",
    "print(s2)"
   ]
  },
  {
   "cell_type": "markdown",
   "metadata": {},
   "source": [
    "#### Методы множеств"
   ]
  },
  {
   "cell_type": "markdown",
   "metadata": {},
   "source": [
    "Метод add(): добавление элемента в множество"
   ]
  },
  {
   "cell_type": "code",
   "execution_count": 48,
   "metadata": {},
   "outputs": [
    {
     "name": "stdout",
     "output_type": "stream",
     "text": [
      "{1, 2, 3, 4, 5}\n"
     ]
    }
   ],
   "source": [
    "s = {1, 2, 3, 4}\n",
    "s.add(5)\n",
    "print(s)"
   ]
  },
  {
   "cell_type": "markdown",
   "metadata": {},
   "source": [
    "Mетод update(): добаление сразу нескольких элементов"
   ]
  },
  {
   "cell_type": "code",
   "execution_count": 51,
   "metadata": {},
   "outputs": [
    {
     "name": "stdout",
     "output_type": "stream",
     "text": [
      "{1, 2, 3, 4, 5, 6, 7}\n",
      "{1, 2, 3, 4, 5, 6, 7, 8, 9, 10}\n"
     ]
    }
   ],
   "source": [
    "s1 = {5, 6, 7}\n",
    "s.update(s1)\n",
    "print(s)\n",
    "s.update({8, 9, 10})\n",
    "print(s)"
   ]
  },
  {
   "cell_type": "markdown",
   "metadata": {},
   "source": [
    "Методы discard() и remove(): удаление элементов   \n",
    "Метод remove() при попытке удалить несуществующий элемент выдаст ошибку, а метод discard() не выполнит никаких операций"
   ]
  },
  {
   "cell_type": "code",
   "execution_count": 60,
   "metadata": {},
   "outputs": [
    {
     "name": "stdout",
     "output_type": "stream",
     "text": [
      "{1, 2, 3, 4, 5}\n"
     ]
    }
   ],
   "source": [
    "try:\n",
    "    s1 = {1,2,3,4,5}\n",
    "    s1.remove(10)\n",
    "except: # Ошибка KeyError: 10\n",
    "    s1.discard(10)\n",
    "# Ничего не произошло\n",
    "print(s1)"
   ]
  },
  {
   "cell_type": "code",
   "execution_count": 61,
   "metadata": {},
   "outputs": [
    {
     "name": "stdout",
     "output_type": "stream",
     "text": [
      "{1, 2, 3, 4, 5}\n",
      "{2, 3, 4, 5}\n",
      "{2, 3, 4}\n"
     ]
    }
   ],
   "source": [
    "print(s1)\n",
    "s1.remove(1)\n",
    "print(s1)\n",
    "s1.discard(5)\n",
    "print(s1)"
   ]
  },
  {
   "cell_type": "markdown",
   "metadata": {},
   "source": [
    "Метод union(): объединение множеств"
   ]
  },
  {
   "cell_type": "code",
   "execution_count": 62,
   "metadata": {},
   "outputs": [
    {
     "name": "stdout",
     "output_type": "stream",
     "text": [
      "{'item1', 'item3', 'item4', 'item2'}\n",
      "{'item5', 'item7', 'item3', 'item2'}\n",
      "{'item3', 'item4', 'item5', 'item2', 'item7', 'item1'}\n"
     ]
    }
   ],
   "source": [
    "cluster1 = {\"item1\", \"item2\", \"item3\", \"item4\"}\n",
    "print(cluster1)\n",
    "cluster2 = {\"item2\", \"item3\", \"item5\", \"item7\"}\n",
    "print(cluster2)\n",
    "print(cluster1.union(cluster2))"
   ]
  },
  {
   "cell_type": "markdown",
   "metadata": {},
   "source": [
    "Метод intersection(): пересечение множеств"
   ]
  },
  {
   "cell_type": "code",
   "execution_count": 63,
   "metadata": {},
   "outputs": [
    {
     "name": "stdout",
     "output_type": "stream",
     "text": [
      "{'item1', 'item3', 'item4', 'item2'}\n",
      "{'item5', 'item7', 'item3', 'item2'}\n",
      "{'item3', 'item2'}\n"
     ]
    }
   ],
   "source": [
    "cluster1 = {\"item1\", \"item2\", \"item3\", \"item4\"}\n",
    "print(cluster1)\n",
    "cluster2 = {\"item2\", \"item3\", \"item5\", \"item7\"}\n",
    "print(cluster2)\n",
    "print(cluster1.intersection(cluster2))"
   ]
  },
  {
   "cell_type": "markdown",
   "metadata": {},
   "source": [
    "#### **Задание 4.10**"
   ]
  },
  {
   "cell_type": "markdown",
   "metadata": {},
   "source": [
    "Создайте множество alpha_set из первых пяти строчных букв английского алфавита. Затем создайте множество name из строки 'bad boy'. Примените метод .intersection() к созданным множествам. Выведите результат.\n",
    "В качестве ответа запишите результат вывода"
   ]
  },
  {
   "cell_type": "code",
   "execution_count": 2,
   "metadata": {},
   "outputs": [
    {
     "name": "stdout",
     "output_type": "stream",
     "text": [
      "{'d', 'a', 'b'}\n"
     ]
    }
   ],
   "source": [
    "alpha_set = set(['a', 'b', 'c', 'd', 'e'])  # исходное множество\n",
    "name = set('bad boy')                     # множество из строки\n",
    "print(alpha_set.intersection(name))       # выводим результат пересечения множеств"
   ]
  },
  {
   "cell_type": "markdown",
   "metadata": {},
   "source": [
    "Метод difference(): выбор отсутсвующих элементов исходного множества в целевом множестве"
   ]
  },
  {
   "cell_type": "code",
   "execution_count": 64,
   "metadata": {},
   "outputs": [
    {
     "name": "stdout",
     "output_type": "stream",
     "text": [
      "{'item3', 'item5', 'item4', 'item2', 'item1'}\n",
      "{'item4', 'item6', 'item3', 'item5'}\n",
      "{'item1', 'item2'}\n"
     ]
    }
   ],
   "source": [
    "cluster1 = {\"item1\", \"item2\", \"item3\", \"item4\", \"item5\"}\n",
    "print(cluster1)\n",
    "cluster2 = {\"item3\", \"item4\", \"item5\", \"item6\"}\n",
    "print(cluster2)\n",
    "print(cluster1.difference(cluster2))"
   ]
  },
  {
   "cell_type": "markdown",
   "metadata": {},
   "source": [
    "Метод issubset(): проверка исходного множества на вхождение в целевое множество"
   ]
  },
  {
   "cell_type": "code",
   "execution_count": 65,
   "metadata": {},
   "outputs": [
    {
     "name": "stdout",
     "output_type": "stream",
     "text": [
      "{'item1', 'item3', 'item2'}\n",
      "{'item3', 'item4', 'item5', 'item2', 'item6'}\n",
      "False\n"
     ]
    }
   ],
   "source": [
    "cluster1 = {\"item1\", \"item2\", \"item3\"}\n",
    "print(cluster1)\n",
    "cluster2 = {\"item2\", \"item3\", \"item4\", \"item5\", \"item6\"}\n",
    "print(cluster2)\n",
    "print(cluster1.issubset(cluster2))"
   ]
  },
  {
   "cell_type": "markdown",
   "metadata": {},
   "source": [
    "Преобразование к спискам и кортежам"
   ]
  },
  {
   "cell_type": "code",
   "execution_count": 67,
   "metadata": {},
   "outputs": [
    {
     "name": "stdout",
     "output_type": "stream",
     "text": [
      "['Anne', 'Sam', 'Marie', 'Tom', 'Curt']\n"
     ]
    }
   ],
   "source": [
    "dictionary = {\"Anne\": 15, \"Sam\": 30, \"Marie\": 22}\n",
    "only_keys = dictionary.keys()\n",
    "list(only_keys)\n",
    "only_keys = list(only_keys)\n",
    "only_keys = only_keys + [\"Tom\", \"Curt\"]\n",
    "print(only_keys)"
   ]
  },
  {
   "cell_type": "code",
   "execution_count": 68,
   "metadata": {},
   "outputs": [
    {
     "name": "stdout",
     "output_type": "stream",
     "text": [
      "{('Amanda', 22, 'NY'): '3rd place', ('Collin', 23, 'LA'): '2nd place'}\n"
     ]
    }
   ],
   "source": [
    "d = {(\"Amanda\", 22, \"NY\"): \"3rd place\"}\n",
    "input_list = [\"Collin\", 23, \"LA\"] # создаём новый ключ для словаря. Но пока этот ключ в виде списка.\n",
    "input_place = \"2nd place\"\n",
    "input_list_as_tuple = tuple(input_list) # преобразуем список в кортеж через конструктор типов tuple()\n",
    "d[input_list_as_tuple] = input_place # добавляем новый ключ и значение в словарь и выводим результат\n",
    "print(d)"
   ]
  }
 ],
 "metadata": {
  "kernelspec": {
   "display_name": "Python 3.7.6 64-bit",
   "language": "python",
   "name": "python3"
  },
  "language_info": {
   "codemirror_mode": {
    "name": "ipython",
    "version": 3
   },
   "file_extension": ".py",
   "mimetype": "text/x-python",
   "name": "python",
   "nbconvert_exporter": "python",
   "pygments_lexer": "ipython3",
   "version": "3.7.6"
  },
  "orig_nbformat": 4,
  "vscode": {
   "interpreter": {
    "hash": "7677f7648bdcb6014014cc63ee9b4fd0e16ad8079654355b0568baf0e7ced8ff"
   }
  }
 },
 "nbformat": 4,
 "nbformat_minor": 2
}
