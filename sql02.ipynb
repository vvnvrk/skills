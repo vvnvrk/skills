{
 "cells": [
  {
   "cell_type": "markdown",
   "metadata": {},
   "source": [
    "### <center>Агрегатные функции<center>"
   ]
  },
  {
   "cell_type": "markdown",
   "metadata": {},
   "source": [
    "#### <center>Получение уникальных значений одном или нескольких столбцах<center>"
   ]
  },
  {
   "cell_type": "markdown",
   "metadata": {},
   "source": [
    "Для начала получим все основные типы покемонов.Для начала получим все основные типы покемонов.  \n",
    "\n",
    "*Запрос:*\n",
    "\n",
    "**SELECT** type1  \n",
    "**FROM** sql.pokemon"
   ]
  },
  {
   "cell_type": "markdown",
   "metadata": {},
   "source": [
    "Чтобы получить уникальные значения из столбца, воспользуемся ключевым словом DISTINCT.  \n",
    "\n",
    "*Запрос:*\n",
    "\n",
    "**SELECT DISTINCT** type1  \n",
    "**FROM** sql.pokemon"
   ]
  },
  {
   "cell_type": "markdown",
   "metadata": {},
   "source": [
    "Получим, например, все уникальные пары основного и дополнительного типов для покемонов.  \n",
    "\n",
    "*Запрос:*\n",
    "\n",
    "**SELECT DISTINCT** type1, type2  \n",
    "**FROM** sql.pokemon"
   ]
  },
  {
   "cell_type": "markdown",
   "metadata": {},
   "source": [
    "#### <center>Основные агрегатные функции<center>"
   ]
  },
  {
   "cell_type": "markdown",
   "metadata": {},
   "source": [
    "Давайте посчитаем количество строк в таблице. Для этого применим агрегатную функцию COUNT.  \n",
    "\n",
    "*Запрос:*\n",
    "\n",
    "**SELECT COUNT**(*)  \n",
    "**FROM** sql.pokemon  \n",
    "\n",
    "COUNT считает строки, а звёздочка (*) в аргументе функции означает, что считаются все строки, которые возвращает запрос.  \n",
    "Если в аргументе функции указать название столбца, функция обработает только строки с непустым значением."
   ]
  },
  {
   "cell_type": "markdown",
   "metadata": {},
   "source": [
    "800"
   ]
  },
  {
   "cell_type": "markdown",
   "metadata": {},
   "source": [
    "Сколько покемонов имеет дополнительный тип?  \n",
    "\n",
    "*Запрос:*\n",
    "\n",
    "**SELECT COUNT**(type2)  \n",
    "**FROM** sql.pokemon  \n",
    "\n",
    "414"
   ]
  },
  {
   "cell_type": "markdown",
   "metadata": {},
   "source": [
    "Внутри функции COUNT мы можем также применять DISTINCT, чтобы вычислить количество уникальных значений.  \n",
    "\n",
    "*Запрос:*\n",
    "\n",
    "**SELECT COUNT**(**DISTINCT* type1)  \n",
    "**FROM** sql.pokemon\n",
    "\n",
    "18"
   ]
  },
  {
   "cell_type": "markdown",
   "metadata": {},
   "source": [
    "Найдите максимальное значение атаки среди всех покемонов.  \n",
    "\n",
    "*Запрос:*\n",
    "\n",
    "**SELECT MAX**(attack)  \n",
    "**FROM** sql.pokemon\n",
    "\n",
    "190"
   ]
  },
  {
   "cell_type": "markdown",
   "metadata": {},
   "source": [
    "Какое среднее количество очков здоровья у покемонов-драконов (то есть тех, у кого основной тип — Dragon)?  Округлите до целого с уменьшением.  \n",
    "\n",
    "*Запрос:*\n",
    "\n",
    "**SELECT AVG**(hp)  \n",
    "**FROM** sql.pokemon  \n",
    "**WHERE** type1 = 'Dragon'\n",
    "\n",
    "83"
   ]
  },
  {
   "cell_type": "markdown",
   "metadata": {},
   "source": [
    "Кроме того, мы можем применять несколько агрегатных функций в одном запросе.  \n",
    "\n",
    "*Запрос:*\n",
    "\n",
    "**SELECT**  \n",
    "&ensp;&ensp;&ensp;&ensp;**COUNT**(*) **AS** \"всего травяных покемонов\",  \n",
    "&ensp;&ensp;&ensp;&ensp;**COUNT**(type2) **AS** \"покемонов с дополнительным типом\",  \n",
    "&ensp;&ensp;&ensp;&ensp;**AVG**(attack) **AS** \"средняя атака\",  \n",
    "&ensp;&ensp;&ensp;&ensp;**AVG**(defense) **AS** \"средняя защита\"  \n",
    "**FROM** sql.pokemon  \n",
    "**WHERE** type1 = 'Grass  "
   ]
  },
  {
   "cell_type": "markdown",
   "metadata": {},
   "source": [
    "Напишите запрос, который выведет:  \n",
    "\n",
    "* количество покемонов (столбец pokemon_count),\n",
    "* среднюю скорость (столбец avg_speed),\n",
    "* максимальное и минимальное число очков здоровья (столбцы max_hp и min_hp)  \n",
    "\n",
    "для электрических (Electric) покемонов, имеющих дополнительный тип и показатели атаки или защиты больше 50.\n",
    "\n",
    "*Запрос:*\n",
    "\n",
    "**SELECT**  \n",
    "&ensp;&ensp;&ensp;&ensp;**COUNT**(id) **AS** pokemon_count,  \n",
    "&ensp;&ensp;&ensp;&ensp;**AVG**(speed) **AS** avg_speed,  \n",
    "&ensp;&ensp;&ensp;&ensp;**MAX**(hp) **AS** max_hp,  \n",
    "&ensp;&ensp;&ensp;&ensp;**MIN**(hp) **AS** min_hp  \n",
    "**FROM** sql.pokemon  \n",
    "**WHERE**  \n",
    "&ensp;&ensp;&ensp;&ensp;type1 = 'Electric'  \n",
    "&ensp;&ensp;&ensp;&ensp;**AND** type2 **IS NOT NULL**  \n",
    "&ensp;&ensp;&ensp;&ensp;**AND** (attack>50 OR defense>50)"
   ]
  },
  {
   "cell_type": "markdown",
   "metadata": {},
   "source": [
    "#### <center>Группировка<center>"
   ]
  },
  {
   "cell_type": "markdown",
   "metadata": {},
   "source": [
    "Прежде мы применяли агрегатные функции для всего вывода, а сейчас используем для различных групп строк.   \n",
    "Поможет нам в этом ключевое слово GROUP BY."
   ]
  },
  {
   "cell_type": "markdown",
   "metadata": {},
   "source": [
    "Выведем число покемонов каждого типа.  \n",
    "\n",
    "*Запрос:*\n",
    "\n",
    "**SELECT**  \n",
    "&ensp;&ensp;&ensp;&ensp;type1 **AS** pokemon_type,  \n",
    "&ensp;&ensp;&ensp;&ensp;COUNT(*) **AS** pokemon_count  \n",
    "**FROM** sql.pokemon  \n",
    "**GROUP BY** type1  \n",
    "**ORDER BY** type1"
   ]
  },
  {
   "cell_type": "markdown",
   "metadata": {},
   "source": [
    "Представим ТОП существующих типов покемонов.\n",
    "\n",
    "*Запрос:*\n",
    "\n",
    "**SELECT**  \n",
    "&ensp;&ensp;&ensp;&ensp;type1 **AS** pokemon_type,  \n",
    "&ensp;&ensp;&ensp;&ensp;COUNT(*) **AS** pokemon_count  \n",
    "**FROM** sql.pokemon  \n",
    "**GROUP BY** pokemon_type  \n",
    "**ORDER BY COUNT**(*) DESC"
   ]
  },
  {
   "cell_type": "markdown",
   "metadata": {},
   "source": [
    "Напишите запрос, который выведет:\n",
    "\n",
    "* число различных дополнительных типов (столбец additional_types_count),\n",
    "* среднее число очков здоровья (столбец avg_hp),\n",
    "* сумму показателей атаки (столбец attack_sum) в разбивке по основным типам (столбец primary_type).  \n",
    "\n",
    "Отсортируйте результат по числу дополнительных типов в порядке убывания, при равенстве — по основному типу в алфавитном порядке. Столбцы к выводу (обратите внимание на порядок!): primary_type, additional_types_count, avg_hp, attack_sum.\n",
    "\n",
    "*Запрос:*\n",
    "\n",
    "**SELECT**  \n",
    "&ensp;&ensp;&ensp;&ensp;type1 **AS** primary_type,  \n",
    "&ensp;&ensp;&ensp;&ensp;**COUNT**(**DISTINCT** type2) **AS** additional_type_count,  \n",
    "&ensp;&ensp;&ensp;&ensp;**AVG**(hp) as avg_hp,  \n",
    "&ensp;&ensp;&ensp;&ensp;**SUM(attack) AS attack_sum  \n",
    "**FROM** sql.pokemon  \n",
    "**GROUP BY** primary_type  \n",
    "**ORDER BY**  \n",
    "&ensp;&ensp;&ensp;&ensp;additional_type_count **DESC**,   \n",
    "&ensp;&ensp;&ensp;&ensp;primary_type"
   ]
  },
  {
   "cell_type": "markdown",
   "metadata": {},
   "source": [
    "Мы можем осуществлять группировку по нескольким столбцам.  \n",
    "\n",
    "*Запрос:*\n",
    "\n",
    "**SELECT**  \n",
    "&ensp;&ensp;&ensp;&ensp;type1 **AS** primary_type,  \n",
    "&ensp;&ensp;&ensp;&ensp;type2 **AS** additional_type,  \n",
    "&ensp;&ensp;&ensp;&ensp;**COUNT**(*) **AS** pokemon_count  \n",
    "**FROM** sql.pokemon  \n",
    "**GROUP BY** 1, 2  \n",
    "**ORDER BY** 1, 2 **NULLS FIRST**  \n",
    "\n",
    "**Обратите внимание!** В группировке можно указывать порядковый номер столбца так же, как мы делали это в прошлом модуле для сортировки."
   ]
  },
  {
   "cell_type": "markdown",
   "metadata": {},
   "source": [
    "**GROUP BY** можно использовать и без агрегатных функций. Тогда его действие будет равносильно действию **DISTINCT**."
   ]
  },
  {
   "cell_type": "markdown",
   "metadata": {},
   "source": [
    "#### <center>Фитрация агрегированных строк<center>"
   ]
  },
  {
   "cell_type": "markdown",
   "metadata": {},
   "source": [
    "Если ключевое слово WHERE определяет фильтрацию строк до агрегирования, то для фильтрации уже агрегированных данных применяется ключевое слово HAVING."
   ]
  },
  {
   "cell_type": "markdown",
   "metadata": {},
   "source": [
    "Выведем типы покемонов и их средний показатель атаки, при этом оставим только тех, у кого средняя атака больше 90.\n",
    "\n",
    "*Запрос:*\n",
    "\n",
    "**SELECT**  \n",
    "&ensp;&ensp;&ensp;&ensp;type1 **AS** primary_type,  \n",
    "&ensp;&ensp;&ensp;&ensp;AVG(attack) **AS** avg_attack  \n",
    "**FROM** sql.pokemon  \n",
    "**GROUP BY** primary_type   \n",
    "**HAVING AVG**(attack) > 90"
   ]
  },
  {
   "cell_type": "markdown",
   "metadata": {},
   "source": [
    "В **HAVING** вы можете использовать все те же условия, что и в **WHERE**."
   ]
  },
  {
   "cell_type": "markdown",
   "metadata": {},
   "source": [
    "Напишите запрос, который выведет основной и дополнительный типы покемонов (столбцы primary_type и additional_type) для тех, у кого средний показатель атаки больше 100 и максимальный показатель очков здоровья меньше 80.\n",
    "\n",
    "*Запрос:*\n",
    "\n",
    "**SELECT**  \n",
    "&ensp;&ensp;&ensp;&ensp;type1 **AS** primary_type,  \n",
    "&ensp;&ensp;&ensp;&ensp;type2 **AS** additional_type  \n",
    "**FROM** sql.pokemon  \n",
    "**GROUP BY** primary_type, additional_type  \n",
    "**HAVING AVG**(attack)>100 **AND MAX**(hp)<80"
   ]
  },
  {
   "cell_type": "markdown",
   "metadata": {},
   "source": [
    "Напишите запрос, чтобы для покемонов, чьё имя (name) начинается с S, вывести столбцы с их основным типом (primary_type) и общим числом покемонов этого типа (pokemon_count). Оставьте только те типы, у которых средний показатель защиты больше 80. Выведите топ-3 типов по числу покемонов в них.\n",
    "\n",
    "*Запрос:*\n",
    "\n",
    "**SELECT**  \n",
    "&ensp;&ensp;&ensp;&ensp;type1 **AS** primary_type,  \n",
    "&ensp;&ensp;&ensp;&ensp;**COUNT**(type1) **AS** pokemon_count  \n",
    "**FROM** sql.pokemon  \n",
    "**WHERE** name **LIKE** 'S%'  \n",
    "**GROUP BY** primary_type  \n",
    "**HAVING AVG**(defense)>80  \n",
    "**ORDER BY COUNT**(type1) **DESC**  \n",
    "**LIMIT** 3"
   ]
  },
  {
   "cell_type": "markdown",
   "metadata": {},
   "source": [
    "Сколько различных значений показателей атаки есть у покемонов с типом Water (основным или дополнительным)?  \n",
    "\n",
    "*Запрос:*\n",
    "\n",
    "**SELECT** count(distinct attack)  \n",
    "**FROM** sql.pokemon  \n",
    "**WHERE** type2='Water' or type1='Water'\n",
    "\n",
    "53"
   ]
  },
  {
   "cell_type": "markdown",
   "metadata": {},
   "source": [
    "Напишите запрос, который выведет основной и дополнительный типы покемонов и средние значения по каждому показателю (столбцы avg_hp, avg_attack, avg_defense, avg_speed).Оставьте только те пары типов, у которых сумма этих четырёх показателей более 400.\n",
    "\n",
    "*Запрос:*\n",
    "\n",
    "**SELECT**  \n",
    "&ensp;&ensp;&ensp;&ensp;type1, type2,    \n",
    "&ensp;&ensp;&ensp;&ensp;**AVG**(hp) **AS** avg_hp,  \n",
    "&ensp;&ensp;&ensp;&ensp;**AVG**(attack) **AS** avg_attack,  \n",
    "&ensp;&ensp;&ensp;&ensp;**AVG**(defense) **AS** avg_defense,  \n",
    "&ensp;&ensp;&ensp;&ensp;**AVG**(speed) **AS** avg_speed  \n",
    "**FROM** sql.pokemon   \n",
    "**GROUP BY** type1, type2  \n",
    "**HAVING** (**AVG**(hp)+**AVG**(attack)+**AVG**(defense)+**AVG**(speed)) > 400"
   ]
  },
  {
   "cell_type": "markdown",
   "metadata": {},
   "source": [
    "Напишите запрос, который выведет столбцы с основным типом покемона и общим количеством покемонов этого типа. Учитывайте только тех покемонов, у кого или показатель атаки, или показатель защиты принимает значение между 50 и 100 включительно. Оставьте только те типы покемонов, у которых максимальный показатель здоровья не больше 125. Выведите только тот тип, который находится на пятом месте по количеству покемонов.\n",
    "\n",
    "*Запрос:*\n",
    "\n",
    "**SELECT**  \n",
    "&ensp;&ensp;&ensp;&ensp;type1,  \n",
    "&ensp;&ensp;&ensp;&ensp;**COUNT**(type1) **AS** count_type  \n",
    "**FROM** sql.pokemon  \n",
    "**WHERE**  \n",
    "&ensp;&ensp;&ensp;&ensp;attack **BETWEEN** 50 **AND** 100  \n",
    "&ensp;&ensp;&ensp;&ensp;**OR** defense **BETWEEN** 50 **AND** 100  \n",
    "**GROUP BY** type1  \n",
    "**HAVING MAX**(hp) <= 125  \n",
    "**ORDER BY** count_type **DESC**  \n",
    "**OFFSET** 4 **LIMIT** 1  \n",
    "\n",
    "Rock  30"
   ]
  }
 ],
 "metadata": {
  "kernelspec": {
   "display_name": "Python 3.7.6 64-bit",
   "language": "python",
   "name": "python3"
  },
  "language_info": {
   "name": "python",
   "version": "3.7.6"
  },
  "orig_nbformat": 4,
  "vscode": {
   "interpreter": {
    "hash": "094479cf5e9d091b9dd22e3ee71edd94f1b69fd44b150db46cc29ddd6768aa2e"
   }
  }
 },
 "nbformat": 4,
 "nbformat_minor": 2
}
