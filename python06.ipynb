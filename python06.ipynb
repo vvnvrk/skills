{
 "cells": [
  {
   "cell_type": "markdown",
   "metadata": {},
   "source": [
    "## <center>Практика<center>\n",
    "\n",
    "### <center>Основы Python<center>"
   ]
  },
  {
   "cell_type": "markdown",
   "metadata": {},
   "source": [
    "Дана строка python_string. Посчитайте количество символов в этой строке и возведите получившееся число в третью степень. Результат запишите в переменную result."
   ]
  },
  {
   "cell_type": "code",
   "execution_count": 1,
   "metadata": {},
   "outputs": [
    {
     "name": "stdout",
     "output_type": "stream",
     "text": [
      "389017\n"
     ]
    }
   ],
   "source": [
    "python_string = 'Привет! Меня зовут Питон. Я помогу вам проанализировать некоторые данные.'\n",
    "result = len(python_string) ** 3\n",
    "print(result)"
   ]
  },
  {
   "cell_type": "markdown",
   "metadata": {},
   "source": [
    "Представим, что мы разрабатываем алгоритм прогнозирования времени доставки еды. Наш алгоритм принимает на вход информацию о географических координатах клиента, расположении ресторана, загруженности на дорогах и так далее. Выходом алгоритма является примерное время в минутах, которое необходимо курьеру на доставку. Мы хотим проверить адекватность работы алгоритма — для этого будем измерять разницу (ошибку) между спрогнозированным и реальным временем доставки. Условимся, что знак ошибки (в меньшую или большую сторону мы ошибаемся) нас не интересует — нужно только абсолютное значение. Прогнозируемое время доставки хранится в переменной predicted_time, реальное время — в переменной real_time. Найдите модуль разницы между предсказанным и истинным значениями времени, результат округлите до целого и сохраните в переменную absolute_error"
   ]
  },
  {
   "cell_type": "code",
   "execution_count": 2,
   "metadata": {},
   "outputs": [
    {
     "name": "stdout",
     "output_type": "stream",
     "text": [
      "13\n"
     ]
    }
   ],
   "source": [
    "predicted_time = 38.873\n",
    "real_time = 26.124\n",
    "absolute_error = int(round(abs(predicted_time - real_time),0))\n",
    "print(absolute_error)"
   ]
  },
  {
   "cell_type": "markdown",
   "metadata": {},
   "source": [
    "Дана строка input_string. Избавьтесь от знаков препинания в ней и напишите программу для подсчёта количества слов в этой строке. Программа должна записывать результат в переменную count_words. Гарантируется, что из знаков препинания в строке input_string могут содержаться только точки ('.'), запятые (','), восклицательные ('!') и вопросительные ('?') знаки."
   ]
  },
  {
   "cell_type": "code",
   "execution_count": 3,
   "metadata": {},
   "outputs": [
    {
     "name": "stdout",
     "output_type": "stream",
     "text": [
      "27\n"
     ]
    }
   ],
   "source": [
    "input_string = 'There are many great articles about Artificial Intelligence and its benefits for business and society. However, many of these articles are too technical for the average reader.'\n",
    "spec_set = (',', '.', '!', '?')\n",
    "for char in spec_set:\n",
    "    input_string.replace(char,'')\n",
    "count_words = len(input_string.split())\n",
    "print(count_words)  ## count_words = 27"
   ]
  },
  {
   "cell_type": "markdown",
   "metadata": {},
   "source": [
    "Мы обучаем нейронную сеть классифицировать изображения. Для обучения необходимо узнать формат файла с изображением: JPG/PNG/GIF и т. д. Это связано с тем, что от формата входных данных зависит процесс предобработки изображений (например, GIF-изображение необходимо предварительно разложить на кадры). В переменной file_path задан полный путь до файла с изображением. Найдите его расширение, результат занесите в переменную file_extension. Также найдите имя файла (без учёта расширения), результат занесите в переменную file_name. Гарантируется, что разделителем между папками при указании пути является символ '/'."
   ]
  },
  {
   "cell_type": "code",
   "execution_count": 4,
   "metadata": {},
   "outputs": [
    {
     "name": "stdout",
     "output_type": "stream",
     "text": [
      "384300\n"
     ]
    }
   ],
   "source": [
    "file_path = 'data/images/384300.png'   # исходный путь к файлу\n",
    "file_path = file_path[::-1]            # разворачиваем строку\n",
    "pos = file_path.find('.')              # находим первую позицию точки\n",
    "file_extension = file_path[:pos]       # выделяем развернутое расширение\n",
    "file_extension = file_extension[::-1]  # приводим расширение к нормальному виду\n",
    "pos1 = file_path.find('/')             # ищем первую позицию слеша\n",
    "file_name = file_path[pos+1:pos1]      # поучаем развернутое имя файла\n",
    "file_name = file_name[::-1]            # получаем нормальное имя файла\n",
    "print(file_name)                       # выводим имя файла"
   ]
  },
  {
   "cell_type": "markdown",
   "metadata": {},
   "source": [
    "Предположим, мы обучили нейронную сеть генерировать текст (предложения), однако на этапе тестирования выяснилось, что мы допустили ошибку при обучении и слова генерируются в неправильной последовательности — справа налево, а не слева направо. Ошибку мы нашли, однако оказалось, что переобучать модель очень долго и дорого. Поэтому мы решили вручную разворачивать сгенерированный текст на этапе постобработки. Он хранится в переменной generated_text в виде строки. Создайте новую строку updated_text, в которой слова будут храниться в обратном порядке. Для простоты гарантируется, что в предложениях, сгенерированных моделью, нет знаков препинания и весь текст представлен в нижнем регистре."
   ]
  },
  {
   "cell_type": "code",
   "execution_count": 1,
   "metadata": {},
   "outputs": [
    {
     "name": "stdout",
     "output_type": "stream",
     "text": [
      "когда человек вводит запрос в поисковик он ищет информацию или способ решения своей задачи\n"
     ]
    }
   ],
   "source": [
    "generated_text = \"задачи своей решения способ или информацию ищет он поисковик в запрос вводит человек когда\"\n",
    "temp = generated_text.split()                    # преобразуем исходный текст на список слов\n",
    "temp = temp[::-1]                                # разворачиваем полученный список\n",
    "updated_text = ''                                # инициируем пустую строку результата\n",
    "len_tmp = len(temp)                              # вычисляем дину списка слов\n",
    "for index, word in enumerate(temp):              # организуем цикл по списку слов\n",
    "    if index == len_tmp - 1:                     # если это последнее слово в списке\n",
    "        char = ''                                # тогда сепаратор пустой\n",
    "    else:                                        # иначе\n",
    "        char = ' '                               # сепаратор - пробел  \n",
    "    updated_text = updated_text + word + char    # добавляем в итог слово и сепаратор\n",
    "print(updated_text)                              # выводим развернутый текст\n",
    "## updated_text = когда человек вводит запрос в поисковик он ищет информацию или способ решения своей задачи"
   ]
  },
  {
   "cell_type": "markdown",
   "metadata": {},
   "source": [
    "В приложении, которое мы разрабатываем, предусмотрена функция смены пароля. Нам необходимо записывать в базу данных событий информацию о том, что пользователь сменил пароль. Напишите функцию change_password(), которая должна возвращать отформатированную строку в следующем виде: \"Пользователь {user_name} сменил пароль на {new_password}\".  \n",
    "Здесь:\n",
    "\n",
    "* user_name — имя пользователя,\n",
    "* new_password — новый пароль.  \n",
    "\n",
    "Мы уже сделали заготовку функции — вам осталось только задать строку. Переменные user_name и new_password являются аргументами функции change_password().Запишите форматированную строку вместо знаков вопроса."
   ]
  },
  {
   "cell_type": "code",
   "execution_count": 5,
   "metadata": {},
   "outputs": [
    {
     "name": "stdout",
     "output_type": "stream",
     "text": [
      "Пользователь Andrey сменил пароль на 31andrey12QK\n",
      "Пользователь Vasilisk сменил пароль на uaf12laK\n"
     ]
    }
   ],
   "source": [
    "def change_password(user_name, new_password): \n",
    "    return 'Пользователь ' + user_name + ' сменил пароль на ' + new_password\n",
    "\n",
    "print(change_password('Andrey', '31andrey12QK')) ## Пользователь Andrey сменил пароль на 31andrey12QK\n",
    "print(change_password('Vasilisk', 'uaf12laK'))   ## Пользователь Vasilisk сменил пароль на uaf12laK"
   ]
  },
  {
   "cell_type": "markdown",
   "metadata": {},
   "source": [
    "### <center>Погружение в типы данных<center>"
   ]
  },
  {
   "cell_type": "markdown",
   "metadata": {},
   "source": [
    "Мы анализируем данные об автомобилях. Данные являются табличными и представлены в виде словаря car_dict, ключами которого являются параметры:\n",
    "\n",
    "* ‘car_ID’ — идентификатор автомобиля;\n",
    "* ‘fueltype’ — тип двигателя (бензиновый — 'gas' или дизельный — 'diesel');\n",
    "* ‘horsepower’ — мощность двигателя (в лошадиных силах);\n",
    "* ‘price’ — стоимость автомобиля.\n",
    "\n",
    "Значениями словаря являются списки, в которых хранятся значения указанных параметров для каждого из автомобилей. Например, следующий словарь car_dict:  \n",
    "car_dict = {  \n",
    "    'car_ID': [123, 117, 111, 82, 101, 96, 156, 2, 58, 49],   \n",
    "    'fueltype': ['gas', 'diesel', 'diesel', 'gas', 'gas', 'gas', 'gas', 'gas', 'gas', 'gas'],  \n",
    "    'horsepower': [68, 95, 95, 88, 97, 69, 62, 111, 101, 176],  \n",
    "    'price': [7609.0, 17950.0, 13860.0, 8499.0, 9549.0, 7799.0, 8778.0, 16500.0, 13645.0, 35550.0]}\n",
    "будет эквивалентен следующей таблице с данными:\n",
    "\n",
    "![](images/table.jpg)\n",
    "\n",
    "Найдите:\n",
    "\n",
    "* среднюю стоимость автомобилей, представленных в данных (результат округлите до десятых и запишите в переменную mean_price);\n",
    "* количество автомобилей с дизельным двигателем (результат запишите в переменную count_diesel);\n",
    "* минимальную мощность двигателя в лошадиных силах (результат запишите в переменную min_horsepower)."
   ]
  },
  {
   "cell_type": "code",
   "execution_count": 6,
   "metadata": {},
   "outputs": [
    {
     "name": "stdout",
     "output_type": "stream",
     "text": [
      "Средняя цена 13973.9\n",
      "Кол-во авто с дизелем: 2\n",
      "Минимальная мощность двигателя: 62\n"
     ]
    }
   ],
   "source": [
    "car_dict = {\n",
    "    'car_ID': [123, 117, 111, 82, 101, 96, 156, 2, 58, 49],\n",
    "    'fueltype': ['gas', 'diesel', 'diesel', 'gas', 'gas', 'gas', 'gas', 'gas', 'gas', 'gas'],\n",
    "    'horsepower': [68, 95, 95, 88, 97, 69, 62, 111, 101, 176],\n",
    "    'price': [7609.0, 17950.0, 13860.0, 8499.0, 9549.0, 7799.0, 8778.0, 16500.0, 13645.0, 35550.0]}\n",
    "prices = car_dict['price']\n",
    "mean_price = round(sum(prices) / len(prices),1)\n",
    "fuels = car_dict['fueltype']\n",
    "count_diesel = fuels.count('diesel')\n",
    "horses = car_dict['horsepower']\n",
    "min_horsepower = min(horses)\n",
    "print('Средняя цена', mean_price)\n",
    "print('Кол-во авто с дизелем:', count_diesel)\n",
    "print('Минимальная мощность двигателя:', min_horsepower)"
   ]
  },
  {
   "cell_type": "markdown",
   "metadata": {},
   "source": [
    "Напишите функцию check_duplicates(), которая проверит, есть ли дубликаты в списке lst, переданном ей в качестве аргумента. Результатом работы функции должно стать булево число (True или False)."
   ]
  },
  {
   "cell_type": "code",
   "execution_count": 7,
   "metadata": {},
   "outputs": [
    {
     "name": "stdout",
     "output_type": "stream",
     "text": [
      "True\n",
      "False\n"
     ]
    }
   ],
   "source": [
    "def check_duplicates(lst):\n",
    "    for item in lst:             # организуем цикл по элементам списка lst\n",
    "        if lst.count(item) > 1:  # если элемент имеет дубликат\n",
    "            return True          # возвращаем True\n",
    "        else:                    # иначе\n",
    "            return False         # возвращаем False\n",
    "        \n",
    "lst = [0, 0, 1, 2, 3, 4, 5, 5, 6, 7]\n",
    "print(check_duplicates(lst))  # True\n",
    "lst = list(range(0, 15))\n",
    "print(check_duplicates(lst))  # False"
   ]
  },
  {
   "cell_type": "markdown",
   "metadata": {},
   "source": [
    "Напишите функцию swap_places(), которая принимает в качестве аргумента список lst и меняет местами его первый и последний элементы. Функция должна возвращать обновлённый список. Гарантируется, что в исходном списке есть минимум два элемента."
   ]
  },
  {
   "cell_type": "code",
   "execution_count": 8,
   "metadata": {},
   "outputs": [
    {
     "name": "stdout",
     "output_type": "stream",
     "text": [
      "[3, 2, 1]\n",
      "[5, 2, 3, 4, 1]\n",
      "['с', 'л', 'о', 'н']\n"
     ]
    }
   ],
   "source": [
    "def swap_places(lst):\n",
    "    temp = lst[0]      # сохраняем в переменную temp 0-й элемент списка\n",
    "    lst[0] = lst[-1]   # в голову списука переносим последний элемент\n",
    "    lst[-1] = temp     # в конец списка сохраняем начальный элемент\n",
    "    return lst         # возвращаем модернизированный список\n",
    "\n",
    "print(swap_places([1, 2, 3]))             ## [3, 2, 1]\n",
    "print(swap_places([1, 2, 3, 4, 5]))       ## [5, 2, 3, 4, 1]\n",
    "print(swap_places(['н', 'л', 'о', 'с']))  ## ['с', 'л', 'о', 'н']"
   ]
  },
  {
   "cell_type": "markdown",
   "metadata": {},
   "source": [
    "В нашем распоряжении есть список строк разной длины. Напишите функцию equalize_lengths(), которая принимает на вход список и возвращает новый список из строк одинаковой длины. Длина итоговой строки должна быть равна длине самой длинной из строк. Если конкретная строка короче самой длинной, её необходимо дополнить до требуемого количества символов нижними подчёркиваниями с правого края.  \n",
    "**Важно!** Результирующий список должен быть отсортирован от меньшего к большему по количеству добавленных символов нижнего подчёркивания. То есть первым должен идти элемент с максимальной длиной строки."
   ]
  },
  {
   "cell_type": "code",
   "execution_count": null,
   "metadata": {},
   "outputs": [],
   "source": [
    "def equalize_lengths(lst):\n",
    "    temp = sorted(lst, key = lambda x: len(x), reverse = True)  # сортируем входящий ссписок по убыванию длины строк\n",
    "    max_len = len(temp[0])                                      # запоминаем  максимальную длину строки\n",
    "    for i, item in range(1,len(temp)):                          # организуем цикл по отсортированному списку со 2-го эл-та\n",
    "        item = temp[i]                                          # получаем элемент по индексу\n",
    "        count_char = max_len - len(item)                        # получаем разницу мах-длины и длины тек. строки\n",
    "        if count_char > 0:                                      # если разница положительна\n",
    "            for j in range(count_char):                         # тогда в цикле\n",
    "                item +='_'                                      # добавляем к элементу подчеркивание\n",
    "            temp[i] = item                                      # заменяем i-й элемент на элемент с подчеркиваниями\n",
    "    return temp                                                 # возвраащем результат\n",
    "\n",
    "print(equalize_lengths(['крот', 'белка', 'выхухоль']))            # ['выхухоль', 'белка___', 'крот____']\n",
    "print(equalize_lengths(['a', 'aa', 'aaa', 'aaaa', 'aaaaa']))      # ['aaaaa', 'aaaa_', 'aaa__', 'aa___', 'a____']\n",
    "print(equalize_lengths(['qweasdqweas', 'q', 'rteww', 'ewqqqqq'])) # ['qweasdqweas', 'ewqqqqq____', 'rteww______', 'q__________']"
   ]
  }
 ],
 "metadata": {
  "kernelspec": {
   "display_name": "Python 3.7.6 64-bit",
   "language": "python",
   "name": "python3"
  },
  "language_info": {
   "codemirror_mode": {
    "name": "ipython",
    "version": 3
   },
   "file_extension": ".py",
   "mimetype": "text/x-python",
   "name": "python",
   "nbconvert_exporter": "python",
   "pygments_lexer": "ipython3",
   "version": "3.7.6"
  },
  "orig_nbformat": 4,
  "vscode": {
   "interpreter": {
    "hash": "7677f7648bdcb6014014cc63ee9b4fd0e16ad8079654355b0568baf0e7ced8ff"
   }
  }
 },
 "nbformat": 4,
 "nbformat_minor": 2
}
