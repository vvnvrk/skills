{
 "cells": [
  {
   "cell_type": "markdown",
   "metadata": {},
   "source": [
    "## <center>Сложные соединения<center>"
   ]
  },
  {
   "cell_type": "markdown",
   "metadata": {},
   "source": [
    "Интересующие нас данные хранятся в таблицах city, customer, driver, shipment, truck. Давайте внимательно их изучим. Ниже представлена ER-диаграмма (от англ. entity-relation, дословно — «сущность-связь»), которая отображает существующие связи между отдельными таблицами.\n",
    "\n",
    "![](images/relations.jpg)"
   ]
  },
  {
   "cell_type": "markdown",
   "metadata": {},
   "source": [
    "#### **Задание 1.1**"
   ]
  },
  {
   "cell_type": "markdown",
   "metadata": {},
   "source": [
    "Укажите название города с максимальным весом единичной доставки.\n",
    "\n",
    "*Запрос:*\n",
    "\n",
    "**SELECT**  \n",
    "&ensp;&ensp;&ensp;&ensp;c.city_name  \n",
    "**FROM**  \n",
    "&ensp;&ensp;&ensp;&ensp;sql.shipment s  \n",
    "&ensp;&ensp;&ensp;&ensp;**NATURAL JOIN** sql.city c  \n",
    "**GROUP BY**  \n",
    "&ensp;&ensp;&ensp;&ensp;c.city_id,  \n",
    "&ensp;&ensp;&ensp;&ensp;s.weight  \n",
    "**HAVING** s.weight = **MAX**(s.weight)  \n",
    "**ORDER BY** s.weight **DESC**  \n",
    "**LIMIT** 1\n",
    "\n",
    "Green Bay\n",
    "\n",
    "Сколько различных производителей грузовиков перечислено в таблице truck?\n",
    "\n",
    "*Запрос:*\n",
    "\n",
    "**SELECT**  \n",
    "&ensp;&ensp;&ensp;&ensp;**COUNT**(**DISTINCT** t.make)  \n",
    "**FROM**  \n",
    "&ensp;&ensp;&ensp;&ensp;sql.truck t\n",
    "\n",
    "3\n",
    "\n",
    "Как зовут водителя (first_name), который совершил наибольшее количество доставок одному клиенту?\n",
    "\n",
    "*Запрос:*\n",
    "\n",
    "**SELECT**  \n",
    "&ensp;&ensp;&ensp;&ensp;d.first_name  \n",
    "**FROM**  \n",
    "&ensp;&ensp;&ensp;&ensp;sql.shipment s  \n",
    "&ensp;&ensp;&ensp;&ensp;**JOIN** sql.driver d **ON** s.driver_id = d .driver_id  \n",
    "**GROUP BY** d.driver_id, s.cust_id  \n",
    "**ORDER BY COUNT**(s.ship_id) **DESC**  \n",
    "**LIMIT** 1\n",
    "\n",
    "Holger\n",
    "\n",
    "Укажите дату первой по времени доставок в таблице shipment.\n",
    "\n",
    "*Запрос:*\n",
    "\n",
    "**SELECT**  \n",
    "&ensp;&ensp;&ensp;&ensp;s.ship_date  \n",
    "**FROM**  \n",
    "&ensp;&ensp;&ensp;&ensp;sql.shipment s  \n",
    "**ORDER BY** s.ship_date  \n",
    "**LIMIT** 1  \n",
    "\n",
    "08.01.2016\n",
    "\n",
    "Укажите дату последней по времени доставок в таблице shipment.\n",
    "\n",
    "*Запрос:*\n",
    "\n",
    "**SELECT**  \n",
    "&ensp;&ensp;&ensp;&ensp;s.ship_date  \n",
    "**FROM**  \n",
    "&ensp;&ensp;&ensp;&ensp;sql.shipment s  \n",
    "**ORDER BY** s.ship_date **DESC**  \n",
    "**LIMIT** 1\n",
    "\n",
    "27.12.2017\n",
    "\n",
    "Укажите имя клиента, получившего наибольшее количество доставок за 2017 год.\n",
    "\n",
    "*Запрос:*\n",
    "\n",
    "**SELECT**  \n",
    "&ensp;&ensp;&ensp;&ensp;c.cust_name  \n",
    "**FROM**  \n",
    "&ensp;&ensp;&ensp;&ensp;sql.shipment s  \n",
    "&ensp;&ensp;&ensp;&ensp;**JOIN** sql.customer c **ON** s.cust_id = c.cust_id  \n",
    "**GROUP BY** c.cust_id  \n",
    "**ORDER BY COUNT**(s.ship_id) **DESC**  \n",
    "**LIMIT** 1\n",
    "\n",
    "Autoware Inc"
   ]
  },
  {
   "cell_type": "markdown",
   "metadata": {},
   "source": [
    "### <center>Принцип и условия работы UNION<center>"
   ]
  },
  {
   "cell_type": "markdown",
   "metadata": {},
   "source": [
    "Мы хотим собрать из справочников по книгам и фильмам один, так чтобы в нём содержались названия произведений, а также их описание — книга или фильм. Для этого напишем простой запрос:\n",
    "\n",
    "**SELECT**  \n",
    "&ensp;&ensp;&ensp;&ensp;book_name object_name,  \n",
    "&ensp;&ensp;&ensp;&ensp;'книга' object_description  \n",
    "**FROM** public.books  \n",
    "**UNION ALL**  \n",
    "**SELECT**  \n",
    "&ensp;&ensp;&ensp;&ensp;movie_title,   \n",
    "&ensp;&ensp;&ensp;&ensp;'фильм'   \n",
    "**FROM** sql.kinopoisk\n",
    "\n",
    "Визуально произведённое нами действие можно представить следующим образом:\n",
    "\n",
    "![](images/union_all.jpg)\n",
    "\n",
    "В запросе мы использовали оператор UNION ALL — он присоединяет любой результат запроса к другому «снизу» при условии, что у них **одинаковая структура**, а именно:\n",
    "\n",
    "* одинаковый тип данных;\n",
    "* одинаковое количество столбцов;\n",
    "* одинаковый порядок столбцов согласно типу данных."
   ]
  },
  {
   "cell_type": "markdown",
   "metadata": {},
   "source": [
    "#### <center>Виды UNION<center>"
   ]
  },
  {
   "cell_type": "markdown",
   "metadata": {},
   "source": [
    "Оператор присоединения существует в двух вариантах:\n",
    "\n",
    "**UNION** выводит только уникальные записи;  \n",
    "**UNION ALL** присоединяет все строки последующих таблиц к предыдущим, без ограничений по уникальности. \n",
    "\n",
    "Важно! **UNION** оставляет только уникальные значения, а потому требует дополнительных вычислительных мощностей и памяти (в данном случае можно провести аналогию с **DISTINCT**). Поэтому если вы уверены в отсутствии дубликатов в данных или они вам не важны, предпочтительнее использовать **UNION ALL**."
   ]
  },
  {
   "cell_type": "markdown",
   "metadata": {},
   "source": [
    "#### <center>Ситнаксис<center>"
   ]
  },
  {
   "cell_type": "markdown",
   "metadata": {},
   "source": [
    "Запрос строится таким образом:\n",
    "\n",
    "**SELECT** n columns  \n",
    "**FROM**   \n",
    "&ensp;&ensp;&ensp;&ensp;table_1  \n",
    "**UNION ALL**  \n",
    "**SELECT**  \n",
    "&ensp;&ensp;&ensp;&ensp;n columns  \n",
    "**FROM**  \n",
    "&ensp;&ensp;&ensp;&ensp;table_2  \n",
    "...  \n",
    "**UNION ALL**  \n",
    "**SELECT**  \n",
    "&ensp;&ensp;&ensp;&ensp;n columns  \n",
    "**FROM**   \n",
    "&ensp;&ensp;&ensp;&ensp;table_n    \n",
    "\n",
    "Результатом выполнения такого запроса будут строки table_1, table_2, ..., table_n, соединённые одни под другими и выведенные в единой выдаче.  \n",
    "**Важно!** Названия итоговых колонок в выводе будут такие же, как в первом блоке SELECT, даже если они отличаются в других блоках подзапросов.\n"
   ]
  },
  {
   "cell_type": "markdown",
   "metadata": {},
   "source": [
    "Сортировку любой части с использованием ORDER BY и LIMIT можно вести любой части запроса, обернув ее в круглые скобки.\n",
    "\n",
    "(**SELECT** book_name object_name, 'книга' object_descritption  \n",
    "**FROM** public.books  \n",
    "**ORDER BY** 1  \n",
    "**LIMIT** 1)  \n",
    "**UNION ALL**  \n",
    "(**SELECT** movie_title, 'фильм'   \n",
    "**FROM** sql.kinopoisk  \n",
    "**ORDER BY** 1  \n",
    "**LIMIT** 1)"
   ]
  },
  {
   "cell_type": "markdown",
   "metadata": {},
   "source": [
    "#### **Задание 2.1**"
   ]
  },
  {
   "cell_type": "markdown",
   "metadata": {},
   "source": [
    "Напишите запрос, который создает уникальный алфавитный справочник всех городов, штатов, имён водителей и производителей грузовиков. Результатом запроса должны быть два столбца: название и тип объекта (city, state, driver, truck). Отсортируйте список по названию объекта, а затем — по типу.\n",
    "\n",
    "*Запрос:*\n",
    "\n",
    "**SELECT**  \n",
    "&ensp;&ensp;&ensp;&ensp;**DISTINCT** city_name object_name, 'city' object_type  \n",
    "**FROM** sql.city  \n",
    "**UNION ALL**  \n",
    "**SELECT**  \n",
    "&ensp;&ensp;&ensp;&ensp;**DISTINCT** state, 'state'  \n",
    "**FROM** sql.city  \n",
    "**UNION ALL**  \n",
    "**SELECT**\n",
    "&ensp;&ensp;&ensp;&ensp;first_name, 'driver'  \n",
    "**FROM** sql.driver  \n",
    "**UNION ALL**  \n",
    "**SELECT**  \n",
    "&ensp;&ensp;&ensp;&ensp;**DISTINCT** make, 'truck'  \n",
    "**FROM** sql.truck  \n",
    "**ORDER BY** object_name, object_type"
   ]
  },
  {
   "cell_type": "markdown",
   "metadata": {},
   "source": [
    "#### **Задание 2.2**"
   ]
  },
  {
   "cell_type": "markdown",
   "metadata": {},
   "source": [
    "Напишите запрос, который соберёт имена всех упомянутых городов и штатов из таблицы city. Результатом запроса должен быть один столбец object_name, отсортированный в алфавитном порядке.\n",
    "\n",
    "*Запрос:*\n",
    "\n",
    "**SELECT** \n",
    "&ensp;&ensp;&ensp;&ensp;city_name object_name  \n",
    "**FROM** sql.city   \n",
    "**UNION ALL**    \n",
    "**SELECT**  \n",
    "    &ensp;&ensp;&ensp;&ensp;state  \n",
    "**FROM** sql.city  \n",
    "**ORDER BY** object_name"
   ]
  },
  {
   "cell_type": "markdown",
   "metadata": {},
   "source": [
    "#### **Задание 2.3**"
   ]
  },
  {
   "cell_type": "markdown",
   "metadata": {},
   "source": [
    "Выполнив предыдущий запрос, мы получили города с одинаковыми названиями, но находящиеся в разных штатах, а также большое количество дублирующихся названий штатов. Перепишите предыдущий запрос так, чтобы остались только уникальные названия городов и штатов. Результатом запроса должен быть один столбец object_name, отсортированный в алфавитном порядке.  \n",
    "\n",
    "*Запрос:*\n",
    "\n",
    "**SELECT**  \n",
    "&ensp;&ensp;&ensp;&ensp;city_name object_name  \n",
    "**FROM** sql.city    \n",
    "**UNION**  \n",
    "**SELECT**  \n",
    "&ensp;&ensp;&ensp;&ensp;state  \n",
    "**FROM** sql.city  \n",
    "**ORDER BY** object_name"
   ]
  },
  {
   "cell_type": "markdown",
   "metadata": {},
   "source": [
    "### <center>Ограничение типов данных<center>"
   ]
  },
  {
   "cell_type": "markdown",
   "metadata": {},
   "source": [
    "**Важно!** Любой тип данных может быть приведён к текстовому формату — эту возможность целесообразно использовать для соединения разнородных сущностей. Главное — помнить, что сортировка текста отличается от сортировки чисел и дат.\n",
    "\n",
    "*Запрос:*\n",
    "\n",
    "**SELECT**  \n",
    "&ensp;&ensp;&ensp;&ensp;c.city_id::text  \n",
    "**FROM** sql.city c  \n",
    "**UNION ALL**    \n",
    "**SELECT**  \n",
    "&ensp;&ensp;&ensp;&ensp;cc.city_name  \n",
    "**FROM** sql.city cc"
   ]
  },
  {
   "cell_type": "markdown",
   "metadata": {},
   "source": [
    "#### **Задание 3.1**"
   ]
  },
  {
   "cell_type": "markdown",
   "metadata": {},
   "source": [
    "Напишите запрос, который объединит в себе все почтовые индексы водителей и их телефоны в единый столбец-справочник contact. Также добавьте столбец с именем водителя first_name и столбец contact_type с типом контакта (phone или zip в зависимости от типа). Отсортируйте список по столбцу с контактными данными в порядке возрастания, а затем — по имени водителя.  \n",
    "\n",
    "*Запрос:*\n",
    "\n",
    "**SELECT**  \n",
    "&ensp;&ensp;&ensp;&ensp;zip_code::text contact,   \n",
    "&ensp;&ensp;&ensp;&ensp;first_name first_name,   \n",
    "&ensp;&ensp;&ensp;&ensp;'zip' contact_type  \n",
    "**FROM** sql.driver  \n",
    "**UNION**  \n",
    "**SELECT**  \n",
    "&ensp;&ensp;&ensp;&ensp;phone::text contact,   \n",
    "&ensp;&ensp;&ensp;&ensp;first_name,  \n",
    "&ensp;&ensp;&ensp;&ensp;'phone'  \n",
    "**FROM** sql.driver  \n",
    "**ORDER BY** contact, first_name  "
   ]
  },
  {
   "cell_type": "markdown",
   "metadata": {},
   "source": [
    "#### <center>UNION ALL и промежуточнеы итоги<center>"
   ]
  },
  {
   "cell_type": "markdown",
   "metadata": {},
   "source": [
    "UNION ALL часто используется для подведения **промежуточных итогов** и **выведения результатов агрегатных функций**.  \n",
    "Кроме агрегатных функций, в запросах с UNION могут использоваться функции группировки и выборки.\n",
    "\n",
    "**SELECT**  \n",
    "&ensp;&ensp;&ensp;&ensp;c.city_name,  \n",
    "&ensp;&ensp;&ensp;&ensp;c.population  \n",
    "**FROM**  \n",
    "&ensp;&ensp;&ensp;&ensp;sql.city c  \n",
    "**UNION ALL**  \n",
    "**SELECT**  \n",
    "&ensp;&ensp;&ensp;&ensp;'total',  \n",
    "&ensp;&ensp;&ensp;&ensp;**SUM**(c.population)  \n",
    "**FROM**  \n",
    "&ensp;&ensp;&ensp;&ensp;sql.city c  \n",
    "**ORDER BY** 2 **DESC**\n",
    "\n",
    "![](images/union_agr.jpg)\n",
    "\n",
    "Выполнив запрос, вы заметите, что сначала выведен итоговый результат с суммой населения всех городов в таблице, а затем по каждому городу в отдельности."
   ]
  },
  {
   "cell_type": "markdown",
   "metadata": {},
   "source": [
    "#### **Задание 4.1**"
   ]
  },
  {
   "cell_type": "markdown",
   "metadata": {},
   "source": [
    "Напишите запрос, который выводит общее число доставок total_shipments, а также количество доставок в каждый день. Необходимые столбцы: date_period, cnt_shipment. Не забывайте о единой типизации. Упорядочите по убыванию столбца date_period.  \n",
    "\n",
    "*Запрос:*\n",
    "\n",
    "**SELECT**  \n",
    "&ensp;&ensp;&ensp;&ensp;s.ship_date::text date_period,  \n",
    "&ensp;&ensp;&ensp;&ensp;**COUNT**(ship_id) cnt_shipment  \n",
    "**FROM** sql.shipment s  \n",
    "**GROUP BY** date_period  \n",
    "**UNION ALL**  \n",
    "**SELECT**  \n",
    "&ensp;&ensp;&ensp;&ensp;'total_shipments',  \n",
    "&ensp;&ensp;&ensp;&ensp;**COUNT**(s.ship_id)  \n",
    "**FROM** sql.shipment s  \n",
    "**ORDER BY** date_period **DESC**"
   ]
  },
  {
   "cell_type": "markdown",
   "metadata": {},
   "source": [
    "### <center>UNION и дополнительные условия<center>"
   ]
  },
  {
   "cell_type": "markdown",
   "metadata": {},
   "source": [
    "**UNION** также может быть использован для разделения существующей выборки по критерию «выполнение определённого условия».  \n",
    "Например, с помощью **UNION** можно отобразить, у кого из водителей заполнен столбец с номером телефона.\n",
    "\n",
    "**SELECT**  \n",
    "&ensp;&ensp;&ensp;&ensp;d.first_name,  \n",
    "&ensp;&ensp;&ensp;&ensp;d.last_name,  \n",
    "&ensp;&ensp;&ensp;&ensp;'телефон заполнен' phone_info  \n",
    "**FROM**  \n",
    "&ensp;&ensp;&ensp;&ensp;sql.driver d \n",
    "**WHERE** d.phone **IS NOT NULL**  \n",
    "**UNION**  \n",
    "**SELECT**  \n",
    "&ensp;&ensp;&ensp;&ensp;d.first_name,  \n",
    "&ensp;&ensp;&ensp;&ensp;d.last_name,  \n",
    "&ensp;&ensp;&ensp;&ensp;'телефон не заполнен' phone_info  \n",
    "**FROM**  \n",
    "&ensp;&ensp;&ensp;&ensp;sql.driver d  \n",
    "**WHERE** d.phone **IS NULL** "
   ]
  },
  {
   "cell_type": "markdown",
   "metadata": {},
   "source": [
    "#### **Задание 5.1**"
   ]
  },
  {
   "cell_type": "markdown",
   "metadata": {},
   "source": [
    "Напишите запрос, который выведет все города и штаты, в которых они расположены, а также информацию о том, была ли осуществлена доставка в этот город:\n",
    "\n",
    "* если в город была осуществлена доставка, то выводим 'доставка осуществлялась';\n",
    "* если нет — выводим 'доставка не осуществлялась'.  \n",
    "\n",
    "Столбцы к выводу: city_name, state, shipping_status. Отсортируйте в алфавитном порядке по городу, а затем — по штату.\n",
    "\n",
    "*Запрос:*\n",
    "\n",
    "**SELECT**  \n",
    "&ensp;&ensp;&ensp;&ensp;c.city_name city_name,  \n",
    "&ensp;&ensp;&ensp;&ensp;c.state state,  \n",
    "&ensp;&ensp;&ensp;&ensp;'доставка осуществлялась' shipping_status  \n",
    "**FROM**  \n",
    "&ensp;&ensp;&ensp;&ensp;sql.city c  \n",
    "&ensp;&ensp;&ensp;&ensp;**LEFT JOIN** sql.shipment s **ON** c.city_id = s.city_id  \n",
    "**GROUP BY** c.city_id  \n",
    "**HAVING COUNT**(s.ship_id) > 0  \n",
    "**UNION** \n",
    "**SELECT** \n",
    "&ensp;&ensp;&ensp;&ensp;c.city_name,  \n",
    "&ensp;&ensp;&ensp;&ensp;c.state state,  \n",
    "&ensp;&ensp;&ensp;&ensp;'доставка не осуществлялась'  \n",
    "**FROM**  \n",
    "&ensp;&ensp;&ensp;&ensp;sql.city c  \n",
    "&ensp;&ensp;&ensp;&ensp;**LEFT JOIN** sql.shipment s ON c.city_id = s.city_id    \n",
    "**GROUP BY** c.city_id    \n",
    "**HAVING COUNT**(s.ship_id) = 0  \n",
    "**ORDER BY** city_name, state"
   ]
  },
  {
   "cell_type": "markdown",
   "metadata": {},
   "source": [
    "#### **Задание 5.2**"
   ]
  },
  {
   "cell_type": "markdown",
   "metadata": {},
   "source": [
    "Напишите запрос, который выводит два столбца: city_name и shippings_fake. Выведите города, куда совершались доставки. Пусть первый столбец содержит название города, а второй формируется так:\n",
    "\n",
    "* если в городе было более десяти доставок, вывести количество доставок в этот город как есть;\n",
    "* иначе — вывести количество доставок, увеличенное на пять.  \n",
    "\n",
    "Отсортируйте по убыванию получившегося «нечестного» количества доставок, а затем — по имени в алфавитном порядке.\n",
    "\n",
    "*Запрос:*\n",
    "\n",
    "**SELECT**  \n",
    "&ensp;&ensp;&ensp;&ensp;c.city_name city_name,  \n",
    "&ensp;&ensp;&ensp;&ensp;COUNT(s.ship_id) shipping_fake  \n",
    "**FROM**  \n",
    "&ensp;&ensp;&ensp;&ensp;sql.city c  \n",
    "&ensp;&ensp;&ensp;&ensp;**LEFT JOIN** sql.shipment s **ON** c.city_id = s.city_id  \n",
    "**GROUP BY** c.city_id  \n",
    "**HAVING COUNT**(s.ship_id) > 10  \n",
    "**UNION**  \n",
    "**SELECT**  \n",
    "&ensp;&ensp;&ensp;&ensp;c.city_name,  \n",
    "&ensp;&ensp;&ensp;&ensp;**COUNT**(s.ship_id) + 5  \n",
    "**FROM**  \n",
    "&ensp;&ensp;&ensp;&ensp;sql.city c   \n",
    "&ensp;&ensp;&ensp;&ensp;**LEFT JOIN** sql.shipment s **ON** c.city_id = s.city_id   \n",
    "**GROUP BY** c.city_id     \n",
    "**HAVING COUNT**(s.ship_id) **BETWEEN** 1 and 10  \n",
    "**ORDER BY** shipping_fake **DESC**, city_name"
   ]
  },
  {
   "cell_type": "markdown",
   "metadata": {},
   "source": [
    "### <center>UNION и ручная генерация<center>"
   ]
  },
  {
   "cell_type": "markdown",
   "metadata": {},
   "source": [
    "**UNION** можно использовать для создания справочников прямо в коде запроса. К примеру, если мы хотим вручную ввести какие-то значения и произвести с ними некоторые манипуляции или дополнить существующую выдачу своими значениями.  \n",
    "Составим запрос, который позволит вывести первые три буквы алфавита и их порядковые номера.  \n",
    "\n",
    "*Запрос:*\n",
    "\n",
    "**SELECT**   \n",
    "&ensp;&ensp;&ensp;&ensp;'a' letter,'1' ordinal_position  \n",
    "**UNION**   \n",
    "**SELECT**  \n",
    "&ensp;&ensp;&ensp;&ensp;'b','2'  \n",
    "**UNION**  \n",
    "**SELECT**  \n",
    "&ensp;&ensp;&ensp;&ensp;'c','3'  \n",
    "\n",
    "Существуют сложные алгоритмы сравнения текстовых значений, но главный смысл сводится к одному: сравнение производится на основе таблицы unicode и позиции элемента в ней с учётом определённых условий."
   ]
  },
  {
   "cell_type": "markdown",
   "metadata": {},
   "source": [
    "#### **Задание 6.1**"
   ]
  },
  {
   "cell_type": "markdown",
   "metadata": {},
   "source": [
    "Напишите запрос, который выберет наибольшее из значений:\n",
    "\n",
    "* 1000000;  \n",
    "* 541;  \n",
    "* -500;  \n",
    "* 100.  \n",
    "\n",
    "Столбец с результатом назовите result.\n",
    "\n",
    "*Запрос:*\n",
    "\n",
    "**SELECT**  \n",
    "&ensp;&ensp;&ensp;&ensp;1000000 result   \n",
    "**UNION**  \n",
    "**SELECT**  \n",
    "&ensp;&ensp;&ensp;&ensp;541  \n",
    "**UNION**  \n",
    "**SELECT**  \n",
    "&ensp;&ensp;&ensp;&ensp;-500  \n",
    "**UNION**  \n",
    "**SELECT**  \n",
    "&ensp;&ensp;&ensp;&ensp;100  \n",
    "**ORDER BY** result **DESC**  \n",
    "**LIMIT** 1\n",
    "\n",
    "1000000"
   ]
  },
  {
   "cell_type": "markdown",
   "metadata": {},
   "source": [
    "#### **Задание 6.2**"
   ]
  },
  {
   "cell_type": "markdown",
   "metadata": {},
   "source": [
    "Помним, что сортировка для числовых и строковых типов данных отличается. Построив запрос по аналогии с примером, приведите значения к текстовому типу данных, сравните и выберите наибольшее из них:\n",
    "\n",
    "* 1000000;\n",
    "* 541;\n",
    "* -500;\n",
    "* 100.  \n",
    "\n",
    "Столбец с ответом назовите mycol\n",
    "\n",
    "*Запрос:*\n",
    "\n",
    "**SELECT**  \n",
    "&ensp;&ensp;&ensp;&ensp;1000000::text mycol  \n",
    "**UNION**  \n",
    "**SELECT**  \n",
    "&ensp;&ensp;&ensp;&ensp;541::text  \n",
    "**UNION**  \n",
    "**SELECT**  \n",
    "&ensp;&ensp;&ensp;&ensp;(-500)::text  \n",
    "**UNION**  \n",
    "**SELECT**  \n",
    "&ensp;&ensp;&ensp;&ensp;100::text    \n",
    "**ORDER BY** mycol **DESC**  \n",
    "**LIMIT** 1\n",
    "\n",
    "541"
   ]
  },
  {
   "cell_type": "markdown",
   "metadata": {},
   "source": [
    "#### **Задание 6.3**"
   ]
  },
  {
   "cell_type": "markdown",
   "metadata": {},
   "source": [
    "Построив запрос по аналогии с примером, найдите самое большое значение из перечисленных операторов:\n",
    "\n",
    "* '+' ;  \n",
    "* '-' ;  \n",
    "* '=' ;  \n",
    "* '/' .\n",
    "\n",
    "Столбец с ответом назовите result.\n",
    "\n",
    "*Запрос:*\n",
    "\n",
    "**SELECT**  \n",
    "&ensp;&ensp;&ensp;&ensp;'+' result  \n",
    "**UNION**  \n",
    "**SELECT**  \n",
    "&ensp;&ensp;&ensp;&ensp;'-'  \n",
    "**UNION**  \n",
    "**SELECT**  \n",
    "&ensp;&ensp;&ensp;&ensp;'='  \n",
    "**UNION**  \n",
    "**SELECT**  \n",
    "&ensp;&ensp;&ensp;&ensp;'/'  \n",
    "**ORDER BY** result **DESC**  \n",
    "**LIMIT** 1\n",
    "\n",
    "'+'\n",
    "\n"
   ]
  },
  {
   "cell_type": "markdown",
   "metadata": {},
   "source": [
    "### <center>Исключение повторяющихся данных<center>"
   ]
  },
  {
   "cell_type": "markdown",
   "metadata": {},
   "source": [
    "Предположим, нам нужно узнать, в какие города осуществлялась доставка, **за исключением** тех, в которых проживают водители.\n",
    "\n",
    "*Запрос:*\n",
    "\n",
    "**SELECT**  \n",
    "&ensp;&ensp;&ensp;&ensp;c.city_name  \n",
    "**FROM**  \n",
    "&ensp;&ensp;&ensp;&ensp;sql.shipment s  \n",
    "&ensp;&ensp;&ensp;&ensp;**JOIN** sql.city c **ON** s.city_id = c.city_id  \n",
    "**EXCEPT**  \n",
    "**SELECT**  \n",
    "&ensp;&ensp;&ensp;&ensp;cc.city_name  \n",
    "**FROM**  \n",
    "&ensp;&ensp;&ensp;&ensp;sql.driver d  \n",
    "&ensp;&ensp;&ensp;&ensp;**JOIN** sql.city cc **ON** d.city_id=cc.city_id  \n",
    "**ORDER BY** 1\n",
    "\n",
    "Как вы, должно быть, заметили, для решения этой задачи мы использовали оператор **EXCEPT**. Чтобы лучше понять данный тип присоединения, предлагаем ознакомиться с **диаграммой Венна** — математическим инструментом, представляющим возможные логические связи между соединёнными наборами данных.  \n",
    "\n",
    "![](images/except.jpg)\n",
    "\n",
    "Синтаксические правила для оператора EXCEPT такие же, как и для UNION:\n",
    "\n",
    "одинаковый тип данных;\n",
    "одинаковое количество столбцов;\n",
    "одинаковый порядок столбцов согласно типу данных.\n",
    "Синтаксис выглядит следующим образом:\n",
    "\n",
    "**SELECT**  \n",
    "&ensp;&ensp;&ensp;&ensp;n columns  \n",
    "**FROM**  \n",
    "&ensp;&ensp;&ensp;&ensp;table_1  \n",
    "**EXCEPT**  \n",
    "**SELECT**  \n",
    "&ensp;&ensp;&ensp;&ensp;n columns  \n",
    "**FROM**\n",
    "&ensp;&ensp;&ensp;&ensp;table_2   \n",
    "\n",
    "Мы уже знаем, как решить такую задачу с использованием LEFT JOIN. Вариант с EXCEPT будет полезен в тех случаях, когда у вас много столбцов и вам не хочется прописывать их равенство в условии для JOIN."
   ]
  },
  {
   "cell_type": "markdown",
   "metadata": {},
   "source": [
    "#### **Задание 7.1**"
   ]
  },
  {
   "cell_type": "markdown",
   "metadata": {},
   "source": [
    "Выведите список zip-кодов, которые есть в таблице sql.driver, но отсутствуют в таблице sql.customer. Отсортируйте по возрастанию, столбец к выводу — zip. В поле ниже введите запрос, с помощью которого вы решили эту задачу.\n",
    "\n",
    "*Запрос:*\n",
    "\n",
    "**SELECT**  \n",
    "&ensp;&ensp;&ensp;&ensp;d.zip_code zip  \n",
    "**FROM**  \n",
    "&ensp;&ensp;&ensp;&ensp;sql.driver d  \n",
    "**EXCEPT**  \n",
    "**SELECT**  \n",
    "&ensp;&ensp;&ensp;&ensp;c.zip  \n",
    "**FROM**  \n",
    "&ensp;&ensp;&ensp;&ensp;sql.customer c  \n",
    "**ORDER BY** zip"
   ]
  },
  {
   "cell_type": "markdown",
   "metadata": {},
   "source": [
    "### <center>Выборка общих данных из нескольких таблиц<center>"
   ]
  },
  {
   "cell_type": "markdown",
   "metadata": {},
   "source": [
    "А что если нам надо вывести общие записи — те, что существуют в нескольких таблицах?  Предположим, нам надо вывести совпадающие по названию города и штаты.\n",
    "\n",
    "**SELECT**  \n",
    "&ensp;&ensp;&ensp;&ensp;c.city_name object_name  \n",
    "**FROM**            \n",
    "&ensp;&ensp;&ensp;&ensp;sql.city c  \n",
    "**INTERSECT**  \n",
    "**SELECT**    \n",
    "&ensp;&ensp;&ensp;&ensp;cc.state   \n",
    "**FROM**            \n",
    "&ensp;&ensp;&ensp;&ensp;sql.city cc   \n",
    "**ORDER BY** 1  \n",
    "\n",
    "Чтобы лучше понять, как работает этот оператор, вновь обратимся к **диаграмме Венна**: INTERSECT оставляет из результатов первого запроса все строки, которые совпали с результатом выполнения второго запроса.  \n",
    "\n",
    "![](images/intersect.jpg)\n",
    "\n",
    "Синтаксис запроса с оператором INTERSECT выглядит следующим образом:\n",
    "\n",
    "**SELECT**  \n",
    "&ensp;&ensp;&ensp;&ensp;n columns  \n",
    "**FROM**  \n",
    "&ensp;&ensp;&ensp;&ensp;table_1   \n",
    "**INTERSECT**  \n",
    "**SELECT**  \n",
    "&ensp;&ensp;&ensp;&ensp;n columns  \n",
    "**FROM**   \n",
    "&ensp;&ensp;&ensp;&ensp;table_2  "
   ]
  },
  {
   "cell_type": "markdown",
   "metadata": {},
   "source": [
    "#### **Задание 8.1**"
   ]
  },
  {
   "cell_type": "markdown",
   "metadata": {},
   "source": [
    "Напишите запрос, который выведет список id городов, в которых есть и клиенты, и доставки, и водители.\n",
    "\n",
    "*Запрос:*\n",
    "\n",
    "**SELECT**  \n",
    "&ensp;&ensp;&ensp;&ensp;c.city_id id  \n",
    "**FROM**  \n",
    "&ensp;&ensp;&ensp;&ensp;sql.city c  \n",
    "**INTERSECT**  \n",
    "**SELECT**  \n",
    "&ensp;&ensp;&ensp;&ensp;cs.city_id \n",
    "**FROM**  \n",
    "&ensp;&ensp;&ensp;&ensp;sql.customer cs  \n",
    "**INTERSECT**  \n",
    "**SELECT**  \n",
    "&ensp;&ensp;&ensp;&ensp;s.city_id  \n",
    "**FROM**  \n",
    "&ensp;&ensp;&ensp;&ensp;sql.shipment s  \n",
    "**INTERSECT**  \n",
    "**SELECT**  \n",
    "&ensp;&ensp;&ensp;&ensp;d.city_id  \n",
    "**FROM**  \n",
    "&ensp;&ensp;&ensp;&ensp;sql.driver d"
   ]
  },
  {
   "cell_type": "markdown",
   "metadata": {},
   "source": [
    "#### **Задание 8.2**"
   ]
  },
  {
   "cell_type": "markdown",
   "metadata": {},
   "source": [
    "Выведите zip-код, который есть как в таблице с клиентами, так и в таблице с водителями.\n",
    "\n",
    "*Запрос:*\n",
    "\n",
    "**SELECT**  \n",
    "&ensp;&ensp;&ensp;&ensp;cs.zip zip_code  \n",
    "**FROM**  \n",
    "&ensp;&ensp;&ensp;&ensp;sql.customer cs  \n",
    "**INTERSECT**  \n",
    "**SELECT**  \n",
    "&ensp;&ensp;&ensp;&ensp;d.zip_code  \n",
    "**FROM**  \n",
    "&ensp;&ensp;&ensp;&ensp;sql.driver d"
   ]
  },
  {
   "cell_type": "markdown",
   "metadata": {},
   "source": [
    "### <center>Итоговые задания<center>"
   ]
  },
  {
   "cell_type": "markdown",
   "metadata": {},
   "source": [
    "#### **Задание 9.1**"
   ]
  },
  {
   "cell_type": "markdown",
   "metadata": {},
   "source": [
    "Выведите города с максимальным и минимальным весом единичной доставки. Столбцы к выводу — city_name, weight.\n",
    "\n",
    "*Запрос:*\n",
    "\n",
    "(**SELECT**  \n",
    "&ensp;&ensp;&ensp;&ensp;c.city_name city_name,  \n",
    "&ensp;&ensp;&ensp;&ensp;**MAX**(s.weight) weight  \n",
    "**FROM**  \n",
    "&ensp;&ensp;&ensp;&ensp;sql.city c   \n",
    "&ensp;&ensp;&ensp;&ensp;**JOIN** sql.shipment s **ON** c.city_id = s.city_id  \n",
    "**GROUP BY** c.city_id  \n",
    "**ORDER BY** weight **DESC**  \n",
    "**LIMIT** 1)  \n",
    "**UNION**  \n",
    "(**SELECT**  \n",
    "&ensp;&ensp;&ensp;&ensp;c.city_name city_name,  \n",
    "&ensp;&ensp;&ensp;&ensp;**MIN**(s.weight) weight  \n",
    "**FROM**  \n",
    "&ensp;&ensp;&ensp;&ensp;sql.city c  \n",
    "&ensp;&ensp;&ensp;&ensp;**JOIN** sql.shipment s **ON** c.city_id = s.city_id  \n",
    "**GROUP BY** c.city_id  \n",
    "**ORDER BY** weight  \n",
    "**LIMIT** 1)\n",
    "\n",
    "\n",
    "city_name &ensp;weight  \n",
    "Green Bay&ensp;&ensp;85,581  \n",
    "Saginaw&ensp;&ensp;&ensp;&ensp;477"
   ]
  },
  {
   "cell_type": "markdown",
   "metadata": {},
   "source": [
    "#### **Задание 9.2**"
   ]
  },
  {
   "cell_type": "markdown",
   "metadata": {},
   "source": [
    "Выведите идентификационные номера клиентов (cust_id), которые совпадают с идентификационными номерами доставок (ship_id). Столбец к выводу — mutual_id. Отсортируйте по возрастанию.\n",
    "\n",
    "*Запрос:*\n",
    "\n",
    "**SELECT**  \n",
    "&ensp;&ensp;&ensp;&ensp;cs.cust_id mutual_id  \n",
    "**FROM**  \n",
    "&ensp;&ensp;&ensp;&ensp;sql.customer cs,  \n",
    "&ensp;&ensp;&ensp;&ensp;sql.shipment s  \n",
    "**WHERE** cs.cust_id = s.ship_id  \n",
    "**ORDER BY** mutual_id"
   ]
  },
  {
   "cell_type": "markdown",
   "metadata": {},
   "source": [
    "#### **Задание 9.3**"
   ]
  },
  {
   "cell_type": "markdown",
   "metadata": {},
   "source": [
    "Создайте справочник, содержащий уникальные имена клиентов, которые являются производителями (cust_type='manufacturer'), и производителей грузовиков, а также описание объекта — 'КЛИЕНТ' или 'ГРУЗОВИК'. Столбцы к выводу — object_name, object_description. Отсортируйте по названию в алфавитном порядке.\n",
    "\n",
    "*Запрос:*\n",
    "\n",
    "**SELECT**  \n",
    "&ensp;&ensp;&ensp;&ensp;cs.cust_name object_name,  \n",
    "&ensp;&ensp;&ensp;&ensp;'КЛИЕНТ' object_description  \n",
    "**FROM** sql.customer cs  \n",
    "**WHERE** cs.cust_type='manufacturer'  \n",
    "**UNION**  \n",
    "**SELECT**  \n",
    "&ensp;&ensp;&ensp;&ensp;t.make,  \n",
    "&ensp;&ensp;&ensp;&ensp;'ГРУЗОВИК'  \n",
    "**FROM** sql.truck t  \n",
    "**ORDER BY** object_name  "
   ]
  }
 ],
 "metadata": {
  "kernelspec": {
   "display_name": "Python 3.7.6 64-bit",
   "language": "python",
   "name": "python3"
  },
  "language_info": {
   "name": "python",
   "version": "3.7.6"
  },
  "orig_nbformat": 4,
  "vscode": {
   "interpreter": {
    "hash": "094479cf5e9d091b9dd22e3ee71edd94f1b69fd44b150db46cc29ddd6768aa2e"
   }
  }
 },
 "nbformat": 4,
 "nbformat_minor": 2
}
