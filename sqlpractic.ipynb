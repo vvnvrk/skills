{
 "cells": [
  {
   "cell_type": "markdown",
   "metadata": {},
   "source": [
    "# <center>SQL: практические задания<center>"
   ]
  },
  {
   "cell_type": "markdown",
   "metadata": {},
   "source": [
    "## <center>1. Библиотека<center>"
   ]
  },
  {
   "cell_type": "markdown",
   "metadata": {},
   "source": [
    "![](images/biblio.jpg)"
   ]
  },
  {
   "cell_type": "markdown",
   "metadata": {},
   "source": [
    "#### **Задание 09-1**"
   ]
  },
  {
   "cell_type": "markdown",
   "metadata": {},
   "source": [
    "Составьте список книжных новинок. Новинками считаются все книги за последние пять лет. Необходимые данные:\n",
    "\n",
    "* название книги;\n",
    "* год издания;\n",
    "* автор;\n",
    "* жанр.\n",
    "\n",
    "Вывод отсортируйте по названиям книг. Примечание. При решении задачи текущим следует считать 2021 год."
   ]
  },
  {
   "cell_type": "markdown",
   "metadata": {},
   "source": [
    "**SELECT**  \n",
    "&ensp;&ensp;&ensp;&ensp;b.book_name \"название книги\",  \n",
    "&ensp;&ensp;&ensp;&ensp;b.publishing_year \"год издания\",  \n",
    "&ensp;&ensp;&ensp;&ensp;b.author \"автор\",  \n",
    "&ensp;&ensp;&ensp;&ensp;b.genre \"жанр\"  \n",
    "**FROM** other.books b  \n",
    "**WHERE** b.publishing_year >= 2016"
   ]
  },
  {
   "cell_type": "markdown",
   "metadata": {},
   "source": [
    "#### **Задание 09-2**"
   ]
  },
  {
   "cell_type": "markdown",
   "metadata": {},
   "source": [
    "Отфильтруйте запрос из предыдущего задания так, чтобы остались только те книги, у которых есть название."
   ]
  },
  {
   "cell_type": "markdown",
   "metadata": {},
   "source": [
    "**SELECT**  \n",
    "&ensp;&ensp;&ensp;&ensp;b.book_name \"название книги\",  \n",
    "&ensp;&ensp;&ensp;&ensp;b.publishing_year \"год издания\",  \n",
    "&ensp;&ensp;&ensp;&ensp;b.author \"автор\",  \n",
    "&ensp;&ensp;&ensp;&ensp;b.genre \"жанр\"  \n",
    "**FROM** other.books b  \n",
    "**WHERE**   \n",
    "&ensp;&ensp;&ensp;&ensp;b.publishing_year >= 2016  \n",
    "&ensp;&ensp;&ensp;&ensp;**AND** b.book_name **IS NOT NULL**"
   ]
  },
  {
   "cell_type": "markdown",
   "metadata": {},
   "source": [
    "#### **Задание 09-3**"
   ]
  },
  {
   "cell_type": "markdown",
   "metadata": {},
   "source": [
    "Выберите значения рейтинга авторов, имеющиеся в нашей базе. Отсортируйте вывод по алфавиту."
   ]
  },
  {
   "cell_type": "markdown",
   "metadata": {},
   "source": [
    "**SELECT**  \n",
    "&ensp;&ensp;&ensp;&ensp;**DISTINCT** b.author_rating  \n",
    "**FROM** other.books b  \n",
    "**ORDER BY** 1\n"
   ]
  },
  {
   "cell_type": "markdown",
   "metadata": {},
   "source": [
    "#### **Задание 09-4**"
   ]
  },
  {
   "cell_type": "markdown",
   "metadata": {},
   "source": [
    "Возьмём для рекламного буклета только книги отличных авторов! Оставьте в выборке новых книг только авторов с рейтингом 'Excellent'."
   ]
  },
  {
   "cell_type": "markdown",
   "metadata": {},
   "source": [
    "**SELECT**  \n",
    "&ensp;&ensp;&ensp;&ensp;b.book_name \"название книги\",  \n",
    "&ensp;&ensp;&ensp;&ensp;b.publishing_year \"год издания\",  \n",
    "&ensp;&ensp;&ensp;&ensp;b.author \"автор\",  \n",
    "&ensp;&ensp;&ensp;&ensp;b.genre \"жанр\"  \n",
    "**FROM** other.books b  \n",
    "**WHERE**   \n",
    "&ensp;&ensp;&ensp;&ensp;b.publishing_year >= 2016  \n",
    "&ensp;&ensp;&ensp;&ensp;**AND** b.book_name **IS NOT NULL**  \n",
    "&ensp;&ensp;&ensp;&ensp;**AND** b.author_rating = 'Excellent'"
   ]
  },
  {
   "cell_type": "markdown",
   "metadata": {},
   "source": [
    "#### **Задание 09-5**"
   ]
  },
  {
   "cell_type": "markdown",
   "metadata": {},
   "source": [
    "Добавьте в имеющуюся выборку известных авторов (со значением рейтинга 'Famous')."
   ]
  },
  {
   "cell_type": "markdown",
   "metadata": {},
   "source": [
    "**SELECT**  \n",
    "&ensp;&ensp;&ensp;&ensp;b.book_name \"название книги\",  \n",
    "&ensp;&ensp;&ensp;&ensp;b.publishing_year \"год издания\",  \n",
    "&ensp;&ensp;&ensp;&ensp;b.author \"автор\",  \n",
    "&ensp;&ensp;&ensp;&ensp;b.genre \"жанр\"  \n",
    "**FROM** other.books b  \n",
    "**WHERE**   \n",
    "&ensp;&ensp;&ensp;&ensp;b.publishing_year >= 2016  \n",
    "&ensp;&ensp;&ensp;&ensp;**AND** b.book_name **IS NOT NULL**  \n",
    "&ensp;&ensp;&ensp;&ensp;**AND** (b.author_rating = 'Excellent'  \n",
    "&ensp;&ensp;&ensp;&ensp;OR b.author_rating = 'Famous')"
   ]
  },
  {
   "cell_type": "markdown",
   "metadata": {},
   "source": [
    "#### **Задание 09-6**"
   ]
  },
  {
   "cell_type": "markdown",
   "metadata": {},
   "source": [
    "Определите, сколько книг из выборки для рекламы попадает в каждую категорию рейтинга автора. Нам понадобятся следующие данные:\n",
    "\n",
    "* рейтинг автора (author_rating);\n",
    "* количество книг (cnt).\n",
    "\n",
    "Сортировка, как всегда, по алфавиту. Примечание. Пока можете просто закомментировать с помощью -- лишний фильтр по рейтингам и лишние колонки."
   ]
  },
  {
   "cell_type": "markdown",
   "metadata": {},
   "source": [
    "**SELECT**  \n",
    "&ensp;&ensp;&ensp;&ensp;b.author_rating \"рейтинг автора\",  \n",
    "&ensp;&ensp;&ensp;&ensp;**COUNT**(b.author) \"количество книг\"  \n",
    "**FROM** other.books b  \n",
    "**WHERE**  \n",
    "&ensp;&ensp;&ensp;&ensp;b.publishing_year >= 2016\n",
    "&ensp;&ensp;&ensp;&ensp;**AND** b.book_name **IS NOT NULL**  \n",
    "**GROUP BY** 1  \n",
    "**ORDER BY** 1"
   ]
  },
  {
   "cell_type": "markdown",
   "metadata": {},
   "source": [
    "#### **Задание09-7**"
   ]
  },
  {
   "cell_type": "markdown",
   "metadata": {},
   "source": [
    "Выбираем книги с рейтингом автора отличный (*Excellent*), известный (*Famous*) и новый (*Novice*). И в конце добавим строку об общем количестве книг. В выборке нас по-прежнему интересуют\n",
    "\n",
    "* название книги,\n",
    "* год издания,\n",
    "* автор,\n",
    "* жанр."
   ]
  },
  {
   "cell_type": "markdown",
   "metadata": {},
   "source": [
    "**WITH** temp **AS**  \n",
    "&ensp;&ensp;&ensp;&ensp;(**SELECT**  \n",
    "&ensp;&ensp;&ensp;&ensp;&ensp;&ensp;&ensp;&ensp;b.book_name,  \n",
    "&ensp;&ensp;&ensp;&ensp;&ensp;&ensp;&ensp;&ensp;b.publishing_year,  \n",
    "&ensp;&ensp;&ensp;&ensp;&ensp;&ensp;&ensp;&ensp;b.author,  \n",
    "&ensp;&ensp;&ensp;&ensp;&ensp;&ensp;&ensp;&ensp;b.genre  \n",
    "&ensp;&ensp;&ensp;&ensp;**FROM** other.books b  \n",
    "&ensp;&ensp;&ensp;&ensp;**WHERE**   \n",
    "&ensp;&ensp;&ensp;&ensp;&ensp;&ensp;&ensp;&ensp;b.publishing_year >= 2016  \n",
    "&ensp;&ensp;&ensp;&ensp;&ensp;&ensp;&ensp;&ensp;**AND** b.book_name **IS NOT NULL**  \n",
    "&ensp;&ensp;&ensp;&ensp;&ensp;&ensp;&ensp;&ensp;**AND** (b.author_rating = 'Excellent'  \n",
    "&ensp;&ensp;&ensp;&ensp;&ensp;&ensp;&ensp;&ensp;**OR** b.author_rating = 'Famous'  \n",
    "&ensp;&ensp;&ensp;&ensp;&ensp;&ensp;&ensp;&ensp;**OR** b.author_rating = 'Novice')  \n",
    "&ensp;&ensp;&ensp;&ensp;**ORDER BY** 1)\n",
    "    \n",
    "**SELECT**  \n",
    "**FROM**temp  \n",
    "**UNION ALL**  \n",
    "**SELECT**  \n",
    "&ensp;&ensp;&ensp;&ensp;'Total',  \n",
    "&ensp;&ensp;&ensp;&ensp;**COUNT**(temp.book_name),  \n",
    "&ensp;&ensp;&ensp;&ensp;**NULL**,  \n",
    "&ensp;&ensp;&ensp;&ensp;**NULL**  \n",
    "**FROM** tem"
   ]
  },
  {
   "cell_type": "markdown",
   "metadata": {},
   "source": [
    "#### **Задание 09-8**"
   ]
  },
  {
   "cell_type": "markdown",
   "metadata": {},
   "source": [
    "Для начала выберите всю информацию о заказах книг, выпущенных не более 10 лет назад. Отсортируйте заказы по дате в обратном порядке."
   ]
  },
  {
   "cell_type": "markdown",
   "metadata": {},
   "source": [
    "**SELECT** *  \n",
    "**FROM**  \n",
    "&ensp;&ensp;&ensp;&ensp;other.book_orders bo  \n",
    "&ensp;&ensp;&ensp;&ensp;**LEFT JOIN** other.books b ON b.book_id = bo.book_id  \n",
    "**WHERE** b.publishing_year >= 2011  \n",
    "**ORDER BY** bo.order_date **DESC**"
   ]
  },
  {
   "cell_type": "markdown",
   "metadata": {},
   "source": [
    "#### **Задание 09-9**"
   ]
  },
  {
   "cell_type": "markdown",
   "metadata": {},
   "source": [
    "Теперь оставим в выборке только заказы от 2019 года и позднее."
   ]
  },
  {
   "cell_type": "markdown",
   "metadata": {},
   "source": [
    "**SELECT** *  \n",
    "**FROM**  \n",
    "&ensp;&ensp;&ensp;&ensp;other.book_orders bo  \n",
    "&ensp;&ensp;&ensp;&ensp;**LEFT JOIN** other.books b ON b.book_id = bo.book_id  \n",
    "**WHERE**  \n",
    "&ensp;&ensp;&ensp;&ensp;b.publishing_year >= 2011  \n",
    "&ensp;&ensp;&ensp;&ensp;**AND EXTRACT**(**YEAR FROM** bo.order_date) >= 2019  \n",
    "**ORDER BY** bo.order_date **DESC**"
   ]
  }
 ],
 "metadata": {
  "kernelspec": {
   "display_name": "Python 3.7.6 64-bit",
   "language": "python",
   "name": "python3"
  },
  "language_info": {
   "name": "python",
   "version": "3.7.6"
  },
  "orig_nbformat": 4,
  "vscode": {
   "interpreter": {
    "hash": "094479cf5e9d091b9dd22e3ee71edd94f1b69fd44b150db46cc29ddd6768aa2e"
   }
  }
 },
 "nbformat": 4,
 "nbformat_minor": 2
}
