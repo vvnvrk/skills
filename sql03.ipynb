{
 "cells": [
  {
   "cell_type": "markdown",
   "metadata": {},
   "source": [
    "## <center>Соединения таблиц<center>"
   ]
  },
  {
   "cell_type": "markdown",
   "metadata": {},
   "source": [
    "### <center>Знакомимся с данными<center>"
   ]
  },
  {
   "cell_type": "markdown",
   "metadata": {},
   "source": [
    "Сколько различных полных названий команд в таблице teams?\n",
    "\n",
    "*Запрос:*\n",
    "\n",
    "**SELECT COUNT**(**DISTINCT** long_name)  \n",
    "**FROM** sql.teams  \n",
    "\n",
    "296"
   ]
  },
  {
   "cell_type": "markdown",
   "metadata": {},
   "source": [
    "Сколько в таблице teams команд с коротким названием VAL?\n",
    "\n",
    "*Запрос:*\n",
    "\n",
    "**SELECT COUNT**(short_name)  \n",
    "**FROM** sql.teams  \n",
    "**WHERE** short_name = 'VAL'  \n",
    "\n",
    "3"
   ]
  },
  {
   "cell_type": "markdown",
   "metadata": {},
   "source": [
    "Информацию о скольких матчах содержит таблица matches?\n",
    "\n",
    "*Запрос:*\n",
    "\n",
    "**SELECT COUNT**(*)  \n",
    "**FROM** sql.matches\n",
    "\n",
    "25083"
   ]
  },
  {
   "cell_type": "markdown",
   "metadata": {},
   "source": [
    "Данные за какие сезоны даны в таблице matches?\n",
    "\n",
    "*Запрос:*\n",
    "\n",
    "**SELECT** season  \n",
    "**FROM** sql.matches  \n",
    "**ORDER BY** season  \n",
    "\n",
    "2008/2009\n",
    "\n",
    "**SELECT** season  \n",
    "**FROM** sql.matches  \n",
    "**ORDER BY** season **DESC**\n",
    "\n",
    "2015/2016"
   ]
  },
  {
   "cell_type": "markdown",
   "metadata": {},
   "source": [
    "Напишите запрос, который выведет сезон (season), а также общее количество забитых мячей домашними (total_home_goals) и гостевыми (total_away_goals) командами. Отсортируйте по столбцу с сезоном в порядке возрастания.\n",
    "\n",
    "*Запрос:*\n",
    "\n",
    "**SELECT**  \n",
    "&ensp;&ensp;&ensp;&ensp;season,  \n",
    "&ensp;&ensp;&ensp;&ensp;**SUM**(home_team_goals) **AS** total_home_goals,  \n",
    "&ensp;&ensp;&ensp;&ensp;**SUM**(away_team_goals) **AS** total_away_goals  \n",
    "**FROM** sql.matches  \n",
    "**GROUP BY** season  \n",
    "**ORDER BY** season"
   ]
  },
  {
   "cell_type": "markdown",
   "metadata": {},
   "source": [
    "### <center>Соединение таблиц по ключу<center>"
   ]
  },
  {
   "cell_type": "markdown",
   "metadata": {},
   "source": [
    "Чтобы соединить две таблицы между собой, достаточно записать названия таблиц через запятую в разделе from.\n",
    "\n",
    "*Запрос:*\n",
    "\n",
    "**SELECT** *  \n",
    "**FROM**  \n",
    "&ensp;&ensp;&ensp;&ensp;sql.teams,  \n",
    "&ensp;&ensp;&ensp;&ensp;sql.matches\n",
    "\n",
    "Каждая запись, которая есть в таблице teams, будет соединена с каждой записью в таблице matches.\n",
    "Это действие также называют декартовым произведением таблиц.\n",
    "\n",
    "![](images/decart.png)  \n",
    "\n",
    "В данном случае соединение таблиц не даёт практической пользы: мы получили очень много записей, которые никак не можем интерпретировать, потому что команды не соответствуют матчам."
   ]
  },
  {
   "cell_type": "markdown",
   "metadata": {},
   "source": [
    "Напишите запрос, который выведет количество строк соединённой таблицы.\n",
    "\n",
    "*Запрос:*\n",
    "\n",
    "**SELECT COUNT**(*)  \n",
    "**FROM**  \n",
    "&ensp;&ensp;&ensp;&ensp;sql.teams,  \n",
    "&ensp;&ensp;&ensp;&ensp;sql.matches  \n",
    "\n",
    "7499817    "
   ]
  },
  {
   "cell_type": "markdown",
   "metadata": {},
   "source": [
    "**Ключ** — это поле (столбец) в таблице, которое позволяет однозначно идентифицировать запись (строку).  \n",
    "Чтобы соединить таблицы и получить данные о домашней команде по каждому матчу, добавим условие\n",
    "where home_team_api_id = api_id.\n",
    "\n",
    "*Запрос:*\n",
    "\n",
    "**SELECT** *  \n",
    "**FROM**  \n",
    "&ensp;&ensp;&ensp;&ensp;sql.teams,  \n",
    "&ensp;&ensp;&ensp;&ensp;sql.matches  \n",
    "**WHERE** home_team_api_id = api_id"
   ]
  },
  {
   "cell_type": "markdown",
   "metadata": {},
   "source": [
    "Напишите запрос, который выведет таблицу с результатами матчей для гостевых команд, содержащую:\n",
    "\n",
    "* названия гостевых команд (long_name),  \n",
    "* количество забитых мячей домашней команды (home_team_goals),  \n",
    "* количество забитых мячей гостевой команды (away_team_goals).  \n",
    "\n",
    "*Запрос:*\n",
    "\n",
    "**SELECT**  \n",
    "&ensp;&ensp;&ensp;&ensp;long_name,  \n",
    "&ensp;&ensp;&ensp;&ensp;home_team_goals,  \n",
    "&ensp;&ensp;&ensp;&ensp;away_team_goals  \n",
    "**FROM**  \n",
    "&ensp;&ensp;&ensp;&ensp;sql.teams,  \n",
    "&ensp;&ensp;&ensp;&ensp;sql.matches  \n",
    "**WHERE** away_team_api_id = api_id"
   ]
  },
  {
   "cell_type": "markdown",
   "metadata": {},
   "source": [
    "### <center>Соединение таблиц по условию<center>"
   ]
  },
  {
   "cell_type": "markdown",
   "metadata": {},
   "source": [
    "JOIN — это оператор SQL, который позволяет соединять таблицы по условию.\n",
    "\n",
    "*Запрос:*\n",
    "\n",
    "**SELECT**  \n",
    "&ensp;&ensp;&ensp;&ensp;long_name,  \n",
    "&ensp;&ensp;&ensp;&ensp;home_team_goals,  \n",
    "&ensp;&ensp;&ensp;&ensp;away_team_goals  \n",
    "**FROM** sql.teams  \n",
    "**JOIN** sql.matches on home_team_api_id = api_id"
   ]
  },
  {
   "cell_type": "markdown",
   "metadata": {},
   "source": [
    "Выполните данный запрос\n",
    "\n",
    "**SELECT** *  \n",
    "**FROM**  \n",
    "&ensp;&ensp;&ensp;&ensp;sql.teams,  \n",
    "&ensp;&ensp;&ensp;&ensp;sql.matches  \n",
    "**WHERE** away_team_api_id = api_id  \n",
    "\n",
    "с использованием оператора JOIN, исключив оператор WHERE.\n",
    "\n",
    "*Запрос:*\n",
    "\n",
    "**SELECT** *  \n",
    "**FROM** sql.teams  \n",
    "**JOIN** sql.matches on away_team_api_id = api_id"
   ]
  },
  {
   "cell_type": "markdown",
   "metadata": {},
   "source": [
    "В таблицах, которые мы соединяем, могут быть одинаковые названия столбцов. К примеру, столбец id есть и в таблице matches, и в таблице teams. Такой запрос не будет обработан. Что же делать в таком случае? Можно указать, откуда мы хотим запросить данные, записав название таблицы перед столбцом через точку.  \n",
    "\n",
    "*Запрос:*\n",
    "\n",
    "**SELECT** teams.id  \n",
    "**FROM** sql.teams  \n",
    "**JOIN** sql.matches **ON** home_team_api_id = api_id"
   ]
  },
  {
   "cell_type": "markdown",
   "metadata": {},
   "source": [
    "Зачастую названия таблиц слишком длинные, так что использовать их неудобно. Упростить обращение к различным таблицам можно, присвоив им сокращённые названия — алиасы (от англ. alias). Синтаксис для указания алиаса такой же, как и для названия столбца. \n",
    "Синтаксис для указания алиаса такой же, как и для названия столбца.  \n",
    "\n",
    "**SELECT**  \n",
    "&ensp;&ensp;&ensp;&ensp;столбец1,  \n",
    "&ensp;&ensp;&ensp;&ensp;столбец2,  \n",
    "&ensp;&ensp;&ensp;&ensp;...  \n",
    "**FROM**  \n",
    "&ensp;&ensp;&ensp;&ensp;таблица1 **AS** короткое_название_1  \n",
    "**JOIN** таблица2 **AS** короткое_название_2 **ON** условие  \n",
    "\n",
    "Название записывается без пробелов и операторов. Если необходимо записать название, в котором используются пробелы (\"table 1\"), то алиас можно обернуть в кавычки.  \n",
    "**Важно!** Обращаться по такому алиасу придётся также с помощью кавычек.  \n",
    "\n",
    "**SELECT**  \n",
    "&ensp;&ensp;&ensp;&ensp;\"table 1\".столбец1,  \n",
    "&ensp;&ensp;&ensp;&ensp;\"table 2\".столбец2,  \n",
    "&ensp;&ensp;&ensp;&ensp;...  \n",
    "**FROM**  \n",
    "&ensp;&ensp;&ensp;&ensp;таблица1 **AS** \"table 1\"  \n",
    "**JOIN** таблица2 **AS** \"table 2\" **ON** условие    \n",
    "\n",
    "Использование таких алиасов считается плохой практикой как минимум по причине того, что обращаться с такими алиасами неудобно. Вместо алиасов с кавычками рекомендуется давать простое короткое название на латинице, без специальных символов и пробелов. Если таблиц немного и все названия начинаются с разных букв, можно присваивать алиасы по первой букве. Ключевое слово as, как и в названии столбца, можно опустить в большинстве СУБД.  \n",
    "\n",
    "**SELECT**  \n",
    "&ensp;&ensp;&ensp;&ensp;столбец1 новое_название_столбца,  \n",
    "&ensp;&ensp;&ensp;&ensp;столбец2 новое_название_столбца,  \n",
    "&ensp;&ensp;&ensp;&ensp;...  \n",
    "**FROM**  \n",
    "&ensp;&ensp;&ensp;&ensp;таблица1 короткое_название_1  \n",
    "**JOIN** таблица2 короткое_название_2 **ON** условие"
   ]
  },
  {
   "cell_type": "markdown",
   "metadata": {},
   "source": [
    "Напишите запрос, который выведет два столбца: id матча (match_id) и id домашней команды (team_id). Отсортируйте по id матча в порядке возрастания значений.  \n",
    "\n",
    "*Запрос:*\n",
    "\n",
    "**SELECT**  \n",
    "&ensp;&ensp;&ensp;&ensp;matches.id match_id,  \n",
    "&ensp;&ensp;&ensp;&ensp;teams.id team_id  \n",
    "**FROM** sql.teams  \n",
    "**JOIN** sql.matches **ON** home_team_api_id = api_id  \n",
    "**ORDER BY** match_id"
   ]
  },
  {
   "cell_type": "markdown",
   "metadata": {},
   "source": [
    "Давайте с помощью запроса SQL получим таблицу, содержащую:\n",
    "\n",
    "* название домашней команды;\n",
    "* количество забитых домашней командой голов;\n",
    "* количество забитых гостевой командой голов;\n",
    "* название гостевой команды.  \n",
    "\n",
    "*Запрос:*\n",
    "\n",
    "**SELECT**  \n",
    "&ensp;&ensp;&ensp;&ensp;h.long_name \"домашняя команда\",  \n",
    "&ensp;&ensp;&ensp;&ensp;m.home_team_goals \"голы домашней команды\",  \n",
    "&ensp;&ensp;&ensp;&ensp;m.away_team_goals \"голы гостевой команды\",  \n",
    "&ensp;&ensp;&ensp;&ensp;a.long_name \"гостевая команда\"   \n",
    "**FROM**  \n",
    "&ensp;&ensp;&ensp;&ensp;sql.matches m  \n",
    "**JOIN** sql.teams h **ON** m.home_team_api_id = h.api_id  \n",
    "**JOIN** sql.teams a **ON** m.away_team_api_id = a.api_id"
   ]
  },
  {
   "cell_type": "markdown",
   "metadata": {},
   "source": [
    "Напишите запрос, который выведет столбцы:\n",
    "\n",
    "* id матча,  \n",
    "* короткое название домашней команды (home_short),  \n",
    "* короткое название гостевой команды (away_short).  \n",
    "\n",
    "Отсортируйте запрос по возрастанию id матча.  \n",
    "\n",
    "*Запрос:*\n",
    "\n",
    "**SELECT**  \n",
    "&ensp;&ensp;&ensp;&ensp;m.id,  \n",
    "&ensp;&ensp;&ensp;&ensp;h.short_name home_short,  \n",
    "&ensp;&ensp;&ensp;&ensp;a.short_name away_short  \n",
    "**FROM** sql.matches m  \n",
    "**JOIN** sql.teams h **ON** m.home_team_api_id = h.api_id  \n",
    "**JOIN** sql.teams a **ON** m.away_team_api_id = a.api_id"
   ]
  },
  {
   "cell_type": "markdown",
   "metadata": {},
   "source": [
    "### <center>Фильтрация и агрегатные функции для объединенных таблиц<center>"
   ]
  },
  {
   "cell_type": "markdown",
   "metadata": {},
   "source": []
  }
 ],
 "metadata": {
  "kernelspec": {
   "display_name": "Python 3.7.6 64-bit",
   "language": "python",
   "name": "python3"
  },
  "language_info": {
   "name": "python",
   "version": "3.7.6"
  },
  "orig_nbformat": 4,
  "vscode": {
   "interpreter": {
    "hash": "094479cf5e9d091b9dd22e3ee71edd94f1b69fd44b150db46cc29ddd6768aa2e"
   }
  }
 },
 "nbformat": 4,
 "nbformat_minor": 2
}
