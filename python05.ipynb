{
 "cells": [
  {
   "cell_type": "markdown",
   "metadata": {},
   "source": [
    "## <center>Функции<center>"
   ]
  },
  {
   "cell_type": "markdown",
   "metadata": {},
   "source": [
    "**Функция** — это фрагмент программного кода, к которому можно обратиться из другого места программы."
   ]
  },
  {
   "cell_type": "markdown",
   "metadata": {},
   "source": [
    "**Аргумент (параметр)** — это независимая переменная, значение которой используется функцией для выполнения своего исходного кода."
   ]
  },
  {
   "cell_type": "markdown",
   "metadata": {},
   "source": [
    "Итак, **функции позволяют**:\n",
    "\n",
    "    * выполнять один и тот же набор инструкций (фрагмент исходного кода) несколько раз;\n",
    "    * выполнять одни и те же действия с различными входными данными;\n",
    "    * структурировать исходный код."
   ]
  },
  {
   "cell_type": "code",
   "execution_count": 18,
   "metadata": {},
   "outputs": [
    {
     "name": "stdout",
     "output_type": "stream",
     "text": [
      "Hello world!\n"
     ]
    }
   ],
   "source": [
    "def first_function():\n",
    "    print(\"Hello world!\")\n",
    "first_function()"
   ]
  },
  {
   "cell_type": "markdown",
   "metadata": {},
   "source": [
    "Давайте напишем функцию, которая принимает на вход расстояние и среднюю скорость и возвращает время в пути:"
   ]
  },
  {
   "cell_type": "code",
   "execution_count": 19,
   "metadata": {},
   "outputs": [
    {
     "name": "stdout",
     "output_type": "stream",
     "text": [
      "20.0\n"
     ]
    }
   ],
   "source": [
    "def get_time(distance, speed):\n",
    "    # В переменную result сохраним результат деления расстояния на скорость.\n",
    "    result = distance / speed\n",
    "    # Чтобы вернуть результат вычислений, пишем оператор return и название переменной, значение которой будет передано.\n",
    "    return result\n",
    "\n",
    "print(get_time(100, 5))"
   ]
  },
  {
   "cell_type": "markdown",
   "metadata": {},
   "source": [
    "Возврат нескольких переменных"
   ]
  },
  {
   "cell_type": "code",
   "execution_count": 20,
   "metadata": {},
   "outputs": [
    {
     "name": "stdout",
     "output_type": "stream",
     "text": [
      "Hours to travel: 1\n",
      "Minutes to travel: 12\n",
      "Hours to travel: 1\n",
      "Minutes to travel: 12\n"
     ]
    }
   ],
   "source": [
    "def get_time_tuple(distance, speed):\n",
    "    # Получаем целое число часов в пути\n",
    "    hours = distance // speed\n",
    "    # Получаем остаток км в пути\n",
    "    distance_left = distance % speed\n",
    "    # Переводим скорость из км/ч в км/мин: за одну минуту можно проехать расстояние в 60 раз меньше, чем за 1 час\n",
    "    kms_per_minute = speed / 60\n",
    "    # Делим оставшееся расстояние на скорость в км/мин и округляем до целого\n",
    "    minutes = round(distance_left / kms_per_minute)\n",
    "    # Перечисляем аргументы через запятую. Они будут возвращены функцией в виде кортежа.\n",
    "    return hours, minutes\n",
    "\n",
    "result = get_time_tuple(120, 100)      \n",
    "print(\"Hours to travel:\", result[0])\n",
    "print(\"Minutes to travel:\", result[1])\n",
    "# Через запятую перечисляем переменные, в которые сохранится результат\n",
    "hours, minutes = get_time_tuple(120, 100)\n",
    "# Красиво напечатаем результат\n",
    "print(\"Hours to travel:\", hours)\n",
    "print(\"Minutes to travel:\", minutes)"
   ]
  },
  {
   "cell_type": "markdown",
   "metadata": {},
   "source": [
    "Попробуйте добавить в функцию get_time проверку скорости на равенство нулю. Если скорость равна нулю, верните ValueError с сообщением \"Speed cannot be equal to 0!\""
   ]
  },
  {
   "cell_type": "code",
   "execution_count": 21,
   "metadata": {},
   "outputs": [
    {
     "name": "stdout",
     "output_type": "stream",
     "text": [
      "2.857142857142857\n",
      "2.5\n"
     ]
    }
   ],
   "source": [
    "def get_time(distance, speed):\n",
    "    if distance < 0 or speed < 0:\n",
    "        raise ValueError(\"Distance or speed cannot be below 0!\")\n",
    "    if speed == 0:    \n",
    "        raise ValueError(\"Speed cannot be equal to 0!\")\n",
    "    result = distance / speed\n",
    "    return result\n",
    "\n",
    "print(get_time(100,35))\n",
    "print(get_time(50,20))"
   ]
  },
  {
   "cell_type": "markdown",
   "metadata": {},
   "source": [
    "#### <center>Аргументы по умолчанию<center>"
   ]
  },
  {
   "cell_type": "code",
   "execution_count": 22,
   "metadata": {},
   "outputs": [
    {
     "name": "stdout",
     "output_type": "stream",
     "text": [
      "Cola with ice is ready!\n",
      "None\n",
      "Cola without ice is ready!\n",
      "None\n"
     ]
    }
   ],
   "source": [
    "# С помощью оператора '=' присвоим переменной ice значение True по умолчанию\n",
    "def get_cola(ice=True):\n",
    "    if ice == True:\n",
    "        print(\"Cola with ice is ready!\")\n",
    "    else:\n",
    "        print(\"Cola without ice is ready!\")\n",
    "        \n",
    "print(get_cola(True))\n",
    "print(get_cola(False))"
   ]
  },
  {
   "cell_type": "code",
   "execution_count": 23,
   "metadata": {},
   "outputs": [
    {
     "ename": "TypeError",
     "evalue": "get_cola() missing 1 required positional argument: 'ice'",
     "output_type": "error",
     "traceback": [
      "\u001b[1;31m---------------------------------------------------------------------------\u001b[0m",
      "\u001b[1;31mTypeError\u001b[0m                                 Traceback (most recent call last)",
      "\u001b[1;32mc:\\temp\\ipykernel_5400\\933063719.py\u001b[0m in \u001b[0;36m<module>\u001b[1;34m\u001b[0m\n\u001b[0;32m      6\u001b[0m         \u001b[0mprint\u001b[0m\u001b[1;33m(\u001b[0m\u001b[1;34m\"Cola without ice is ready!\"\u001b[0m\u001b[1;33m)\u001b[0m\u001b[1;33m\u001b[0m\u001b[1;33m\u001b[0m\u001b[0m\n\u001b[0;32m      7\u001b[0m \u001b[1;33m\u001b[0m\u001b[0m\n\u001b[1;32m----> 8\u001b[1;33m \u001b[0mget_cola\u001b[0m\u001b[1;33m(\u001b[0m\u001b[1;33m)\u001b[0m \u001b[1;31m# Будет напечатано: TypeError: get_cola() missing 1 required positional argument: 'ice'\u001b[0m\u001b[1;33m\u001b[0m\u001b[1;33m\u001b[0m\u001b[0m\n\u001b[0m",
      "\u001b[1;31mTypeError\u001b[0m: get_cola() missing 1 required positional argument: 'ice'"
     ]
    }
   ],
   "source": [
    "# Аргументу ice не присваиваем значение по умолчанию:\n",
    "def get_cola(ice):\n",
    "    if ice == True:\n",
    "        print(\"Cola with ice is ready!\")\n",
    "    else:\n",
    "        print(\"Cola without ice is ready!\")\n",
    " \n",
    "get_cola() # Будет напечатано: TypeError: get_cola() missing 1 required positional argument: 'ice'"
   ]
  },
  {
   "cell_type": "markdown",
   "metadata": {},
   "source": [
    "**В качестве аргументов по умолчанию точно можно использовать «простые» типы данных, которые не содержат в себе дополнительные значения**, такие как int, float, str, bool, None"
   ]
  },
  {
   "cell_type": "markdown",
   "metadata": {},
   "source": [
    "Дана функция add_mark(). Дополните её код таким образом, чтобы возникала ошибка ValueError с текстом \"Invalid Mark!\" при попытке поставить оценку не из списка: 2, 3, 4 или 5."
   ]
  },
  {
   "cell_type": "code",
   "execution_count": null,
   "metadata": {},
   "outputs": [
    {
     "ename": "ValueError",
     "evalue": "Invalid Mark!",
     "output_type": "error",
     "traceback": [
      "\u001b[1;31m---------------------------------------------------------------------------\u001b[0m",
      "\u001b[1;31mValueError\u001b[0m                                Traceback (most recent call last)",
      "\u001b[1;32mc:\\temp\\ipykernel_8420\\3722412224.py\u001b[0m in \u001b[0;36m<module>\u001b[1;34m\u001b[0m\n\u001b[0;32m      8\u001b[0m     \u001b[1;32mreturn\u001b[0m \u001b[0mjournal\u001b[0m\u001b[1;33m\u001b[0m\u001b[1;33m\u001b[0m\u001b[0m\n\u001b[0;32m      9\u001b[0m \u001b[1;33m\u001b[0m\u001b[0m\n\u001b[1;32m---> 10\u001b[1;33m \u001b[0madd_mark\u001b[0m\u001b[1;33m(\u001b[0m\u001b[1;34m'Ivanov'\u001b[0m\u001b[1;33m,\u001b[0m \u001b[1;36m6\u001b[0m\u001b[1;33m)\u001b[0m\u001b[1;33m\u001b[0m\u001b[1;33m\u001b[0m\u001b[0m\n\u001b[0m",
      "\u001b[1;32mc:\\temp\\ipykernel_8420\\3722412224.py\u001b[0m in \u001b[0;36madd_mark\u001b[1;34m(name, mark, journal)\u001b[0m\n\u001b[0;32m      4\u001b[0m         \u001b[0mjournal\u001b[0m \u001b[1;33m=\u001b[0m \u001b[1;33m{\u001b[0m\u001b[1;33m}\u001b[0m\u001b[1;33m\u001b[0m\u001b[1;33m\u001b[0m\u001b[0m\n\u001b[0;32m      5\u001b[0m     \u001b[1;32mif\u001b[0m \u001b[0mmark\u001b[0m \u001b[1;32mnot\u001b[0m \u001b[1;32min\u001b[0m \u001b[1;33m{\u001b[0m\u001b[1;36m2\u001b[0m\u001b[1;33m,\u001b[0m \u001b[1;36m3\u001b[0m\u001b[1;33m,\u001b[0m \u001b[1;36m4\u001b[0m\u001b[1;33m,\u001b[0m \u001b[1;36m5\u001b[0m\u001b[1;33m}\u001b[0m\u001b[1;33m:\u001b[0m\u001b[1;33m\u001b[0m\u001b[1;33m\u001b[0m\u001b[0m\n\u001b[1;32m----> 6\u001b[1;33m         \u001b[1;32mraise\u001b[0m \u001b[0mValueError\u001b[0m\u001b[1;33m(\u001b[0m\u001b[1;34m'Invalid Mark!'\u001b[0m\u001b[1;33m)\u001b[0m\u001b[1;33m\u001b[0m\u001b[1;33m\u001b[0m\u001b[0m\n\u001b[0m\u001b[0;32m      7\u001b[0m     \u001b[0mjournal\u001b[0m\u001b[1;33m[\u001b[0m\u001b[0mname\u001b[0m\u001b[1;33m]\u001b[0m \u001b[1;33m=\u001b[0m \u001b[0mmark\u001b[0m\u001b[1;33m\u001b[0m\u001b[1;33m\u001b[0m\u001b[0m\n\u001b[0;32m      8\u001b[0m     \u001b[1;32mreturn\u001b[0m \u001b[0mjournal\u001b[0m\u001b[1;33m\u001b[0m\u001b[1;33m\u001b[0m\u001b[0m\n",
      "\u001b[1;31mValueError\u001b[0m: Invalid Mark!"
     ]
    }
   ],
   "source": [
    "def add_mark(name, mark, journal=None):\n",
    "   # Добавьте здесь проверку аргумента mark\n",
    "    if journal is None:\n",
    "        journal = {}\n",
    "    if mark not in {2, 3, 4, 5}:\n",
    "        raise ValueError('Invalid Mark!')\n",
    "    journal[name] = mark\n",
    "    return journal\n",
    "\n",
    "add_mark('Ivanov', 6)"
   ]
  },
  {
   "cell_type": "markdown",
   "metadata": {},
   "source": [
    "**Аргументы аргументы называются именованными**, поскольку мы можем написать имя аргумента и присвоить ему значение."
   ]
  },
  {
   "cell_type": "markdown",
   "metadata": {},
   "source": [
    "####  <center>Обработка заранее неизвестного числа аргументов<center>"
   ]
  },
  {
   "cell_type": "code",
   "execution_count": null,
   "metadata": {},
   "outputs": [
    {
     "name": "stdout",
     "output_type": "stream",
     "text": [
      "4.0\n"
     ]
    }
   ],
   "source": [
    "# В массив args будут записаны все переданные порядковые аргументы\n",
    "def mean(*args):\n",
    "    # Среднее значение — это сумма всех значений, делённая на число этих значений\n",
    "    # Функция sum — встроенная, она возвращает сумму чисел\n",
    "    result = sum(args) / len(args)\n",
    "    return result\n",
    " \n",
    "# Передадим аргументы в функцию через запятую, чтобы посчитать их среднее\n",
    "print(mean(5,4,4,3)) # Будет напечатано 4.0"
   ]
  },
  {
   "cell_type": "code",
   "execution_count": null,
   "metadata": {},
   "outputs": [
    {
     "name": "stdout",
     "output_type": "stream",
     "text": [
      "4.0\n"
     ]
    }
   ],
   "source": [
    "def mean(*numbers):\n",
    "    result = sum(numbers) / len(numbers)\n",
    "    return result\n",
    " \n",
    "print(mean(5,4,4,3)) # Будет напечатано 4.0"
   ]
  },
  {
   "cell_type": "markdown",
   "metadata": {},
   "source": [
    "**После аргументов, записанных через** ***args, не могут идти другие порядковые аргументы**"
   ]
  },
  {
   "cell_type": "markdown",
   "metadata": {},
   "source": [
    "Напишите функцию mult, которая считает произведение переданных в неё чисел через запятую. Примечание. Посчитайте результат с использованием цикла for."
   ]
  },
  {
   "cell_type": "code",
   "execution_count": null,
   "metadata": {},
   "outputs": [
    {
     "name": "stdout",
     "output_type": "stream",
     "text": [
      "150\n"
     ]
    }
   ],
   "source": [
    "def mult(*args):\n",
    "    result = 1\n",
    "    for i in range(len(args)):\n",
    "        result *= args[i]        \n",
    "    return result\n",
    "\n",
    "print(mult(3,5,10))"
   ]
  },
  {
   "cell_type": "markdown",
   "metadata": {},
   "source": [
    "#### <center>Передача разного числа именованных аргументов с помощью ещё одного оператора распаковки — двух звёздочек подряд (**).<center>"
   ]
  },
  {
   "cell_type": "code",
   "execution_count": null,
   "metadata": {},
   "outputs": [
    {
     "name": "stdout",
     "output_type": "stream",
     "text": [
      "Week schedule:\n",
      "monday - Python\n",
      "tuesday - SQL\n",
      "friday - ML\n"
     ]
    }
   ],
   "source": [
    "def schedule(**kwargs):\n",
    "    print(\"Week schedule:\")                  # выводим заголовок расписания\n",
    "    for key in kwargs:                       # организуем цикл по ключам словаря с расписанием\n",
    "        print(key, kwargs[key], sep=' - ')   # выводим ключ и значение через сепаратор '-'\n",
    " \n",
    "schedule(monday='Python', tuesday='SQL', friday='ML')"
   ]
  },
  {
   "cell_type": "code",
   "execution_count": null,
   "metadata": {},
   "outputs": [
    {
     "name": "stdout",
     "output_type": "stream",
     "text": [
      "Week schedule:\n",
      "Wednesday - Maths\n",
      "Thursday - SQL\n",
      "Friday - Statistics\n"
     ]
    }
   ],
   "source": [
    "lessons = {\n",
    "    'Wednesday': 'Maths',\n",
    "    'Thursday': 'SQL',\n",
    "    'Friday': 'Statistics'}\n",
    "# Использовали оператор ** для распаковки словаря в набор значений именованных аргументов\n",
    "schedule(**lessons)"
   ]
  },
  {
   "cell_type": "markdown",
   "metadata": {},
   "source": [
    "#### <center>Lambda-функции<center>"
   ]
  },
  {
   "cell_type": "markdown",
   "metadata": {},
   "source": [
    " В Python есть особый класс временных или анонимных функций —  **lambda-функции.** Он позволяет быстро создавать короткие однострочные функции, для которых нет необходимости прописывать целиком сигнатуру и оператор return."
   ]
  },
  {
   "cell_type": "code",
   "execution_count": null,
   "metadata": {},
   "outputs": [],
   "source": [
    "def root(num):\n",
    "    # Напоминание: в Python используется оператор **\n",
    "    # для возведения числа в степень.\n",
    "    # В математике возведение в степень ½ соответствует\n",
    "    # вычислению квадратного корня.\n",
    "    return num ** (1/2)\n",
    "\n",
    "root = lambda num: num**(1/2)"
   ]
  },
  {
   "cell_type": "markdown",
   "metadata": {},
   "source": [
    "В переменной **root** теперь хранится функция, которая выполняет то же самое действие, которое мы описали с помощью «классической» функции через def.  \n",
    "Обобщим нашу функцию на корень произвольной степени:"
   ]
  },
  {
   "cell_type": "code",
   "execution_count": null,
   "metadata": {},
   "outputs": [
    {
     "name": "stdout",
     "output_type": "stream",
     "text": [
      "2.154434690031884\n"
     ]
    }
   ],
   "source": [
    "nth_root = lambda num, n: num**(1/n)\n",
    "print(nth_root(10,3))"
   ]
  },
  {
   "cell_type": "markdown",
   "metadata": {},
   "source": [
    "В lambda-функции можно использовать и условия."
   ]
  },
  {
   "cell_type": "code",
   "execution_count": null,
   "metadata": {},
   "outputs": [
    {
     "name": "stdout",
     "output_type": "stream",
     "text": [
      "even\n",
      "odd\n"
     ]
    }
   ],
   "source": [
    "is_even = lambda num: \"even\" if num % 2 == 0 else \"odd\"\n",
    "print(is_even(4))\n",
    "print(is_even(5))"
   ]
  },
  {
   "cell_type": "markdown",
   "metadata": {},
   "source": [
    "**Lambda-функции** не лишены возможности применения **операторов распаковки** в своём коде."
   ]
  },
  {
   "cell_type": "code",
   "execution_count": null,
   "metadata": {},
   "outputs": [
    {
     "name": "stdout",
     "output_type": "stream",
     "text": [
      "(1, 4, 6, 7)\n"
     ]
    }
   ],
   "source": [
    "func_args = lambda *args: args\n",
    "print(func_args(1,4,6,7))"
   ]
  },
  {
   "cell_type": "markdown",
   "metadata": {},
   "source": [
    "Наконец, можно принимать и **args**, и **kwargs** одновременно, как и в обычной функции."
   ]
  },
  {
   "cell_type": "code",
   "execution_count": null,
   "metadata": {},
   "outputs": [
    {
     "name": "stdout",
     "output_type": "stream",
     "text": [
      "((1, 5, 6, 7), {'name': 'Ivan', 'age': 25})\n"
     ]
    }
   ],
   "source": [
    "full_func = lambda *args, **kwargs: (args, kwargs)\n",
    "print(full_func(1,5,6,7,name='Ivan', age=25))"
   ]
  },
  {
   "cell_type": "markdown",
   "metadata": {},
   "source": [
    "На самом деле использовать lambda-функцию удобно, если требуется передать простую функцию в качестве аргумента другой функции."
   ]
  },
  {
   "cell_type": "code",
   "execution_count": null,
   "metadata": {},
   "outputs": [
    {
     "name": "stdout",
     "output_type": "stream",
     "text": [
      "Исходный список:          ['Ivan', 'Kim', 'German', 'Margarita', 'Simon']\n",
      "Сортировка по алфавиту:   ['German', 'Ivan', 'Kim', 'Margarita', 'Simon']\n",
      "Cортировка по длине имени ['Kim', 'Ivan', 'Simon', 'German', 'Margarita']\n"
     ]
    }
   ],
   "source": [
    "names = ['Ivan', 'Kim', 'German', 'Margarita', 'Simon']\n",
    "print('Исходный список:         ', names)\n",
    "names.sort()                            # сортировка списка по алфавиту\n",
    "print('Сортировка по алфавиту:  ', names)\n",
    "names.sort(key=lambda name: len(name))  # сортировка списка по длине имени\n",
    "print('Cортировка по длине имени', names)"
   ]
  },
  {
   "cell_type": "markdown",
   "metadata": {},
   "source": [
    "#### <center>Практика<center>"
   ]
  },
  {
   "cell_type": "markdown",
   "metadata": {},
   "source": [
    "Напишите lambda-функцию для расчёта гипотенузы прямоугольного треугольника: она принимает на вход длины двух катетов и возвращает длину гипотенузы (третьей, самой длинной стороны прямоугольного треугольника). Формула: c = (a ** 2 + b ** 2) ** (1/2), где a и b — длины катетов, — длина гипотенузы. Сохраните эту функцию в переменную hyp."
   ]
  },
  {
   "cell_type": "code",
   "execution_count": null,
   "metadata": {},
   "outputs": [
    {
     "name": "stdout",
     "output_type": "stream",
     "text": [
      "5.0\n",
      "9.055385138137417\n"
     ]
    }
   ],
   "source": [
    "hyp = lambda a, b: (a**2 + b**2) ** (1/2)\n",
    "\n",
    "print(hyp(3,4))\n",
    "print(hyp(1,9))"
   ]
  },
  {
   "cell_type": "markdown",
   "metadata": {},
   "source": [
    "Напишите функцию sort_sides(l_in), которая сортирует переданный в неё список l_in. Входной список состоит из кортежей с парами чисел — длинами катетов прямоугольных треугольников. Функция должна возвращать список, отсортированный по возрастанию длин гипотенуз треугольников.  \n",
    "**Примечание.** Вам пригодится lambda-функция из предыдущего задания. При этом вам потребуется заменить lambda от двух аргументов на lambda от одного аргумента и обращаться к элементам кортежа уже при вычислении гипотенузы."
   ]
  },
  {
   "cell_type": "code",
   "execution_count": null,
   "metadata": {},
   "outputs": [
    {
     "name": "stdout",
     "output_type": "stream",
     "text": [
      "[(1, 2), (3, 4), (10, 10)]\n"
     ]
    }
   ],
   "source": [
    "def sort_sides(l_in): \n",
    "    l_in.sort(key = lambda x: (x[0]**2 + x[1]**2) ** (1/2)) # выполняем сортировку с использованием lambda-функции\n",
    "    return l_in\n",
    "\n",
    "print(sort_sides([(3,4), (1,2), (10,10)]))"
   ]
  },
  {
   "cell_type": "markdown",
   "metadata": {},
   "source": [
    "Напишите функцию get_less(list_in, num), которая принимает на вход список list_in, состоящий из чисел, и ещё одно число num. Функция должна вернуть первое найденное число из списка, которое меньше переданного во втором аргументе. Если такого числа нет, необходимо вернуть None."
   ]
  },
  {
   "cell_type": "code",
   "execution_count": null,
   "metadata": {},
   "outputs": [
    {
     "name": "stdout",
     "output_type": "stream",
     "text": [
      "1\n",
      "None\n"
     ]
    }
   ],
   "source": [
    "def get_less(list_in, num):\n",
    "    for item in list_in:           # организуем цикл по элементам списка\n",
    "        if item < num:             # если элемент меньше заданного\n",
    "            return item            # то возвращаем найденный элемент\n",
    "# иначе по умолчанию возвращаем None\n",
    "\n",
    "print(get_less([1, 5, 8,  10], 8))\n",
    "print(get_less([1, 5, 8,  10], 0))"
   ]
  },
  {
   "cell_type": "markdown",
   "metadata": {},
   "source": [
    "Напишите функцию split_date(date), которая принимает на вход строку, задающую дату, в формате ддммгггг без разделителей. Функция должна вернуть кортеж из чисел (int): день, месяц, год.  \n",
    "**Примечание.** Здесь вам пригодятся срезы строк."
   ]
  },
  {
   "cell_type": "code",
   "execution_count": null,
   "metadata": {},
   "outputs": [
    {
     "name": "stdout",
     "output_type": "stream",
     "text": [
      "(31, 10, 2019)\n"
     ]
    }
   ],
   "source": [
    "def split_date(date):\n",
    "    return (int(date[:2]), int(date[2:4]), int(date[4:]))\n",
    "\n",
    "print(split_date(\"31102019\"))"
   ]
  },
  {
   "cell_type": "markdown",
   "metadata": {},
   "source": [
    "Напишите функцию is_prime(num), которая проверяет, является ли число простым. Функция должна вернуть True, если число простое, иначе — False.  \n",
    "**Примечание.** Простым называют число, которое делится только на 1 или на само себя. Число 1 простым не является."
   ]
  },
  {
   "cell_type": "code",
   "execution_count": null,
   "metadata": {},
   "outputs": [
    {
     "name": "stdout",
     "output_type": "stream",
     "text": [
      "False\n",
      "False\n",
      "True\n",
      "True\n"
     ]
    }
   ],
   "source": [
    "def is_prime(num):\n",
    "    if num == 1:                     # если число равно 1\n",
    "        return False                 # то возвращаем False (число не является простым)\n",
    "    b = (num - 1) // 2               # делим нацело на 2 предыдущее число\n",
    "    for i in range(2, b+1):          # организуем цикл для проверки простоты числа\n",
    "        if num % i == 0:             # если число делится нацело\n",
    "            return False             # то возвращаем Fasle (число не простое)\n",
    "    return True                      # иначе возвращаем True (число простое)\n",
    "\n",
    "print(is_prime(1))\n",
    "print(is_prime(10))\n",
    "print(is_prime(13))\n",
    "print(is_prime(167))"
   ]
  },
  {
   "cell_type": "markdown",
   "metadata": {},
   "source": [
    "Напишите функцию, которая выводит список всех простых иp n натуральных чисел. Для определения простого числа используйте функцию из предыдущего задания."
   ]
  },
  {
   "cell_type": "code",
   "execution_count": null,
   "metadata": {},
   "outputs": [
    {
     "name": "stdout",
     "output_type": "stream",
     "text": [
      "[2, 3, 4, 5, 7, 11, 13, 17, 19, 23, 29, 31, 37, 41, 43, 47, 53, 59, 61, 67, 71, 73, 79, 83, 89, 97, 101, 103, 107, 109, 113, 127, 131, 137, 139, 149, 151, 157, 163, 167, 173, 179, 181, 191, 193, 197, 199, 211, 223, 227, 229, 233, 239, 241, 251, 257, 263, 269, 271, 277, 281, 283, 293, 307, 311, 313, 317, 331, 337, 347, 349, 353, 359, 367, 373, 379, 383, 389, 397, 401, 409, 419, 421, 431, 433, 439, 443, 449, 457, 461, 463, 467, 479, 487, 491, 499, 503, 509, 521, 523, 541, 547, 557, 563, 569, 571, 577, 587, 593, 599, 601, 607, 613, 617, 619, 631, 641, 643, 647, 653, 659, 661, 673, 677, 683, 691, 701, 709, 719, 727, 733, 739, 743, 751, 757, 761, 769, 773, 787, 797, 809, 811, 821, 823, 827, 829, 839, 853, 857, 859, 863, 877, 881, 883, 887, 907, 911, 919, 929, 937, 941, 947, 953, 967, 971, 977, 983, 991, 997]\n"
     ]
    }
   ],
   "source": [
    "def get_prine_list(numbers):\n",
    "    result = list()              # инициируем пустой список простых чисел\n",
    "    for i in range(2,numbers+1): # организуем цикл в интервале от 2 до numbers+1 чисел\n",
    "        if is_prime(i):          # если число простое\n",
    "            result.append(i)     # то добавляем его в список простых чисел\n",
    "    return result                # возвращаем список простых чисел\n",
    "\n",
    "print(get_prine_list(1000))"
   ]
  },
  {
   "cell_type": "markdown",
   "metadata": {},
   "source": [
    "Напишите функцию between_min_max(...), которая принимает на вход числа через запятую. Функция возвращает среднее арифметическое между максимальным и минимальным значением этих чисел, то есть (max + min)/2."
   ]
  },
  {
   "cell_type": "code",
   "execution_count": null,
   "metadata": {},
   "outputs": [
    {
     "name": "stdout",
     "output_type": "stream",
     "text": [
      "10.0\n",
      "3.0\n"
     ]
    }
   ],
   "source": [
    "def between_min_max(*args):\n",
    "    min = args[0]             # инициируем минимум\n",
    "    max = args[0]             # инициируем максимум\n",
    "    for i in args:            # организуем цикл по списку чисел\n",
    "        if i < min:           # если число меньше минимума\n",
    "            min = i           # то обновляем минимум\n",
    "        if i > max:           # если число больше максимума\n",
    "            max = i           # то обновляем максимум\n",
    "    return (max + min) / 2    # возвращаем среднее между максимумо и минимумом\n",
    "\n",
    "print(between_min_max(10))\n",
    "print(between_min_max(1,2,3,4,5))"
   ]
  },
  {
   "cell_type": "markdown",
   "metadata": {},
   "source": [
    "Напишите функцию best_student(...), которая принимает на вход в виде именованных аргументов имена студентов и их номера в рейтинге (нагляднее в примере). Необходимо вернуть имя студента с минимальным номером по рейтингу."
   ]
  },
  {
   "cell_type": "code",
   "execution_count": null,
   "metadata": {},
   "outputs": [
    {
     "name": "stdout",
     "output_type": "stream",
     "text": [
      "Mike\n",
      "Tom\n",
      "Jerry\n"
     ]
    }
   ],
   "source": [
    "def best_student(**students):\n",
    "    student_name = None                                    # инициируем неопределенное имя студента\n",
    "    student_rait = None                                    # инициируем неопределеннй рейтинг\n",
    "    for name, raiting in students.items():                 # организуем цикл по именам и рейтингу\n",
    "        if student_rait == None or raiting < student_rait: # если текущий рейтинг не определен или рейтинг меньше текущего\n",
    "            student_name = name                            # то текущему имени присваивается имя студента \n",
    "            student_rait = students[name]                  # обновляется текущий рейтинг по имени студента\n",
    "    return student_name                                    # возвращается найденное имя студента\n",
    "\n",
    "print(best_student(Tom=12, Mike=3))\n",
    "print(best_student(Tom=12))\n",
    "print(best_student(Tom=12, Jerry=1, Jane=2))"
   ]
  },
  {
   "cell_type": "markdown",
   "metadata": {},
   "source": [
    "Напишите lambda-функцию is_palindrom(str), которая принимает на вход одну строку str (имя параметра - x) и проверяет, является ли она палиндромом, то есть читается ли она слева-направо и справа-налево одинаково.\n",
    "\n",
    "Функция возвращает yes, если строка является палиндромом, иначе — no."
   ]
  },
  {
   "cell_type": "code",
   "execution_count": null,
   "metadata": {},
   "outputs": [
    {
     "name": "stdout",
     "output_type": "stream",
     "text": [
      "no\n",
      "yes\n"
     ]
    }
   ],
   "source": [
    "is_palindrom = lambda x: 'yes' if str(x) == str(x)[::-1] else 'no'\n",
    "\n",
    "print(is_palindrom('1234'))\n",
    "print(is_palindrom('12321'))"
   ]
  },
  {
   "cell_type": "markdown",
   "metadata": {},
   "source": [
    "Напишите lambda-функцию area(a,b), которая принимает на вход два числа — стороны прямоугольника — через запятую и возвращает площадь прямоугольника."
   ]
  },
  {
   "cell_type": "code",
   "execution_count": null,
   "metadata": {},
   "outputs": [
    {
     "name": "stdout",
     "output_type": "stream",
     "text": [
      "60\n"
     ]
    }
   ],
   "source": [
    "area = lambda a, b: a * b\n",
    "\n",
    "print(area(12,5))"
   ]
  },
  {
   "cell_type": "markdown",
   "metadata": {},
   "source": [
    "Перепишите функцию between_min_max из предыдущего задания в lambda-функцию. Функция принимает на вход числа через запятую и возвращает одно число — среднее между максимумом и минимумом этих чисел."
   ]
  },
  {
   "cell_type": "code",
   "execution_count": null,
   "metadata": {},
   "outputs": [
    {
     "name": "stdout",
     "output_type": "stream",
     "text": [
      "3.0\n"
     ]
    }
   ],
   "source": [
    "between_min_max = lambda *args: (min(list(args)) + max(list(args))) / 2\n",
    "\n",
    "print(between_min_max(1,2,3,4,5))"
   ]
  },
  {
   "cell_type": "markdown",
   "metadata": {},
   "source": [
    "Напишите функцию sort_ignore_case(ls), которая принимает на вход список ls и сортирует его без учёта регистра по алфавиту. Функция возвращает отсортированный список."
   ]
  },
  {
   "cell_type": "code",
   "execution_count": null,
   "metadata": {},
   "outputs": [
    {
     "name": "stdout",
     "output_type": "stream",
     "text": [
      "['abc', 'Acc']\n"
     ]
    }
   ],
   "source": [
    "def sort_ignore_case(ls):\n",
    "    ls.sort(key=lambda x: str(x).lower()) # сортирует список по алфавиту без учета регистра\n",
    "    return ls\n",
    "\n",
    "print(sort_ignore_case(['Acc', 'abc']))"
   ]
  },
  {
   "cell_type": "markdown",
   "metadata": {},
   "source": [
    "Напишите функцию exchange(usd, rub, rate), которая может принимать на вход сумму в долларах (usd), сумму в рублях (rub) и обменный курс (rate). Обменный курс показывает, сколько стоит один доллар. Например, курс 85.46 означает, что один доллар стоит 85 рублей и 46 копеек. В функцию должно одновременно передавать два аргумента. Если передано менее двух аргументов, должна возникнуть ошибка ValueError('Not enough arguments'). Если же передано три аргумента, должна возникнуть ошибка: ValueError('Too many arguments'). Функция должна находить третий аргумент по двум переданным. Например, если переданы суммы в разных валютах, должен возвращаться обменный курс. Если известны сумма в рублях и курс, должна быть получена эквивалентная сумма в долларах, аналогично — если передана сумма в долларах и обменный курс."
   ]
  },
  {
   "cell_type": "code",
   "execution_count": null,
   "metadata": {},
   "outputs": [
    {
     "name": "stdout",
     "output_type": "stream",
     "text": [
      "85.0\n",
      "8500\n",
      "11.764705882352942\n"
     ]
    }
   ],
   "source": [
    "def exchange(usd=None, rub=None, rate=None):\n",
    "    if (usd is not None) and (rub is not None) and (rate is not None): # если определены все три параметра\n",
    "        raise ValueError('Too many arguments')                         # то инициируем прерывание (слишком много параметров)\n",
    "    if (rub is not None) and (rate is not None):                       # если получили рубли и курс\n",
    "        result = rub / rate                                            # то получаем кол-во долларов\n",
    "    elif (usd is not None) and (rate is not None):                     # иначе если получили доллары и курс\n",
    "        result = usd * rate                                            # то получаем кол-во рублей\n",
    "    elif (usd is not None) and (rub is not None):                      # иначе если получили рубли и доллары\n",
    "        result = rub / usd                                             # то вычисляем курс\n",
    "    else:                                                              # иначе\n",
    "        raise ValueError('Not enough arguments')                       # инициируем прерывание (мало параметров)\n",
    "    return result                                                      # возвращаем результат\n",
    "\n",
    "print(exchange(usd=100, rub=8500))\n",
    "print(exchange(usd=100, rate=85))\n",
    "print(exchange(rub=1000, rate=85))"
   ]
  },
  {
   "cell_type": "markdown",
   "metadata": {},
   "source": [
    "### <center>Вложенные функции<center>"
   ]
  },
  {
   "cell_type": "markdown",
   "metadata": {},
   "source": [
    "Функции, которые объявлены в теле других функций, называются **вложенными**."
   ]
  },
  {
   "cell_type": "code",
   "execution_count": null,
   "metadata": {},
   "outputs": [
    {
     "name": "stdout",
     "output_type": "stream",
     "text": [
      "Called outer function\n",
      "Called inner function\n"
     ]
    }
   ],
   "source": [
    "# Объявляем внешнюю функцию outer()\n",
    "def outer():\n",
    "    # Печатаем информацию о вызове внешней функции\n",
    "    print('Called outer function')\n",
    "    # Объявляем внутреннюю функцию inner()\n",
    "    def inner():\n",
    "        # Печатаем информацию о вызове внутренней функции\n",
    "        print('Called inner function')\n",
    "    # Вызываем внутреннюю функцию inner()\n",
    "    inner()\n",
    "    \n",
    "outer()    "
   ]
  },
  {
   "cell_type": "markdown",
   "metadata": {},
   "source": [
    "На первом этапе напишите функцию get_count_unique_symbols(), которая:\n",
    "\n",
    "* принимает на вход строку s,\n",
    "* приводит её к нижнему регистру,\n",
    "* убирает из неё все пробелы,\n",
    "* возвращает количество уникальных символов в строке."
   ]
  },
  {
   "cell_type": "code",
   "execution_count": null,
   "metadata": {},
   "outputs": [
    {
     "name": "stdout",
     "output_type": "stream",
     "text": [
      "9\n",
      "12\n"
     ]
    }
   ],
   "source": [
    "def get_count_unique_symbols(s):\n",
    "    temp_s = s.lower().replace(' ','')  # приводим строку к нижнему регистру и удаляем пробелы\n",
    "    return len(set(temp_s))             # возвращаем количество уникальных символов\n",
    "\n",
    "print(get_count_unique_symbols('Это простая строка'))\n",
    "print(get_count_unique_symbols('This is a simple string'))"
   ]
  },
  {
   "cell_type": "markdown",
   "metadata": {},
   "source": [
    "На втором этапе напишите функцию get_min_string(), которая:\n",
    "\n",
    "* принимает на вход две строки s1 и s2,\n",
    "* возвращает ту, в которой количество уникальных символов меньше.\n",
    "\n",
    "Чтобы определить количество уникальных символов, воспользуйтесь функцией get_count_unique_symbols(), которую вы написали в предыдущем задании. Поместите ее определение и вызов внутрь функции get_min_string(). Функция get_min_string() должна возвращать:\n",
    "\n",
    "* строку s1, если количество уникальных символов в ней меньше, чем в s2;\n",
    "* строку s2, если количество уникальных символов в ней меньше, чем в s1;\n",
    "* кортеж из строк s1 и s2 при равенстве количества уникальных символов."
   ]
  },
  {
   "cell_type": "code",
   "execution_count": null,
   "metadata": {},
   "outputs": [],
   "source": [
    "def get_min_string(s1, s2):\n",
    "    # функция возвращает количество уникальных символов\n",
    "    def get_count_unique_symbols(s):\n",
    "        temp_s = s.lower().replace(' ','')\n",
    "        return len(set(temp_s))\n",
    "    \n",
    "    len_s1 = get_count_unique_symbols(s1)  # получаем кол-во уникальных символов в строке 1\n",
    "    len_s2 = get_count_unique_symbols(s2)  # получаем кол-во уникальных символов в строке 2\n",
    "    if len_s1 < len_s2:                    # если уникальных символов меньше в строке 1\n",
    "        return s1                          # то возврашщаем строку 1\n",
    "    elif len_s1 > len_s2 :                 # иначе если уникальных символов больше в строке 1\n",
    "        return s2                          # то возврашщаем строку 2\n",
    "    else:                                  # иначе\n",
    "        return (s1, s2)                    # возвращаем кортеж из обеих строк\n",
    "    \n",
    "print(get_min_string(s1='Это простая строка', s2='This is a simple string')) ## Это простая строка\n",
    "print(get_min_string(s1='Отличная фраза', s2='Great phrase'))                ## Great phrase\n",
    "print(get_min_string(s1='школа', s2='school'))                               ## ('школа', 'school')\n"
   ]
  },
  {
   "cell_type": "markdown",
   "metadata": {},
   "source": [
    "#### <center>Разрешение переменных и области видимости.<center>"
   ]
  },
  {
   "cell_type": "markdown",
   "metadata": {},
   "source": [
    "**Разрешение** — процесс поиска интерпретатором объекта, который скрывается за названием переменной."
   ]
  },
  {
   "cell_type": "markdown",
   "metadata": {},
   "source": [
    "**Области видимости** переменных."
   ]
  },
  {
   "cell_type": "markdown",
   "metadata": {},
   "source": [
    "![](images/area.png)"
   ]
  },
  {
   "cell_type": "markdown",
   "metadata": {},
   "source": [
    "**Локальные переменные (local)** — это имена объектов, которые были объявлены в функции и используются непосредственно в ней.  \n",
    "В разряд локальных переменных также входят аргументы функции.  \n",
    "**Важно!** Эти объекты существуют только во время выполнения функции, в которой они были объявлены. После завершения работы функции они удаляются из оперативной памяти."
   ]
  },
  {
   "cell_type": "markdown",
   "metadata": {},
   "source": [
    "**Нелокальные переменные (nonlocal)** — это имена объектов, которые были объявлены во внешней функции относительно рассматриваемой функции."
   ]
  },
  {
   "cell_type": "markdown",
   "metadata": {},
   "source": [
    "**Глобальные переменные (global)** — это имена объектов , которые были объявлены непосредственно в основном блоке программы (вне функций)."
   ]
  },
  {
   "cell_type": "markdown",
   "metadata": {},
   "source": [
    "**Встроенные переменные (built-in)** — это имена объектов, которые встроены в функционал Python изначально."
   ]
  },
  {
   "cell_type": "markdown",
   "metadata": {},
   "source": [
    "**Примечание.** Вывести полный список встроенных имён вы можете, выполнив следующий код: **print(dir(__ builtins __))**"
   ]
  },
  {
   "cell_type": "markdown",
   "metadata": {},
   "source": [
    "**Примечание.** Часто нелокальную область видимости называют объемлющей (enclosed). Поэтому правило, по которому происходит поиск имени объекта среди областей видимости (разрешение), часто именуют правилом LEGB (Local Enclosed Global Built-in)."
   ]
  },
  {
   "cell_type": "markdown",
   "metadata": {},
   "source": [
    "![](images/LEBS.png)"
   ]
  },
  {
   "cell_type": "markdown",
   "metadata": {},
   "source": [
    "Мы пишем приложение для рисования графических фигур. Пока мы можем рисовать только окружности и эллипсы. Чтобы закрашивать фигуры, которые мы рисуем, необходимо рассчитывать площадь этих фигур. Для расчета площади воспользуемся простейшими формулами. Площадь окружности вычисляется по формуле:  \n",
    "S = πr², где r — радиус окружности.\n",
    "\n",
    "![](images/circle.png)\n",
    "\n",
    "Площадь эллипса вычисляется по формуле:  \n",
    "S = πab, где a и b — длины полуосей эллипса.  \n",
    "При разработке приложения мы принимаем, что π = 3,1416.  \n",
    "**Обратите внимание!* Это число является константой — его значение не меняется на всём протяжении выполнения программы. Напишите функции calculate_area_circle() и calculate_area_ellipse(). Первая функция должна принимать один аргумент r — радиус окружности, вторая функция должна принимать два аргумента a и b — длины полуосей эллипса. Каждая из функций должна возвращать площадь соответствующей фигуры, округленную до третьего знака после запятой. Обе функции должны использовать внутри себя локальные переменные с одним и тем же именем area (площади фигур) и глобальную переменную pi, объявленную вне этих функций."
   ]
  },
  {
   "cell_type": "code",
   "execution_count": null,
   "metadata": {},
   "outputs": [
    {
     "name": "stdout",
     "output_type": "stream",
     "text": [
      "78.54\n",
      "23.562\n"
     ]
    }
   ],
   "source": [
    "pi = 3.1416\n",
    "# функция возвращает площадь окружности с радиусом r\n",
    "def calculate_area_circle(r):\n",
    "    area = round(pi * r ** 2, 3)  # получили площадь окружности\n",
    "    return area                   # вернули площадь окружности\n",
    "\n",
    "# Функция возвращает площадь эллипса с полуосями а и b\n",
    "def calculate_area_ellipse(a, b):\n",
    "    area = round(pi * a * b, 3)   # получили площадь эллипса\n",
    "    return area                   # вернули площадь эллипса\n",
    "\n",
    "print(calculate_area_circle(r=5))         ## 78.54\n",
    "print(calculate_area_ellipse(a=3, b=2.5)) ## 23.562"
   ]
  },
  {
   "cell_type": "markdown",
   "metadata": {},
   "source": [
    "#### <center>Изменение переменныых вне области видимости<center>"
   ]
  },
  {
   "cell_type": "markdown",
   "metadata": {},
   "source": [
    "##### <center>Изменение значений глобальных переменных. Объявление global.<center>"
   ]
  },
  {
   "cell_type": "markdown",
   "metadata": {},
   "source": [
    "Объявление глобальной переменной: **global** <имя переменной>"
   ]
  },
  {
   "cell_type": "code",
   "execution_count": null,
   "metadata": {},
   "outputs": [
    {
     "name": "stdout",
     "output_type": "stream",
     "text": [
      "1\n"
     ]
    }
   ],
   "source": [
    "# Создадим глобальную переменную, изначально она равна 0\n",
    "global_count = 0\n",
    " \n",
    "# Создадим функцию, которая прибавляет 1 к переменной global_count\n",
    "def add_item():\n",
    "    # Здесь мог бы быть код для добавления товара в базу данных\n",
    "    \n",
    "    # Укажем, что global_count является глобальной переменной\n",
    "    global global_count \n",
    "    # Увеличим общее количество товаров на 1\n",
    "    global_count = global_count + 1\n",
    " \n",
    "# Вызовем функцию add_item()\n",
    "add_item()\n",
    "# Напечатаем значение переменной global_count\n",
    "print(global_count)  ## Будет выведено: 1"
   ]
  },
  {
   "cell_type": "markdown",
   "metadata": {},
   "source": [
    "Вам необходимо написать программу, которая будет вычислять сумму, оставшуюся на счёте у пользователя банковской карты. Посмотрите на код ниже и внесите в него исправление так, чтобы он работал верно. Не добавляйте аргументы в функцию cash, помимо less_money."
   ]
  },
  {
   "cell_type": "code",
   "execution_count": null,
   "metadata": {},
   "outputs": [],
   "source": [
    "# Функция вычисляет остаток на карте пользователя\n",
    "def cash(less_money):\n",
    "    global money           # объявлем переменную остатка доступной к изменению в функции\n",
    "    money -= less_money    # уменьшаем остаток на карте\n",
    "    return money           # возвращаем остаток\n",
    "\n",
    "money = 30240\n",
    "print(cash(240))"
   ]
  },
  {
   "cell_type": "markdown",
   "metadata": {},
   "source": [
    "Вы написали программу, которая позволяет конвертировать рубли в выбранную валюту. При написании программы вы использовали global, но позже узнали, что не стоит так часто его использовать. Перепишите следующий код, не используя global. Перепишите функцию convert() так, чтобы словарь с курсами валют и количество денег на счету были её первым и вторым аргументом, а валюта, в которую необходимо произвести конвертацию, — третьим."
   ]
  },
  {
   "cell_type": "code",
   "execution_count": null,
   "metadata": {},
   "outputs": [],
   "source": [
    "currencies = {'USD': 74, 'EUR': 88, 'GBP': 98 , 'CHF': 82} # словарь курсов валют\n",
    "money = 100000                                             # остаток на карте\n",
    "\n",
    "# Функция конвертирования остатка по курсу money в валюту currency\n",
    "def convert(currencies, money, currency):\n",
    "    return money / currencies[currency]                     # возвраащет конвертированную сумму\n",
    "\n",
    "convert_money = convert(currencies, money, 'USD')  \n",
    "print(convert_money)"
   ]
  },
  {
   "cell_type": "markdown",
   "metadata": {},
   "source": [
    "##### <center>Изменение нелокальных переменных. Объявление nonlocal.<center>"
   ]
  },
  {
   "cell_type": "markdown",
   "metadata": {},
   "source": [
    "Объявление нелокальной переменной: **nonlocal** <имя переменной>"
   ]
  },
  {
   "cell_type": "code",
   "execution_count": null,
   "metadata": {},
   "outputs": [
    {
     "name": "stdout",
     "output_type": "stream",
     "text": [
      "1130.5\n",
      "1130.5\n",
      "1130.5\n"
     ]
    }
   ],
   "source": [
    "# Внешняя функция для вычисления итоговой стоимости\n",
    "def calculate_cost(cost, sale):\n",
    "    # Внутренняя функция для предобработки аргумента sale\n",
    "    def preprocessing_sale():\n",
    "        # Объявляем, что используем нелокальную переменную sale\n",
    "        nonlocal sale\n",
    "        # Если sale — строка\n",
    "        if type(sale) is str:\n",
    "            # Удаляем из строки '%', приводим к float и делим на 100\n",
    "            sale = float(sale.replace('%', '')) / 100\n",
    "        # Если sale — целое число\n",
    "        elif type(sale) is int:\n",
    "            # Делим его на 100 \n",
    "            sale = sale / 100\n",
    "    # Запускаем предобработку, прежде чем вычислить стоимость\n",
    "    preprocessing_sale()\n",
    "    # Считаем итоговую стоимость и возвращаем её\n",
    "    # (стоимость — стоимость * скидка)     \n",
    "    return cost - cost * sale\n",
    "\n",
    "print(calculate_cost(1330, '15%'))\n",
    "print(calculate_cost(1330, 15))\n",
    "print(calculate_cost(1330, 0.15))"
   ]
  },
  {
   "cell_type": "markdown",
   "metadata": {},
   "source": [
    "Мы реализуем функцию count_occurrences(), у которой есть два параметра s — строка и symbols — список из символов. Функция вычисляет, сколько раз символ symbol встречается в строке s. Перед подсчётом количества символов строка s проходит предобработку: из неё удаляются пробелы, а символы приводятся к нижнему регистру. Сейчас при попытке вызвать функцию: count_occurrences('This is simple string', symbol='t') вызывается исключение UnboundLocalError.\n",
    "Исправьте код таким образом, чтобы он отрабатывал без ошибки."
   ]
  },
  {
   "cell_type": "code",
   "execution_count": null,
   "metadata": {},
   "outputs": [
    {
     "name": "stdout",
     "output_type": "stream",
     "text": [
      "2\n"
     ]
    }
   ],
   "source": [
    "def count_occurrences(s, symbol):\n",
    "    # Внутренняя функция для предобработки строки s\n",
    "    def preprocessing_s():\n",
    "        nonlocal s\n",
    "        # Удаляем пробелы из строки\n",
    "        s = s.replace(' ', '')\n",
    "        # Приводим строку к нижнему регистру\n",
    "        s = s.lower()\n",
    "    # Вызываем функцию для предобработки аргумента s\n",
    "    preprocessing_s()\n",
    "    # Считаем количество символов symbol в строке s и возвращаем результат\n",
    "    return s.count(symbol)\n",
    "\n",
    "print(count_occurrences('This is simple string', symbol='t'))"
   ]
  },
  {
   "cell_type": "markdown",
   "metadata": {},
   "source": [
    "##### **Изменение значений встроенных переменных не допускается!!!**"
   ]
  },
  {
   "cell_type": "markdown",
   "metadata": {},
   "source": [
    "Нам необходимо проанализировать, какая из рекламных кампаний оказалась наиболее успешной. Данные хранятся в словаре advertising_campaigns, где ключ — это рекламный канал, а значение — список, в котором задано суммарное количество вновь нажавших на кнопку рекламного баннера в 2021 и 2022 годах. Для каждого рекламного канала нужно получить максимальное количество откликнувшихся за 2021 и 2022 годы. Для этого мы создали пустой словарь advertising_campaigns_max и написали цикл for, в котором:\n",
    "\n",
    "* проходимся по ключам исходного словаря;\n",
    "* вычисляем максимумы в списках, соответствующих этим ключам;\n",
    "* добавляем эти значения в новый словарь.  \n",
    "\n",
    "Но что-то пошло не так, и код падает с ошибкой: TypeError: 'int' object is not callable Выясните, в чём дело, и исправьте код. В результате выполнения кода у вас должен получиться словарь advertising_campaigns_max следующего вида: {'ютуб': 248, 'вк': 514, 'радио': 339}"
   ]
  },
  {
   "cell_type": "code",
   "execution_count": null,
   "metadata": {},
   "outputs": [
    {
     "name": "stdout",
     "output_type": "stream",
     "text": [
      "{'ютуб': 248, 'вк': 514, 'радио': 339}\n"
     ]
    }
   ],
   "source": [
    "advertising_campaigns = {'ютуб': [212, 248], 'вк': [514, 342], 'радио': [339, 125]}\n",
    "advertising_campaigns_max = {}  \n",
    "# Создаём цикл по ключам исходного словаря  \n",
    "for key in advertising_campaigns:  \n",
    "    # Вычисляем максимум в списке, лежащем по ключу key  \n",
    "    max_value = max(advertising_campaigns[key])  \n",
    "    # Добавляем максимум в новый словарь  \n",
    "    advertising_campaigns_max[key] = max_value   \n",
    "print(advertising_campaigns_max)"
   ]
  },
  {
   "cell_type": "markdown",
   "metadata": {},
   "source": [
    "#### <center>Практика<center>"
   ]
  },
  {
   "cell_type": "markdown",
   "metadata": {},
   "source": [
    "Напишите функцию is_leap(year), которая принимает на вход год и возвращает True, если год високосный, иначе — False.   \n",
    "**Как определить, является ли год високосным:**\n",
    "* годы, номера которых кратны 400 - високосные;\n",
    "* остальные годы, кратные 100 - невисокосные (то есть 1700, 1800, 1900, 2100, 2200, 2300 годы — невисокосные);\n",
    "* остальные годы, которых кратны 4 - високосные (например, 1964, 2004, 2008);\n",
    "* оставшиеся годы - не високосные (например, 1789, 2013, 2014)."
   ]
  },
  {
   "cell_type": "code",
   "execution_count": null,
   "metadata": {},
   "outputs": [
    {
     "name": "stdout",
     "output_type": "stream",
     "text": [
      "True\n",
      "False\n",
      "True\n",
      "False\n"
     ]
    }
   ],
   "source": [
    "def is_leap(year):\n",
    "    return year % 400 == 0 or (year % 4 == 0 and year % 100 != 0) # возвращаем признак високосного года\n",
    "\n",
    "print(is_leap(2000)) # True\n",
    "print(is_leap(1900)) # False\n",
    "print(is_leap(2020)) # True\n",
    "print(is_leap(1700)) # False"
   ]
  },
  {
   "cell_type": "markdown",
   "metadata": {},
   "source": [
    "Сделайте функцию is_leap() из предыдущего задания внутренней функцией функции check_date(). Модифицируйте код функции check_date() так, чтобы она корректно обрабатывала високосные года."
   ]
  },
  {
   "cell_type": "code",
   "execution_count": null,
   "metadata": {},
   "outputs": [
    {
     "name": "stdout",
     "output_type": "stream",
     "text": [
      "True\n",
      "True\n",
      "False\n",
      "False\n",
      "False\n"
     ]
    }
   ],
   "source": [
    "def check_date(day, month, year, is_int=False):\n",
    "    \n",
    "    # Функция возвращает True для високосного года и False для не високосного года\n",
    "    def is_leap(year):\n",
    "        return year % 400 == 0 or (year % 4 == 0 and year % 100 != 0) # возвращаем признак високосного года\n",
    "    \n",
    "    # Проверяем день, месяц и год на целочисленность\n",
    "    if not is_int:\n",
    "        if (type(day) is not int) or (type(month) is not int) or (type(year) is not int): # если хоть один из аргументов не целое число\n",
    "            return False                                                                  # то возвращаем False\n",
    "    # Проверяем год на заданный диапазон\n",
    "    if (year <= 1900) or (year >= 2022): # если год вне диапазона\n",
    "        return False                     # то возвращаем False \n",
    "    # Проверяем месяц на заданный диапазон     \n",
    "    if (month < 1) or (month > 12):  # если месяц вне диапазона\n",
    "        return False                 # то возвращаем False\n",
    "    # Проверяем день на заданный диапазон  \n",
    "    if (day < 1) or (day > 31):      # если дней болше 31\n",
    "        return False                 # то возвращаем False\n",
    "    # Проверяем апрель, июнь, сентябрь и ноябрь на количество дней\n",
    "    if (month in [4,6,9,11]) and (day > 30): # если дней больше 30\n",
    "        return False                         #\n",
    "    # Проверяем количество дней в феврале\n",
    "    if month == 2:                 # если это февраль\n",
    "        if is_leap(year):          # и високосный год\n",
    "            if day > 29:           # и дней больше 29\n",
    "                return False       # то возвращаем False\n",
    "        else:                      # иначе для невисокосного года\n",
    "            if day > 28:           # если дней болше 28\n",
    "                return False       # то возвращаем False\n",
    "    return True                    # инче возвращаем True\n",
    "\n",
    "print(check_date(18, 9, 1999))     # True\n",
    "print(check_date(29, 2, 2000))     # True\n",
    "print(check_date(29, 2, 2021))     # False\n",
    "print(check_date(13, 13, 2021))    # False\n",
    "print(check_date(13.5, 12, 2021))  # False"
   ]
  },
  {
   "cell_type": "markdown",
   "metadata": {},
   "source": [
    "Нам остался финальный штрих — добавить проверку даты на корректность в функцию для регистрации! Модифицируйте функцию register() так, чтобы она выбрасывала исключение ValueError(\"Invalid Date!\"), если введённая пользователем дата является некорректной. Для этого вам пригодится функция check_date() из предыдущего задания — вы можете добавить её в функцию register() или сделать независимой, на ваш вкус."
   ]
  },
  {
   "cell_type": "code",
   "execution_count": null,
   "metadata": {},
   "outputs": [
    {
     "name": "stdout",
     "output_type": "stream",
     "text": [
      "[('Petrova', 'Maria', 'Ivanovna', 13, 3, 2003), ('Ivanov', 'Sergej', None, 24, 9, 1995), ('Smith', 'John', None, 13, 2, 2003)]\n"
     ]
    }
   ],
   "source": [
    "def register(surname, name, date, middle_name=None, registry=None):\n",
    "    # Вспомогательная функция для предобработки даты\n",
    "    def preprocessing_date(date):\n",
    "        # Разделяем строку по символу точки\n",
    "        day, month, year = date.split('.')\n",
    "        # Преобразуем все данные к типу данных int\n",
    "        try:\n",
    "            day, month, year = int(day), int(month), int(year)\n",
    "        except:\n",
    "            raise ValueError(\"Invalid Date!\")\n",
    "        if check_date(day, month, year, is_int=True):    \n",
    "            return day, month, year\n",
    "        else:\n",
    "            raise ValueError(\"Invalid Date!\")\n",
    "    # Если список не был передан — создаём пустой список\n",
    "    if registry is None:\n",
    "        registry = list()\n",
    "    # Разделяем дату на составляющие\n",
    "    day, month, year = preprocessing_date(date)\n",
    "    # Добавляем данные в список\n",
    "    registry.append((surname, name, middle_name, day, month, year))\n",
    "    return registry\n",
    "\n",
    "reg = register('Petrova', 'Maria', '13.03.2003', 'Ivanovna')\n",
    "reg = register('Ivanov', 'Sergej', '24.09.1995', registry=reg)\n",
    "reg = register('Smith', 'John', '13.02.2003', registry=reg)\n",
    "print(reg)"
   ]
  },
  {
   "cell_type": "markdown",
   "metadata": {},
   "source": [
    "Вы возможно удивитесь, но три точки на плоскости не всегда образуют треугольник. Например, при координатах точек p1, p2, p2 = (2.5, 2), (4, 1), (1, 3) треугольник составить не получится, потому что все эти точки будут лежать на одной прямой:\n",
    "\n",
    "![](images/is_triangle.png)\n",
    "\n",
    "Из математики известно, что треугольник существует только тогда, когда сумма любых двух его сторон больше третьей. То есть треугольник будет существовать, если одновременно будут выполняться следующие условия:\n",
    "\n",
    "* a + b > c;\n",
    "* a + c > b;\n",
    "* b + c > a.  \n",
    "\n",
    "В противном случае составить треугольник не получится. Реализуйте функцию check_exist_triangle(a, b, c), которая возвращает True, если треугольник с длинами сторон a, b и c существует, и False — в обратном случае."
   ]
  },
  {
   "cell_type": "code",
   "execution_count": null,
   "metadata": {},
   "outputs": [
    {
     "name": "stdout",
     "output_type": "stream",
     "text": [
      "True\n",
      "False\n"
     ]
    }
   ],
   "source": [
    "def check_exist_triangle(a, b, c):                # проверяет, существует ли треугольник\n",
    "    return a + b > c and a + c > b and b + c > a  # возвращает результат проверки\n",
    "\n",
    "print(check_exist_triangle(a=3, b=4, c=5)) ## True\n",
    "print(check_exist_triangle(a=1.8, b=1.8, c=3.6)) ## False"
   ]
  },
  {
   "cell_type": "markdown",
   "metadata": {},
   "source": [
    "Модифицируйте функцию triangle() так, чтобы эта функция выбрасывала исключение ValueError(\"Треугольник не существует\"), если треугольник не существует.\n",
    "Для проверки существования треугольника воспользуйтесь функцией check_exist_triangle() из предыдущего задания. Добавьте её объявление и вызов внутрь функции triangle()."
   ]
  },
  {
   "cell_type": "code",
   "execution_count": null,
   "metadata": {},
   "outputs": [
    {
     "name": "stdout",
     "output_type": "stream",
     "text": [
      "{'a': 2.1360009363293826, 'b': 2.692582403567252, 'c': 4.422951503238533, 'perimeter': 9.251534843135168, 'area': 2.1250000000000027}\n",
      "{'a': 3.0, 'b': 4.0, 'c': 5.0, 'perimeter': 12.0, 'area': 6.0}\n"
     ]
    },
    {
     "ename": "ValueError",
     "evalue": "Треугольник не существует",
     "output_type": "error",
     "traceback": [
      "\u001b[1;31m---------------------------------------------------------------------------\u001b[0m",
      "\u001b[1;31mValueError\u001b[0m                                Traceback (most recent call last)",
      "\u001b[1;32mc:\\temp\\ipykernel_5400\\2916411127.py\u001b[0m in \u001b[0;36m<module>\u001b[1;34m\u001b[0m\n\u001b[0;32m     41\u001b[0m \u001b[0mprint\u001b[0m\u001b[1;33m(\u001b[0m\u001b[0mtriangle\u001b[0m\u001b[1;33m(\u001b[0m\u001b[0mp1\u001b[0m\u001b[1;33m=\u001b[0m\u001b[1;33m(\u001b[0m\u001b[1;36m1\u001b[0m\u001b[1;33m,\u001b[0m \u001b[1;36m1\u001b[0m\u001b[1;33m)\u001b[0m\u001b[1;33m,\u001b[0m \u001b[0mp2\u001b[0m\u001b[1;33m=\u001b[0m\u001b[1;33m(\u001b[0m\u001b[1;36m1\u001b[0m\u001b[1;33m,\u001b[0m \u001b[1;36m4\u001b[0m\u001b[1;33m)\u001b[0m\u001b[1;33m,\u001b[0m \u001b[0mp3\u001b[0m\u001b[1;33m=\u001b[0m\u001b[1;33m(\u001b[0m\u001b[1;36m5\u001b[0m\u001b[1;33m,\u001b[0m \u001b[1;36m1\u001b[0m\u001b[1;33m)\u001b[0m\u001b[1;33m)\u001b[0m\u001b[1;33m)\u001b[0m\u001b[1;33m\u001b[0m\u001b[1;33m\u001b[0m\u001b[0m\n\u001b[0;32m     42\u001b[0m \u001b[1;31m## {'a': 3.0, 'b': 4.0, 'c': 5.0, 'perimeter': 12.0, 'area': 6.0}\u001b[0m\u001b[1;33m\u001b[0m\u001b[1;33m\u001b[0m\u001b[1;33m\u001b[0m\u001b[0m\n\u001b[1;32m---> 43\u001b[1;33m \u001b[0mprint\u001b[0m\u001b[1;33m(\u001b[0m\u001b[0mtriangle\u001b[0m\u001b[1;33m(\u001b[0m\u001b[0mp1\u001b[0m\u001b[1;33m=\u001b[0m\u001b[1;33m(\u001b[0m\u001b[1;36m2.5\u001b[0m\u001b[1;33m,\u001b[0m \u001b[1;36m2\u001b[0m\u001b[1;33m)\u001b[0m\u001b[1;33m,\u001b[0m \u001b[0mp2\u001b[0m\u001b[1;33m=\u001b[0m\u001b[1;33m(\u001b[0m\u001b[1;36m4\u001b[0m\u001b[1;33m,\u001b[0m \u001b[1;36m1\u001b[0m\u001b[1;33m)\u001b[0m\u001b[1;33m,\u001b[0m \u001b[0mp3\u001b[0m\u001b[1;33m=\u001b[0m\u001b[1;33m(\u001b[0m\u001b[1;36m1\u001b[0m\u001b[1;33m,\u001b[0m \u001b[1;36m3\u001b[0m\u001b[1;33m)\u001b[0m\u001b[1;33m)\u001b[0m\u001b[1;33m)\u001b[0m\u001b[1;33m\u001b[0m\u001b[1;33m\u001b[0m\u001b[0m\n\u001b[0m",
      "\u001b[1;32mc:\\temp\\ipykernel_5400\\2916411127.py\u001b[0m in \u001b[0;36mtriangle\u001b[1;34m(p1, p2, p3)\u001b[0m\n\u001b[0;32m     31\u001b[0m         \u001b[0marea\u001b[0m \u001b[1;33m=\u001b[0m \u001b[1;33m(\u001b[0m\u001b[0mp\u001b[0m \u001b[1;33m*\u001b[0m \u001b[1;33m(\u001b[0m\u001b[0mp\u001b[0m \u001b[1;33m-\u001b[0m \u001b[0ma\u001b[0m\u001b[1;33m)\u001b[0m \u001b[1;33m*\u001b[0m \u001b[1;33m(\u001b[0m\u001b[0mp\u001b[0m \u001b[1;33m-\u001b[0m \u001b[0mb\u001b[0m\u001b[1;33m)\u001b[0m \u001b[1;33m*\u001b[0m \u001b[1;33m(\u001b[0m\u001b[0mp\u001b[0m \u001b[1;33m-\u001b[0m \u001b[0mc\u001b[0m\u001b[1;33m)\u001b[0m\u001b[1;33m)\u001b[0m \u001b[1;33m**\u001b[0m \u001b[1;36m0.5\u001b[0m\u001b[1;33m\u001b[0m\u001b[1;33m\u001b[0m\u001b[0m\n\u001b[0;32m     32\u001b[0m         \u001b[1;32mreturn\u001b[0m \u001b[0marea\u001b[0m\u001b[1;33m\u001b[0m\u001b[1;33m\u001b[0m\u001b[0m\n\u001b[1;32m---> 33\u001b[1;33m     \u001b[0ma\u001b[0m\u001b[1;33m,\u001b[0m \u001b[0mb\u001b[0m\u001b[1;33m,\u001b[0m \u001b[0mc\u001b[0m \u001b[1;33m=\u001b[0m \u001b[0msides\u001b[0m\u001b[1;33m(\u001b[0m\u001b[0mp1\u001b[0m\u001b[1;33m,\u001b[0m \u001b[0mp2\u001b[0m\u001b[1;33m,\u001b[0m \u001b[0mp3\u001b[0m\u001b[1;33m)\u001b[0m\u001b[1;33m\u001b[0m\u001b[1;33m\u001b[0m\u001b[0m\n\u001b[0m\u001b[0;32m     34\u001b[0m     \u001b[0mperimeter\u001b[0m \u001b[1;33m=\u001b[0m \u001b[0mcalculate_perimeter_triangle\u001b[0m\u001b[1;33m(\u001b[0m\u001b[0ma\u001b[0m\u001b[1;33m,\u001b[0m \u001b[0mb\u001b[0m\u001b[1;33m,\u001b[0m \u001b[0mc\u001b[0m\u001b[1;33m)\u001b[0m\u001b[1;33m\u001b[0m\u001b[1;33m\u001b[0m\u001b[0m\n\u001b[0;32m     35\u001b[0m     \u001b[0marea\u001b[0m \u001b[1;33m=\u001b[0m \u001b[0mcalculate_area_triangle\u001b[0m\u001b[1;33m(\u001b[0m\u001b[0ma\u001b[0m\u001b[1;33m,\u001b[0m \u001b[0mb\u001b[0m\u001b[1;33m,\u001b[0m \u001b[0mc\u001b[0m\u001b[1;33m)\u001b[0m\u001b[1;33m\u001b[0m\u001b[1;33m\u001b[0m\u001b[0m\n",
      "\u001b[1;32mc:\\temp\\ipykernel_5400\\2916411127.py\u001b[0m in \u001b[0;36msides\u001b[1;34m(p1, p2, p3)\u001b[0m\n\u001b[0;32m     14\u001b[0m         \u001b[0mc\u001b[0m \u001b[1;33m=\u001b[0m \u001b[1;33m(\u001b[0m\u001b[1;33m(\u001b[0m\u001b[0mx3\u001b[0m \u001b[1;33m-\u001b[0m \u001b[0mx2\u001b[0m\u001b[1;33m)\u001b[0m \u001b[1;33m**\u001b[0m \u001b[1;36m2\u001b[0m \u001b[1;33m+\u001b[0m \u001b[1;33m(\u001b[0m\u001b[0my3\u001b[0m \u001b[1;33m-\u001b[0m \u001b[0my2\u001b[0m\u001b[1;33m)\u001b[0m\u001b[1;33m**\u001b[0m \u001b[1;36m2\u001b[0m\u001b[1;33m)\u001b[0m \u001b[1;33m**\u001b[0m \u001b[1;36m0.5\u001b[0m\u001b[1;33m\u001b[0m\u001b[1;33m\u001b[0m\u001b[0m\n\u001b[0;32m     15\u001b[0m         \u001b[1;32mif\u001b[0m \u001b[1;32mnot\u001b[0m \u001b[0mcheck_exist_triangle\u001b[0m\u001b[1;33m(\u001b[0m\u001b[0ma\u001b[0m\u001b[1;33m,\u001b[0m \u001b[0mb\u001b[0m\u001b[1;33m,\u001b[0m \u001b[0mc\u001b[0m\u001b[1;33m)\u001b[0m\u001b[1;33m:\u001b[0m\u001b[1;33m\u001b[0m\u001b[1;33m\u001b[0m\u001b[0m\n\u001b[1;32m---> 16\u001b[1;33m             \u001b[1;32mraise\u001b[0m \u001b[0mValueError\u001b[0m\u001b[1;33m(\u001b[0m\u001b[1;34m\"Треугольник не существует\"\u001b[0m\u001b[1;33m)\u001b[0m\u001b[1;33m\u001b[0m\u001b[1;33m\u001b[0m\u001b[0m\n\u001b[0m\u001b[0;32m     17\u001b[0m         \u001b[1;32mreturn\u001b[0m \u001b[0ma\u001b[0m\u001b[1;33m,\u001b[0m \u001b[0mb\u001b[0m\u001b[1;33m,\u001b[0m \u001b[0mc\u001b[0m\u001b[1;33m\u001b[0m\u001b[1;33m\u001b[0m\u001b[0m\n\u001b[0;32m     18\u001b[0m \u001b[1;33m\u001b[0m\u001b[0m\n",
      "\u001b[1;31mValueError\u001b[0m: Треугольник не существует"
     ]
    }
   ],
   "source": [
    "def triangle(p1, p2, p3):\n",
    "    \n",
    "    def check_exist_triangle(a, b, c):\n",
    "        return a + b > c and a + c > b and b + c > a\n",
    "\n",
    "    # Функция для вычисления сторон треугольника\n",
    "    # По умолчанию параметры функции берутся из объемлющей области видимости\n",
    "    def sides(p1, p2, p3):\n",
    "        # Распаковываем кортежи для удобства, “;” означает новую строку кода\n",
    "        x1, y1 = p1; x2, y2 = p2; x3, y3 = p3\n",
    "        # Вычисляем стороны по теореме Пифагора\n",
    "        a = ((x2 - x1) ** 2 + (y2 - y1)** 2) ** 0.5\n",
    "        b = ((x3 - x1) ** 2 + (y3 - y1)** 2) ** 0.5\n",
    "        c = ((x3 - x2) ** 2 + (y3 - y2)** 2) ** 0.5\n",
    "        if not check_exist_triangle(a, b, c):\n",
    "            raise ValueError(\"Треугольник не существует\")\n",
    "        return a, b, c\n",
    "\n",
    "    # Функция для вычисления периметра треугольника\n",
    "    def calculate_perimeter_triangle(a, b, c):\n",
    "        # Периметр — сумма всех сторон треугольника\n",
    "        perimeter = a + b + c\n",
    "        return perimeter\n",
    "\n",
    "    # Функция для вычисления площади треугольника\n",
    "    def calculate_area_triangle(a, b, c):\n",
    "        # Вычисляем полупериметр \n",
    "        # Значение perimeter берётся из объемлющей области видимости\n",
    "        p = perimeter / 2\n",
    "        # Вычисляем площадь по формуле Герона\n",
    "        area = (p * (p - a) * (p - b) * (p - c)) ** 0.5\n",
    "        return area\n",
    "    a, b, c = sides(p1, p2, p3)\n",
    "    perimeter = calculate_perimeter_triangle(a, b, c)\n",
    "    area = calculate_area_triangle(a, b, c)\n",
    "    result = {'a': a, 'b': b, 'c': c, 'perimeter': perimeter, 'area': area}\n",
    "    return result\n",
    "\n",
    "print(triangle(p1=(2, 2), p2=(4, 1.25), p3=(1, 4.5)))\n",
    "## {'a': 2.1360009363293826, 'b': 2.692582403567252, 'c': 4.422951503238533, 'perimeter': 9.251534843135168, 'area': 2.1250000000000027}\n",
    "print(triangle(p1=(1, 1), p2=(1, 4), p3=(5, 1)))\n",
    "## {'a': 3.0, 'b': 4.0, 'c': 5.0, 'perimeter': 12.0, 'area': 6.0}\n",
    "print(triangle(p1=(2.5, 2), p2=(4, 1), p3=(1, 3)))"
   ]
  },
  {
   "cell_type": "markdown",
   "metadata": {},
   "source": [
    "Создавая окружность в нашем графическом приложении, пользователь сначала ставит точку P₁ — центр окружности. Затем тянет мышкой эту точку, и там, где растяжение остановится, будет создана точка P₂. Каждая точка имеет координаты x и y, которые задаются в виде кортежей: P₁=(x₁, y₁), P₂=(x₂, y₂).\n",
    "![](images/circule1.png)\n",
    "Например: p1, p2 = (3, 2.5), (4, 4.5). Чтобы вычислить все параметры окружности, нам необходимо знать её радиус. Напишите функцию radius(), которая принимает на вход две точки (их координаты заданы кортежами) и возвращает раиус окружности. Для вычисления радиуса воспользуйтесь теоремой Пифагора:  \n",
    "![](images/pifagor.png)"
   ]
  },
  {
   "cell_type": "code",
   "execution_count": 24,
   "metadata": {},
   "outputs": [
    {
     "name": "stdout",
     "output_type": "stream",
     "text": [
      "2.23606797749979\n",
      "1.4142135623730951\n"
     ]
    }
   ],
   "source": [
    "def radius(p1, p2):                      # вычисляет радиус окужности по координатам двух точек\n",
    "    x1, y1 = p1; x2, y2 = p2             # распаковываем координаты\n",
    "    return ((x2-x1)**2+(y2-y1)**2)**0.5  # вычисляем и возвращаем радиус\n",
    "\n",
    "print(radius(p1=(3, 2.5), p2=(4, 4.5))) ## 2.23606797749979\n",
    "print(radius(p1=(0, 0), p2=(1, 1)))     ## 1.4142135623730951"
   ]
  },
  {
   "cell_type": "markdown",
   "metadata": {},
   "source": [
    "Теперь, когда у нас есть функция для расчёта радиуса по двум точкам, нам не составит труда вычислить площадь и периметр окружности. Для удобства все вычисления можно обернуть в одну объемлющую функцию. Напишите функцию circle(), которая принимает на вход две точки, чьи координаты записаны в виде кортежей. Внутри себя функция содержит три вложенные функции:\n",
    "\n",
    "* radius() — функция для вычисления радиуса, которую мы писали в прошлом задании.\n",
    "* calculate_circumference() — функция для вычисления длины окружности (по сути периметра) по формуле: L=2πr Радиус окружности сделайте параметром функции.\n",
    "* calculate_area_circle() — функция для вычисления площади окружности по формуле: S=πr² Радиус окружности сделайте параметром функции.   \n",
    "\n",
    "Значение числа π задаётся глобальной переменной pi в основном блоке программы. Функция circle() должна возвращать словарь с ключами 'radius', 'circumference' и 'area'. Значениями должны быть рассчитанные радиус, длина окружности и её площадь соответственно, округленные до третьего знака после запятой."
   ]
  },
  {
   "cell_type": "code",
   "execution_count": 25,
   "metadata": {},
   "outputs": [
    {
     "name": "stdout",
     "output_type": "stream",
     "text": [
      "{'radius': 2.236, 'circumference': 14.05, 'area': 15.708}\n",
      "{'radius': 1.414, 'circumference': 8.886, 'area': 6.283}\n",
      "{'radius': 2.236, 'circumference': 14.05, 'area': 15.708}\n"
     ]
    }
   ],
   "source": [
    "pi = 3.1416    # число π\n",
    "\n",
    "# функция возвращает параметры окружности заданной двумя точками p1 и p2\n",
    "def circle(p1, p2):                        \n",
    "    \n",
    "    # Функция вычисляет и возвращает радиус окружности по 2-м точкам\n",
    "    def radius(p1, p2):\n",
    "        x1, y1 = p1; x2, y2 = p2              # распаковываем координаты точек\n",
    "        return ((x2-x1)**2+(y2-y1)**2)**0.5   # вычисляем и возвращаем радиус\n",
    "    \n",
    "    # Функция возвращает длину окружности с радиусом r\n",
    "    def calculate_circumference(r):\n",
    "        return round(2 * pi * r, 3)            # вчисляем и возвращаем длину окружности\n",
    "    \n",
    "    # Функция возвращает площадь окружности с радиусом r\n",
    "    def calculate_area_circle(r):\n",
    "        return round(pi * r ** 2, 3)           # вычисляем и возвращаем площадь окружности\n",
    "    \n",
    "    result = {}                                          # инициируем пустой итоговый словарь\n",
    "    r = radius(p1, p2)                                   # вычисляем радиус окружности\n",
    "    result['radius'] = round(r, 3)                       # добавляем радиус в итоговый словарь\n",
    "    result['circumference'] = calculate_circumference(r) # добавляем длину окружности в итоговый словарь\n",
    "    result['area'] = calculate_area_circle(r)            # добавляем площадь окружности в итоговый словарь  \n",
    "    return result                                        # возвращаем итоговый словарь\n",
    "\n",
    "print(circle(p1=(3, 2.5), p2=(4, 4.5)))  ## {'radius': 2.236, 'circumference': 14.05, 'area': 15.708}\n",
    "print(circle(p1=(0, 0), p2=(1, 1)))      ## {'radius': 1.414, 'circumference': 8.886, 'area': 6.283}\n",
    "print(circle(p1=(3, 2.5), p2=(4, 4.5)))  ## {'radius': 2.236, 'circumference': 14.043, 'area': 15.7}"
   ]
  },
  {
   "cell_type": "markdown",
   "metadata": {},
   "source": [
    "Для рисования эллипса в нашем приложении пользователю нужно отметить мышкой на экране 3 точки:\n",
    "* P₁ — точка центра эллипса;\n",
    "* P₂ и P₃ — большая и малая полуоси эллипса.  \n",
    "Каждая точка имеет координаты x и y, которые задаются в виде кортежей: P₁=(x₁, y₁), P₂=(x₂, y₂) и P₃=(x₃, y₃).\n",
    "![](images/ellipce.png)\n",
    "Для вычисления площади эллипса и длины его окружности важно знать длины его полуосей (на рисунке они обозначены как a и b). Учитывая все сказанное, напишите функцию semi_axes(), которая принимает на вход три параметра — точки p1, p2 и p3, представленные в виде кортежей. Гарантируется, что точка p1 всегда соответствует центру эллипса. Точки представлены в виде кортежей. Например: (p1, p2, p3 = (3, 2.5), (4.5, 2.5), (3, 3.5)/ Функция должна вычислять длины полуосей a и b и возвращать их. Длины полуосей можно вычислить по теореме Пифагора."
   ]
  },
  {
   "cell_type": "code",
   "execution_count": 26,
   "metadata": {},
   "outputs": [
    {
     "name": "stdout",
     "output_type": "stream",
     "text": [
      "(1.5, 1.0)\n",
      "(1.0, 1.0)\n"
     ]
    }
   ],
   "source": [
    "def semi_axes(p1, p2, p3):                  # функция возвращает полуоси эллипса, заданного точками р1б р2 и р3\n",
    "    x1, y1 = p1; x2, y2 = p2; x3, y3 = p3   # распаковываем координаты точек\n",
    "    a = ((x2-x1)**2+(y2-y1)**2)**0.5        # вычисляем большую полуось\n",
    "    b = ((x3-x1)**2+(y3-y1)**2)**0.5        # вычисляем малую полуось\n",
    "    return a, b                             # возвращаем результат\n",
    "\n",
    "print(semi_axes(p1=(3, 2.5), p2=(4.5, 2.5), p3=(3, 3.5))) ## (1.5, 1.0)\n",
    "print(semi_axes(p1=(0, 0), p2=(0, 1), p3=(1, 0)))         ## (1.0, 1.0)"
   ]
  },
  {
   "cell_type": "markdown",
   "metadata": {},
   "source": [
    "Теперь, когда мы умеем вычислять параметры эллипса по точкам, мы можем вычислить его площадь и длину его окружности. Напишите функцию ellipse(), которая принимает на вход три параметра: p1, p2 и p3 — точки для построения эллипса, представленные в виде кортежей. Функция содержит три вложенные функции:\n",
    "* semi_axes() — функция для вычисления полуосей эллипса, которую мы реализовали в предыдущем задании.\n",
    "* calculate_area_ellipse() — функция для вычисления площади эллипса по формуле: S = πab. Длины полуосей a и b сделайте параметрами функции.\n",
    "* calculate_length_ellipse() — функция для вычисления длины окружности эллипса по формуле:  \n",
    "![](images/len_ellipce.png)  \n",
    "\n",
    "Длины полуосей a и b сделайте параметрами функции. Значение числа π задаётся глобальной переменной pi. Функция ellipse() должна возвращать словарь с ключами 'a', 'b', 'length' и 'area'. Значениями должны быть рассчитанные длины полуосей, длина (периметр) и его площадь, соответственно, округленные до третьего знака после запятой."
   ]
  },
  {
   "cell_type": "code",
   "execution_count": 27,
   "metadata": {},
   "outputs": [
    {
     "name": "stdout",
     "output_type": "stream",
     "text": [
      "{'a': 1.5, 'b': 1.0, 'length': 8.01, 'area': 4.712}\n",
      "{'a': 1.0, 'b': 1.0, 'length': 6.283, 'area': 3.142}\n",
      "{'a': 1.0, 'b': 1.0, 'length': 6.283, 'area': 3.142}\n"
     ]
    }
   ],
   "source": [
    "def ellipse(p1, p2, p3):\n",
    "    \n",
    "    # функция возвращает полуоси эллипса, заданного точками р1б р2 и р3\n",
    "    def semi_axes(p1, p2, p3):\n",
    "        x1, y1 = p1; x2, y2 = p2; x3, y3 = p3  # распаковываем координаты точек\n",
    "        a = ((x2-x1)**2+(y2-y1)**2)**0.5       # вычисляем большую полуось\n",
    "        b = ((x3-x1)**2+(y3-y1)**2)**0.5       # вычисляем малую полуось\n",
    "        return a, b                            # возвращаем результат\n",
    "    \n",
    "    # функция возвраащет площадь эллипса, заданного полуосями a и b\n",
    "    def calculate_area_ellipse(a, b):\n",
    "        return round(pi * a * b, 3)             # вычисляет и возвращает площадь эллипла\n",
    "    \n",
    "    # функция возвращает длину эллипла, заданного полуосями a и b\n",
    "    def calculate_length_ellipse(a, b):\n",
    "        return round(2* pi * (((a ** 2 + b ** 2) / 2) ** 0.5), 3) # вычисляет и возвращает длину эллипла\n",
    "    \n",
    "    result = {}                                       # инициируем пустой итговый словарь\n",
    "    a, b = semi_axes(p1, p2, p3)                      # вычисляем полуоси эллипса\n",
    "    result['a'] = round(a, 3)                         # добавляем в итоговый словарь большую полуось\n",
    "    result['b'] = round(b,3)                          # добавляем в итоговый словарь малую полуось\n",
    "    result['length'] = calculate_length_ellipse(a, b) # вычисляем и добавляем в словарь длину эллипса\n",
    "    result['area'] = calculate_area_ellipse(a, b)     # вычисляем и добавляем в словарь площадь эллипса\n",
    "    return result                                     # возвращаем результат\n",
    "\n",
    "print(ellipse(p1=(3, 2.5), p2=(4.5, 2.5), p3=(3, 3.5))) ## {'a': 1.5, 'b': 1.0, 'length': 8.01, 'area': 4.712}\n",
    "print(ellipse(p1=(0, 0), p2=(0, 1), p3=(1, 0)))         ## {'a': 1.0, 'b': 1.0, 'length': 6.283, 'area': 3.142}\n",
    "print(ellipse(p1=(0, 0), p2=(0, 1), p3=(1, 0)))         ## {'a': 1.0, 'b': 1.0, 'length': 6.28, 'area': 3.14}"
   ]
  },
  {
   "cell_type": "markdown",
   "metadata": {},
   "source": [
    "### <center>Рекурсивные функции<center>"
   ]
  },
  {
   "cell_type": "markdown",
   "metadata": {},
   "source": [
    "Напишите рекурсивную функцию multiply_lst(lst), которая перемножает элементы заданного списка lst между собой. Если в функцию передаётся пустой список, она должна возвращать 1."
   ]
  },
  {
   "cell_type": "code",
   "execution_count": 28,
   "metadata": {},
   "outputs": [
    {
     "name": "stdout",
     "output_type": "stream",
     "text": [
      "15.0\n",
      "1\n"
     ]
    }
   ],
   "source": [
    "def multiply_lst(lst):                     # функция возвращает произведение элементов списка\n",
    "    if not lst:                            # если список пуст\n",
    "        return 1                           # то возвращаем 1\n",
    "    return lst[0] *  multiply_lst(lst[1:]) # возвращаем произвдение 0 элемента на произведение элементов списка без него\n",
    "\n",
    "print(multiply_lst([1, 5, 2, 1.5])) ## 15\n",
    "print(multiply_lst([]))             ## 1 "
   ]
  },
  {
   "cell_type": "markdown",
   "metadata": {},
   "source": [
    "Напишите рекурсивную функцию inv_sum_list(). На вход ей подаётся список из чисел, а она вычисляет сумму чисел, являющихся обратными к своим элементам. Обратным числу x называется число 1/x. Например, обратным числу 2 является 1/2 = 0.5. Например, если на вход программы подается список [10, 4, 8], то функция должна вернуть сумму 0.1 + 0.25 + 0.125 = 0.475. Если на вход функции передаётся пустой список, она должна возвращать 0."
   ]
  },
  {
   "cell_type": "code",
   "execution_count": 29,
   "metadata": {},
   "outputs": [
    {
     "name": "stdout",
     "output_type": "stream",
     "text": [
      "0.475\n",
      "1.975\n",
      "0\n"
     ]
    }
   ],
   "source": [
    "def inv_sum_list(lst):                        # функция возвращает сумму обратных элементов списка\n",
    "    if not lst:                               # если список пустой\n",
    "        return 0                              # то возвращаем 0\n",
    "    return 1 / lst[0] + inv_sum_list(lst[1:]) # возвращаем результат умножения обратного -го элемента и обратных элементов списка без него\n",
    "\n",
    "print(inv_sum_list([10, 4, 8]))        ## 0.475\n",
    "print(inv_sum_list([10, 1, 2, 4, 8]))  ## 1.975\n",
    "print(inv_sum_list([]))                ## 0"
   ]
  },
  {
   "cell_type": "markdown",
   "metadata": {},
   "source": [
    "Напишем функцию combination(n, k), которая позволит нам автоматически вычислять значение сочетания по формуле, приведённой выше, для любых n и k. При расчёте воспользуйтесь рекурсивной функцией factorial(), которую мы написали выше. Можете сделать её внутренней для функции combination() или независимой функцией, на ваш вкус. Главное, добавьте в свой код объявление функции factorial()."
   ]
  },
  {
   "cell_type": "code",
   "execution_count": 30,
   "metadata": {},
   "outputs": [
    {
     "name": "stdout",
     "output_type": "stream",
     "text": [
      "252.0\n",
      "220.0\n",
      "1.0\n",
      "1.0\n"
     ]
    }
   ],
   "source": [
    "def factorial(n):\n",
    "    # Задаём условия выхода из рекурсии:\n",
    "    if n==0: return 1\n",
    "    if n==1: return 1\n",
    "    # Во всех других случаях возвращаем\n",
    "    # произведение текущего числа n и функции от n-1\n",
    "    return factorial(n-1)*n\n",
    "\n",
    "def combination(n, k):\n",
    "    return factorial(n) / (factorial(n-k) * factorial(k))\n",
    "\n",
    "print(combination(n=10, k=5))  ## 252.0\n",
    "print(combination(n=12, k=3))  ## 220.0\n",
    "print(combination(n=1, k=1))   ## 1.0\n",
    "print(combination(n=0, k=0))   ## 1.0"
   ]
  },
  {
   "cell_type": "markdown",
   "metadata": {},
   "source": [
    "Числа Фибоначчи — пример последовательности, которую можно получить рекурсивно. Каждое число из последовательности является суммой двух предыдущих.  \n",
    "![](images/fibonacchy.png)  \n",
    "Последовательность Фибоначчи активно применяется в комбинаторике и аналитике. О значении и вариантах применения чисел Фибоначчи вы можете прочитать в блоге Skillfactory. Можно записать рекурсивное выражение для расчёта n-ого числа из последовательности Фибоначчи:  \n",
    "![](images/fiba.png)  \n",
    "Напишите рекурсивную функцию fib(n), которая считает n-ое число Фибоначчи. Алгоритм работы функции: Если n=1 или n=2, вернуть 1, так как первый и второй элементы ряда Фибоначчи равны единице. Во всех остальных случаях вызвать эту же функцию с аргументами n-1 и n-2 и сложить результаты двух вызовов"
   ]
  },
  {
   "cell_type": "code",
   "execution_count": 39,
   "metadata": {},
   "outputs": [
    {
     "name": "stdout",
     "output_type": "stream",
     "text": [
      "1\n",
      "1\n",
      "8\n",
      "121393\n"
     ]
    }
   ],
   "source": [
    "def fib(n): # функция возвращает n-ое число Фибонччи        \n",
    "    if n in (1,2):                 # если n=1 или n=2 \n",
    "        return 1                   # то возвращаем 1\n",
    "    return fib(n - 1) + fib (n-2)  # вычисляем и возвращаем число Фибоначчи\n",
    "\n",
    "print(fib(1))  # 1\n",
    "print(fib(2))  # 1\n",
    "print(fib(6))  # 8\n",
    "print(fib(26))"
   ]
  },
  {
   "cell_type": "markdown",
   "metadata": {},
   "source": [
    "#### <center>Практика<center>"
   ]
  },
  {
   "cell_type": "markdown",
   "metadata": {},
   "source": [
    "Напишите рекурсивную функцию power(val, n), которая возводит число в заданную целую натуральную степень (или в степень 0). Использовать встроенный оператор ** для возведения в степень запрещено. Пользуйтесь только умножением *. Например, 2 ** 4 = (((2 * 2) * 2) * 2) = 16. В качестве первого аргумента функция принимает число, в качестве второго — желаемую степень. Примечание. В качестве базовых случаев для рекурсии возьмите условия, что любое число в степени 0 — 1, любое число в степени 1 — это же число."
   ]
  },
  {
   "cell_type": "code",
   "execution_count": 40,
   "metadata": {},
   "outputs": [
    {
     "name": "stdout",
     "output_type": "stream",
     "text": [
      "1\n",
      "625\n"
     ]
    }
   ],
   "source": [
    "def power(val, n): # функция возводит число val в степень n\n",
    "    if n == 0:                    # если n=0\n",
    "        return 1                  # то возвраащем 1\n",
    "    if n == 1:                    # если n=1\n",
    "        return val                # то возвраащем число\n",
    "    return val * power(val, n-1)  # возвращаем произведение числа на чило в степени n-1\n",
    "\n",
    "print(power(25, 0)) # 1\n",
    "print(power(-5, 4)) # 625"
   ]
  },
  {
   "cell_type": "markdown",
   "metadata": {},
   "source": [
    "Дана строка, содержащая только английские буквы (большие и маленькие). Напишите рекурсивную функцию add_asterisk(). Она должна принимать в качестве аргумента строку и добавлять символ * (звёздочка) между буквами. Перед первой и после последней буквами символ * добавлять не нужно."
   ]
  },
  {
   "cell_type": "code",
   "execution_count": 41,
   "metadata": {},
   "outputs": [
    {
     "name": "stdout",
     "output_type": "stream",
     "text": [
      "h*e*l*l*o\n",
      "L*I*t*B*e*o*F*L*c*S*G*B*O*F*Q*x*M*H*o*I*u*D*D*W*c*q*c*V*g*k*c*R*o*A*e*o*c*X*O\n",
      "g*k*a*f*k*a*f*k*K*d*a*f*l*k*f*a\n"
     ]
    }
   ],
   "source": [
    "def add_asterisk(s):                    # функция добаляет звездочку между символами строки\n",
    "    if len(s) == 1:                     # если длина строки 1 символ\n",
    "        return s                        # то возвращаем строку\n",
    "    return s[0]+'*'+add_asterisk(s[1:]) # возвращаем певый символ, звездочку и остаток от строки со звездочками\n",
    "\n",
    "print(add_asterisk('hello'))\n",
    "## h*e*l*l*o\n",
    "print(add_asterisk('LItBeoFLcSGBOFQxMHoIuDDWcqcVgkcRoAeocXO'))\n",
    "## L*I*t*B*e*o*F*L*c*S*G*B*O*F*Q*x*M*H*o*I*u*D*D*W*c*q*c*V*g*k*c*R*o*A*e*o*c*X*O\n",
    "print(add_asterisk('gkafkafkKdaflkfa'))\n",
    "## g*k*a*f*k*a*f*k*K*d*a*f*l*k*f*a"
   ]
  },
  {
   "cell_type": "markdown",
   "metadata": {},
   "source": [
    "Другая важная операция в нейронных сетях — это суммирование элементов исходной матрицы. Напишите функцию sum_list(). Она принимает на вход вложенный список, элементами которого являются числа, и возвращает сумму всех элементов."
   ]
  },
  {
   "cell_type": "code",
   "execution_count": 42,
   "metadata": {},
   "outputs": [
    {
     "name": "stdout",
     "output_type": "stream",
     "text": [
      "12\n"
     ]
    }
   ],
   "source": [
    "def  sum_list(lst):                   # функция возвраащет сумму всех элементов матрицы\n",
    "    result = 0                        # инициируем пустой итог\n",
    "    for item in lst:                  # организуем цикл по элементам списка\n",
    "        if type(item) is list:        # если элемент списка есть список\n",
    "            result += sum_list(item)  # то к итогу добаввляем сумму элементов списка\n",
    "        else:                         # иначе\n",
    "            result +=item             # к итогу добавляем значение элемента\n",
    "    return result                     # возвращаем результат\n",
    "\n",
    "matrix = [\n",
    "    [1, 1, 0],\n",
    "    [4, 2, 1],\n",
    "    [0, 2, 1]]\n",
    "print(sum_list(matrix)) ## 12"
   ]
  },
  {
   "cell_type": "markdown",
   "metadata": {},
   "source": [
    "Выведите словарь в виде древовидной иерархии ключей и значений"
   ]
  },
  {
   "cell_type": "code",
   "execution_count": 43,
   "metadata": {},
   "outputs": [
    {
     "name": "stdout",
     "output_type": "stream",
     "text": [
      "key1 ->\n",
      "  key2 ->\n",
      "    ['value1', 'value2']\n",
      "  key3 ->\n",
      "    key4 ->\n",
      "      ['value3']\n",
      "key5 ->\n",
      "  key6 ->\n",
      "    key7 ->\n",
      "      ['value3', 'value5', 'value6']\n"
     ]
    }
   ],
   "source": [
    "def print_dict(input_data, level=0):\n",
    "    # Если input_data — словарь \n",
    "    if type(input_data) is dict:\n",
    "        # Создаём цикл по ключам словаря\n",
    "        for key in input_data:\n",
    "            # Выводим ключ в формате \"<пробелы> <имя ключа> ->\"\n",
    "            print('  ' * level + '{} ->'.format(key))\n",
    "            # Повторяем те же операции для каждого значения словаря\n",
    "            ll = level + 1\n",
    "            print_dict(input_data[key], level=ll)  \n",
    "    else: # В противном случае\n",
    "        # Выводим значения в формате \"<пробелы> <значения>\"\n",
    "        print('  ' * level + str(input_data))\n",
    "        \n",
    "input_dict = {\n",
    "    'key1': {'key2': ['value1', 'value2'], 'key3': {'key4': ['value3']}}, \n",
    "    'key5': {'key6': {'key7': ['value3', 'value5', 'value6']}}}\n",
    "print_dict(input_dict)"
   ]
  },
  {
   "cell_type": "markdown",
   "metadata": {},
   "source": [
    "### <center>Встроенная функция map()<center>"
   ]
  },
  {
   "cell_type": "markdown",
   "metadata": {},
   "source": [
    "Встроенная функция map() позволяет преобразовать каждый элемент итерируемого объекта по заданной функции. Аргументы функции map() следующие:  \n",
    "  \n",
    "* первый — функция, которую необходимо применить к каждому элементу;\n",
    "* второй — итерируемый объект (например, список).\n",
    "\n",
    "Можно записать это в виде шаблона кода: **map(<имя_функции>, <итерируемый_объект>)**  \n",
    "Функция map() возвращает объект типа данных map.  \n",
    "На рисунке ниже представлена схема работы функции map() в нашем примере:   \n",
    "\n",
    "![](images/map.png)  \n",
    "\n",
    "В функцию map() подаются список lengths_list и функция len(). Функция map() поочерёдно вызывает функцию len() для каждого элемента из списка lengths_list. Возвращаемые результаты мы укомплектовываем в список в той же последовательности."
   ]
  },
  {
   "cell_type": "markdown",
   "metadata": {},
   "source": [
    "Дан список чисел old_list, где все числа имеют строковый тип данных. Чтобы работать с ними, вам нужно превратить их в целое число. Напишите код, который позволит это сделать. Новое значение списка присвойте переменной new_list. В решении используйте функцию map()."
   ]
  },
  {
   "cell_type": "code",
   "execution_count": 45,
   "metadata": {},
   "outputs": [
    {
     "name": "stdout",
     "output_type": "stream",
     "text": [
      "[1, 2, 3, 4, 5, 6, 7]\n"
     ]
    }
   ],
   "source": [
    "old_list = ['1', '2', '3', '4', '5', '6', '7']\n",
    "new_list = list(map(lambda x: int(x), old_list))\n",
    "print(new_list) ## new_list = [1, 2, 3, 4, 5, 6, 7]"
   ]
  },
  {
   "cell_type": "markdown",
   "metadata": {},
   "source": [
    "Вам передали информацию о расходах за шесть месяцев. Данные содержатся в списке expenses. В этом списке расходы по каждому месяцу хранятся в отдельных списках. С помощью map создайте новый список expenses_sum, содержащий суммы расходов по каждому месяцу"
   ]
  },
  {
   "cell_type": "code",
   "execution_count": 46,
   "metadata": {},
   "outputs": [
    {
     "name": "stdout",
     "output_type": "stream",
     "text": [
      "[15571, 19984, 9749, 15393, 8357, 21027]\n"
     ]
    }
   ],
   "source": [
    "expenses = [[2356, 4537, 8678], [7395, 1298, 6500, 4791],[6341, 3408], [1105, 8374, 5914], [1024, 7333], [3500, 2008, 9375, 6144]]\n",
    "expenses_sum = list(map(lambda x: sum(x), expenses))\n",
    "print(expenses_sum)  ## expenses_sum = [15571, 19984, 9749, 15393, 8357, 21027]"
   ]
  },
  {
   "cell_type": "markdown",
   "metadata": {},
   "source": [
    "У вас есть словарь prices, содержащий цены на литровые упаковки соков в интернет-магазине. Вам необходимо применить к этим ценам скидку 5 % и округлить полученное значение до двух знаков после запятой. Новый словарь положите в переменную new_prices. В решении используйте функцию map()."
   ]
  },
  {
   "cell_type": "code",
   "execution_count": 47,
   "metadata": {},
   "outputs": [
    {
     "name": "stdout",
     "output_type": "stream",
     "text": [
      "{'яблоко': 94.05, 'апельсин': 94.05, 'вишня': 139.65, 'персик': 137.75, 'грейпфрут': 132.05}\n"
     ]
    }
   ],
   "source": [
    "def discounter(item):           \n",
    "    name, price = item\n",
    "    return (name, round(price * 0.95, 2))\n",
    "\n",
    "prices = {'яблоко': 99, 'апельсин': 99, 'вишня': 147, 'персик': 145, 'грейпфрут': 139}  \n",
    "new_prices = dict(map(discounter, prices.items()))\n",
    "print(new_prices) ## new_prices = {'яблоко': 94.05, 'апельсин': 94.05, 'вишня': 139.65, 'персик': 137.75, 'грейпфрут': 132.05}\n"
   ]
  },
  {
   "cell_type": "markdown",
   "metadata": {},
   "source": [
    "Представьте, что мы пытаемся выгрузить несколько новостей с сайта kommersant.ru. У вас есть список путей до интересующих вас статей. \n",
    "\n",
    "docs = [  \n",
    "'//doc/5041434?query=data%20science',  \n",
    "'//doc/5041567?query=data%20science',  \n",
    "'//doc/4283670?query=data%20science',  \n",
    "'//doc/3712659?query=data%20science',  \n",
    "'//doc/4997267?query=data%20science',  \n",
    "'//doc/4372673?query=data%20science',  \n",
    "'//doc/3779060?query=data%20science',  \n",
    "'//doc/3495410?query=data%20science',  \n",
    "'//doc/4308832?query=data%20science',  \n",
    "'//doc/4079881?query=data%20science'  ]   \n",
    "\n",
    "Как вы видите, представленные ссылки на статьи — неполные: в них не хватает адреса самого сайта — \"https://www.kommersant.ru\". Ваша задача составить новый список links, в котором будут храниться полные ссылки до статей на сайте «Коммерсанта». Например, полная ссылка на первую статью будет иметь вид: \"https://www.kommersant.ru//doc/5041434?query=data%20science\". Для решения задачи используйте функцию map(). К каждому элементу списка docs (размер списка может быть любым) примените функцию-преобразование, которая добавляет к ссылке на начальную страницу сайта путь до статьи из списка docs. Результат работы функции map() оберните в список и занесите в переменную links"
   ]
  },
  {
   "cell_type": "code",
   "execution_count": 48,
   "metadata": {},
   "outputs": [
    {
     "name": "stdout",
     "output_type": "stream",
     "text": [
      "['https://www.kommersant.ru//doc/5041434?query=data%20science', 'https://www.kommersant.ru//doc/5041567?query=data%20science', 'https://www.kommersant.ru//doc/4283670?query=data%20science', 'https://www.kommersant.ru//doc/3712659?query=data%20science', 'https://www.kommersant.ru//doc/4997267?query=data%20science']\n"
     ]
    }
   ],
   "source": [
    "docs = ['//doc/5041434?query=data%20science','//doc/5041567?query=data%20science', \n",
    "        '//doc/4283670?query=data%20science','//doc/3712659?query=data%20science', \n",
    "        '//doc/4997267?query=data%20science'] \n",
    "links = list(map(lambda s: 'https://www.kommersant.ru'+s, docs))\n",
    "print(links)"
   ]
  },
  {
   "cell_type": "markdown",
   "metadata": {},
   "source": [
    "Допустим, мы решаем задачу оценки стоимости недвижимости. В списке data представлены усреднённые данные по домам в районах Бостона. Каждый вложенный в список кортеж описывает средние данные по одному району (для примера представлены данные о семи участках). В этом кортеже представлены следующие признаки (в порядке следования):\n",
    "\n",
    "* x₁ — уровень преступности на душу населения по городам;\n",
    "* x₂ — среднее количество комнат в доме;\n",
    "* x₃ — доля зданий, построенных до 1940 г. и занимаемых владельцами;\n",
    "* x₄ — полная ставка налога на имущество за каждые 10 000 долларов стоимости;\n",
    "* x₅ — процент населения с низким статусом.  \n",
    "\n",
    "Добавим в наш набор данных новый признак, который будет равен произведению трёх признаков — x₁, x₄ и x₅. В результате выполнения программы у вас должен получиться список кортежей. Каждый кортеж должен состоять из шести элементов: первые пять — исходные признаки, а последний, шестой элемент — сгенерированный признак, округлённый до второго знака после запятой. Результирующий список кортежей занесите в переменную updated_data."
   ]
  },
  {
   "cell_type": "code",
   "execution_count": 49,
   "metadata": {},
   "outputs": [
    {
     "name": "stdout",
     "output_type": "stream",
     "text": [
      "[(0.00632, 6.575, 65.2, 296.0, 4.98, 9.32), (0.02731, 6.421, 78.9, 242.0, 9.14, 60.41), (0.02729, 7.185, 61.1, 242.0, 4.03, 26.61), (0.03237, 6.998, 45.8, 222.0, 2.94, 21.13), (0.06905, 7.147, 54.2, 222.0, 5.33, 81.7), (0.02985, 6.43, 58.7, 222.0, 5.21, 34.53), (0.08829, 6.012, 66.6, 311.0, 12.43, 341.31)]\n"
     ]
    }
   ],
   "source": [
    "data = [(0.00632, 6.575, 65.2, 296.0, 4.98),  \n",
    "(0.02731, 6.421, 78.9, 242.0, 9.14),  \n",
    "(0.02729, 7.185, 61.1, 242.0, 4.03),  \n",
    "(0.03237, 6.998, 45.8, 222.0, 2.94),  \n",
    "(0.06905, 7.147, 54.2, 222.0, 5.33),  \n",
    "(0.02985, 6.43, 58.7, 222.0, 5.21),  \n",
    "(0.08829, 6.012, 66.6, 311.0, 12.43)]\n",
    "updated_data = list(map(lambda x: (*x, round(x[0] * x[3] * x[4], 2)), data))\n",
    "print(updated_data)"
   ]
  },
  {
   "cell_type": "markdown",
   "metadata": {},
   "source": [
    "### <center>Встроенная функция filter()<center>"
   ]
  },
  {
   "cell_type": "markdown",
   "metadata": {},
   "source": [
    "Встроенная функция filter() позволяет отфильтровать переданный в неё итерируемый объект и оставить в нём только те элементы, которые удовлетворяют условию. Её использование аналогично применению функции map(). Аргументы функции filter() следующие:\n",
    "\n",
    "* первый — функция, которая должна возвращать True, если условие выполнено, иначе возвращается False;\n",
    "* второй — итерируемый объект, с которым производится действие.  \n",
    "\n",
    "Можно записать это в виде шаблона кода: **filter(<имя_функции>, <итерируемый_объект>)**  \n",
    "\n",
    "**Примечание.** Функция filter() возвращает объект типа filter, который, как и объект map(), является итератором. Поэтому результат работы функции filter() стоит обернуть в список с помощью функции list().  \n",
    "На рисунке ниже представлена схема работы функции filter()  \n",
    "\n",
    "![](images/filter.png)"
   ]
  },
  {
   "cell_type": "markdown",
   "metadata": {},
   "source": [
    "У вас есть список prices стоимости аренды помещения под магазин за месяц. Вам необходимо создать список filtered_prices из стоимости, которая не выше 30000, чтобы уложиться в бюджет. В решении примените filter() и lambda."
   ]
  },
  {
   "cell_type": "code",
   "execution_count": 50,
   "metadata": {},
   "outputs": [
    {
     "name": "stdout",
     "output_type": "stream",
     "text": [
      "[25683, 17683, 28973]\n"
     ]
    }
   ],
   "source": [
    "prices = [34562, 66572, 25683, 17683, 56389, 28973]\n",
    "filtered_prices = list(filter(lambda x: x < 30000, prices))\n",
    "print(filtered_prices)  ## filtered_prices = [25683, 17683, 28973]"
   ]
  },
  {
   "cell_type": "markdown",
   "metadata": {},
   "source": [
    "Допустим, вы работаете в отделе разработки в МФЦ. Центр предоставляет некоторый спектр услуг многодетным семьям. Необходимо создать функциональность, которая позволяет отфильтровать среди всех запрашиваемых пользователем услуг (их количество произвольное) только те, которые предоставляются многодетным семьям. При решении задачи вам понадобится список услуг, предоставляемых многодетным семьям:\n",
    "\n",
    "family_list = [  \n",
    "    'certificate of a large family',  \n",
    "    'social card',  \n",
    "    'maternity capital',  \n",
    "    'parking permit',  \n",
    "    'tax benefit',  \n",
    "    'reimbursement of expenses',  \n",
    "    \"compensation for the purchase of children's goods\"]    \n",
    "\n",
    "Реализуйте функцию filter_family(): на вход подаётся список с названием услуг МФЦ, а в результате возвращается список услуг, которые могут быть оказаны только многодетной семье. Для фильтрации входного списка аргументов используйте функцию filter()."
   ]
  },
  {
   "cell_type": "code",
   "execution_count": 51,
   "metadata": {},
   "outputs": [
    {
     "name": "stdout",
     "output_type": "stream",
     "text": [
      "['parking permit', 'maternity capital', 'tax benefit']\n"
     ]
    }
   ],
   "source": [
    "family_list = [\n",
    "    'certificate of a large family',\n",
    "    'social card',\n",
    "    'maternity capital',\n",
    "    'parking permit',\n",
    "    'tax benefit',\n",
    "    'reimbursement of expenses',\n",
    "    \"compensation for the purchase of children's goods\"\n",
    "    ]\n",
    "\n",
    "def filter_family(lst):\n",
    "    temp = list(filter(lambda x: x in family_list, lst))\n",
    "    return temp\n",
    "\n",
    "print(filter_family(['newborn registration', 'parking permit', \n",
    "                     'maternity capital', 'tax benefit', 'medical policy']))\n",
    "## ['parking permit', 'maternity capital', 'tax benefit']"
   ]
  },
  {
   "cell_type": "markdown",
   "metadata": {},
   "source": [
    "### <center>Конвейеры из map() и filter()<center>"
   ]
  },
  {
   "cell_type": "markdown",
   "metadata": {},
   "source": [
    "Мы снова занимаемся регистрацией пользователей. В нашем распоряжении есть список кортежей reg. В каждом кортеже хранится информация о зарегистрированном пользователе и его дате рождения в формате: Фамилия, Имя, день, месяц, год:   \n",
    "reg = [('Ivanov', 'Sergej', 24, 9, 1995), ('Smith', 'John', 13, 2, 2003), ('Petrova', 'Maria', 13, 3, 2003)]   \n",
    "Выберите из списка reg только те записи, в которых год рождения пользователя больше 2000 (2001, 2002 и т. д.). Из оставшихся записей составьте новый список кортежей, в котором фамилия и имя объединены в одну строку по следующему шаблону: Фамилия И. Обратите внимание на точку после сокращения имени!  \n",
    "Для решения задачи используйте конвейер из filter() и map(). Обратите внимание: задана двумерная структура, то есть функции фильтрации и преобразования, указываемые в аргументах в filter() и map(), принимают на вход один кортеж и должны обрабатывать его. В результате работы программы должен быть создан обновленный список кортежей с именем переменной new_reg."
   ]
  },
  {
   "cell_type": "code",
   "execution_count": 52,
   "metadata": {},
   "outputs": [
    {
     "name": "stdout",
     "output_type": "stream",
     "text": [
      "[('Smith J.', 13, 2, 2003), ('Petrova M.', 13, 3, 2003)]\n"
     ]
    }
   ],
   "source": [
    "reg = [('Ivanov', 'Sergej', 24, 9, 1995), ('Smith', 'John', 13, 2, 2003), ('Petrova', 'Maria', 13, 3, 2003)] \n",
    "temp = list(filter(lambda x: x[4] > 2000, reg))\n",
    "new_reg = list(map(lambda x: (x[0]+' '+x[1][0]+'.',x[2], x[3], x[4]), temp))\n",
    "print(new_reg)  ## new_reg = [('Smith J.', 13, 2, 2003), ('Petrova M.', 13, 3, 2003)]"
   ]
  },
  {
   "cell_type": "markdown",
   "metadata": {},
   "source": [
    "Вернёмся к задаче по оценке стоимости недвижимости. В списке data представлены усреднённые данные по домам в районах Бостона. Каждый вложенный в список кортеж описывает средние данные по одному району (для примера представлены данные о семи участках). В этом кортеже представлены следующие признаки (в порядке следования):  \n",
    "\n",
    "* x₁ — уровень преступности на душу населения по городам;\n",
    "* x₂ — среднее количество комнат в доме;\n",
    "* x₃ — доля зданий, построенных до 1940 г. и занимаемых владельцами;\n",
    "* x₄ — полная ставка налога на имущество за каждые 10 000 долларов стоимости;\n",
    "* x₅ — процент населения с низким статусом.\n",
    "\n",
    "Добавьте в набор данных новый признак, который будет равен произведению трёх признаков — x₁, x₄ и x₅. А затем выберите из исходного списка только те данные, для которых значение нового признака > 60. В результате выполнения программы у вас должен получиться список кортежей. Каждый кортеж должен состоять из шести элементов: первые пять — исходные признаки, а шестой элемент — сгенерированный признак, округлённый до двух знаков после запятой. Результирующий список кортежей занесите в переменную filtered_data"
   ]
  },
  {
   "cell_type": "code",
   "execution_count": 53,
   "metadata": {},
   "outputs": [
    {
     "name": "stdout",
     "output_type": "stream",
     "text": [
      "[(0.02731, 6.421, 78.9, 242.0, 9.14, 60.41), (0.06905, 7.147, 54.2, 222.0, 5.33, 81.7), (0.08829, 6.012, 66.6, 311.0, 12.43, 341.31)]\n"
     ]
    }
   ],
   "source": [
    "data = [(0.00632, 6.575, 65.2, 296.0, 4.98),\n",
    " (0.02731, 6.421, 78.9, 242.0, 9.14),\n",
    " (0.02729, 7.185, 61.1, 242.0, 4.03),\n",
    " (0.03237, 6.998, 45.8, 222.0, 2.94),\n",
    " (0.06905, 7.147, 54.2, 222.0, 5.33),\n",
    " (0.02985, 6.43, 58.7, 222.0, 5.21),\n",
    " (0.08829, 6.012, 66.6, 311.0, 12.43)]\n",
    "temp = list(map(lambda x: (*x, round(x[0] * x[3] *x[4], 2)), data))\n",
    "filtered_data = list(filter(lambda x: x[5]>60, temp))\n",
    "print(filtered_data)"
   ]
  }
 ],
 "metadata": {
  "kernelspec": {
   "display_name": "Python 3.7.6 64-bit",
   "language": "python",
   "name": "python3"
  },
  "language_info": {
   "codemirror_mode": {
    "name": "ipython",
    "version": 3
   },
   "file_extension": ".py",
   "mimetype": "text/x-python",
   "name": "python",
   "nbconvert_exporter": "python",
   "pygments_lexer": "ipython3",
   "version": "3.7.6"
  },
  "orig_nbformat": 4,
  "vscode": {
   "interpreter": {
    "hash": "7677f7648bdcb6014014cc63ee9b4fd0e16ad8079654355b0568baf0e7ced8ff"
   }
  }
 },
 "nbformat": 4,
 "nbformat_minor": 2
}
