{
 "cells": [
  {
   "cell_type": "markdown",
   "metadata": {},
   "source": [
    "## <center>Практика<center>\n",
    "\n",
    "### <center>Основы Python<center>"
   ]
  },
  {
   "cell_type": "markdown",
   "metadata": {},
   "source": [
    "Дана строка python_string. Посчитайте количество символов в этой строке и возведите получившееся число в третью степень. Результат запишите в переменную result."
   ]
  },
  {
   "cell_type": "code",
   "execution_count": 1,
   "metadata": {},
   "outputs": [
    {
     "name": "stdout",
     "output_type": "stream",
     "text": [
      "389017\n"
     ]
    }
   ],
   "source": [
    "python_string = 'Привет! Меня зовут Питон. Я помогу вам проанализировать некоторые данные.'\n",
    "result = len(python_string) ** 3\n",
    "print(result)"
   ]
  },
  {
   "cell_type": "markdown",
   "metadata": {},
   "source": [
    "Представим, что мы разрабатываем алгоритм прогнозирования времени доставки еды. Наш алгоритм принимает на вход информацию о географических координатах клиента, расположении ресторана, загруженности на дорогах и так далее. Выходом алгоритма является примерное время в минутах, которое необходимо курьеру на доставку. Мы хотим проверить адекватность работы алгоритма — для этого будем измерять разницу (ошибку) между спрогнозированным и реальным временем доставки. Условимся, что знак ошибки (в меньшую или большую сторону мы ошибаемся) нас не интересует — нужно только абсолютное значение. Прогнозируемое время доставки хранится в переменной predicted_time, реальное время — в переменной real_time. Найдите модуль разницы между предсказанным и истинным значениями времени, результат округлите до целого и сохраните в переменную absolute_error"
   ]
  },
  {
   "cell_type": "code",
   "execution_count": 2,
   "metadata": {},
   "outputs": [
    {
     "name": "stdout",
     "output_type": "stream",
     "text": [
      "13\n"
     ]
    }
   ],
   "source": [
    "predicted_time = 38.873\n",
    "real_time = 26.124\n",
    "absolute_error = int(round(abs(predicted_time - real_time),0))\n",
    "print(absolute_error)"
   ]
  },
  {
   "cell_type": "markdown",
   "metadata": {},
   "source": [
    "Дана строка input_string. Избавьтесь от знаков препинания в ней и напишите программу для подсчёта количества слов в этой строке. Программа должна записывать результат в переменную count_words. Гарантируется, что из знаков препинания в строке input_string могут содержаться только точки ('.'), запятые (','), восклицательные ('!') и вопросительные ('?') знаки."
   ]
  },
  {
   "cell_type": "code",
   "execution_count": 3,
   "metadata": {},
   "outputs": [
    {
     "name": "stdout",
     "output_type": "stream",
     "text": [
      "27\n"
     ]
    }
   ],
   "source": [
    "input_string = 'There are many great articles about Artificial Intelligence and its benefits for business and society. However, many of these articles are too technical for the average reader.'\n",
    "spec_set = (',', '.', '!', '?')\n",
    "for char in spec_set:\n",
    "    input_string.replace(char,'')\n",
    "count_words = len(input_string.split())\n",
    "print(count_words)  ## count_words = 27"
   ]
  },
  {
   "cell_type": "markdown",
   "metadata": {},
   "source": [
    "Мы обучаем нейронную сеть классифицировать изображения. Для обучения необходимо узнать формат файла с изображением: JPG/PNG/GIF и т. д. Это связано с тем, что от формата входных данных зависит процесс предобработки изображений (например, GIF-изображение необходимо предварительно разложить на кадры). В переменной file_path задан полный путь до файла с изображением. Найдите его расширение, результат занесите в переменную file_extension. Также найдите имя файла (без учёта расширения), результат занесите в переменную file_name. Гарантируется, что разделителем между папками при указании пути является символ '/'."
   ]
  },
  {
   "cell_type": "code",
   "execution_count": 4,
   "metadata": {},
   "outputs": [
    {
     "name": "stdout",
     "output_type": "stream",
     "text": [
      "384300\n"
     ]
    }
   ],
   "source": [
    "file_path = 'data/images/384300.png'   # исходный путь к файлу\n",
    "file_path = file_path[::-1]            # разворачиваем строку\n",
    "pos = file_path.find('.')              # находим первую позицию точки\n",
    "file_extension = file_path[:pos]       # выделяем развернутое расширение\n",
    "file_extension = file_extension[::-1]  # приводим расширение к нормальному виду\n",
    "pos1 = file_path.find('/')             # ищем первую позицию слеша\n",
    "file_name = file_path[pos+1:pos1]      # поучаем развернутое имя файла\n",
    "file_name = file_name[::-1]            # получаем нормальное имя файла\n",
    "print(file_name)                       # выводим имя файла"
   ]
  }
 ],
 "metadata": {
  "kernelspec": {
   "display_name": "Python 3.7.6 64-bit",
   "language": "python",
   "name": "python3"
  },
  "language_info": {
   "codemirror_mode": {
    "name": "ipython",
    "version": 3
   },
   "file_extension": ".py",
   "mimetype": "text/x-python",
   "name": "python",
   "nbconvert_exporter": "python",
   "pygments_lexer": "ipython3",
   "version": "3.7.6"
  },
  "orig_nbformat": 4,
  "vscode": {
   "interpreter": {
    "hash": "7677f7648bdcb6014014cc63ee9b4fd0e16ad8079654355b0568baf0e7ced8ff"
   }
  }
 },
 "nbformat": 4,
 "nbformat_minor": 2
}
