{
 "cells": [
  {
   "cell_type": "markdown",
   "metadata": {},
   "source": [
    "# <center>Исследование данных HR-агенства<center>"
   ]
  },
  {
   "cell_type": "markdown",
   "metadata": {},
   "source": [
    "## Постановка задачи"
   ]
  },
  {
   "cell_type": "markdown",
   "metadata": {},
   "source": [
    "HR-агентство изучает тренды на рынке труда в IT. Компания хочет провести исследование на основе данных о зарплатах в сфере Data Science за 2020–2022 годы и получить некоторые выводы.\n",
    "\n",
    "В процессе анализа данных необходимо выяснить какие факторы влияют на зарплату специалиста Data Scientist и ответить на следующие вопросы HR-агенства:\n",
    "\n",
    "* Наблюдается ли ежегодный рост зарплат у специалистов Data Scientist?\n",
    "* Как соотносятся зарплаты Data Scientist и Data Engineer в 2022 году?\n",
    "* Как соотносятся зарплаты специалистов Data Scientist в компаниях различных размеров?\n",
    "* Есть ли связь между наличием должностей Data Scientist и Data Engineer и размером компании?\n",
    "\n",
    "На каждый вопрос необходимо ответить с уровнем значимости $\\alpha=0.05$.\n",
    "\n",
    "Для ответов на эти вопросы HR-агенство предоставило набор данных, который содержит следующие столбцы:\n",
    "\n",
    "* *work_year* - Год, в котором была выплачена зарплата.\n",
    "* *experience_level* - Опыт работы на этой должности в течение года со следующими возможными значениями:\n",
    "  * EN — Entry-level/Junior;\n",
    "  * MI — Mid-level/Intermediate;\n",
    "  * SE — Senior-level/Expert;\n",
    "  * EX — Executive-level/Director.\n",
    "* *employment_type*\t- Тип трудоустройства для этой роли:\n",
    "  * PT — неполный рабочий день;\n",
    "  * FT — полный рабочий день;\n",
    "  * CT — контракт;\n",
    "  * FL — фриланс.\n",
    "* *job_title*\t- Роль, в которой соискатель работал в течение года.\n",
    "* *salary*\t- Общая выплаченная валовая сумма заработной платы.\n",
    "* *salary_currency*\t- Валюта выплачиваемой заработной платы в виде кода валюты ISO 4217.\n",
    "* *salary_in_usd* -\tЗарплата в долларах США (валютный курс, делённый на среднее значение курса доллара США за соответствующий год через fxdata.foorilla.com).\n",
    "* *employee_residence*\tОсновная страна проживания сотрудника в течение рабочего года в виде кода страны ISO 3166.\n",
    "* *remote_ratio*\t- Общий объём работы, выполняемой удалённо. Возможные значения:\n",
    "  * 0 — удалённой работы нет (менее 20 %);\n",
    "  * 50 — частично удалённая работа;\n",
    "  * 100 — полностью удалённая работа (более 80 %).\n",
    "* *company_location*\t- Страна главного офиса работодателя или филиала по контракту в виде кода страны ISO 3166.\n",
    "* *company_size*\tСреднее количество людей, работавших в компании в течение года:\n",
    "  * S — менее 50 сотрудников (небольшая компания);\n",
    "  * M — от 50 до 250 сотрудников (средняя компания);\n",
    "  * L — более 250 сотрудников (крупная компания).\n",
    "\n",
    "Оригинальный датасет: [“Data Science Job Salaries”](kaggle.com)"
   ]
  },
  {
   "cell_type": "markdown",
   "metadata": {},
   "source": [
    "## Загрузка данных"
   ]
  },
  {
   "cell_type": "code",
   "execution_count": 145,
   "metadata": {},
   "outputs": [],
   "source": [
    "# загружаем необходимые библиотеки\n",
    "import pandas as pd\n",
    "import numpy as np\n",
    "\n",
    "from scipy import stats\n",
    "import statsmodels.api as sm\n",
    "from statsmodels import stats as sms\n",
    "import category_encoders as ce\n",
    "\n",
    "import matplotlib.pyplot as plt\n",
    "import seaborn as sns\n",
    "\n",
    "# делаем визуальную настройку графиков\n",
    "sns.set_theme(\"notebook\") \n",
    "sns.set_palette(\"Set2\") "
   ]
  },
  {
   "cell_type": "markdown",
   "metadata": {},
   "source": [
    "Данные загружаем на Google Drive по [ссылке](https://lms.skillfactory.ru/asset-v1:SkillFactory+DST-3.0+28FEB2021+type@asset+block@ds_salaries.zip). В качестве резервного источника данных (на случай проблем с доступом в Internet) файл с данными скачан в каталог *data* текущего проекта и переименован в ds_salaries.zip."
   ]
  },
  {
   "cell_type": "code",
   "execution_count": 146,
   "metadata": {},
   "outputs": [
    {
     "data": {
      "text/html": [
       "<div>\n",
       "<style scoped>\n",
       "    .dataframe tbody tr th:only-of-type {\n",
       "        vertical-align: middle;\n",
       "    }\n",
       "\n",
       "    .dataframe tbody tr th {\n",
       "        vertical-align: top;\n",
       "    }\n",
       "\n",
       "    .dataframe thead th {\n",
       "        text-align: right;\n",
       "    }\n",
       "</style>\n",
       "<table border=\"1\" class=\"dataframe\">\n",
       "  <thead>\n",
       "    <tr style=\"text-align: right;\">\n",
       "      <th></th>\n",
       "      <th>Unnamed: 0</th>\n",
       "      <th>work_year</th>\n",
       "      <th>experience_level</th>\n",
       "      <th>employment_type</th>\n",
       "      <th>job_title</th>\n",
       "      <th>salary</th>\n",
       "      <th>salary_currency</th>\n",
       "      <th>salary_in_usd</th>\n",
       "      <th>employee_residence</th>\n",
       "      <th>remote_ratio</th>\n",
       "      <th>company_location</th>\n",
       "      <th>company_size</th>\n",
       "    </tr>\n",
       "  </thead>\n",
       "  <tbody>\n",
       "    <tr>\n",
       "      <th>0</th>\n",
       "      <td>0</td>\n",
       "      <td>2020</td>\n",
       "      <td>MI</td>\n",
       "      <td>FT</td>\n",
       "      <td>Data Scientist</td>\n",
       "      <td>70000</td>\n",
       "      <td>EUR</td>\n",
       "      <td>79833</td>\n",
       "      <td>DE</td>\n",
       "      <td>0</td>\n",
       "      <td>DE</td>\n",
       "      <td>L</td>\n",
       "    </tr>\n",
       "    <tr>\n",
       "      <th>1</th>\n",
       "      <td>1</td>\n",
       "      <td>2020</td>\n",
       "      <td>SE</td>\n",
       "      <td>FT</td>\n",
       "      <td>Machine Learning Scientist</td>\n",
       "      <td>260000</td>\n",
       "      <td>USD</td>\n",
       "      <td>260000</td>\n",
       "      <td>JP</td>\n",
       "      <td>0</td>\n",
       "      <td>JP</td>\n",
       "      <td>S</td>\n",
       "    </tr>\n",
       "    <tr>\n",
       "      <th>2</th>\n",
       "      <td>2</td>\n",
       "      <td>2020</td>\n",
       "      <td>SE</td>\n",
       "      <td>FT</td>\n",
       "      <td>Big Data Engineer</td>\n",
       "      <td>85000</td>\n",
       "      <td>GBP</td>\n",
       "      <td>109024</td>\n",
       "      <td>GB</td>\n",
       "      <td>50</td>\n",
       "      <td>GB</td>\n",
       "      <td>M</td>\n",
       "    </tr>\n",
       "    <tr>\n",
       "      <th>3</th>\n",
       "      <td>3</td>\n",
       "      <td>2020</td>\n",
       "      <td>MI</td>\n",
       "      <td>FT</td>\n",
       "      <td>Product Data Analyst</td>\n",
       "      <td>20000</td>\n",
       "      <td>USD</td>\n",
       "      <td>20000</td>\n",
       "      <td>HN</td>\n",
       "      <td>0</td>\n",
       "      <td>HN</td>\n",
       "      <td>S</td>\n",
       "    </tr>\n",
       "    <tr>\n",
       "      <th>4</th>\n",
       "      <td>4</td>\n",
       "      <td>2020</td>\n",
       "      <td>SE</td>\n",
       "      <td>FT</td>\n",
       "      <td>Machine Learning Engineer</td>\n",
       "      <td>150000</td>\n",
       "      <td>USD</td>\n",
       "      <td>150000</td>\n",
       "      <td>US</td>\n",
       "      <td>50</td>\n",
       "      <td>US</td>\n",
       "      <td>L</td>\n",
       "    </tr>\n",
       "  </tbody>\n",
       "</table>\n",
       "</div>"
      ],
      "text/plain": [
       "   Unnamed: 0  work_year experience_level employment_type  \\\n",
       "0           0       2020               MI              FT   \n",
       "1           1       2020               SE              FT   \n",
       "2           2       2020               SE              FT   \n",
       "3           3       2020               MI              FT   \n",
       "4           4       2020               SE              FT   \n",
       "\n",
       "                    job_title  salary salary_currency  salary_in_usd  \\\n",
       "0              Data Scientist   70000             EUR          79833   \n",
       "1  Machine Learning Scientist  260000             USD         260000   \n",
       "2           Big Data Engineer   85000             GBP         109024   \n",
       "3        Product Data Analyst   20000             USD          20000   \n",
       "4   Machine Learning Engineer  150000             USD         150000   \n",
       "\n",
       "  employee_residence  remote_ratio company_location company_size  \n",
       "0                 DE             0               DE            L  \n",
       "1                 JP             0               JP            S  \n",
       "2                 GB            50               GB            M  \n",
       "3                 HN             0               HN            S  \n",
       "4                 US            50               US            L  "
      ]
     },
     "execution_count": 146,
     "metadata": {},
     "output_type": "execute_result"
    }
   ],
   "source": [
    "# Загружаем набор данных\n",
    "data = pd.read_csv('https://lms.skillfactory.ru/asset-v1:SkillFactory+DST-3.0+28FEB2021+type@asset+block@ds_salaries.zip')\n",
    "#data = pd.read_csv('data/ds_salaries.zip') # резервный источник данных\n",
    "data.head()"
   ]
  },
  {
   "cell_type": "code",
   "execution_count": 147,
   "metadata": {},
   "outputs": [
    {
     "name": "stdout",
     "output_type": "stream",
     "text": [
      "Уровень значимости alpha = 0.05\n"
     ]
    }
   ],
   "source": [
    "# задаём уровень значимости\n",
    "alpha = 0.05 \n",
    "print(\"Уровень значимости alpha = {:.2f}\".format(alpha))"
   ]
  },
  {
   "cell_type": "markdown",
   "metadata": {},
   "source": [
    "## Описательный анализ данных"
   ]
  },
  {
   "cell_type": "code",
   "execution_count": 148,
   "metadata": {},
   "outputs": [
    {
     "name": "stdout",
     "output_type": "stream",
     "text": [
      "<class 'pandas.core.frame.DataFrame'>\n",
      "RangeIndex: 607 entries, 0 to 606\n",
      "Data columns (total 12 columns):\n",
      " #   Column              Non-Null Count  Dtype \n",
      "---  ------              --------------  ----- \n",
      " 0   Unnamed: 0          607 non-null    int64 \n",
      " 1   work_year           607 non-null    int64 \n",
      " 2   experience_level    607 non-null    object\n",
      " 3   employment_type     607 non-null    object\n",
      " 4   job_title           607 non-null    object\n",
      " 5   salary              607 non-null    int64 \n",
      " 6   salary_currency     607 non-null    object\n",
      " 7   salary_in_usd       607 non-null    int64 \n",
      " 8   employee_residence  607 non-null    object\n",
      " 9   remote_ratio        607 non-null    int64 \n",
      " 10  company_location    607 non-null    object\n",
      " 11  company_size        607 non-null    object\n",
      "dtypes: int64(5), object(7)\n",
      "memory usage: 57.0+ KB\n"
     ]
    }
   ],
   "source": [
    "data.info()  # получаем сведения о НД"
   ]
  },
  {
   "cell_type": "markdown",
   "metadata": {},
   "source": [
    "Набор данных содержит 607 строк с данными. Пропуски отсутствуют. Присутствует столбец Unnamed, являющийся индексом строк, который не имеет информативности и подлежит удалению в дальнейшем.  \n",
    "Проверям набор данных на соджержание дубликатов."
   ]
  },
  {
   "cell_type": "code",
   "execution_count": 149,
   "metadata": {},
   "outputs": [
    {
     "name": "stdout",
     "output_type": "stream",
     "text": [
      "Количество дубликатов: 0\n",
      "Размер таблицы после удаления дубликатов: (607, 12)\n"
     ]
    }
   ],
   "source": [
    "print('Количество дубликатов: {}'.format(data[data.duplicated()].shape[0]))\n",
    "\n",
    "# Удаляем дубликаты:\n",
    "data = data.drop_duplicates()\n",
    "print('Размер таблицы после удаления дубликатов: {}'.format(data.shape))"
   ]
  },
  {
   "cell_type": "markdown",
   "metadata": {},
   "source": [
    "Определяем выбросы, для чего построим распределение заработной платы по всему набору данных."
   ]
  },
  {
   "cell_type": "code",
   "execution_count": 150,
   "metadata": {},
   "outputs": [
    {
     "data": {
      "image/png": "[encoded data removed]",
      "text/plain": [
       "<Figure size 1500x500 with 2 Axes>"
      ]
     },
     "metadata": {},
     "output_type": "display_data"
    }
   ],
   "source": [
    "fig, axes = plt.subplots(1, 2, figsize=(15, 5))\n",
    "\n",
    "sns.histplot(data['salary_in_usd'], kde=True, ax=axes[0])\n",
    "axes[0].set(xlabel='Размер заработной платы, USD', ylabel='Частота')\n",
    "axes[0].set_title('Распределение заработной платы для всего НД')\n",
    "axes[0].axvline(data['salary_in_usd'].mean(), color='red', linestyle='--', linewidth=0.8)\n",
    "\n",
    "sns.boxplot(data['salary_in_usd'], ax=axes[1], orient='h', medianprops={\"color\": \"red\", \"linestyle\": '--'})\n",
    "axes[1].set(ylabel='Размер заработной платы, USD')\n",
    "axes[1].set_title('Распределение заработной платы по всему НД')\n",
    "\n",
    "plt.show()"
   ]
  },
  {
   "cell_type": "code",
   "execution_count": 151,
   "metadata": {},
   "outputs": [
    {
     "data": {
      "text/html": [
       "<div>\n",
       "<style scoped>\n",
       "    .dataframe tbody tr th:only-of-type {\n",
       "        vertical-align: middle;\n",
       "    }\n",
       "\n",
       "    .dataframe tbody tr th {\n",
       "        vertical-align: top;\n",
       "    }\n",
       "\n",
       "    .dataframe thead th {\n",
       "        text-align: right;\n",
       "    }\n",
       "</style>\n",
       "<table border=\"1\" class=\"dataframe\">\n",
       "  <thead>\n",
       "    <tr style=\"text-align: right;\">\n",
       "      <th></th>\n",
       "      <th>Размер заработной платы, USD</th>\n",
       "    </tr>\n",
       "  </thead>\n",
       "  <tbody>\n",
       "    <tr>\n",
       "      <th>count</th>\n",
       "      <td>607.00</td>\n",
       "    </tr>\n",
       "    <tr>\n",
       "      <th>mean</th>\n",
       "      <td>112297.87</td>\n",
       "    </tr>\n",
       "    <tr>\n",
       "      <th>std</th>\n",
       "      <td>70957.26</td>\n",
       "    </tr>\n",
       "    <tr>\n",
       "      <th>min</th>\n",
       "      <td>2859.00</td>\n",
       "    </tr>\n",
       "    <tr>\n",
       "      <th>25%</th>\n",
       "      <td>62726.00</td>\n",
       "    </tr>\n",
       "    <tr>\n",
       "      <th>50%</th>\n",
       "      <td>101570.00</td>\n",
       "    </tr>\n",
       "    <tr>\n",
       "      <th>75%</th>\n",
       "      <td>150000.00</td>\n",
       "    </tr>\n",
       "    <tr>\n",
       "      <th>max</th>\n",
       "      <td>600000.00</td>\n",
       "    </tr>\n",
       "  </tbody>\n",
       "</table>\n",
       "</div>"
      ],
      "text/plain": [
       "       Размер заработной платы, USD\n",
       "count                        607.00\n",
       "mean                      112297.87\n",
       "std                        70957.26\n",
       "min                         2859.00\n",
       "25%                        62726.00\n",
       "50%                       101570.00\n",
       "75%                       150000.00\n",
       "max                       600000.00"
      ]
     },
     "execution_count": 151,
     "metadata": {},
     "output_type": "execute_result"
    }
   ],
   "source": [
    "# статистические данные по размеру заарботной платы\n",
    "data_agg = data['salary_in_usd'].describe().round(2).to_frame()  # формируем набор статистических данных\n",
    "data_agg.columns = ['Размер заработной платы, USD']              # устанавливаем наименования столбца с зааработной платой\n",
    "data_agg                                                         # выводим набор статистических данных"
   ]
  },
  {
   "cell_type": "markdown",
   "metadata": {},
   "source": [
    "Заработная плата имеет распределение близкое к нормальному. Имеются выбросы."
   ]
  },
  {
   "cell_type": "markdown",
   "metadata": {},
   "source": [
    "Определяем неинформативные признаки."
   ]
  },
  {
   "cell_type": "code",
   "execution_count": 152,
   "metadata": {},
   "outputs": [
    {
     "name": "stdout",
     "output_type": "stream",
     "text": [
      "Unnamed: 0: 100.0% уникальных значений\n",
      "employment_type: 96.87% одинаковых значений\n"
     ]
    }
   ],
   "source": [
    "#список неинформативных признаков\n",
    "low_information_cols = [] \n",
    "\n",
    "#цикл по всем столбцам\n",
    "for col in data.columns:\n",
    "    top_freq = data[col].value_counts(normalize=True).max()                    # наибольшая относительная частота в признаке\n",
    "    nunique_ratio = data[col].nunique() / data[col].count()                    # доля уникальных значений от размера признака\n",
    "    # сравниваем наибольшую частоту с порогом\n",
    "    if top_freq > 0.95:                                                        # если относительная частота > 95%\n",
    "        low_information_cols.append(col)                                       # то столбец добавляем в список малоинфформативных признаков\n",
    "        print(f'{col}: {round(top_freq*100, 2)}% одинаковых значений')         # выводим информацию по признаку\n",
    "    # сравниваем долю уникальных значений с порогом\n",
    "    if nunique_ratio > 0.95:                                                   # если доля уникальных значений > 95%\n",
    "        low_information_cols.append(col)                                       # то столбец добавляем в список малоинфформативных признаков\n",
    "        print(f'{col}: {round(nunique_ratio*100, 2)}% уникальных значений')    # выводим информацию по признаку"
   ]
  },
  {
   "cell_type": "markdown",
   "metadata": {},
   "source": [
    "К неинфоративным признакам добавился признак типа трудоустройства, т.к. в подавляющем большинстве случаев устройства на работу требуется присутствие на рабочем месте в течение полного рабочего дня. Кроме того, в наборе данных существуют еще два признака, которые хоть и не относятся к неинформативным, по сути своей являются излишней информацией, поскольку заменены другим признаком. Это признаки *salary* и *salary_currency*. Кроме того, признаки *employee_residence* и *company_location* по факту являются мультиколлинеарными, т.к. признак *employment_type* в 96.87% случаев имеет значение занятости на полный день, что означает совпадение значений вышеозначенных признаков. Большее влияние на заработную плату специалистов DS оказывает локация специалиста, нежели локация компании, т.к. компании предпочитают платить зарплату исходя из характерной заплаты специалистов в конкретной стране. Таким образом, признаки *employment_type*, *salary*, *salary_currency* и *company_location* необходимо удалить.  "
   ]
  },
  {
   "cell_type": "code",
   "execution_count": 153,
   "metadata": {},
   "outputs": [
    {
     "name": "stdout",
     "output_type": "stream",
     "text": [
      "Результирующее число признаков: 7\n"
     ]
    }
   ],
   "source": [
    "# Удаляем эти признаки.\n",
    "temp = ['salary', 'salary_currency', 'company_location']        # инициируем список расширения малоинформативных признаков\n",
    "low_information_cols.extend(temp)                               # расширяем список малоинформативных признаков\n",
    "cl_data = data.drop(low_information_cols, axis=1)               # удаляем малоинформативные признаки\n",
    "print(f'Результирующее число признаков: {cl_data.shape[1]}')    # выводи результат по количесву признаков"
   ]
  },
  {
   "cell_type": "markdown",
   "metadata": {},
   "source": [
    "Определяем факторы, влияющие на заработную плату специалиста Data Scientist. Алгоритм выполнения этой задачи следующий:\n",
    "\n",
    "1. Определяем количество уникальных значений для каждого категориального признака.\n",
    "2. Определяем алгоритм кодировки признака.\n",
    "3. Выполняем кодировку признаков.\n",
    "4. Составляем матрицу корелляции признаков.\n",
    "5. Выбираем признаки, которые имеют максимальный коэффициент корелляции по отношению к зарплате."
   ]
  },
  {
   "cell_type": "code",
   "execution_count": 154,
   "metadata": {},
   "outputs": [
    {
     "name": "stdout",
     "output_type": "stream",
     "text": [
      "Признак 'experience_level':   3\n",
      "Признак 'employee_residence': 27\n",
      "Признак 'company_size':       3\n"
     ]
    }
   ],
   "source": [
    "# формируем НД для специальности DS\n",
    "cp_data = cl_data[cl_data['job_title'] == 'Data Scientist']                       # формируем выборку по специальности DS \n",
    "cp_data = cp_data.drop(['job_title'], axis=1)                                     # удаляем малоинформативные признаки              \n",
    "# Выводим количество уникальных значений категориальных признаков\n",
    "print(\"Признак 'experience_level':  \", cp_data['experience_level'].nunique())     # выводим к-во уникальных значений для 'experience_level'\n",
    "print(\"Признак 'employee_residence':\", cp_data['employee_residence'].nunique())   # выводим к-во уникальных значений для 'employee_residence'\n",
    "print(\"Признак 'company_size':      \", cp_data['company_size'].nunique())         # выводим к-во уникальных значений для 'company_size'"
   ]
  },
  {
   "cell_type": "markdown",
   "metadata": {},
   "source": [
    "Для признаков *'experience_level'* и *'company_size'* применим порядковый метод кодирования, а для признака *'employee_residence'* применим метод бинарного кодирования."
   ]
  },
  {
   "cell_type": "code",
   "execution_count": 155,
   "metadata": {},
   "outputs": [],
   "source": [
    "# кодируем признак 'experience_level'\n",
    "ord_encoder = ce.OrdinalEncoder(mapping=[{                            # создаем объект OrdinalEncoder, \n",
    "    'col' : 'experience_level',                                       # col - имя столбца, \n",
    "\t'mapping': {'EN': 1, 'MI': 2, 'SE': 3, 'EX': 4}}])                # mapping - словарь с описанием кодировки\n",
    "# применяем трансформацию к столбцу\n",
    "data_bin = ord_encoder.fit_transform(cp_data[['experience_level']])   # преобразуем признак в числовой\n",
    "# добавляем результат к исходному DataFrame\n",
    "cp_data = cp_data.drop(['experience_level'], axis=1)                  # удаляем из НД строковый признак \n",
    "cp_data = pd.concat([cp_data, data_bin], axis=1)                      # добавляем в ДН числовой признак"
   ]
  },
  {
   "cell_type": "code",
   "execution_count": 156,
   "metadata": {},
   "outputs": [],
   "source": [
    "# кодируем признак 'company_size'\n",
    "ord_encoder = ce.OrdinalEncoder(mapping=[{                        # создаем объект OrdinalEncoder, \n",
    "    'col' : 'company_size',                                       # col - имя столбца, \n",
    "\t'mapping': {'S': 1, 'L': 2, 'M': 3}}])                        # mapping - словарь с описанием кодировки\n",
    "# применяем трансформацию к столбцу\n",
    "data_bin = ord_encoder.fit_transform(cp_data[['company_size']])   # преобразуем признак в числовой\n",
    "# добавляем результат к исходному DataFrame\n",
    "cp_data = cp_data.drop(['company_size'], axis=1)                  # удаляем из НД строковый признак \n",
    "cp_data = pd.concat([cp_data, data_bin], axis=1)                  # добавляем в ДН числовой признак"
   ]
  },
  {
   "cell_type": "code",
   "execution_count": 157,
   "metadata": {},
   "outputs": [
    {
     "data": {
      "text/html": [
       "<div>\n",
       "<style scoped>\n",
       "    .dataframe tbody tr th:only-of-type {\n",
       "        vertical-align: middle;\n",
       "    }\n",
       "\n",
       "    .dataframe tbody tr th {\n",
       "        vertical-align: top;\n",
       "    }\n",
       "\n",
       "    .dataframe thead th {\n",
       "        text-align: right;\n",
       "    }\n",
       "</style>\n",
       "<table border=\"1\" class=\"dataframe\">\n",
       "  <thead>\n",
       "    <tr style=\"text-align: right;\">\n",
       "      <th></th>\n",
       "      <th>work_year</th>\n",
       "      <th>salary_in_usd</th>\n",
       "      <th>remote_ratio</th>\n",
       "      <th>experience_level</th>\n",
       "      <th>company_size</th>\n",
       "      <th>employee_residence_0</th>\n",
       "      <th>employee_residence_1</th>\n",
       "      <th>employee_residence_2</th>\n",
       "      <th>employee_residence_3</th>\n",
       "      <th>employee_residence_4</th>\n",
       "    </tr>\n",
       "  </thead>\n",
       "  <tbody>\n",
       "    <tr>\n",
       "      <th>0</th>\n",
       "      <td>2020</td>\n",
       "      <td>79833</td>\n",
       "      <td>0</td>\n",
       "      <td>2</td>\n",
       "      <td>2</td>\n",
       "      <td>0</td>\n",
       "      <td>0</td>\n",
       "      <td>0</td>\n",
       "      <td>0</td>\n",
       "      <td>1</td>\n",
       "    </tr>\n",
       "    <tr>\n",
       "      <th>7</th>\n",
       "      <td>2020</td>\n",
       "      <td>35735</td>\n",
       "      <td>50</td>\n",
       "      <td>2</td>\n",
       "      <td>2</td>\n",
       "      <td>0</td>\n",
       "      <td>0</td>\n",
       "      <td>0</td>\n",
       "      <td>1</td>\n",
       "      <td>0</td>\n",
       "    </tr>\n",
       "    <tr>\n",
       "      <th>10</th>\n",
       "      <td>2020</td>\n",
       "      <td>51321</td>\n",
       "      <td>0</td>\n",
       "      <td>1</td>\n",
       "      <td>1</td>\n",
       "      <td>0</td>\n",
       "      <td>0</td>\n",
       "      <td>0</td>\n",
       "      <td>1</td>\n",
       "      <td>1</td>\n",
       "    </tr>\n",
       "    <tr>\n",
       "      <th>11</th>\n",
       "      <td>2020</td>\n",
       "      <td>40481</td>\n",
       "      <td>0</td>\n",
       "      <td>2</td>\n",
       "      <td>2</td>\n",
       "      <td>0</td>\n",
       "      <td>0</td>\n",
       "      <td>1</td>\n",
       "      <td>0</td>\n",
       "      <td>0</td>\n",
       "    </tr>\n",
       "    <tr>\n",
       "      <th>12</th>\n",
       "      <td>2020</td>\n",
       "      <td>39916</td>\n",
       "      <td>0</td>\n",
       "      <td>1</td>\n",
       "      <td>3</td>\n",
       "      <td>0</td>\n",
       "      <td>0</td>\n",
       "      <td>0</td>\n",
       "      <td>1</td>\n",
       "      <td>1</td>\n",
       "    </tr>\n",
       "  </tbody>\n",
       "</table>\n",
       "</div>"
      ],
      "text/plain": [
       "    work_year  salary_in_usd  remote_ratio  experience_level  company_size  \\\n",
       "0        2020          79833             0                 2             2   \n",
       "7        2020          35735            50                 2             2   \n",
       "10       2020          51321             0                 1             1   \n",
       "11       2020          40481             0                 2             2   \n",
       "12       2020          39916             0                 1             3   \n",
       "\n",
       "    employee_residence_0  employee_residence_1  employee_residence_2  \\\n",
       "0                      0                     0                     0   \n",
       "7                      0                     0                     0   \n",
       "10                     0                     0                     0   \n",
       "11                     0                     0                     1   \n",
       "12                     0                     0                     0   \n",
       "\n",
       "    employee_residence_3  employee_residence_4  \n",
       "0                      0                     1  \n",
       "7                      1                     0  \n",
       "10                     1                     1  \n",
       "11                     0                     0  \n",
       "12                     1                     1  "
      ]
     },
     "execution_count": 157,
     "metadata": {},
     "output_type": "execute_result"
    }
   ],
   "source": [
    "# кодируем признак 'employee_residence'\n",
    "bin_encoder = ce.BinaryEncoder(cols=['employee_residence'])           # указываем столбец для кодирования\n",
    "type_bin = bin_encoder.fit_transform(cp_data['employee_residence'])   # кодируем столбец\n",
    "cp_data = cp_data.drop(['employee_residence'], axis=1)                # удаляем из НД строковый признак \n",
    "cp_data = pd.concat([cp_data, type_bin], axis=1)                      # добавляем в ДН бинарные признаки\n",
    "cp_data.head()"
   ]
  },
  {
   "cell_type": "code",
   "execution_count": 158,
   "metadata": {},
   "outputs": [
    {
     "data": {
      "text/html": [
       "<div>\n",
       "<style scoped>\n",
       "    .dataframe tbody tr th:only-of-type {\n",
       "        vertical-align: middle;\n",
       "    }\n",
       "\n",
       "    .dataframe tbody tr th {\n",
       "        vertical-align: top;\n",
       "    }\n",
       "\n",
       "    .dataframe thead th {\n",
       "        text-align: right;\n",
       "    }\n",
       "</style>\n",
       "<table border=\"1\" class=\"dataframe\">\n",
       "  <thead>\n",
       "    <tr style=\"text-align: right;\">\n",
       "      <th></th>\n",
       "      <th>work_year</th>\n",
       "      <th>salary_in_usd</th>\n",
       "      <th>remote_ratio</th>\n",
       "      <th>experience_level</th>\n",
       "      <th>company_size</th>\n",
       "      <th>employee_residence_0</th>\n",
       "      <th>employee_residence_1</th>\n",
       "      <th>employee_residence_2</th>\n",
       "      <th>employee_residence_3</th>\n",
       "      <th>employee_residence_4</th>\n",
       "    </tr>\n",
       "  </thead>\n",
       "  <tbody>\n",
       "    <tr>\n",
       "      <th>work_year</th>\n",
       "      <td>1.000000</td>\n",
       "      <td>0.393396</td>\n",
       "      <td>0.070287</td>\n",
       "      <td>0.427628</td>\n",
       "      <td>0.592480</td>\n",
       "      <td>0.063671</td>\n",
       "      <td>0.355276</td>\n",
       "      <td>-0.060352</td>\n",
       "      <td>-0.196268</td>\n",
       "      <td>-0.295628</td>\n",
       "    </tr>\n",
       "    <tr>\n",
       "      <th>salary_in_usd</th>\n",
       "      <td>0.393396</td>\n",
       "      <td>1.000000</td>\n",
       "      <td>0.192270</td>\n",
       "      <td>0.599262</td>\n",
       "      <td>0.387544</td>\n",
       "      <td>-0.292528</td>\n",
       "      <td>0.576161</td>\n",
       "      <td>-0.416298</td>\n",
       "      <td>-0.349044</td>\n",
       "      <td>-0.392175</td>\n",
       "    </tr>\n",
       "    <tr>\n",
       "      <th>remote_ratio</th>\n",
       "      <td>0.070287</td>\n",
       "      <td>0.192270</td>\n",
       "      <td>1.000000</td>\n",
       "      <td>0.114779</td>\n",
       "      <td>0.125757</td>\n",
       "      <td>-0.046057</td>\n",
       "      <td>0.329817</td>\n",
       "      <td>-0.033691</td>\n",
       "      <td>-0.309679</td>\n",
       "      <td>-0.233302</td>\n",
       "    </tr>\n",
       "    <tr>\n",
       "      <th>experience_level</th>\n",
       "      <td>0.427628</td>\n",
       "      <td>0.599262</td>\n",
       "      <td>0.114779</td>\n",
       "      <td>1.000000</td>\n",
       "      <td>0.319802</td>\n",
       "      <td>-0.189628</td>\n",
       "      <td>0.351967</td>\n",
       "      <td>-0.218252</td>\n",
       "      <td>-0.253023</td>\n",
       "      <td>-0.255591</td>\n",
       "    </tr>\n",
       "    <tr>\n",
       "      <th>company_size</th>\n",
       "      <td>0.592480</td>\n",
       "      <td>0.387544</td>\n",
       "      <td>0.125757</td>\n",
       "      <td>0.319802</td>\n",
       "      <td>1.000000</td>\n",
       "      <td>-0.169791</td>\n",
       "      <td>0.273630</td>\n",
       "      <td>-0.127253</td>\n",
       "      <td>-0.150257</td>\n",
       "      <td>-0.129437</td>\n",
       "    </tr>\n",
       "    <tr>\n",
       "      <th>employee_residence_0</th>\n",
       "      <td>0.063671</td>\n",
       "      <td>-0.292528</td>\n",
       "      <td>-0.046057</td>\n",
       "      <td>-0.189628</td>\n",
       "      <td>-0.169791</td>\n",
       "      <td>1.000000</td>\n",
       "      <td>-0.244804</td>\n",
       "      <td>0.046291</td>\n",
       "      <td>0.238768</td>\n",
       "      <td>0.105409</td>\n",
       "    </tr>\n",
       "    <tr>\n",
       "      <th>employee_residence_1</th>\n",
       "      <td>0.355276</td>\n",
       "      <td>0.576161</td>\n",
       "      <td>0.329817</td>\n",
       "      <td>0.351967</td>\n",
       "      <td>0.273630</td>\n",
       "      <td>-0.244804</td>\n",
       "      <td>1.000000</td>\n",
       "      <td>-0.501960</td>\n",
       "      <td>-0.553040</td>\n",
       "      <td>-0.533461</td>\n",
       "    </tr>\n",
       "    <tr>\n",
       "      <th>employee_residence_2</th>\n",
       "      <td>-0.060352</td>\n",
       "      <td>-0.416298</td>\n",
       "      <td>-0.033691</td>\n",
       "      <td>-0.218252</td>\n",
       "      <td>-0.127253</td>\n",
       "      <td>0.046291</td>\n",
       "      <td>-0.501960</td>\n",
       "      <td>1.000000</td>\n",
       "      <td>0.318758</td>\n",
       "      <td>0.360541</td>\n",
       "    </tr>\n",
       "    <tr>\n",
       "      <th>employee_residence_3</th>\n",
       "      <td>-0.196268</td>\n",
       "      <td>-0.349044</td>\n",
       "      <td>-0.309679</td>\n",
       "      <td>-0.253023</td>\n",
       "      <td>-0.150257</td>\n",
       "      <td>0.238768</td>\n",
       "      <td>-0.553040</td>\n",
       "      <td>0.318758</td>\n",
       "      <td>1.000000</td>\n",
       "      <td>0.514553</td>\n",
       "    </tr>\n",
       "    <tr>\n",
       "      <th>employee_residence_4</th>\n",
       "      <td>-0.295628</td>\n",
       "      <td>-0.392175</td>\n",
       "      <td>-0.233302</td>\n",
       "      <td>-0.255591</td>\n",
       "      <td>-0.129437</td>\n",
       "      <td>0.105409</td>\n",
       "      <td>-0.533461</td>\n",
       "      <td>0.360541</td>\n",
       "      <td>0.514553</td>\n",
       "      <td>1.000000</td>\n",
       "    </tr>\n",
       "  </tbody>\n",
       "</table>\n",
       "</div>"
      ],
      "text/plain": [
       "                      work_year  salary_in_usd  remote_ratio  \\\n",
       "work_year              1.000000       0.393396      0.070287   \n",
       "salary_in_usd          0.393396       1.000000      0.192270   \n",
       "remote_ratio           0.070287       0.192270      1.000000   \n",
       "experience_level       0.427628       0.599262      0.114779   \n",
       "company_size           0.592480       0.387544      0.125757   \n",
       "employee_residence_0   0.063671      -0.292528     -0.046057   \n",
       "employee_residence_1   0.355276       0.576161      0.329817   \n",
       "employee_residence_2  -0.060352      -0.416298     -0.033691   \n",
       "employee_residence_3  -0.196268      -0.349044     -0.309679   \n",
       "employee_residence_4  -0.295628      -0.392175     -0.233302   \n",
       "\n",
       "                      experience_level  company_size  employee_residence_0  \\\n",
       "work_year                     0.427628      0.592480              0.063671   \n",
       "salary_in_usd                 0.599262      0.387544             -0.292528   \n",
       "remote_ratio                  0.114779      0.125757             -0.046057   \n",
       "experience_level              1.000000      0.319802             -0.189628   \n",
       "company_size                  0.319802      1.000000             -0.169791   \n",
       "employee_residence_0         -0.189628     -0.169791              1.000000   \n",
       "employee_residence_1          0.351967      0.273630             -0.244804   \n",
       "employee_residence_2         -0.218252     -0.127253              0.046291   \n",
       "employee_residence_3         -0.253023     -0.150257              0.238768   \n",
       "employee_residence_4         -0.255591     -0.129437              0.105409   \n",
       "\n",
       "                      employee_residence_1  employee_residence_2  \\\n",
       "work_year                         0.355276             -0.060352   \n",
       "salary_in_usd                     0.576161             -0.416298   \n",
       "remote_ratio                      0.329817             -0.033691   \n",
       "experience_level                  0.351967             -0.218252   \n",
       "company_size                      0.273630             -0.127253   \n",
       "employee_residence_0             -0.244804              0.046291   \n",
       "employee_residence_1              1.000000             -0.501960   \n",
       "employee_residence_2             -0.501960              1.000000   \n",
       "employee_residence_3             -0.553040              0.318758   \n",
       "employee_residence_4             -0.533461              0.360541   \n",
       "\n",
       "                      employee_residence_3  employee_residence_4  \n",
       "work_year                        -0.196268             -0.295628  \n",
       "salary_in_usd                    -0.349044             -0.392175  \n",
       "remote_ratio                     -0.309679             -0.233302  \n",
       "experience_level                 -0.253023             -0.255591  \n",
       "company_size                     -0.150257             -0.129437  \n",
       "employee_residence_0              0.238768              0.105409  \n",
       "employee_residence_1             -0.553040             -0.533461  \n",
       "employee_residence_2              0.318758              0.360541  \n",
       "employee_residence_3              1.000000              0.514553  \n",
       "employee_residence_4              0.514553              1.000000  "
      ]
     },
     "execution_count": 158,
     "metadata": {},
     "output_type": "execute_result"
    }
   ],
   "source": [
    "cp_data.corr()  # строим матрицу корреляций между признакми НД"
   ]
  },
  {
   "cell_type": "markdown",
   "metadata": {},
   "source": [
    "Наибольшие коэффициенты корреляции зарплаты наблюдаются с признакми опыта работы и страны проживания. Т.е. наибольщее влияние на уровень оплаты труда специалиста DS оказывают опыт работы и страна проживания. Остальные признаки достаточно слабо, но тоже влияют на зарплату специалиста DS."
   ]
  },
  {
   "cell_type": "markdown",
   "metadata": {},
   "source": [
    "### Распределение заарботной платы специалистов DS по годам."
   ]
  },
  {
   "cell_type": "code",
   "execution_count": 159,
   "metadata": {},
   "outputs": [
    {
     "data": {
      "image/png": "[encoded data removed]",
      "text/plain": [
       "<Figure size 640x480 with 1 Axes>"
      ]
     },
     "metadata": {},
     "output_type": "display_data"
    }
   ],
   "source": [
    "# выбираем данные по специалистам DS\n",
    "ds_data = cl_data[cl_data['job_title'] == 'Data Scientist']\n",
    "# формируем и выводим диаграммы распределения ЗП по годам\n",
    "ax = sns.boxplot(ds_data, x='salary_in_usd', y='work_year', orient='h', medianprops={\"color\": \"red\", \"linestyle\": '--'})\n",
    "ax.set(xlabel='Размер заработной платы специалистов DS', ylabel='Год')\n",
    "plt.title('Распределение зарплаты по годам')\n",
    "plt.show()"
   ]
  },
  {
   "cell_type": "code",
   "execution_count": 98,
   "metadata": {},
   "outputs": [
    {
     "name": "stdout",
     "output_type": "stream",
     "text": [
      "Зарплата специалистов DS в зависимости от года работы\n"
     ]
    },
    {
     "data": {
      "text/html": [
       "<div>\n",
       "<style scoped>\n",
       "    .dataframe tbody tr th:only-of-type {\n",
       "        vertical-align: middle;\n",
       "    }\n",
       "\n",
       "    .dataframe tbody tr th {\n",
       "        vertical-align: top;\n",
       "    }\n",
       "\n",
       "    .dataframe thead th {\n",
       "        text-align: right;\n",
       "    }\n",
       "</style>\n",
       "<table border=\"1\" class=\"dataframe\">\n",
       "  <thead>\n",
       "    <tr style=\"text-align: right;\">\n",
       "      <th></th>\n",
       "      <th>count</th>\n",
       "      <th>mean</th>\n",
       "      <th>std</th>\n",
       "      <th>min</th>\n",
       "      <th>25%</th>\n",
       "      <th>50%</th>\n",
       "      <th>75%</th>\n",
       "      <th>max</th>\n",
       "    </tr>\n",
       "    <tr>\n",
       "      <th>work_year</th>\n",
       "      <th></th>\n",
       "      <th></th>\n",
       "      <th></th>\n",
       "      <th></th>\n",
       "      <th></th>\n",
       "      <th></th>\n",
       "      <th></th>\n",
       "      <th></th>\n",
       "    </tr>\n",
       "  </thead>\n",
       "  <tbody>\n",
       "    <tr>\n",
       "      <th>2020</th>\n",
       "      <td>21.0</td>\n",
       "      <td>85970.52</td>\n",
       "      <td>81436.65</td>\n",
       "      <td>21669.0</td>\n",
       "      <td>42197.0</td>\n",
       "      <td>62726.0</td>\n",
       "      <td>105000.0</td>\n",
       "      <td>412000.0</td>\n",
       "    </tr>\n",
       "    <tr>\n",
       "      <th>2021</th>\n",
       "      <td>45.0</td>\n",
       "      <td>70671.73</td>\n",
       "      <td>45422.97</td>\n",
       "      <td>2859.0</td>\n",
       "      <td>33808.0</td>\n",
       "      <td>73000.0</td>\n",
       "      <td>100000.0</td>\n",
       "      <td>165000.0</td>\n",
       "    </tr>\n",
       "    <tr>\n",
       "      <th>2022</th>\n",
       "      <td>77.0</td>\n",
       "      <td>136172.09</td>\n",
       "      <td>54563.08</td>\n",
       "      <td>18442.0</td>\n",
       "      <td>100000.0</td>\n",
       "      <td>140000.0</td>\n",
       "      <td>176000.0</td>\n",
       "      <td>260000.0</td>\n",
       "    </tr>\n",
       "  </tbody>\n",
       "</table>\n",
       "</div>"
      ],
      "text/plain": [
       "           count       mean       std      min       25%       50%       75%  \\\n",
       "work_year                                                                      \n",
       "2020        21.0   85970.52  81436.65  21669.0   42197.0   62726.0  105000.0   \n",
       "2021        45.0   70671.73  45422.97   2859.0   33808.0   73000.0  100000.0   \n",
       "2022        77.0  136172.09  54563.08  18442.0  100000.0  140000.0  176000.0   \n",
       "\n",
       "                max  \n",
       "work_year            \n",
       "2020       412000.0  \n",
       "2021       165000.0  \n",
       "2022       260000.0  "
      ]
     },
     "execution_count": 98,
     "metadata": {},
     "output_type": "execute_result"
    }
   ],
   "source": [
    "# выводим статистичекие данные по годам\n",
    "data_agg = ds_data.groupby('work_year')['salary_in_usd'].describe().round(2)   # группируем данные по году\n",
    "print('Зарплата специалистов DS в зависимости от года работы')                 # выводим заголовок данных\n",
    "data_agg                                                                       # выводим статистические данные"
   ]
  },
  {
   "cell_type": "markdown",
   "metadata": {},
   "source": [
    "Наблюдается рост заработной платы специалистов DS по годам. Статистическую значимость различий определим в следующем разделе при проведении статистического теста. "
   ]
  },
  {
   "cell_type": "markdown",
   "metadata": {},
   "source": [
    "### Соотношение заработной платы специалистов DS и DE в 2022 году."
   ]
  },
  {
   "cell_type": "code",
   "execution_count": 99,
   "metadata": {},
   "outputs": [
    {
     "data": {
      "image/png": "[encoded data removed]",
      "text/plain": [
       "<Figure size 640x480 with 1 Axes>"
      ]
     },
     "metadata": {},
     "output_type": "display_data"
    }
   ],
   "source": [
    "# выбираем данные по специалистам DS\n",
    "ds_mask = cl_data['job_title'] == 'Data Scientist'  # маска для специалистов DS\n",
    "de_mask = cl_data['job_title'] == 'Data Engineer'   # маска для специалистов DE\n",
    "year_mask = cl_data['work_year'] == 2022            # маска для периода работы\n",
    "dy_data = cl_data[(ds_mask | de_mask) & year_mask]  # формируем необходимую выборку из НД\n",
    "# строим распределение заработной платы по специальностям в 2022 году\n",
    "ax = sns.boxplot(dy_data, x='salary_in_usd', y='job_title', orient='h', medianprops={\"color\": \"red\", \"linestyle\": '--'})\n",
    "ax.set(xlabel='Размер заработной платы', ylabel='Специальность')\n",
    "plt.title('Распределение заработной платы по специальностям в 2022 году')\n",
    "plt.show()"
   ]
  },
  {
   "cell_type": "code",
   "execution_count": 100,
   "metadata": {},
   "outputs": [
    {
     "name": "stdout",
     "output_type": "stream",
     "text": [
      "Зарплата специалистоd DS и DE в 2022 году\n"
     ]
    },
    {
     "data": {
      "text/html": [
       "<div>\n",
       "<style scoped>\n",
       "    .dataframe tbody tr th:only-of-type {\n",
       "        vertical-align: middle;\n",
       "    }\n",
       "\n",
       "    .dataframe tbody tr th {\n",
       "        vertical-align: top;\n",
       "    }\n",
       "\n",
       "    .dataframe thead th {\n",
       "        text-align: right;\n",
       "    }\n",
       "</style>\n",
       "<table border=\"1\" class=\"dataframe\">\n",
       "  <thead>\n",
       "    <tr style=\"text-align: right;\">\n",
       "      <th></th>\n",
       "      <th>count</th>\n",
       "      <th>mean</th>\n",
       "      <th>std</th>\n",
       "      <th>min</th>\n",
       "      <th>25%</th>\n",
       "      <th>50%</th>\n",
       "      <th>75%</th>\n",
       "      <th>max</th>\n",
       "    </tr>\n",
       "    <tr>\n",
       "      <th>job_title</th>\n",
       "      <th></th>\n",
       "      <th></th>\n",
       "      <th></th>\n",
       "      <th></th>\n",
       "      <th></th>\n",
       "      <th></th>\n",
       "      <th></th>\n",
       "      <th></th>\n",
       "    </tr>\n",
       "  </thead>\n",
       "  <tbody>\n",
       "    <tr>\n",
       "      <th>Data Engineer</th>\n",
       "      <td>89.0</td>\n",
       "      <td>126375.70</td>\n",
       "      <td>55954.40</td>\n",
       "      <td>25000.0</td>\n",
       "      <td>78526.0</td>\n",
       "      <td>120000.0</td>\n",
       "      <td>160000.0</td>\n",
       "      <td>324000.0</td>\n",
       "    </tr>\n",
       "    <tr>\n",
       "      <th>Data Scientist</th>\n",
       "      <td>77.0</td>\n",
       "      <td>136172.09</td>\n",
       "      <td>54563.08</td>\n",
       "      <td>18442.0</td>\n",
       "      <td>100000.0</td>\n",
       "      <td>140000.0</td>\n",
       "      <td>176000.0</td>\n",
       "      <td>260000.0</td>\n",
       "    </tr>\n",
       "  </tbody>\n",
       "</table>\n",
       "</div>"
      ],
      "text/plain": [
       "                count       mean       std      min       25%       50%  \\\n",
       "job_title                                                                 \n",
       "Data Engineer    89.0  126375.70  55954.40  25000.0   78526.0  120000.0   \n",
       "Data Scientist   77.0  136172.09  54563.08  18442.0  100000.0  140000.0   \n",
       "\n",
       "                     75%       max  \n",
       "job_title                           \n",
       "Data Engineer   160000.0  324000.0  \n",
       "Data Scientist  176000.0  260000.0  "
      ]
     },
     "execution_count": 100,
     "metadata": {},
     "output_type": "execute_result"
    }
   ],
   "source": [
    "# выводим статисстичекие данные по ЗП в 2022 году\n",
    "data_agg = dy_data.groupby('job_title')['salary_in_usd'].describe().round(2)  # группируем данные по специальностям\n",
    "print('Зарплата специалистоd DS и DE в 2022 году')                            # выводим заголовок данных\n",
    "data_agg                                                                      # выводим статистические данные"
   ]
  },
  {
   "cell_type": "markdown",
   "metadata": {},
   "source": [
    "Заработная плата  у специалистов DS в 2022 году в среднем выше заработной платы специалистов DE. Статистическую значимость различий определим в следующем разделе при проведении статистического теста."
   ]
  },
  {
   "cell_type": "markdown",
   "metadata": {},
   "source": [
    "### Соотношение зарплаты специалистов DS в компаниях различной величины"
   ]
  },
  {
   "cell_type": "code",
   "execution_count": 101,
   "metadata": {},
   "outputs": [
    {
     "data": {
      "image/png": "[encoded data removed]",
      "text/plain": [
       "<Figure size 640x480 with 1 Axes>"
      ]
     },
     "metadata": {},
     "output_type": "display_data"
    }
   ],
   "source": [
    "# формируем и выводим диаграммы распределения ЗП для компний различных размеров\n",
    "ax = sns.boxplot(ds_data, x='salary_in_usd', y='company_size', orient='h', medianprops={\"color\": \"red\", \"linestyle\": '--'})\n",
    "ax.set(xlabel='Размер заработной платы', ylabel='Размер компании')\n",
    "plt.title('Распределение заработной платы в зависимости от размера компании')\n",
    "plt.show()"
   ]
  },
  {
   "cell_type": "code",
   "execution_count": 102,
   "metadata": {},
   "outputs": [
    {
     "name": "stdout",
     "output_type": "stream",
     "text": [
      "Зарплата специалистов DS в зависимости от размера компании\n"
     ]
    },
    {
     "data": {
      "text/html": [
       "<div>\n",
       "<style scoped>\n",
       "    .dataframe tbody tr th:only-of-type {\n",
       "        vertical-align: middle;\n",
       "    }\n",
       "\n",
       "    .dataframe tbody tr th {\n",
       "        vertical-align: top;\n",
       "    }\n",
       "\n",
       "    .dataframe thead th {\n",
       "        text-align: right;\n",
       "    }\n",
       "</style>\n",
       "<table border=\"1\" class=\"dataframe\">\n",
       "  <thead>\n",
       "    <tr style=\"text-align: right;\">\n",
       "      <th></th>\n",
       "      <th>count</th>\n",
       "      <th>mean</th>\n",
       "      <th>std</th>\n",
       "      <th>min</th>\n",
       "      <th>25%</th>\n",
       "      <th>50%</th>\n",
       "      <th>75%</th>\n",
       "      <th>max</th>\n",
       "    </tr>\n",
       "    <tr>\n",
       "      <th>company_size</th>\n",
       "      <th></th>\n",
       "      <th></th>\n",
       "      <th></th>\n",
       "      <th></th>\n",
       "      <th></th>\n",
       "      <th></th>\n",
       "      <th></th>\n",
       "      <th></th>\n",
       "    </tr>\n",
       "  </thead>\n",
       "  <tbody>\n",
       "    <tr>\n",
       "      <th>L</th>\n",
       "      <td>45.0</td>\n",
       "      <td>103313.36</td>\n",
       "      <td>71815.18</td>\n",
       "      <td>13400.0</td>\n",
       "      <td>50000.0</td>\n",
       "      <td>90734.0</td>\n",
       "      <td>135000.0</td>\n",
       "      <td>412000.0</td>\n",
       "    </tr>\n",
       "    <tr>\n",
       "      <th>M</th>\n",
       "      <td>77.0</td>\n",
       "      <td>126380.75</td>\n",
       "      <td>56389.53</td>\n",
       "      <td>4000.0</td>\n",
       "      <td>90000.0</td>\n",
       "      <td>130000.0</td>\n",
       "      <td>165000.0</td>\n",
       "      <td>260000.0</td>\n",
       "    </tr>\n",
       "    <tr>\n",
       "      <th>S</th>\n",
       "      <td>21.0</td>\n",
       "      <td>51925.76</td>\n",
       "      <td>33216.29</td>\n",
       "      <td>2859.0</td>\n",
       "      <td>21669.0</td>\n",
       "      <td>49268.0</td>\n",
       "      <td>82500.0</td>\n",
       "      <td>105000.0</td>\n",
       "    </tr>\n",
       "  </tbody>\n",
       "</table>\n",
       "</div>"
      ],
      "text/plain": [
       "              count       mean       std      min      25%       50%  \\\n",
       "company_size                                                           \n",
       "L              45.0  103313.36  71815.18  13400.0  50000.0   90734.0   \n",
       "M              77.0  126380.75  56389.53   4000.0  90000.0  130000.0   \n",
       "S              21.0   51925.76  33216.29   2859.0  21669.0   49268.0   \n",
       "\n",
       "                   75%       max  \n",
       "company_size                      \n",
       "L             135000.0  412000.0  \n",
       "M             165000.0  260000.0  \n",
       "S              82500.0  105000.0  "
      ]
     },
     "execution_count": 102,
     "metadata": {},
     "output_type": "execute_result"
    }
   ],
   "source": [
    "# выводим статисстичекие данные по ЗП в компниях различной величины\n",
    "data_agg = ds_data.groupby('company_size')['salary_in_usd'].describe().round(2)  # группируем данные по размеру компаний\n",
    "print('Зарплата специалистов DS в зависимости от размера компании')              # выводим заголовок данных\n",
    "data_agg                                                                         # выводим статистические данные"
   ]
  },
  {
   "cell_type": "markdown",
   "metadata": {},
   "source": [
    "Заработная плата специалистов DS в компаниях разного размера различна. Максимальная зарплата в компаниях среднего размера, минимальная в малых компаниях. Статистическую значимость различий определим в следующем разделе при проведении статистического теста."
   ]
  },
  {
   "cell_type": "markdown",
   "metadata": {},
   "source": [
    "### Определяем связь между наличием должностей DS и DE и размером компании"
   ]
  },
  {
   "cell_type": "code",
   "execution_count": 103,
   "metadata": {},
   "outputs": [
    {
     "data": {
      "image/png": "[encoded data removed]",
      "text/plain": [
       "<Figure size 640x480 with 1 Axes>"
      ]
     },
     "metadata": {},
     "output_type": "display_data"
    }
   ],
   "source": [
    "dse_data = cl_data[ds_mask | de_mask]\n",
    "# строим диаграмму количества РМ дл DS и DE в компниях разной величины\n",
    "ax = sns.countplot(data=dse_data, x=data['company_size'], hue='company_size')\n",
    "ax.set(xlabel='Размер компании', ylabel='Количество')\n",
    "plt.title('Количество специалистов DS и DE в зависимости от размера компании')\n",
    "plt.show()"
   ]
  },
  {
   "cell_type": "markdown",
   "metadata": {},
   "source": [
    "В компаниях различных размеров различное количество рабочих мест для специалистов DS и DE. Статистическую значимость различий определим в следующем разделе при проведении статистического теста."
   ]
  },
  {
   "cell_type": "markdown",
   "metadata": {},
   "source": [
    "## Статистический анализ данных"
   ]
  },
  {
   "cell_type": "code",
   "execution_count": 104,
   "metadata": {},
   "outputs": [],
   "source": [
    "# функция для принятия решения о нормальности\n",
    "def decision_normality(p):\n",
    "    print('p-value = {:.3f}'.format(p))  # выводим значение статистической значимости\n",
    "    if p <= alpha:\n",
    "        print('p-значение меньше, чем заданный уровень значимости {:.2f}. Распределение отлично от нормального'.format(alpha))\n",
    "    else:\n",
    "        print('p-значение больше, чем заданный уровень значимости {:.2f}. Распределение является нормальным'.format(alpha))\n",
    "\n",
    "\n",
    "# функция для принятия решения об отклонении нулевой гипотезы\n",
    "def decision_hypothesis(p):\n",
    "    print('p-value = {:.3f}'.format(p))  # выводим значение статистической значимости\n",
    "    if p <= alpha:\n",
    "        print('p-значение меньше, чем заданный уровень значимости {:.2f}. Отвергаем нулевую гипотезу в пользу альтернативной.'.format(alpha))\n",
    "    else:\n",
    "        print('p-значение больше, чем заданный уровень значимости {:.2f}. У нас нет оснований отвергнуть нулевую гипотезу.'.format(alpha))\n",
    "      "
   ]
  },
  {
   "cell_type": "markdown",
   "metadata": {},
   "source": [
    "### Наблюдается ли ежегодный рост зарплат у специалистов Data Scientist?"
   ]
  },
  {
   "cell_type": "markdown",
   "metadata": {},
   "source": [
    "**Сформулируем нулевую и альтернативную гипотезы**\n",
    "\n",
    "Нулевая гипотеза: ежегодного роста зарплат у специалистов DS не наблюдается: 2020 ($\\mu_1$), 2021 ($\\mu_2$), 2022 ($\\mu_3$).  \n",
    "$$H_0: \\mu_1 = \\mu_2 = \\mu_3$$  \n",
    "Альтернативная гипотеза: наблюдается ежегодный рост зарплат у специалистов DS: 2020 ($\\mu_1$), 2021 ($\\mu_2$), 2022 ($\\mu_3$). \n",
    "$$H_1: \\mu_1 < \\mu_2 < \\mu_3$$ \n",
    "\n",
    "**Проверка признакка на нормальность**  \n",
    "Спомощью теста Шапиро-Уилка проверим, распределен ли признак нормально."
   ]
  },
  {
   "cell_type": "code",
   "execution_count": 105,
   "metadata": {},
   "outputs": [
    {
     "name": "stdout",
     "output_type": "stream",
     "text": [
      "Для 2020 года:\n",
      "p-value = 0.000\n",
      "p-значение меньше, чем заданный уровень значимости 0.05. Распределение отлично от нормального\n",
      "Для 2021 года:\n",
      "p-value = 0.125\n",
      "p-значение больше, чем заданный уровень значимости 0.05. Распределение является нормальным\n",
      "Для 2022 года:\n",
      "p-value = 0.327\n",
      "p-значение больше, чем заданный уровень значимости 0.05. Распределение является нормальным\n"
     ]
    }
   ],
   "source": [
    "# значения заработной платы по годам\n",
    "year_2020 = ds_data.loc[ds_data['work_year']==2020, 'salary_in_usd']\n",
    "year_2021 = ds_data.loc[ds_data['work_year']==2021, 'salary_in_usd']\n",
    "year_2022 = ds_data.loc[ds_data['work_year']==2022, 'salary_in_usd']\n",
    "\n",
    "# проводим тест Шапиро-Уилка\n",
    "print('Для 2020 года:')              #выводим заголовок для 2020 года\n",
    "result = stats.shapiro(year_2020)    # проводим тест на нормальность распределения ЗП\n",
    "decision_normality(result[1])        # оцениваем нормальность распределения ЗП\n",
    "\n",
    "print('Для 2021 года:')              # выводим заголовок для 2021 года\n",
    "result = stats.shapiro(year_2021)    # проводим тест на нормальность распределения ЗП\n",
    "decision_normality(result[1])        # оцениваем нормальность распределения ЗП\n",
    "\n",
    "print('Для 2022 года:')              # выводим заголовок для 2022 года\n",
    "result = stats.shapiro(year_2022)    # проводим тест на нормальность распределения ЗП\n",
    "decision_normality(result[1])        # оцениваем нормальность распределения ЗП"
   ]
  },
  {
   "cell_type": "markdown",
   "metadata": {},
   "source": [
    "**Выбираем подходящий статистический тест**\n",
    "\n",
    "Для этого ответим на следующие вопросы:  \n",
    "\n",
    "Для выбора нужного теста воспользуемся алгоритмом выбора теста. Для этого ответим на следующие вопросы:\n",
    "* Какой тип у признака «Заработная плата в долларах»? — Количественный.\n",
    "* Сколько сравниваемых групп? — три.\n",
    "* Группы зависимы? — Нет.\n",
    "* Признак распределён по нормальному закону? — Нет. \n",
    "\n",
    "Для проверки нашей гипотезы можно использовать критерий Краскела — Уоллиса.\n",
    "\n",
    "**Проведем тест**"
   ]
  },
  {
   "cell_type": "code",
   "execution_count": 106,
   "metadata": {},
   "outputs": [
    {
     "name": "stdout",
     "output_type": "stream",
     "text": [
      "p-value = 0.000\n",
      "p-значение меньше, чем заданный уровень значимости 0.05. Отвергаем нулевую гипотезу в пользу альтернативной.\n"
     ]
    }
   ],
   "source": [
    "# проводим тест\n",
    "_, p = stats.kruskal(year_2020, year_2021, year_2022)     # проверяем статистическую значимость\n",
    "decision_hypothesis(p)                                    # проверяем гипотезы на приемлимость"
   ]
  },
  {
   "cell_type": "markdown",
   "metadata": {},
   "source": [
    "**Вывод** \n",
    "\n",
    "Наблюдается ежегодный рост заработной платы специалистов DS."
   ]
  },
  {
   "cell_type": "markdown",
   "metadata": {},
   "source": [
    "### Как соотносятся зарплаты Data Scientist и Data Engineer в 2022 году?"
   ]
  },
  {
   "cell_type": "markdown",
   "metadata": {},
   "source": [
    "**Сформулируем нулевую и альтернативную гипотезы**\n",
    "\n",
    "Нулевая гипотеза: зарплаты в 2022 году у специалистов DS ($\\mu_1$) равна зарплате специлистов DE ($\\mu_2$).  \n",
    "$$H_0: \\mu_1 = \\mu_2$$  \n",
    "Альтернативная гипотеза: зарплаты в 2022 году у специалистов DS ($\\mu_1$) не равна зарплате специалистов DE ($\\mu_2$). \n",
    "$$H_1: \\mu_1 \\neq \\mu_2$$ \n",
    "\n",
    "**Проверка признакка на нормальность**  \n",
    "Спомощью теста Шапиро-Уилка проверим, распределен ли признак нормально."
   ]
  },
  {
   "cell_type": "code",
   "execution_count": 107,
   "metadata": {},
   "outputs": [
    {
     "name": "stdout",
     "output_type": "stream",
     "text": [
      "Для Data Scientist:\n",
      "p-value = 0.327\n",
      "p-значение больше, чем заданный уровень значимости 0.05. Распределение является нормальным\n",
      "Для Data Engineer:\n",
      "p-value = 0.010\n",
      "p-значение меньше, чем заданный уровень значимости 0.05. Распределение отлично от нормального\n"
     ]
    }
   ],
   "source": [
    "# значения заработной платы по годам\n",
    "ds = dy_data.loc[dy_data['job_title']=='Data Scientist', 'salary_in_usd']\n",
    "de = dy_data.loc[dy_data['job_title']=='Data Engineer', 'salary_in_usd']\n",
    "\n",
    "# проводим тест Шапиро-Уилка\n",
    "print('Для Data Scientist:')     # выводим заголовок для специальности DS\n",
    "result = stats.shapiro(ds)       # проводим тест на нормальность распределения ЗП \n",
    "decision_normality(result[1])    # оцениваем нормальность распределения ЗП\n",
    "\n",
    "print('Для Data Engineer:')      # выводим заголовок для специальности DE\n",
    "result = stats.shapiro(de)       # проводим тест на нормальность распределения ЗП\n",
    "decision_normality(result[1])    # оцениваем нормальность распределения ЗП"
   ]
  },
  {
   "cell_type": "markdown",
   "metadata": {},
   "source": [
    "**Выбираем подходящий статистический тест**\n",
    "\n",
    "Для этого ответим на следующие вопросы:  \n",
    "\n",
    "Для выбора нужного теста воспользуемся алгоритмом выбора теста. Для этого ответим на следующие вопросы:\n",
    "* Какой тип у признака «Заработная плата в долларах»? — Количественный.\n",
    "* Сколько сравниваемых групп? — две.\n",
    "* Группы зависимы? — Нет.\n",
    "* Признак распределён по нормальному закону? — Нет. \n",
    "\n",
    "Для проверки нашей гипотезы можно использовать U-критерий Манна — Уитни.\n",
    "\n",
    "**Проведем тест**"
   ]
  },
  {
   "cell_type": "code",
   "execution_count": 108,
   "metadata": {},
   "outputs": [
    {
     "name": "stdout",
     "output_type": "stream",
     "text": [
      "p-value = 0.155\n",
      "p-значение больше, чем заданный уровень значимости 0.05. У нас нет оснований отвергнуть нулевую гипотезу.\n"
     ]
    }
   ],
   "source": [
    "# проводим тест\n",
    "_, p = stats.mannwhitneyu(ds, de, alternative='two-sided')   # проверяем статистическую значимость\n",
    "decision_hypothesis(p)                                       # проверяем гипотезы на приемлимость"
   ]
  },
  {
   "cell_type": "markdown",
   "metadata": {},
   "source": [
    "**Вывод**\n",
    "\n",
    "Заработная плата специалистов DS не отличаетсят от заработной платы специалистов DE в 2022 году."
   ]
  },
  {
   "cell_type": "markdown",
   "metadata": {},
   "source": [
    "### Как соотносятся зарплаты специалистов Data Scientist в компаниях различных размеров?"
   ]
  },
  {
   "cell_type": "markdown",
   "metadata": {},
   "source": [
    "**Сформулируем нулевую и альтернативную гипотезы**\n",
    "\n",
    "Нулевая гипотеза: величина заработной платы у специалистов DS в компаниях различных размеров не отличается: 'S' ($\\mu_1$), 'M' ($\\mu_2$), 'L' ($\\mu_3$).  \n",
    "$$H_0: \\mu_1 = \\mu_2 = \\mu_3$$  \n",
    "Альтернативная величина заработной платы у специалистов DS в компаниях различных размеров отличается: 'S' ($\\mu_1$), 'M' ($\\mu_2$), 'L' ($\\mu_3$). \n",
    "$$H_1: \\mu_1 \\neq \\mu_2 \\neq \\mu_3$$ \n",
    "\n",
    "**Проверка признакка на нормальность**\n",
    "\n",
    "Спомощью теста Шапиро-Уилка проверим, распределен ли признак нормально."
   ]
  },
  {
   "cell_type": "code",
   "execution_count": 109,
   "metadata": {},
   "outputs": [
    {
     "name": "stdout",
     "output_type": "stream",
     "text": [
      "Для S компаний:\n",
      "p-value = 0.189\n",
      "p-значение больше, чем заданный уровень значимости 0.05. Распределение является нормальным\n",
      "Для M компаний:\n",
      "p-value = 0.639\n",
      "p-значение больше, чем заданный уровень значимости 0.05. Распределение является нормальным\n",
      "Для L компаний:\n",
      "p-value = 0.000\n",
      "p-значение меньше, чем заданный уровень значимости 0.05. Распределение отлично от нормального\n"
     ]
    }
   ],
   "source": [
    "# значения заработной платы по размерам компний\n",
    "s_data = ds_data.loc[ds_data['company_size']=='S', 'salary_in_usd']\n",
    "m_data = ds_data.loc[ds_data['company_size']=='M', 'salary_in_usd']\n",
    "l_data = ds_data.loc[ds_data['company_size']=='L', 'salary_in_usd']\n",
    "\n",
    "# проводим тест Шапиро-Уилка\n",
    "print('Для S компаний:')             # выводим заголовок для малых компаний\n",
    "result = stats.shapiro(s_data)       # тестируем НД на нормальность распределения НД\n",
    "decision_normality(result[1])        # определяем нормальность распределения ЗП\n",
    "\n",
    "print('Для M компаний:')             # выводим заголовок для \n",
    "result = stats.shapiro(m_data)       # тестируем НД на нормальность распределения НД\n",
    "decision_normality(result[1])        # определяем нормальность распределения ЗП\n",
    "\n",
    "print('Для L компаний:')             # выводим заголовок для \n",
    "result = stats.shapiro(l_data)       # тестируем НД на нормальность распределения НД\n",
    "decision_normality(result[1])        # определяем нормальность распределения ЗП"
   ]
  },
  {
   "cell_type": "markdown",
   "metadata": {},
   "source": [
    "**Выбираем подходящий статистический тест**\n",
    "\n",
    "Для этого ответим на следующие вопросы:  \n",
    "\n",
    "Для выбора нужного теста воспользуемся алгоритмом выбора теста. Для этого ответим на следующие вопросы:\n",
    "* Какой тип у признака «Заработная плата в долларах»? — Количественный.\n",
    "* Сколько сравниваемых групп? — три.\n",
    "* Группы зависимы? — Нет.\n",
    "* Признак распределён по нормальному закону? — Нет. \n",
    "\n",
    "Для проверки нашей гипотезы можно использовать критерий Краскела — Уоллиса.\n",
    "\n",
    "**Проведем тест**"
   ]
  },
  {
   "cell_type": "code",
   "execution_count": 110,
   "metadata": {},
   "outputs": [
    {
     "name": "stdout",
     "output_type": "stream",
     "text": [
      "p-value = 0.000\n",
      "p-значение меньше, чем заданный уровень значимости 0.05. Отвергаем нулевую гипотезу в пользу альтернативной.\n"
     ]
    }
   ],
   "source": [
    "# проводим тест\n",
    "_, p = stats.kruskal(s_data, m_data, l_data)      # проверяем статистическую значимость\n",
    "decision_hypothesis(p)                            # проверяем гипотезы на приемлимость"
   ]
  },
  {
   "cell_type": "markdown",
   "metadata": {},
   "source": [
    "**Вывод**\n",
    "\n",
    "Зрабаботная плата специалистов DS в компаниях различных размерах различная. "
   ]
  },
  {
   "cell_type": "markdown",
   "metadata": {},
   "source": [
    "### Есть ли связь между наличием должностей Data Scientist и Data Engineer и размером компании?"
   ]
  },
  {
   "cell_type": "markdown",
   "metadata": {},
   "source": [
    "**Сформулируем нулевую и альтернативную гипотезы**"
   ]
  },
  {
   "cell_type": "markdown",
   "metadata": {},
   "source": [
    "*Нулевая гипотеза*: связь между наличием должностей Data Scientist и Data Engineer и размером компании отсутствует.  \n",
    "*Альтернативная гипотеза*: между наличием должностей Data Scientist и Data Engineer и размером компании существует взаимосвязь."
   ]
  },
  {
   "cell_type": "markdown",
   "metadata": {},
   "source": [
    "**Выбираем подходящий статистический тест**"
   ]
  },
  {
   "cell_type": "markdown",
   "metadata": {},
   "source": [
    "Для выбора нужного теста воспользуемся алгоритмом выбора теста. Для этого ответим на следующие вопросы:\n",
    "* Какой тип у признака «Размер компании»? — Категориальный.\n",
    "* Сколько сравниваемых групп? — три.\n",
    "* Проверяется независимость групп? — Да.\n",
    "\n",
    "Для проверки нашей гипотезы можно использовать критерий ${\\chi}^2$ (хи-квадрат).\n",
    "\n",
    "**Проведём тест**"
   ]
  },
  {
   "cell_type": "code",
   "execution_count": 111,
   "metadata": {},
   "outputs": [
    {
     "data": {
      "text/html": [
       "<div>\n",
       "<style scoped>\n",
       "    .dataframe tbody tr th:only-of-type {\n",
       "        vertical-align: middle;\n",
       "    }\n",
       "\n",
       "    .dataframe tbody tr th {\n",
       "        vertical-align: top;\n",
       "    }\n",
       "\n",
       "    .dataframe thead th {\n",
       "        text-align: right;\n",
       "    }\n",
       "</style>\n",
       "<table border=\"1\" class=\"dataframe\">\n",
       "  <thead>\n",
       "    <tr style=\"text-align: right;\">\n",
       "      <th>company_size</th>\n",
       "      <th>L</th>\n",
       "      <th>M</th>\n",
       "      <th>S</th>\n",
       "    </tr>\n",
       "    <tr>\n",
       "      <th>job_title</th>\n",
       "      <th></th>\n",
       "      <th></th>\n",
       "      <th></th>\n",
       "    </tr>\n",
       "  </thead>\n",
       "  <tbody>\n",
       "    <tr>\n",
       "      <th>Data Engineer</th>\n",
       "      <td>37</td>\n",
       "      <td>89</td>\n",
       "      <td>6</td>\n",
       "    </tr>\n",
       "    <tr>\n",
       "      <th>Data Scientist</th>\n",
       "      <td>45</td>\n",
       "      <td>77</td>\n",
       "      <td>21</td>\n",
       "    </tr>\n",
       "  </tbody>\n",
       "</table>\n",
       "</div>"
      ],
      "text/plain": [
       "company_size     L   M   S\n",
       "job_title                 \n",
       "Data Engineer   37  89   6\n",
       "Data Scientist  45  77  21"
      ]
     },
     "execution_count": 111,
     "metadata": {},
     "output_type": "execute_result"
    }
   ],
   "source": [
    "# составляем таблицу сопряжённости\n",
    "cross_table = pd.crosstab(dse_data['job_title'], dse_data['company_size'])\n",
    "# выводим таблицу сопряженности\n",
    "cross_table"
   ]
  },
  {
   "cell_type": "code",
   "execution_count": 112,
   "metadata": {},
   "outputs": [
    {
     "name": "stdout",
     "output_type": "stream",
     "text": [
      "p-value = 0.008\n",
      "p-значение меньше, чем заданный уровень значимости 0.05. Отвергаем нулевую гипотезу в пользу альтернативной.\n"
     ]
    }
   ],
   "source": [
    "# проводим тест\n",
    "_, p, _, _ = stats.chi2_contingency(cross_table)   # определяем статистическую значимость\n",
    "decision_hypothesis(p)                             # проверяем гипотезы на приемлимость"
   ]
  },
  {
   "cell_type": "markdown",
   "metadata": {},
   "source": [
    "**Вывод**\n",
    "\n",
    "Между наличием должностей Data Scientist и Data Engineer и размером компании существует статистически значимая связь."
   ]
  },
  {
   "cell_type": "markdown",
   "metadata": {},
   "source": [
    "## Итоговые результаты исследования"
   ]
  },
  {
   "cell_type": "markdown",
   "metadata": {},
   "source": [
    "* Наблюдается ежегодный рост заработной платы специалистов DS.\n",
    "* Нет оснований утверждать, что заработная плата специалистов DS оличается заработной платы специалистов DE в 2022 году.\n",
    "* Зрабаботная плата специалистов DS в компаниях различных размерах различная.\n",
    "* Наличие должностей Data Scientist и Data Engineer и размеры компаний взаимосвязаны."
   ]
  },
  {
   "cell_type": "markdown",
   "metadata": {},
   "source": [
    "## Дополнительные исследования"
   ]
  },
  {
   "cell_type": "markdown",
   "metadata": {},
   "source": [
    "В качестве дополнительного исследования дадим ответы на следующие вопросы:\n",
    "1. Существует ли связь между наличием должностей с квалификацией Senior-level/Expert и Executive-level/Director и размером компании?\n",
    "2. Отличается ли заработная плата специалистов в России и Индии?"
   ]
  },
  {
   "cell_type": "markdown",
   "metadata": {},
   "source": [
    "### Описательный анализ данных"
   ]
  },
  {
   "cell_type": "markdown",
   "metadata": {},
   "source": [
    "#### Определяем связь между наличием должностей с квалификацией SE и EX и размером компании"
   ]
  },
  {
   "cell_type": "code",
   "execution_count": 117,
   "metadata": {},
   "outputs": [
    {
     "data": {
      "image/png": "[encoded data removed]",
      "text/plain": [
       "<Figure size 640x480 with 1 Axes>"
      ]
     },
     "metadata": {},
     "output_type": "display_data"
    }
   ],
   "source": [
    "# выбираем данные по специалистам  с квалификацией SE и EX\n",
    "se_mask = cl_data['experience_level'] == 'SE'  # маска для специалистов SE\n",
    "ex_mask = cl_data['experience_level'] == 'EX'  # маска для специалистов EX\n",
    "ex_data = cl_data[se_mask | ex_mask]           # формируем НД для спецов с квалификацией SE и EX\n",
    "# строим столбчатую диаграмму для количества спецов уровня SE и EX в зависимости от размера компании \n",
    "ax = sns.countplot(data=ex_data, x=data['company_size'], hue='company_size')\n",
    "ax.set(xlabel='Размер компании', ylabel='Количество')\n",
    "plt.title('Количество специалистов DS и DE в зависимости от размера компании')\n",
    "plt.show()"
   ]
  },
  {
   "cell_type": "markdown",
   "metadata": {},
   "source": [
    "В компаниях различных размеров различное количество рабочих мест для специалистов уровня DS и DE. Статистическую значимость различий определим в следующем разделе при проведении статистического теста."
   ]
  },
  {
   "cell_type": "markdown",
   "metadata": {},
   "source": [
    "#### Определяем отличие зарплат специалистов DS в России и Индии"
   ]
  },
  {
   "cell_type": "code",
   "execution_count": 114,
   "metadata": {},
   "outputs": [
    {
     "data": {
      "image/png": "[encoded data removed]",
      "text/plain": [
       "<Figure size 640x480 with 1 Axes>"
      ]
     },
     "metadata": {},
     "output_type": "display_data"
    }
   ],
   "source": [
    "# готовим выборку специалистов DS из России и Индии\n",
    "ru_mask = cl_data['employee_residence'] == 'RU'   # маска для выборки специалистов DS из России\n",
    "in_mask = cl_data['employee_residence'] == 'IN'   # маска для выборки специалистов DS из Индии\n",
    "dsri_data = cl_data[ru_mask | in_mask ]           # получили интересующую нас выборку\n",
    "# строим распределение заработной платы в зависимости от страны проживания\n",
    "ax = sns.boxplot(dsri_data, x='salary_in_usd', y='employee_residence', orient='h', medianprops={\"color\": \"red\", \"linestyle\": '--'})\n",
    "ax.set(xlabel='Размер заработной платы', ylabel='Страна проживания')\n",
    "plt.title('Распределение заработной платы в зависимости от страны проживаания')\n",
    "plt.show()"
   ]
  },
  {
   "cell_type": "code",
   "execution_count": 115,
   "metadata": {},
   "outputs": [
    {
     "name": "stdout",
     "output_type": "stream",
     "text": [
      "Зарплата специалистов в России и Индии\n"
     ]
    },
    {
     "data": {
      "text/html": [
       "<div>\n",
       "<style scoped>\n",
       "    .dataframe tbody tr th:only-of-type {\n",
       "        vertical-align: middle;\n",
       "    }\n",
       "\n",
       "    .dataframe tbody tr th {\n",
       "        vertical-align: top;\n",
       "    }\n",
       "\n",
       "    .dataframe thead th {\n",
       "        text-align: right;\n",
       "    }\n",
       "</style>\n",
       "<table border=\"1\" class=\"dataframe\">\n",
       "  <thead>\n",
       "    <tr style=\"text-align: right;\">\n",
       "      <th></th>\n",
       "      <th>count</th>\n",
       "      <th>mean</th>\n",
       "      <th>std</th>\n",
       "      <th>min</th>\n",
       "      <th>25%</th>\n",
       "      <th>50%</th>\n",
       "      <th>75%</th>\n",
       "      <th>max</th>\n",
       "    </tr>\n",
       "    <tr>\n",
       "      <th>employee_residence</th>\n",
       "      <th></th>\n",
       "      <th></th>\n",
       "      <th></th>\n",
       "      <th></th>\n",
       "      <th></th>\n",
       "      <th></th>\n",
       "      <th></th>\n",
       "      <th></th>\n",
       "    </tr>\n",
       "  </thead>\n",
       "  <tbody>\n",
       "    <tr>\n",
       "      <th>IN</th>\n",
       "      <td>30.0</td>\n",
       "      <td>37322.33</td>\n",
       "      <td>43741.19</td>\n",
       "      <td>5409.0</td>\n",
       "      <td>16397.0</td>\n",
       "      <td>22124.0</td>\n",
       "      <td>38812.75</td>\n",
       "      <td>200000.0</td>\n",
       "    </tr>\n",
       "    <tr>\n",
       "      <th>RU</th>\n",
       "      <td>4.0</td>\n",
       "      <td>105750.00</td>\n",
       "      <td>84255.07</td>\n",
       "      <td>48000.0</td>\n",
       "      <td>57000.0</td>\n",
       "      <td>72500.0</td>\n",
       "      <td>121250.00</td>\n",
       "      <td>230000.0</td>\n",
       "    </tr>\n",
       "  </tbody>\n",
       "</table>\n",
       "</div>"
      ],
      "text/plain": [
       "                    count       mean       std      min      25%      50%  \\\n",
       "employee_residence                                                          \n",
       "IN                   30.0   37322.33  43741.19   5409.0  16397.0  22124.0   \n",
       "RU                    4.0  105750.00  84255.07  48000.0  57000.0  72500.0   \n",
       "\n",
       "                          75%       max  \n",
       "employee_residence                       \n",
       "IN                   38812.75  200000.0  \n",
       "RU                  121250.00  230000.0  "
      ]
     },
     "execution_count": 115,
     "metadata": {},
     "output_type": "execute_result"
    }
   ],
   "source": [
    "# получаем статистическую информацию по зарплате для Росии и Индии \n",
    "data_agg = dsri_data.groupby('employee_residence')['salary_in_usd'].describe().round(2) # группируем по стране проживания\n",
    "print('Зарплата специалистов в России и Индии')                                         # выводим заголовок информации\n",
    "data_agg                                                                                # выводим информацию"
   ]
  },
  {
   "cell_type": "markdown",
   "metadata": {},
   "source": [
    "Заработная плата у специалистов в России выше заработной платы специалистов в Индии. Статистическую значимость различий определим в следующем разделе при проведении статистического теста."
   ]
  },
  {
   "cell_type": "markdown",
   "metadata": {},
   "source": [
    "### Статистический анализ данных"
   ]
  },
  {
   "cell_type": "markdown",
   "metadata": {},
   "source": [
    "#### Существует ли связь между наличием должностей с квалификацией Senior-level/Expert и Executive-level/Director и размером компании?"
   ]
  },
  {
   "cell_type": "markdown",
   "metadata": {},
   "source": [
    "**Сформулируем нулевую и альтернативную гипотезы**\n",
    "\n",
    "*Нулевая гипотеза*: связь между наличием должностей c квалификацией SE и EX и размером компании отсутствует.  \n",
    "*Альтернативная гипотеза*: между наличием должностей с квалификацией SE и EX и размером компании существует взаимосвязь.\n",
    "\n",
    "**Выбираем подходящий статистический тест**\n",
    "\n",
    "Для выбора нужного теста воспользуемся алгоритмом выбора теста. Для этого ответим на следующие вопросы:\n",
    "* Какой тип у признака «Размер компании»? — Категориальный.\n",
    "* Сколько сравниваемых групп? — три.\n",
    "* Проверяется независимость групп? — Да.\n",
    "\n",
    "Для проверки нашей гипотезы можно использовать критерий ${\\chi}^2$ (хи-квадрат).\n",
    "\n",
    "**Проведём тест**"
   ]
  },
  {
   "cell_type": "code",
   "execution_count": 119,
   "metadata": {},
   "outputs": [
    {
     "data": {
      "text/html": [
       "<div>\n",
       "<style scoped>\n",
       "    .dataframe tbody tr th:only-of-type {\n",
       "        vertical-align: middle;\n",
       "    }\n",
       "\n",
       "    .dataframe tbody tr th {\n",
       "        vertical-align: top;\n",
       "    }\n",
       "\n",
       "    .dataframe thead th {\n",
       "        text-align: right;\n",
       "    }\n",
       "</style>\n",
       "<table border=\"1\" class=\"dataframe\">\n",
       "  <thead>\n",
       "    <tr style=\"text-align: right;\">\n",
       "      <th>company_size</th>\n",
       "      <th>L</th>\n",
       "      <th>M</th>\n",
       "      <th>S</th>\n",
       "    </tr>\n",
       "    <tr>\n",
       "      <th>experience_level</th>\n",
       "      <th></th>\n",
       "      <th></th>\n",
       "      <th></th>\n",
       "    </tr>\n",
       "  </thead>\n",
       "  <tbody>\n",
       "    <tr>\n",
       "      <th>EX</th>\n",
       "      <td>11</td>\n",
       "      <td>12</td>\n",
       "      <td>3</td>\n",
       "    </tr>\n",
       "    <tr>\n",
       "      <th>SE</th>\n",
       "      <td>72</td>\n",
       "      <td>186</td>\n",
       "      <td>22</td>\n",
       "    </tr>\n",
       "  </tbody>\n",
       "</table>\n",
       "</div>"
      ],
      "text/plain": [
       "company_size       L    M   S\n",
       "experience_level             \n",
       "EX                11   12   3\n",
       "SE                72  186  22"
      ]
     },
     "execution_count": 119,
     "metadata": {},
     "output_type": "execute_result"
    }
   ],
   "source": [
    "# составляем таблицу сопряжённости\n",
    "cross_table = pd.crosstab(ex_data['experience_level'], ex_data['company_size'])\n",
    "# выводим таблицу сопряженности\n",
    "cross_table"
   ]
  },
  {
   "cell_type": "code",
   "execution_count": 120,
   "metadata": {},
   "outputs": [
    {
     "name": "stdout",
     "output_type": "stream",
     "text": [
      "p-value = 0.115\n",
      "p-значение больше, чем заданный уровень значимости 0.05. У нас нет оснований отвергнуть нулевую гипотезу.\n"
     ]
    }
   ],
   "source": [
    "# проводим тест\n",
    "_, p, _, _ = stats.chi2_contingency(cross_table)  # определяем статистическую значимость\n",
    "decision_hypothesis(p)                            # проверяем гипотезы на приемлимость"
   ]
  },
  {
   "cell_type": "markdown",
   "metadata": {},
   "source": [
    "**Вывод**\n",
    "\n",
    "Не существует статистически значимой связи между уровнем квалификации специалистов SE и EX и размеролм компании."
   ]
  },
  {
   "cell_type": "markdown",
   "metadata": {},
   "source": [
    "#### Отличается ли заработная плата специалистов в России и Индии?"
   ]
  },
  {
   "cell_type": "markdown",
   "metadata": {},
   "source": [
    "**Сформулируем нулевую и альтернативную гипотезы**\n",
    "\n",
    "Нулевая гипотеза: зарплаты у специалистов в России ($\\mu_1$) не отличается от зарплаты специлистов в Индии ($\\mu_2$).  \n",
    "$$H_0: \\mu_1 = \\mu_2$$  \n",
    "Альтернативная гипотеза: зарплаты у специалистов в России ($\\mu_1$) отличается от зарплаты специалистов в Индии ($\\mu_2$). \n",
    "$$H_1: \\mu_1 \\neq \\mu_2$$ \n",
    "\n",
    "**Проверка признакка на нормальность**  \n",
    "Спомощью теста Шапиро-Уилка проверим, распределен ли признак нормально."
   ]
  },
  {
   "cell_type": "code",
   "execution_count": 160,
   "metadata": {},
   "outputs": [
    {
     "name": "stdout",
     "output_type": "stream",
     "text": [
      "Для России:\n",
      "p-value = 0.077\n",
      "p-значение больше, чем заданный уровень значимости 0.05. Распределение является нормальным\n",
      "Для Индии:\n",
      "p-value = 0.000\n",
      "p-значение меньше, чем заданный уровень значимости 0.05. Распределение отлично от нормального\n"
     ]
    }
   ],
   "source": [
    "# значения заработной платы по странам проживания\n",
    "dsr = dsri_data.loc[dsri_data['employee_residence']=='RU', 'salary_in_usd']\n",
    "dsi = dsri_data.loc[dsri_data['employee_residence']=='IN', 'salary_in_usd']\n",
    "\n",
    "# проводим тест Шапиро-Уилка\n",
    "print('Для России:')                # выводим заголовок для России\n",
    "result = stats.shapiro(dsr)         # тестируем НД по Росии на нормальность распределения ЗП\n",
    "decision_normality(result[1])       # определяем нормальность распределения ЗП\n",
    "\n",
    "print('Для Индии:')                 # выводим заголовок для Индии\n",
    "result = stats.shapiro(dsi)         # тестируем НД по Индии на нормальность распределения ЗП\n",
    "decision_normality(result[1])       # определяем нормальность распределения ЗП"
   ]
  },
  {
   "cell_type": "markdown",
   "metadata": {},
   "source": [
    "**Выбираем подходящий статистический тест**\n",
    "\n",
    "Для этого ответим на следующие вопросы:  \n",
    "\n",
    "Для выбора нужного теста воспользуемся алгоритмом выбора теста. Для этого ответим на следующие вопросы:\n",
    "* Какой тип у признака «Заработная плата в долларах»? — Количественный.\n",
    "* Сколько сравниваемых групп? — две.\n",
    "* Группы зависимы? — Нет.\n",
    "* Признак распределён по нормальному закону? — Нет. \n",
    "\n",
    "Для проверки нашей гипотезы можно использовать U-критерий Манна — Уитни.\n",
    "\n",
    "**Проведем тест**"
   ]
  },
  {
   "cell_type": "code",
   "execution_count": 123,
   "metadata": {},
   "outputs": [
    {
     "name": "stdout",
     "output_type": "stream",
     "text": [
      "p-value = 0.015\n",
      "p-значение меньше, чем заданный уровень значимости 0.05. Отвергаем нулевую гипотезу в пользу альтернативной.\n"
     ]
    }
   ],
   "source": [
    "# проводим тест\n",
    "_, p = stats.mannwhitneyu(dsr, dsi, alternative='two-sided')  # определяем статистическую значимость\n",
    "decision_hypothesis(p)                                        # проверяем гипотезы на приемлимость"
   ]
  },
  {
   "cell_type": "markdown",
   "metadata": {},
   "source": [
    "**Вывод**\n",
    "\n",
    "Заработная плата специалистов в России отличаетсят от заработной платы специалистов в Индии."
   ]
  },
  {
   "cell_type": "markdown",
   "metadata": {},
   "source": [
    "### Итоговые выводы по дополнительным исследованиям"
   ]
  },
  {
   "cell_type": "markdown",
   "metadata": {},
   "source": [
    "* Уровень квалификации специалистов SE и EX не связан с наличием рабочих мест для них в компаниях разных размеров.\n",
    "* Заработная плата специалистов в России выше заработной платы специалистов в Индии."
   ]
  }
 ],
 "metadata": {
  "kernelspec": {
   "display_name": "Python 3",
   "language": "python",
   "name": "python3"
  },
  "language_info": {
   "codemirror_mode": {
    "name": "ipython",
    "version": 3
   },
   "file_extension": ".py",
   "mimetype": "text/x-python",
   "name": "python",
   "nbconvert_exporter": "python",
   "pygments_lexer": "ipython3",
   "version": "3.12.2"
  }
 },
 "nbformat": 4,
 "nbformat_minor": 2
}
