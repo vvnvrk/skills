{
 "cells": [
  {
   "cell_type": "markdown",
   "metadata": {},
   "source": [
    "## <center>Соединения таблиц<center>"
   ]
  },
  {
   "cell_type": "markdown",
   "metadata": {},
   "source": [
    "### <center>Знакомимся с данными<center>"
   ]
  },
  {
   "cell_type": "markdown",
   "metadata": {},
   "source": [
    "Сколько различных полных названий команд в таблице teams?\n",
    "\n",
    "*Запрос:*\n",
    "\n",
    "**SELECT COUNT**(**DISTINCT** long_name)  \n",
    "**FROM** sql.teams  \n",
    "\n",
    "296"
   ]
  },
  {
   "cell_type": "markdown",
   "metadata": {},
   "source": [
    "Сколько в таблице teams команд с коротким названием VAL?\n",
    "\n",
    "*Запрос:*\n",
    "\n",
    "**SELECT COUNT**(short_name)  \n",
    "**FROM** sql.teams  \n",
    "**WHERE** short_name = 'VAL'  \n",
    "\n",
    "3"
   ]
  },
  {
   "cell_type": "markdown",
   "metadata": {},
   "source": [
    "Информацию о скольких матчах содержит таблица matches?\n",
    "\n",
    "*Запрос:*\n",
    "\n",
    "**SELECT COUNT**(*)  \n",
    "**FROM** sql.matches\n",
    "\n",
    "25083"
   ]
  },
  {
   "cell_type": "markdown",
   "metadata": {},
   "source": [
    "Данные за какие сезоны даны в таблице matches?\n",
    "\n",
    "*Запрос:*\n",
    "\n",
    "**SELECT** season  \n",
    "**FROM** sql.matches  \n",
    "**ORDER BY** season  \n",
    "\n",
    "2008/2009\n",
    "\n",
    "**SELECT** season  \n",
    "**FROM** sql.matches  \n",
    "**ORDER BY** season **DESC**\n",
    "\n",
    "2015/2016"
   ]
  },
  {
   "cell_type": "markdown",
   "metadata": {},
   "source": [
    "Напишите запрос, который выведет сезон (season), а также общее количество забитых мячей домашними (total_home_goals) и гостевыми (total_away_goals) командами. Отсортируйте по столбцу с сезоном в порядке возрастания.\n",
    "\n",
    "*Запрос:*\n",
    "\n",
    "**SELECT**  \n",
    "&ensp;&ensp;&ensp;&ensp;season,  \n",
    "&ensp;&ensp;&ensp;&ensp;**SUM**(home_team_goals) **AS** total_home_goals,  \n",
    "&ensp;&ensp;&ensp;&ensp;**SUM**(away_team_goals) **AS** total_away_goals  \n",
    "**FROM** sql.matches  \n",
    "**GROUP BY** season  \n",
    "**ORDER BY** season"
   ]
  },
  {
   "cell_type": "markdown",
   "metadata": {},
   "source": [
    "### <center>Соединение таблиц по ключу<center>"
   ]
  },
  {
   "cell_type": "markdown",
   "metadata": {},
   "source": [
    "Чтобы соединить две таблицы между собой, достаточно записать названия таблиц через запятую в разделе from.\n",
    "\n",
    "*Запрос:*\n",
    "\n",
    "**SELECT** *  \n",
    "**FROM**  \n",
    "&ensp;&ensp;&ensp;&ensp;sql.teams,  \n",
    "&ensp;&ensp;&ensp;&ensp;sql.matches\n",
    "\n",
    "Каждая запись, которая есть в таблице teams, будет соединена с каждой записью в таблице matches.\n",
    "Это действие также называют декартовым произведением таблиц.\n",
    "\n",
    "![](images/decart.png)  \n",
    "\n",
    "В данном случае соединение таблиц не даёт практической пользы: мы получили очень много записей, которые никак не можем интерпретировать, потому что команды не соответствуют матчам."
   ]
  },
  {
   "cell_type": "markdown",
   "metadata": {},
   "source": [
    "Напишите запрос, который выведет количество строк соединённой таблицы.\n",
    "\n",
    "*Запрос:*\n",
    "\n",
    "**SELECT COUNT**(*)  \n",
    "**FROM**  \n",
    "&ensp;&ensp;&ensp;&ensp;sql.teams,  \n",
    "&ensp;&ensp;&ensp;&ensp;sql.matches  \n",
    "\n",
    "7499817    "
   ]
  },
  {
   "cell_type": "markdown",
   "metadata": {},
   "source": [
    "**Ключ** — это поле (столбец) в таблице, которое позволяет однозначно идентифицировать запись (строку).  \n",
    "Чтобы соединить таблицы и получить данные о домашней команде по каждому матчу, добавим условие\n",
    "where home_team_api_id = api_id.\n",
    "\n",
    "*Запрос:*\n",
    "\n",
    "**SELECT** *  \n",
    "**FROM**  \n",
    "&ensp;&ensp;&ensp;&ensp;sql.teams,  \n",
    "&ensp;&ensp;&ensp;&ensp;sql.matches  \n",
    "**WHERE** home_team_api_id = api_id"
   ]
  },
  {
   "cell_type": "markdown",
   "metadata": {},
   "source": [
    "Напишите запрос, который выведет таблицу с результатами матчей для гостевых команд, содержащую:\n",
    "\n",
    "* названия гостевых команд (long_name),  \n",
    "* количество забитых мячей домашней команды (home_team_goals),  \n",
    "* количество забитых мячей гостевой команды (away_team_goals).  \n",
    "\n",
    "*Запрос:*\n",
    "\n",
    "**SELECT**  \n",
    "&ensp;&ensp;&ensp;&ensp;long_name,  \n",
    "&ensp;&ensp;&ensp;&ensp;home_team_goals,  \n",
    "&ensp;&ensp;&ensp;&ensp;away_team_goals  \n",
    "**FROM**  \n",
    "&ensp;&ensp;&ensp;&ensp;sql.teams,  \n",
    "&ensp;&ensp;&ensp;&ensp;sql.matches  \n",
    "**WHERE** away_team_api_id = api_id"
   ]
  },
  {
   "cell_type": "markdown",
   "metadata": {},
   "source": [
    "### <center>Соединение таблиц по условию<center>"
   ]
  },
  {
   "cell_type": "markdown",
   "metadata": {},
   "source": [
    "JOIN — это оператор SQL, который позволяет соединять таблицы по условию.\n",
    "\n",
    "*Запрос:*\n",
    "\n",
    "**SELECT**  \n",
    "&ensp;&ensp;&ensp;&ensp;long_name,  \n",
    "&ensp;&ensp;&ensp;&ensp;home_team_goals,  \n",
    "&ensp;&ensp;&ensp;&ensp;away_team_goals  \n",
    "**FROM** sql.teams  \n",
    "**JOIN** sql.matches on home_team_api_id = api_id"
   ]
  },
  {
   "cell_type": "markdown",
   "metadata": {},
   "source": [
    "Выполните данный запрос\n",
    "\n",
    "**SELECT** *  \n",
    "**FROM**  \n",
    "&ensp;&ensp;&ensp;&ensp;sql.teams,  \n",
    "&ensp;&ensp;&ensp;&ensp;sql.matches  \n",
    "**WHERE** away_team_api_id = api_id  \n",
    "\n",
    "с использованием оператора JOIN, исключив оператор WHERE.\n",
    "\n",
    "*Запрос:*\n",
    "\n",
    "**SELECT** *  \n",
    "**FROM** sql.teams  \n",
    "**JOIN** sql.matches on away_team_api_id = api_id"
   ]
  },
  {
   "cell_type": "markdown",
   "metadata": {},
   "source": [
    "В таблицах, которые мы соединяем, могут быть одинаковые названия столбцов. К примеру, столбец id есть и в таблице matches, и в таблице teams. Такой запрос не будет обработан. Что же делать в таком случае? Можно указать, откуда мы хотим запросить данные, записав название таблицы перед столбцом через точку.  \n",
    "\n",
    "*Запрос:*\n",
    "\n",
    "**SELECT** teams.id  \n",
    "**FROM** sql.teams  \n",
    "**JOIN** sql.matches **ON** home_team_api_id = api_id"
   ]
  },
  {
   "cell_type": "markdown",
   "metadata": {},
   "source": [
    "Зачастую названия таблиц слишком длинные, так что использовать их неудобно. Упростить обращение к различным таблицам можно, присвоив им сокращённые названия — алиасы (от англ. alias). Синтаксис для указания алиаса такой же, как и для названия столбца. \n",
    "Синтаксис для указания алиаса такой же, как и для названия столбца.  \n",
    "\n",
    "**SELECT**  \n",
    "&ensp;&ensp;&ensp;&ensp;столбец1,  \n",
    "&ensp;&ensp;&ensp;&ensp;столбец2,  \n",
    "&ensp;&ensp;&ensp;&ensp;...  \n",
    "**FROM**  \n",
    "&ensp;&ensp;&ensp;&ensp;таблица1 **AS** короткое_название_1  \n",
    "**JOIN** таблица2 **AS** короткое_название_2 **ON** условие  \n",
    "\n",
    "Название записывается без пробелов и операторов. Если необходимо записать название, в котором используются пробелы (\"table 1\"), то алиас можно обернуть в кавычки.  \n",
    "**Важно!** Обращаться по такому алиасу придётся также с помощью кавычек.  \n",
    "\n",
    "**SELECT**  \n",
    "&ensp;&ensp;&ensp;&ensp;\"table 1\".столбец1,  \n",
    "&ensp;&ensp;&ensp;&ensp;\"table 2\".столбец2,  \n",
    "&ensp;&ensp;&ensp;&ensp;...  \n",
    "**FROM**  \n",
    "&ensp;&ensp;&ensp;&ensp;таблица1 **AS** \"table 1\"  \n",
    "**JOIN** таблица2 **AS** \"table 2\" **ON** условие    \n",
    "\n",
    "Использование таких алиасов считается плохой практикой как минимум по причине того, что обращаться с такими алиасами неудобно. Вместо алиасов с кавычками рекомендуется давать простое короткое название на латинице, без специальных символов и пробелов. Если таблиц немного и все названия начинаются с разных букв, можно присваивать алиасы по первой букве. Ключевое слово as, как и в названии столбца, можно опустить в большинстве СУБД.  \n",
    "\n",
    "**SELECT**  \n",
    "&ensp;&ensp;&ensp;&ensp;столбец1 новое_название_столбца,  \n",
    "&ensp;&ensp;&ensp;&ensp;столбец2 новое_название_столбца,  \n",
    "&ensp;&ensp;&ensp;&ensp;...  \n",
    "**FROM**  \n",
    "&ensp;&ensp;&ensp;&ensp;таблица1 короткое_название_1  \n",
    "**JOIN** таблица2 короткое_название_2 **ON** условие"
   ]
  },
  {
   "cell_type": "markdown",
   "metadata": {},
   "source": [
    "Напишите запрос, который выведет два столбца: id матча (match_id) и id домашней команды (team_id). Отсортируйте по id матча в порядке возрастания значений.  \n",
    "\n",
    "*Запрос:*\n",
    "\n",
    "**SELECT**  \n",
    "&ensp;&ensp;&ensp;&ensp;matches.id match_id,  \n",
    "&ensp;&ensp;&ensp;&ensp;teams.id team_id  \n",
    "**FROM** sql.teams  \n",
    "**JOIN** sql.matches **ON** home_team_api_id = api_id  \n",
    "**ORDER BY** match_id"
   ]
  },
  {
   "cell_type": "markdown",
   "metadata": {},
   "source": [
    "Давайте с помощью запроса SQL получим таблицу, содержащую:\n",
    "\n",
    "* название домашней команды;\n",
    "* количество забитых домашней командой голов;\n",
    "* количество забитых гостевой командой голов;\n",
    "* название гостевой команды.  \n",
    "\n",
    "*Запрос:*\n",
    "\n",
    "**SELECT**  \n",
    "&ensp;&ensp;&ensp;&ensp;h.long_name \"домашняя команда\",  \n",
    "&ensp;&ensp;&ensp;&ensp;m.home_team_goals \"голы домашней команды\",  \n",
    "&ensp;&ensp;&ensp;&ensp;m.away_team_goals \"голы гостевой команды\",  \n",
    "&ensp;&ensp;&ensp;&ensp;a.long_name \"гостевая команда\"   \n",
    "**FROM**  \n",
    "&ensp;&ensp;&ensp;&ensp;sql.matches m  \n",
    "**JOIN** sql.teams h **ON** m.home_team_api_id = h.api_id  \n",
    "**JOIN** sql.teams a **ON** m.away_team_api_id = a.api_id"
   ]
  },
  {
   "cell_type": "markdown",
   "metadata": {},
   "source": [
    "Напишите запрос, который выведет столбцы:\n",
    "\n",
    "* id матча,  \n",
    "* короткое название домашней команды (home_short),  \n",
    "* короткое название гостевой команды (away_short).  \n",
    "\n",
    "Отсортируйте запрос по возрастанию id матча.  \n",
    "\n",
    "*Запрос:*\n",
    "\n",
    "**SELECT**  \n",
    "&ensp;&ensp;&ensp;&ensp;m.id,  \n",
    "&ensp;&ensp;&ensp;&ensp;h.short_name home_short,  \n",
    "&ensp;&ensp;&ensp;&ensp;a.short_name away_short  \n",
    "**FROM** sql.matches m  \n",
    "**JOIN** sql.teams h **ON** m.home_team_api_id = h.api_id  \n",
    "**JOIN** sql.teams a **ON** m.away_team_api_id = a.api_id"
   ]
  },
  {
   "cell_type": "markdown",
   "metadata": {},
   "source": [
    "### <center>Фильтрация и агрегатные функции для объединенных таблиц<center>"
   ]
  },
  {
   "cell_type": "markdown",
   "metadata": {},
   "source": [
    "Принципиальное отличие фильтрации данных по соединённым таблицам от аналогичного действия по одиночным таблицам заключается в том, что, фильтруя записи одной таблицы, мы также будем фильтровать и записи другой таблицы, поскольку соединённые на уровне запроса таблицы по сути являются единой таблицей.  \n",
    "\n",
    "**SELECT**  \n",
    "&ensp;&ensp;&ensp;&ensp;m.id  \n",
    "**FROM**  \n",
    "&ensp;&ensp;&ensp;&ensp;sql.teams t  \n",
    "&ensp;&ensp;&ensp;&ensp;**JOIN** sql.matches m **ON** m.away_team_api_id = t.api_id  \n",
    "**WHERE** long_name = 'Arsenal"
   ]
  },
  {
   "cell_type": "markdown",
   "metadata": {},
   "source": [
    "Напишите запрос, который выведет полное название домашней команды (long_name), количество голов домашней команды (home_goal) и количество голов гостевой команды (away_goal) в матчах, где домашней командой были команды с коротким названием 'GEN'. Отсортируйте запрос по id матча в порядке возрастания.\n",
    "\n",
    "*Запрос:*\n",
    "\n",
    "**SELECT**  \n",
    "&ensp;&ensp;&ensp;&ensp;t.long_name,  \n",
    "&ensp;&ensp;&ensp;&ensp;m.home_team_goals home_goal,  \n",
    "&ensp;&ensp;&ensp;&ensp;m.away_team_goals away_goal  \n",
    "**FROM**  \n",
    "&ensp;&ensp;&ensp;&ensp;sql.teams t  \n",
    "&ensp;&ensp;&ensp;&ensp;**JOIN** sql.matches m **ON** m.home_team_api_id = t.api_id  \n",
    "**WHERE** short_name = 'GEN'      \n",
    "**ORDER BY** m.id  "
   ]
  },
  {
   "cell_type": "markdown",
   "metadata": {},
   "source": [
    "Напишите запрос, чтобы вывести id матчей, короткое название домашней команды (home_short), короткое название гостевой команды (away_short) для матчей сезона 2011/2012, в которых участвовала команда с названием Liverpool. Отсортируйте по id матча в порядке возрастания  \n",
    "\n",
    "*Запрос:*\n",
    "\n",
    "**SELECT**  \n",
    "&ensp;&ensp;&ensp;&ensp;m.id,  \n",
    "&ensp;&ensp;&ensp;&ensp;h.short_name home_short,  \n",
    "&ensp;&ensp;&ensp;&ensp;a.short_name away_short  \n",
    "**FROM**  \n",
    "&ensp;&ensp;&ensp;&ensp;sql.matches m  \n",
    "&ensp;&ensp;&ensp;&ensp;**JOIN** sql.teams h ON h.api_id = m.home_team_api_id  \n",
    "&ensp;&ensp;&ensp;&ensp;**JOIN** sql.teams a ON a.api_id = m.away_team_api_id   \n",
    "**WHERE**  \n",
    "&ensp;&ensp;&ensp;&ensp;m.season = '2011/2012'  \n",
    "&ensp;&ensp;&ensp;&ensp;**AND** (h.long_name = 'Liverpool' OR a.long_name = 'Liverpool')  \n",
    "**ORDER** BY m.id"
   ]
  },
  {
   "cell_type": "markdown",
   "metadata": {},
   "source": [
    "К соединённым таблицам также применимы любые агрегатные функции — самые важные функции для анализа данных.  \n",
    "Например, мы можем вывести сумму голов матча, забитых командами, агрегированную по гостевым командам (совокупное количество голов в матче, забитых обеими командами, суммированное в разрезе гостевых команд).  \n",
    "\n",
    "*Запрос:*\n",
    "\n",
    "**SELECT**  \n",
    "&ensp;&ensp;&ensp;&ensp;t.long_name,  \n",
    "&ensp;&ensp;&ensp;&ensp;**SUM**(m.home_team_goals) + **SUM**(m.away_team_goals) match_goals  \n",
    "**FROM** \n",
    "&ensp;&ensp;&ensp;&ensp;sql.matches m  \n",
    "&ensp;&ensp;&ensp;&ensp;**JOIN** sql.teams t **ON** m.away_team_api_id = t.api_id  \n",
    "**GROUP BY** t.id"
   ]
  },
  {
   "cell_type": "markdown",
   "metadata": {},
   "source": [
    "Мы можем использовать оператор HAVING для фильтрации сгруппированных данных.  Поставим задачу — вывести таблицу с суммарным количеством забитых голов в матчах по командам и сезонам для команд, в которых суммарное количество голов в матчах сезона больше 100.  \n",
    "\n",
    "*Запрос:*\n",
    "\n",
    "**SELECT**  \n",
    "&ensp;&ensp;&ensp;&ensp;m.season,  \n",
    "&ensp;&ensp;&ensp;&ensp;t.long_name,  \n",
    "&ensp;&ensp;&ensp;&ensp;**SUM**(m.home_team_goals) + SUM(m.away_team_goals) total_goals  \n",
    "**FROM** sql.matches m  \n",
    "**JOIN** sql.teams t **ON** t.api_id = m.home_team_api_id **OR** t.api_id = m.away_team_api_id  \n",
    "**GROUP BY** m.season, t.id  \n",
    "**HAVING SUM**(m.home_team_goals) + **SUM**(m.away_team_goals) > 100"
   ]
  },
  {
   "cell_type": "markdown",
   "metadata": {},
   "source": [
    "Напишите запрос, с помощью которого можно вывести список полных названий команд, сыгравших в гостях 150 и более матчей. Отсортируйте список по названию команды.\n",
    "\n",
    "*Запрос:*\n",
    "\n",
    "**SELECT**  \n",
    "&ensp;&ensp;&ensp;&ensp;t.long_name  \n",
    "**FROM**  \n",
    "&ensp;&ensp;&ensp;&ensp;sql.teams t  \n",
    "&ensp;&ensp;&ensp;&ensp;**JOIN** sql.matches m **ON** m.away_team_api_id = t.api_id  \n",
    "**GROUP BY** t.id  \n",
    "**HAVING COUNT**(m.away_team_api_id) >= 150  \n",
    "**ORDER BY** t.long_name"
   ]
  },
  {
   "cell_type": "markdown",
   "metadata": {},
   "source": [
    "### <center>Операторы и способы соединения таблиц<center>"
   ]
  },
  {
   "cell_type": "markdown",
   "metadata": {},
   "source": [
    "#### <center>Оператор **INNER JOIN**<center>"
   ]
  },
  {
   "cell_type": "markdown",
   "metadata": {},
   "source": [
    "**INNER JOIN** — это тот же **JOIN** (слово inner в операторе можно опустить).  \n",
    "Для **INNER JOIN** работает следующее правило: присоединяются только те строки таблиц, которые удовлетворяют условию соединения. Если в любой из соединяемых таблиц находятся такие строки, которые не удовлетворяют заявленному условию, — они отбрасываются.  \n",
    "\n",
    "*Запром:*\n",
    "\n",
    "**SELECT **  \n",
    "&ensp;&ensp;&ensp;&ensp;**COUNT**(**DISTINCT** t.id)  \n",
    "**FROM**  \n",
    "&ensp;&ensp;&ensp;&ensp;sql.teams t  \n",
    "&ensp;&ensp;&ensp;&ensp;**JOIN** sql.matches m **ON** t.api_id = m.home_team_api_id **OR** t.api_id = m.away_team_api_id"
   ]
  },
  {
   "cell_type": "markdown",
   "metadata": {},
   "source": [
    "### <center>Операторы **LEFT OUTER JOIN** и **RIGHT OUTER JOIN**<center>"
   ]
  },
  {
   "cell_type": "markdown",
   "metadata": {},
   "source": [
    "Также существуют схожие друг с другом типы соединения — **LEFT JOIN** и **RIGHT JOIN** (слово outer в операторе можно опустить).  \n",
    "Для **LEFT JOIN** работает следующее правило: из левой (относительно оператора) таблицы сохраняются все строки, а из правой добавляются только те, которые соответствуют условию соединения. Если в правой таблице не находится соответствия, то значения строк второй таблицы будут иметь значение NULL."
   ]
  },
  {
   "cell_type": "markdown",
   "metadata": {},
   "source": [
    " Поставим следующую задачу: вывести полные названия команд, данных по которым нет в таблице matches.\n",
    "\n",
    " *Запрос:*\n",
    "\n",
    "**SELECT**  \n",
    "&ensp;&ensp;&ensp;&ensp;t.long_name,  \n",
    "&ensp;&ensp;&ensp;&ensp;m.id  \n",
    "**FROM** sql.teams t  \n",
    "**LEFT JOIN** sql.matches m **ON** t.api_id = m.home_team_api_id **OR** t.api_id = m.away_team_api_id  \n",
    "**ORDER BY** m.id **DESC**\n",
    "\n",
    "**Вывод:** в таблице teams сохранились все записи, а в таблице matches есть пустые строки.  \n",
    "Теперь, чтобы выбрать такие команды, которые не принимали участия в матчах, достаточно добавить условие *where m.id is null* (или любое другое поле таблицы matches).  \n",
    "\n",
    "*Запрос:*\n",
    "\n",
    "**SELECT**  \n",
    "&ensp;&ensp;&ensp;&ensp;t.long_name  \n",
    "**FROM**  \n",
    "&ensp;&ensp;&ensp;&ensp;sql.teams t  \n",
    "**LEFT JOIN** sql.matches m **ON** t.api_id = m.home_team_api_id **OR** t.api_id = m.away_team_api_id  \n",
    "**WHERE** m.id **IS NULL**\n",
    "\n",
    "**Обратите внимание!** Если мы добавим какой-либо фильтр по отличному от **NULL** значению для таблицы matches, то **LEFT JOIN** превратится в **INNER JOIN**, поскольку для второй таблицы станет необходимым присутствие такого (**NOT NULL**) значения в строке."
   ]
  },
  {
   "cell_type": "markdown",
   "metadata": {},
   "source": [
    "Используя **LEFT JOIN**, выведите список уникальных названий команд, содержащихся в таблице matches. Отсортируйте список в алфавитном порядке.  \n",
    "\n",
    "*Запрос:*\n",
    "\n"
   ]
  },
  {
   "cell_type": "markdown",
   "metadata": {},
   "source": [
    "Используя **LEFT JOIN**, выведите список уникальных названий команд, содержащихся в таблице matches. Отсортируйте список в алфавитном порядке. \n",
    "\n",
    "*Запрос:*\n",
    "\n",
    "**SELECT**  \n",
    "&ensp;&ensp;&ensp;&ensp;t.long_name,  \n",
    "&ensp;&ensp;&ensp;&ensp;**COUNT**(m.home_team_api_id) matches_cnt  \n",
    "**FROM**   \n",
    "&ensp;&ensp;&ensp;&ensp;sql.teams t  \n",
    "&ensp;&ensp;&ensp;&ensp;**LEFT JOIN** sql.matches m **ON** t.api_id = m.away_team_api_id **OR** t.api_id = m.home_team_api_id  \n",
    "**GROUP BY** t.id  \n",
    "**ORDER BY** matches_cnt, t.long_name"
   ]
  }
 ],
 "metadata": {
  "kernelspec": {
   "display_name": "Python 3.7.6 64-bit",
   "language": "python",
   "name": "python3"
  },
  "language_info": {
   "name": "python",
   "version": "3.7.6"
  },
  "orig_nbformat": 4,
  "vscode": {
   "interpreter": {
    "hash": "094479cf5e9d091b9dd22e3ee71edd94f1b69fd44b150db46cc29ddd6768aa2e"
   }
  }
 },
 "nbformat": 4,
 "nbformat_minor": 2
}
